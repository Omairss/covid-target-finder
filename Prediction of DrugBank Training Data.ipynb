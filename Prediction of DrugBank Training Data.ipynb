{
 "cells": [
  {
   "cell_type": "code",
   "execution_count": 1,
   "metadata": {
    "scrolled": true
   },
   "outputs": [
    {
     "data": {
      "text/plain": [
       "<module 'tensorflow' from '/miniconda/lib/python3.6/site-packages/tensorflow/__init__.py'>"
      ]
     },
     "execution_count": 1,
     "metadata": {},
     "output_type": "execute_result"
    }
   ],
   "source": [
    "import pickle as pkl\n",
    "\n",
    "import lxml\n",
    "import pandas as pd\n",
    "import numpy as np\n",
    "#import seaborn as sns\n",
    "import matplotlib.pyplot as plt\n",
    "import tensorflow.keras\n",
    "from tensorflow.keras.datasets import imdb\n",
    "\n",
    "\n",
    "from tqdm.notebook import tqdm\n",
    "\n",
    "from sklearn.metrics import confusion_matrix\n",
    "from sklearn.utils.multiclass import unique_labels\n",
    "from sklearn.metrics import f1_score\n",
    "\n",
    "from sklearn.model_selection import train_test_split\n",
    "\n",
    "from sklearn.preprocessing import LabelEncoder, OneHotEncoder\n",
    "from ast import literal_eval\n",
    "from sklearn.model_selection import train_test_split\n",
    "from sklearn.linear_model import LogisticRegression\n",
    "from sklearn.metrics import confusion_matrix, f1_score\n",
    "from tensorflow.keras.models import Sequential, Model\n",
    "from tensorflow.keras.layers import Input, Dense, Activation, Dropout, Conv1D, Flatten, MaxPooling1D,\\\n",
    "                        AveragePooling1D, Concatenate, LeakyReLU, Embedding,\\\n",
    "                        GlobalMaxPooling1D,GlobalAveragePooling1D,GaussianNoise,BatchNormalization,Add\n",
    "from tensorflow.keras.initializers import glorot_uniform\n",
    "#from tensorflow.keras.utils.vis_utils import plot_model\n",
    "\n",
    "import importlib\n",
    "importlib.reload(tensorflow)"
   ]
  },
  {
   "cell_type": "code",
   "execution_count": 2,
   "metadata": {},
   "outputs": [],
   "source": [
    "tqdm.pandas()"
   ]
  },
  {
   "cell_type": "code",
   "execution_count": 3,
   "metadata": {},
   "outputs": [],
   "source": [
    "import tensorflow as tf\n",
    "with tf.Session() as sess:\n",
    "    devices = sess.list_devices()"
   ]
  },
  {
   "cell_type": "code",
   "execution_count": 4,
   "metadata": {},
   "outputs": [],
   "source": [
    "import sys"
   ]
  },
  {
   "cell_type": "code",
   "execution_count": 5,
   "metadata": {},
   "outputs": [
    {
     "name": "stdout",
     "output_type": "stream",
     "text": [
      "/miniconda/bin/python: No module named list\r\n"
     ]
    }
   ],
   "source": [
    "!{sys.executable} -m list"
   ]
  },
  {
   "cell_type": "markdown",
   "metadata": {},
   "source": [
    "# Load Intermdetiate Processed Training data"
   ]
  },
  {
   "cell_type": "code",
   "execution_count": 16,
   "metadata": {},
   "outputs": [],
   "source": [
    "training_df = pd.read_csv('data/intermediate/interactions_preprocessed.csv')"
   ]
  },
  {
   "cell_type": "code",
   "execution_count": 17,
   "metadata": {
    "scrolled": true
   },
   "outputs": [
    {
     "data": {
      "text/html": [
       "<div>\n",
       "<style scoped>\n",
       "    .dataframe tbody tr th:only-of-type {\n",
       "        vertical-align: middle;\n",
       "    }\n",
       "\n",
       "    .dataframe tbody tr th {\n",
       "        vertical-align: top;\n",
       "    }\n",
       "\n",
       "    .dataframe thead th {\n",
       "        text-align: right;\n",
       "    }\n",
       "</style>\n",
       "<table border=\"1\" class=\"dataframe\">\n",
       "  <thead>\n",
       "    <tr style=\"text-align: right;\">\n",
       "      <th></th>\n",
       "      <th>drug_id</th>\n",
       "      <th>gene_id</th>\n",
       "      <th>drug_fingerprint_code</th>\n",
       "      <th>target_gene_code</th>\n",
       "      <th>Y</th>\n",
       "      <th>target_gene_encoded</th>\n",
       "      <th>drug_fingerprint_encoded</th>\n",
       "      <th>target_gene_encoded_len</th>\n",
       "      <th>drug_fingerprint_encoded_len</th>\n",
       "      <th>mismatch</th>\n",
       "      <th>target_gene_encoded_mismatch</th>\n",
       "      <th>drug_fingerprint_encoded_mismatch</th>\n",
       "      <th>target_gene_encoded_padded</th>\n",
       "      <th>drug_fingerprint_encoded_padded</th>\n",
       "    </tr>\n",
       "  </thead>\n",
       "  <tbody>\n",
       "    <tr>\n",
       "      <th>0</th>\n",
       "      <td>DB02704</td>\n",
       "      <td>BE0004010</td>\n",
       "      <td>2968968094 1824088295 2976033787 1228528465 29...</td>\n",
       "      <td>ATGCATTTAAATCCAGCAGAGAAAGAAAAATTACAAATTTTTCTAG...</td>\n",
       "      <td>0</td>\n",
       "      <td>[0 3 2 1 0 3 3 3 0 0 0 3 1 1 0 2 1 0 2 0 2 0 0...</td>\n",
       "      <td>[2, 9, 6, 8, 9, 6, 8, 0, 9, 4, 1, 8, 2, 4, 0, ...</td>\n",
       "      <td>303</td>\n",
       "      <td>916</td>\n",
       "      <td>-613</td>\n",
       "      <td>20919</td>\n",
       "      <td>8585</td>\n",
       "      <td>['-1', '-1', '-1', '-1', '-1', '-1', '-1', '-1...</td>\n",
       "      <td>['-1', '-1', '-1', '-1', '-1', '-1', '-1', '-1...</td>\n",
       "    </tr>\n",
       "    <tr>\n",
       "      <th>1</th>\n",
       "      <td>DB06684</td>\n",
       "      <td>BE0001790</td>\n",
       "      <td>2968968094 2803848648 2968968094 2803848648 20...</td>\n",
       "      <td>ATGGAAATTAATGTGAGTAAATTAAGAACAGATTTGCCTCAAGTCG...</td>\n",
       "      <td>0</td>\n",
       "      <td>[0 3 2 2 0 0 0 3 3 0 0 3 2 3 2 0 2 3 0 0 0 3 3...</td>\n",
       "      <td>[2, 9, 6, 8, 9, 6, 8, 0, 9, 4, 2, 8, 0, 3, 8, ...</td>\n",
       "      <td>957</td>\n",
       "      <td>644</td>\n",
       "      <td>313</td>\n",
       "      <td>20265</td>\n",
       "      <td>8857</td>\n",
       "      <td>['-1', '-1', '-1', '-1', '-1', '-1', '-1', '-1...</td>\n",
       "      <td>['-1', '-1', '-1', '-1', '-1', '-1', '-1', '-1...</td>\n",
       "    </tr>\n",
       "    <tr>\n",
       "      <th>2</th>\n",
       "      <td>DB03811</td>\n",
       "      <td>BE0001167</td>\n",
       "      <td>3218693969 3777168895 3217380708 3585958780 21...</td>\n",
       "      <td>ATGCCAAACTACAAACTCACTTATTTTAATATGAGGGGGAGAGCAG...</td>\n",
       "      <td>0</td>\n",
       "      <td>[0 3 2 1 1 0 0 0 1 3 0 1 0 0 0 1 3 1 0 1 3 3 0...</td>\n",
       "      <td>[3, 2, 1, 8, 6, 9, 3, 9, 6, 9, 3, 7, 7, 7, 1, ...</td>\n",
       "      <td>600</td>\n",
       "      <td>195</td>\n",
       "      <td>405</td>\n",
       "      <td>20622</td>\n",
       "      <td>9306</td>\n",
       "      <td>['-1', '-1', '-1', '-1', '-1', '-1', '-1', '-1...</td>\n",
       "      <td>['-1', '-1', '-1', '-1', '-1', '-1', '-1', '-1...</td>\n",
       "    </tr>\n",
       "    <tr>\n",
       "      <th>3</th>\n",
       "      <td>DB02095</td>\n",
       "      <td>BE0004952</td>\n",
       "      <td>3218693969 98513984 3218693969 98513984 321869...</td>\n",
       "      <td>ATGATCATCTTAATTTACTTATTTCTCTTGCTATGGGAAGACACTC...</td>\n",
       "      <td>0</td>\n",
       "      <td>[0 3 2 0 3 1 0 3 1 3 3 0 0 3 3 3 0 1 3 3 0 3 3...</td>\n",
       "      <td>[3, 2, 1, 8, 6, 9, 3, 9, 6, 9, 9, 8, 5, 1, 3, ...</td>\n",
       "      <td>834</td>\n",
       "      <td>207</td>\n",
       "      <td>627</td>\n",
       "      <td>20388</td>\n",
       "      <td>9294</td>\n",
       "      <td>['-1', '-1', '-1', '-1', '-1', '-1', '-1', '-1...</td>\n",
       "      <td>['-1', '-1', '-1', '-1', '-1', '-1', '-1', '-1...</td>\n",
       "    </tr>\n",
       "    <tr>\n",
       "      <th>4</th>\n",
       "      <td>DB03698</td>\n",
       "      <td>BE0002359</td>\n",
       "      <td>2246728737 3542456614 2245384272 1173125914 22...</td>\n",
       "      <td>ATGATGATGATGATGATGATGAAAAAAATGCAGCATCAACGGCAGC...</td>\n",
       "      <td>0</td>\n",
       "      <td>[0 3 2 ... 3 0 2]</td>\n",
       "      <td>[2, 2, 4, 6, 7, 2, 8, 7, 3, 7, 3, 5, 4, 2, 4, ...</td>\n",
       "      <td>6546</td>\n",
       "      <td>1216</td>\n",
       "      <td>5330</td>\n",
       "      <td>14676</td>\n",
       "      <td>8285</td>\n",
       "      <td>['-1', '-1', '-1', '-1', '-1', '-1', '-1', '-1...</td>\n",
       "      <td>['-1', '-1', '-1', '-1', '-1', '-1', '-1', '-1...</td>\n",
       "    </tr>\n",
       "    <tr>\n",
       "      <th>...</th>\n",
       "      <td>...</td>\n",
       "      <td>...</td>\n",
       "      <td>...</td>\n",
       "      <td>...</td>\n",
       "      <td>...</td>\n",
       "      <td>...</td>\n",
       "      <td>...</td>\n",
       "      <td>...</td>\n",
       "      <td>...</td>\n",
       "      <td>...</td>\n",
       "      <td>...</td>\n",
       "      <td>...</td>\n",
       "      <td>...</td>\n",
       "      <td>...</td>\n",
       "    </tr>\n",
       "    <tr>\n",
       "      <th>84427</th>\n",
       "      <td>DB08280</td>\n",
       "      <td>BE0000329</td>\n",
       "      <td>2246728737 3537123720 2245277810 2442433719 22...</td>\n",
       "      <td>ATGGCTTTTATGAAAAAATATCTCCTCCCCATTCTGGGGCTCTTCA...</td>\n",
       "      <td>1</td>\n",
       "      <td>[0 3 2 2 1 3 3 3 3 0 3 2 0 0 0 0 0 0 3 0 3 1 3...</td>\n",
       "      <td>[2, 2, 4, 6, 7, 2, 8, 7, 3, 7, 3, 5, 3, 7, 1, ...</td>\n",
       "      <td>879</td>\n",
       "      <td>544</td>\n",
       "      <td>335</td>\n",
       "      <td>20343</td>\n",
       "      <td>8957</td>\n",
       "      <td>['-1', '-1', '-1', '-1', '-1', '-1', '-1', '-1...</td>\n",
       "      <td>['-1', '-1', '-1', '-1', '-1', '-1', '-1', '-1...</td>\n",
       "    </tr>\n",
       "    <tr>\n",
       "      <th>84428</th>\n",
       "      <td>DB04113</td>\n",
       "      <td>BE0000465</td>\n",
       "      <td>2968968094 2142032900 2968968094 2142032900 29...</td>\n",
       "      <td>ATGAGCACAGCAGGAAAAGTAATCAAATGCAAAGCAGCTGTGCTAT...</td>\n",
       "      <td>1</td>\n",
       "      <td>[0 3 2 ... 3 2 0]</td>\n",
       "      <td>[2, 9, 6, 8, 9, 6, 8, 0, 9, 4, 2, 1, 4, 2, 0, ...</td>\n",
       "      <td>1128</td>\n",
       "      <td>158</td>\n",
       "      <td>970</td>\n",
       "      <td>20094</td>\n",
       "      <td>9343</td>\n",
       "      <td>['-1', '-1', '-1', '-1', '-1', '-1', '-1', '-1...</td>\n",
       "      <td>['-1', '-1', '-1', '-1', '-1', '-1', '-1', '-1...</td>\n",
       "    </tr>\n",
       "    <tr>\n",
       "      <th>84429</th>\n",
       "      <td>DB08198</td>\n",
       "      <td>BE0001852</td>\n",
       "      <td>2246728737 422715066 3217380708 4247217172 321...</td>\n",
       "      <td>ATGGCGTCGCAGCCAAATTCGTCTGCGAAGAAGAAAGAGGAGAAGG...</td>\n",
       "      <td>1</td>\n",
       "      <td>[0 3 2 ... 3 0 0]</td>\n",
       "      <td>[2, 2, 4, 6, 7, 2, 8, 7, 3, 7, 4, 2, 2, 7, 1, ...</td>\n",
       "      <td>3171</td>\n",
       "      <td>460</td>\n",
       "      <td>2711</td>\n",
       "      <td>18051</td>\n",
       "      <td>9041</td>\n",
       "      <td>['-1', '-1', '-1', '-1', '-1', '-1', '-1', '-1...</td>\n",
       "      <td>['-1', '-1', '-1', '-1', '-1', '-1', '-1', '-1...</td>\n",
       "    </tr>\n",
       "    <tr>\n",
       "      <th>84430</th>\n",
       "      <td>DB09076</td>\n",
       "      <td>BE0000560</td>\n",
       "      <td>2968968094 2119439498 2968968094 1653789098 21...</td>\n",
       "      <td>ATGAATAACTCAACAAACTCCTCTAACAATAGCCTGGCTCTTACAA...</td>\n",
       "      <td>1</td>\n",
       "      <td>[0 3 2 ... 3 0 0]</td>\n",
       "      <td>[2, 9, 6, 8, 9, 6, 8, 0, 9, 4, 2, 1, 1, 9, 4, ...</td>\n",
       "      <td>1401</td>\n",
       "      <td>612</td>\n",
       "      <td>789</td>\n",
       "      <td>19821</td>\n",
       "      <td>8889</td>\n",
       "      <td>['-1', '-1', '-1', '-1', '-1', '-1', '-1', '-1...</td>\n",
       "      <td>['-1', '-1', '-1', '-1', '-1', '-1', '-1', '-1...</td>\n",
       "    </tr>\n",
       "    <tr>\n",
       "      <th>84431</th>\n",
       "      <td>DB03313</td>\n",
       "      <td>BE0001349</td>\n",
       "      <td>2246728737 3545365497 2246699815 2664995851 86...</td>\n",
       "      <td>ATGGTCTCAGGAACGGTGGGCAGAGGTACGGCGCTGGGCGCGGTGC...</td>\n",
       "      <td>1</td>\n",
       "      <td>[0 3 2 ... 3 2 0]</td>\n",
       "      <td>[2, 2, 4, 6, 7, 2, 8, 7, 3, 7, 3, 5, 4, 5, 3, ...</td>\n",
       "      <td>1221</td>\n",
       "      <td>547</td>\n",
       "      <td>674</td>\n",
       "      <td>20001</td>\n",
       "      <td>8954</td>\n",
       "      <td>['-1', '-1', '-1', '-1', '-1', '-1', '-1', '-1...</td>\n",
       "      <td>['-1', '-1', '-1', '-1', '-1', '-1', '-1', '-1...</td>\n",
       "    </tr>\n",
       "  </tbody>\n",
       "</table>\n",
       "<p>84432 rows × 14 columns</p>\n",
       "</div>"
      ],
      "text/plain": [
       "       drug_id    gene_id                              drug_fingerprint_code  \\\n",
       "0      DB02704  BE0004010  2968968094 1824088295 2976033787 1228528465 29...   \n",
       "1      DB06684  BE0001790  2968968094 2803848648 2968968094 2803848648 20...   \n",
       "2      DB03811  BE0001167  3218693969 3777168895 3217380708 3585958780 21...   \n",
       "3      DB02095  BE0004952  3218693969 98513984 3218693969 98513984 321869...   \n",
       "4      DB03698  BE0002359  2246728737 3542456614 2245384272 1173125914 22...   \n",
       "...        ...        ...                                                ...   \n",
       "84427  DB08280  BE0000329  2246728737 3537123720 2245277810 2442433719 22...   \n",
       "84428  DB04113  BE0000465  2968968094 2142032900 2968968094 2142032900 29...   \n",
       "84429  DB08198  BE0001852  2246728737 422715066 3217380708 4247217172 321...   \n",
       "84430  DB09076  BE0000560  2968968094 2119439498 2968968094 1653789098 21...   \n",
       "84431  DB03313  BE0001349  2246728737 3545365497 2246699815 2664995851 86...   \n",
       "\n",
       "                                        target_gene_code  Y  \\\n",
       "0      ATGCATTTAAATCCAGCAGAGAAAGAAAAATTACAAATTTTTCTAG...  0   \n",
       "1      ATGGAAATTAATGTGAGTAAATTAAGAACAGATTTGCCTCAAGTCG...  0   \n",
       "2      ATGCCAAACTACAAACTCACTTATTTTAATATGAGGGGGAGAGCAG...  0   \n",
       "3      ATGATCATCTTAATTTACTTATTTCTCTTGCTATGGGAAGACACTC...  0   \n",
       "4      ATGATGATGATGATGATGATGAAAAAAATGCAGCATCAACGGCAGC...  0   \n",
       "...                                                  ... ..   \n",
       "84427  ATGGCTTTTATGAAAAAATATCTCCTCCCCATTCTGGGGCTCTTCA...  1   \n",
       "84428  ATGAGCACAGCAGGAAAAGTAATCAAATGCAAAGCAGCTGTGCTAT...  1   \n",
       "84429  ATGGCGTCGCAGCCAAATTCGTCTGCGAAGAAGAAAGAGGAGAAGG...  1   \n",
       "84430  ATGAATAACTCAACAAACTCCTCTAACAATAGCCTGGCTCTTACAA...  1   \n",
       "84431  ATGGTCTCAGGAACGGTGGGCAGAGGTACGGCGCTGGGCGCGGTGC...  1   \n",
       "\n",
       "                                     target_gene_encoded  \\\n",
       "0      [0 3 2 1 0 3 3 3 0 0 0 3 1 1 0 2 1 0 2 0 2 0 0...   \n",
       "1      [0 3 2 2 0 0 0 3 3 0 0 3 2 3 2 0 2 3 0 0 0 3 3...   \n",
       "2      [0 3 2 1 1 0 0 0 1 3 0 1 0 0 0 1 3 1 0 1 3 3 0...   \n",
       "3      [0 3 2 0 3 1 0 3 1 3 3 0 0 3 3 3 0 1 3 3 0 3 3...   \n",
       "4                                      [0 3 2 ... 3 0 2]   \n",
       "...                                                  ...   \n",
       "84427  [0 3 2 2 1 3 3 3 3 0 3 2 0 0 0 0 0 0 3 0 3 1 3...   \n",
       "84428                                  [0 3 2 ... 3 2 0]   \n",
       "84429                                  [0 3 2 ... 3 0 0]   \n",
       "84430                                  [0 3 2 ... 3 0 0]   \n",
       "84431                                  [0 3 2 ... 3 2 0]   \n",
       "\n",
       "                                drug_fingerprint_encoded  \\\n",
       "0      [2, 9, 6, 8, 9, 6, 8, 0, 9, 4, 1, 8, 2, 4, 0, ...   \n",
       "1      [2, 9, 6, 8, 9, 6, 8, 0, 9, 4, 2, 8, 0, 3, 8, ...   \n",
       "2      [3, 2, 1, 8, 6, 9, 3, 9, 6, 9, 3, 7, 7, 7, 1, ...   \n",
       "3      [3, 2, 1, 8, 6, 9, 3, 9, 6, 9, 9, 8, 5, 1, 3, ...   \n",
       "4      [2, 2, 4, 6, 7, 2, 8, 7, 3, 7, 3, 5, 4, 2, 4, ...   \n",
       "...                                                  ...   \n",
       "84427  [2, 2, 4, 6, 7, 2, 8, 7, 3, 7, 3, 5, 3, 7, 1, ...   \n",
       "84428  [2, 9, 6, 8, 9, 6, 8, 0, 9, 4, 2, 1, 4, 2, 0, ...   \n",
       "84429  [2, 2, 4, 6, 7, 2, 8, 7, 3, 7, 4, 2, 2, 7, 1, ...   \n",
       "84430  [2, 9, 6, 8, 9, 6, 8, 0, 9, 4, 2, 1, 1, 9, 4, ...   \n",
       "84431  [2, 2, 4, 6, 7, 2, 8, 7, 3, 7, 3, 5, 4, 5, 3, ...   \n",
       "\n",
       "       target_gene_encoded_len  drug_fingerprint_encoded_len  mismatch  \\\n",
       "0                          303                           916      -613   \n",
       "1                          957                           644       313   \n",
       "2                          600                           195       405   \n",
       "3                          834                           207       627   \n",
       "4                         6546                          1216      5330   \n",
       "...                        ...                           ...       ...   \n",
       "84427                      879                           544       335   \n",
       "84428                     1128                           158       970   \n",
       "84429                     3171                           460      2711   \n",
       "84430                     1401                           612       789   \n",
       "84431                     1221                           547       674   \n",
       "\n",
       "       target_gene_encoded_mismatch  drug_fingerprint_encoded_mismatch  \\\n",
       "0                             20919                               8585   \n",
       "1                             20265                               8857   \n",
       "2                             20622                               9306   \n",
       "3                             20388                               9294   \n",
       "4                             14676                               8285   \n",
       "...                             ...                                ...   \n",
       "84427                         20343                               8957   \n",
       "84428                         20094                               9343   \n",
       "84429                         18051                               9041   \n",
       "84430                         19821                               8889   \n",
       "84431                         20001                               8954   \n",
       "\n",
       "                              target_gene_encoded_padded  \\\n",
       "0      ['-1', '-1', '-1', '-1', '-1', '-1', '-1', '-1...   \n",
       "1      ['-1', '-1', '-1', '-1', '-1', '-1', '-1', '-1...   \n",
       "2      ['-1', '-1', '-1', '-1', '-1', '-1', '-1', '-1...   \n",
       "3      ['-1', '-1', '-1', '-1', '-1', '-1', '-1', '-1...   \n",
       "4      ['-1', '-1', '-1', '-1', '-1', '-1', '-1', '-1...   \n",
       "...                                                  ...   \n",
       "84427  ['-1', '-1', '-1', '-1', '-1', '-1', '-1', '-1...   \n",
       "84428  ['-1', '-1', '-1', '-1', '-1', '-1', '-1', '-1...   \n",
       "84429  ['-1', '-1', '-1', '-1', '-1', '-1', '-1', '-1...   \n",
       "84430  ['-1', '-1', '-1', '-1', '-1', '-1', '-1', '-1...   \n",
       "84431  ['-1', '-1', '-1', '-1', '-1', '-1', '-1', '-1...   \n",
       "\n",
       "                         drug_fingerprint_encoded_padded  \n",
       "0      ['-1', '-1', '-1', '-1', '-1', '-1', '-1', '-1...  \n",
       "1      ['-1', '-1', '-1', '-1', '-1', '-1', '-1', '-1...  \n",
       "2      ['-1', '-1', '-1', '-1', '-1', '-1', '-1', '-1...  \n",
       "3      ['-1', '-1', '-1', '-1', '-1', '-1', '-1', '-1...  \n",
       "4      ['-1', '-1', '-1', '-1', '-1', '-1', '-1', '-1...  \n",
       "...                                                  ...  \n",
       "84427  ['-1', '-1', '-1', '-1', '-1', '-1', '-1', '-1...  \n",
       "84428  ['-1', '-1', '-1', '-1', '-1', '-1', '-1', '-1...  \n",
       "84429  ['-1', '-1', '-1', '-1', '-1', '-1', '-1', '-1...  \n",
       "84430  ['-1', '-1', '-1', '-1', '-1', '-1', '-1', '-1...  \n",
       "84431  ['-1', '-1', '-1', '-1', '-1', '-1', '-1', '-1...  \n",
       "\n",
       "[84432 rows x 14 columns]"
      ]
     },
     "execution_count": 17,
     "metadata": {},
     "output_type": "execute_result"
    }
   ],
   "source": [
    "training_df"
   ]
  },
  {
   "cell_type": "markdown",
   "metadata": {},
   "source": [
    "# Preparing data"
   ]
  },
  {
   "cell_type": "code",
   "execution_count": 21,
   "metadata": {
    "scrolled": true
   },
   "outputs": [],
   "source": [
    "training_df['target_gene_code'] = training_df['target_gene_code'].apply(lambda x: ''.join(list(x.split('\\n')[1:])))\n",
    "#drugbank['target_amino_code'] = drugbank['target_amino'].apply(lambda x: ''.join(list(x.split('\\n')[1:])))"
   ]
  },
  {
   "cell_type": "markdown",
   "metadata": {},
   "source": [
    "#### Preprocessing fingerprints to feed to CNN"
   ]
  },
  {
   "cell_type": "code",
   "execution_count": 22,
   "metadata": {},
   "outputs": [
    {
     "ename": "TypeError",
     "evalue": "'set' object is not subscriptable",
     "output_type": "error",
     "traceback": [
      "\u001b[0;31m---------------------------------------------------------------------------\u001b[0m",
      "\u001b[0;31mTypeError\u001b[0m                                 Traceback (most recent call last)",
      "\u001b[0;32m<ipython-input-22-d47cb66b3f6f>\u001b[0m in \u001b[0;36m<module>\u001b[0;34m\u001b[0m\n\u001b[1;32m      8\u001b[0m \u001b[0mtraining_df\u001b[0m \u001b[0;34m=\u001b[0m \u001b[0mset\u001b[0m\u001b[0;34m(\u001b[0m\u001b[0mlist\u001b[0m\u001b[0;34m(\u001b[0m\u001b[0mtraining_df\u001b[0m\u001b[0;34m[\u001b[0m\u001b[0;34m'target_gene_code'\u001b[0m\u001b[0;34m]\u001b[0m\u001b[0;34m.\u001b[0m\u001b[0miloc\u001b[0m\u001b[0;34m[\u001b[0m\u001b[0;36m0\u001b[0m\u001b[0;34m]\u001b[0m\u001b[0;34m)\u001b[0m\u001b[0;34m)\u001b[0m\u001b[0;34m\u001b[0m\u001b[0m\n\u001b[1;32m      9\u001b[0m \u001b[0;34m\u001b[0m\u001b[0m\n\u001b[0;32m---> 10\u001b[0;31m training_df['target_gene_encoded'] = training_df['target_gene_code'].progress_apply(\\\n\u001b[0m\u001b[1;32m     11\u001b[0m                                    lambda x: label_encoder.transform([i for i in list(x) if i in gene_chars]))\n\u001b[1;32m     12\u001b[0m \u001b[0mtraining_df\u001b[0m\u001b[0;34m[\u001b[0m\u001b[0;34m'drug_fingerprint_encoded'\u001b[0m\u001b[0;34m]\u001b[0m \u001b[0;34m=\u001b[0m \u001b[0mtraining_df\u001b[0m\u001b[0;34m[\u001b[0m\u001b[0;34m'drug_fingerprint_code'\u001b[0m\u001b[0;34m]\u001b[0m\u001b[0;34m.\u001b[0m\u001b[0mprogress_apply\u001b[0m\u001b[0;34m(\u001b[0m\u001b[0;32mlambda\u001b[0m \u001b[0mx\u001b[0m\u001b[0;34m:\u001b[0m \u001b[0;34m[\u001b[0m\u001b[0mint\u001b[0m\u001b[0;34m(\u001b[0m\u001b[0mi\u001b[0m\u001b[0;34m)\u001b[0m \u001b[0;32mfor\u001b[0m \u001b[0mi\u001b[0m \u001b[0;32min\u001b[0m \u001b[0mx\u001b[0m\u001b[0;34m.\u001b[0m\u001b[0mreplace\u001b[0m\u001b[0;34m(\u001b[0m\u001b[0;34m' '\u001b[0m\u001b[0;34m,\u001b[0m \u001b[0;34m''\u001b[0m\u001b[0;34m)\u001b[0m\u001b[0;34m]\u001b[0m\u001b[0;34m)\u001b[0m\u001b[0;34m\u001b[0m\u001b[0m\n",
      "\u001b[0;31mTypeError\u001b[0m: 'set' object is not subscriptable"
     ]
    }
   ],
   "source": [
    "label_encoder = LabelEncoder()\n",
    "label_encoder = pd.read_pickle('data/gene_encoder.pkl')\n",
    "#label_encoder.fit(list(corona_gene_df['target_gene_code'].iloc[0]))\n",
    "\n",
    "#with open('data/gene_encoder.pkl', 'wb') as f:\n",
    "#    pkl.dump(label_encoder, f)\n",
    "    \n",
    "training_df = set(list(training_df['target_gene_code'].iloc[0]))\n",
    "\n",
    "training_df['target_gene_encoded'] = training_df['target_gene_code'].progress_apply(\\\n",
    "                                   lambda x: label_encoder.transform([i for i in list(x) if i in gene_chars]))\n",
    "training_df['drug_fingerprint_encoded'] = training_df['drug_fingerprint_code'].progress_apply(lambda x: [int(i) for i in x.replace(' ', '')])"
   ]
  },
  {
   "cell_type": "markdown",
   "metadata": {},
   "source": [
    "#### Calculate length mismatches and pad"
   ]
  },
  {
   "cell_type": "code",
   "execution_count": 19,
   "metadata": {},
   "outputs": [],
   "source": [
    "corona_gene_df['target_gene_encoded_len'] = corona_gene_df['target_gene_encoded']\\\n",
    "                                    .apply(lambda x: len(x))\n",
    "ndm_df['drug_fingerprint_encoded_len'] = ndm_df['drug_fingerprint_encoded']\\\n",
    "                                    .apply(lambda x: len(x))"
   ]
  },
  {
   "cell_type": "code",
   "execution_count": 20,
   "metadata": {},
   "outputs": [],
   "source": [
    "max_target_gene_encoded_len = max(corona_gene_df['target_gene_encoded_len'])\n",
    "max_drug_fingerprint_encoded_len = max(ndm_df['drug_fingerprint_encoded_len'])"
   ]
  },
  {
   "cell_type": "code",
   "execution_count": 21,
   "metadata": {},
   "outputs": [],
   "source": [
    "corona_gene_df['target_gene_encoded_mismatch'] = max_target_gene_encoded_len - corona_gene_df['target_gene_encoded_len']"
   ]
  },
  {
   "cell_type": "code",
   "execution_count": 22,
   "metadata": {},
   "outputs": [],
   "source": [
    "ndm_df['drug_fingerprint_encoded_mismatch'] = max_drug_fingerprint_encoded_len - ndm_df['drug_fingerprint_encoded_len'] "
   ]
  },
  {
   "cell_type": "code",
   "execution_count": 23,
   "metadata": {},
   "outputs": [
    {
     "data": {
      "text/plain": [
       "<matplotlib.axes._subplots.AxesSubplot at 0x7fb57c3b67b8>"
      ]
     },
     "execution_count": 23,
     "metadata": {},
     "output_type": "execute_result"
    },
    {
     "data": {
      "image/png": "[encoded data removed]",
      "text/plain": [
       "<Figure size 720x360 with 1 Axes>"
      ]
     },
     "metadata": {
      "needs_background": "light"
     },
     "output_type": "display_data"
    }
   ],
   "source": [
    "ndm_df['drug_fingerprint_encoded_mismatch'].hist(bins = 100, figsize = (10, 5), log = True)"
   ]
  },
  {
   "cell_type": "code",
   "execution_count": 24,
   "metadata": {},
   "outputs": [
    {
     "data": {
      "text/plain": [
       "<matplotlib.axes._subplots.AxesSubplot at 0x7fb57c1899b0>"
      ]
     },
     "execution_count": 24,
     "metadata": {},
     "output_type": "execute_result"
    },
    {
     "data": {
      "image/png": "[encoded data removed]",
      "text/plain": [
       "<Figure size 720x360 with 1 Axes>"
      ]
     },
     "metadata": {
      "needs_background": "light"
     },
     "output_type": "display_data"
    }
   ],
   "source": [
    "corona_gene_df['target_gene_encoded_mismatch'].hist(bins = 100, figsize = (10, 5), log = True)"
   ]
  },
  {
   "cell_type": "code",
   "execution_count": 25,
   "metadata": {},
   "outputs": [
    {
     "data": {
      "text/plain": [
       "556597"
      ]
     },
     "execution_count": 25,
     "metadata": {},
     "output_type": "execute_result"
    }
   ],
   "source": [
    "max_target_gene_encoded_len"
   ]
  },
  {
   "cell_type": "code",
   "execution_count": 26,
   "metadata": {},
   "outputs": [
    {
     "data": {
      "text/plain": [
       "(294231,)"
      ]
     },
     "execution_count": 26,
     "metadata": {},
     "output_type": "execute_result"
    }
   ],
   "source": [
    "corona_gene_df['target_gene_encoded'][0].shape"
   ]
  },
  {
   "cell_type": "code",
   "execution_count": 27,
   "metadata": {},
   "outputs": [
    {
     "data": {
      "application/vnd.jupyter.widget-view+json": {
       "model_id": "bcd390ef5ae14e27abaa65be19087ecd",
       "version_major": 2,
       "version_minor": 0
      },
      "text/plain": [
       "HBox(children=(FloatProgress(value=0.0, max=330.0), HTML(value='')))"
      ]
     },
     "metadata": {},
     "output_type": "display_data"
    },
    {
     "name": "stdout",
     "output_type": "stream",
     "text": [
      "\n"
     ]
    }
   ],
   "source": [
    "corona_gene_df['target_gene_encoded_padded'] = corona_gene_df[['target_gene_encoded','target_gene_encoded_mismatch']]\\\n",
    "                                         .progress_apply(lambda x: ['-1' for i in range(int(x['target_gene_encoded_mismatch']/2))] +   \n",
    "                                                        list(x['target_gene_encoded']) +\n",
    "                                                        ['-1' for i in range (int(x['target_gene_encoded_mismatch']/2))]\n",
    "                                                        , axis = 1)\n",
    "corona_gene_df['target_gene_encoded_padded'] = corona_gene_df['target_gene_encoded_padded'].apply(lambda x: x + ['-1'] if len(x) < max_target_gene_encoded_len else x)"
   ]
  },
  {
   "cell_type": "code",
   "execution_count": 28,
   "metadata": {},
   "outputs": [
    {
     "data": {
      "application/vnd.jupyter.widget-view+json": {
       "model_id": "b72b0baaae764a219ae17a45c3999b0c",
       "version_major": 2,
       "version_minor": 0
      },
      "text/plain": [
       "HBox(children=(FloatProgress(value=0.0, max=19169.0), HTML(value='')))"
      ]
     },
     "metadata": {},
     "output_type": "display_data"
    },
    {
     "name": "stdout",
     "output_type": "stream",
     "text": [
      "\n"
     ]
    }
   ],
   "source": [
    "ndm_df['drug_fingerprint_encoded_padded'] = ndm_df[['drug_fingerprint_encoded','drug_fingerprint_encoded_mismatch']]\\\n",
    "                                         .progress_apply(lambda x: ['-1' for i in range(int(x['drug_fingerprint_encoded_mismatch']/2))] +   \n",
    "                                                        list(x['drug_fingerprint_encoded']) +\n",
    "                                                        ['-1' for i in range (int(x['drug_fingerprint_encoded_mismatch']/2))]\n",
    "                                                        , axis = 1)\n",
    "\n",
    "ndm_df['drug_fingerprint_encoded_padded'] = ndm_df['drug_fingerprint_encoded_padded'].apply(lambda x: x + ['-1'] if len(x) < max_drug_fingerprint_encoded_len else x)"
   ]
  },
  {
   "cell_type": "code",
   "execution_count": 25,
   "metadata": {},
   "outputs": [],
   "source": [
    "ndm_df.to_csv('data/intermediate/ndm_preprocessed.csv')\n",
    "corona_gene_df.to_csv('data/intermediate/330_corona_genes_preprocessed.csv')"
   ]
  },
  {
   "cell_type": "code",
   "execution_count": 26,
   "metadata": {
    "scrolled": true
   },
   "outputs": [
    {
     "data": {
      "text/html": [
       "<div>\n",
       "<style scoped>\n",
       "    .dataframe tbody tr th:only-of-type {\n",
       "        vertical-align: middle;\n",
       "    }\n",
       "\n",
       "    .dataframe tbody tr th {\n",
       "        vertical-align: top;\n",
       "    }\n",
       "\n",
       "    .dataframe thead th {\n",
       "        text-align: right;\n",
       "    }\n",
       "</style>\n",
       "<table border=\"1\" class=\"dataframe\">\n",
       "  <thead>\n",
       "    <tr style=\"text-align: right;\">\n",
       "      <th></th>\n",
       "      <th>cid</th>\n",
       "      <th>fingerprint</th>\n",
       "      <th>drug_fingerprint_encoded</th>\n",
       "      <th>drug_fingerprint_encoded_len</th>\n",
       "      <th>drug_fingerprint_encoded_mismatch</th>\n",
       "      <th>drug_fingerprint_encoded_padded</th>\n",
       "    </tr>\n",
       "  </thead>\n",
       "  <tbody>\n",
       "    <tr>\n",
       "      <th>0</th>\n",
       "      <td>14162674.0</td>\n",
       "      <td>2246728737 3545365497 2246699815 176403689 224...</td>\n",
       "      <td>[2, 2, 4, 6, 7, 2, 8, 7, 3, 7, 3, 5, 4, 5, 3, ...</td>\n",
       "      <td>479</td>\n",
       "      <td>7593</td>\n",
       "      <td>[-1, -1, -1, -1, -1, -1, -1, -1, -1, -1, -1, -...</td>\n",
       "    </tr>\n",
       "    <tr>\n",
       "      <th>1</th>\n",
       "      <td>19462.0</td>\n",
       "      <td>2246728737 422715066 3217380708 3661262542 321...</td>\n",
       "      <td>[2, 2, 4, 6, 7, 2, 8, 7, 3, 7, 4, 2, 2, 7, 1, ...</td>\n",
       "      <td>137</td>\n",
       "      <td>7935</td>\n",
       "      <td>[-1, -1, -1, -1, -1, -1, -1, -1, -1, -1, -1, -...</td>\n",
       "    </tr>\n",
       "    <tr>\n",
       "      <th>2</th>\n",
       "      <td>73798945.0</td>\n",
       "      <td>2246728737 1858577693 2976033787 1228815484 29...</td>\n",
       "      <td>[2, 2, 4, 6, 7, 2, 8, 7, 3, 7, 1, 8, 5, 8, 5, ...</td>\n",
       "      <td>1203</td>\n",
       "      <td>6869</td>\n",
       "      <td>[-1, -1, -1, -1, -1, -1, -1, -1, -1, -1, -1, -...</td>\n",
       "    </tr>\n",
       "    <tr>\n",
       "      <th>3</th>\n",
       "      <td>44260124.0</td>\n",
       "      <td>2246728737 3542456614 2245384272 1173125914 22...</td>\n",
       "      <td>[2, 2, 4, 6, 7, 2, 8, 7, 3, 7, 3, 5, 4, 2, 4, ...</td>\n",
       "      <td>1026</td>\n",
       "      <td>7046</td>\n",
       "      <td>[-1, -1, -1, -1, -1, -1, -1, -1, -1, -1, -1, -...</td>\n",
       "    </tr>\n",
       "    <tr>\n",
       "      <th>4</th>\n",
       "      <td>486612.0</td>\n",
       "      <td>2246728737 3975275337 864674487 2076190208 321...</td>\n",
       "      <td>[2, 2, 4, 6, 7, 2, 8, 7, 3, 7, 3, 9, 7, 5, 2, ...</td>\n",
       "      <td>714</td>\n",
       "      <td>7358</td>\n",
       "      <td>[-1, -1, -1, -1, -1, -1, -1, -1, -1, -1, -1, -...</td>\n",
       "    </tr>\n",
       "    <tr>\n",
       "      <th>...</th>\n",
       "      <td>...</td>\n",
       "      <td>...</td>\n",
       "      <td>...</td>\n",
       "      <td>...</td>\n",
       "      <td>...</td>\n",
       "      <td>...</td>\n",
       "    </tr>\n",
       "    <tr>\n",
       "      <th>19598</th>\n",
       "      <td>20313888.0</td>\n",
       "      <td>2246728737 422715066 3217380708 3661262542 321...</td>\n",
       "      <td>[2, 2, 4, 6, 7, 2, 8, 7, 3, 7, 4, 2, 2, 7, 1, ...</td>\n",
       "      <td>196</td>\n",
       "      <td>7876</td>\n",
       "      <td>[-1, -1, -1, -1, -1, -1, -1, -1, -1, -1, -1, -...</td>\n",
       "    </tr>\n",
       "    <tr>\n",
       "      <th>19599</th>\n",
       "      <td>131751334.0</td>\n",
       "      <td>2246728737 3542456614 2245384272 1173125914 22...</td>\n",
       "      <td>[2, 2, 4, 6, 7, 2, 8, 7, 3, 7, 3, 5, 4, 2, 4, ...</td>\n",
       "      <td>730</td>\n",
       "      <td>7342</td>\n",
       "      <td>[-1, -1, -1, -1, -1, -1, -1, -1, -1, -1, -1, -...</td>\n",
       "    </tr>\n",
       "    <tr>\n",
       "      <th>19600</th>\n",
       "      <td>3325403.0</td>\n",
       "      <td>2246728737 3537119515 2245273601 2637439965 22...</td>\n",
       "      <td>[2, 2, 4, 6, 7, 2, 8, 7, 3, 7, 3, 5, 3, 7, 1, ...</td>\n",
       "      <td>293</td>\n",
       "      <td>7779</td>\n",
       "      <td>[-1, -1, -1, -1, -1, -1, -1, -1, -1, -1, -1, -...</td>\n",
       "    </tr>\n",
       "    <tr>\n",
       "      <th>19601</th>\n",
       "      <td>131753140.0</td>\n",
       "      <td>2246728737 3542456614 2245384272 1506563592 22...</td>\n",
       "      <td>[2, 2, 4, 6, 7, 2, 8, 7, 3, 7, 3, 5, 4, 2, 4, ...</td>\n",
       "      <td>660</td>\n",
       "      <td>7412</td>\n",
       "      <td>[-1, -1, -1, -1, -1, -1, -1, -1, -1, -1, -1, -...</td>\n",
       "    </tr>\n",
       "    <tr>\n",
       "      <th>19602</th>\n",
       "      <td>5320805.0</td>\n",
       "      <td>2246728737 1858577693 2976033787 1236795370 29...</td>\n",
       "      <td>[2, 2, 4, 6, 7, 2, 8, 7, 3, 7, 1, 8, 5, 8, 5, ...</td>\n",
       "      <td>411</td>\n",
       "      <td>7661</td>\n",
       "      <td>[-1, -1, -1, -1, -1, -1, -1, -1, -1, -1, -1, -...</td>\n",
       "    </tr>\n",
       "  </tbody>\n",
       "</table>\n",
       "<p>19169 rows × 6 columns</p>\n",
       "</div>"
      ],
      "text/plain": [
       "               cid                                        fingerprint  \\\n",
       "0       14162674.0  2246728737 3545365497 2246699815 176403689 224...   \n",
       "1          19462.0  2246728737 422715066 3217380708 3661262542 321...   \n",
       "2       73798945.0  2246728737 1858577693 2976033787 1228815484 29...   \n",
       "3       44260124.0  2246728737 3542456614 2245384272 1173125914 22...   \n",
       "4         486612.0  2246728737 3975275337 864674487 2076190208 321...   \n",
       "...            ...                                                ...   \n",
       "19598   20313888.0  2246728737 422715066 3217380708 3661262542 321...   \n",
       "19599  131751334.0  2246728737 3542456614 2245384272 1173125914 22...   \n",
       "19600    3325403.0  2246728737 3537119515 2245273601 2637439965 22...   \n",
       "19601  131753140.0  2246728737 3542456614 2245384272 1506563592 22...   \n",
       "19602    5320805.0  2246728737 1858577693 2976033787 1236795370 29...   \n",
       "\n",
       "                                drug_fingerprint_encoded  \\\n",
       "0      [2, 2, 4, 6, 7, 2, 8, 7, 3, 7, 3, 5, 4, 5, 3, ...   \n",
       "1      [2, 2, 4, 6, 7, 2, 8, 7, 3, 7, 4, 2, 2, 7, 1, ...   \n",
       "2      [2, 2, 4, 6, 7, 2, 8, 7, 3, 7, 1, 8, 5, 8, 5, ...   \n",
       "3      [2, 2, 4, 6, 7, 2, 8, 7, 3, 7, 3, 5, 4, 2, 4, ...   \n",
       "4      [2, 2, 4, 6, 7, 2, 8, 7, 3, 7, 3, 9, 7, 5, 2, ...   \n",
       "...                                                  ...   \n",
       "19598  [2, 2, 4, 6, 7, 2, 8, 7, 3, 7, 4, 2, 2, 7, 1, ...   \n",
       "19599  [2, 2, 4, 6, 7, 2, 8, 7, 3, 7, 3, 5, 4, 2, 4, ...   \n",
       "19600  [2, 2, 4, 6, 7, 2, 8, 7, 3, 7, 3, 5, 3, 7, 1, ...   \n",
       "19601  [2, 2, 4, 6, 7, 2, 8, 7, 3, 7, 3, 5, 4, 2, 4, ...   \n",
       "19602  [2, 2, 4, 6, 7, 2, 8, 7, 3, 7, 1, 8, 5, 8, 5, ...   \n",
       "\n",
       "       drug_fingerprint_encoded_len  drug_fingerprint_encoded_mismatch  \\\n",
       "0                               479                               7593   \n",
       "1                               137                               7935   \n",
       "2                              1203                               6869   \n",
       "3                              1026                               7046   \n",
       "4                               714                               7358   \n",
       "...                             ...                                ...   \n",
       "19598                           196                               7876   \n",
       "19599                           730                               7342   \n",
       "19600                           293                               7779   \n",
       "19601                           660                               7412   \n",
       "19602                           411                               7661   \n",
       "\n",
       "                         drug_fingerprint_encoded_padded  \n",
       "0      [-1, -1, -1, -1, -1, -1, -1, -1, -1, -1, -1, -...  \n",
       "1      [-1, -1, -1, -1, -1, -1, -1, -1, -1, -1, -1, -...  \n",
       "2      [-1, -1, -1, -1, -1, -1, -1, -1, -1, -1, -1, -...  \n",
       "3      [-1, -1, -1, -1, -1, -1, -1, -1, -1, -1, -1, -...  \n",
       "4      [-1, -1, -1, -1, -1, -1, -1, -1, -1, -1, -1, -...  \n",
       "...                                                  ...  \n",
       "19598  [-1, -1, -1, -1, -1, -1, -1, -1, -1, -1, -1, -...  \n",
       "19599  [-1, -1, -1, -1, -1, -1, -1, -1, -1, -1, -1, -...  \n",
       "19600  [-1, -1, -1, -1, -1, -1, -1, -1, -1, -1, -1, -...  \n",
       "19601  [-1, -1, -1, -1, -1, -1, -1, -1, -1, -1, -1, -...  \n",
       "19602  [-1, -1, -1, -1, -1, -1, -1, -1, -1, -1, -1, -...  \n",
       "\n",
       "[19169 rows x 6 columns]"
      ]
     },
     "execution_count": 26,
     "metadata": {},
     "output_type": "execute_result"
    }
   ],
   "source": [
    "ndm_df"
   ]
  },
  {
   "cell_type": "code",
   "execution_count": 27,
   "metadata": {
    "scrolled": true
   },
   "outputs": [
    {
     "data": {
      "text/html": [
       "<div>\n",
       "<style scoped>\n",
       "    .dataframe tbody tr th:only-of-type {\n",
       "        vertical-align: middle;\n",
       "    }\n",
       "\n",
       "    .dataframe tbody tr th {\n",
       "        vertical-align: top;\n",
       "    }\n",
       "\n",
       "    .dataframe thead th {\n",
       "        text-align: right;\n",
       "    }\n",
       "</style>\n",
       "<table border=\"1\" class=\"dataframe\">\n",
       "  <thead>\n",
       "    <tr style=\"text-align: right;\">\n",
       "      <th></th>\n",
       "      <th>hgnc_symbol</th>\n",
       "      <th>gene_sequence</th>\n",
       "      <th>amino_acid_sequence</th>\n",
       "      <th>target_gene_code</th>\n",
       "      <th>target_gene_encoded</th>\n",
       "      <th>target_gene_encoded_len</th>\n",
       "      <th>target_gene_encoded_mismatch</th>\n",
       "      <th>target_gene_encoded_padded</th>\n",
       "    </tr>\n",
       "  </thead>\n",
       "  <tbody>\n",
       "    <tr>\n",
       "      <th>0</th>\n",
       "      <td>AP3B1</td>\n",
       "      <td>ACTGCGCATGCGCAGGGGGTGGACTGCCAGGTCGGCTCAGGGAGCC...</td>\n",
       "      <td>TAHAQGVDCQVGSGSRDESGSACARSSVRELVLFRALWTGTFWREP...</td>\n",
       "      <td>ACTGCGCATGCGCAGGGGGTGGACTGCCAGGTCGGCTCAGGGAGCC...</td>\n",
       "      <td>[0, 1, 3, 2, 1, 2, 1, 0, 3, 2, 1, 2, 1, 0, 2, ...</td>\n",
       "      <td>294231</td>\n",
       "      <td>262366</td>\n",
       "      <td>[-1, -1, -1, -1, -1, -1, -1, -1, -1, -1, -1, -...</td>\n",
       "    </tr>\n",
       "    <tr>\n",
       "      <th>1</th>\n",
       "      <td>BRD4</td>\n",
       "      <td>GACGTCAGTGCGCTGGCGGCGGCGGCGGCGGCGGCGGCGGCGGCTG...</td>\n",
       "      <td>DVSALAAAAAAAAAAGLFVLVSRSRGAEAVAAAAAAAAAGGARGRA...</td>\n",
       "      <td>GACGTCAGTGCGCTGGCGGCGGCGGCGGCGGCGGCGGCGGCGGCTG...</td>\n",
       "      <td>[2, 0, 1, 2, 3, 1, 0, 2, 3, 2, 1, 2, 1, 3, 2, ...</td>\n",
       "      <td>97027</td>\n",
       "      <td>459570</td>\n",
       "      <td>[-1, -1, -1, -1, -1, -1, -1, -1, -1, -1, -1, -...</td>\n",
       "    </tr>\n",
       "    <tr>\n",
       "      <th>2</th>\n",
       "      <td>BRD2</td>\n",
       "      <td>GGCCAAATCGTCTTCAGAGTCCTCCAGTGAGGAAAGTAGCAGTGAG...</td>\n",
       "      <td>GQIVFRVLQ*GK*Q*ELL*GRGGGR*GRGGRRE*KLRLRGRKGSSL...</td>\n",
       "      <td>GGCCAAATCGTCTTCAGAGTCCTCCAGTGAGGAAAGTAGCAGTGAG...</td>\n",
       "      <td>[2, 2, 1, 1, 0, 0, 0, 3, 1, 2, 3, 1, 3, 3, 1, ...</td>\n",
       "      <td>3660</td>\n",
       "      <td>552937</td>\n",
       "      <td>[-1, -1, -1, -1, -1, -1, -1, -1, -1, -1, -1, -...</td>\n",
       "    </tr>\n",
       "    <tr>\n",
       "      <th>3</th>\n",
       "      <td>CWC27</td>\n",
       "      <td>AGCGGTGCTCGGGTCCGGTAACAACATGGCGGCGTCCGTGAGGGGC...</td>\n",
       "      <td>SGARVR*QHGGVREGLLWAGVVFGVPVLRDIDKLKLSCTTGLKEEC...</td>\n",
       "      <td>AGCGGTGCTCGGGTCCGGTAACAACATGGCGGCGTCCGTGAGGGGC...</td>\n",
       "      <td>[0, 2, 1, 2, 2, 3, 2, 1, 3, 1, 2, 2, 2, 3, 1, ...</td>\n",
       "      <td>249821</td>\n",
       "      <td>306776</td>\n",
       "      <td>[-1, -1, -1, -1, -1, -1, -1, -1, -1, -1, -1, -...</td>\n",
       "    </tr>\n",
       "    <tr>\n",
       "      <th>4</th>\n",
       "      <td>ZC3H18</td>\n",
       "      <td>AGGACTACCGTCGCGGCCTGATGACGTCGCACAATGGCCGGCCCCC...</td>\n",
       "      <td>RTTVAA**RRTMAGPRG*WSPFVPPVSSLEPEPVKSGRAKGRLLHA...</td>\n",
       "      <td>AGGACTACCGTCGCGGCCTGATGACGTCGCACAATGGCCGGCCCCC...</td>\n",
       "      <td>[0, 2, 2, 0, 1, 3, 0, 1, 1, 2, 3, 1, 2, 1, 2, ...</td>\n",
       "      <td>61586</td>\n",
       "      <td>495011</td>\n",
       "      <td>[-1, -1, -1, -1, -1, -1, -1, -1, -1, -1, -1, -...</td>\n",
       "    </tr>\n",
       "    <tr>\n",
       "      <th>...</th>\n",
       "      <td>...</td>\n",
       "      <td>...</td>\n",
       "      <td>...</td>\n",
       "      <td>...</td>\n",
       "      <td>...</td>\n",
       "      <td>...</td>\n",
       "      <td>...</td>\n",
       "      <td>...</td>\n",
       "    </tr>\n",
       "    <tr>\n",
       "      <th>325</th>\n",
       "      <td>BCS1L</td>\n",
       "      <td>AAGGAGGACGCTGAGCCGTCAAGATTAAGAACCTTCACCTGCGGGA...</td>\n",
       "      <td>KEDAEPSRLRTFTCGRAG*GRRQVGTREEIRLSSGQEG*GRERTD*...</td>\n",
       "      <td>AAGGAGGACGCTGAGCCGTCAAGATTAAGAACCTTCACCTGCGGGA...</td>\n",
       "      <td>[0, 0, 2, 2, 0, 2, 2, 0, 1, 2, 1, 3, 2, 0, 2, ...</td>\n",
       "      <td>4680</td>\n",
       "      <td>551917</td>\n",
       "      <td>[-1, -1, -1, -1, -1, -1, -1, -1, -1, -1, -1, -...</td>\n",
       "    </tr>\n",
       "    <tr>\n",
       "      <th>326</th>\n",
       "      <td>NDUFAF1</td>\n",
       "      <td>GGAAGGGAAAAGCAGATGGACCTATACGGGTAAAGTGGCTTCTGGG...</td>\n",
       "      <td>GREKQMDLYG*SGFWAEGTL*ARGGKRRQAGGWCVPGVGRRQSPGT...</td>\n",
       "      <td>GGAAGGGAAAAGCAGATGGACCTATACGGGTAAAGTGGCTTCTGGG...</td>\n",
       "      <td>[2, 2, 0, 0, 2, 2, 2, 0, 0, 0, 0, 2, 1, 0, 2, ...</td>\n",
       "      <td>15167</td>\n",
       "      <td>541430</td>\n",
       "      <td>[-1, -1, -1, -1, -1, -1, -1, -1, -1, -1, -1, -...</td>\n",
       "    </tr>\n",
       "    <tr>\n",
       "      <th>327</th>\n",
       "      <td>TMED5</td>\n",
       "      <td>GTCAGGGGGAGAGGCGGGCGGCGCTCACGCCTGGCCTGAGGGGGCC...</td>\n",
       "      <td>VRGRGGRRSRLA*GGRD*GGCGIGLLAPPRVPTLWRTALLFRRECS...</td>\n",
       "      <td>GTCAGGGGGAGAGGCGGGCGGCGCTCACGCCTGGCCTGAGGGGGCC...</td>\n",
       "      <td>[2, 3, 1, 0, 2, 2, 2, 2, 2, 0, 2, 0, 2, 2, 1, ...</td>\n",
       "      <td>30775</td>\n",
       "      <td>525822</td>\n",
       "      <td>[-1, -1, -1, -1, -1, -1, -1, -1, -1, -1, -1, -...</td>\n",
       "    </tr>\n",
       "    <tr>\n",
       "      <th>328</th>\n",
       "      <td>NDUFB9</td>\n",
       "      <td>GCCCTTCCGGCTGGCCCCGCTCAGTCACCCGCAGCAGGCGTGCAGT...</td>\n",
       "      <td>ALPAGPAQSPAAGVQFPGSPRGRGRSAP*WRSWRRDPT*PISKRCC...</td>\n",
       "      <td>GCCCTTCCGGCTGGCCCCGCTCAGTCACCCGCAGCAGGCGTGCAGT...</td>\n",
       "      <td>[2, 1, 1, 1, 3, 3, 1, 1, 2, 2, 1, 3, 2, 2, 1, ...</td>\n",
       "      <td>41548</td>\n",
       "      <td>515049</td>\n",
       "      <td>[-1, -1, -1, -1, -1, -1, -1, -1, -1, -1, -1, -...</td>\n",
       "    </tr>\n",
       "    <tr>\n",
       "      <th>329</th>\n",
       "      <td>PIGS</td>\n",
       "      <td>TGCGGGGCTAGAAGTGTGTTCTACAGGGAAGCGGGGAACTTCGTTC...</td>\n",
       "      <td>CGARSVFYREAGNFVPAAPKPARPLGCPSAPG*LPFRSPAKLPAEP...</td>\n",
       "      <td>TGCGGGGCTAGAAGTGTGTTCTACAGGGAAGCGGGGAACTTCGTTC...</td>\n",
       "      <td>[3, 2, 1, 2, 2, 2, 2, 1, 3, 0, 2, 0, 0, 2, 3, ...</td>\n",
       "      <td>18412</td>\n",
       "      <td>538185</td>\n",
       "      <td>[-1, -1, -1, -1, -1, -1, -1, -1, -1, -1, -1, -...</td>\n",
       "    </tr>\n",
       "  </tbody>\n",
       "</table>\n",
       "<p>330 rows × 8 columns</p>\n",
       "</div>"
      ],
      "text/plain": [
       "    hgnc_symbol                                      gene_sequence  \\\n",
       "0         AP3B1  ACTGCGCATGCGCAGGGGGTGGACTGCCAGGTCGGCTCAGGGAGCC...   \n",
       "1          BRD4  GACGTCAGTGCGCTGGCGGCGGCGGCGGCGGCGGCGGCGGCGGCTG...   \n",
       "2          BRD2  GGCCAAATCGTCTTCAGAGTCCTCCAGTGAGGAAAGTAGCAGTGAG...   \n",
       "3         CWC27  AGCGGTGCTCGGGTCCGGTAACAACATGGCGGCGTCCGTGAGGGGC...   \n",
       "4        ZC3H18  AGGACTACCGTCGCGGCCTGATGACGTCGCACAATGGCCGGCCCCC...   \n",
       "..          ...                                                ...   \n",
       "325       BCS1L  AAGGAGGACGCTGAGCCGTCAAGATTAAGAACCTTCACCTGCGGGA...   \n",
       "326     NDUFAF1  GGAAGGGAAAAGCAGATGGACCTATACGGGTAAAGTGGCTTCTGGG...   \n",
       "327       TMED5  GTCAGGGGGAGAGGCGGGCGGCGCTCACGCCTGGCCTGAGGGGGCC...   \n",
       "328      NDUFB9  GCCCTTCCGGCTGGCCCCGCTCAGTCACCCGCAGCAGGCGTGCAGT...   \n",
       "329        PIGS  TGCGGGGCTAGAAGTGTGTTCTACAGGGAAGCGGGGAACTTCGTTC...   \n",
       "\n",
       "                                   amino_acid_sequence  \\\n",
       "0    TAHAQGVDCQVGSGSRDESGSACARSSVRELVLFRALWTGTFWREP...   \n",
       "1    DVSALAAAAAAAAAAGLFVLVSRSRGAEAVAAAAAAAAAGGARGRA...   \n",
       "2    GQIVFRVLQ*GK*Q*ELL*GRGGGR*GRGGRRE*KLRLRGRKGSSL...   \n",
       "3    SGARVR*QHGGVREGLLWAGVVFGVPVLRDIDKLKLSCTTGLKEEC...   \n",
       "4    RTTVAA**RRTMAGPRG*WSPFVPPVSSLEPEPVKSGRAKGRLLHA...   \n",
       "..                                                 ...   \n",
       "325  KEDAEPSRLRTFTCGRAG*GRRQVGTREEIRLSSGQEG*GRERTD*...   \n",
       "326  GREKQMDLYG*SGFWAEGTL*ARGGKRRQAGGWCVPGVGRRQSPGT...   \n",
       "327  VRGRGGRRSRLA*GGRD*GGCGIGLLAPPRVPTLWRTALLFRRECS...   \n",
       "328  ALPAGPAQSPAAGVQFPGSPRGRGRSAP*WRSWRRDPT*PISKRCC...   \n",
       "329  CGARSVFYREAGNFVPAAPKPARPLGCPSAPG*LPFRSPAKLPAEP...   \n",
       "\n",
       "                                      target_gene_code  \\\n",
       "0    ACTGCGCATGCGCAGGGGGTGGACTGCCAGGTCGGCTCAGGGAGCC...   \n",
       "1    GACGTCAGTGCGCTGGCGGCGGCGGCGGCGGCGGCGGCGGCGGCTG...   \n",
       "2    GGCCAAATCGTCTTCAGAGTCCTCCAGTGAGGAAAGTAGCAGTGAG...   \n",
       "3    AGCGGTGCTCGGGTCCGGTAACAACATGGCGGCGTCCGTGAGGGGC...   \n",
       "4    AGGACTACCGTCGCGGCCTGATGACGTCGCACAATGGCCGGCCCCC...   \n",
       "..                                                 ...   \n",
       "325  AAGGAGGACGCTGAGCCGTCAAGATTAAGAACCTTCACCTGCGGGA...   \n",
       "326  GGAAGGGAAAAGCAGATGGACCTATACGGGTAAAGTGGCTTCTGGG...   \n",
       "327  GTCAGGGGGAGAGGCGGGCGGCGCTCACGCCTGGCCTGAGGGGGCC...   \n",
       "328  GCCCTTCCGGCTGGCCCCGCTCAGTCACCCGCAGCAGGCGTGCAGT...   \n",
       "329  TGCGGGGCTAGAAGTGTGTTCTACAGGGAAGCGGGGAACTTCGTTC...   \n",
       "\n",
       "                                   target_gene_encoded  \\\n",
       "0    [0, 1, 3, 2, 1, 2, 1, 0, 3, 2, 1, 2, 1, 0, 2, ...   \n",
       "1    [2, 0, 1, 2, 3, 1, 0, 2, 3, 2, 1, 2, 1, 3, 2, ...   \n",
       "2    [2, 2, 1, 1, 0, 0, 0, 3, 1, 2, 3, 1, 3, 3, 1, ...   \n",
       "3    [0, 2, 1, 2, 2, 3, 2, 1, 3, 1, 2, 2, 2, 3, 1, ...   \n",
       "4    [0, 2, 2, 0, 1, 3, 0, 1, 1, 2, 3, 1, 2, 1, 2, ...   \n",
       "..                                                 ...   \n",
       "325  [0, 0, 2, 2, 0, 2, 2, 0, 1, 2, 1, 3, 2, 0, 2, ...   \n",
       "326  [2, 2, 0, 0, 2, 2, 2, 0, 0, 0, 0, 2, 1, 0, 2, ...   \n",
       "327  [2, 3, 1, 0, 2, 2, 2, 2, 2, 0, 2, 0, 2, 2, 1, ...   \n",
       "328  [2, 1, 1, 1, 3, 3, 1, 1, 2, 2, 1, 3, 2, 2, 1, ...   \n",
       "329  [3, 2, 1, 2, 2, 2, 2, 1, 3, 0, 2, 0, 0, 2, 3, ...   \n",
       "\n",
       "     target_gene_encoded_len  target_gene_encoded_mismatch  \\\n",
       "0                     294231                        262366   \n",
       "1                      97027                        459570   \n",
       "2                       3660                        552937   \n",
       "3                     249821                        306776   \n",
       "4                      61586                        495011   \n",
       "..                       ...                           ...   \n",
       "325                     4680                        551917   \n",
       "326                    15167                        541430   \n",
       "327                    30775                        525822   \n",
       "328                    41548                        515049   \n",
       "329                    18412                        538185   \n",
       "\n",
       "                            target_gene_encoded_padded  \n",
       "0    [-1, -1, -1, -1, -1, -1, -1, -1, -1, -1, -1, -...  \n",
       "1    [-1, -1, -1, -1, -1, -1, -1, -1, -1, -1, -1, -...  \n",
       "2    [-1, -1, -1, -1, -1, -1, -1, -1, -1, -1, -1, -...  \n",
       "3    [-1, -1, -1, -1, -1, -1, -1, -1, -1, -1, -1, -...  \n",
       "4    [-1, -1, -1, -1, -1, -1, -1, -1, -1, -1, -1, -...  \n",
       "..                                                 ...  \n",
       "325  [-1, -1, -1, -1, -1, -1, -1, -1, -1, -1, -1, -...  \n",
       "326  [-1, -1, -1, -1, -1, -1, -1, -1, -1, -1, -1, -...  \n",
       "327  [-1, -1, -1, -1, -1, -1, -1, -1, -1, -1, -1, -...  \n",
       "328  [-1, -1, -1, -1, -1, -1, -1, -1, -1, -1, -1, -...  \n",
       "329  [-1, -1, -1, -1, -1, -1, -1, -1, -1, -1, -1, -...  \n",
       "\n",
       "[330 rows x 8 columns]"
      ]
     },
     "execution_count": 27,
     "metadata": {},
     "output_type": "execute_result"
    }
   ],
   "source": [
    "corona_gene_df"
   ]
  },
  {
   "cell_type": "markdown",
   "metadata": {},
   "source": [
    "## Prediction"
   ]
  },
  {
   "cell_type": "code",
   "execution_count": 18,
   "metadata": {
    "scrolled": true
   },
   "outputs": [],
   "source": [
    "X_0 = np.array(training_df['target_gene_encoded_padded'].tolist())\n",
    "X_1 = np.array(training_df['drug_fingerprint_encoded_padded'].tolist())"
   ]
  },
  {
   "cell_type": "code",
   "execution_count": 19,
   "metadata": {},
   "outputs": [
    {
     "data": {
      "text/plain": [
       "((84432,), (84432,))"
      ]
     },
     "execution_count": 19,
     "metadata": {},
     "output_type": "execute_result"
    }
   ],
   "source": [
    "X_0.shape,X_1.shape"
   ]
  },
  {
   "cell_type": "code",
   "execution_count": 31,
   "metadata": {},
   "outputs": [],
   "source": [
    "X_0_subset_smaller = X_0[:50,:30000]\n",
    "X_1_subset = X_1[:5000,:]"
   ]
  },
  {
   "cell_type": "code",
   "execution_count": 20,
   "metadata": {
    "scrolled": true
   },
   "outputs": [
    {
     "ename": "ValueError",
     "evalue": "invalid literal for int() with base 10: \"['-1', '-1', '-1', '-1', '-1', '-1', '-1', '-1', '-1', '-1', '-1', '-1', '-1', '-1', '-1', '-1', '-1', '-1', '-1', '-1', '-1', '-1', '-1', '-1', '-1', '-1', '-1', '-1', '-1', '-1', '-1', '-1', '-1', ",
     "output_type": "error",
     "traceback": [
      "\u001b[0;31m---------------------------------------------------------------------------\u001b[0m",
      "\u001b[0;31mValueError\u001b[0m                                Traceback (most recent call last)",
      "\u001b[0;32m<ipython-input-20-cc22d04e2404>\u001b[0m in \u001b[0;36m<module>\u001b[0;34m\u001b[0m\n\u001b[0;32m----> 1\u001b[0;31m \u001b[0mX_0\u001b[0m \u001b[0;34m=\u001b[0m \u001b[0mnp\u001b[0m\u001b[0;34m.\u001b[0m\u001b[0mvectorize\u001b[0m\u001b[0;34m(\u001b[0m\u001b[0;32mlambda\u001b[0m \u001b[0mx\u001b[0m\u001b[0;34m:\u001b[0m \u001b[0mint\u001b[0m\u001b[0;34m(\u001b[0m\u001b[0mx\u001b[0m\u001b[0;34m)\u001b[0m\u001b[0;34m)\u001b[0m\u001b[0;34m(\u001b[0m\u001b[0mX_0\u001b[0m\u001b[0;34m)\u001b[0m\u001b[0;34m\u001b[0m\u001b[0m\n\u001b[0m\u001b[1;32m      2\u001b[0m \u001b[0;31m#X_0_subset_smaller = np.vectorize(lambda x: int(x))(X_0_subset_smaller)\u001b[0m\u001b[0;34m\u001b[0m\u001b[0;34m\u001b[0m\u001b[0m\n\u001b[1;32m      3\u001b[0m \u001b[0mX_1\u001b[0m \u001b[0;34m=\u001b[0m \u001b[0mnp\u001b[0m\u001b[0;34m.\u001b[0m\u001b[0mvectorize\u001b[0m\u001b[0;34m(\u001b[0m\u001b[0;32mlambda\u001b[0m \u001b[0mx\u001b[0m\u001b[0;34m:\u001b[0m \u001b[0mint\u001b[0m\u001b[0;34m(\u001b[0m\u001b[0mx\u001b[0m\u001b[0;34m)\u001b[0m\u001b[0;34m)\u001b[0m\u001b[0;34m(\u001b[0m\u001b[0mX_1\u001b[0m\u001b[0;34m)\u001b[0m\u001b[0;34m\u001b[0m\u001b[0m\n\u001b[1;32m      4\u001b[0m \u001b[0;31m#X_1_subset = np.vectorize(lambda x: int(x))(X_1_subset)\u001b[0m\u001b[0;34m\u001b[0m\u001b[0;34m\u001b[0m\u001b[0m\n",
      "\u001b[0;32m/miniconda/lib/python3.6/site-packages/numpy/lib/function_base.py\u001b[0m in \u001b[0;36m__call__\u001b[0;34m(self, *args, **kwargs)\u001b[0m\n\u001b[1;32m   2753\u001b[0m             \u001b[0mvargs\u001b[0m\u001b[0;34m.\u001b[0m\u001b[0mextend\u001b[0m\u001b[0;34m(\u001b[0m\u001b[0;34m[\u001b[0m\u001b[0mkwargs\u001b[0m\u001b[0;34m[\u001b[0m\u001b[0m_n\u001b[0m\u001b[0;34m]\u001b[0m \u001b[0;32mfor\u001b[0m \u001b[0m_n\u001b[0m \u001b[0;32min\u001b[0m \u001b[0mnames\u001b[0m\u001b[0;34m]\u001b[0m\u001b[0;34m)\u001b[0m\u001b[0;34m\u001b[0m\u001b[0m\n\u001b[1;32m   2754\u001b[0m \u001b[0;34m\u001b[0m\u001b[0m\n\u001b[0;32m-> 2755\u001b[0;31m         \u001b[0;32mreturn\u001b[0m \u001b[0mself\u001b[0m\u001b[0;34m.\u001b[0m\u001b[0m_vectorize_call\u001b[0m\u001b[0;34m(\u001b[0m\u001b[0mfunc\u001b[0m\u001b[0;34m=\u001b[0m\u001b[0mfunc\u001b[0m\u001b[0;34m,\u001b[0m \u001b[0margs\u001b[0m\u001b[0;34m=\u001b[0m\u001b[0mvargs\u001b[0m\u001b[0;34m)\u001b[0m\u001b[0;34m\u001b[0m\u001b[0m\n\u001b[0m\u001b[1;32m   2756\u001b[0m \u001b[0;34m\u001b[0m\u001b[0m\n\u001b[1;32m   2757\u001b[0m     \u001b[0;32mdef\u001b[0m \u001b[0m_get_ufunc_and_otypes\u001b[0m\u001b[0;34m(\u001b[0m\u001b[0mself\u001b[0m\u001b[0;34m,\u001b[0m \u001b[0mfunc\u001b[0m\u001b[0;34m,\u001b[0m \u001b[0margs\u001b[0m\u001b[0;34m)\u001b[0m\u001b[0;34m:\u001b[0m\u001b[0;34m\u001b[0m\u001b[0m\n",
      "\u001b[0;32m/miniconda/lib/python3.6/site-packages/numpy/lib/function_base.py\u001b[0m in \u001b[0;36m_vectorize_call\u001b[0;34m(self, func, args)\u001b[0m\n\u001b[1;32m   2823\u001b[0m             \u001b[0mres\u001b[0m \u001b[0;34m=\u001b[0m \u001b[0mfunc\u001b[0m\u001b[0;34m(\u001b[0m\u001b[0;34m)\u001b[0m\u001b[0;34m\u001b[0m\u001b[0m\n\u001b[1;32m   2824\u001b[0m         \u001b[0;32melse\u001b[0m\u001b[0;34m:\u001b[0m\u001b[0;34m\u001b[0m\u001b[0m\n\u001b[0;32m-> 2825\u001b[0;31m             \u001b[0mufunc\u001b[0m\u001b[0;34m,\u001b[0m \u001b[0motypes\u001b[0m \u001b[0;34m=\u001b[0m \u001b[0mself\u001b[0m\u001b[0;34m.\u001b[0m\u001b[0m_get_ufunc_and_otypes\u001b[0m\u001b[0;34m(\u001b[0m\u001b[0mfunc\u001b[0m\u001b[0;34m=\u001b[0m\u001b[0mfunc\u001b[0m\u001b[0;34m,\u001b[0m \u001b[0margs\u001b[0m\u001b[0;34m=\u001b[0m\u001b[0margs\u001b[0m\u001b[0;34m)\u001b[0m\u001b[0;34m\u001b[0m\u001b[0m\n\u001b[0m\u001b[1;32m   2826\u001b[0m \u001b[0;34m\u001b[0m\u001b[0m\n\u001b[1;32m   2827\u001b[0m             \u001b[0;31m# Convert args to object arrays first\u001b[0m\u001b[0;34m\u001b[0m\u001b[0;34m\u001b[0m\u001b[0m\n",
      "\u001b[0;32m/miniconda/lib/python3.6/site-packages/numpy/lib/function_base.py\u001b[0m in \u001b[0;36m_get_ufunc_and_otypes\u001b[0;34m(self, func, args)\u001b[0m\n\u001b[1;32m   2783\u001b[0m \u001b[0;34m\u001b[0m\u001b[0m\n\u001b[1;32m   2784\u001b[0m             \u001b[0minputs\u001b[0m \u001b[0;34m=\u001b[0m \u001b[0;34m[\u001b[0m\u001b[0marg\u001b[0m\u001b[0;34m.\u001b[0m\u001b[0mflat\u001b[0m\u001b[0;34m[\u001b[0m\u001b[0;36m0\u001b[0m\u001b[0;34m]\u001b[0m \u001b[0;32mfor\u001b[0m \u001b[0marg\u001b[0m \u001b[0;32min\u001b[0m \u001b[0margs\u001b[0m\u001b[0;34m]\u001b[0m\u001b[0;34m\u001b[0m\u001b[0m\n\u001b[0;32m-> 2785\u001b[0;31m             \u001b[0moutputs\u001b[0m \u001b[0;34m=\u001b[0m \u001b[0mfunc\u001b[0m\u001b[0;34m(\u001b[0m\u001b[0;34m*\u001b[0m\u001b[0minputs\u001b[0m\u001b[0;34m)\u001b[0m\u001b[0;34m\u001b[0m\u001b[0m\n\u001b[0m\u001b[1;32m   2786\u001b[0m \u001b[0;34m\u001b[0m\u001b[0m\n\u001b[1;32m   2787\u001b[0m             \u001b[0;31m# Performance note: profiling indicates that -- for simple\u001b[0m\u001b[0;34m\u001b[0m\u001b[0;34m\u001b[0m\u001b[0m\n",
      "\u001b[0;32m<ipython-input-20-cc22d04e2404>\u001b[0m in \u001b[0;36m<lambda>\u001b[0;34m(x)\u001b[0m\n\u001b[0;32m----> 1\u001b[0;31m \u001b[0mX_0\u001b[0m \u001b[0;34m=\u001b[0m \u001b[0mnp\u001b[0m\u001b[0;34m.\u001b[0m\u001b[0mvectorize\u001b[0m\u001b[0;34m(\u001b[0m\u001b[0;32mlambda\u001b[0m \u001b[0mx\u001b[0m\u001b[0;34m:\u001b[0m \u001b[0mint\u001b[0m\u001b[0;34m(\u001b[0m\u001b[0mx\u001b[0m\u001b[0;34m)\u001b[0m\u001b[0;34m)\u001b[0m\u001b[0;34m(\u001b[0m\u001b[0mX_0\u001b[0m\u001b[0;34m)\u001b[0m\u001b[0;34m\u001b[0m\u001b[0m\n\u001b[0m\u001b[1;32m      2\u001b[0m \u001b[0;31m#X_0_subset_smaller = np.vectorize(lambda x: int(x))(X_0_subset_smaller)\u001b[0m\u001b[0;34m\u001b[0m\u001b[0;34m\u001b[0m\u001b[0m\n\u001b[1;32m      3\u001b[0m \u001b[0mX_1\u001b[0m \u001b[0;34m=\u001b[0m \u001b[0mnp\u001b[0m\u001b[0;34m.\u001b[0m\u001b[0mvectorize\u001b[0m\u001b[0;34m(\u001b[0m\u001b[0;32mlambda\u001b[0m \u001b[0mx\u001b[0m\u001b[0;34m:\u001b[0m \u001b[0mint\u001b[0m\u001b[0;34m(\u001b[0m\u001b[0mx\u001b[0m\u001b[0;34m)\u001b[0m\u001b[0;34m)\u001b[0m\u001b[0;34m(\u001b[0m\u001b[0mX_1\u001b[0m\u001b[0;34m)\u001b[0m\u001b[0;34m\u001b[0m\u001b[0m\n\u001b[1;32m      4\u001b[0m \u001b[0;31m#X_1_subset = np.vectorize(lambda x: int(x))(X_1_subset)\u001b[0m\u001b[0;34m\u001b[0m\u001b[0;34m\u001b[0m\u001b[0m\n",
      "\u001b[0;31mValueError\u001b[0m: invalid literal for int() with base 10: \"['-1', '-1', '-1', '-1', '-1', '-1', '-1', '-1', '-1', '-1', '-1', '-1', '-1', '-1', '-1', '-1', '-1', '-1', '-1', '-1', '-1', '-1', '-1', '-1', '-1', '-1', '-1', '-1', '-1', '-1', '-1', '-1', '-1', "
     ]
    }
   ],
   "source": [
    "X_0 = np.vectorize(lambda x: int(x))(X_0)\n",
    "#X_0_subset_smaller = np.vectorize(lambda x: int(x))(X_0_subset_smaller)\n",
    "X_1 = np.vectorize(lambda x: int(x))(X_1)\n",
    "#X_1_subset = np.vectorize(lambda x: int(x))(X_1_subset)"
   ]
  },
  {
   "cell_type": "code",
   "execution_count": 33,
   "metadata": {},
   "outputs": [],
   "source": [
    "def generate_pairs(X_0, X_1, target_length):\n",
    "    X = np.ones((X_0.shape[0] * X_1.shape[0], X_0.shape[1] + X_1.shape[1]))\n",
    "    for i in tqdm(range(X_0.shape[0])):\n",
    "        for j in range(X_1.shape[0]):\n",
    "            X[int((X_1.shape[0]*i)+j),:] = np.hstack((X_0[i,:], X_1[j,:])) + 1\n",
    "    return X"
   ]
  },
  {
   "cell_type": "code",
   "execution_count": 34,
   "metadata": {},
   "outputs": [],
   "source": [
    "target_length = 30723"
   ]
  },
  {
   "cell_type": "code",
   "execution_count": 35,
   "metadata": {},
   "outputs": [
    {
     "data": {
      "application/vnd.jupyter.widget-view+json": {
       "model_id": "86a6073d4d354e99a43af5c3e97a524b",
       "version_major": 2,
       "version_minor": 0
      },
      "text/plain": [
       "HBox(children=(FloatProgress(value=0.0, max=50.0), HTML(value='')))"
      ]
     },
     "metadata": {},
     "output_type": "display_data"
    },
    {
     "name": "stdout",
     "output_type": "stream",
     "text": [
      "\n"
     ]
    }
   ],
   "source": [
    "X = generate_pairs(X_0_subset_smaller, X_1_subset, target_length = target_length)"
   ]
  },
  {
   "cell_type": "code",
   "execution_count": 36,
   "metadata": {},
   "outputs": [],
   "source": [
    "#Middle out trimming\n",
    "#target_length = 30723\n",
    "X = X[:, (int(X.shape[1]/2) - int(target_length/2)):(int(X.shape[1]/2) + int(target_length/2)) + 1]"
   ]
  },
  {
   "cell_type": "code",
   "execution_count": 37,
   "metadata": {},
   "outputs": [],
   "source": [
    "#Side trimmming\n",
    "#target_length = 30723\n",
    "#X = X[:, :target_length]"
   ]
  },
  {
   "cell_type": "code",
   "execution_count": 38,
   "metadata": {},
   "outputs": [
    {
     "data": {
      "text/plain": [
       "(250000, 30723)"
      ]
     },
     "execution_count": 38,
     "metadata": {},
     "output_type": "execute_result"
    }
   ],
   "source": [
    "X.shape"
   ]
  },
  {
   "cell_type": "code",
   "execution_count": 39,
   "metadata": {},
   "outputs": [],
   "source": [
    "from tensorflow import keras\n",
    "\n",
    "use_model = keras.models.load_model('models/CNN_GPU_VGG_rebalance.model')"
   ]
  },
  {
   "cell_type": "code",
   "execution_count": 40,
   "metadata": {},
   "outputs": [],
   "source": [
    "# use_model = keras.models.load_model('models/CNN_GPU_VGG_87p.model')"
   ]
  },
  {
   "cell_type": "code",
   "execution_count": 49,
   "metadata": {
    "collapsed": true
   },
   "outputs": [
    {
     "ename": "ResourceExhaustedError",
     "evalue": "OOM when allocating tensor with shape[32,1,5121,64] and type float on /job:localhost/replica:0/task:0/device:GPU:0 by allocator GPU_0_bfc\n\t [[{{node conv1d_7_1/conv1d/Conv2D-0-0-TransposeNCHWToNHWC-LayoutOptimizer}} = Transpose[T=DT_FLOAT, Tperm=DT_INT32, _device=\"/job:localhost/replica:0/task:0/device:GPU:0\"](conv1d_7_1/conv1d/Conv2D, PermConstNCHWToNHWC-LayoutOptimizer)]]\nHint: If you want to see a list of allocated tensors when OOM happens, add report_tensor_allocations_upon_oom to RunOptions for current allocation info.\n\n\t [[{{node activation_1_1/Sigmoid/_1435}} = _Recv[client_terminated=false, recv_device=\"/job:localhost/replica:0/task:0/device:CPU:0\", send_device=\"/job:localhost/replica:0/task:0/device:GPU:0\", send_device_incarnation=1, tensor_name=\"edge_292_activation_1_1/Sigmoid\", tensor_type=DT_FLOAT, _device=\"/job:localhost/replica:0/task:0/device:CPU:0\"]()]]\nHint: If you want to see a list of allocated tensors when OOM happens, add report_tensor_allocations_upon_oom to RunOptions for current allocation info.\n",
     "output_type": "error",
     "traceback": [
      "\u001b[0;31m---------------------------------------------------------------------------\u001b[0m",
      "\u001b[0;31mResourceExhaustedError\u001b[0m                    Traceback (most recent call last)",
      "\u001b[0;32m<ipython-input-49-c94d85f0ac9d>\u001b[0m in \u001b[0;36m<module>\u001b[0;34m\u001b[0m\n\u001b[0;32m----> 1\u001b[0;31m \u001b[0mY\u001b[0m \u001b[0;34m=\u001b[0m \u001b[0muse_model\u001b[0m\u001b[0;34m.\u001b[0m\u001b[0mpredict\u001b[0m\u001b[0;34m(\u001b[0m\u001b[0mX\u001b[0m\u001b[0;34m[\u001b[0m\u001b[0;34m...\u001b[0m\u001b[0;34m,\u001b[0m \u001b[0mnp\u001b[0m\u001b[0;34m.\u001b[0m\u001b[0mnewaxis\u001b[0m\u001b[0;34m]\u001b[0m\u001b[0;34m)\u001b[0m\u001b[0;34m\u001b[0m\u001b[0m\n\u001b[0m",
      "\u001b[0;32m/miniconda/lib/python3.6/site-packages/tensorflow/python/keras/engine/training.py\u001b[0m in \u001b[0;36mpredict\u001b[0;34m(self, x, batch_size, verbose, steps, max_queue_size, workers, use_multiprocessing)\u001b[0m\n\u001b[1;32m   1876\u001b[0m     \u001b[0;32melse\u001b[0m\u001b[0;34m:\u001b[0m\u001b[0;34m\u001b[0m\u001b[0m\n\u001b[1;32m   1877\u001b[0m       return training_arrays.predict_loop(\n\u001b[0;32m-> 1878\u001b[0;31m           self, x, batch_size=batch_size, verbose=verbose, steps=steps)\n\u001b[0m\u001b[1;32m   1879\u001b[0m \u001b[0;34m\u001b[0m\u001b[0m\n\u001b[1;32m   1880\u001b[0m   \u001b[0;32mdef\u001b[0m \u001b[0mtrain_on_batch\u001b[0m\u001b[0;34m(\u001b[0m\u001b[0mself\u001b[0m\u001b[0;34m,\u001b[0m \u001b[0mx\u001b[0m\u001b[0;34m,\u001b[0m \u001b[0my\u001b[0m\u001b[0;34m=\u001b[0m\u001b[0;32mNone\u001b[0m\u001b[0;34m,\u001b[0m \u001b[0msample_weight\u001b[0m\u001b[0;34m=\u001b[0m\u001b[0;32mNone\u001b[0m\u001b[0;34m,\u001b[0m \u001b[0mclass_weight\u001b[0m\u001b[0;34m=\u001b[0m\u001b[0;32mNone\u001b[0m\u001b[0;34m)\u001b[0m\u001b[0;34m:\u001b[0m\u001b[0;34m\u001b[0m\u001b[0m\n",
      "\u001b[0;32m/miniconda/lib/python3.6/site-packages/tensorflow/python/keras/engine/training_arrays.py\u001b[0m in \u001b[0;36mpredict_loop\u001b[0;34m(model, inputs, batch_size, verbose, steps)\u001b[0m\n\u001b[1;32m    324\u001b[0m         \u001b[0mins_batch\u001b[0m\u001b[0;34m[\u001b[0m\u001b[0mi\u001b[0m\u001b[0;34m]\u001b[0m \u001b[0;34m=\u001b[0m \u001b[0mins_batch\u001b[0m\u001b[0;34m[\u001b[0m\u001b[0mi\u001b[0m\u001b[0;34m]\u001b[0m\u001b[0;34m.\u001b[0m\u001b[0mtoarray\u001b[0m\u001b[0;34m(\u001b[0m\u001b[0;34m)\u001b[0m\u001b[0;34m\u001b[0m\u001b[0m\n\u001b[1;32m    325\u001b[0m \u001b[0;34m\u001b[0m\u001b[0m\n\u001b[0;32m--> 326\u001b[0;31m       \u001b[0mbatch_outs\u001b[0m \u001b[0;34m=\u001b[0m \u001b[0mf\u001b[0m\u001b[0;34m(\u001b[0m\u001b[0mins_batch\u001b[0m\u001b[0;34m)\u001b[0m\u001b[0;34m\u001b[0m\u001b[0m\n\u001b[0m\u001b[1;32m    327\u001b[0m       \u001b[0;32mif\u001b[0m \u001b[0;32mnot\u001b[0m \u001b[0misinstance\u001b[0m\u001b[0;34m(\u001b[0m\u001b[0mbatch_outs\u001b[0m\u001b[0;34m,\u001b[0m \u001b[0mlist\u001b[0m\u001b[0;34m)\u001b[0m\u001b[0;34m:\u001b[0m\u001b[0;34m\u001b[0m\u001b[0m\n\u001b[1;32m    328\u001b[0m         \u001b[0mbatch_outs\u001b[0m \u001b[0;34m=\u001b[0m \u001b[0;34m[\u001b[0m\u001b[0mbatch_outs\u001b[0m\u001b[0;34m]\u001b[0m\u001b[0;34m\u001b[0m\u001b[0m\n",
      "\u001b[0;32m/miniconda/lib/python3.6/site-packages/tensorflow/python/keras/backend.py\u001b[0m in \u001b[0;36m__call__\u001b[0;34m(self, inputs)\u001b[0m\n\u001b[1;32m   2984\u001b[0m \u001b[0;34m\u001b[0m\u001b[0m\n\u001b[1;32m   2985\u001b[0m     fetched = self._callable_fn(*array_vals,\n\u001b[0;32m-> 2986\u001b[0;31m                                 run_metadata=self.run_metadata)\n\u001b[0m\u001b[1;32m   2987\u001b[0m     \u001b[0mself\u001b[0m\u001b[0;34m.\u001b[0m\u001b[0m_call_fetch_callbacks\u001b[0m\u001b[0;34m(\u001b[0m\u001b[0mfetched\u001b[0m\u001b[0;34m[\u001b[0m\u001b[0;34m-\u001b[0m\u001b[0mlen\u001b[0m\u001b[0;34m(\u001b[0m\u001b[0mself\u001b[0m\u001b[0;34m.\u001b[0m\u001b[0m_fetches\u001b[0m\u001b[0;34m)\u001b[0m\u001b[0;34m:\u001b[0m\u001b[0;34m]\u001b[0m\u001b[0;34m)\u001b[0m\u001b[0;34m\u001b[0m\u001b[0m\n\u001b[1;32m   2988\u001b[0m     \u001b[0;32mreturn\u001b[0m \u001b[0mfetched\u001b[0m\u001b[0;34m[\u001b[0m\u001b[0;34m:\u001b[0m\u001b[0mlen\u001b[0m\u001b[0;34m(\u001b[0m\u001b[0mself\u001b[0m\u001b[0;34m.\u001b[0m\u001b[0moutputs\u001b[0m\u001b[0;34m)\u001b[0m\u001b[0;34m]\u001b[0m\u001b[0;34m\u001b[0m\u001b[0m\n",
      "\u001b[0;32m/miniconda/lib/python3.6/site-packages/tensorflow/python/client/session.py\u001b[0m in \u001b[0;36m__call__\u001b[0;34m(self, *args, **kwargs)\u001b[0m\n\u001b[1;32m   1437\u001b[0m           ret = tf_session.TF_SessionRunCallable(\n\u001b[1;32m   1438\u001b[0m               \u001b[0mself\u001b[0m\u001b[0;34m.\u001b[0m\u001b[0m_session\u001b[0m\u001b[0;34m.\u001b[0m\u001b[0m_session\u001b[0m\u001b[0;34m,\u001b[0m \u001b[0mself\u001b[0m\u001b[0;34m.\u001b[0m\u001b[0m_handle\u001b[0m\u001b[0;34m,\u001b[0m \u001b[0margs\u001b[0m\u001b[0;34m,\u001b[0m \u001b[0mstatus\u001b[0m\u001b[0;34m,\u001b[0m\u001b[0;34m\u001b[0m\u001b[0m\n\u001b[0;32m-> 1439\u001b[0;31m               run_metadata_ptr)\n\u001b[0m\u001b[1;32m   1440\u001b[0m         \u001b[0;32mif\u001b[0m \u001b[0mrun_metadata\u001b[0m\u001b[0;34m:\u001b[0m\u001b[0;34m\u001b[0m\u001b[0m\n\u001b[1;32m   1441\u001b[0m           \u001b[0mproto_data\u001b[0m \u001b[0;34m=\u001b[0m \u001b[0mtf_session\u001b[0m\u001b[0;34m.\u001b[0m\u001b[0mTF_GetBuffer\u001b[0m\u001b[0;34m(\u001b[0m\u001b[0mrun_metadata_ptr\u001b[0m\u001b[0;34m)\u001b[0m\u001b[0;34m\u001b[0m\u001b[0m\n",
      "\u001b[0;32m/miniconda/lib/python3.6/site-packages/tensorflow/python/framework/errors_impl.py\u001b[0m in \u001b[0;36m__exit__\u001b[0;34m(self, type_arg, value_arg, traceback_arg)\u001b[0m\n\u001b[1;32m    526\u001b[0m             \u001b[0;32mNone\u001b[0m\u001b[0;34m,\u001b[0m \u001b[0;32mNone\u001b[0m\u001b[0;34m,\u001b[0m\u001b[0;34m\u001b[0m\u001b[0m\n\u001b[1;32m    527\u001b[0m             \u001b[0mcompat\u001b[0m\u001b[0;34m.\u001b[0m\u001b[0mas_text\u001b[0m\u001b[0;34m(\u001b[0m\u001b[0mc_api\u001b[0m\u001b[0;34m.\u001b[0m\u001b[0mTF_Message\u001b[0m\u001b[0;34m(\u001b[0m\u001b[0mself\u001b[0m\u001b[0;34m.\u001b[0m\u001b[0mstatus\u001b[0m\u001b[0;34m.\u001b[0m\u001b[0mstatus\u001b[0m\u001b[0;34m)\u001b[0m\u001b[0;34m)\u001b[0m\u001b[0;34m,\u001b[0m\u001b[0;34m\u001b[0m\u001b[0m\n\u001b[0;32m--> 528\u001b[0;31m             c_api.TF_GetCode(self.status.status))\n\u001b[0m\u001b[1;32m    529\u001b[0m     \u001b[0;31m# Delete the underlying status object from memory otherwise it stays alive\u001b[0m\u001b[0;34m\u001b[0m\u001b[0;34m\u001b[0m\u001b[0m\n\u001b[1;32m    530\u001b[0m     \u001b[0;31m# as there is a reference to status from this from the traceback due to\u001b[0m\u001b[0;34m\u001b[0m\u001b[0;34m\u001b[0m\u001b[0m\n",
      "\u001b[0;31mResourceExhaustedError\u001b[0m: OOM when allocating tensor with shape[32,1,5121,64] and type float on /job:localhost/replica:0/task:0/device:GPU:0 by allocator GPU_0_bfc\n\t [[{{node conv1d_7_1/conv1d/Conv2D-0-0-TransposeNCHWToNHWC-LayoutOptimizer}} = Transpose[T=DT_FLOAT, Tperm=DT_INT32, _device=\"/job:localhost/replica:0/task:0/device:GPU:0\"](conv1d_7_1/conv1d/Conv2D, PermConstNCHWToNHWC-LayoutOptimizer)]]\nHint: If you want to see a list of allocated tensors when OOM happens, add report_tensor_allocations_upon_oom to RunOptions for current allocation info.\n\n\t [[{{node activation_1_1/Sigmoid/_1435}} = _Recv[client_terminated=false, recv_device=\"/job:localhost/replica:0/task:0/device:CPU:0\", send_device=\"/job:localhost/replica:0/task:0/device:GPU:0\", send_device_incarnation=1, tensor_name=\"edge_292_activation_1_1/Sigmoid\", tensor_type=DT_FLOAT, _device=\"/job:localhost/replica:0/task:0/device:CPU:0\"]()]]\nHint: If you want to see a list of allocated tensors when OOM happens, add report_tensor_allocations_upon_oom to RunOptions for current allocation info.\n"
     ]
    }
   ],
   "source": [
    "Y = use_model.predict(X[..., np.newaxis])"
   ]
  },
  {
   "cell_type": "code",
   "execution_count": 66,
   "metadata": {},
   "outputs": [
    {
     "data": {
      "application/vnd.jupyter.widget-view+json": {
       "model_id": "9c3449070dc4491eb62b46b4d9d013b1",
       "version_major": 2,
       "version_minor": 0
      },
      "text/plain": [
       "HBox(children=(FloatProgress(value=0.0, max=10000.0), HTML(value='')))"
      ]
     },
     "metadata": {},
     "output_type": "display_data"
    },
    {
     "name": "stdout",
     "output_type": "stream",
     "text": [
      "\n"
     ]
    }
   ],
   "source": [
    "for X_sub in tqdm(np.array_split(X,10000)): \n",
    "    \n",
    "    #print(X_sub.shape)\n",
    "    Y = np.vstack((Y, use_model.predict(X_sub[..., np.newaxis])))"
   ]
  },
  {
   "cell_type": "code",
   "execution_count": 67,
   "metadata": {},
   "outputs": [
    {
     "data": {
      "text/plain": [
       "Text(0,0.5,'Number of Pairs')"
      ]
     },
     "execution_count": 67,
     "metadata": {},
     "output_type": "execute_result"
    },
    {
     "data": {
      "image/png": "[encoded data removed]",
      "text/plain": [
       "<Figure size 432x288 with 1 Axes>"
      ]
     },
     "metadata": {
      "needs_background": "light"
     },
     "output_type": "display_data"
    }
   ],
   "source": [
    "plt.hist(Y, bins = 100, log = True)\n",
    "plt.xlabel('Predicted Score of Binding')\n",
    "plt.ylabel('Number of Pairs')"
   ]
  },
  {
   "cell_type": "code",
   "execution_count": 73,
   "metadata": {},
   "outputs": [
    {
     "data": {
      "text/plain": [
       "115"
      ]
     },
     "execution_count": 73,
     "metadata": {},
     "output_type": "execute_result"
    }
   ],
   "source": [
    "len(np.where(Y > 0.8)[0])"
   ]
  },
  {
   "cell_type": "code",
   "execution_count": 72,
   "metadata": {},
   "outputs": [
    {
     "data": {
      "text/plain": [
       "(array([251725, 254187, 256725, 259187, 261725, 264187, 266725, 269187,\n",
       "        271725, 274187, 276725, 279187, 281725, 284225, 286687, 289975,\n",
       "        292437, 294975, 297437, 299975, 302437, 304975, 307437, 309975,\n",
       "        312437, 314975, 317437, 319975, 322437, 324975, 327437, 329975,\n",
       "        332437, 334975, 337437, 339975, 342437, 344975, 347437, 349975,\n",
       "        352437, 354975, 357437, 359975, 362437, 364975, 367437, 369975,\n",
       "        372437, 374975, 377437, 379975, 382437, 384975, 387437, 389975,\n",
       "        392437, 394975, 397437, 399975, 402437, 404975, 407437, 409975,\n",
       "        412437, 414975, 417437, 419975, 422437, 424975, 427437, 429975,\n",
       "        432437, 434975, 437437, 439975, 442437, 444975, 447437, 449975,\n",
       "        452437, 454975, 457437, 459975, 462437, 464975, 467437, 469975,\n",
       "        472437, 474975, 477437, 479975, 482437, 484975, 487437, 489975,\n",
       "        492437, 494975, 497437, 499975, 502437, 504975, 507437, 509975,\n",
       "        512437, 514975, 517437, 519975, 522437, 524975, 527437, 529975,\n",
       "        532437, 534975, 537437]),\n",
       " array([0, 0, 0, 0, 0, 0, 0, 0, 0, 0, 0, 0, 0, 0, 0, 0, 0, 0, 0, 0, 0, 0,\n",
       "        0, 0, 0, 0, 0, 0, 0, 0, 0, 0, 0, 0, 0, 0, 0, 0, 0, 0, 0, 0, 0, 0,\n",
       "        0, 0, 0, 0, 0, 0, 0, 0, 0, 0, 0, 0, 0, 0, 0, 0, 0, 0, 0, 0, 0, 0,\n",
       "        0, 0, 0, 0, 0, 0, 0, 0, 0, 0, 0, 0, 0, 0, 0, 0, 0, 0, 0, 0, 0, 0,\n",
       "        0, 0, 0, 0, 0, 0, 0, 0, 0, 0, 0, 0, 0, 0, 0, 0, 0, 0, 0, 0, 0, 0,\n",
       "        0, 0, 0, 0, 0]))"
      ]
     },
     "execution_count": 72,
     "metadata": {},
     "output_type": "execute_result"
    }
   ],
   "source": [
    "np.where(Y > 0.8)"
   ]
  },
  {
   "cell_type": "code",
   "execution_count": null,
   "metadata": {},
   "outputs": [],
   "source": []
  }
 ],
 "metadata": {
  "kernelspec": {
   "display_name": "Python 3",
   "language": "python",
   "name": "python3"
  },
  "language_info": {
   "codemirror_mode": {
    "name": "ipython",
    "version": 3
   },
   "file_extension": ".py",
   "mimetype": "text/x-python",
   "name": "python",
   "nbconvert_exporter": "python",
   "pygments_lexer": "ipython3",
   "version": "3.6.6"
  }
 },
 "nbformat": 4,
 "nbformat_minor": 2
}
