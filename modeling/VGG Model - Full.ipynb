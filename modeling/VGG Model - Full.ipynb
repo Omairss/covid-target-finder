{
 "cells": [
  {
   "cell_type": "code",
   "execution_count": 10,
   "metadata": {
    "scrolled": true
   },
   "outputs": [
    {
     "data": {
      "text/plain": [
       "<module 'tensorflow' from '/miniconda/lib/python3.6/site-packages/tensorflow/__init__.py'>"
      ]
     },
     "execution_count": 10,
     "metadata": {},
     "output_type": "execute_result"
    }
   ],
   "source": [
    "import pickle as pkl\n",
    "import lxml\n",
    "import pandas as pd\n",
    "import numpy as np\n",
    "import matplotlib.pyplot as plt\n",
    "import tensorflow.keras\n",
    "import importlib\n",
    "import time\n",
    "\n",
    "from tensorflow.keras.datasets import imdb\n",
    "from tqdm.notebook import tqdm\n",
    "from sklearn.metrics import confusion_matrix\n",
    "from sklearn.utils.multiclass import unique_labels\n",
    "from sklearn.metrics import f1_score, classification_report, confusion_matrix\n",
    "from sklearn.model_selection import train_test_split\n",
    "from sklearn.preprocessing import LabelEncoder, OneHotEncoder\n",
    "from ast import literal_eval\n",
    "from sklearn.model_selection import train_test_split\n",
    "from sklearn.linear_model import LogisticRegression\n",
    "from sklearn.metrics import confusion_matrix, f1_score\n",
    "from tensorflow.keras.initializers import glorot_uniform\n",
    "from tensorflow.keras.models import Sequential, Model\n",
    "from tensorflow.keras.layers import Input, Dense, Activation, Dropout, Conv1D, Flatten, MaxPooling1D,\\\n",
    "                        AveragePooling1D, Concatenate, LeakyReLU, Embedding,\\\n",
    "                        GlobalMaxPooling1D,GlobalAveragePooling1D,GaussianNoise,BatchNormalization,Add, ZeroPadding1D\n",
    "\n",
    "\n",
    "importlib.reload(tensorflow)"
   ]
  },
  {
   "cell_type": "markdown",
   "metadata": {},
   "source": [
    "## Helper Functions"
   ]
  },
  {
   "cell_type": "code",
   "execution_count": 62,
   "metadata": {},
   "outputs": [],
   "source": [
    "def plot_confusion_matrix(y_true, y_pred, classes,\n",
    "                          normalize=False,\n",
    "                          title=None,\n",
    "                          cmap=plt.cm.Blues):\n",
    "    \"\"\"\n",
    "    This function prints and plots the confusion matrix.\n",
    "    Normalization can be applied by setting `normalize=True`.\n",
    "    \n",
    "    NOTE: Taken from sklearn example\n",
    "    \"\"\"\n",
    "    if not title:\n",
    "        if normalize:\n",
    "            title = 'Normalized confusion matrix'\n",
    "        else:\n",
    "            title = 'Confusion matrix, without normalization'\n",
    "\n",
    "    # Compute confusion matrix\n",
    "    cm = confusion_matrix(y_true, y_pred)\n",
    "    # Only use the labels that appear in the data\n",
    "    classes = [0,1]\n",
    "    if normalize:\n",
    "        cm = cm.astype('float') / cm.sum(axis=1)[:, np.newaxis]\n",
    "        print(\"Normalized confusion matrix\")\n",
    "    else:\n",
    "        print('Confusion matrix, without normalization')\n",
    "\n",
    "    print(cm)\n",
    "\n",
    "    fig, ax = plt.subplots()\n",
    "    \n",
    "    #ax.figsize((10, 10))\n",
    "    im = ax.imshow(cm, interpolation='nearest', cmap=cmap)\n",
    "    ax.figure.colorbar(im, ax=ax)\n",
    "    # We want to show all ticks...\n",
    "    ax.set(xticks=np.arange(cm.shape[1]),\n",
    "           yticks=np.arange(cm.shape[0]),\n",
    "           # ... and label them with the respective list entries\n",
    "           xticklabels=classes, yticklabels=classes,\n",
    "           title=title,\n",
    "           ylabel='True label',\n",
    "           xlabel='Predicted label')\n",
    "\n",
    "    # Rotate the tick labels and set their alignment.\n",
    "    plt.setp(ax.get_xticklabels(), rotation=45, ha=\"right\",\n",
    "             rotation_mode=\"anchor\")\n",
    "\n",
    "    # Loop over data dimensions and create text annotations.\n",
    "    fmt = '.2f' if normalize else 'd'\n",
    "    thresh = cm.max() / 2.\n",
    "    for i in range(cm.shape[0]):\n",
    "        for j in range(cm.shape[1]):\n",
    "            ax.text(j, i, format(cm[i, j], fmt),\n",
    "                    ha=\"center\", va=\"center\",\n",
    "                    color=\"white\" if cm[i, j] > thresh else \"black\")\n",
    "    fig.tight_layout()\n",
    "    return ax"
   ]
  },
  {
   "cell_type": "code",
   "execution_count": 19,
   "metadata": {},
   "outputs": [],
   "source": [
    "from IPython.display import clear_output\n",
    "class PlotLosses(tensorflow.keras.callbacks.Callback):\n",
    "    def on_train_begin(self, logs={}):\n",
    "        self.i = 0\n",
    "        self.x = []\n",
    "        self.losses = []\n",
    "        self.val_losses = []\n",
    "        \n",
    "        self.fig = plt.figure()\n",
    "        \n",
    "        self.logs = []\n",
    "\n",
    "    def on_epoch_end(self, epoch, logs={}):\n",
    "        \n",
    "        self.logs.append(logs)\n",
    "        self.x.append(self.i)\n",
    "        self.losses.append(logs.get('loss'))\n",
    "        self.val_losses.append(logs.get('val_loss'))\n",
    "        self.i += 1\n",
    "        \n",
    "        clear_output(wait=True)\n",
    "        plt.plot(self.x, self.losses, label=\"loss\")\n",
    "        plt.plot(self.x, self.val_losses, label=\"val_loss\")\n",
    "        plt.legend()\n",
    "        plt.show()\n",
    "        \n",
    "        plt.plot(range(len(global_history)), global_history, label = 'Accuracy - Global')\n",
    "        plt.plot(range(len(global_val_history)), global_val_history, label = 'Accuracy - Global - Va;')\n",
    "        plt.legend()\n",
    "        plt.show()\n",
    "        \n",
    "        plt.hist(predictions, label = 'Prediction Distribution')\n",
    "        plt.legend()\n",
    "        plt.show()    \n",
    "        \n",
    "        plt.hist(actual, label = 'Actual Distribution')\n",
    "        plt.legend()\n",
    "        plt.show()\n",
    "        \n",
    "plot_losses = PlotLosses()"
   ]
  },
  {
   "cell_type": "code",
   "execution_count": 36,
   "metadata": {},
   "outputs": [],
   "source": [
    "tqdm.pandas()"
   ]
  },
  {
   "cell_type": "code",
   "execution_count": 37,
   "metadata": {},
   "outputs": [],
   "source": [
    "import tensorflow as tf\n",
    "with tf.Session() as sess:\n",
    "    devices = sess.list_devices()"
   ]
  },
  {
   "cell_type": "code",
   "execution_count": 4,
   "metadata": {},
   "outputs": [],
   "source": [
    "import sys"
   ]
  },
  {
   "cell_type": "code",
   "execution_count": null,
   "metadata": {},
   "outputs": [],
   "source": [
    "!{sys.executable} -m list"
   ]
  },
  {
   "cell_type": "markdown",
   "metadata": {},
   "source": [
    "## Reading the Data"
   ]
  },
  {
   "cell_type": "code",
   "execution_count": 6,
   "metadata": {},
   "outputs": [],
   "source": [
    "iterator = True\n",
    "\n",
    "\n",
    "if iterator == True:\n",
    "    \n",
    "    drugbank = pd.read_csv('data/intermediate/interactions_preprocessed.csv', chunksize = 7500, iterator = True, converters={\"target_gene_encoded_padded\": \\\n",
    "                                                                                         lambda x: np.array(x.strip(\"[]\").replace(\"'\",\"\").split(\", \")),\n",
    "                                                                                        \"drug_fingerprint_encoded_padded\": \\\n",
    "                                                                                        lambda x: np.array(x.strip(\"[]\").replace(\"'\",\"\").split(\", \"))})\n",
    "if iterator == False:\n",
    "\n",
    "    drugbank = pd.read_csv('data/intermediate/interactions_preprocessed.csv', converters={\"target_gene_encoded_padded\": \\\n",
    "                                                                                         lambda x: np.array(x.strip(\"[]\").replace(\"'\",\"\").split(\", \")),\n",
    "                                                                                        \"drug_fingerprint_encoded_padded\": \\\n",
    "                                                                                        lambda x: np.array(x.strip(\"[]\").replace(\"'\",\"\").split(\", \"))})"
   ]
  },
  {
   "cell_type": "markdown",
   "metadata": {},
   "source": [
    "## CNN in Chunks"
   ]
  },
  {
   "cell_type": "code",
   "execution_count": 58,
   "metadata": {},
   "outputs": [],
   "source": [
    "\n",
    "#drugbank = drugbank_reader.__next__()\n"
   ]
  },
  {
   "cell_type": "code",
   "execution_count": null,
   "metadata": {},
   "outputs": [],
   "source": [
    "drugbank"
   ]
  },
  {
   "cell_type": "code",
   "execution_count": 4,
   "metadata": {},
   "outputs": [],
   "source": [
    "def identity_block(X, kernel_size, filters):\n",
    "    \n",
    "    # Number Of Filters For Each Block \n",
    "    F1, F2, F3 = filters\n",
    "    \n",
    "    # Save Input For Shortcut\n",
    "    X_shortcut = X\n",
    "    \n",
    "    # Component 1\n",
    "    X = Conv1D(filters = F1, kernel_size = kernel_size, strides = 1, padding = 'valid', kernel_initializer = glorot_uniform())(X)\n",
    "    X = BatchNormalization()(X)\n",
    "    X = Activation('relu')(X)\n",
    "    \n",
    "    # Component 2 \n",
    "    X = Conv1D(filters = F2, kernel_size = kernel_size, strides = 1, padding = 'valid', kernel_initializer = glorot_uniform())(X)\n",
    "    X = BatchNormalization()(X)\n",
    "    X = Activation('relu')(X)\n",
    "    \n",
    "    # Component 3 \n",
    "    X = Conv1D(filters = F3, kernel_size = kernel_size, strides = 1, padding = 'valid', kernel_initializer = glorot_uniform())(X)\n",
    "    X = BatchNormalization()(X)\n",
    "    \n",
    "    # Add Shortcut Path\n",
    "    X = Add()([X, X_shortcut])\n",
    "    X = Activation('relu')(X)\n",
    "    \n",
    "    return X\n",
    "    "
   ]
  },
  {
   "cell_type": "code",
   "execution_count": 5,
   "metadata": {},
   "outputs": [],
   "source": [
    "def convolutional_block(X, kernel_size, filters, s = 2):\n",
    "    \n",
    "    # Number Of Filters For Each Block \n",
    "    F1, F2, F3 = filters\n",
    "    \n",
    "    # Save Input For Shortcut\n",
    "    X_shortcut = X\n",
    "    \n",
    "    ## Main Path \n",
    "    # Component 1 \n",
    "    X = Conv1D(filters = F1, kernel_size = kernel_size, strides = s, padding = 'valid', kernel_initializer = glorot_uniform())(X)\n",
    "    X = BatchNormalization()(X)\n",
    "    X = Activation('relu')(X)\n",
    "    \n",
    "    # Component 2\n",
    "    X = Conv1D(filters = F2, kernel_size = kernel_size, strides = s, padding = 'valid', kernel_initializer = glorot_uniform())(X)\n",
    "    X = BatchNormalization()(X)\n",
    "    X = Activation('relu')(X)\n",
    "    \n",
    "    # Component 3\n",
    "    X = Conv1D(filters = F3, kernel_size = kernel_size, strides = s, padding = 'valid', kernel_initializer = glorot_uniform())(X)\n",
    "    X = BatchNormalization()(X)\n",
    "    \n",
    "    ## Shortcut Path\n",
    "    X_shortcut = Conv1D(filters = F3, kernel_size = 16, strides = s, padding = 'valid', kernel_initializer = glorot_uniform())(X_shortcut)\n",
    "    X_shortcut = BatchNormalization()(X_shortcut)\n",
    "    \n",
    "    # Add Shortcut Path\n",
    "    X = Add()([X, X_shortcut])\n",
    "    X = Activation('relu')(X)\n",
    "    \n",
    "    return X"
   ]
  },
  {
   "cell_type": "code",
   "execution_count": 6,
   "metadata": {},
   "outputs": [],
   "source": [
    "def ResNet_1D(input_shape = (30723, 1)):\n",
    "    \n",
    "    X_input = Input(input_shape)\n",
    "    \n",
    "    # Stage 1\n",
    "    X = Conv1D(filters = 64, kernel_size = 16, strides = 2, activation = 'relu', kernel_initializer = glorot_uniform())(X_input)\n",
    "    X = BatchNormalization()(X)\n",
    "    X = Activation('relu')(X)\n",
    "    \n",
    "    # Stage 2 - 1 Conv Block & 2 Identity Blocks\n",
    "    X = convolutional_block(X, kernel_size = 16, filters = [64, 64, 128], s = 1)\n",
    "    X = identity_block(X, kernel_size = 1, filters = [64, 64, 128])\n",
    "    X = identity_block(X, kernel_size = 1, filters = [64, 64, 128])\n",
    "    \n",
    "    # Stage 3 - 1 Conv Block & 3 Identity Blocks\n",
    "    X = convolutional_block(X, kernel_size = 16, filters = [128, 128, 256])\n",
    "    X = identity_block(X, kernel_size = 1, filters = [128, 128, 256])\n",
    "    X = identity_block(X, kernel_size = 1, filters = [128, 128, 256])\n",
    "    X = identity_block(X, kernel_size = 1, filters = [128, 128, 256])\n",
    "    \n",
    "    # Stage 4 - 1 Conv Block & 5 Identity Blocks\n",
    "    X = convolutional_block(X, kernel_size = 16, filters = [256, 256, 512])\n",
    "    X = identity_block(X, kernel_size = 1, filters = [256, 256, 512])\n",
    "    X = identity_block(X, kernel_size = 1, filters = [256, 256, 512])\n",
    "    X = identity_block(X, kernel_size = 1, filters = [256, 256, 512])\n",
    "    X = identity_block(X, kernel_size = 1, filters = [256, 256, 512])\n",
    "    X = identity_block(X, kernel_size = 1, filters = [256, 256, 512])\n",
    "    \n",
    "    # Stage 5 - 1 Conv Block & 2 Identity Blocks \n",
    "    X = convolutional_block(X, kernel_size = 16, filters = [512, 512, 1024])\n",
    "    X = identity_block(X, kernel_size = 1, filters = [512, 512, 1024])\n",
    "    X = identity_block(X, kernel_size = 1, filters = [512, 512, 1024])\n",
    "    \n",
    "    \n",
    "    X = GlobalAveragePooling1D()(X)\n",
    "    X = Flatten()(X)\n",
    "    X = Dense(1, kernel_initializer = glorot_uniform())(X)\n",
    "    X = Activation('sigmoid')(X)\n",
    "    \n",
    "    model = Model(inputs = X_input, outputs = X)\n",
    "    \n",
    "    return model\n",
    "    "
   ]
  },
  {
   "cell_type": "code",
   "execution_count": 66,
   "metadata": {},
   "outputs": [],
   "source": [
    "def OneDimensional_VGG(input_shape = (30723, 1)):\n",
    "    \n",
    "    X_input = Input(input_shape)\n",
    "    \n",
    "    # Convolution Block 1\n",
    "    X = Conv1D(filters = 64, kernel_size = 2, strides = 1, activation = 'relu', padding = 'same', kernel_initializer = glorot_uniform(), name = 'CB1-C1')(X_input)\n",
    "    X = Conv1D(filters = 64, kernel_size = 2, strides = 1, activation = 'relu', padding = 'same', kernel_initializer = glorot_uniform(), name = 'CB1-C2')(X)\n",
    "    X = BatchNormalization(name = 'CB1-BN1')(X)\n",
    "    X = AveragePooling1D(name = 'CB1-P1')(X)\n",
    "    X = Dropout(0.6, name = 'CB1-DO1')(X)\n",
    "    \n",
    "    # Convolution Block 2\n",
    "    X = Conv1D(filters = 128, kernel_size = 2, strides = 1, activation = 'relu', padding = 'same', kernel_initializer = glorot_uniform(), name = 'CB2-C1')(X)\n",
    "    X = Conv1D(filters = 128, kernel_size = 2, strides = 1, activation = 'relu', padding = 'same', kernel_initializer = glorot_uniform(), name = 'CB2-C2')(X)\n",
    "    X = BatchNormalization(name = 'CB2-BN1')(X)\n",
    "    X = AveragePooling1D(name = 'CB2-P1')(X)\n",
    "    X = Dropout(0.6, name = 'CB2-DO1')(X)\n",
    "\n",
    "    # Convolution Block 3\n",
    "    X = Conv1D(filters = 256, kernel_size = 2, strides = 2, activation = 'relu', kernel_initializer = glorot_uniform(), name = 'CB3-C1')(X)\n",
    "    X = ZeroPadding1D(int(int(X.shape[1]) / 2), name = 'CB3-ZP1')(X)\n",
    "    X = Conv1D(filters = 256, kernel_size = 2, strides = 2, activation = 'relu', kernel_initializer = glorot_uniform(), name = 'CB3-C2')(X)\n",
    "    X = ZeroPadding1D(int(int(X.shape[1]) / 2), name = 'CB3-ZP2')(X)\n",
    "    X = Conv1D(filters = 256, kernel_size = 2, strides = 2, activation = 'relu', kernel_initializer = glorot_uniform(), name = 'CB3-C3')(X)\n",
    "    X = ZeroPadding1D(int(int(X.shape[1]) / 2), name = 'CB3-ZP3')(X)\n",
    "    X = BatchNormalization(name = 'CB3-BN1')(X)\n",
    "    X = AveragePooling1D(name = 'CB3-P1')(X)\n",
    "    X = Dropout(0.6, name = 'CB3-DO1')(X)\n",
    "    \n",
    "    # Convolution Block 4\n",
    "    X = Conv1D(filters = 512, kernel_size = 2, strides = 2, activation = 'relu', kernel_initializer = glorot_uniform(), name = 'CB4-C1')(X)\n",
    "    X = ZeroPadding1D(int(int(X.shape[1]) / 2), name = 'CB4-ZP1')(X)\n",
    "    X = Conv1D(filters = 512, kernel_size = 2, strides = 2, activation = 'relu', kernel_initializer = glorot_uniform(), name = 'CB4-C2')(X)\n",
    "    X = ZeroPadding1D(int(int(X.shape[1]) / 2), name = 'CB4-ZP2')(X)\n",
    "    X = Conv1D(filters = 512, kernel_size = 2, strides = 2, activation = 'relu', kernel_initializer = glorot_uniform(), name = 'CB4-C3')(X)\n",
    "    X = ZeroPadding1D(int(int(X.shape[1]) / 2), name = 'CB4-ZP3')(X)\n",
    "    X = BatchNormalization(name = 'CB4-BN1')(X)\n",
    "    X = AveragePooling1D(name = 'CB4-P1')(X)\n",
    "    X = Dropout(0.6, name = 'CB4-DO1')(X)\n",
    "    \n",
    "    # Convolution Block 5\n",
    "    X = Conv1D(filters = 1024, kernel_size = 2, strides = 2, activation = 'relu', kernel_initializer = glorot_uniform(), name = 'CB5-C1')(X)\n",
    "    X = ZeroPadding1D(int(int(X.shape[1]) / 2), name = 'CB5-ZP1')(X)\n",
    "    X = Conv1D(filters = 1024, kernel_size = 2, strides = 2, activation = 'relu', kernel_initializer = glorot_uniform(), name = 'CB5-C2')(X)\n",
    "    X = ZeroPadding1D(int(int(X.shape[1]) / 2), name = 'CB5-ZP2')(X)\n",
    "    X = Conv1D(filters = 1024, kernel_size = 2, strides = 2, activation = 'relu', kernel_initializer = glorot_uniform(), name = 'CB5-C3')(X)\n",
    "    X = ZeroPadding1D(int(int(X.shape[1]) / 2), name = 'CB5-ZP3')(X)\n",
    "    X = BatchNormalization(name = 'CB5-BN1')(X)\n",
    "    X = AveragePooling1D(name = 'CB5-P1')(X)\n",
    "    X = Dropout(0.6, name = 'CB5-DO1')(X)\n",
    "    \n",
    "    X = GlobalAveragePooling1D(name = 'GP-1')(X)\n",
    "    X = Flatten(name = 'Flat-1')(X)\n",
    "    X = Dense(1, kernel_initializer = glorot_uniform())(X)\n",
    "    X = Activation('sigmoid')(X)\n",
    "    \n",
    "    model = Model(inputs = X_input, outputs = X)\n",
    "\n",
    "    return model"
   ]
  },
  {
   "cell_type": "code",
   "execution_count": 67,
   "metadata": {},
   "outputs": [],
   "source": [
    "model = OneDimensional_VGG()"
   ]
  },
  {
   "cell_type": "code",
   "execution_count": 68,
   "metadata": {},
   "outputs": [],
   "source": [
    "# model = ResNet_1D()"
   ]
  },
  {
   "cell_type": "code",
   "execution_count": 69,
   "metadata": {},
   "outputs": [
    {
     "name": "stdout",
     "output_type": "stream",
     "text": [
      "_________________________________________________________________\n",
      "Layer (type)                 Output Shape              Param #   \n",
      "=================================================================\n",
      "input_2 (InputLayer)         (None, 30723, 1)          0         \n",
      "_________________________________________________________________\n",
      "CB1-C1 (Conv1D)              (None, 30723, 64)         192       \n",
      "_________________________________________________________________\n",
      "CB1-C2 (Conv1D)              (None, 30723, 64)         8256      \n",
      "_________________________________________________________________\n",
      "CB1-BN1 (BatchNormalization) (None, 30723, 64)         256       \n",
      "_________________________________________________________________\n",
      "CB1-P1 (AveragePooling1D)    (None, 15361, 64)         0         \n",
      "_________________________________________________________________\n",
      "CB1-DO1 (Dropout)            (None, 15361, 64)         0         \n",
      "_________________________________________________________________\n",
      "CB2-C1 (Conv1D)              (None, 15361, 128)        16512     \n",
      "_________________________________________________________________\n",
      "CB2-C2 (Conv1D)              (None, 15361, 128)        32896     \n",
      "_________________________________________________________________\n",
      "CB2-BN1 (BatchNormalization) (None, 15361, 128)        512       \n",
      "_________________________________________________________________\n",
      "CB2-P1 (AveragePooling1D)    (None, 7680, 128)         0         \n",
      "_________________________________________________________________\n",
      "CB2-DO1 (Dropout)            (None, 7680, 128)         0         \n",
      "_________________________________________________________________\n",
      "CB3-C1 (Conv1D)              (None, 3840, 256)         65792     \n",
      "_________________________________________________________________\n",
      "CB3-ZP1 (ZeroPadding1D)      (None, 7680, 256)         0         \n",
      "_________________________________________________________________\n",
      "CB3-C2 (Conv1D)              (None, 3840, 256)         131328    \n",
      "_________________________________________________________________\n",
      "CB3-ZP2 (ZeroPadding1D)      (None, 7680, 256)         0         \n",
      "_________________________________________________________________\n",
      "CB3-C3 (Conv1D)              (None, 3840, 256)         131328    \n",
      "_________________________________________________________________\n",
      "CB3-ZP3 (ZeroPadding1D)      (None, 7680, 256)         0         \n",
      "_________________________________________________________________\n",
      "CB3-BN1 (BatchNormalization) (None, 7680, 256)         1024      \n",
      "_________________________________________________________________\n",
      "CB3-P1 (AveragePooling1D)    (None, 3840, 256)         0         \n",
      "_________________________________________________________________\n",
      "CB3-DO1 (Dropout)            (None, 3840, 256)         0         \n",
      "_________________________________________________________________\n",
      "CB4-C1 (Conv1D)              (None, 1920, 512)         262656    \n",
      "_________________________________________________________________\n",
      "CB4-ZP1 (ZeroPadding1D)      (None, 3840, 512)         0         \n",
      "_________________________________________________________________\n",
      "CB4-C2 (Conv1D)              (None, 1920, 512)         524800    \n",
      "_________________________________________________________________\n",
      "CB4-ZP2 (ZeroPadding1D)      (None, 3840, 512)         0         \n",
      "_________________________________________________________________\n",
      "CB4-C3 (Conv1D)              (None, 1920, 512)         524800    \n",
      "_________________________________________________________________\n",
      "CB4-ZP3 (ZeroPadding1D)      (None, 3840, 512)         0         \n",
      "_________________________________________________________________\n",
      "CB4-BN1 (BatchNormalization) (None, 3840, 512)         2048      \n",
      "_________________________________________________________________\n",
      "CB4-P1 (AveragePooling1D)    (None, 1920, 512)         0         \n",
      "_________________________________________________________________\n",
      "CB4-DO1 (Dropout)            (None, 1920, 512)         0         \n",
      "_________________________________________________________________\n",
      "CB5-C1 (Conv1D)              (None, 960, 1024)         1049600   \n",
      "_________________________________________________________________\n",
      "CB5-ZP1 (ZeroPadding1D)      (None, 1920, 1024)        0         \n",
      "_________________________________________________________________\n",
      "CB5-C2 (Conv1D)              (None, 960, 1024)         2098176   \n",
      "_________________________________________________________________\n",
      "CB5-ZP2 (ZeroPadding1D)      (None, 1920, 1024)        0         \n",
      "_________________________________________________________________\n",
      "CB5-C3 (Conv1D)              (None, 960, 1024)         2098176   \n",
      "_________________________________________________________________\n",
      "CB5-ZP3 (ZeroPadding1D)      (None, 1920, 1024)        0         \n",
      "_________________________________________________________________\n",
      "CB5-BN1 (BatchNormalization) (None, 1920, 1024)        4096      \n",
      "_________________________________________________________________\n",
      "CB5-P1 (AveragePooling1D)    (None, 960, 1024)         0         \n",
      "_________________________________________________________________\n",
      "CB5-DO1 (Dropout)            (None, 960, 1024)         0         \n",
      "_________________________________________________________________\n",
      "GP-1 (GlobalAveragePooling1D (None, 1024)              0         \n",
      "_________________________________________________________________\n",
      "Flat-1 (Flatten)             (None, 1024)              0         \n",
      "_________________________________________________________________\n",
      "dense_1 (Dense)              (None, 1)                 1025      \n",
      "_________________________________________________________________\n",
      "activation_1 (Activation)    (None, 1)                 0         \n",
      "=================================================================\n",
      "Total params: 6,953,473\n",
      "Trainable params: 6,949,505\n",
      "Non-trainable params: 3,968\n",
      "_________________________________________________________________\n"
     ]
    }
   ],
   "source": [
    "model.summary()"
   ]
  },
  {
   "cell_type": "code",
   "execution_count": 70,
   "metadata": {},
   "outputs": [],
   "source": [
    "model_optimizer = tensorflow.keras.optimizers.Adam(lr=0.005, beta_1=0.9, beta_2=0.999, amsgrad=False)\n",
    "hidden_dims_3 = 32\n",
    "batch_size = 10\n",
    "epochs = 5\n",
    "trim_width = 0\n",
    "\n",
    "class_weight = {0: 1.,\n",
    "                1: 5}\n"
   ]
  },
  {
   "cell_type": "code",
   "execution_count": null,
   "metadata": {},
   "outputs": [],
   "source": []
  },
  {
   "cell_type": "code",
   "execution_count": 71,
   "metadata": {},
   "outputs": [],
   "source": [
    "#Uncomment to read model\n",
    "#model = tensorflow.keras.models.load_model('models/CNN_GPU_VGG_85p.model')\n",
    "model.compile(loss = 'binary_crossentropy', optimizer = model_optimizer, metrics = ['binary_accuracy'])"
   ]
  },
  {
   "cell_type": "code",
   "execution_count": 46,
   "metadata": {},
   "outputs": [
    {
     "name": "stdout",
     "output_type": "stream",
     "text": [
      "CPU times: user 11min 14s, sys: 13 s, total: 11min 27s\n",
      "Wall time: 11min 26s\n"
     ]
    }
   ],
   "source": [
    "%%time\n",
    "\n",
    "#drugbank_reader = pd.read_csv('data/intermediate/interactions_preprocessed.csv', chunksize = 500, iterator = True, converters={\"target_gene_encoded_padded\": \\\n",
    "#                                                                                     lambda x: np.array(x.strip(\"[]\").replace(\"'\",\"\").split(\", \")),\n",
    "#                                                                                    \"drug_fingerprint_encoded_padded\": \\\n",
    "#                                                                                    lambda x: np.array(x.strip(\"[]\").replace(\"'\",\"\").split(\", \"))})\n",
    "\n",
    "\n",
    "drugbank = pd.read_csv('data/intermediate/interactions_preprocessed.csv', iterator = False, converters={\"target_gene_encoded_padded\": \\\n",
    "                                                                                     lambda x: np.array(x.strip(\"[]\").replace(\"'\",\"\").split(\", \")),\n",
    "                                                                                    \"drug_fingerprint_encoded_padded\": \\\n",
    "                                                                                    lambda x: np.array(x.strip(\"[]\").replace(\"'\",\"\").split(\", \"))})\n",
    "drugbank = drugbank.sort_values('drug_id')\n",
    "drugbank_reader = np.array_split(drugbank, len(drugbank)/500)\n"
   ]
  },
  {
   "cell_type": "code",
   "execution_count": 72,
   "metadata": {},
   "outputs": [],
   "source": [
    "drugbank_test = drugbank_reader[0]\n",
    "#drugbank_test = drugbank_reader.__next__()"
   ]
  },
  {
   "cell_type": "code",
   "execution_count": 87,
   "metadata": {},
   "outputs": [],
   "source": [
    "## Use if DRUGBANK DF is already in memory\n"
   ]
  },
  {
   "cell_type": "code",
   "execution_count": 49,
   "metadata": {},
   "outputs": [
    {
     "data": {
      "text/html": [
       "<div>\n",
       "<style scoped>\n",
       "    .dataframe tbody tr th:only-of-type {\n",
       "        vertical-align: middle;\n",
       "    }\n",
       "\n",
       "    .dataframe tbody tr th {\n",
       "        vertical-align: top;\n",
       "    }\n",
       "\n",
       "    .dataframe thead th {\n",
       "        text-align: right;\n",
       "    }\n",
       "</style>\n",
       "<table border=\"1\" class=\"dataframe\">\n",
       "  <thead>\n",
       "    <tr style=\"text-align: right;\">\n",
       "      <th></th>\n",
       "      <th>drug_id</th>\n",
       "      <th>gene_id</th>\n",
       "      <th>drug_fingerprint_code</th>\n",
       "      <th>target_gene_code</th>\n",
       "      <th>Y</th>\n",
       "      <th>target_gene_encoded</th>\n",
       "      <th>drug_fingerprint_encoded</th>\n",
       "      <th>target_gene_encoded_len</th>\n",
       "      <th>drug_fingerprint_encoded_len</th>\n",
       "      <th>mismatch</th>\n",
       "      <th>target_gene_encoded_mismatch</th>\n",
       "      <th>drug_fingerprint_encoded_mismatch</th>\n",
       "      <th>target_gene_encoded_padded</th>\n",
       "      <th>drug_fingerprint_encoded_padded</th>\n",
       "    </tr>\n",
       "  </thead>\n",
       "  <tbody>\n",
       "    <tr>\n",
       "      <th>73873</th>\n",
       "      <td>DB00001</td>\n",
       "      <td>BE0000048</td>\n",
       "      <td>2246728737 3542456614 2245384272 1506563592 22...</td>\n",
       "      <td>ATGGCGCACGTCCGAGGCTTGCAGCTGCCTGGCTGCCTGGCCCTGG...</td>\n",
       "      <td>1</td>\n",
       "      <td>[0 3 2 ... 3 0 2]</td>\n",
       "      <td>[2, 2, 4, 6, 7, 2, 8, 7, 3, 7, 3, 5, 4, 2, 4, ...</td>\n",
       "      <td>1869</td>\n",
       "      <td>9397</td>\n",
       "      <td>-7528</td>\n",
       "      <td>19353</td>\n",
       "      <td>104</td>\n",
       "      <td>[-1, -1, -1, -1, -1, -1, -1, -1, -1, -1, -1, -...</td>\n",
       "      <td>[-1, -1, -1, -1, -1, -1, -1, -1, -1, -1, -1, -...</td>\n",
       "    </tr>\n",
       "    <tr>\n",
       "      <th>21967</th>\n",
       "      <td>DB00001</td>\n",
       "      <td>BE0000690</td>\n",
       "      <td>2246728737 3542456614 2245384272 1506563592 22...</td>\n",
       "      <td>ATGTCCACTGAAAACACTTCTTTGGTCGTTGAACTATTGGAGTACG...</td>\n",
       "      <td>0</td>\n",
       "      <td>[0 3 2 ... 3 0 2]</td>\n",
       "      <td>[2, 2, 4, 6, 7, 2, 8, 7, 3, 7, 3, 5, 4, 2, 4, ...</td>\n",
       "      <td>1602</td>\n",
       "      <td>9397</td>\n",
       "      <td>-7795</td>\n",
       "      <td>19620</td>\n",
       "      <td>104</td>\n",
       "      <td>[-1, -1, -1, -1, -1, -1, -1, -1, -1, -1, -1, -...</td>\n",
       "      <td>[-1, -1, -1, -1, -1, -1, -1, -1, -1, -1, -1, -...</td>\n",
       "    </tr>\n",
       "    <tr>\n",
       "      <th>2257</th>\n",
       "      <td>DB00001</td>\n",
       "      <td>BE0003281</td>\n",
       "      <td>2246728737 3542456614 2245384272 1506563592 22...</td>\n",
       "      <td>ATGGCCAACCTGGAGCGCACCTTCATCGCCATCAAGCCGGACGGCG...</td>\n",
       "      <td>0</td>\n",
       "      <td>[0 3 2 2 1 1 0 0 1 1 3 2 2 0 2 1 2 1 0 1 1 3 3...</td>\n",
       "      <td>[2, 2, 4, 6, 7, 2, 8, 7, 3, 7, 3, 5, 4, 2, 4, ...</td>\n",
       "      <td>459</td>\n",
       "      <td>9397</td>\n",
       "      <td>-8938</td>\n",
       "      <td>20763</td>\n",
       "      <td>104</td>\n",
       "      <td>[-1, -1, -1, -1, -1, -1, -1, -1, -1, -1, -1, -...</td>\n",
       "      <td>[-1, -1, -1, -1, -1, -1, -1, -1, -1, -1, -1, -...</td>\n",
       "    </tr>\n",
       "    <tr>\n",
       "      <th>56133</th>\n",
       "      <td>DB00006</td>\n",
       "      <td>BE0002540</td>\n",
       "      <td>2246728737 3542456614 2245384272 1506563592 22...</td>\n",
       "      <td>ATGCCATCTGTGAAGATCGGTATCATCGGTGCGGGGAGCGCGGTGT...</td>\n",
       "      <td>0</td>\n",
       "      <td>[0 3 2 ... 3 2 0]</td>\n",
       "      <td>[2, 2, 4, 6, 7, 2, 8, 7, 3, 7, 3, 5, 4, 2, 4, ...</td>\n",
       "      <td>1443</td>\n",
       "      <td>3003</td>\n",
       "      <td>-1560</td>\n",
       "      <td>19779</td>\n",
       "      <td>6498</td>\n",
       "      <td>[-1, -1, -1, -1, -1, -1, -1, -1, -1, -1, -1, -...</td>\n",
       "      <td>[-1, -1, -1, -1, -1, -1, -1, -1, -1, -1, -1, -...</td>\n",
       "    </tr>\n",
       "    <tr>\n",
       "      <th>43118</th>\n",
       "      <td>DB00006</td>\n",
       "      <td>BE0001635</td>\n",
       "      <td>2246728737 3542456614 2245384272 1506563592 22...</td>\n",
       "      <td>ATGAAGCTTTTAATTACCGGTGGATGTGGCTTCCTTGGGAGTAATC...</td>\n",
       "      <td>0</td>\n",
       "      <td>[0 3 2 ... 3 2 0]</td>\n",
       "      <td>[2, 2, 4, 6, 7, 2, 8, 7, 3, 7, 3, 5, 4, 2, 4, ...</td>\n",
       "      <td>1017</td>\n",
       "      <td>3003</td>\n",
       "      <td>-1986</td>\n",
       "      <td>20205</td>\n",
       "      <td>6498</td>\n",
       "      <td>[-1, -1, -1, -1, -1, -1, -1, -1, -1, -1, -1, -...</td>\n",
       "      <td>[-1, -1, -1, -1, -1, -1, -1, -1, -1, -1, -1, -...</td>\n",
       "    </tr>\n",
       "    <tr>\n",
       "      <th>...</th>\n",
       "      <td>...</td>\n",
       "      <td>...</td>\n",
       "      <td>...</td>\n",
       "      <td>...</td>\n",
       "      <td>...</td>\n",
       "      <td>...</td>\n",
       "      <td>...</td>\n",
       "      <td>...</td>\n",
       "      <td>...</td>\n",
       "      <td>...</td>\n",
       "      <td>...</td>\n",
       "      <td>...</td>\n",
       "      <td>...</td>\n",
       "      <td>...</td>\n",
       "    </tr>\n",
       "    <tr>\n",
       "      <th>82248</th>\n",
       "      <td>DB00126</td>\n",
       "      <td>BE0000168</td>\n",
       "      <td>2245384272 4022716898 2245273601 3081284555 29...</td>\n",
       "      <td>ATGAGGGCCCAGGAGGACCTCGAGGGCCGGACACAGCATGAAACCA...</td>\n",
       "      <td>1</td>\n",
       "      <td>[0 3 2 ... 3 2 0]</td>\n",
       "      <td>[2, 2, 4, 5, 3, 8, 4, 2, 7, 2, 4, 0, 2, 2, 7, ...</td>\n",
       "      <td>1797</td>\n",
       "      <td>228</td>\n",
       "      <td>1569</td>\n",
       "      <td>19425</td>\n",
       "      <td>9273</td>\n",
       "      <td>[-1, -1, -1, -1, -1, -1, -1, -1, -1, -1, -1, -...</td>\n",
       "      <td>[-1, -1, -1, -1, -1, -1, -1, -1, -1, -1, -1, -...</td>\n",
       "    </tr>\n",
       "    <tr>\n",
       "      <th>82272</th>\n",
       "      <td>DB00126</td>\n",
       "      <td>BE0002203</td>\n",
       "      <td>2245384272 4022716898 2245273601 3081284555 29...</td>\n",
       "      <td>ATGGCGACGGTGGGGGCTCCGCGGCACTTCTGCCGCTGCGCCTGCT...</td>\n",
       "      <td>1</td>\n",
       "      <td>[0 3 2 ... 3 2 0]</td>\n",
       "      <td>[2, 2, 4, 5, 3, 8, 4, 2, 7, 2, 4, 0, 2, 2, 7, ...</td>\n",
       "      <td>1053</td>\n",
       "      <td>228</td>\n",
       "      <td>825</td>\n",
       "      <td>20169</td>\n",
       "      <td>9273</td>\n",
       "      <td>[-1, -1, -1, -1, -1, -1, -1, -1, -1, -1, -1, -...</td>\n",
       "      <td>[-1, -1, -1, -1, -1, -1, -1, -1, -1, -1, -1, -...</td>\n",
       "    </tr>\n",
       "    <tr>\n",
       "      <th>56757</th>\n",
       "      <td>DB00126</td>\n",
       "      <td>BE0002622</td>\n",
       "      <td>2245384272 4022716898 2245273601 3081284555 29...</td>\n",
       "      <td>ATGGAACAACAACCATTAACATTAACGGCGGCGACAACTCGTGCGC...</td>\n",
       "      <td>0</td>\n",
       "      <td>[0 3 2 ... 3 0 0]</td>\n",
       "      <td>[2, 2, 4, 5, 3, 8, 4, 2, 7, 2, 4, 0, 2, 2, 7, ...</td>\n",
       "      <td>2031</td>\n",
       "      <td>228</td>\n",
       "      <td>1803</td>\n",
       "      <td>19191</td>\n",
       "      <td>9273</td>\n",
       "      <td>[-1, -1, -1, -1, -1, -1, -1, -1, -1, -1, -1, -...</td>\n",
       "      <td>[-1, -1, -1, -1, -1, -1, -1, -1, -1, -1, -1, -...</td>\n",
       "    </tr>\n",
       "    <tr>\n",
       "      <th>82323</th>\n",
       "      <td>DB00126</td>\n",
       "      <td>BE0004338</td>\n",
       "      <td>2245384272 4022716898 2245273601 3081284555 29...</td>\n",
       "      <td>ATGGAGCTGTCTTGGCATGTAGTCTTTATTGCCCTGCTAAGTTTTT...</td>\n",
       "      <td>1</td>\n",
       "      <td>[0 3 2 ... 3 2 0]</td>\n",
       "      <td>[2, 2, 4, 5, 3, 8, 4, 2, 7, 2, 4, 0, 2, 2, 7, ...</td>\n",
       "      <td>5784</td>\n",
       "      <td>228</td>\n",
       "      <td>5556</td>\n",
       "      <td>15438</td>\n",
       "      <td>9273</td>\n",
       "      <td>[-1, -1, -1, -1, -1, -1, -1, -1, -1, -1, -1, -...</td>\n",
       "      <td>[-1, -1, -1, -1, -1, -1, -1, -1, -1, -1, -1, -...</td>\n",
       "    </tr>\n",
       "    <tr>\n",
       "      <th>82255</th>\n",
       "      <td>DB00126</td>\n",
       "      <td>BE0002206</td>\n",
       "      <td>2245384272 4022716898 2245273601 3081284555 29...</td>\n",
       "      <td>ATGGAAATGCAGCAGAACATTGAGAATTACAGGGCGACAGCTGGTG...</td>\n",
       "      <td>1</td>\n",
       "      <td>[0 3 2 ... 3 0 0]</td>\n",
       "      <td>[2, 2, 4, 5, 3, 8, 4, 2, 7, 2, 4, 0, 2, 2, 7, ...</td>\n",
       "      <td>1584</td>\n",
       "      <td>228</td>\n",
       "      <td>1356</td>\n",
       "      <td>19638</td>\n",
       "      <td>9273</td>\n",
       "      <td>[-1, -1, -1, -1, -1, -1, -1, -1, -1, -1, -1, -...</td>\n",
       "      <td>[-1, -1, -1, -1, -1, -1, -1, -1, -1, -1, -1, -...</td>\n",
       "    </tr>\n",
       "  </tbody>\n",
       "</table>\n",
       "<p>503 rows × 14 columns</p>\n",
       "</div>"
      ],
      "text/plain": [
       "       drug_id    gene_id                              drug_fingerprint_code  \\\n",
       "73873  DB00001  BE0000048  2246728737 3542456614 2245384272 1506563592 22...   \n",
       "21967  DB00001  BE0000690  2246728737 3542456614 2245384272 1506563592 22...   \n",
       "2257   DB00001  BE0003281  2246728737 3542456614 2245384272 1506563592 22...   \n",
       "56133  DB00006  BE0002540  2246728737 3542456614 2245384272 1506563592 22...   \n",
       "43118  DB00006  BE0001635  2246728737 3542456614 2245384272 1506563592 22...   \n",
       "...        ...        ...                                                ...   \n",
       "82248  DB00126  BE0000168  2245384272 4022716898 2245273601 3081284555 29...   \n",
       "82272  DB00126  BE0002203  2245384272 4022716898 2245273601 3081284555 29...   \n",
       "56757  DB00126  BE0002622  2245384272 4022716898 2245273601 3081284555 29...   \n",
       "82323  DB00126  BE0004338  2245384272 4022716898 2245273601 3081284555 29...   \n",
       "82255  DB00126  BE0002206  2245384272 4022716898 2245273601 3081284555 29...   \n",
       "\n",
       "                                        target_gene_code  Y  \\\n",
       "73873  ATGGCGCACGTCCGAGGCTTGCAGCTGCCTGGCTGCCTGGCCCTGG...  1   \n",
       "21967  ATGTCCACTGAAAACACTTCTTTGGTCGTTGAACTATTGGAGTACG...  0   \n",
       "2257   ATGGCCAACCTGGAGCGCACCTTCATCGCCATCAAGCCGGACGGCG...  0   \n",
       "56133  ATGCCATCTGTGAAGATCGGTATCATCGGTGCGGGGAGCGCGGTGT...  0   \n",
       "43118  ATGAAGCTTTTAATTACCGGTGGATGTGGCTTCCTTGGGAGTAATC...  0   \n",
       "...                                                  ... ..   \n",
       "82248  ATGAGGGCCCAGGAGGACCTCGAGGGCCGGACACAGCATGAAACCA...  1   \n",
       "82272  ATGGCGACGGTGGGGGCTCCGCGGCACTTCTGCCGCTGCGCCTGCT...  1   \n",
       "56757  ATGGAACAACAACCATTAACATTAACGGCGGCGACAACTCGTGCGC...  0   \n",
       "82323  ATGGAGCTGTCTTGGCATGTAGTCTTTATTGCCCTGCTAAGTTTTT...  1   \n",
       "82255  ATGGAAATGCAGCAGAACATTGAGAATTACAGGGCGACAGCTGGTG...  1   \n",
       "\n",
       "                                     target_gene_encoded  \\\n",
       "73873                                  [0 3 2 ... 3 0 2]   \n",
       "21967                                  [0 3 2 ... 3 0 2]   \n",
       "2257   [0 3 2 2 1 1 0 0 1 1 3 2 2 0 2 1 2 1 0 1 1 3 3...   \n",
       "56133                                  [0 3 2 ... 3 2 0]   \n",
       "43118                                  [0 3 2 ... 3 2 0]   \n",
       "...                                                  ...   \n",
       "82248                                  [0 3 2 ... 3 2 0]   \n",
       "82272                                  [0 3 2 ... 3 2 0]   \n",
       "56757                                  [0 3 2 ... 3 0 0]   \n",
       "82323                                  [0 3 2 ... 3 2 0]   \n",
       "82255                                  [0 3 2 ... 3 0 0]   \n",
       "\n",
       "                                drug_fingerprint_encoded  \\\n",
       "73873  [2, 2, 4, 6, 7, 2, 8, 7, 3, 7, 3, 5, 4, 2, 4, ...   \n",
       "21967  [2, 2, 4, 6, 7, 2, 8, 7, 3, 7, 3, 5, 4, 2, 4, ...   \n",
       "2257   [2, 2, 4, 6, 7, 2, 8, 7, 3, 7, 3, 5, 4, 2, 4, ...   \n",
       "56133  [2, 2, 4, 6, 7, 2, 8, 7, 3, 7, 3, 5, 4, 2, 4, ...   \n",
       "43118  [2, 2, 4, 6, 7, 2, 8, 7, 3, 7, 3, 5, 4, 2, 4, ...   \n",
       "...                                                  ...   \n",
       "82248  [2, 2, 4, 5, 3, 8, 4, 2, 7, 2, 4, 0, 2, 2, 7, ...   \n",
       "82272  [2, 2, 4, 5, 3, 8, 4, 2, 7, 2, 4, 0, 2, 2, 7, ...   \n",
       "56757  [2, 2, 4, 5, 3, 8, 4, 2, 7, 2, 4, 0, 2, 2, 7, ...   \n",
       "82323  [2, 2, 4, 5, 3, 8, 4, 2, 7, 2, 4, 0, 2, 2, 7, ...   \n",
       "82255  [2, 2, 4, 5, 3, 8, 4, 2, 7, 2, 4, 0, 2, 2, 7, ...   \n",
       "\n",
       "       target_gene_encoded_len  drug_fingerprint_encoded_len  mismatch  \\\n",
       "73873                     1869                          9397     -7528   \n",
       "21967                     1602                          9397     -7795   \n",
       "2257                       459                          9397     -8938   \n",
       "56133                     1443                          3003     -1560   \n",
       "43118                     1017                          3003     -1986   \n",
       "...                        ...                           ...       ...   \n",
       "82248                     1797                           228      1569   \n",
       "82272                     1053                           228       825   \n",
       "56757                     2031                           228      1803   \n",
       "82323                     5784                           228      5556   \n",
       "82255                     1584                           228      1356   \n",
       "\n",
       "       target_gene_encoded_mismatch  drug_fingerprint_encoded_mismatch  \\\n",
       "73873                         19353                                104   \n",
       "21967                         19620                                104   \n",
       "2257                          20763                                104   \n",
       "56133                         19779                               6498   \n",
       "43118                         20205                               6498   \n",
       "...                             ...                                ...   \n",
       "82248                         19425                               9273   \n",
       "82272                         20169                               9273   \n",
       "56757                         19191                               9273   \n",
       "82323                         15438                               9273   \n",
       "82255                         19638                               9273   \n",
       "\n",
       "                              target_gene_encoded_padded  \\\n",
       "73873  [-1, -1, -1, -1, -1, -1, -1, -1, -1, -1, -1, -...   \n",
       "21967  [-1, -1, -1, -1, -1, -1, -1, -1, -1, -1, -1, -...   \n",
       "2257   [-1, -1, -1, -1, -1, -1, -1, -1, -1, -1, -1, -...   \n",
       "56133  [-1, -1, -1, -1, -1, -1, -1, -1, -1, -1, -1, -...   \n",
       "43118  [-1, -1, -1, -1, -1, -1, -1, -1, -1, -1, -1, -...   \n",
       "...                                                  ...   \n",
       "82248  [-1, -1, -1, -1, -1, -1, -1, -1, -1, -1, -1, -...   \n",
       "82272  [-1, -1, -1, -1, -1, -1, -1, -1, -1, -1, -1, -...   \n",
       "56757  [-1, -1, -1, -1, -1, -1, -1, -1, -1, -1, -1, -...   \n",
       "82323  [-1, -1, -1, -1, -1, -1, -1, -1, -1, -1, -1, -...   \n",
       "82255  [-1, -1, -1, -1, -1, -1, -1, -1, -1, -1, -1, -...   \n",
       "\n",
       "                         drug_fingerprint_encoded_padded  \n",
       "73873  [-1, -1, -1, -1, -1, -1, -1, -1, -1, -1, -1, -...  \n",
       "21967  [-1, -1, -1, -1, -1, -1, -1, -1, -1, -1, -1, -...  \n",
       "2257   [-1, -1, -1, -1, -1, -1, -1, -1, -1, -1, -1, -...  \n",
       "56133  [-1, -1, -1, -1, -1, -1, -1, -1, -1, -1, -1, -...  \n",
       "43118  [-1, -1, -1, -1, -1, -1, -1, -1, -1, -1, -1, -...  \n",
       "...                                                  ...  \n",
       "82248  [-1, -1, -1, -1, -1, -1, -1, -1, -1, -1, -1, -...  \n",
       "82272  [-1, -1, -1, -1, -1, -1, -1, -1, -1, -1, -1, -...  \n",
       "56757  [-1, -1, -1, -1, -1, -1, -1, -1, -1, -1, -1, -...  \n",
       "82323  [-1, -1, -1, -1, -1, -1, -1, -1, -1, -1, -1, -...  \n",
       "82255  [-1, -1, -1, -1, -1, -1, -1, -1, -1, -1, -1, -...  \n",
       "\n",
       "[503 rows x 14 columns]"
      ]
     },
     "execution_count": 49,
     "metadata": {},
     "output_type": "execute_result"
    }
   ],
   "source": [
    "drugbank_reader[0]"
   ]
  },
  {
   "cell_type": "code",
   "execution_count": 73,
   "metadata": {
    "scrolled": false
   },
   "outputs": [
    {
     "data": {
      "image/png": "[encoded data removed]",
      "text/plain": [
       "<Figure size 432x288 with 1 Axes>"
      ]
     },
     "metadata": {
      "needs_background": "light"
     },
     "output_type": "display_data"
    },
    {
     "data": {
      "image/png": "[encoded data removed]",
      "text/plain": [
       "<Figure size 432x288 with 1 Axes>"
      ]
     },
     "metadata": {
      "needs_background": "light"
     },
     "output_type": "display_data"
    },
    {
     "data": {
      "image/png": "[encoded data removed]",
      "text/plain": [
       "<Figure size 432x288 with 1 Axes>"
      ]
     },
     "metadata": {
      "needs_background": "light"
     },
     "output_type": "display_data"
    },
    {
     "data": {
      "image/png": "[encoded data removed]",
      "text/plain": [
       "<Figure size 432x288 with 1 Axes>"
      ]
     },
     "metadata": {
      "needs_background": "light"
     },
     "output_type": "display_data"
    },
    {
     "name": "stdout",
     "output_type": "stream",
     "text": [
      " - 26s - loss: 0.6319 - binary_accuracy: 0.8511 - val_loss: 0.5146 - val_binary_accuracy: 0.8175\n",
      "\n"
     ]
    }
   ],
   "source": [
    "global_history = []\n",
    "global_val_history = []\n",
    "predictions = []\n",
    "actual = []\n",
    "\n",
    "with open('data/gene_encoder.pkl', 'rb') as f:\n",
    "    label_encoder = pkl.load(f)\n",
    "    \n",
    "\n",
    "for drugbank in tqdm(drugbank_reader[1:]):\n",
    "    \n",
    "    \n",
    "    print('Reading chunk from file..')\n",
    "    #drugbank = drugbank_reader.__next__()\n",
    "    \n",
    "    #drugbank['target_gene_encoded'] = drugbank['target_gene_code'].progress_apply(\\\n",
    "    #                                   lambda x: label_encoder.transform([i for i in list(x) if i in gene_chars]))\n",
    "    #drugbank['drug_fingerprint_encoded'] = drugbank['drug_fingerprint_code'].progress_apply(lambda x: [int(i) for i in x.replace(' ', '')])\n",
    "\n",
    "    \n",
    "    print('Sampling..')\n",
    "    train_df_inter, test_df = train_test_split(drugbank)\n",
    "\n",
    "    ##USE TO FORCE TRAIN NEGATIVE SAMPLES ON LOW EPOCH\n",
    "    train_df = pd.DataFrame()\n",
    "    \n",
    "    if len(train_df_inter[train_df_inter['Y'] == 0]) > 2:\n",
    "        train_df = train_df.append(train_df_inter[train_df_inter['Y'] == 0].sample(frac = 1.0))\n",
    "    1.0\n",
    "    if len(train_df_inter[train_df_inter['Y'] == 1]) > 2:\n",
    "        train_df = train_df.append(train_df_inter[train_df_inter['Y'] == 1].sample(frac = 1.0))\n",
    "\n",
    "    \n",
    "    print('Padding..') \n",
    "    X_0 = np.array(list(train_df['target_gene_encoded_padded']))\n",
    "    X_1 = np.array(list(train_df['drug_fingerprint_encoded_padded']))\n",
    "    Y   = np.array(list(train_df['Y']))\n",
    "    \n",
    "\n",
    "    X_0_test = np.array(list(test_df['target_gene_encoded_padded']))\n",
    "    X_1_test = np.array(list(test_df['drug_fingerprint_encoded_padded']))\n",
    "        \n",
    "    Y_test   = np.array(list(test_df['Y']))\n",
    "    \n",
    "    print(X_0.shape)\n",
    "    print(X_1.shape)\n",
    "    \n",
    "    print(X_0_test.shape)\n",
    "    print(X_1_test.shape)\n",
    "\n",
    "    print('Trimming..')\n",
    "    X_0 = X_0[:, int(trim_width/2) : X_0.shape[1] - int(trim_width/2)]\n",
    "    X_1 = X_1[:, int(trim_width/2) : X_1.shape[1] - int(trim_width/2)]\n",
    "    \n",
    "    X_0_test = X_0_test[:, int(trim_width/2) : X_0_test.shape[1] - int(trim_width/2)]\n",
    "    X_1_test = X_1_test[:, int(trim_width/2) : X_1_test.shape[1] - int(trim_width/2)]\n",
    "    \n",
    "\n",
    "    X_0 = X_0.astype(int) + 1\n",
    "    X_1 = X_1.astype(int) + 1\n",
    "    Y   = Y.astype(int)\n",
    "\n",
    "    X_0_test = X_0_test.astype(int) + 1\n",
    "    X_1_test = X_1_test.astype(int) + 1\n",
    "    Y_test   = Y_test.astype(int)\n",
    "    \n",
    "    print(X_0.shape)\n",
    "    print(X_1.shape)\n",
    "    \n",
    "    print(X_0_test.shape)\n",
    "    print(X_1_test.shape)\n",
    "\n",
    "\n",
    "    X_0 = np.hstack((X_0, X_1))\n",
    "    X_0_test = np.hstack((X_0_test, X_1_test))\n",
    "\n",
    "    print('Modelling..')\n",
    "    \n",
    "    print(\"X0 Shape : \" + str(X_0.shape))\n",
    "    print(\"X1 Shape : \" + str(X_1.shape))\n",
    "    \n",
    "    print(\"X0 Test Shape : \" + str(X_0_test.shape))\n",
    "    print(\"X1 Test Shape : \" + str(X_1_test.shape))\n",
    "    \n",
    "    \n",
    "    history = model.fit(X_0[..., np.newaxis], Y,\n",
    "                          batch_size=batch_size,\n",
    "                          epochs=epochs,\n",
    "                          callbacks=[plot_losses],\n",
    "                          class_weight=class_weight,\n",
    "                          validation_data=(X_0_test[..., np.newaxis], Y_test), verbose = 2)\n",
    "\n",
    "\n",
    "    actual.extend(Y.tolist())\n",
    "    predictions.extend(model.predict(X_0_test[..., np.newaxis]).ravel())\n",
    "    \n",
    "    global_val_history.extend(history.history['val_binary_accuracy'])\n",
    "    global_history.extend(history.history['binary_accuracy'])\n",
    "\n",
    "\n",
    "    "
   ]
  },
  {
   "cell_type": "code",
   "execution_count": 75,
   "metadata": {},
   "outputs": [],
   "source": [
    "model.save('models/CNN_GPU_VGG_full_5_blocks.model')"
   ]
  },
  {
   "cell_type": "code",
   "execution_count": 74,
   "metadata": {},
   "outputs": [
    {
     "name": "stdout",
     "output_type": "stream",
     "text": [
      "Padding..\n",
      "(503, 21222)\n",
      "(503, 9501)\n",
      "(503, 21222)\n",
      "(503, 9501)\n",
      "Trimming..\n",
      "(503, 21222)\n",
      "(503, 9501)\n",
      "(503, 21222)\n",
      "(503, 9501)\n"
     ]
    }
   ],
   "source": [
    "trim_width = 0\n",
    "\n",
    "print('Padding..') \n",
    "X_0 = np.array(list(drugbank_test['target_gene_encoded_padded']))\n",
    "X_1 = np.array(list(drugbank_test['drug_fingerprint_encoded_padded']))\n",
    "Y   = np.array(list(drugbank_test['Y']))\n",
    "\n",
    "\n",
    "X_0_test = np.array(list(drugbank_test['target_gene_encoded_padded']))\n",
    "X_1_test = np.array(list(drugbank_test['drug_fingerprint_encoded_padded']))\n",
    "\n",
    "Y_test   = np.array(list(drugbank_test['Y']))\n",
    "\n",
    "print(X_0.shape)\n",
    "print(X_1.shape)\n",
    "\n",
    "print(X_0_test.shape)\n",
    "print(X_1_test.shape)\n",
    "\n",
    "print('Trimming..')\n",
    "X_0 = X_0[:, int(trim_width/2) : X_0.shape[1] - int(trim_width/2)]\n",
    "X_1 = X_1[:, int(trim_width/2) : X_1.shape[1] - int(trim_width/2)]\n",
    "\n",
    "X_0_test = X_0_test[:, int(trim_width/2) : X_0_test.shape[1] - int(trim_width/2)]\n",
    "X_1_test = X_1_test[:, int(trim_width/2) : X_1_test.shape[1] - int(trim_width/2)]\n",
    "\n",
    "\n",
    "X_0 = X_0.astype(int) + 1\n",
    "X_1 = X_1.astype(int) + 1\n",
    "Y   = Y.astype(int)\n",
    "\n",
    "X_0_test = X_0_test.astype(int) + 1\n",
    "X_1_test = X_1_test.astype(int) + 1\n",
    "Y_test   = Y_test.astype(int)\n",
    "\n",
    "print(X_0.shape)\n",
    "print(X_1.shape)\n",
    "\n",
    "print(X_0_test.shape)\n",
    "print(X_1_test.shape)\n",
    "\n",
    "\n",
    "X_0 = np.hstack((X_0, X_1))\n",
    "X_0_test = np.hstack((X_0_test, X_1_test))\n",
    "\n",
    "\n",
    "\n",
    "Y_pred_test = model.predict(X_0[..., np.newaxis])"
   ]
  },
  {
   "cell_type": "code",
   "execution_count": 76,
   "metadata": {},
   "outputs": [
    {
     "data": {
      "text/plain": [
       "(array([321.,   0.,   0.,   0.,   0.,   0.,   0.,   0.,   0., 182.]),\n",
       " array([0. , 0.1, 0.2, 0.3, 0.4, 0.5, 0.6, 0.7, 0.8, 0.9, 1. ]),\n",
       " <a list of 10 Patch objects>)"
      ]
     },
     "execution_count": 76,
     "metadata": {},
     "output_type": "execute_result"
    },
    {
     "data": {
      "image/png": "[encoded data removed]",
      "text/plain": [
       "<Figure size 432x288 with 1 Axes>"
      ]
     },
     "metadata": {
      "needs_background": "light"
     },
     "output_type": "display_data"
    }
   ],
   "source": [
    "plt.hist(Y_test)"
   ]
  },
  {
   "cell_type": "code",
   "execution_count": 77,
   "metadata": {},
   "outputs": [
    {
     "data": {
      "text/plain": [
       "(array([ 10.,  31.,  73.,  80., 103., 119.,  59.,  19.,   4.,   5.]),\n",
       " array([0.13304681, 0.1991218 , 0.2651968 , 0.3312718 , 0.39734679,\n",
       "        0.46342179, 0.52949679, 0.59557179, 0.66164678, 0.72772178,\n",
       "        0.79379678]),\n",
       " <a list of 10 Patch objects>)"
      ]
     },
     "execution_count": 77,
     "metadata": {},
     "output_type": "execute_result"
    },
    {
     "data": {
      "image/png": "[encoded data removed]",
      "text/plain": [
       "<Figure size 432x288 with 1 Axes>"
      ]
     },
     "metadata": {
      "needs_background": "light"
     },
     "output_type": "display_data"
    }
   ],
   "source": [
    "plt.hist(Y_pred_test)"
   ]
  },
  {
   "cell_type": "code",
   "execution_count": 78,
   "metadata": {},
   "outputs": [],
   "source": [
    "Y_pred_test = [1 if (i > 0.5) else 0 for i in Y_pred_test ]\n",
    "cm = confusion_matrix(Y_test, Y_pred_test)"
   ]
  },
  {
   "cell_type": "code",
   "execution_count": 79,
   "metadata": {},
   "outputs": [
    {
     "data": {
      "text/plain": [
       "array([[0.77570093, 0.22429907],\n",
       "       [0.68131868, 0.31868132]])"
      ]
     },
     "execution_count": 79,
     "metadata": {},
     "output_type": "execute_result"
    }
   ],
   "source": [
    "cm.astype('float') / cm.sum(axis=1)[:, np.newaxis]"
   ]
  },
  {
   "cell_type": "code",
   "execution_count": 80,
   "metadata": {},
   "outputs": [
    {
     "data": {
      "text/plain": [
       "0.3717948717948718"
      ]
     },
     "execution_count": 80,
     "metadata": {},
     "output_type": "execute_result"
    }
   ],
   "source": [
    "f1_score(Y_test, Y_pred_test)"
   ]
  },
  {
   "cell_type": "code",
   "execution_count": 81,
   "metadata": {},
   "outputs": [
    {
     "name": "stdout",
     "output_type": "stream",
     "text": [
      "Confusion matrix, without normalization\n",
      "[[249  72]\n",
      " [124  58]]\n",
      "Normalized confusion matrix\n",
      "[[0.77570093 0.22429907]\n",
      " [0.68131868 0.31868132]]\n"
     ]
    },
    {
     "data": {
      "text/plain": [
       "<matplotlib.axes._subplots.AxesSubplot at 0x7fb4947976a0>"
      ]
     },
     "execution_count": 81,
     "metadata": {},
     "output_type": "execute_result"
    },
    {
     "data": {
      "image/png": "[encoded data removed]",
      "text/plain": [
       "<Figure size 432x288 with 2 Axes>"
      ]
     },
     "metadata": {
      "needs_background": "light"
     },
     "output_type": "display_data"
    },
    {
     "data": {
      "image/png": "[encoded data removed]",
      "text/plain": [
       "<Figure size 432x288 with 2 Axes>"
      ]
     },
     "metadata": {
      "needs_background": "light"
     },
     "output_type": "display_data"
    }
   ],
   "source": [
    "plot_confusion_matrix(Y_test, Y_pred_test, classes=[0, 1],\n",
    "                      title='Confusion matrix, without normalization')\n",
    "\n",
    "# Plot normalized confusion matrix\n",
    "plot_confusion_matrix(Y_test, Y_pred_test, classes=[0, 1], normalize=True,\n",
    "                      title='Normalized confusion matrix')"
   ]
  },
  {
   "cell_type": "code",
   "execution_count": 82,
   "metadata": {},
   "outputs": [
    {
     "name": "stdout",
     "output_type": "stream",
     "text": [
      "             precision    recall  f1-score   support\n",
      "\n",
      "          0       1.00      1.00      1.00       321\n",
      "          1       1.00      1.00      1.00       182\n",
      "\n",
      "avg / total       1.00      1.00      1.00       503\n",
      "\n"
     ]
    }
   ],
   "source": [
    "print(classification_report(Y, Y_test))"
   ]
  },
  {
   "cell_type": "code",
   "execution_count": 139,
   "metadata": {},
   "outputs": [
    {
     "name": "stdout",
     "output_type": "stream",
     "text": [
      "_________________________________________________________________\n",
      "Layer (type)                 Output Shape              Param #   \n",
      "=================================================================\n",
      "input_2 (InputLayer)         (None, 30723, 1)          0         \n",
      "_________________________________________________________________\n",
      "conv1d_7 (Conv1D)            (None, 5121, 64)          192       \n",
      "_________________________________________________________________\n",
      "conv1d_8 (Conv1D)            (None, 854, 64)           8256      \n",
      "_________________________________________________________________\n",
      "batch_normalization_3 (Batch (None, 854, 64)           256       \n",
      "_________________________________________________________________\n",
      "average_pooling1d_1 (Average (None, 427, 64)           0         \n",
      "_________________________________________________________________\n",
      "conv1d_9 (Conv1D)            (None, 213, 128)          16512     \n",
      "_________________________________________________________________\n",
      "conv1d_10 (Conv1D)           (None, 106, 128)          32896     \n",
      "_________________________________________________________________\n",
      "batch_normalization_4 (Batch (None, 106, 128)          512       \n",
      "_________________________________________________________________\n",
      "conv1d_11 (Conv1D)           (None, 53, 256)           65792     \n",
      "_________________________________________________________________\n",
      "conv1d_12 (Conv1D)           (None, 26, 256)           131328    \n",
      "_________________________________________________________________\n",
      "conv1d_13 (Conv1D)           (None, 13, 256)           131328    \n",
      "_________________________________________________________________\n",
      "batch_normalization_5 (Batch (None, 13, 256)           1024      \n",
      "_________________________________________________________________\n",
      "global_average_pooling1d_1 ( (None, 256)               0         \n",
      "_________________________________________________________________\n",
      "flatten_1 (Flatten)          (None, 256)               0         \n",
      "_________________________________________________________________\n",
      "dense_1 (Dense)              (None, 1)                 257       \n",
      "_________________________________________________________________\n",
      "activation_1 (Activation)    (None, 1)                 0         \n",
      "=================================================================\n",
      "Total params: 388,353\n",
      "Trainable params: 387,457\n",
      "Non-trainable params: 896\n",
      "_________________________________________________________________\n"
     ]
    }
   ],
   "source": [
    "model.summary()"
   ]
  },
  {
   "cell_type": "code",
   "execution_count": null,
   "metadata": {},
   "outputs": [],
   "source": []
  }
 ],
 "metadata": {
  "kernelspec": {
   "display_name": "Python 3",
   "language": "python",
   "name": "python3"
  },
  "language_info": {
   "codemirror_mode": {
    "name": "ipython",
    "version": 3
   },
   "file_extension": ".py",
   "mimetype": "text/x-python",
   "name": "python",
   "nbconvert_exporter": "python",
   "pygments_lexer": "ipython3",
   "version": "3.6.6"
  }
 },
 "nbformat": 4,
 "nbformat_minor": 2
}
