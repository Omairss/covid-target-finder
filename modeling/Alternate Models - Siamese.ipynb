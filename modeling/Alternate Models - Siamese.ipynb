{
 "cells": [
  {
   "cell_type": "markdown",
   "metadata": {},
   "source": [
    "### Imports"
   ]
  },
  {
   "cell_type": "code",
   "execution_count": 1,
   "metadata": {
    "scrolled": true
   },
   "outputs": [
    {
     "data": {
      "text/plain": [
       "<module 'tensorflow' from '/miniconda/lib/python3.6/site-packages/tensorflow/__init__.py'>"
      ]
     },
     "execution_count": 1,
     "metadata": {},
     "output_type": "execute_result"
    }
   ],
   "source": [
    "import pickle as pkl\n",
    "import lxml\n",
    "import pandas as pd\n",
    "import numpy as np\n",
    "import matplotlib.pyplot as plt\n",
    "import tensorflow.keras\n",
    "import importlib\n",
    "import time\n",
    "import traceback\n",
    "import tensorflow.keras.backend as K\n",
    "import matplotlib.pyplot as plt\n",
    "\n",
    "\n",
    "from tensorflow.keras.datasets import imdb\n",
    "from tqdm.notebook import tqdm\n",
    "from sklearn.metrics import confusion_matrix\n",
    "from sklearn.utils.multiclass import unique_labels\n",
    "from sklearn.metrics import f1_score\n",
    "from sklearn.model_selection import train_test_split\n",
    "from sklearn.preprocessing import LabelEncoder, OneHotEncoder\n",
    "from ast import literal_eval\n",
    "from sklearn.model_selection import train_test_split\n",
    "from sklearn.linear_model import LogisticRegression\n",
    "from sklearn.metrics import confusion_matrix, f1_score\n",
    "from tensorflow.keras.models import Sequential, Model\n",
    "from tensorflow.keras.layers import Input, Dense, Activation, Dropout, Conv1D, Flatten, MaxPooling1D,\\\n",
    "                        AveragePooling1D, Concatenate, LeakyReLU, Embedding,\\\n",
    "                        GlobalMaxPooling1D,GlobalAveragePooling1D,GaussianNoise,BatchNormalization,Add,ZeroPadding1D, Layer\n",
    "from tensorflow.keras.initializers import glorot_uniform\n",
    "from tensorflow.keras.utils import plot_model\n",
    "from tensorflow.keras.optimizers import Adam\n",
    "from pylab import *\n",
    "\n",
    "\n",
    "\n",
    "importlib.reload(tensorflow)"
   ]
  },
  {
   "cell_type": "code",
   "execution_count": null,
   "metadata": {},
   "outputs": [],
   "source": []
  },
  {
   "cell_type": "code",
   "execution_count": 2,
   "metadata": {},
   "outputs": [],
   "source": [
    "tqdm.pandas()"
   ]
  },
  {
   "cell_type": "code",
   "execution_count": 3,
   "metadata": {},
   "outputs": [],
   "source": [
    "import tensorflow as tf\n",
    "with tf.Session() as sess:\n",
    "    devices = sess.list_devices()"
   ]
  },
  {
   "cell_type": "markdown",
   "metadata": {},
   "source": [
    "### Helper Functions / Classes"
   ]
  },
  {
   "cell_type": "code",
   "execution_count": 4,
   "metadata": {},
   "outputs": [],
   "source": [
    "from IPython.display import clear_output\n",
    "class PlotLosses(tensorflow.keras.callbacks.Callback):\n",
    "    def on_train_begin(self, logs={}):\n",
    "        self.i = 0\n",
    "        self.x = []\n",
    "        self.losses = []\n",
    "        self.val_losses = []\n",
    "        \n",
    "        self.fig = plt.figure()\n",
    "        \n",
    "        self.logs = []\n",
    "\n",
    "    def on_epoch_end(self, epoch, logs={}):\n",
    "        \n",
    "        self.logs.append(logs)\n",
    "        self.x.append(self.i)\n",
    "        self.losses.append(logs.get('loss'))\n",
    "        self.val_losses.append(logs.get('val_loss'))\n",
    "        self.i += 1\n",
    "        \n",
    "        clear_output(wait=True)\n",
    "        plt.plot(self.x, self.losses, label=\"loss\")\n",
    "        plt.plot(self.x, self.val_losses, label=\"val_loss\")\n",
    "        plt.legend()\n",
    "        plt.show()\n",
    "        \n",
    "        plt.plot(range(len(global_history)), global_history, label = 'Accuracy - Global')\n",
    "        plt.plot(range(len(global_val_history)), global_val_history, label = 'Accuracy - Global - Va;')\n",
    "        plt.legend()\n",
    "        plt.show()\n",
    "        \n",
    "plot_losses = PlotLosses()"
   ]
  },
  {
   "cell_type": "markdown",
   "metadata": {},
   "source": [
    "### Data"
   ]
  },
  {
   "cell_type": "code",
   "execution_count": 29,
   "metadata": {},
   "outputs": [
    {
     "name": "stdout",
     "output_type": "stream",
     "text": [
      "Reading data - chunk size : 100\n",
      "Data read complete : 0.8530220985412598s\n"
     ]
    }
   ],
   "source": [
    "chunk_size = 100\n",
    "\n",
    "drugbank_reader = pd.read_csv('data/intermediate/interactions_preprocessed.csv', chunksize = chunk_size, iterator = True, converters={\"target_gene_encoded_padded\": \\\n",
    "                                                                                     lambda x: np.array(x.strip(\"[]\").replace(\"'\",\"\").split(\", \")),\n",
    "                                                                                    \"drug_fingerprint_encoded_padded\": \\\n",
    "                                                                                    lambda x: np.array(x.strip(\"[]\").replace(\"'\",\"\").split(\", \"))})\n",
    "\n",
    "\n",
    "print (\"Reading data - chunk size : \" + str(chunk_size) )\n",
    "start = time.time()\n",
    "drugbank = drugbank_reader.__next__()\n",
    "end = time.time()\n",
    "print (\"Data read complete : \" + str(end - start) + \"s\")\n",
    "\n"
   ]
  },
  {
   "cell_type": "code",
   "execution_count": null,
   "metadata": {},
   "outputs": [],
   "source": []
  },
  {
   "cell_type": "code",
   "execution_count": 30,
   "metadata": {},
   "outputs": [],
   "source": [
    "compressed_db = drugbank[['drug_id', 'gene_id']]"
   ]
  },
  {
   "cell_type": "code",
   "execution_count": 31,
   "metadata": {},
   "outputs": [
    {
     "data": {
      "application/vnd.jupyter.widget-view+json": {
       "model_id": "86af85750a68436896d55eadab10f8c6",
       "version_major": 2,
       "version_minor": 0
      },
      "text/plain": [
       "HBox(children=(FloatProgress(value=1.0, bar_style='info', max=1.0), HTML(value='')))"
      ]
     },
     "metadata": {},
     "output_type": "display_data"
    },
    {
     "name": "stdout",
     "output_type": "stream",
     "text": [
      "\n"
     ]
    }
   ],
   "source": [
    "drug_dict = {}\n",
    "gene_dict = {}\n",
    "gene_id_code = {}\n",
    "gene_id_encoding = {}\n",
    "\n",
    "for drugbank in tqdm(drugbank_reader):\n",
    "    \n",
    "    compressed_db = drugbank[['drug_id', 'gene_id']]\n",
    "    \n",
    "    for i in range(len(compressed_db)):\n",
    "        \n",
    "        try:\n",
    "            drug = compressed_db['drug_id'].values[i]\n",
    "            gene = compressed_db['gene_id'].values[i]\n",
    "\n",
    "            try:\n",
    "                drug_dict[drug].add(gene)\n",
    "            except: \n",
    "                drug_dict[drug] = set()\n",
    "                drug_dict[drug].add(gene)\n",
    "\n",
    "            try:\n",
    "                gene_dict[gene].add(drug)\n",
    "            except: \n",
    "                gene_dict[gene] = set()\n",
    "                gene_dict[gene].add(drug)\n",
    "                \n",
    "             \n",
    "            gene_id_code[gene] = drugbank[drugbank['gene_id'] == gene]['target_gene_encoded_len'].values[0]\n",
    "            gene_id_encoding[gene] = drugbank[drugbank['gene_id'] == gene]['target_gene_encoded_padded'].values[0]\n",
    "        \n",
    "        except Exception as e: \n",
    "            print (\"Exception : \" + str(e))\n",
    "            traceback.print_exc()\n",
    "            continue"
   ]
  },
  {
   "cell_type": "code",
   "execution_count": 8,
   "metadata": {},
   "outputs": [
    {
     "name": "stdout",
     "output_type": "stream",
     "text": [
      "Number Of Unique Drugs : 6215\n",
      "Number Of Unique Genes : 3774\n"
     ]
    }
   ],
   "source": [
    "print (\"Number Of Unique Drugs : \" + str(len(drug_dict.keys())))\n",
    "print (\"Number Of Unique Genes : \" + str(len(gene_dict.keys())))"
   ]
  },
  {
   "cell_type": "code",
   "execution_count": 9,
   "metadata": {},
   "outputs": [],
   "source": [
    "drug_to_gene_count = np.zeros((len(drug_dict.keys()), 2))\n",
    "gene_to_drug_count = np.zeros((len(gene_dict.keys()), 2))"
   ]
  },
  {
   "cell_type": "code",
   "execution_count": 10,
   "metadata": {},
   "outputs": [],
   "source": [
    "drug_keys = list(drug_dict.keys())\n",
    "gene_keys = list(gene_dict.keys())\n",
    "\n",
    "for d in range(len(drug_keys)):\n",
    "    drug_to_gene_count[d][0] = d\n",
    "    drug_to_gene_count[d][1] = len(drug_dict[drug_keys[d]])\n",
    "drug_to_gene_count = pd.DataFrame(drug_to_gene_count)\n",
    "drug_to_gene_count.columns = ['Drug Index', 'Number Of Genes']\n",
    "    \n",
    "for g in range(len(gene_keys)):\n",
    "    gene_to_drug_count[g][0] = g\n",
    "    gene_to_drug_count[g][1] = len(gene_dict[gene_keys[g]])\n",
    "gene_to_drug_count = pd.DataFrame(gene_to_drug_count)\n",
    "gene_to_drug_count.columns = ['Gene Index', 'Number Of Drugs']"
   ]
  },
  {
   "cell_type": "code",
   "execution_count": 11,
   "metadata": {},
   "outputs": [
    {
     "name": "stdout",
     "output_type": "stream",
     "text": [
      "Percentile Split Of Drug -> Gene Interaction\n",
      "p1 : 1.0 Genes\n",
      "p25 : 2.0 Genes\n",
      "p50 : 6.0 Genes\n",
      "p75 : 12.0 Genes\n",
      "p99 : 160.0 Genes\n",
      "\n",
      "Percentile Split Of Gene -> Drug Interaction\n",
      "p1 : 1.0 Drugs\n",
      "p25 : 3.0 Drugs\n",
      "p50 : 8.0 Drugs\n",
      "p75 : 19.0 Drugs\n",
      "p99 : 290.39999999999964 Drugs\n"
     ]
    }
   ],
   "source": [
    "percentile_list = [1, 25, 50, 75, 99]\n",
    "print (\"Percentile Split Of Drug -> Gene Interaction\")\n",
    "for p in percentile_list: \n",
    "    print (\"p\" + str(p) + \" : \" + str(np.percentile(drug_to_gene_count['Number Of Genes'], p)) + \" Genes\")\n",
    "print (\"\") \n",
    "print (\"Percentile Split Of Gene -> Drug Interaction\")\n",
    "for p in percentile_list: \n",
    "    print (\"p\" + str(p) + \" : \" + str(np.percentile(gene_to_drug_count['Number Of Drugs'], p)) + \" Drugs\")"
   ]
  },
  {
   "cell_type": "markdown",
   "metadata": {},
   "source": [
    "#### Build Lists Of Similar Genes"
   ]
  },
  {
   "cell_type": "markdown",
   "metadata": {},
   "source": [
    "<b>Method 1 : </b>\n",
    "\n",
    "Randomly Sample Genes To Build Lists Of Similar Genes\n",
    "\n",
    "This will contain genes overlapping multiple drugs. We could run this multiple times and produce multiple\n",
    "datasets to train the network on."
   ]
  },
  {
   "cell_type": "code",
   "execution_count": 156,
   "metadata": {},
   "outputs": [
    {
     "name": "stdout",
     "output_type": "stream",
     "text": [
      "Number Of Similar Gene Lists With Length > 2 : 81\n",
      "p1 : 3.0 Similar Genes\n",
      "p25 : 3.0 Similar Genes\n",
      "p50 : 5.0 Similar Genes\n",
      "p75 : 13.0 Similar Genes\n",
      "p99 : 694.6000000000009 Similar Genes\n",
      "\n"
     ]
    }
   ],
   "source": [
    "number_of_genes = len(gene_dict.keys())\n",
    "list_of_genes = []\n",
    "genes_considered = set()\n",
    "\n",
    "for i in range(1000):\n",
    "    \n",
    "    # Select A Random Gene Not Yet Selected\n",
    "    count = 0\n",
    "    break_flag = 0\n",
    "    while gene in genes_considered:\n",
    "        gene = gene_keys[np.random.randint(number_of_genes)]\n",
    "        count = count + 1 \n",
    "        # All Genes Have Been Considered\n",
    "        if count == len(gene_dict.keys()):\n",
    "            break_flag = 1\n",
    "            break\n",
    "    \n",
    "    if break_flag == 1: \n",
    "        break\n",
    "\n",
    "    similar_genes = []\n",
    "    \n",
    "    # For Each Drug That Works On This Gene\n",
    "    for drug in gene_dict[gene]:\n",
    "        \n",
    "        # Get Other Genes Affected By Drug\n",
    "        for other_gene in drug_dict[drug]:\n",
    "            \n",
    "            # Check If This Gene Already Belongs To Another Group\n",
    "            if other_gene not in genes_considered:\n",
    "                genes_considered.add(other_gene)\n",
    "                similar_genes.append(other_gene)\n",
    "            else: \n",
    "                continue\n",
    "    \n",
    "    list_of_genes.append(similar_genes)         \n",
    "\n",
    "\n",
    "gene_data_distribution = []\n",
    "gene_train_set = []\n",
    "min_threshold = 2\n",
    "for l in list_of_genes: \n",
    "    if len(l) > 2:\n",
    "        gene_train_set.append(l)\n",
    "        gene_data_distribution.append(len(l))\n",
    "        \n",
    "print (\"Number Of Similar Gene Lists With Length > \" + str(min_threshold) + \" : \" + str(len(gene_train_set)))\n",
    "for p in percentile_list: \n",
    "    print (\"p\" + str(p) + \" : \" + str(np.percentile(gene_data_distribution, p)) + \" Similar Genes\")\n",
    "print (\"\")    "
   ]
  },
  {
   "cell_type": "markdown",
   "metadata": {},
   "source": [
    "<b>Method 2 : </b>\n",
    "\n",
    "Pick out genes which are affected only by one drug. Then pick out other genes which are also affected \n",
    "by the same drug. \n",
    "\n",
    "In doing so, we ensure there is no overlap in similar genes across drugs."
   ]
  },
  {
   "cell_type": "code",
   "execution_count": 12,
   "metadata": {},
   "outputs": [
    {
     "name": "stdout",
     "output_type": "stream",
     "text": [
      "Number Of Similar Gene Lists With Length > 2 : 112\n",
      "p1 : 3.0 Similar Genes\n",
      "p25 : 7.0 Similar Genes\n",
      "p50 : 14.0 Similar Genes\n",
      "p75 : 38.5 Similar Genes\n",
      "p99 : 164.23 Similar Genes\n",
      "\n"
     ]
    }
   ],
   "source": [
    "list_of_genes = []\n",
    "genes_considered = set()\n",
    "single_drug_gene = []\n",
    "\n",
    "# Find All Genes That Are Affected Only By ONE Drug \n",
    "for gene in gene_dict.keys():\n",
    "    if len(gene_dict[gene]) == 1:\n",
    "        single_drug_gene.append(gene)\n",
    "\n",
    "# For Each Gene\n",
    "for gene in single_drug_gene:\n",
    "    \n",
    "    # Skip Gene If It's Already Part Of A Similar Set\n",
    "    if gene not in genes_considered: \n",
    "        \n",
    "        genes_considered.add(gene)\n",
    "        similar_genes = []\n",
    "\n",
    "        # Find The Drug That Affects It\n",
    "        drug = list(gene_dict[gene])[0]\n",
    "\n",
    "\n",
    "        # Find Other Genes This Drug Affects And Add It To Similar Genes\n",
    "        for other_gene in drug_dict[drug]:\n",
    "            similar_genes.append(other_gene)\n",
    "            genes_considered.add(other_gene)\n",
    "\n",
    "        list_of_genes.append(similar_genes)\n",
    "    \n",
    "    else: \n",
    "        continue\n",
    "\n",
    "gene_data_distribution = []\n",
    "gene_train_set = []\n",
    "min_threshold = 2\n",
    "for l in list_of_genes: \n",
    "    if len(l) > min_threshold:\n",
    "        gene_train_set.append(l)\n",
    "        gene_data_distribution.append(len(l))\n",
    "        \n",
    "print (\"Number Of Similar Gene Lists With Length > \" + str(min_threshold) + \" : \" + str(len(gene_train_set)))\n",
    "for p in percentile_list: \n",
    "    print (\"p\" + str(p) + \" : \" + str(np.percentile(gene_data_distribution, p)) + \" Similar Genes\")\n",
    "print (\"\")    "
   ]
  },
  {
   "cell_type": "code",
   "execution_count": 57,
   "metadata": {},
   "outputs": [],
   "source": [
    "deviation_list = []\n",
    "for gene_l in gene_train_set:\n",
    "    length_list = []\n",
    "    for gene in gene_l:\n",
    "        length_list.append(gene_id_code[gene])\n",
    "    deviation_list.append(np.std(length_list))"
   ]
  },
  {
   "cell_type": "code",
   "execution_count": 65,
   "metadata": {},
   "outputs": [
    {
     "data": {
      "image/png": "[encoded data removed]",
      "text/plain": [
       "<Figure size 432x288 with 1 Axes>"
      ]
     },
     "metadata": {
      "needs_background": "light"
     },
     "output_type": "display_data"
    }
   ],
   "source": [
    "plt.plot(deviation_list)\n",
    "plt.axhline(np.mean(deviation_list), color = 'r', label = 'Mean')\n",
    "plt.axhline(np.median(deviation_list), color = 'g', label = 'Median')\n",
    "plt.xlabel('Similar Gene List Number')\n",
    "plt.ylabel('Deviation In Lenght Of Genes')\n",
    "plt.title(\"Distribution Of Gene Length Witin Similar Lists\")\n",
    "plt.legend()\n",
    "plt.show()"
   ]
  },
  {
   "cell_type": "markdown",
   "metadata": {},
   "source": [
    "##### Construct Training Sets \n",
    "Select Three Genes - An Anchor Gene, a Positive Gene and a Negative Gene"
   ]
  },
  {
   "cell_type": "code",
   "execution_count": 112,
   "metadata": {},
   "outputs": [
    {
     "name": "stdout",
     "output_type": "stream",
     "text": [
      "Time To Build Training Data : 144.16918921470642\n"
     ]
    }
   ],
   "source": [
    "training_data_start = time.time()\n",
    "gene_triplet_sanity_check = []\n",
    "gene_triplet_training_data = []\n",
    "\n",
    "for similar_list in gene_train_set: \n",
    "    \n",
    "    anchor_gene = similar_list[0]\n",
    "    for gene in range(1, len(similar_list)):\n",
    "        positive_gene = similar_list[gene]\n",
    "        \n",
    "        random_list = gene_train_set[np.random.randint(0, len(gene_train_set))]\n",
    "        while similar_list == random_list:\n",
    "            random_list = gene_train_set[np.random.randint(0, len(gene_train_set))]\n",
    "            \n",
    "        negative_gene = np.random.choice(random_list)\n",
    "        \n",
    "        anchor_encoding = np.expand_dims(gene_id_encoding[anchor_gene], axis = 0).astype('float64')\n",
    "        positive_encoding = np.expand_dims(gene_id_encoding[positive_gene], axis = 0).astype('float64')\n",
    "        negative_encoding = np.expand_dims(gene_id_encoding[negative_gene], axis = 0).astype('float64')\n",
    "        \n",
    "        anchor_encoding = np.expand_dims(anchor_encoding, axis = -1)\n",
    "        positive_encoding = np.expand_dims(positive_encoding, axis = -1)\n",
    "        negative_encoding = np.expand_dims(negative_encoding, axis = -1)\n",
    "        \n",
    "        gene_triplet_training_data.append([anchor_encoding, positive_encoding, negative_encoding])\n",
    "        gene_triplet_sanity_check.append([anchor_gene, positive_gene, negative_gene])\n",
    "            \n",
    "training_data_end = time.time()\n",
    "print (\"Time To Build Training Data : \" + str(training_data_end - training_data_start))"
   ]
  },
  {
   "cell_type": "code",
   "execution_count": null,
   "metadata": {},
   "outputs": [],
   "source": []
  },
  {
   "cell_type": "markdown",
   "metadata": {},
   "source": [
    "#### Build List Of Similar Drugs"
   ]
  },
  {
   "cell_type": "markdown",
   "metadata": {},
   "source": [
    "Pick out drugs which work only on one gene. Then pick out other drugs which also work on the same gene.\n",
    "\n",
    "In doing so, we ensure there is no overlap in similar drugs across genes."
   ]
  },
  {
   "cell_type": "code",
   "execution_count": 162,
   "metadata": {},
   "outputs": [
    {
     "name": "stdout",
     "output_type": "stream",
     "text": [
      "Number Of Similar Drug Lists With Lenght > 2 : 291\n",
      "p1 : 3.0 Similar Drugs\n",
      "p25 : 7.0 Similar Drugs\n",
      "p50 : 14.0 Similar Drugs\n",
      "p75 : 27.5 Similar Drugs\n",
      "p99 : 153.30000000000007 Similar Drugs\n",
      "\n"
     ]
    }
   ],
   "source": [
    "list_of_drugs = []\n",
    "drugs_considered = set()\n",
    "single_gene_drug = []\n",
    "\n",
    "# Find All Drugs That Work Only On ONE Gene\n",
    "for drug in drug_dict.keys():\n",
    "    if len(drug_dict[drug]) == 1:\n",
    "        single_gene_drug.append(drug)\n",
    "        \n",
    "# For Each Drug\n",
    "for drug in single_gene_drug:\n",
    "    \n",
    "    # Skip Drug If It's Already Part Of A Similar Set\n",
    "    if drug not in drugs_considered: \n",
    "        \n",
    "        drugs_considered.add(drug)\n",
    "        similar_drugs = []\n",
    "\n",
    "        # Find The Gene That The Drug Works On\n",
    "        gene = list(drug_dict[drug])[0]\n",
    "\n",
    "\n",
    "        # Find Other Drugs That Work On This Gene\n",
    "        for other_drug in gene_dict[gene]:\n",
    "            similar_drugs.append(other_drug)\n",
    "            drugs_considered.add(other_drug)\n",
    "\n",
    "        list_of_drugs.append(similar_drugs)\n",
    "    \n",
    "    else: \n",
    "        continue\n",
    "        \n",
    "drug_data_distribution = []\n",
    "drug_train_set = []\n",
    "min_threshold = 2\n",
    "for l in list_of_drugs: \n",
    "    if len(l) > min_threshold:\n",
    "        drug_train_set.append(l)\n",
    "        drug_data_distribution.append(len(l))\n",
    "        \n",
    "print (\"Number Of Similar Drug Lists With Lenght > \" + str(min_threshold) + \" : \" + str(len(drug_train_set)))\n",
    "for p in percentile_list: \n",
    "    print (\"p\" + str(p) + \" : \" + str(np.percentile(drug_data_distribution, p)) + \" Similar Drugs\")\n",
    "print (\"\")   "
   ]
  },
  {
   "cell_type": "code",
   "execution_count": null,
   "metadata": {},
   "outputs": [],
   "source": []
  },
  {
   "cell_type": "markdown",
   "metadata": {},
   "source": [
    "### Siamese Network"
   ]
  },
  {
   "cell_type": "markdown",
   "metadata": {},
   "source": [
    "#### Define Convolutional Model "
   ]
  },
  {
   "cell_type": "code",
   "execution_count": 98,
   "metadata": {},
   "outputs": [],
   "source": [
    "def conv_network(input_shape = (21222, 1), output_shape = 256):\n",
    "    \n",
    "    X_input = Input(input_shape, name = \"Input_Layer\")\n",
    "    \n",
    "    # Convolution Block 1\n",
    "    X = Conv1D(filters = 64, kernel_size = 4, strides = 2, activation = 'relu', kernel_initializer = 'he_uniform', name = \"CB1_Conv_1\")(X_input)\n",
    "    X = Conv1D(filters = 64, kernel_size = 4, strides = 2, activation = 'relu', kernel_initializer = 'he_uniform', name = \"CB1_Conv_2\")(X)\n",
    "    X = BatchNormalization(name = \"CB1_BN_1\")(X)\n",
    "    \n",
    "    # Convolution Block 2\n",
    "    X = Conv1D(filters = 128, kernel_size = 4, strides = 2, activation = 'relu', kernel_initializer = 'he_uniform', name = \"CB2_Conv_1\")(X)\n",
    "    X = Conv1D(filters = 128, kernel_size = 4, strides = 2, activation = 'relu', kernel_initializer = 'he_uniform', name = \"CB2_Conv_2\")(X)\n",
    "    X = BatchNormalization(name = \"CB2_BN_1\")(X)\n",
    "    X = AveragePooling1D(name = \"CB2_AvgPool_1\")(X)\n",
    "    # Test Drop Out\n",
    "    # X = Dropout(0.4)(X)\n",
    "\n",
    "    # Convolution Block 3\n",
    "    X = Conv1D(filters = 256, kernel_size = 4, strides = 2, activation = 'relu', kernel_initializer = 'he_uniform', name = \"CB3_Conv_1\")(X)\n",
    "    X = Conv1D(filters = 256, kernel_size = 4, strides = 2, activation = 'relu', kernel_initializer = 'he_uniform', name = \"CB3_Conv_2\")(X)\n",
    "    X = Conv1D(filters = 256, kernel_size = 4, strides = 2, activation = 'relu', kernel_initializer = 'he_uniform', name = \"CB3_Conv_3\")(X)\n",
    "    X = BatchNormalization(name = \"CB3_BN_1\")(X)\n",
    "    # Test Drop Out\n",
    "    # X = Dropout(0.5)(X)\n",
    "    \n",
    "    # Flatten\n",
    "    X = Flatten(name = \"Flatten_Layer\")(X)\n",
    "    X = Dense(512, activation = 'relu', kernel_initializer = 'he_uniform', name = \"Dense_Layer_1\")(X)\n",
    "    X = Dense(output_shape, activation = None, name = \"Final_Dense_Layer\")(X)\n",
    "    \n",
    "    return Model(inputs = X_input, outputs = X)"
   ]
  },
  {
   "cell_type": "code",
   "execution_count": 99,
   "metadata": {},
   "outputs": [],
   "source": [
    "conv_model = conv_network()"
   ]
  },
  {
   "cell_type": "markdown",
   "metadata": {},
   "source": [
    "#### Define Triplet Loss"
   ]
  },
  {
   "cell_type": "code",
   "execution_count": 117,
   "metadata": {},
   "outputs": [],
   "source": [
    "class TripletLossLayer(Layer):\n",
    "    def __init__(self, alpha, **kwargs):\n",
    "        self.alpha = alpha\n",
    "        super(TripletLossLayer, self).__init__(**kwargs)\n",
    "    \n",
    "    def triplet_loss(self, inputs):\n",
    "        anchor, positive, negative = inputs\n",
    "        p_dist = K.sum(K.square(anchor-positive), axis=-1)\n",
    "        n_dist = K.sum(K.square(anchor-negative), axis=-1)\n",
    "        return K.sum(K.maximum(p_dist - n_dist + self.alpha, 0), axis = 0)\n",
    "    \n",
    "    def call(self, inputs):\n",
    "        loss = self.triplet_loss(inputs)\n",
    "        self.add_loss(loss)\n",
    "        return loss"
   ]
  },
  {
   "cell_type": "markdown",
   "metadata": {},
   "source": [
    "#### Overall Model"
   ]
  },
  {
   "cell_type": "code",
   "execution_count": 122,
   "metadata": {},
   "outputs": [],
   "source": [
    "def siamese_model(input_shape, conv_model, margin = 0.3):\n",
    "    \n",
    "    # Three Input Genes\n",
    "    anchor_gene = Input(input_shape, name = \"Anchor_Gene\")\n",
    "    positive_gene = Input(input_shape, name = \"Positive_Gene\")\n",
    "    negative_gene = Input(input_shape, name = \"Negative_Gene\") \n",
    "    \n",
    "    # Generate Encodings \n",
    "    encoded_a = conv_model(anchor_gene)\n",
    "    encoded_p = conv_model(positive_gene)\n",
    "    encoded_n = conv_model(negative_gene)\n",
    "    \n",
    "    # Compute Triplet Loss\n",
    "    loss_layer = TripletLossLayer(alpha = margin, name = 'Triplet_Loss_Layer')([encoded_a, encoded_p, encoded_n])\n",
    "    \n",
    "    model = Model(inputs = [anchor_gene, positive_gene, negative_gene], outputs = loss_layer)\n",
    "    \n",
    "    return model"
   ]
  },
  {
   "cell_type": "code",
   "execution_count": 123,
   "metadata": {},
   "outputs": [],
   "source": [
    "siamese_network = siamese_model(input_shape = (21222, 1), conv_model = conv_model)"
   ]
  },
  {
   "cell_type": "code",
   "execution_count": 124,
   "metadata": {},
   "outputs": [
    {
     "name": "stdout",
     "output_type": "stream",
     "text": [
      "_________________________________________________________________\n",
      "Layer (type)                 Output Shape              Param #   \n",
      "=================================================================\n",
      "Input_Layer (InputLayer)     (None, 21222, 1)          0         \n",
      "_________________________________________________________________\n",
      "CB1_Conv_1 (Conv1D)          (None, 10610, 64)         320       \n",
      "_________________________________________________________________\n",
      "CB1_Conv_2 (Conv1D)          (None, 5304, 64)          16448     \n",
      "_________________________________________________________________\n",
      "CB1_BN_1 (BatchNormalization (None, 5304, 64)          256       \n",
      "_________________________________________________________________\n",
      "CB2_Conv_1 (Conv1D)          (None, 2651, 128)         32896     \n",
      "_________________________________________________________________\n",
      "CB2_Conv_2 (Conv1D)          (None, 1324, 128)         65664     \n",
      "_________________________________________________________________\n",
      "CB2_BN_1 (BatchNormalization (None, 1324, 128)         512       \n",
      "_________________________________________________________________\n",
      "CB2_AvgPool_1 (AveragePoolin (None, 662, 128)          0         \n",
      "_________________________________________________________________\n",
      "CB3_Conv_1 (Conv1D)          (None, 330, 256)          131328    \n",
      "_________________________________________________________________\n",
      "CB3_Conv_2 (Conv1D)          (None, 164, 256)          262400    \n",
      "_________________________________________________________________\n",
      "CB3_Conv_3 (Conv1D)          (None, 81, 256)           262400    \n",
      "_________________________________________________________________\n",
      "CB3_BN_1 (BatchNormalization (None, 81, 256)           1024      \n",
      "_________________________________________________________________\n",
      "Flatten_Layer (Flatten)      (None, 20736)             0         \n",
      "_________________________________________________________________\n",
      "Dense_Layer_1 (Dense)        (None, 512)               10617344  \n",
      "_________________________________________________________________\n",
      "Final_Dense_Layer (Dense)    (None, 256)               131328    \n",
      "=================================================================\n",
      "Total params: 11,521,920\n",
      "Trainable params: 11,521,024\n",
      "Non-trainable params: 896\n",
      "_________________________________________________________________\n"
     ]
    }
   ],
   "source": [
    "conv_model.summary()"
   ]
  },
  {
   "cell_type": "code",
   "execution_count": 125,
   "metadata": {},
   "outputs": [
    {
     "name": "stdout",
     "output_type": "stream",
     "text": [
      "__________________________________________________________________________________________________\n",
      "Layer (type)                    Output Shape         Param #     Connected to                     \n",
      "==================================================================================================\n",
      "Anchor_Gene (InputLayer)        (None, 21222, 1)     0                                            \n",
      "__________________________________________________________________________________________________\n",
      "Positive_Gene (InputLayer)      (None, 21222, 1)     0                                            \n",
      "__________________________________________________________________________________________________\n",
      "Negative_Gene (InputLayer)      (None, 21222, 1)     0                                            \n",
      "__________________________________________________________________________________________________\n",
      "model_2 (Model)                 (None, 256)          11521920    Anchor_Gene[0][0]                \n",
      "                                                                 Positive_Gene[0][0]              \n",
      "                                                                 Negative_Gene[0][0]              \n",
      "__________________________________________________________________________________________________\n",
      "Triplet_Loss_Layer (TripletLoss ()                   0           model_2[7][0]                    \n",
      "                                                                 model_2[8][0]                    \n",
      "                                                                 model_2[9][0]                    \n",
      "==================================================================================================\n",
      "Total params: 11,521,920\n",
      "Trainable params: 11,521,024\n",
      "Non-trainable params: 896\n",
      "__________________________________________________________________________________________________\n"
     ]
    }
   ],
   "source": [
    "siamese_network.summary()"
   ]
  },
  {
   "cell_type": "code",
   "execution_count": 126,
   "metadata": {},
   "outputs": [
    {
     "name": "stdout",
     "output_type": "stream",
     "text": [
      "WARNING:tensorflow:Output \"Triplet_Loss_Layer\" missing from loss dictionary. We assume this was done on purpose. The fit and evaluate APIs will not be expecting any data to be passed to \"Triplet_Loss_Layer\".\n"
     ]
    }
   ],
   "source": [
    "optimizer = Adam(lr = 0.00001)\n",
    "siamese_network.compile(loss = None, optimizer = optimizer)"
   ]
  },
  {
   "cell_type": "markdown",
   "metadata": {},
   "source": [
    "#### Train"
   ]
  },
  {
   "cell_type": "code",
   "execution_count": null,
   "metadata": {},
   "outputs": [],
   "source": [
    "siamese_network "
   ]
  },
  {
   "cell_type": "code",
   "execution_count": null,
   "metadata": {},
   "outputs": [],
   "source": []
  },
  {
   "cell_type": "code",
   "execution_count": null,
   "metadata": {},
   "outputs": [],
   "source": []
  },
  {
   "cell_type": "code",
   "execution_count": 127,
   "metadata": {
    "scrolled": true
   },
   "outputs": [
    {
     "name": "stdout",
     "output_type": "stream",
     "text": [
      "Epoch : 0 | Iteration : 0 | Loss : 0.0\n",
      "Epoch : 0 | Iteration : 100 | Loss : 0.0\n",
      "Epoch : 0 | Iteration : 200 | Loss : 4.2474985\n",
      "Epoch : 0 | Iteration : 300 | Loss : 0.0\n",
      "Epoch : 0 | Iteration : 400 | Loss : 0.0\n",
      "Epoch : 0 | Iteration : 500 | Loss : 0.0\n",
      "Epoch : 0 | Iteration : 600 | Loss : 1.1044204\n",
      "Epoch : 0 | Iteration : 700 | Loss : 0.0\n",
      "Epoch : 0 | Iteration : 800 | Loss : 0.0\n",
      "Epoch : 0 | Iteration : 900 | Loss : 0.0\n",
      "Epoch : 0 | Iteration : 1000 | Loss : 0.0\n",
      "Epoch : 0 | Iteration : 1100 | Loss : 0.0\n",
      "Epoch : 0 | Iteration : 1200 | Loss : 0.0\n",
      "Epoch : 0 | Iteration : 1300 | Loss : 1.079006\n",
      "Epoch : 0 | Iteration : 1400 | Loss : 0.0\n",
      "Epoch : 0 | Iteration : 1500 | Loss : 0.0\n",
      "Epoch : 0 | Iteration : 1600 | Loss : 0.0\n",
      "Epoch : 0 | Iteration : 1700 | Loss : 0.0\n",
      "Epoch : 0 | Iteration : 1800 | Loss : 11.574567\n",
      "Epoch : 0 | Iteration : 1900 | Loss : 0.081149876\n",
      "Epoch : 0 | Iteration : 2000 | Loss : 1.1483519\n",
      "Epoch : 0 | Iteration : 2100 | Loss : 0.0\n",
      "Epoch : 0 | Iteration : 2200 | Loss : 3.3311236\n",
      "Epoch : 0 | Iteration : 2300 | Loss : 0.0\n",
      "Epoch : 0 | Iteration : 2400 | Loss : 4.941079\n",
      "Epoch : 0 | Iteration : 2500 | Loss : 0.0\n",
      "Epoch : 0 | Iteration : 2600 | Loss : 0.0\n",
      "Epoch : 0 | Iteration : 2700 | Loss : 3.6893957\n",
      "Epoch : 0 | Iteration : 2800 | Loss : 2.0855906\n",
      "Epoch : 0 | Iteration : 2900 | Loss : 0.4050693\n",
      "Epoch : 0 | Iteration : 3000 | Loss : 0.04943365\n",
      "Epoch Time : 128.99956512451172\n",
      "Epoch : 1 | Iteration : 0 | Loss : 0.0\n",
      "Epoch : 1 | Iteration : 100 | Loss : 0.0\n",
      "Epoch : 1 | Iteration : 200 | Loss : 0.0\n",
      "Epoch : 1 | Iteration : 300 | Loss : 0.58850116\n",
      "Epoch : 1 | Iteration : 400 | Loss : 0.0\n",
      "Epoch : 1 | Iteration : 500 | Loss : 0.54575926\n",
      "Epoch : 1 | Iteration : 600 | Loss : 0.0\n",
      "Epoch : 1 | Iteration : 700 | Loss : 0.10189611\n",
      "Epoch : 1 | Iteration : 800 | Loss : 0.0\n",
      "Epoch : 1 | Iteration : 900 | Loss : 0.0\n",
      "Epoch : 1 | Iteration : 1000 | Loss : 0.0\n",
      "Epoch : 1 | Iteration : 1100 | Loss : 0.0\n",
      "Epoch : 1 | Iteration : 1200 | Loss : 0.0\n",
      "Epoch : 1 | Iteration : 1300 | Loss : 0.80980337\n",
      "Epoch : 1 | Iteration : 1400 | Loss : 0.3701707\n",
      "Epoch : 1 | Iteration : 1500 | Loss : 0.0\n",
      "Epoch : 1 | Iteration : 1600 | Loss : 0.0\n",
      "Epoch : 1 | Iteration : 1700 | Loss : 0.0\n",
      "Epoch : 1 | Iteration : 1800 | Loss : 0.0\n",
      "Epoch : 1 | Iteration : 1900 | Loss : 1.6450653\n",
      "Epoch : 1 | Iteration : 2000 | Loss : 0.0\n",
      "Epoch : 1 | Iteration : 2100 | Loss : 0.0\n",
      "Epoch : 1 | Iteration : 2200 | Loss : 0.4998833\n",
      "Epoch : 1 | Iteration : 2300 | Loss : 1.1516421\n",
      "Epoch : 1 | Iteration : 2400 | Loss : 2.2261\n",
      "Epoch : 1 | Iteration : 2500 | Loss : 0.0\n",
      "Epoch : 1 | Iteration : 2600 | Loss : 0.24751264\n",
      "Epoch : 1 | Iteration : 2700 | Loss : 1.4441211\n",
      "Epoch : 1 | Iteration : 2800 | Loss : 1.7060485\n",
      "Epoch : 1 | Iteration : 2900 | Loss : 0.22566956\n",
      "Epoch : 1 | Iteration : 3000 | Loss : 0.0\n",
      "Epoch Time : 122.3863353729248\n",
      "Epoch : 2 | Iteration : 0 | Loss : 0.0\n",
      "Epoch : 2 | Iteration : 100 | Loss : 0.0\n",
      "Epoch : 2 | Iteration : 200 | Loss : 0.0\n",
      "Epoch : 2 | Iteration : 300 | Loss : 1.4321558\n",
      "Epoch : 2 | Iteration : 400 | Loss : 0.0\n",
      "Epoch : 2 | Iteration : 500 | Loss : 0.0\n",
      "Epoch : 2 | Iteration : 600 | Loss : 0.54022795\n",
      "Epoch : 2 | Iteration : 700 | Loss : 0.0\n",
      "Epoch : 2 | Iteration : 800 | Loss : 0.0\n",
      "Epoch : 2 | Iteration : 900 | Loss : 2.138146\n",
      "Epoch : 2 | Iteration : 1000 | Loss : 0.0\n",
      "Epoch : 2 | Iteration : 1100 | Loss : 0.0\n",
      "Epoch : 2 | Iteration : 1200 | Loss : 0.0\n",
      "Epoch : 2 | Iteration : 1300 | Loss : 0.46824518\n",
      "Epoch : 2 | Iteration : 1400 | Loss : 0.30693668\n",
      "Epoch : 2 | Iteration : 1500 | Loss : 0.3\n",
      "Epoch : 2 | Iteration : 1600 | Loss : 0.0\n",
      "Epoch : 2 | Iteration : 1700 | Loss : 0.0\n",
      "Epoch : 2 | Iteration : 1800 | Loss : 0.41581148\n",
      "Epoch : 2 | Iteration : 1900 | Loss : 0.3\n",
      "Epoch : 2 | Iteration : 2000 | Loss : 0.3\n",
      "Epoch : 2 | Iteration : 2100 | Loss : 0.0\n",
      "Epoch : 2 | Iteration : 2200 | Loss : 0.30076846\n",
      "Epoch : 2 | Iteration : 2300 | Loss : 0.32441974\n",
      "Epoch : 2 | Iteration : 2400 | Loss : 0.3397208\n",
      "Epoch : 2 | Iteration : 2500 | Loss : 0.0\n",
      "Epoch : 2 | Iteration : 2600 | Loss : 0.0\n",
      "Epoch : 2 | Iteration : 2700 | Loss : 0.3\n",
      "Epoch : 2 | Iteration : 2800 | Loss : 0.60239196\n",
      "Epoch : 2 | Iteration : 2900 | Loss : 0.30142075\n",
      "Epoch : 2 | Iteration : 3000 | Loss : 0.15807033\n",
      "Epoch Time : 122.45306468009949\n",
      "Epoch : 3 | Iteration : 0 | Loss : 1.3111529\n",
      "Epoch : 3 | Iteration : 100 | Loss : 0.0\n",
      "Epoch : 3 | Iteration : 200 | Loss : 0.21775681\n",
      "Epoch : 3 | Iteration : 300 | Loss : 0.3\n",
      "Epoch : 3 | Iteration : 400 | Loss : 0.0\n",
      "Epoch : 3 | Iteration : 500 | Loss : 0.31008998\n",
      "Epoch : 3 | Iteration : 600 | Loss : 0.0\n",
      "Epoch : 3 | Iteration : 700 | Loss : 0.5832302\n",
      "Epoch : 3 | Iteration : 800 | Loss : 0.15335599\n",
      "Epoch : 3 | Iteration : 900 | Loss : 0.0\n",
      "Epoch : 3 | Iteration : 1000 | Loss : 0.0\n",
      "Epoch : 3 | Iteration : 1100 | Loss : 0.0\n",
      "Epoch : 3 | Iteration : 1200 | Loss : 0.0\n",
      "Epoch : 3 | Iteration : 1300 | Loss : 0.29937768\n",
      "Epoch : 3 | Iteration : 1400 | Loss : 0.77457464\n",
      "Epoch : 3 | Iteration : 1500 | Loss : 0.3\n",
      "Epoch : 3 | Iteration : 1600 | Loss : 0.07881296\n",
      "Epoch : 3 | Iteration : 1700 | Loss : 0.0\n",
      "Epoch : 3 | Iteration : 1800 | Loss : 0.0\n",
      "Epoch : 3 | Iteration : 1900 | Loss : 0.2998378\n",
      "Epoch : 3 | Iteration : 2000 | Loss : 0.21111448\n",
      "Epoch : 3 | Iteration : 2100 | Loss : 0.0\n",
      "Epoch : 3 | Iteration : 2200 | Loss : 0.3\n",
      "Epoch : 3 | Iteration : 2300 | Loss : 0.49164546\n",
      "Epoch : 3 | Iteration : 2400 | Loss : 0.28499857\n",
      "Epoch : 3 | Iteration : 2500 | Loss : 0.0\n",
      "Epoch : 3 | Iteration : 2600 | Loss : 0.10704464\n",
      "Epoch : 3 | Iteration : 2700 | Loss : 0.3\n",
      "Epoch : 3 | Iteration : 2800 | Loss : 0.25948802\n",
      "Epoch : 3 | Iteration : 2900 | Loss : 0.28966323\n",
      "Epoch : 3 | Iteration : 3000 | Loss : 0.3\n",
      "Epoch Time : 122.27503323554993\n",
      "Epoch : 4 | Iteration : 0 | Loss : 0.0\n",
      "Epoch : 4 | Iteration : 100 | Loss : 0.0\n",
      "Epoch : 4 | Iteration : 200 | Loss : 0.0\n",
      "Epoch : 4 | Iteration : 300 | Loss : 0.37659132\n",
      "Epoch : 4 | Iteration : 400 | Loss : 0.0847356\n",
      "Epoch : 4 | Iteration : 500 | Loss : 0.0\n",
      "Epoch : 4 | Iteration : 600 | Loss : 0.3\n",
      "Epoch : 4 | Iteration : 700 | Loss : 0.3\n",
      "Epoch : 4 | Iteration : 800 | Loss : 0.3\n",
      "Epoch : 4 | Iteration : 900 | Loss : 0.3\n",
      "Epoch : 4 | Iteration : 1000 | Loss : 0.0\n",
      "Epoch : 4 | Iteration : 1100 | Loss : 0.4546547\n",
      "Epoch : 4 | Iteration : 1200 | Loss : 0.0\n",
      "Epoch : 4 | Iteration : 1300 | Loss : 0.3\n",
      "Epoch : 4 | Iteration : 1400 | Loss : 1.0189288\n",
      "Epoch : 4 | Iteration : 1500 | Loss : 0.3\n",
      "Epoch : 4 | Iteration : 1600 | Loss : 0.0\n",
      "Epoch : 4 | Iteration : 1700 | Loss : 0.0\n"
     ]
    },
    {
     "ename": "KeyboardInterrupt",
     "evalue": "",
     "output_type": "error",
     "traceback": [
      "\u001b[0;31m---------------------------------------------------------------------------\u001b[0m",
      "\u001b[0;31mKeyboardInterrupt\u001b[0m                         Traceback (most recent call last)",
      "\u001b[0;32m<ipython-input-127-7185695a6905>\u001b[0m in \u001b[0;36m<module>\u001b[0;34m\u001b[0m\n\u001b[1;32m     10\u001b[0m \u001b[0;34m\u001b[0m\u001b[0m\n\u001b[1;32m     11\u001b[0m         \u001b[0mtriplets\u001b[0m \u001b[0;34m=\u001b[0m \u001b[0mgene_triplet_training_data\u001b[0m\u001b[0;34m[\u001b[0m\u001b[0mdata\u001b[0m\u001b[0;34m]\u001b[0m\u001b[0;34m\u001b[0m\u001b[0m\n\u001b[0;32m---> 12\u001b[0;31m         \u001b[0mloss\u001b[0m \u001b[0;34m=\u001b[0m \u001b[0msiamese_network\u001b[0m\u001b[0;34m.\u001b[0m\u001b[0mtrain_on_batch\u001b[0m\u001b[0;34m(\u001b[0m\u001b[0mtriplets\u001b[0m\u001b[0;34m,\u001b[0m \u001b[0;32mNone\u001b[0m\u001b[0;34m)\u001b[0m\u001b[0;34m\u001b[0m\u001b[0m\n\u001b[0m\u001b[1;32m     13\u001b[0m \u001b[0;34m\u001b[0m\u001b[0m\n\u001b[1;32m     14\u001b[0m         \u001b[0;32mif\u001b[0m \u001b[0mdata\u001b[0m \u001b[0;34m%\u001b[0m \u001b[0mprint_frequency\u001b[0m \u001b[0;34m==\u001b[0m \u001b[0;36m0\u001b[0m\u001b[0;34m:\u001b[0m\u001b[0;34m\u001b[0m\u001b[0m\n",
      "\u001b[0;32m/miniconda/lib/python3.6/site-packages/tensorflow/python/keras/engine/training.py\u001b[0m in \u001b[0;36mtrain_on_batch\u001b[0;34m(self, x, y, sample_weight, class_weight)\u001b[0m\n\u001b[1;32m   1938\u001b[0m \u001b[0;34m\u001b[0m\u001b[0m\n\u001b[1;32m   1939\u001b[0m       \u001b[0mself\u001b[0m\u001b[0;34m.\u001b[0m\u001b[0m_make_train_function\u001b[0m\u001b[0;34m(\u001b[0m\u001b[0;34m)\u001b[0m\u001b[0;34m\u001b[0m\u001b[0m\n\u001b[0;32m-> 1940\u001b[0;31m       \u001b[0moutputs\u001b[0m \u001b[0;34m=\u001b[0m \u001b[0mself\u001b[0m\u001b[0;34m.\u001b[0m\u001b[0mtrain_function\u001b[0m\u001b[0;34m(\u001b[0m\u001b[0mins\u001b[0m\u001b[0;34m)\u001b[0m\u001b[0;34m\u001b[0m\u001b[0m\n\u001b[0m\u001b[1;32m   1941\u001b[0m \u001b[0;34m\u001b[0m\u001b[0m\n\u001b[1;32m   1942\u001b[0m     \u001b[0;32mif\u001b[0m \u001b[0mlen\u001b[0m\u001b[0;34m(\u001b[0m\u001b[0moutputs\u001b[0m\u001b[0;34m)\u001b[0m \u001b[0;34m==\u001b[0m \u001b[0;36m1\u001b[0m\u001b[0;34m:\u001b[0m\u001b[0;34m\u001b[0m\u001b[0m\n",
      "\u001b[0;32m/miniconda/lib/python3.6/site-packages/tensorflow/python/keras/backend.py\u001b[0m in \u001b[0;36m__call__\u001b[0;34m(self, inputs)\u001b[0m\n\u001b[1;32m   2984\u001b[0m \u001b[0;34m\u001b[0m\u001b[0m\n\u001b[1;32m   2985\u001b[0m     fetched = self._callable_fn(*array_vals,\n\u001b[0;32m-> 2986\u001b[0;31m                                 run_metadata=self.run_metadata)\n\u001b[0m\u001b[1;32m   2987\u001b[0m     \u001b[0mself\u001b[0m\u001b[0;34m.\u001b[0m\u001b[0m_call_fetch_callbacks\u001b[0m\u001b[0;34m(\u001b[0m\u001b[0mfetched\u001b[0m\u001b[0;34m[\u001b[0m\u001b[0;34m-\u001b[0m\u001b[0mlen\u001b[0m\u001b[0;34m(\u001b[0m\u001b[0mself\u001b[0m\u001b[0;34m.\u001b[0m\u001b[0m_fetches\u001b[0m\u001b[0;34m)\u001b[0m\u001b[0;34m:\u001b[0m\u001b[0;34m]\u001b[0m\u001b[0;34m)\u001b[0m\u001b[0;34m\u001b[0m\u001b[0m\n\u001b[1;32m   2988\u001b[0m     \u001b[0;32mreturn\u001b[0m \u001b[0mfetched\u001b[0m\u001b[0;34m[\u001b[0m\u001b[0;34m:\u001b[0m\u001b[0mlen\u001b[0m\u001b[0;34m(\u001b[0m\u001b[0mself\u001b[0m\u001b[0;34m.\u001b[0m\u001b[0moutputs\u001b[0m\u001b[0;34m)\u001b[0m\u001b[0;34m]\u001b[0m\u001b[0;34m\u001b[0m\u001b[0m\n",
      "\u001b[0;32m/miniconda/lib/python3.6/site-packages/tensorflow/python/client/session.py\u001b[0m in \u001b[0;36m__call__\u001b[0;34m(self, *args, **kwargs)\u001b[0m\n\u001b[1;32m   1437\u001b[0m           ret = tf_session.TF_SessionRunCallable(\n\u001b[1;32m   1438\u001b[0m               \u001b[0mself\u001b[0m\u001b[0;34m.\u001b[0m\u001b[0m_session\u001b[0m\u001b[0;34m.\u001b[0m\u001b[0m_session\u001b[0m\u001b[0;34m,\u001b[0m \u001b[0mself\u001b[0m\u001b[0;34m.\u001b[0m\u001b[0m_handle\u001b[0m\u001b[0;34m,\u001b[0m \u001b[0margs\u001b[0m\u001b[0;34m,\u001b[0m \u001b[0mstatus\u001b[0m\u001b[0;34m,\u001b[0m\u001b[0;34m\u001b[0m\u001b[0m\n\u001b[0;32m-> 1439\u001b[0;31m               run_metadata_ptr)\n\u001b[0m\u001b[1;32m   1440\u001b[0m         \u001b[0;32mif\u001b[0m \u001b[0mrun_metadata\u001b[0m\u001b[0;34m:\u001b[0m\u001b[0;34m\u001b[0m\u001b[0m\n\u001b[1;32m   1441\u001b[0m           \u001b[0mproto_data\u001b[0m \u001b[0;34m=\u001b[0m \u001b[0mtf_session\u001b[0m\u001b[0;34m.\u001b[0m\u001b[0mTF_GetBuffer\u001b[0m\u001b[0;34m(\u001b[0m\u001b[0mrun_metadata_ptr\u001b[0m\u001b[0;34m)\u001b[0m\u001b[0;34m\u001b[0m\u001b[0m\n",
      "\u001b[0;31mKeyboardInterrupt\u001b[0m: "
     ]
    }
   ],
   "source": [
    "epoch = 20\n",
    "print_frequency = 100\n",
    "\n",
    "train_start = time.time()\n",
    "\n",
    "for e in range(epoch):\n",
    "    \n",
    "    epoch_start = time.time()\n",
    "    for data in range(len(gene_triplet_training_data)):\n",
    "        \n",
    "        triplets = gene_triplet_training_data[data]\n",
    "        loss = siamese_network.train_on_batch(triplets, None)\n",
    "        \n",
    "        if data % print_frequency == 0:\n",
    "            print (\"Epoch : \" + str(e) + \" | Iteration : \" + str(data) + \" | Loss : \" + str(loss))\n",
    "    epoch_end = time.time()\n",
    "    print (\"Epoch Time : \" + str(epoch_end - epoch_start))\n",
    "    \n",
    "train_end = time.time()\n",
    "print (\"Total Time To Train : \" + str(train_end - train_start)) "
   ]
  },
  {
   "cell_type": "code",
   "execution_count": null,
   "metadata": {},
   "outputs": [],
   "source": []
  },
  {
   "cell_type": "code",
   "execution_count": null,
   "metadata": {},
   "outputs": [],
   "source": []
  },
  {
   "cell_type": "code",
   "execution_count": null,
   "metadata": {},
   "outputs": [],
   "source": []
  },
  {
   "cell_type": "code",
   "execution_count": null,
   "metadata": {},
   "outputs": [],
   "source": []
  },
  {
   "cell_type": "code",
   "execution_count": null,
   "metadata": {},
   "outputs": [],
   "source": []
  },
  {
   "cell_type": "code",
   "execution_count": null,
   "metadata": {},
   "outputs": [],
   "source": []
  }
 ],
 "metadata": {
  "kernelspec": {
   "display_name": "Python 3",
   "language": "python",
   "name": "python3"
  },
  "language_info": {
   "codemirror_mode": {
    "name": "ipython",
    "version": 3
   },
   "file_extension": ".py",
   "mimetype": "text/x-python",
   "name": "python",
   "nbconvert_exporter": "python",
   "pygments_lexer": "ipython3",
   "version": "3.6.6"
  }
 },
 "nbformat": 4,
 "nbformat_minor": 2
}
