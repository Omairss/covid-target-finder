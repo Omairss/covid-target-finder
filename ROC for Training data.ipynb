{
 "cells": [
  {
   "cell_type": "code",
   "execution_count": 145,
   "metadata": {
    "scrolled": true
   },
   "outputs": [
    {
     "data": {
      "text/plain": [
       "<module 'tensorflow' from '/miniconda/lib/python3.6/site-packages/tensorflow/__init__.py'>"
      ]
     },
     "execution_count": 145,
     "metadata": {},
     "output_type": "execute_result"
    }
   ],
   "source": [
    "import pickle as pkl\n",
    "\n",
    "import lxml\n",
    "import pandas as pd\n",
    "import numpy as np\n",
    "#import seaborn as sns\n",
    "import matplotlib.pyplot as plt\n",
    "import tensorflow.keras\n",
    "from tensorflow.keras.datasets import imdb\n",
    "\n",
    "\n",
    "from tqdm.notebook import tqdm\n",
    "\n",
    "from sklearn.metrics import confusion_matrix\n",
    "from sklearn.utils.multiclass import unique_labels\n",
    "from sklearn.metrics import f1_score\n",
    "\n",
    "from sklearn.model_selection import train_test_split\n",
    "\n",
    "from sklearn.preprocessing import LabelEncoder, OneHotEncoder\n",
    "from ast import literal_eval\n",
    "from sklearn.model_selection import train_test_split\n",
    "from sklearn.linear_model import LogisticRegression\n",
    "from sklearn.metrics import confusion_matrix, f1_score\n",
    "from tensorflow.keras.models import Sequential, Model\n",
    "from tensorflow.keras.layers import Input, Dense, Activation, Dropout, Conv1D, Flatten, MaxPooling1D,\\\n",
    "                        AveragePooling1D, Concatenate, LeakyReLU, Embedding,\\\n",
    "                        GlobalMaxPooling1D,GlobalAveragePooling1D,GaussianNoise,BatchNormalization,Add\n",
    "from tensorflow.keras.initializers import glorot_uniform\n",
    "#from tensorflow.keras.utils.vis_utils import plot_model\n",
    "\n",
    "\n",
    "from sklearn.metrics import roc_curve, roc_auc_score\n",
    "\n",
    "\n",
    "import importlib\n",
    "importlib.reload(tensorflow)"
   ]
  },
  {
   "cell_type": "code",
   "execution_count": 2,
   "metadata": {},
   "outputs": [],
   "source": [
    "tqdm.pandas()"
   ]
  },
  {
   "cell_type": "code",
   "execution_count": 3,
   "metadata": {},
   "outputs": [],
   "source": [
    "import tensorflow as tf\n",
    "with tf.Session() as sess:\n",
    "    devices = sess.list_devices()"
   ]
  },
  {
   "cell_type": "code",
   "execution_count": 4,
   "metadata": {},
   "outputs": [],
   "source": [
    "import sys"
   ]
  },
  {
   "cell_type": "code",
   "execution_count": 5,
   "metadata": {},
   "outputs": [
    {
     "name": "stdout",
     "output_type": "stream",
     "text": [
      "/miniconda/bin/python: No module named list\r\n"
     ]
    }
   ],
   "source": [
    "!{sys.executable} -m list"
   ]
  },
  {
   "cell_type": "markdown",
   "metadata": {},
   "source": [
    "### Get postive samples"
   ]
  },
  {
   "cell_type": "code",
   "execution_count": 53,
   "metadata": {
    "scrolled": true
   },
   "outputs": [],
   "source": [
    "drugbank = pkl.load(open('data/drugbank_embds.pkl', 'rb'))"
   ]
  },
  {
   "cell_type": "code",
   "execution_count": 54,
   "metadata": {},
   "outputs": [],
   "source": [
    "drugbank['target_gene_code'] = drugbank['target_gene'].apply(lambda x: ''.join(list(x.split('\\n')[1:])))\n",
    "#drugbank['target_amino_code'] = drugbank['target_amino'].apply(lambda x: ''.join(list(x.split('\\n')[1:])))"
   ]
  },
  {
   "cell_type": "code",
   "execution_count": 55,
   "metadata": {
    "scrolled": true
   },
   "outputs": [],
   "source": [
    "positive_samples_gene = pd.DataFrame()\n",
    "\n",
    "positive_samples_gene['gene_id'] = drugbank['target_id'] \n",
    "positive_samples_gene['target_gene_code'] = drugbank['target_gene_code'] \n",
    "\n",
    "positive_samples_gene.to_pickle('positive_samples_gene.pkl')"
   ]
  },
  {
   "cell_type": "code",
   "execution_count": 56,
   "metadata": {
    "scrolled": true
   },
   "outputs": [],
   "source": [
    "gene_seq_list = drugbank['target_gene_code'].tolist()\n",
    "gene_seq_len_list = []\n",
    "\n",
    "for gene_name in gene_seq_list:\n",
    "    gene_seq_len_list.append(len(gene_name))\n",
    "    "
   ]
  },
  {
   "cell_type": "code",
   "execution_count": 57,
   "metadata": {},
   "outputs": [
    {
     "data": {
      "text/plain": [
       "Text(0,0.5,'Number of Genes')"
      ]
     },
     "execution_count": 57,
     "metadata": {},
     "output_type": "execute_result"
    },
    {
     "data": {
      "image/png": "[encoded data removed]",
      "text/plain": [
       "<Figure size 432x288 with 1 Axes>"
      ]
     },
     "metadata": {
      "needs_background": "light"
     },
     "output_type": "display_data"
    }
   ],
   "source": [
    "plt.hist(gene_seq_len_list, bins = 100, log = True)\n",
    "plt.title('Positive Samples')\n",
    "plt.xlabel('Gene Sequence Length')\n",
    "plt.ylabel('Number of Genes')"
   ]
  },
  {
   "cell_type": "code",
   "execution_count": 58,
   "metadata": {},
   "outputs": [],
   "source": [
    "with open ('data/chem_cid_SMILE_fngr_vector_fngr.pickle', 'rb') as f:\n",
    "    smiles_df = pkl.load(f)\n",
    "    \n",
    "smiles_df['cid'] = smiles_df['cid'].astype(int)\n",
    "drugbank = pd.merge(smiles_df, drugbank, right_on = 'pubchem_id', left_on = 'cid', how = 'right')"
   ]
  },
  {
   "cell_type": "code",
   "execution_count": 59,
   "metadata": {
    "scrolled": true
   },
   "outputs": [],
   "source": [
    "drugbank = drugbank[['drug_id', 'target_id', 'fingerprint', 'target_gene_code']]\n",
    "drugbank = drugbank[~ drugbank['fingerprint'].isna()]\n",
    "drugbank = drugbank.rename(columns = {'fingerprint': 'drug_fingerprint_code', 'target_id': 'gene_id'})"
   ]
  },
  {
   "cell_type": "code",
   "execution_count": 60,
   "metadata": {},
   "outputs": [
    {
     "data": {
      "text/plain": [
       "<matplotlib.axes._subplots.AxesSubplot at 0x7fb1894a4940>"
      ]
     },
     "execution_count": 60,
     "metadata": {},
     "output_type": "execute_result"
    },
    {
     "data": {
      "image/png": "[encoded data removed]",
      "text/plain": [
       "<Figure size 432x288 with 1 Axes>"
      ]
     },
     "metadata": {
      "needs_background": "light"
     },
     "output_type": "display_data"
    }
   ],
   "source": [
    "drugbank['drug_id'].value_counts().plot()"
   ]
  },
  {
   "cell_type": "markdown",
   "metadata": {},
   "source": [
    "## NOTE: Why does NAD Bind to so many molecules?"
   ]
  },
  {
   "cell_type": "code",
   "execution_count": 61,
   "metadata": {},
   "outputs": [
    {
     "data": {
      "text/html": [
       "<div>\n",
       "<style scoped>\n",
       "    .dataframe tbody tr th:only-of-type {\n",
       "        vertical-align: middle;\n",
       "    }\n",
       "\n",
       "    .dataframe tbody tr th {\n",
       "        vertical-align: top;\n",
       "    }\n",
       "\n",
       "    .dataframe thead th {\n",
       "        text-align: right;\n",
       "    }\n",
       "</style>\n",
       "<table border=\"1\" class=\"dataframe\">\n",
       "  <thead>\n",
       "    <tr style=\"text-align: right;\">\n",
       "      <th></th>\n",
       "      <th>drug_id</th>\n",
       "      <th>gene_id</th>\n",
       "      <th>drug_fingerprint_code</th>\n",
       "      <th>target_gene_code</th>\n",
       "    </tr>\n",
       "  </thead>\n",
       "  <tbody>\n",
       "    <tr>\n",
       "      <th>7833</th>\n",
       "      <td>DB00157</td>\n",
       "      <td>BE0000645</td>\n",
       "      <td>2968968094 4140259565 3218693969 2070178920 32...</td>\n",
       "      <td>ATGTTTGAAATTAAGAAGATCTGTTGCATCGGTGCAGGCTATGTTG...</td>\n",
       "    </tr>\n",
       "    <tr>\n",
       "      <th>7834</th>\n",
       "      <td>DB00157</td>\n",
       "      <td>BE0000227</td>\n",
       "      <td>2968968094 4140259565 3218693969 2070178920 32...</td>\n",
       "      <td>ATGAGCACAGCAGGAAAAGTAATCAAATGCAAAGCAGCTGTGCTAT...</td>\n",
       "    </tr>\n",
       "    <tr>\n",
       "      <th>7835</th>\n",
       "      <td>DB00157</td>\n",
       "      <td>BE0000299</td>\n",
       "      <td>2968968094 4140259565 3218693969 2070178920 32...</td>\n",
       "      <td>ATGGCGGCGGCGGCCAAGCCCAACAACCTTTCCCTGGTGGTGCACG...</td>\n",
       "    </tr>\n",
       "    <tr>\n",
       "      <th>7836</th>\n",
       "      <td>DB00157</td>\n",
       "      <td>BE0000360</td>\n",
       "      <td>2968968094 4140259565 3218693969 2070178920 32...</td>\n",
       "      <td>ATGGGCACCAAGGGCAAAGTTATTAAATGCAAAGCAGCCATCGCCT...</td>\n",
       "    </tr>\n",
       "    <tr>\n",
       "      <th>7837</th>\n",
       "      <td>DB00157</td>\n",
       "      <td>BE0000465</td>\n",
       "      <td>2968968094 4140259565 3218693969 2070178920 32...</td>\n",
       "      <td>ATGAGCACAGCAGGAAAAGTAATCAAATGCAAAGCAGCTGTGCTAT...</td>\n",
       "    </tr>\n",
       "    <tr>\n",
       "      <th>...</th>\n",
       "      <td>...</td>\n",
       "      <td>...</td>\n",
       "      <td>...</td>\n",
       "      <td>...</td>\n",
       "    </tr>\n",
       "    <tr>\n",
       "      <th>7972</th>\n",
       "      <td>DB00157</td>\n",
       "      <td>BE0000096</td>\n",
       "      <td>2968968094 4140259565 3218693969 2070178920 32...</td>\n",
       "      <td>ATGCCAAGATGGTATTTTCTTTTGGCAAGATGCTTTGGTTGTGCAG...</td>\n",
       "    </tr>\n",
       "    <tr>\n",
       "      <th>7973</th>\n",
       "      <td>DB00157</td>\n",
       "      <td>BE0000735</td>\n",
       "      <td>2968968094 4140259565 3218693969 2070178920 32...</td>\n",
       "      <td>ATGGAGCGTCCGCAACCCGACAGCATGCCCCAGGATTTGTCAGAGG...</td>\n",
       "    </tr>\n",
       "    <tr>\n",
       "      <th>7974</th>\n",
       "      <td>DB00157</td>\n",
       "      <td>BE0000587</td>\n",
       "      <td>2968968094 4140259565 3218693969 2070178920 32...</td>\n",
       "      <td>ATGTCAGCGGAAGTGGAAACCTCAGAGGGGGTAGACGAGTCAGAAA...</td>\n",
       "    </tr>\n",
       "    <tr>\n",
       "      <th>7975</th>\n",
       "      <td>DB00157</td>\n",
       "      <td>BE0000344</td>\n",
       "      <td>2968968094 4140259565 3218693969 2070178920 32...</td>\n",
       "      <td>ATGTGGGAGCTCGTGGCTCTCTTGCTGCTTACCCTAGCTTATTTGT...</td>\n",
       "    </tr>\n",
       "    <tr>\n",
       "      <th>7976</th>\n",
       "      <td>DB00157</td>\n",
       "      <td>BE0000252</td>\n",
       "      <td>2968968094 4140259565 3218693969 2070178920 32...</td>\n",
       "      <td>ATGCTCCTGGCTGTTTTGTACTGCCTGCTGTGGAGTTTCCAGACCT...</td>\n",
       "    </tr>\n",
       "  </tbody>\n",
       "</table>\n",
       "<p>144 rows × 4 columns</p>\n",
       "</div>"
      ],
      "text/plain": [
       "      drug_id    gene_id                              drug_fingerprint_code  \\\n",
       "7833  DB00157  BE0000645  2968968094 4140259565 3218693969 2070178920 32...   \n",
       "7834  DB00157  BE0000227  2968968094 4140259565 3218693969 2070178920 32...   \n",
       "7835  DB00157  BE0000299  2968968094 4140259565 3218693969 2070178920 32...   \n",
       "7836  DB00157  BE0000360  2968968094 4140259565 3218693969 2070178920 32...   \n",
       "7837  DB00157  BE0000465  2968968094 4140259565 3218693969 2070178920 32...   \n",
       "...       ...        ...                                                ...   \n",
       "7972  DB00157  BE0000096  2968968094 4140259565 3218693969 2070178920 32...   \n",
       "7973  DB00157  BE0000735  2968968094 4140259565 3218693969 2070178920 32...   \n",
       "7974  DB00157  BE0000587  2968968094 4140259565 3218693969 2070178920 32...   \n",
       "7975  DB00157  BE0000344  2968968094 4140259565 3218693969 2070178920 32...   \n",
       "7976  DB00157  BE0000252  2968968094 4140259565 3218693969 2070178920 32...   \n",
       "\n",
       "                                       target_gene_code  \n",
       "7833  ATGTTTGAAATTAAGAAGATCTGTTGCATCGGTGCAGGCTATGTTG...  \n",
       "7834  ATGAGCACAGCAGGAAAAGTAATCAAATGCAAAGCAGCTGTGCTAT...  \n",
       "7835  ATGGCGGCGGCGGCCAAGCCCAACAACCTTTCCCTGGTGGTGCACG...  \n",
       "7836  ATGGGCACCAAGGGCAAAGTTATTAAATGCAAAGCAGCCATCGCCT...  \n",
       "7837  ATGAGCACAGCAGGAAAAGTAATCAAATGCAAAGCAGCTGTGCTAT...  \n",
       "...                                                 ...  \n",
       "7972  ATGCCAAGATGGTATTTTCTTTTGGCAAGATGCTTTGGTTGTGCAG...  \n",
       "7973  ATGGAGCGTCCGCAACCCGACAGCATGCCCCAGGATTTGTCAGAGG...  \n",
       "7974  ATGTCAGCGGAAGTGGAAACCTCAGAGGGGGTAGACGAGTCAGAAA...  \n",
       "7975  ATGTGGGAGCTCGTGGCTCTCTTGCTGCTTACCCTAGCTTATTTGT...  \n",
       "7976  ATGCTCCTGGCTGTTTTGTACTGCCTGCTGTGGAGTTTCCAGACCT...  \n",
       "\n",
       "[144 rows x 4 columns]"
      ]
     },
     "execution_count": 61,
     "metadata": {},
     "output_type": "execute_result"
    }
   ],
   "source": [
    "drugbank[drugbank['drug_id'] == 'DB00157']"
   ]
  },
  {
   "cell_type": "markdown",
   "metadata": {},
   "source": [
    "### Get DrugID -> Fingerprint mapping from positive samples"
   ]
  },
  {
   "cell_type": "code",
   "execution_count": 62,
   "metadata": {},
   "outputs": [],
   "source": [
    "drug_map = drugbank[['drug_id', 'drug_fingerprint_code']].drop_duplicates('drug_id').set_index('drug_id')\n",
    "target_map = drugbank[['gene_id', 'target_gene_code']].drop_duplicates('gene_id').set_index('gene_id')"
   ]
  },
  {
   "cell_type": "code",
   "execution_count": 63,
   "metadata": {},
   "outputs": [],
   "source": [
    "negative_df = pd.read_csv('data/negative_samples_thrsh_12')[['node_0','node_1','shortest_path']] \n",
    "negative_df = negative_df.rename(columns = {'node_0': 'drug_id', 'node_1': 'gene_id'})\n",
    "negative_df = negative_df[negative_df['drug_id'].str.contains('DB') & negative_df['gene_id'].str.contains('BE')]"
   ]
  },
  {
   "cell_type": "code",
   "execution_count": 64,
   "metadata": {},
   "outputs": [],
   "source": [
    "negative_df = pd.merge(negative_df, drug_map, left_on = 'drug_id', right_index = True, how = 'left')\n",
    "negative_df = pd.merge(negative_df, target_map, left_on = 'gene_id', right_index = True, how = 'left')"
   ]
  },
  {
   "cell_type": "markdown",
   "metadata": {},
   "source": [
    "#### Note: Around 13% of negative samples don't match a drug id. Since the number is small, we ignore it for now"
   ]
  },
  {
   "cell_type": "code",
   "execution_count": 65,
   "metadata": {},
   "outputs": [],
   "source": [
    "negative_samples_gene = pd.DataFrame()\n",
    "\n",
    "negative_samples_gene['gene_id'] = negative_df['gene_id'] \n",
    "negative_samples_gene['target_gene_code'] = negative_df['target_gene_code'] \n",
    "\n",
    "#negative_samples_gene = negative_samples_gene.drop_duplicates(subset=['gene_id'], keep=False)\n",
    "\n",
    "negative_samples_gene.to_pickle('negative_samples_gene.pkl')"
   ]
  },
  {
   "cell_type": "code",
   "execution_count": 66,
   "metadata": {
    "scrolled": true
   },
   "outputs": [
    {
     "data": {
      "text/plain": [
       "411845"
      ]
     },
     "execution_count": 66,
     "metadata": {},
     "output_type": "execute_result"
    }
   ],
   "source": [
    "len(negative_samples_gene)"
   ]
  },
  {
   "cell_type": "code",
   "execution_count": 69,
   "metadata": {},
   "outputs": [
    {
     "ename": "TypeError",
     "evalue": "object of type 'float' has no len()",
     "output_type": "error",
     "traceback": [
      "\u001b[0;31m---------------------------------------------------------------------------\u001b[0m",
      "\u001b[0;31mTypeError\u001b[0m                                 Traceback (most recent call last)",
      "\u001b[0;32m<ipython-input-69-91b7c75b123f>\u001b[0m in \u001b[0;36m<module>\u001b[0;34m\u001b[0m\n\u001b[1;32m      3\u001b[0m \u001b[0;34m\u001b[0m\u001b[0m\n\u001b[1;32m      4\u001b[0m \u001b[0;32mfor\u001b[0m \u001b[0mgene_name\u001b[0m \u001b[0;32min\u001b[0m \u001b[0mgene_seq_list\u001b[0m\u001b[0;34m:\u001b[0m\u001b[0;34m\u001b[0m\u001b[0m\n\u001b[0;32m----> 5\u001b[0;31m     \u001b[0mgene_seq_len_list\u001b[0m\u001b[0;34m.\u001b[0m\u001b[0mappend\u001b[0m\u001b[0;34m(\u001b[0m\u001b[0mlen\u001b[0m\u001b[0;34m(\u001b[0m\u001b[0mgene_name\u001b[0m\u001b[0;34m)\u001b[0m\u001b[0;34m)\u001b[0m\u001b[0;34m\u001b[0m\u001b[0m\n\u001b[0m",
      "\u001b[0;31mTypeError\u001b[0m: object of type 'float' has no len()"
     ]
    }
   ],
   "source": [
    "gene_seq_list = negative_df['target_gene_code'].tolist()\n",
    "gene_seq_len_list = []\n",
    "\n",
    "for gene_name in gene_seq_list:\n",
    "    gene_seq_len_list.append(len(gene_name))"
   ]
  },
  {
   "cell_type": "code",
   "execution_count": 68,
   "metadata": {},
   "outputs": [
    {
     "name": "stderr",
     "output_type": "stream",
     "text": [
      "/miniconda/lib/python3.6/site-packages/matplotlib/axes/_base.py:3443: UserWarning: Attempting to set identical bottom==top results\n",
      "in singular transformations; automatically expanding.\n",
      "bottom=1.0, top=1.0\n",
      "  'bottom=%s, top=%s') % (bottom, top))\n"
     ]
    },
    {
     "data": {
      "text/plain": [
       "Text(0,0.5,'Number of Genes')"
      ]
     },
     "execution_count": 68,
     "metadata": {},
     "output_type": "execute_result"
    },
    {
     "data": {
      "image/png": "[encoded data removed]",
      "text/plain": [
       "<Figure size 432x288 with 1 Axes>"
      ]
     },
     "metadata": {
      "needs_background": "light"
     },
     "output_type": "display_data"
    }
   ],
   "source": [
    "plt.hist(gene_seq_len_list, bins = 100, log = True)\n",
    "plt.title('Negative Samples')\n",
    "plt.xlabel('Gene Sequence Length')\n",
    "plt.ylabel('Number of Genes')"
   ]
  },
  {
   "cell_type": "code",
   "execution_count": 70,
   "metadata": {},
   "outputs": [],
   "source": [
    "len(negative_df[(negative_df['target_gene_code'].isna()) |\n",
    "                (negative_df['drug_fingerprint_code'].isna())])/len(negative_df)\n",
    "\n",
    "negative_df = negative_df[(~ negative_df['target_gene_code'].isna()) &\n",
    "                (~ negative_df['drug_fingerprint_code'].isna())]"
   ]
  },
  {
   "cell_type": "code",
   "execution_count": 71,
   "metadata": {},
   "outputs": [],
   "source": [
    "negative_df['Y'] = 0\n",
    "drugbank['Y'] = 1\n",
    "drugbank = drugbank.append(negative_df.sample(int(len(drugbank)*1.5))) ## NUMBER OF NEGATIVE SAMPLES TO PICK\n",
    "drugbank = drugbank.drop('shortest_path', axis = 1)"
   ]
  },
  {
   "cell_type": "code",
   "execution_count": 72,
   "metadata": {},
   "outputs": [
    {
     "data": {
      "text/html": [
       "<div>\n",
       "<style scoped>\n",
       "    .dataframe tbody tr th:only-of-type {\n",
       "        vertical-align: middle;\n",
       "    }\n",
       "\n",
       "    .dataframe tbody tr th {\n",
       "        vertical-align: top;\n",
       "    }\n",
       "\n",
       "    .dataframe thead th {\n",
       "        text-align: right;\n",
       "    }\n",
       "</style>\n",
       "<table border=\"1\" class=\"dataframe\">\n",
       "  <thead>\n",
       "    <tr style=\"text-align: right;\">\n",
       "      <th></th>\n",
       "      <th>drug_id</th>\n",
       "      <th>gene_id</th>\n",
       "      <th>drug_fingerprint_code</th>\n",
       "      <th>target_gene_code</th>\n",
       "      <th>Y</th>\n",
       "    </tr>\n",
       "  </thead>\n",
       "  <tbody>\n",
       "  </tbody>\n",
       "</table>\n",
       "</div>"
      ],
      "text/plain": [
       "Empty DataFrame\n",
       "Columns: [drug_id, gene_id, drug_fingerprint_code, target_gene_code, Y]\n",
       "Index: []"
      ]
     },
     "execution_count": 72,
     "metadata": {},
     "output_type": "execute_result"
    }
   ],
   "source": [
    "drugbank[drugbank['target_gene_code'].str.contains('S').isna()]"
   ]
  },
  {
   "cell_type": "code",
   "execution_count": 73,
   "metadata": {},
   "outputs": [],
   "source": [
    "drugbank = drugbank[~ drugbank['drug_fingerprint_code'].str.contains('n')]"
   ]
  },
  {
   "cell_type": "markdown",
   "metadata": {},
   "source": [
    "#### The dataset is clean and balanced"
   ]
  },
  {
   "cell_type": "code",
   "execution_count": 74,
   "metadata": {
    "scrolled": true
   },
   "outputs": [
    {
     "data": {
      "text/plain": [
       "0    0.599977\n",
       "1    0.400023\n",
       "Name: Y, dtype: float64"
      ]
     },
     "execution_count": 74,
     "metadata": {},
     "output_type": "execute_result"
    }
   ],
   "source": [
    "drugbank['Y'].value_counts()/len(drugbank)"
   ]
  },
  {
   "cell_type": "code",
   "execution_count": 75,
   "metadata": {},
   "outputs": [
    {
     "data": {
      "text/plain": [
       "<matplotlib.axes._subplots.AxesSubplot at 0x7fb189c4d438>"
      ]
     },
     "execution_count": 75,
     "metadata": {},
     "output_type": "execute_result"
    },
    {
     "data": {
      "image/png": "[encoded data removed]",
      "text/plain": [
       "<Figure size 432x288 with 1 Axes>"
      ]
     },
     "metadata": {
      "needs_background": "light"
     },
     "output_type": "display_data"
    }
   ],
   "source": [
    "drugbank['Y'].hist()"
   ]
  },
  {
   "cell_type": "markdown",
   "metadata": {},
   "source": [
    "#### Preprocessing fingerprints to feed to CNN"
   ]
  },
  {
   "cell_type": "code",
   "execution_count": 76,
   "metadata": {},
   "outputs": [
    {
     "data": {
      "application/vnd.jupyter.widget-view+json": {
       "model_id": "f7d85d25dadd483a8a190d63bf52c724",
       "version_major": 2,
       "version_minor": 0
      },
      "text/plain": [
       "HBox(children=(FloatProgress(value=0.0, max=35183.0), HTML(value='')))"
      ]
     },
     "metadata": {},
     "output_type": "display_data"
    },
    {
     "name": "stdout",
     "output_type": "stream",
     "text": [
      "\n"
     ]
    },
    {
     "data": {
      "application/vnd.jupyter.widget-view+json": {
       "model_id": "073158d284754a01a0e938136a7e9d4d",
       "version_major": 2,
       "version_minor": 0
      },
      "text/plain": [
       "HBox(children=(FloatProgress(value=0.0, max=35183.0), HTML(value='')))"
      ]
     },
     "metadata": {},
     "output_type": "display_data"
    },
    {
     "name": "stdout",
     "output_type": "stream",
     "text": [
      "\n"
     ]
    }
   ],
   "source": [
    "label_encoder = LabelEncoder()\n",
    "label_encoder = pd.read_pickle('data/gene_encoder.pkl')\n",
    "#label_encoder.fit(list(drugbank['target_gene_code'].iloc[0]))\n",
    "\n",
    "#with open('data/gene_encoder.pkl', 'wb') as f:\n",
    "#    pkl.dump(label_encoder, f)\n",
    "    \n",
    "gene_chars = set(list(drugbank['target_gene_code'].iloc[0]))\n",
    "\n",
    "drugbank['target_gene_encoded'] = drugbank['target_gene_code'].progress_apply(\\\n",
    "                                   lambda x: label_encoder.transform([i for i in list(x) if i in gene_chars]))\n",
    "drugbank['drug_fingerprint_encoded'] = drugbank['drug_fingerprint_code'].progress_apply(lambda x: [int(i) for i in x.replace(' ', '')])"
   ]
  },
  {
   "cell_type": "markdown",
   "metadata": {},
   "source": [
    "#### Calculate length mismatches and pad"
   ]
  },
  {
   "cell_type": "code",
   "execution_count": 77,
   "metadata": {},
   "outputs": [],
   "source": [
    "drugbank['target_gene_encoded_len'] = drugbank['target_gene_encoded']\\\n",
    "                                    .apply(lambda x: len(x))\n",
    "drugbank['drug_fingerprint_encoded_len'] = drugbank['drug_fingerprint_encoded']\\\n",
    "                                    .apply(lambda x: len(x))"
   ]
  },
  {
   "cell_type": "code",
   "execution_count": 78,
   "metadata": {},
   "outputs": [],
   "source": [
    "drugbank['mismatch'] = drugbank[['target_gene_encoded', 'drug_fingerprint_encoded']]\\\n",
    "                        .apply(lambda x: len(x['target_gene_encoded']) - len(x['drug_fingerprint_encoded']), axis = 1)"
   ]
  },
  {
   "cell_type": "markdown",
   "metadata": {},
   "source": [
    "## Most Genes are longer than fingerprints"
   ]
  },
  {
   "cell_type": "code",
   "execution_count": 79,
   "metadata": {},
   "outputs": [
    {
     "data": {
      "text/plain": [
       "<matplotlib.axes._subplots.AxesSubplot at 0x7fb250373ba8>"
      ]
     },
     "execution_count": 79,
     "metadata": {},
     "output_type": "execute_result"
    },
    {
     "data": {
      "image/png": "[encoded data removed]",
      "text/plain": [
       "<Figure size 720x360 with 1 Axes>"
      ]
     },
     "metadata": {
      "needs_background": "light"
     },
     "output_type": "display_data"
    }
   ],
   "source": [
    "drugbank['mismatch'].hist(bins = 100, figsize = (10, 5))"
   ]
  },
  {
   "cell_type": "code",
   "execution_count": 80,
   "metadata": {},
   "outputs": [
    {
     "name": "stdout",
     "output_type": "stream",
     "text": [
      "95 percent of the mismatches are of the range 27.609643 to 42.390357\n"
     ]
    }
   ],
   "source": [
    "print('95 percent of the mismatches are of the range %f to %f' % (max(drugbank['mismatch'].value_counts()) - np.std(drugbank['mismatch'].value_counts()),\n",
    "                                                           max(drugbank['mismatch'].value_counts()) + np.std(drugbank['mismatch'].value_counts())))"
   ]
  },
  {
   "cell_type": "code",
   "execution_count": 81,
   "metadata": {},
   "outputs": [],
   "source": [
    "max_target_gene_encoded_len = max(drugbank['target_gene_encoded_len'])\n",
    "max_drug_fingerprint_encoded_len = max(drugbank['drug_fingerprint_encoded_len'])"
   ]
  },
  {
   "cell_type": "code",
   "execution_count": 82,
   "metadata": {},
   "outputs": [],
   "source": [
    "drugbank['target_gene_encoded_mismatch'] = max_target_gene_encoded_len - drugbank['target_gene_encoded_len']"
   ]
  },
  {
   "cell_type": "code",
   "execution_count": 83,
   "metadata": {},
   "outputs": [],
   "source": [
    "drugbank['drug_fingerprint_encoded_mismatch'] = max_drug_fingerprint_encoded_len - drugbank['drug_fingerprint_encoded_len'] "
   ]
  },
  {
   "cell_type": "code",
   "execution_count": 84,
   "metadata": {
    "scrolled": true
   },
   "outputs": [
    {
     "data": {
      "text/plain": [
       "<matplotlib.axes._subplots.AxesSubplot at 0x7fb2506e8da0>"
      ]
     },
     "execution_count": 84,
     "metadata": {},
     "output_type": "execute_result"
    },
    {
     "data": {
      "image/png": "[encoded data removed]",
      "text/plain": [
       "<Figure size 720x360 with 1 Axes>"
      ]
     },
     "metadata": {
      "needs_background": "light"
     },
     "output_type": "display_data"
    }
   ],
   "source": [
    "drugbank['drug_fingerprint_encoded_mismatch'].hist(bins = 100, figsize = (10, 5), log = True)"
   ]
  },
  {
   "cell_type": "code",
   "execution_count": 85,
   "metadata": {},
   "outputs": [
    {
     "data": {
      "text/plain": [
       "<matplotlib.axes._subplots.AxesSubplot at 0x7fb2506cac50>"
      ]
     },
     "execution_count": 85,
     "metadata": {},
     "output_type": "execute_result"
    },
    {
     "data": {
      "image/png": "[encoded data removed]",
      "text/plain": [
       "<Figure size 720x360 with 1 Axes>"
      ]
     },
     "metadata": {
      "needs_background": "light"
     },
     "output_type": "display_data"
    }
   ],
   "source": [
    "drugbank['target_gene_encoded_mismatch'].hist(bins = 100, figsize = (10, 5), log = True)"
   ]
  },
  {
   "cell_type": "markdown",
   "metadata": {},
   "source": [
    "#### There appears to be quite large intracolumn mismatches in length. Unsure how to deal with it now. Current strategy is to pad the inputs and model it"
   ]
  },
  {
   "cell_type": "code",
   "execution_count": 86,
   "metadata": {},
   "outputs": [
    {
     "data": {
      "application/vnd.jupyter.widget-view+json": {
       "model_id": "186f882f63454aaca2ca70e882bcdfaf",
       "version_major": 2,
       "version_minor": 0
      },
      "text/plain": [
       "HBox(children=(FloatProgress(value=0.0, max=35183.0), HTML(value='')))"
      ]
     },
     "metadata": {},
     "output_type": "display_data"
    },
    {
     "name": "stdout",
     "output_type": "stream",
     "text": [
      "\n"
     ]
    }
   ],
   "source": [
    "drugbank['target_gene_encoded_padded'] = drugbank[['target_gene_encoded','target_gene_encoded_mismatch']]\\\n",
    "                                         .progress_apply(lambda x: ['-1' for i in range(int(x['target_gene_encoded_mismatch']/2))] +   \n",
    "                                                        list(x['target_gene_encoded']) +\n",
    "                                                        ['-1' for i in range (int(x['target_gene_encoded_mismatch']/2))]\n",
    "                                                        , axis = 1)\n",
    "drugbank['target_gene_encoded_padded'] = drugbank['target_gene_encoded_padded'].apply(lambda x: x + ['-1'] if len(x) < max_target_gene_encoded_len else x)"
   ]
  },
  {
   "cell_type": "code",
   "execution_count": 87,
   "metadata": {},
   "outputs": [
    {
     "data": {
      "application/vnd.jupyter.widget-view+json": {
       "model_id": "09be2f15cab744a599c5b2c299e5f5e6",
       "version_major": 2,
       "version_minor": 0
      },
      "text/plain": [
       "HBox(children=(FloatProgress(value=0.0, max=35183.0), HTML(value='')))"
      ]
     },
     "metadata": {},
     "output_type": "display_data"
    },
    {
     "name": "stdout",
     "output_type": "stream",
     "text": [
      "\n"
     ]
    }
   ],
   "source": [
    "drugbank['drug_fingerprint_encoded_padded'] = drugbank[['drug_fingerprint_encoded','drug_fingerprint_encoded_mismatch']]\\\n",
    "                                         .progress_apply(lambda x: ['-1' for i in range(int(x['drug_fingerprint_encoded_mismatch']/2))] +   \n",
    "                                                        list(x['drug_fingerprint_encoded']) +\n",
    "                                                        ['-1' for i in range (int(x['drug_fingerprint_encoded_mismatch']/2))]\n",
    "                                                        , axis = 1)\n",
    "\n",
    "drugbank['drug_fingerprint_encoded_padded'] = drugbank['drug_fingerprint_encoded_padded'].apply(lambda x: x + ['-1'] if len(x) < max_drug_fingerprint_encoded_len else x)"
   ]
  },
  {
   "cell_type": "code",
   "execution_count": 88,
   "metadata": {
    "scrolled": true
   },
   "outputs": [
    {
     "data": {
      "text/html": [
       "<div>\n",
       "<style scoped>\n",
       "    .dataframe tbody tr th:only-of-type {\n",
       "        vertical-align: middle;\n",
       "    }\n",
       "\n",
       "    .dataframe tbody tr th {\n",
       "        vertical-align: top;\n",
       "    }\n",
       "\n",
       "    .dataframe thead th {\n",
       "        text-align: right;\n",
       "    }\n",
       "</style>\n",
       "<table border=\"1\" class=\"dataframe\">\n",
       "  <thead>\n",
       "    <tr style=\"text-align: right;\">\n",
       "      <th></th>\n",
       "      <th>drug_id</th>\n",
       "      <th>gene_id</th>\n",
       "      <th>drug_fingerprint_code</th>\n",
       "      <th>target_gene_code</th>\n",
       "      <th>Y</th>\n",
       "      <th>target_gene_encoded</th>\n",
       "      <th>drug_fingerprint_encoded</th>\n",
       "      <th>target_gene_encoded_len</th>\n",
       "      <th>drug_fingerprint_encoded_len</th>\n",
       "      <th>mismatch</th>\n",
       "      <th>target_gene_encoded_mismatch</th>\n",
       "      <th>drug_fingerprint_encoded_mismatch</th>\n",
       "      <th>target_gene_encoded_padded</th>\n",
       "      <th>drug_fingerprint_encoded_padded</th>\n",
       "    </tr>\n",
       "  </thead>\n",
       "  <tbody>\n",
       "    <tr>\n",
       "      <th>0</th>\n",
       "      <td>DB03313</td>\n",
       "      <td>BE0001349</td>\n",
       "      <td>2246728737 3545365497 2246699815 2664995851 86...</td>\n",
       "      <td>ATGGTCTCAGGAACGGTGGGCAGAGGTACGGCGCTGGGCGCGGTGC...</td>\n",
       "      <td>1</td>\n",
       "      <td>[0, 3, 2, 2, 3, 1, 3, 1, 0, 2, 2, 0, 0, 1, 2, ...</td>\n",
       "      <td>[2, 2, 4, 6, 7, 2, 8, 7, 3, 7, 3, 5, 4, 5, 3, ...</td>\n",
       "      <td>1221</td>\n",
       "      <td>547</td>\n",
       "      <td>674</td>\n",
       "      <td>20001</td>\n",
       "      <td>8954</td>\n",
       "      <td>[-1, -1, -1, -1, -1, -1, -1, -1, -1, -1, -1, -...</td>\n",
       "      <td>[-1, -1, -1, -1, -1, -1, -1, -1, -1, -1, -1, -...</td>\n",
       "    </tr>\n",
       "    <tr>\n",
       "      <th>1</th>\n",
       "      <td>DB03313</td>\n",
       "      <td>BE0004335</td>\n",
       "      <td>2246728737 3545365497 2246699815 2664995851 86...</td>\n",
       "      <td>ATGCAAAATCAATTAAATGAATTAAAACGAAAAATGCTGGAATTTT...</td>\n",
       "      <td>1</td>\n",
       "      <td>[0, 3, 2, 1, 0, 0, 0, 0, 3, 1, 0, 0, 3, 3, 0, ...</td>\n",
       "      <td>[2, 2, 4, 6, 7, 2, 8, 7, 3, 7, 3, 5, 4, 5, 3, ...</td>\n",
       "      <td>2466</td>\n",
       "      <td>547</td>\n",
       "      <td>1919</td>\n",
       "      <td>18756</td>\n",
       "      <td>8954</td>\n",
       "      <td>[-1, -1, -1, -1, -1, -1, -1, -1, -1, -1, -1, -...</td>\n",
       "      <td>[-1, -1, -1, -1, -1, -1, -1, -1, -1, -1, -1, -...</td>\n",
       "    </tr>\n",
       "    <tr>\n",
       "      <th>2</th>\n",
       "      <td>DB03313</td>\n",
       "      <td>BE0004290</td>\n",
       "      <td>2246728737 3545365497 2246699815 2664995851 86...</td>\n",
       "      <td>ATGAACAAACCAACGATTCTGCGCCTAATCAAGTATCTGAGCATTA...</td>\n",
       "      <td>1</td>\n",
       "      <td>[0, 3, 2, 0, 0, 1, 0, 0, 0, 1, 1, 0, 0, 1, 2, ...</td>\n",
       "      <td>[2, 2, 4, 6, 7, 2, 8, 7, 3, 7, 3, 5, 4, 5, 3, ...</td>\n",
       "      <td>2160</td>\n",
       "      <td>547</td>\n",
       "      <td>1613</td>\n",
       "      <td>19062</td>\n",
       "      <td>8954</td>\n",
       "      <td>[-1, -1, -1, -1, -1, -1, -1, -1, -1, -1, -1, -...</td>\n",
       "      <td>[-1, -1, -1, -1, -1, -1, -1, -1, -1, -1, -1, -...</td>\n",
       "    </tr>\n",
       "    <tr>\n",
       "      <th>3</th>\n",
       "      <td>DB03313</td>\n",
       "      <td>BE0003624</td>\n",
       "      <td>2246728737 3545365497 2246699815 2664995851 86...</td>\n",
       "      <td>ATGAGACTGATTTGTATGAGAAAATTTAACAGCCATTCGATTCCGA...</td>\n",
       "      <td>1</td>\n",
       "      <td>[0, 3, 2, 0, 2, 0, 1, 3, 2, 0, 3, 3, 3, 2, 3, ...</td>\n",
       "      <td>[2, 2, 4, 6, 7, 2, 8, 7, 3, 7, 3, 5, 4, 5, 3, ...</td>\n",
       "      <td>2058</td>\n",
       "      <td>547</td>\n",
       "      <td>1511</td>\n",
       "      <td>19164</td>\n",
       "      <td>8954</td>\n",
       "      <td>[-1, -1, -1, -1, -1, -1, -1, -1, -1, -1, -1, -...</td>\n",
       "      <td>[-1, -1, -1, -1, -1, -1, -1, -1, -1, -1, -1, -...</td>\n",
       "    </tr>\n",
       "    <tr>\n",
       "      <th>4</th>\n",
       "      <td>DB03313</td>\n",
       "      <td>BE0004644</td>\n",
       "      <td>2246728737 3545365497 2246699815 2664995851 86...</td>\n",
       "      <td>ATGAAATTAGATAAATTATTTGAGAAATTTCTTTCTCTTTTTAAAA...</td>\n",
       "      <td>1</td>\n",
       "      <td>[0, 3, 2, 0, 0, 0, 3, 3, 0, 2, 0, 3, 0, 0, 0, ...</td>\n",
       "      <td>[2, 2, 4, 6, 7, 2, 8, 7, 3, 7, 3, 5, 4, 5, 3, ...</td>\n",
       "      <td>2196</td>\n",
       "      <td>547</td>\n",
       "      <td>1649</td>\n",
       "      <td>19026</td>\n",
       "      <td>8954</td>\n",
       "      <td>[-1, -1, -1, -1, -1, -1, -1, -1, -1, -1, -1, -...</td>\n",
       "      <td>[-1, -1, -1, -1, -1, -1, -1, -1, -1, -1, -1, -...</td>\n",
       "    </tr>\n",
       "    <tr>\n",
       "      <th>...</th>\n",
       "      <td>...</td>\n",
       "      <td>...</td>\n",
       "      <td>...</td>\n",
       "      <td>...</td>\n",
       "      <td>...</td>\n",
       "      <td>...</td>\n",
       "      <td>...</td>\n",
       "      <td>...</td>\n",
       "      <td>...</td>\n",
       "      <td>...</td>\n",
       "      <td>...</td>\n",
       "      <td>...</td>\n",
       "      <td>...</td>\n",
       "      <td>...</td>\n",
       "    </tr>\n",
       "    <tr>\n",
       "      <th>1517987</th>\n",
       "      <td>DB07700</td>\n",
       "      <td>BE0004651</td>\n",
       "      <td>2246728737 1861965050 2976816164 2677752761 29...</td>\n",
       "      <td>ATGGGTCAGAAAGTACATCCTAATGGTATTCGCCTGGGTATTGTAA...</td>\n",
       "      <td>0</td>\n",
       "      <td>[0, 3, 2, 2, 2, 3, 1, 0, 2, 0, 0, 0, 2, 3, 0, ...</td>\n",
       "      <td>[2, 2, 4, 6, 7, 2, 8, 7, 3, 7, 1, 8, 6, 1, 9, ...</td>\n",
       "      <td>702</td>\n",
       "      <td>571</td>\n",
       "      <td>131</td>\n",
       "      <td>20520</td>\n",
       "      <td>8930</td>\n",
       "      <td>[-1, -1, -1, -1, -1, -1, -1, -1, -1, -1, -1, -...</td>\n",
       "      <td>[-1, -1, -1, -1, -1, -1, -1, -1, -1, -1, -1, -...</td>\n",
       "    </tr>\n",
       "    <tr>\n",
       "      <th>237808</th>\n",
       "      <td>DB03031</td>\n",
       "      <td>BE0001004</td>\n",
       "      <td>2246728737 3818546315 848128881 1914416804 224...</td>\n",
       "      <td>ATGGACCAAAATCAACATTTGAATAAAACAGCAGAGGCACAACCTT...</td>\n",
       "      <td>0</td>\n",
       "      <td>[0, 3, 2, 2, 0, 1, 1, 0, 0, 0, 0, 3, 1, 0, 0, ...</td>\n",
       "      <td>[2, 2, 4, 6, 7, 2, 8, 7, 3, 7, 3, 8, 1, 8, 5, ...</td>\n",
       "      <td>2076</td>\n",
       "      <td>735</td>\n",
       "      <td>1341</td>\n",
       "      <td>19146</td>\n",
       "      <td>8766</td>\n",
       "      <td>[-1, -1, -1, -1, -1, -1, -1, -1, -1, -1, -1, -...</td>\n",
       "      <td>[-1, -1, -1, -1, -1, -1, -1, -1, -1, -1, -1, -...</td>\n",
       "    </tr>\n",
       "    <tr>\n",
       "      <th>142511</th>\n",
       "      <td>DB02134</td>\n",
       "      <td>BE0003687</td>\n",
       "      <td>3218693969 584893129 2041434490 1100037548 321...</td>\n",
       "      <td>ATGACGCGTCCCCGATCCCCCCGTTCCCGTAACAGCAAAGCACGCC...</td>\n",
       "      <td>0</td>\n",
       "      <td>[0, 3, 2, 0, 1, 2, 1, 2, 3, 1, 1, 1, 1, 2, 0, ...</td>\n",
       "      <td>[3, 2, 1, 8, 6, 9, 3, 9, 6, 9, 5, 8, 4, 8, 9, ...</td>\n",
       "      <td>2325</td>\n",
       "      <td>212</td>\n",
       "      <td>2113</td>\n",
       "      <td>18897</td>\n",
       "      <td>9289</td>\n",
       "      <td>[-1, -1, -1, -1, -1, -1, -1, -1, -1, -1, -1, -...</td>\n",
       "      <td>[-1, -1, -1, -1, -1, -1, -1, -1, -1, -1, -1, -...</td>\n",
       "    </tr>\n",
       "    <tr>\n",
       "      <th>1704541</th>\n",
       "      <td>DB04241</td>\n",
       "      <td>BE0004651</td>\n",
       "      <td>2246728737 422715066 3217380708 4033380444 204...</td>\n",
       "      <td>ATGGGTCAGAAAGTACATCCTAATGGTATTCGCCTGGGTATTGTAA...</td>\n",
       "      <td>0</td>\n",
       "      <td>[0, 3, 2, 2, 2, 3, 1, 0, 2, 0, 0, 0, 2, 3, 0, ...</td>\n",
       "      <td>[2, 2, 4, 6, 7, 2, 8, 7, 3, 7, 4, 2, 2, 7, 1, ...</td>\n",
       "      <td>702</td>\n",
       "      <td>427</td>\n",
       "      <td>275</td>\n",
       "      <td>20520</td>\n",
       "      <td>9074</td>\n",
       "      <td>[-1, -1, -1, -1, -1, -1, -1, -1, -1, -1, -1, -...</td>\n",
       "      <td>[-1, -1, -1, -1, -1, -1, -1, -1, -1, -1, -1, -...</td>\n",
       "    </tr>\n",
       "    <tr>\n",
       "      <th>325117</th>\n",
       "      <td>DB06973</td>\n",
       "      <td>BE0004634</td>\n",
       "      <td>2246728737 3537123720 2245277810 1459140616 22...</td>\n",
       "      <td>ATGGCTACTTCAAAGTTGCCCGTGGTGCCTGGGGAGGAGGAAAACA...</td>\n",
       "      <td>0</td>\n",
       "      <td>[0, 3, 2, 2, 1, 3, 0, 1, 3, 3, 1, 0, 0, 0, 2, ...</td>\n",
       "      <td>[2, 2, 4, 6, 7, 2, 8, 7, 3, 7, 3, 5, 3, 7, 1, ...</td>\n",
       "      <td>1392</td>\n",
       "      <td>326</td>\n",
       "      <td>1066</td>\n",
       "      <td>19830</td>\n",
       "      <td>9175</td>\n",
       "      <td>[-1, -1, -1, -1, -1, -1, -1, -1, -1, -1, -1, -...</td>\n",
       "      <td>[-1, -1, -1, -1, -1, -1, -1, -1, -1, -1, -1, -...</td>\n",
       "    </tr>\n",
       "  </tbody>\n",
       "</table>\n",
       "<p>35183 rows × 14 columns</p>\n",
       "</div>"
      ],
      "text/plain": [
       "         drug_id    gene_id  \\\n",
       "0        DB03313  BE0001349   \n",
       "1        DB03313  BE0004335   \n",
       "2        DB03313  BE0004290   \n",
       "3        DB03313  BE0003624   \n",
       "4        DB03313  BE0004644   \n",
       "...          ...        ...   \n",
       "1517987  DB07700  BE0004651   \n",
       "237808   DB03031  BE0001004   \n",
       "142511   DB02134  BE0003687   \n",
       "1704541  DB04241  BE0004651   \n",
       "325117   DB06973  BE0004634   \n",
       "\n",
       "                                     drug_fingerprint_code  \\\n",
       "0        2246728737 3545365497 2246699815 2664995851 86...   \n",
       "1        2246728737 3545365497 2246699815 2664995851 86...   \n",
       "2        2246728737 3545365497 2246699815 2664995851 86...   \n",
       "3        2246728737 3545365497 2246699815 2664995851 86...   \n",
       "4        2246728737 3545365497 2246699815 2664995851 86...   \n",
       "...                                                    ...   \n",
       "1517987  2246728737 1861965050 2976816164 2677752761 29...   \n",
       "237808   2246728737 3818546315 848128881 1914416804 224...   \n",
       "142511   3218693969 584893129 2041434490 1100037548 321...   \n",
       "1704541  2246728737 422715066 3217380708 4033380444 204...   \n",
       "325117   2246728737 3537123720 2245277810 1459140616 22...   \n",
       "\n",
       "                                          target_gene_code  Y  \\\n",
       "0        ATGGTCTCAGGAACGGTGGGCAGAGGTACGGCGCTGGGCGCGGTGC...  1   \n",
       "1        ATGCAAAATCAATTAAATGAATTAAAACGAAAAATGCTGGAATTTT...  1   \n",
       "2        ATGAACAAACCAACGATTCTGCGCCTAATCAAGTATCTGAGCATTA...  1   \n",
       "3        ATGAGACTGATTTGTATGAGAAAATTTAACAGCCATTCGATTCCGA...  1   \n",
       "4        ATGAAATTAGATAAATTATTTGAGAAATTTCTTTCTCTTTTTAAAA...  1   \n",
       "...                                                    ... ..   \n",
       "1517987  ATGGGTCAGAAAGTACATCCTAATGGTATTCGCCTGGGTATTGTAA...  0   \n",
       "237808   ATGGACCAAAATCAACATTTGAATAAAACAGCAGAGGCACAACCTT...  0   \n",
       "142511   ATGACGCGTCCCCGATCCCCCCGTTCCCGTAACAGCAAAGCACGCC...  0   \n",
       "1704541  ATGGGTCAGAAAGTACATCCTAATGGTATTCGCCTGGGTATTGTAA...  0   \n",
       "325117   ATGGCTACTTCAAAGTTGCCCGTGGTGCCTGGGGAGGAGGAAAACA...  0   \n",
       "\n",
       "                                       target_gene_encoded  \\\n",
       "0        [0, 3, 2, 2, 3, 1, 3, 1, 0, 2, 2, 0, 0, 1, 2, ...   \n",
       "1        [0, 3, 2, 1, 0, 0, 0, 0, 3, 1, 0, 0, 3, 3, 0, ...   \n",
       "2        [0, 3, 2, 0, 0, 1, 0, 0, 0, 1, 1, 0, 0, 1, 2, ...   \n",
       "3        [0, 3, 2, 0, 2, 0, 1, 3, 2, 0, 3, 3, 3, 2, 3, ...   \n",
       "4        [0, 3, 2, 0, 0, 0, 3, 3, 0, 2, 0, 3, 0, 0, 0, ...   \n",
       "...                                                    ...   \n",
       "1517987  [0, 3, 2, 2, 2, 3, 1, 0, 2, 0, 0, 0, 2, 3, 0, ...   \n",
       "237808   [0, 3, 2, 2, 0, 1, 1, 0, 0, 0, 0, 3, 1, 0, 0, ...   \n",
       "142511   [0, 3, 2, 0, 1, 2, 1, 2, 3, 1, 1, 1, 1, 2, 0, ...   \n",
       "1704541  [0, 3, 2, 2, 2, 3, 1, 0, 2, 0, 0, 0, 2, 3, 0, ...   \n",
       "325117   [0, 3, 2, 2, 1, 3, 0, 1, 3, 3, 1, 0, 0, 0, 2, ...   \n",
       "\n",
       "                                  drug_fingerprint_encoded  \\\n",
       "0        [2, 2, 4, 6, 7, 2, 8, 7, 3, 7, 3, 5, 4, 5, 3, ...   \n",
       "1        [2, 2, 4, 6, 7, 2, 8, 7, 3, 7, 3, 5, 4, 5, 3, ...   \n",
       "2        [2, 2, 4, 6, 7, 2, 8, 7, 3, 7, 3, 5, 4, 5, 3, ...   \n",
       "3        [2, 2, 4, 6, 7, 2, 8, 7, 3, 7, 3, 5, 4, 5, 3, ...   \n",
       "4        [2, 2, 4, 6, 7, 2, 8, 7, 3, 7, 3, 5, 4, 5, 3, ...   \n",
       "...                                                    ...   \n",
       "1517987  [2, 2, 4, 6, 7, 2, 8, 7, 3, 7, 1, 8, 6, 1, 9, ...   \n",
       "237808   [2, 2, 4, 6, 7, 2, 8, 7, 3, 7, 3, 8, 1, 8, 5, ...   \n",
       "142511   [3, 2, 1, 8, 6, 9, 3, 9, 6, 9, 5, 8, 4, 8, 9, ...   \n",
       "1704541  [2, 2, 4, 6, 7, 2, 8, 7, 3, 7, 4, 2, 2, 7, 1, ...   \n",
       "325117   [2, 2, 4, 6, 7, 2, 8, 7, 3, 7, 3, 5, 3, 7, 1, ...   \n",
       "\n",
       "         target_gene_encoded_len  drug_fingerprint_encoded_len  mismatch  \\\n",
       "0                           1221                           547       674   \n",
       "1                           2466                           547      1919   \n",
       "2                           2160                           547      1613   \n",
       "3                           2058                           547      1511   \n",
       "4                           2196                           547      1649   \n",
       "...                          ...                           ...       ...   \n",
       "1517987                      702                           571       131   \n",
       "237808                      2076                           735      1341   \n",
       "142511                      2325                           212      2113   \n",
       "1704541                      702                           427       275   \n",
       "325117                      1392                           326      1066   \n",
       "\n",
       "         target_gene_encoded_mismatch  drug_fingerprint_encoded_mismatch  \\\n",
       "0                               20001                               8954   \n",
       "1                               18756                               8954   \n",
       "2                               19062                               8954   \n",
       "3                               19164                               8954   \n",
       "4                               19026                               8954   \n",
       "...                               ...                                ...   \n",
       "1517987                         20520                               8930   \n",
       "237808                          19146                               8766   \n",
       "142511                          18897                               9289   \n",
       "1704541                         20520                               9074   \n",
       "325117                          19830                               9175   \n",
       "\n",
       "                                target_gene_encoded_padded  \\\n",
       "0        [-1, -1, -1, -1, -1, -1, -1, -1, -1, -1, -1, -...   \n",
       "1        [-1, -1, -1, -1, -1, -1, -1, -1, -1, -1, -1, -...   \n",
       "2        [-1, -1, -1, -1, -1, -1, -1, -1, -1, -1, -1, -...   \n",
       "3        [-1, -1, -1, -1, -1, -1, -1, -1, -1, -1, -1, -...   \n",
       "4        [-1, -1, -1, -1, -1, -1, -1, -1, -1, -1, -1, -...   \n",
       "...                                                    ...   \n",
       "1517987  [-1, -1, -1, -1, -1, -1, -1, -1, -1, -1, -1, -...   \n",
       "237808   [-1, -1, -1, -1, -1, -1, -1, -1, -1, -1, -1, -...   \n",
       "142511   [-1, -1, -1, -1, -1, -1, -1, -1, -1, -1, -1, -...   \n",
       "1704541  [-1, -1, -1, -1, -1, -1, -1, -1, -1, -1, -1, -...   \n",
       "325117   [-1, -1, -1, -1, -1, -1, -1, -1, -1, -1, -1, -...   \n",
       "\n",
       "                           drug_fingerprint_encoded_padded  \n",
       "0        [-1, -1, -1, -1, -1, -1, -1, -1, -1, -1, -1, -...  \n",
       "1        [-1, -1, -1, -1, -1, -1, -1, -1, -1, -1, -1, -...  \n",
       "2        [-1, -1, -1, -1, -1, -1, -1, -1, -1, -1, -1, -...  \n",
       "3        [-1, -1, -1, -1, -1, -1, -1, -1, -1, -1, -1, -...  \n",
       "4        [-1, -1, -1, -1, -1, -1, -1, -1, -1, -1, -1, -...  \n",
       "...                                                    ...  \n",
       "1517987  [-1, -1, -1, -1, -1, -1, -1, -1, -1, -1, -1, -...  \n",
       "237808   [-1, -1, -1, -1, -1, -1, -1, -1, -1, -1, -1, -...  \n",
       "142511   [-1, -1, -1, -1, -1, -1, -1, -1, -1, -1, -1, -...  \n",
       "1704541  [-1, -1, -1, -1, -1, -1, -1, -1, -1, -1, -1, -...  \n",
       "325117   [-1, -1, -1, -1, -1, -1, -1, -1, -1, -1, -1, -...  \n",
       "\n",
       "[35183 rows x 14 columns]"
      ]
     },
     "execution_count": 88,
     "metadata": {},
     "output_type": "execute_result"
    }
   ],
   "source": [
    "drugbank"
   ]
  },
  {
   "cell_type": "markdown",
   "metadata": {},
   "source": [
    "## Building a CNN"
   ]
  },
  {
   "cell_type": "code",
   "execution_count": null,
   "metadata": {},
   "outputs": [],
   "source": []
  },
  {
   "cell_type": "code",
   "execution_count": null,
   "metadata": {},
   "outputs": [],
   "source": []
  },
  {
   "cell_type": "code",
   "execution_count": null,
   "metadata": {},
   "outputs": [],
   "source": []
  },
  {
   "cell_type": "code",
   "execution_count": null,
   "metadata": {},
   "outputs": [],
   "source": []
  },
  {
   "cell_type": "code",
   "execution_count": null,
   "metadata": {},
   "outputs": [],
   "source": []
  },
  {
   "cell_type": "code",
   "execution_count": 50,
   "metadata": {},
   "outputs": [],
   "source": [
    "drugbank = pd.read_csv('data/intermediate/interactions_preprocessed.csv', chunksize = 7500, iterator = True, converters={\"target_gene_encoded_padded\": \\\n",
    "                                                                                     lambda x: np.array(x.strip(\"[]\").replace(\"'\",\"\").split(\", \")),\n",
    "                                                                                    \"drug_fingerprint_encoded_padded\": \\\n",
    "                                                                                    lambda x: np.array(x.strip(\"[]\").replace(\"'\",\"\").split(\", \"))})\n",
    "\n",
    "#drugbank = drugbank.sample(7500)"
   ]
  },
  {
   "cell_type": "code",
   "execution_count": 51,
   "metadata": {},
   "outputs": [
    {
     "ename": "NameError",
     "evalue": "name 'drugbank_reader' is not defined",
     "output_type": "error",
     "traceback": [
      "\u001b[0;31m---------------------------------------------------------------------------\u001b[0m",
      "\u001b[0;31mNameError\u001b[0m                                 Traceback (most recent call last)",
      "\u001b[0;32m<ipython-input-51-820ecd76ec37>\u001b[0m in \u001b[0;36m<module>\u001b[0;34m\u001b[0m\n\u001b[0;32m----> 1\u001b[0;31m \u001b[0mdrugbank\u001b[0m \u001b[0;34m=\u001b[0m \u001b[0mdrugbank_reader\u001b[0m\u001b[0;34m.\u001b[0m\u001b[0m__next__\u001b[0m\u001b[0;34m(\u001b[0m\u001b[0;34m)\u001b[0m\u001b[0;34m.\u001b[0m\u001b[0mdrop\u001b[0m\u001b[0;34m(\u001b[0m\u001b[0;34m'Unnamed: 0'\u001b[0m\u001b[0;34m,\u001b[0m \u001b[0maxis\u001b[0m \u001b[0;34m=\u001b[0m \u001b[0;36m1\u001b[0m\u001b[0;34m)\u001b[0m\u001b[0;34m\u001b[0m\u001b[0m\n\u001b[0m\u001b[1;32m      2\u001b[0m \u001b[0mdrugbank_test\u001b[0m \u001b[0;34m=\u001b[0m \u001b[0mdrugbank_reader\u001b[0m\u001b[0;34m.\u001b[0m\u001b[0m__next__\u001b[0m\u001b[0;34m(\u001b[0m\u001b[0;34m)\u001b[0m\u001b[0;34m.\u001b[0m\u001b[0mdrop\u001b[0m\u001b[0;34m(\u001b[0m\u001b[0;34m'Unnamed: 0'\u001b[0m\u001b[0;34m,\u001b[0m \u001b[0maxis\u001b[0m \u001b[0;34m=\u001b[0m \u001b[0;36m1\u001b[0m\u001b[0;34m)\u001b[0m\u001b[0;34m\u001b[0m\u001b[0m\n",
      "\u001b[0;31mNameError\u001b[0m: name 'drugbank_reader' is not defined"
     ]
    }
   ],
   "source": [
    "drugbank = drugbank_reader.__next__().drop('Unnamed: 0', axis = 1)\n",
    "drugbank_test = drugbank_reader.__next__().drop('Unnamed: 0', axis = 1)"
   ]
  },
  {
   "cell_type": "markdown",
   "metadata": {},
   "source": [
    "# Start from here - train only on gene sequence"
   ]
  },
  {
   "cell_type": "code",
   "execution_count": 4,
   "metadata": {},
   "outputs": [],
   "source": [
    "#drugbank = pd.read_csv('data/intermediate/interactions_preprocessed.csv', converters={\"target_gene_encoded_padded\": \\\n",
    "#                                                                                     lambda x: np.array(x.strip(\"[]\").replace(\"'\",\"\").split(\", \")),\n",
    "#                                                                                    \"drug_fingerprint_encoded_padded\": \\\n",
    "#                                                                                    lambda x: np.array(x.strip(\"[]\").replace(\"'\",\"\").split(\", \"))})"
   ]
  },
  {
   "cell_type": "code",
   "execution_count": 5,
   "metadata": {},
   "outputs": [
    {
     "ename": "NameError",
     "evalue": "name 'drugbank' is not defined",
     "output_type": "error",
     "traceback": [
      "\u001b[0;31m---------------------------------------------------------------------------\u001b[0m",
      "\u001b[0;31mNameError\u001b[0m                                 Traceback (most recent call last)",
      "\u001b[0;32m<ipython-input-5-d48a973bc6f4>\u001b[0m in \u001b[0;36m<module>\u001b[0;34m\u001b[0m\n\u001b[0;32m----> 1\u001b[0;31m \u001b[0mdrugbank\u001b[0m\u001b[0;34m\u001b[0m\u001b[0m\n\u001b[0m",
      "\u001b[0;31mNameError\u001b[0m: name 'drugbank' is not defined"
     ]
    }
   ],
   "source": [
    "drugbank"
   ]
  },
  {
   "cell_type": "code",
   "execution_count": null,
   "metadata": {
    "scrolled": true
   },
   "outputs": [],
   "source": [
    "len(drugbank_reader)"
   ]
  },
  {
   "cell_type": "code",
   "execution_count": 49,
   "metadata": {},
   "outputs": [],
   "source": [
    "drugbank = drugbank_reader.sample(7500, replace = False)\n",
    "drugbank_test = drugbank_reader.sample(7500, replace = False)"
   ]
  },
  {
   "cell_type": "code",
   "execution_count": 44,
   "metadata": {},
   "outputs": [],
   "source": [
    "train_df, test_df = train_test_split(drugbank)"
   ]
  },
  {
   "cell_type": "code",
   "execution_count": 49,
   "metadata": {
    "scrolled": true
   },
   "outputs": [
    {
     "data": {
      "text/html": [
       "<div>\n",
       "<style scoped>\n",
       "    .dataframe tbody tr th:only-of-type {\n",
       "        vertical-align: middle;\n",
       "    }\n",
       "\n",
       "    .dataframe tbody tr th {\n",
       "        vertical-align: top;\n",
       "    }\n",
       "\n",
       "    .dataframe thead th {\n",
       "        text-align: right;\n",
       "    }\n",
       "</style>\n",
       "<table border=\"1\" class=\"dataframe\">\n",
       "  <thead>\n",
       "    <tr style=\"text-align: right;\">\n",
       "      <th></th>\n",
       "      <th>drug_id</th>\n",
       "      <th>gene_id</th>\n",
       "      <th>drug_fingerprint_code</th>\n",
       "      <th>target_gene_code</th>\n",
       "      <th>Y</th>\n",
       "      <th>target_gene_encoded</th>\n",
       "      <th>drug_fingerprint_encoded</th>\n",
       "      <th>target_gene_encoded_len</th>\n",
       "      <th>drug_fingerprint_encoded_len</th>\n",
       "      <th>mismatch</th>\n",
       "      <th>target_gene_encoded_mismatch</th>\n",
       "      <th>drug_fingerprint_encoded_mismatch</th>\n",
       "      <th>target_gene_encoded_padded</th>\n",
       "      <th>drug_fingerprint_encoded_padded</th>\n",
       "    </tr>\n",
       "  </thead>\n",
       "  <tbody>\n",
       "    <tr>\n",
       "      <th>410614</th>\n",
       "      <td>DB08313</td>\n",
       "      <td>BE0001167</td>\n",
       "      <td>2246728737 3975275337 864674487 2154935424 224...</td>\n",
       "      <td>ATGCCAAACTACAAACTCACTTATTTTAATATGAGGGGGAGAGCAG...</td>\n",
       "      <td>0</td>\n",
       "      <td>[0, 3, 2, 1, 1, 0, 0, 0, 1, 3, 0, 1, 0, 0, 0, ...</td>\n",
       "      <td>[2, 2, 4, 6, 7, 2, 8, 7, 3, 7, 3, 9, 7, 5, 2, ...</td>\n",
       "      <td>600</td>\n",
       "      <td>409</td>\n",
       "      <td>191</td>\n",
       "      <td>20622</td>\n",
       "      <td>9092</td>\n",
       "      <td>[-1, -1, -1, -1, -1, -1, -1, -1, -1, -1, -1, -...</td>\n",
       "      <td>[-1, -1, -1, -1, -1, -1, -1, -1, -1, -1, -1, -...</td>\n",
       "    </tr>\n",
       "    <tr>\n",
       "      <th>4688</th>\n",
       "      <td>DB07858</td>\n",
       "      <td>BE0003761</td>\n",
       "      <td>3218693969 951226070 3218693969 951226070 3217...</td>\n",
       "      <td>ATGTTCACCTTGGGATACCATGGGGCCGAGGAGTGGGCATCGGGCG...</td>\n",
       "      <td>1</td>\n",
       "      <td>[0, 3, 2, 3, 3, 1, 0, 1, 1, 3, 3, 2, 2, 2, 0, ...</td>\n",
       "      <td>[3, 2, 1, 8, 6, 9, 3, 9, 6, 9, 9, 5, 1, 2, 2, ...</td>\n",
       "      <td>1284</td>\n",
       "      <td>408</td>\n",
       "      <td>876</td>\n",
       "      <td>19938</td>\n",
       "      <td>9093</td>\n",
       "      <td>[-1, -1, -1, -1, -1, -1, -1, -1, -1, -1, -1, -...</td>\n",
       "      <td>[-1, -1, -1, -1, -1, -1, -1, -1, -1, -1, -1, -...</td>\n",
       "    </tr>\n",
       "    <tr>\n",
       "      <th>737477</th>\n",
       "      <td>DB00975</td>\n",
       "      <td>BE0004566</td>\n",
       "      <td>2968968094 2142032900 2968968094 2142032900 29...</td>\n",
       "      <td>ATGCCCAACGATGACTTCTGTCCTGGGCTAACCATAAAGGCCATGG...</td>\n",
       "      <td>0</td>\n",
       "      <td>[0, 3, 2, 1, 1, 1, 0, 0, 1, 2, 0, 3, 2, 0, 1, ...</td>\n",
       "      <td>[2, 9, 6, 8, 9, 6, 8, 0, 9, 4, 2, 1, 4, 2, 0, ...</td>\n",
       "      <td>1770</td>\n",
       "      <td>708</td>\n",
       "      <td>1062</td>\n",
       "      <td>19452</td>\n",
       "      <td>8793</td>\n",
       "      <td>[-1, -1, -1, -1, -1, -1, -1, -1, -1, -1, -1, -...</td>\n",
       "      <td>[-1, -1, -1, -1, -1, -1, -1, -1, -1, -1, -1, -...</td>\n",
       "    </tr>\n",
       "    <tr>\n",
       "      <th>13561</th>\n",
       "      <td>DB01741</td>\n",
       "      <td>BE0001739</td>\n",
       "      <td>3218693969 98513984 3218693969 98513984 321869...</td>\n",
       "      <td>ATGAATCCACTCCTGATCCTTACCTTTGTGGCAGCTGCTCTTGCTG...</td>\n",
       "      <td>1</td>\n",
       "      <td>[0, 3, 2, 0, 0, 3, 1, 1, 0, 1, 3, 1, 1, 3, 2, ...</td>\n",
       "      <td>[3, 2, 1, 8, 6, 9, 3, 9, 6, 9, 9, 8, 5, 1, 3, ...</td>\n",
       "      <td>744</td>\n",
       "      <td>658</td>\n",
       "      <td>86</td>\n",
       "      <td>20478</td>\n",
       "      <td>8843</td>\n",
       "      <td>[-1, -1, -1, -1, -1, -1, -1, -1, -1, -1, -1, -...</td>\n",
       "      <td>[-1, -1, -1, -1, -1, -1, -1, -1, -1, -1, -1, -...</td>\n",
       "    </tr>\n",
       "    <tr>\n",
       "      <th>130613</th>\n",
       "      <td>DB08073</td>\n",
       "      <td>BE0000732</td>\n",
       "      <td>2246728737 422715066 3217380708 1308598964 321...</td>\n",
       "      <td>ATGGGGAAGGGGGTTGGACGTGATAAGTATGAGCCTGCAGCTGTTT...</td>\n",
       "      <td>0</td>\n",
       "      <td>[0, 3, 2, 2, 2, 2, 0, 0, 2, 2, 2, 2, 2, 3, 3, ...</td>\n",
       "      <td>[2, 2, 4, 6, 7, 2, 8, 7, 3, 7, 4, 2, 2, 7, 1, ...</td>\n",
       "      <td>3072</td>\n",
       "      <td>583</td>\n",
       "      <td>2489</td>\n",
       "      <td>18150</td>\n",
       "      <td>8918</td>\n",
       "      <td>[-1, -1, -1, -1, -1, -1, -1, -1, -1, -1, -1, -...</td>\n",
       "      <td>[-1, -1, -1, -1, -1, -1, -1, -1, -1, -1, -1, -...</td>\n",
       "    </tr>\n",
       "    <tr>\n",
       "      <th>...</th>\n",
       "      <td>...</td>\n",
       "      <td>...</td>\n",
       "      <td>...</td>\n",
       "      <td>...</td>\n",
       "      <td>...</td>\n",
       "      <td>...</td>\n",
       "      <td>...</td>\n",
       "      <td>...</td>\n",
       "      <td>...</td>\n",
       "      <td>...</td>\n",
       "      <td>...</td>\n",
       "      <td>...</td>\n",
       "      <td>...</td>\n",
       "      <td>...</td>\n",
       "    </tr>\n",
       "    <tr>\n",
       "      <th>1338602</th>\n",
       "      <td>DB04432</td>\n",
       "      <td>BE0004743</td>\n",
       "      <td>2246728737 422715066 3217380708 3120642300 321...</td>\n",
       "      <td>ATGGTGGACCCGGTGGGCTTCGCGGAGGCGTGGAAGGCGCAGTTCC...</td>\n",
       "      <td>0</td>\n",
       "      <td>[0, 3, 2, 2, 3, 2, 2, 0, 1, 1, 1, 2, 2, 3, 2, ...</td>\n",
       "      <td>[2, 2, 4, 6, 7, 2, 8, 7, 3, 7, 4, 2, 2, 7, 1, ...</td>\n",
       "      <td>3816</td>\n",
       "      <td>561</td>\n",
       "      <td>3255</td>\n",
       "      <td>17406</td>\n",
       "      <td>8940</td>\n",
       "      <td>[-1, -1, -1, -1, -1, -1, -1, -1, -1, -1, -1, -...</td>\n",
       "      <td>[-1, -1, -1, -1, -1, -1, -1, -1, -1, -1, -1, -...</td>\n",
       "    </tr>\n",
       "    <tr>\n",
       "      <th>12760</th>\n",
       "      <td>DB03059</td>\n",
       "      <td>BE0002684</td>\n",
       "      <td>2246728737 3545365497 2246699815 2080747022 86...</td>\n",
       "      <td>TTAGAAATAGCGCGGAAACGGGCTCCAGTCGGGGGGACGCTTCTGT...</td>\n",
       "      <td>1</td>\n",
       "      <td>[3, 3, 0, 2, 0, 0, 0, 3, 0, 2, 1, 2, 1, 2, 2, ...</td>\n",
       "      <td>[2, 2, 4, 6, 7, 2, 8, 7, 3, 7, 3, 5, 4, 5, 3, ...</td>\n",
       "      <td>945</td>\n",
       "      <td>1043</td>\n",
       "      <td>-98</td>\n",
       "      <td>20277</td>\n",
       "      <td>8458</td>\n",
       "      <td>[-1, -1, -1, -1, -1, -1, -1, -1, -1, -1, -1, -...</td>\n",
       "      <td>[-1, -1, -1, -1, -1, -1, -1, -1, -1, -1, -1, -...</td>\n",
       "    </tr>\n",
       "    <tr>\n",
       "      <th>6029</th>\n",
       "      <td>DB07119</td>\n",
       "      <td>BE0000792</td>\n",
       "      <td>3218693969 951226070 3218693969 951226070 3217...</td>\n",
       "      <td>ATGGATATAAAAAACTCACCATCTAGCCTTAATTCTCCTTCCTCCT...</td>\n",
       "      <td>1</td>\n",
       "      <td>[0, 3, 2, 2, 0, 3, 0, 3, 0, 0, 0, 0, 0, 0, 1, ...</td>\n",
       "      <td>[3, 2, 1, 8, 6, 9, 3, 9, 6, 9, 9, 5, 1, 2, 2, ...</td>\n",
       "      <td>1488</td>\n",
       "      <td>365</td>\n",
       "      <td>1123</td>\n",
       "      <td>19734</td>\n",
       "      <td>9136</td>\n",
       "      <td>[-1, -1, -1, -1, -1, -1, -1, -1, -1, -1, -1, -...</td>\n",
       "      <td>[-1, -1, -1, -1, -1, -1, -1, -1, -1, -1, -1, -...</td>\n",
       "    </tr>\n",
       "    <tr>\n",
       "      <th>61918</th>\n",
       "      <td>DB00383</td>\n",
       "      <td>BE0002173</td>\n",
       "      <td>2246728737 3657471097 2092489639 1849554589 29...</td>\n",
       "      <td>TCTAAAATATGCAATTAAAACAGGGCATCCTAGATACTTCAATCAA...</td>\n",
       "      <td>0</td>\n",
       "      <td>[3, 1, 3, 0, 0, 0, 0, 3, 0, 3, 2, 1, 0, 0, 3, ...</td>\n",
       "      <td>[2, 2, 4, 6, 7, 2, 8, 7, 3, 7, 3, 6, 5, 7, 4, ...</td>\n",
       "      <td>1261</td>\n",
       "      <td>487</td>\n",
       "      <td>774</td>\n",
       "      <td>19961</td>\n",
       "      <td>9014</td>\n",
       "      <td>[-1, -1, -1, -1, -1, -1, -1, -1, -1, -1, -1, -...</td>\n",
       "      <td>[-1, -1, -1, -1, -1, -1, -1, -1, -1, -1, -1, -...</td>\n",
       "    </tr>\n",
       "    <tr>\n",
       "      <th>6430</th>\n",
       "      <td>DB02153</td>\n",
       "      <td>BE0001485</td>\n",
       "      <td>2245384272 1852877071 2245273601 4274980665 22...</td>\n",
       "      <td>ATGACGAAGTTGTCAGGTCAGGAGCTGCATGCCGAACTCTCGCGGC...</td>\n",
       "      <td>1</td>\n",
       "      <td>[0, 3, 2, 0, 1, 2, 0, 0, 2, 3, 3, 2, 3, 1, 0, ...</td>\n",
       "      <td>[2, 2, 4, 5, 3, 8, 4, 2, 7, 2, 1, 8, 5, 2, 8, ...</td>\n",
       "      <td>2469</td>\n",
       "      <td>174</td>\n",
       "      <td>2295</td>\n",
       "      <td>18753</td>\n",
       "      <td>9327</td>\n",
       "      <td>[-1, -1, -1, -1, -1, -1, -1, -1, -1, -1, -1, -...</td>\n",
       "      <td>[-1, -1, -1, -1, -1, -1, -1, -1, -1, -1, -1, -...</td>\n",
       "    </tr>\n",
       "  </tbody>\n",
       "</table>\n",
       "<p>26386 rows × 14 columns</p>\n",
       "</div>"
      ],
      "text/plain": [
       "         drug_id    gene_id  \\\n",
       "410614   DB08313  BE0001167   \n",
       "4688     DB07858  BE0003761   \n",
       "737477   DB00975  BE0004566   \n",
       "13561    DB01741  BE0001739   \n",
       "130613   DB08073  BE0000732   \n",
       "...          ...        ...   \n",
       "1338602  DB04432  BE0004743   \n",
       "12760    DB03059  BE0002684   \n",
       "6029     DB07119  BE0000792   \n",
       "61918    DB00383  BE0002173   \n",
       "6430     DB02153  BE0001485   \n",
       "\n",
       "                                     drug_fingerprint_code  \\\n",
       "410614   2246728737 3975275337 864674487 2154935424 224...   \n",
       "4688     3218693969 951226070 3218693969 951226070 3217...   \n",
       "737477   2968968094 2142032900 2968968094 2142032900 29...   \n",
       "13561    3218693969 98513984 3218693969 98513984 321869...   \n",
       "130613   2246728737 422715066 3217380708 1308598964 321...   \n",
       "...                                                    ...   \n",
       "1338602  2246728737 422715066 3217380708 3120642300 321...   \n",
       "12760    2246728737 3545365497 2246699815 2080747022 86...   \n",
       "6029     3218693969 951226070 3218693969 951226070 3217...   \n",
       "61918    2246728737 3657471097 2092489639 1849554589 29...   \n",
       "6430     2245384272 1852877071 2245273601 4274980665 22...   \n",
       "\n",
       "                                          target_gene_code  Y  \\\n",
       "410614   ATGCCAAACTACAAACTCACTTATTTTAATATGAGGGGGAGAGCAG...  0   \n",
       "4688     ATGTTCACCTTGGGATACCATGGGGCCGAGGAGTGGGCATCGGGCG...  1   \n",
       "737477   ATGCCCAACGATGACTTCTGTCCTGGGCTAACCATAAAGGCCATGG...  0   \n",
       "13561    ATGAATCCACTCCTGATCCTTACCTTTGTGGCAGCTGCTCTTGCTG...  1   \n",
       "130613   ATGGGGAAGGGGGTTGGACGTGATAAGTATGAGCCTGCAGCTGTTT...  0   \n",
       "...                                                    ... ..   \n",
       "1338602  ATGGTGGACCCGGTGGGCTTCGCGGAGGCGTGGAAGGCGCAGTTCC...  0   \n",
       "12760    TTAGAAATAGCGCGGAAACGGGCTCCAGTCGGGGGGACGCTTCTGT...  1   \n",
       "6029     ATGGATATAAAAAACTCACCATCTAGCCTTAATTCTCCTTCCTCCT...  1   \n",
       "61918    TCTAAAATATGCAATTAAAACAGGGCATCCTAGATACTTCAATCAA...  0   \n",
       "6430     ATGACGAAGTTGTCAGGTCAGGAGCTGCATGCCGAACTCTCGCGGC...  1   \n",
       "\n",
       "                                       target_gene_encoded  \\\n",
       "410614   [0, 3, 2, 1, 1, 0, 0, 0, 1, 3, 0, 1, 0, 0, 0, ...   \n",
       "4688     [0, 3, 2, 3, 3, 1, 0, 1, 1, 3, 3, 2, 2, 2, 0, ...   \n",
       "737477   [0, 3, 2, 1, 1, 1, 0, 0, 1, 2, 0, 3, 2, 0, 1, ...   \n",
       "13561    [0, 3, 2, 0, 0, 3, 1, 1, 0, 1, 3, 1, 1, 3, 2, ...   \n",
       "130613   [0, 3, 2, 2, 2, 2, 0, 0, 2, 2, 2, 2, 2, 3, 3, ...   \n",
       "...                                                    ...   \n",
       "1338602  [0, 3, 2, 2, 3, 2, 2, 0, 1, 1, 1, 2, 2, 3, 2, ...   \n",
       "12760    [3, 3, 0, 2, 0, 0, 0, 3, 0, 2, 1, 2, 1, 2, 2, ...   \n",
       "6029     [0, 3, 2, 2, 0, 3, 0, 3, 0, 0, 0, 0, 0, 0, 1, ...   \n",
       "61918    [3, 1, 3, 0, 0, 0, 0, 3, 0, 3, 2, 1, 0, 0, 3, ...   \n",
       "6430     [0, 3, 2, 0, 1, 2, 0, 0, 2, 3, 3, 2, 3, 1, 0, ...   \n",
       "\n",
       "                                  drug_fingerprint_encoded  \\\n",
       "410614   [2, 2, 4, 6, 7, 2, 8, 7, 3, 7, 3, 9, 7, 5, 2, ...   \n",
       "4688     [3, 2, 1, 8, 6, 9, 3, 9, 6, 9, 9, 5, 1, 2, 2, ...   \n",
       "737477   [2, 9, 6, 8, 9, 6, 8, 0, 9, 4, 2, 1, 4, 2, 0, ...   \n",
       "13561    [3, 2, 1, 8, 6, 9, 3, 9, 6, 9, 9, 8, 5, 1, 3, ...   \n",
       "130613   [2, 2, 4, 6, 7, 2, 8, 7, 3, 7, 4, 2, 2, 7, 1, ...   \n",
       "...                                                    ...   \n",
       "1338602  [2, 2, 4, 6, 7, 2, 8, 7, 3, 7, 4, 2, 2, 7, 1, ...   \n",
       "12760    [2, 2, 4, 6, 7, 2, 8, 7, 3, 7, 3, 5, 4, 5, 3, ...   \n",
       "6029     [3, 2, 1, 8, 6, 9, 3, 9, 6, 9, 9, 5, 1, 2, 2, ...   \n",
       "61918    [2, 2, 4, 6, 7, 2, 8, 7, 3, 7, 3, 6, 5, 7, 4, ...   \n",
       "6430     [2, 2, 4, 5, 3, 8, 4, 2, 7, 2, 1, 8, 5, 2, 8, ...   \n",
       "\n",
       "         target_gene_encoded_len  drug_fingerprint_encoded_len  mismatch  \\\n",
       "410614                       600                           409       191   \n",
       "4688                        1284                           408       876   \n",
       "737477                      1770                           708      1062   \n",
       "13561                        744                           658        86   \n",
       "130613                      3072                           583      2489   \n",
       "...                          ...                           ...       ...   \n",
       "1338602                     3816                           561      3255   \n",
       "12760                        945                          1043       -98   \n",
       "6029                        1488                           365      1123   \n",
       "61918                       1261                           487       774   \n",
       "6430                        2469                           174      2295   \n",
       "\n",
       "         target_gene_encoded_mismatch  drug_fingerprint_encoded_mismatch  \\\n",
       "410614                          20622                               9092   \n",
       "4688                            19938                               9093   \n",
       "737477                          19452                               8793   \n",
       "13561                           20478                               8843   \n",
       "130613                          18150                               8918   \n",
       "...                               ...                                ...   \n",
       "1338602                         17406                               8940   \n",
       "12760                           20277                               8458   \n",
       "6029                            19734                               9136   \n",
       "61918                           19961                               9014   \n",
       "6430                            18753                               9327   \n",
       "\n",
       "                                target_gene_encoded_padded  \\\n",
       "410614   [-1, -1, -1, -1, -1, -1, -1, -1, -1, -1, -1, -...   \n",
       "4688     [-1, -1, -1, -1, -1, -1, -1, -1, -1, -1, -1, -...   \n",
       "737477   [-1, -1, -1, -1, -1, -1, -1, -1, -1, -1, -1, -...   \n",
       "13561    [-1, -1, -1, -1, -1, -1, -1, -1, -1, -1, -1, -...   \n",
       "130613   [-1, -1, -1, -1, -1, -1, -1, -1, -1, -1, -1, -...   \n",
       "...                                                    ...   \n",
       "1338602  [-1, -1, -1, -1, -1, -1, -1, -1, -1, -1, -1, -...   \n",
       "12760    [-1, -1, -1, -1, -1, -1, -1, -1, -1, -1, -1, -...   \n",
       "6029     [-1, -1, -1, -1, -1, -1, -1, -1, -1, -1, -1, -...   \n",
       "61918    [-1, -1, -1, -1, -1, -1, -1, -1, -1, -1, -1, -...   \n",
       "6430     [-1, -1, -1, -1, -1, -1, -1, -1, -1, -1, -1, -...   \n",
       "\n",
       "                           drug_fingerprint_encoded_padded  \n",
       "410614   [-1, -1, -1, -1, -1, -1, -1, -1, -1, -1, -1, -...  \n",
       "4688     [-1, -1, -1, -1, -1, -1, -1, -1, -1, -1, -1, -...  \n",
       "737477   [-1, -1, -1, -1, -1, -1, -1, -1, -1, -1, -1, -...  \n",
       "13561    [-1, -1, -1, -1, -1, -1, -1, -1, -1, -1, -1, -...  \n",
       "130613   [-1, -1, -1, -1, -1, -1, -1, -1, -1, -1, -1, -...  \n",
       "...                                                    ...  \n",
       "1338602  [-1, -1, -1, -1, -1, -1, -1, -1, -1, -1, -1, -...  \n",
       "12760    [-1, -1, -1, -1, -1, -1, -1, -1, -1, -1, -1, -...  \n",
       "6029     [-1, -1, -1, -1, -1, -1, -1, -1, -1, -1, -1, -...  \n",
       "61918    [-1, -1, -1, -1, -1, -1, -1, -1, -1, -1, -1, -...  \n",
       "6430     [-1, -1, -1, -1, -1, -1, -1, -1, -1, -1, -1, -...  \n",
       "\n",
       "[26386 rows x 14 columns]"
      ]
     },
     "execution_count": 49,
     "metadata": {},
     "output_type": "execute_result"
    }
   ],
   "source": [
    "train_df"
   ]
  },
  {
   "cell_type": "code",
   "execution_count": 75,
   "metadata": {},
   "outputs": [
    {
     "data": {
      "text/plain": [
       "<matplotlib.axes._subplots.AxesSubplot at 0x7f47ec2bc0b8>"
      ]
     },
     "execution_count": 75,
     "metadata": {},
     "output_type": "execute_result"
    },
    {
     "data": {
      "image/png": "[encoded data removed]",
      "text/plain": [
       "<Figure size 432x288 with 1 Axes>"
      ]
     },
     "metadata": {
      "needs_background": "light"
     },
     "output_type": "display_data"
    }
   ],
   "source": [
    "train_df['Y'].hist()"
   ]
  },
  {
   "cell_type": "code",
   "execution_count": null,
   "metadata": {},
   "outputs": [],
   "source": []
  },
  {
   "cell_type": "code",
   "execution_count": 116,
   "metadata": {
    "scrolled": true
   },
   "outputs": [
    {
     "data": {
      "text/html": [
       "<div>\n",
       "<style scoped>\n",
       "    .dataframe tbody tr th:only-of-type {\n",
       "        vertical-align: middle;\n",
       "    }\n",
       "\n",
       "    .dataframe tbody tr th {\n",
       "        vertical-align: top;\n",
       "    }\n",
       "\n",
       "    .dataframe thead th {\n",
       "        text-align: right;\n",
       "    }\n",
       "</style>\n",
       "<table border=\"1\" class=\"dataframe\">\n",
       "  <thead>\n",
       "    <tr style=\"text-align: right;\">\n",
       "      <th></th>\n",
       "      <th>drug_id</th>\n",
       "      <th>gene_id</th>\n",
       "      <th>drug_fingerprint_code</th>\n",
       "      <th>target_gene_code</th>\n",
       "      <th>Y</th>\n",
       "      <th>target_gene_encoded</th>\n",
       "      <th>drug_fingerprint_encoded</th>\n",
       "      <th>target_gene_encoded_len</th>\n",
       "      <th>drug_fingerprint_encoded_len</th>\n",
       "      <th>mismatch</th>\n",
       "      <th>target_gene_encoded_mismatch</th>\n",
       "      <th>drug_fingerprint_encoded_mismatch</th>\n",
       "      <th>target_gene_encoded_padded</th>\n",
       "      <th>drug_fingerprint_encoded_padded</th>\n",
       "    </tr>\n",
       "  </thead>\n",
       "  <tbody>\n",
       "    <tr>\n",
       "      <th>0</th>\n",
       "      <td>DB03313</td>\n",
       "      <td>BE0001349</td>\n",
       "      <td>2246728737 3545365497 2246699815 2664995851 86...</td>\n",
       "      <td>ATGGTCTCAGGAACGGTGGGCAGAGGTACGGCGCTGGGCGCGGTGC...</td>\n",
       "      <td>1</td>\n",
       "      <td>[0, 3, 2, 2, 3, 1, 3, 1, 0, 2, 2, 0, 0, 1, 2, ...</td>\n",
       "      <td>[2, 2, 4, 6, 7, 2, 8, 7, 3, 7, 3, 5, 4, 5, 3, ...</td>\n",
       "      <td>1221</td>\n",
       "      <td>547</td>\n",
       "      <td>674</td>\n",
       "      <td>20001</td>\n",
       "      <td>8954</td>\n",
       "      <td>[-1, -1, -1, -1, -1, -1, -1, -1, -1, -1, -1, -...</td>\n",
       "      <td>[-1, -1, -1, -1, -1, -1, -1, -1, -1, -1, -1, -...</td>\n",
       "    </tr>\n",
       "    <tr>\n",
       "      <th>1</th>\n",
       "      <td>DB03313</td>\n",
       "      <td>BE0004335</td>\n",
       "      <td>2246728737 3545365497 2246699815 2664995851 86...</td>\n",
       "      <td>ATGCAAAATCAATTAAATGAATTAAAACGAAAAATGCTGGAATTTT...</td>\n",
       "      <td>1</td>\n",
       "      <td>[0, 3, 2, 1, 0, 0, 0, 0, 3, 1, 0, 0, 3, 3, 0, ...</td>\n",
       "      <td>[2, 2, 4, 6, 7, 2, 8, 7, 3, 7, 3, 5, 4, 5, 3, ...</td>\n",
       "      <td>2466</td>\n",
       "      <td>547</td>\n",
       "      <td>1919</td>\n",
       "      <td>18756</td>\n",
       "      <td>8954</td>\n",
       "      <td>[-1, -1, -1, -1, -1, -1, -1, -1, -1, -1, -1, -...</td>\n",
       "      <td>[-1, -1, -1, -1, -1, -1, -1, -1, -1, -1, -1, -...</td>\n",
       "    </tr>\n",
       "    <tr>\n",
       "      <th>2</th>\n",
       "      <td>DB03313</td>\n",
       "      <td>BE0004290</td>\n",
       "      <td>2246728737 3545365497 2246699815 2664995851 86...</td>\n",
       "      <td>ATGAACAAACCAACGATTCTGCGCCTAATCAAGTATCTGAGCATTA...</td>\n",
       "      <td>1</td>\n",
       "      <td>[0, 3, 2, 0, 0, 1, 0, 0, 0, 1, 1, 0, 0, 1, 2, ...</td>\n",
       "      <td>[2, 2, 4, 6, 7, 2, 8, 7, 3, 7, 3, 5, 4, 5, 3, ...</td>\n",
       "      <td>2160</td>\n",
       "      <td>547</td>\n",
       "      <td>1613</td>\n",
       "      <td>19062</td>\n",
       "      <td>8954</td>\n",
       "      <td>[-1, -1, -1, -1, -1, -1, -1, -1, -1, -1, -1, -...</td>\n",
       "      <td>[-1, -1, -1, -1, -1, -1, -1, -1, -1, -1, -1, -...</td>\n",
       "    </tr>\n",
       "    <tr>\n",
       "      <th>3</th>\n",
       "      <td>DB03313</td>\n",
       "      <td>BE0003624</td>\n",
       "      <td>2246728737 3545365497 2246699815 2664995851 86...</td>\n",
       "      <td>ATGAGACTGATTTGTATGAGAAAATTTAACAGCCATTCGATTCCGA...</td>\n",
       "      <td>1</td>\n",
       "      <td>[0, 3, 2, 0, 2, 0, 1, 3, 2, 0, 3, 3, 3, 2, 3, ...</td>\n",
       "      <td>[2, 2, 4, 6, 7, 2, 8, 7, 3, 7, 3, 5, 4, 5, 3, ...</td>\n",
       "      <td>2058</td>\n",
       "      <td>547</td>\n",
       "      <td>1511</td>\n",
       "      <td>19164</td>\n",
       "      <td>8954</td>\n",
       "      <td>[-1, -1, -1, -1, -1, -1, -1, -1, -1, -1, -1, -...</td>\n",
       "      <td>[-1, -1, -1, -1, -1, -1, -1, -1, -1, -1, -1, -...</td>\n",
       "    </tr>\n",
       "    <tr>\n",
       "      <th>4</th>\n",
       "      <td>DB03313</td>\n",
       "      <td>BE0004644</td>\n",
       "      <td>2246728737 3545365497 2246699815 2664995851 86...</td>\n",
       "      <td>ATGAAATTAGATAAATTATTTGAGAAATTTCTTTCTCTTTTTAAAA...</td>\n",
       "      <td>1</td>\n",
       "      <td>[0, 3, 2, 0, 0, 0, 3, 3, 0, 2, 0, 3, 0, 0, 0, ...</td>\n",
       "      <td>[2, 2, 4, 6, 7, 2, 8, 7, 3, 7, 3, 5, 4, 5, 3, ...</td>\n",
       "      <td>2196</td>\n",
       "      <td>547</td>\n",
       "      <td>1649</td>\n",
       "      <td>19026</td>\n",
       "      <td>8954</td>\n",
       "      <td>[-1, -1, -1, -1, -1, -1, -1, -1, -1, -1, -1, -...</td>\n",
       "      <td>[-1, -1, -1, -1, -1, -1, -1, -1, -1, -1, -1, -...</td>\n",
       "    </tr>\n",
       "    <tr>\n",
       "      <th>...</th>\n",
       "      <td>...</td>\n",
       "      <td>...</td>\n",
       "      <td>...</td>\n",
       "      <td>...</td>\n",
       "      <td>...</td>\n",
       "      <td>...</td>\n",
       "      <td>...</td>\n",
       "      <td>...</td>\n",
       "      <td>...</td>\n",
       "      <td>...</td>\n",
       "      <td>...</td>\n",
       "      <td>...</td>\n",
       "      <td>...</td>\n",
       "      <td>...</td>\n",
       "    </tr>\n",
       "    <tr>\n",
       "      <th>1517987</th>\n",
       "      <td>DB07700</td>\n",
       "      <td>BE0004651</td>\n",
       "      <td>2246728737 1861965050 2976816164 2677752761 29...</td>\n",
       "      <td>ATGGGTCAGAAAGTACATCCTAATGGTATTCGCCTGGGTATTGTAA...</td>\n",
       "      <td>0</td>\n",
       "      <td>[0, 3, 2, 2, 2, 3, 1, 0, 2, 0, 0, 0, 2, 3, 0, ...</td>\n",
       "      <td>[2, 2, 4, 6, 7, 2, 8, 7, 3, 7, 1, 8, 6, 1, 9, ...</td>\n",
       "      <td>702</td>\n",
       "      <td>571</td>\n",
       "      <td>131</td>\n",
       "      <td>20520</td>\n",
       "      <td>8930</td>\n",
       "      <td>[-1, -1, -1, -1, -1, -1, -1, -1, -1, -1, -1, -...</td>\n",
       "      <td>[-1, -1, -1, -1, -1, -1, -1, -1, -1, -1, -1, -...</td>\n",
       "    </tr>\n",
       "    <tr>\n",
       "      <th>237808</th>\n",
       "      <td>DB03031</td>\n",
       "      <td>BE0001004</td>\n",
       "      <td>2246728737 3818546315 848128881 1914416804 224...</td>\n",
       "      <td>ATGGACCAAAATCAACATTTGAATAAAACAGCAGAGGCACAACCTT...</td>\n",
       "      <td>0</td>\n",
       "      <td>[0, 3, 2, 2, 0, 1, 1, 0, 0, 0, 0, 3, 1, 0, 0, ...</td>\n",
       "      <td>[2, 2, 4, 6, 7, 2, 8, 7, 3, 7, 3, 8, 1, 8, 5, ...</td>\n",
       "      <td>2076</td>\n",
       "      <td>735</td>\n",
       "      <td>1341</td>\n",
       "      <td>19146</td>\n",
       "      <td>8766</td>\n",
       "      <td>[-1, -1, -1, -1, -1, -1, -1, -1, -1, -1, -1, -...</td>\n",
       "      <td>[-1, -1, -1, -1, -1, -1, -1, -1, -1, -1, -1, -...</td>\n",
       "    </tr>\n",
       "    <tr>\n",
       "      <th>142511</th>\n",
       "      <td>DB02134</td>\n",
       "      <td>BE0003687</td>\n",
       "      <td>3218693969 584893129 2041434490 1100037548 321...</td>\n",
       "      <td>ATGACGCGTCCCCGATCCCCCCGTTCCCGTAACAGCAAAGCACGCC...</td>\n",
       "      <td>0</td>\n",
       "      <td>[0, 3, 2, 0, 1, 2, 1, 2, 3, 1, 1, 1, 1, 2, 0, ...</td>\n",
       "      <td>[3, 2, 1, 8, 6, 9, 3, 9, 6, 9, 5, 8, 4, 8, 9, ...</td>\n",
       "      <td>2325</td>\n",
       "      <td>212</td>\n",
       "      <td>2113</td>\n",
       "      <td>18897</td>\n",
       "      <td>9289</td>\n",
       "      <td>[-1, -1, -1, -1, -1, -1, -1, -1, -1, -1, -1, -...</td>\n",
       "      <td>[-1, -1, -1, -1, -1, -1, -1, -1, -1, -1, -1, -...</td>\n",
       "    </tr>\n",
       "    <tr>\n",
       "      <th>1704541</th>\n",
       "      <td>DB04241</td>\n",
       "      <td>BE0004651</td>\n",
       "      <td>2246728737 422715066 3217380708 4033380444 204...</td>\n",
       "      <td>ATGGGTCAGAAAGTACATCCTAATGGTATTCGCCTGGGTATTGTAA...</td>\n",
       "      <td>0</td>\n",
       "      <td>[0, 3, 2, 2, 2, 3, 1, 0, 2, 0, 0, 0, 2, 3, 0, ...</td>\n",
       "      <td>[2, 2, 4, 6, 7, 2, 8, 7, 3, 7, 4, 2, 2, 7, 1, ...</td>\n",
       "      <td>702</td>\n",
       "      <td>427</td>\n",
       "      <td>275</td>\n",
       "      <td>20520</td>\n",
       "      <td>9074</td>\n",
       "      <td>[-1, -1, -1, -1, -1, -1, -1, -1, -1, -1, -1, -...</td>\n",
       "      <td>[-1, -1, -1, -1, -1, -1, -1, -1, -1, -1, -1, -...</td>\n",
       "    </tr>\n",
       "    <tr>\n",
       "      <th>325117</th>\n",
       "      <td>DB06973</td>\n",
       "      <td>BE0004634</td>\n",
       "      <td>2246728737 3537123720 2245277810 1459140616 22...</td>\n",
       "      <td>ATGGCTACTTCAAAGTTGCCCGTGGTGCCTGGGGAGGAGGAAAACA...</td>\n",
       "      <td>0</td>\n",
       "      <td>[0, 3, 2, 2, 1, 3, 0, 1, 3, 3, 1, 0, 0, 0, 2, ...</td>\n",
       "      <td>[2, 2, 4, 6, 7, 2, 8, 7, 3, 7, 3, 5, 3, 7, 1, ...</td>\n",
       "      <td>1392</td>\n",
       "      <td>326</td>\n",
       "      <td>1066</td>\n",
       "      <td>19830</td>\n",
       "      <td>9175</td>\n",
       "      <td>[-1, -1, -1, -1, -1, -1, -1, -1, -1, -1, -1, -...</td>\n",
       "      <td>[-1, -1, -1, -1, -1, -1, -1, -1, -1, -1, -1, -...</td>\n",
       "    </tr>\n",
       "  </tbody>\n",
       "</table>\n",
       "<p>35183 rows × 14 columns</p>\n",
       "</div>"
      ],
      "text/plain": [
       "         drug_id    gene_id  \\\n",
       "0        DB03313  BE0001349   \n",
       "1        DB03313  BE0004335   \n",
       "2        DB03313  BE0004290   \n",
       "3        DB03313  BE0003624   \n",
       "4        DB03313  BE0004644   \n",
       "...          ...        ...   \n",
       "1517987  DB07700  BE0004651   \n",
       "237808   DB03031  BE0001004   \n",
       "142511   DB02134  BE0003687   \n",
       "1704541  DB04241  BE0004651   \n",
       "325117   DB06973  BE0004634   \n",
       "\n",
       "                                     drug_fingerprint_code  \\\n",
       "0        2246728737 3545365497 2246699815 2664995851 86...   \n",
       "1        2246728737 3545365497 2246699815 2664995851 86...   \n",
       "2        2246728737 3545365497 2246699815 2664995851 86...   \n",
       "3        2246728737 3545365497 2246699815 2664995851 86...   \n",
       "4        2246728737 3545365497 2246699815 2664995851 86...   \n",
       "...                                                    ...   \n",
       "1517987  2246728737 1861965050 2976816164 2677752761 29...   \n",
       "237808   2246728737 3818546315 848128881 1914416804 224...   \n",
       "142511   3218693969 584893129 2041434490 1100037548 321...   \n",
       "1704541  2246728737 422715066 3217380708 4033380444 204...   \n",
       "325117   2246728737 3537123720 2245277810 1459140616 22...   \n",
       "\n",
       "                                          target_gene_code  Y  \\\n",
       "0        ATGGTCTCAGGAACGGTGGGCAGAGGTACGGCGCTGGGCGCGGTGC...  1   \n",
       "1        ATGCAAAATCAATTAAATGAATTAAAACGAAAAATGCTGGAATTTT...  1   \n",
       "2        ATGAACAAACCAACGATTCTGCGCCTAATCAAGTATCTGAGCATTA...  1   \n",
       "3        ATGAGACTGATTTGTATGAGAAAATTTAACAGCCATTCGATTCCGA...  1   \n",
       "4        ATGAAATTAGATAAATTATTTGAGAAATTTCTTTCTCTTTTTAAAA...  1   \n",
       "...                                                    ... ..   \n",
       "1517987  ATGGGTCAGAAAGTACATCCTAATGGTATTCGCCTGGGTATTGTAA...  0   \n",
       "237808   ATGGACCAAAATCAACATTTGAATAAAACAGCAGAGGCACAACCTT...  0   \n",
       "142511   ATGACGCGTCCCCGATCCCCCCGTTCCCGTAACAGCAAAGCACGCC...  0   \n",
       "1704541  ATGGGTCAGAAAGTACATCCTAATGGTATTCGCCTGGGTATTGTAA...  0   \n",
       "325117   ATGGCTACTTCAAAGTTGCCCGTGGTGCCTGGGGAGGAGGAAAACA...  0   \n",
       "\n",
       "                                       target_gene_encoded  \\\n",
       "0        [0, 3, 2, 2, 3, 1, 3, 1, 0, 2, 2, 0, 0, 1, 2, ...   \n",
       "1        [0, 3, 2, 1, 0, 0, 0, 0, 3, 1, 0, 0, 3, 3, 0, ...   \n",
       "2        [0, 3, 2, 0, 0, 1, 0, 0, 0, 1, 1, 0, 0, 1, 2, ...   \n",
       "3        [0, 3, 2, 0, 2, 0, 1, 3, 2, 0, 3, 3, 3, 2, 3, ...   \n",
       "4        [0, 3, 2, 0, 0, 0, 3, 3, 0, 2, 0, 3, 0, 0, 0, ...   \n",
       "...                                                    ...   \n",
       "1517987  [0, 3, 2, 2, 2, 3, 1, 0, 2, 0, 0, 0, 2, 3, 0, ...   \n",
       "237808   [0, 3, 2, 2, 0, 1, 1, 0, 0, 0, 0, 3, 1, 0, 0, ...   \n",
       "142511   [0, 3, 2, 0, 1, 2, 1, 2, 3, 1, 1, 1, 1, 2, 0, ...   \n",
       "1704541  [0, 3, 2, 2, 2, 3, 1, 0, 2, 0, 0, 0, 2, 3, 0, ...   \n",
       "325117   [0, 3, 2, 2, 1, 3, 0, 1, 3, 3, 1, 0, 0, 0, 2, ...   \n",
       "\n",
       "                                  drug_fingerprint_encoded  \\\n",
       "0        [2, 2, 4, 6, 7, 2, 8, 7, 3, 7, 3, 5, 4, 5, 3, ...   \n",
       "1        [2, 2, 4, 6, 7, 2, 8, 7, 3, 7, 3, 5, 4, 5, 3, ...   \n",
       "2        [2, 2, 4, 6, 7, 2, 8, 7, 3, 7, 3, 5, 4, 5, 3, ...   \n",
       "3        [2, 2, 4, 6, 7, 2, 8, 7, 3, 7, 3, 5, 4, 5, 3, ...   \n",
       "4        [2, 2, 4, 6, 7, 2, 8, 7, 3, 7, 3, 5, 4, 5, 3, ...   \n",
       "...                                                    ...   \n",
       "1517987  [2, 2, 4, 6, 7, 2, 8, 7, 3, 7, 1, 8, 6, 1, 9, ...   \n",
       "237808   [2, 2, 4, 6, 7, 2, 8, 7, 3, 7, 3, 8, 1, 8, 5, ...   \n",
       "142511   [3, 2, 1, 8, 6, 9, 3, 9, 6, 9, 5, 8, 4, 8, 9, ...   \n",
       "1704541  [2, 2, 4, 6, 7, 2, 8, 7, 3, 7, 4, 2, 2, 7, 1, ...   \n",
       "325117   [2, 2, 4, 6, 7, 2, 8, 7, 3, 7, 3, 5, 3, 7, 1, ...   \n",
       "\n",
       "         target_gene_encoded_len  drug_fingerprint_encoded_len  mismatch  \\\n",
       "0                           1221                           547       674   \n",
       "1                           2466                           547      1919   \n",
       "2                           2160                           547      1613   \n",
       "3                           2058                           547      1511   \n",
       "4                           2196                           547      1649   \n",
       "...                          ...                           ...       ...   \n",
       "1517987                      702                           571       131   \n",
       "237808                      2076                           735      1341   \n",
       "142511                      2325                           212      2113   \n",
       "1704541                      702                           427       275   \n",
       "325117                      1392                           326      1066   \n",
       "\n",
       "         target_gene_encoded_mismatch  drug_fingerprint_encoded_mismatch  \\\n",
       "0                               20001                               8954   \n",
       "1                               18756                               8954   \n",
       "2                               19062                               8954   \n",
       "3                               19164                               8954   \n",
       "4                               19026                               8954   \n",
       "...                               ...                                ...   \n",
       "1517987                         20520                               8930   \n",
       "237808                          19146                               8766   \n",
       "142511                          18897                               9289   \n",
       "1704541                         20520                               9074   \n",
       "325117                          19830                               9175   \n",
       "\n",
       "                                target_gene_encoded_padded  \\\n",
       "0        [-1, -1, -1, -1, -1, -1, -1, -1, -1, -1, -1, -...   \n",
       "1        [-1, -1, -1, -1, -1, -1, -1, -1, -1, -1, -1, -...   \n",
       "2        [-1, -1, -1, -1, -1, -1, -1, -1, -1, -1, -1, -...   \n",
       "3        [-1, -1, -1, -1, -1, -1, -1, -1, -1, -1, -1, -...   \n",
       "4        [-1, -1, -1, -1, -1, -1, -1, -1, -1, -1, -1, -...   \n",
       "...                                                    ...   \n",
       "1517987  [-1, -1, -1, -1, -1, -1, -1, -1, -1, -1, -1, -...   \n",
       "237808   [-1, -1, -1, -1, -1, -1, -1, -1, -1, -1, -1, -...   \n",
       "142511   [-1, -1, -1, -1, -1, -1, -1, -1, -1, -1, -1, -...   \n",
       "1704541  [-1, -1, -1, -1, -1, -1, -1, -1, -1, -1, -1, -...   \n",
       "325117   [-1, -1, -1, -1, -1, -1, -1, -1, -1, -1, -1, -...   \n",
       "\n",
       "                           drug_fingerprint_encoded_padded  \n",
       "0        [-1, -1, -1, -1, -1, -1, -1, -1, -1, -1, -1, -...  \n",
       "1        [-1, -1, -1, -1, -1, -1, -1, -1, -1, -1, -1, -...  \n",
       "2        [-1, -1, -1, -1, -1, -1, -1, -1, -1, -1, -1, -...  \n",
       "3        [-1, -1, -1, -1, -1, -1, -1, -1, -1, -1, -1, -...  \n",
       "4        [-1, -1, -1, -1, -1, -1, -1, -1, -1, -1, -1, -...  \n",
       "...                                                    ...  \n",
       "1517987  [-1, -1, -1, -1, -1, -1, -1, -1, -1, -1, -1, -...  \n",
       "237808   [-1, -1, -1, -1, -1, -1, -1, -1, -1, -1, -1, -...  \n",
       "142511   [-1, -1, -1, -1, -1, -1, -1, -1, -1, -1, -1, -...  \n",
       "1704541  [-1, -1, -1, -1, -1, -1, -1, -1, -1, -1, -1, -...  \n",
       "325117   [-1, -1, -1, -1, -1, -1, -1, -1, -1, -1, -1, -...  \n",
       "\n",
       "[35183 rows x 14 columns]"
      ]
     },
     "execution_count": 116,
     "metadata": {},
     "output_type": "execute_result"
    }
   ],
   "source": [
    "drugbank"
   ]
  },
  {
   "cell_type": "code",
   "execution_count": 76,
   "metadata": {},
   "outputs": [
    {
     "data": {
      "text/plain": [
       "<matplotlib.axes._subplots.AxesSubplot at 0x7f41990f7a20>"
      ]
     },
     "execution_count": 76,
     "metadata": {},
     "output_type": "execute_result"
    },
    {
     "data": {
      "image/png": "[encoded data removed]",
      "text/plain": [
       "<Figure size 432x288 with 1 Axes>"
      ]
     },
     "metadata": {
      "needs_background": "light"
     },
     "output_type": "display_data"
    }
   ],
   "source": [
    "test_df['Y'].hist()"
   ]
  },
  {
   "cell_type": "code",
   "execution_count": 127,
   "metadata": {},
   "outputs": [
    {
     "name": "stdout",
     "output_type": "stream",
     "text": [
      "CPU times: user 15min 38s, sys: 17.4 s, total: 15min 55s\n",
      "Wall time: 15min 43s\n"
     ]
    }
   ],
   "source": [
    "%%time\n",
    "X_0 = np.array(list(drugbank['target_gene_encoded_padded'])).astype(int) + 1\n",
    "X_1 = np.array(list(drugbank['drug_fingerprint_encoded_padded'])).astype(int) + 1\n",
    "Y   = np.array(list(drugbank['Y'])).astype(int)"
   ]
  },
  {
   "cell_type": "code",
   "execution_count": 128,
   "metadata": {},
   "outputs": [],
   "source": [
    "X_final = np.hstack((X_0, X_1))\n",
    "#X_0_test = np.hstack((X_0_test, X_1_test))"
   ]
  },
  {
   "cell_type": "code",
   "execution_count": 129,
   "metadata": {},
   "outputs": [],
   "source": [
    "target_length = 30723\n",
    "\n",
    "X_final = X_final[:, (int(X_final.shape[1]/2) - int(target_length/2)):(int(X_final.shape[1]/2) + int(target_length/2)) + 1]"
   ]
  },
  {
   "cell_type": "code",
   "execution_count": 130,
   "metadata": {},
   "outputs": [],
   "source": [
    "from tensorflow import keras\n",
    "\n",
    "use_model = keras.models.load_model('models/CNN_GPU_VGG_rebalance.model')"
   ]
  },
  {
   "cell_type": "code",
   "execution_count": 138,
   "metadata": {},
   "outputs": [
    {
     "data": {
      "application/vnd.jupyter.widget-view+json": {
       "model_id": "666e8a486eee405c8d61f74b6a7d0e52",
       "version_major": 2,
       "version_minor": 0
      },
      "text/plain": [
       "HBox(children=(FloatProgress(value=0.0, max=5000.0), HTML(value='')))"
      ]
     },
     "metadata": {},
     "output_type": "display_data"
    },
    {
     "name": "stdout",
     "output_type": "stream",
     "text": [
      "\n"
     ]
    },
    {
     "ename": "AttributeError",
     "evalue": "'list' object has no attribute 'ravel'",
     "output_type": "error",
     "traceback": [
      "\u001b[0;31m---------------------------------------------------------------------------\u001b[0m",
      "\u001b[0;31mAttributeError\u001b[0m                            Traceback (most recent call last)",
      "\u001b[0;32m<ipython-input-138-d4d30ea4db36>\u001b[0m in \u001b[0;36m<module>\u001b[0;34m\u001b[0m\n\u001b[1;32m      6\u001b[0m     \u001b[0mY_predicted\u001b[0m\u001b[0;34m.\u001b[0m\u001b[0mextend\u001b[0m\u001b[0;34m(\u001b[0m\u001b[0muse_model\u001b[0m\u001b[0;34m.\u001b[0m\u001b[0mpredict\u001b[0m\u001b[0;34m(\u001b[0m\u001b[0mX_0_chunck\u001b[0m\u001b[0;34m[\u001b[0m\u001b[0;34m...\u001b[0m\u001b[0;34m,\u001b[0m \u001b[0mnp\u001b[0m\u001b[0;34m.\u001b[0m\u001b[0mnewaxis\u001b[0m\u001b[0;34m]\u001b[0m\u001b[0;34m)\u001b[0m\u001b[0;34m)\u001b[0m\u001b[0;34m\u001b[0m\u001b[0m\n\u001b[1;32m      7\u001b[0m \u001b[0;34m\u001b[0m\u001b[0m\n\u001b[0;32m----> 8\u001b[0;31m \u001b[0mY_predicted\u001b[0m \u001b[0;34m=\u001b[0m \u001b[0mY_predicted\u001b[0m\u001b[0;34m.\u001b[0m\u001b[0mravel\u001b[0m\u001b[0;34m(\u001b[0m\u001b[0;34m)\u001b[0m\u001b[0;34m\u001b[0m\u001b[0m\n\u001b[0m",
      "\u001b[0;31mAttributeError\u001b[0m: 'list' object has no attribute 'ravel'"
     ]
    }
   ],
   "source": [
    "Y_predicted = []\n",
    "\n",
    "for X_0_chunck in tqdm(np.array_split(X_final,5000)): \n",
    "    \n",
    "    #print(X_sub.shape)\n",
    "    Y_predicted.extend(use_model.predict(X_0_chunck[..., np.newaxis]))\n",
    "    "
   ]
  },
  {
   "cell_type": "code",
   "execution_count": 141,
   "metadata": {},
   "outputs": [],
   "source": [
    "Y_predicted = np.array(Y_predicted).ravel()"
   ]
  },
  {
   "cell_type": "code",
   "execution_count": 142,
   "metadata": {},
   "outputs": [
    {
     "data": {
      "text/plain": [
       "array([9.92322147e-01, 9.76884067e-01, 6.49039298e-02, ...,\n",
       "       1.22324382e-05, 7.20353186e-01, 1.16940625e-02], dtype=float32)"
      ]
     },
     "execution_count": 142,
     "metadata": {},
     "output_type": "execute_result"
    }
   ],
   "source": [
    "Y_predicted"
   ]
  },
  {
   "cell_type": "code",
   "execution_count": 147,
   "metadata": {},
   "outputs": [
    {
     "name": "stdout",
     "output_type": "stream",
     "text": [
      "roc_auc_score:  0.7996401393652749\n"
     ]
    },
    {
     "data": {
      "image/png": "[encoded data removed]",
      "text/plain": [
       "<Figure size 432x288 with 1 Axes>"
      ]
     },
     "metadata": {
      "needs_background": "light"
     },
     "output_type": "display_data"
    }
   ],
   "source": [
    "false_positive_rate, true_positive_rate, threshold = roc_curve(Y, Y_predicted)\n",
    "print('roc_auc_score: ', roc_auc_score(Y, Y_predicted))\n",
    "import matplotlib.pyplot as plt\n",
    "plt.plot(false_positive_rate, true_positive_rate)\n",
    "plt.xlabel('FPR')\n",
    "plt.ylabel('TPR')\n",
    "plt.show()"
   ]
  },
  {
   "cell_type": "code",
   "execution_count": 53,
   "metadata": {},
   "outputs": [
    {
     "data": {
      "text/plain": [
       "(26386, 2649)"
      ]
     },
     "execution_count": 53,
     "metadata": {},
     "output_type": "execute_result"
    }
   ],
   "source": [
    "X_0.shape"
   ]
  },
  {
   "cell_type": "code",
   "execution_count": 54,
   "metadata": {},
   "outputs": [
    {
     "data": {
      "text/plain": [
       "(8796, 2649)"
      ]
     },
     "execution_count": 54,
     "metadata": {},
     "output_type": "execute_result"
    }
   ],
   "source": [
    "X_0_test.shape"
   ]
  },
  {
   "cell_type": "code",
   "execution_count": 55,
   "metadata": {},
   "outputs": [],
   "source": [
    "del drugbank, drugbank_test, drugbank_reader"
   ]
  },
  {
   "cell_type": "code",
   "execution_count": 25,
   "metadata": {},
   "outputs": [
    {
     "data": {
      "text/plain": [
       "(26390, 21222)"
      ]
     },
     "execution_count": 25,
     "metadata": {},
     "output_type": "execute_result"
    }
   ],
   "source": [
    "X_0.shape"
   ]
  },
  {
   "cell_type": "code",
   "execution_count": 73,
   "metadata": {
    "scrolled": false
   },
   "outputs": [
    {
     "name": "stdout",
     "output_type": "stream",
     "text": [
      "Train on 8796 samples, validate on 8796 samples\n",
      "Epoch 1/3\n",
      "8796/8796 [==============================] - 31s 4ms/step - loss: 6.3449 - binary_accuracy: 0.5983 - val_loss: 6.4740 - val_binary_accuracy: 0.5983\n",
      "Epoch 2/3\n",
      "8796/8796 [==============================] - 28s 3ms/step - loss: 6.4740 - binary_accuracy: 0.5983 - val_loss: 6.4740 - val_binary_accuracy: 0.5983\n",
      "Epoch 3/3\n",
      "8796/8796 [==============================] - 27s 3ms/step - loss: 6.4740 - binary_accuracy: 0.5983 - val_loss: 6.4740 - val_binary_accuracy: 0.5983\n"
     ]
    },
    {
     "data": {
      "text/plain": [
       "<tensorflow.python.keras.callbacks.History at 0x7f4199ab5c18>"
      ]
     },
     "execution_count": 73,
     "metadata": {},
     "output_type": "execute_result"
    }
   ],
   "source": [
    "hidden_dims = 256\n",
    "hidden_dims_2 = 256\n",
    "hidden_dims_3 = 128\n",
    "batch_size = 200\n",
    "epochs = 3\n",
    "model_optimizer = tensorflow.keras.optimizers.Nadam(lr=0.1, beta_1=0.8, beta_2=0.999)\n",
    "\n",
    "model = Sequential()\n",
    "\n",
    "#model.add(Dropout(0.2))\n",
    "model.add(Conv1D(50000,\n",
    "                 20,\n",
    "                 strides=1,\n",
    "                 activation='sigmoid'))\n",
    "\n",
    "\n",
    "model.add(GlobalAveragePooling1D())\n",
    "\n",
    "model.add(Dense(hidden_dims))\n",
    "model.add(Dropout(0.0))\n",
    "model.add(Activation('relu'))\n",
    "\n",
    "model.add(GaussianNoise(hidden_dims))\n",
    "model.add(Dropout(0.0))\n",
    "model.add(Activation('relu'))\n",
    "\n",
    "model.add(Dense(hidden_dims_2))\n",
    "model.add(Dropout(0.1))\n",
    "model.add(Activation('relu'))\n",
    "\n",
    "model.add(Dense(hidden_dims_3))\n",
    "model.add(Dropout(0.0))\n",
    "model.add(Activation('relu'))\n",
    "\n",
    "model.add(Dense(1))\n",
    "model.add(Activation('sigmoid'))\n",
    "\n",
    "model.compile(loss='binary_crossentropy',\n",
    "              optimizer=model_optimizer,\n",
    "              metrics=['binary_accuracy'])\n",
    "\n",
    "\n",
    "\n",
    "\n",
    "model.fit(X_0_test[..., np.newaxis], Y_test,\n",
    "          batch_size=batch_size,\n",
    "          epochs=epochs,\n",
    "          validation_data=(X_0_test[..., np.newaxis], Y_test))\n",
    "\n"
   ]
  },
  {
   "cell_type": "code",
   "execution_count": 58,
   "metadata": {},
   "outputs": [],
   "source": [
    "model.save('data/models/pure_cnn_gene_only_TF1p6.model')"
   ]
  },
  {
   "cell_type": "code",
   "execution_count": 61,
   "metadata": {},
   "outputs": [],
   "source": [
    "Y_pred = model.predict(X_0_test[..., np.newaxis])"
   ]
  },
  {
   "cell_type": "code",
   "execution_count": 63,
   "metadata": {},
   "outputs": [],
   "source": [
    "Y_pred = [1 if i > 0.5 else 0 for i in Y_pred]"
   ]
  },
  {
   "cell_type": "code",
   "execution_count": 64,
   "metadata": {},
   "outputs": [],
   "source": [
    "tn, fp, fn, tp = confusion_matrix(Y_test, Y_pred).ravel()\n",
    "cm = confusion_matrix(Y_test, Y_pred)"
   ]
  },
  {
   "cell_type": "code",
   "execution_count": 65,
   "metadata": {},
   "outputs": [],
   "source": [
    "def plot_confusion_matrix(y_true, y_pred, classes,\n",
    "                          normalize=False,\n",
    "                          title=None,\n",
    "                          cmap=plt.cm.Blues):\n",
    "    \"\"\"\n",
    "    This function prints and plots the confusion matrix.\n",
    "    Normalization can be applied by setting `normalize=True`.\n",
    "    \n",
    "    NOTE: Taken from sklearn example\n",
    "    \"\"\"\n",
    "    if not title:\n",
    "        if normalize:\n",
    "            title = 'Normalized confusion matrix'\n",
    "        else:\n",
    "            title = 'Confusion matrix, without normalization'\n",
    "\n",
    "    # Compute confusion matrix\n",
    "    cm = confusion_matrix(y_true, y_pred)\n",
    "    # Only use the labels that appear in the data\n",
    "    classes = [0,1]\n",
    "    if normalize:\n",
    "        cm = cm.astype('float') / cm.sum(axis=1)[:, np.newaxis]\n",
    "        print(\"Normalized confusion matrix\")\n",
    "    else:\n",
    "        print('Confusion matrix, without normalization')\n",
    "\n",
    "    print(cm)\n",
    "\n",
    "    fig, ax = plt.subplots()\n",
    "    im = ax.imshow(cm, interpolation='nearest', cmap=cmap)\n",
    "    ax.figure.colorbar(im, ax=ax)\n",
    "    # We want to show all ticks...\n",
    "    ax.set(xticks=np.arange(cm.shape[1]),\n",
    "           yticks=np.arange(cm.shape[0]),\n",
    "           # ... and label them with the respective list entries\n",
    "           xticklabels=classes, yticklabels=classes,\n",
    "           title=title,\n",
    "           ylabel='True label',\n",
    "           xlabel='Predicted label')\n",
    "\n",
    "    # Rotate the tick labels and set their alignment.\n",
    "    plt.setp(ax.get_xticklabels(), rotation=45, ha=\"right\",\n",
    "             rotation_mode=\"anchor\")\n",
    "\n",
    "    # Loop over data dimensions and create text annotations.\n",
    "    fmt = '.2f' if normalize else 'd'\n",
    "    thresh = cm.max() / 2.\n",
    "    for i in range(cm.shape[0]):\n",
    "        for j in range(cm.shape[1]):\n",
    "            ax.text(j, i, format(cm[i, j], fmt),\n",
    "                    ha=\"center\", va=\"center\",\n",
    "                    color=\"white\" if cm[i, j] > thresh else \"black\")\n",
    "    fig.tight_layout()\n",
    "    return ax"
   ]
  },
  {
   "cell_type": "code",
   "execution_count": 66,
   "metadata": {},
   "outputs": [
    {
     "name": "stdout",
     "output_type": "stream",
     "text": [
      "Confusion matrix, without normalization\n",
      "[[3482  188]\n",
      " [ 803 3027]]\n",
      "Normalized confusion matrix\n",
      "[[0.94877384 0.05122616]\n",
      " [0.20966057 0.79033943]]\n"
     ]
    },
    {
     "data": {
      "image/png": "[encoded data removed]",
      "text/plain": [
       "<Figure size 432x288 with 2 Axes>"
      ]
     },
     "metadata": {},
     "output_type": "display_data"
    },
    {
     "data": {
      "image/png": "[encoded data removed]",
      "text/plain": [
       "<Figure size 432x288 with 2 Axes>"
      ]
     },
     "metadata": {},
     "output_type": "display_data"
    }
   ],
   "source": [
    "# Plot non-normalized confusion matrix\n",
    "plot_confusion_matrix(Y_test, Y_pred, classes=[0, 1],\n",
    "                      title='Confusion matrix, without normalization')\n",
    "\n",
    "# Plot normalized confusion matrix\n",
    "plot_confusion_matrix(Y_test, Y_pred, classes=[0, 1], normalize=True,\n",
    "                      title='Normalized confusion matrix')\n",
    "\n",
    "plt.show()"
   ]
  },
  {
   "cell_type": "code",
   "execution_count": 67,
   "metadata": {},
   "outputs": [
    {
     "data": {
      "text/plain": [
       "0.8593328601845281"
      ]
     },
     "execution_count": 67,
     "metadata": {},
     "output_type": "execute_result"
    }
   ],
   "source": [
    "f1_score(Y_test, Y_pred)"
   ]
  },
  {
   "cell_type": "markdown",
   "metadata": {},
   "source": [
    "## CNN in Chunks"
   ]
  },
  {
   "cell_type": "code",
   "execution_count": 47,
   "metadata": {},
   "outputs": [],
   "source": [
    "from IPython.display import clear_output\n",
    "class PlotLosses(tensorflow.keras.callbacks.Callback):\n",
    "    def on_train_begin(self, logs={}):\n",
    "        self.i = 0\n",
    "        self.x = []\n",
    "        self.losses = []\n",
    "        self.val_losses = []\n",
    "        \n",
    "        self.fig = plt.figure()\n",
    "        \n",
    "        self.logs = []\n",
    "\n",
    "    def on_epoch_end(self, epoch, logs={}):\n",
    "        \n",
    "        self.logs.append(logs)\n",
    "        self.x.append(self.i)\n",
    "        self.losses.append(logs.get('loss'))\n",
    "        self.val_losses.append(logs.get('val_loss'))\n",
    "        self.i += 1\n",
    "        \n",
    "        clear_output(wait=True)\n",
    "        plt.plot(self.x, self.losses, label=\"loss\")\n",
    "        plt.plot(self.x, self.val_losses, label=\"val_loss\")\n",
    "        plt.legend()\n",
    "        plt.show()\n",
    "        \n",
    "        plt.plot(range(len(global_history)), global_history, label = 'Accuracy - Global')\n",
    "        plt.plot(range(len(global_val_history)), global_val_history, label = 'Accuracy - Global - Va;')\n",
    "        plt.legend()\n",
    "        plt.show()\n",
    "        \n",
    "plot_losses = PlotLosses()"
   ]
  },
  {
   "cell_type": "code",
   "execution_count": 49,
   "metadata": {},
   "outputs": [],
   "source": [
    "drugbank_reader = pd.read_csv('data/intermediate/interactions_preprocessed.csv', chunksize = 1000, iterator = True, converters={\"target_gene_encoded_padded\": \\\n",
    "                                                                                     lambda x: np.array(x.strip(\"[]\").replace(\"'\",\"\").split(\", \")),\n",
    "                                                                                    \"drug_fingerprint_encoded_padded\": \\\n",
    "                                                                                    lambda x: np.array(x.strip(\"[]\").replace(\"'\",\"\").split(\", \"))})\n",
    "\n",
    "drugbank = drugbank_reader.__next__()\n",
    "\n"
   ]
  },
  {
   "cell_type": "code",
   "execution_count": 63,
   "metadata": {},
   "outputs": [
    {
     "data": {
      "text/html": [
       "<div>\n",
       "<style scoped>\n",
       "    .dataframe tbody tr th:only-of-type {\n",
       "        vertical-align: middle;\n",
       "    }\n",
       "\n",
       "    .dataframe tbody tr th {\n",
       "        vertical-align: top;\n",
       "    }\n",
       "\n",
       "    .dataframe thead th {\n",
       "        text-align: right;\n",
       "    }\n",
       "</style>\n",
       "<table border=\"1\" class=\"dataframe\">\n",
       "  <thead>\n",
       "    <tr style=\"text-align: right;\">\n",
       "      <th></th>\n",
       "      <th>drug_id</th>\n",
       "      <th>gene_id</th>\n",
       "      <th>drug_fingerprint_code</th>\n",
       "      <th>target_gene_code</th>\n",
       "      <th>Y</th>\n",
       "      <th>target_gene_encoded</th>\n",
       "      <th>drug_fingerprint_encoded</th>\n",
       "      <th>target_gene_encoded_len</th>\n",
       "      <th>drug_fingerprint_encoded_len</th>\n",
       "      <th>mismatch</th>\n",
       "      <th>target_gene_encoded_mismatch</th>\n",
       "      <th>drug_fingerprint_encoded_mismatch</th>\n",
       "      <th>target_gene_encoded_padded</th>\n",
       "      <th>drug_fingerprint_encoded_padded</th>\n",
       "    </tr>\n",
       "  </thead>\n",
       "  <tbody>\n",
       "    <tr>\n",
       "      <th>0</th>\n",
       "      <td>DB02704</td>\n",
       "      <td>BE0004010</td>\n",
       "      <td>2968968094 1824088295 2976033787 1228528465 29...</td>\n",
       "      <td>ATGCATTTAAATCCAGCAGAGAAAGAAAAATTACAAATTTTTCTAG...</td>\n",
       "      <td>0</td>\n",
       "      <td>[0 3 2 1 0 3 3 3 0 0 0 3 1 1 0 2 1 0 2 0 2 0 0...</td>\n",
       "      <td>[2, 9, 6, 8, 9, 6, 8, 0, 9, 4, 1, 8, 2, 4, 0, ...</td>\n",
       "      <td>303</td>\n",
       "      <td>916</td>\n",
       "      <td>-613</td>\n",
       "      <td>20919</td>\n",
       "      <td>8585</td>\n",
       "      <td>[-1, -1, -1, -1, -1, -1, -1, -1, -1, -1, -1, -...</td>\n",
       "      <td>[-1, -1, -1, -1, -1, -1, -1, -1, -1, -1, -1, -...</td>\n",
       "    </tr>\n",
       "    <tr>\n",
       "      <th>1</th>\n",
       "      <td>DB06684</td>\n",
       "      <td>BE0001790</td>\n",
       "      <td>2968968094 2803848648 2968968094 2803848648 20...</td>\n",
       "      <td>ATGGAAATTAATGTGAGTAAATTAAGAACAGATTTGCCTCAAGTCG...</td>\n",
       "      <td>0</td>\n",
       "      <td>[0 3 2 2 0 0 0 3 3 0 0 3 2 3 2 0 2 3 0 0 0 3 3...</td>\n",
       "      <td>[2, 9, 6, 8, 9, 6, 8, 0, 9, 4, 2, 8, 0, 3, 8, ...</td>\n",
       "      <td>957</td>\n",
       "      <td>644</td>\n",
       "      <td>313</td>\n",
       "      <td>20265</td>\n",
       "      <td>8857</td>\n",
       "      <td>[-1, -1, -1, -1, -1, -1, -1, -1, -1, -1, -1, -...</td>\n",
       "      <td>[-1, -1, -1, -1, -1, -1, -1, -1, -1, -1, -1, -...</td>\n",
       "    </tr>\n",
       "    <tr>\n",
       "      <th>2</th>\n",
       "      <td>DB03811</td>\n",
       "      <td>BE0001167</td>\n",
       "      <td>3218693969 3777168895 3217380708 3585958780 21...</td>\n",
       "      <td>ATGCCAAACTACAAACTCACTTATTTTAATATGAGGGGGAGAGCAG...</td>\n",
       "      <td>0</td>\n",
       "      <td>[0 3 2 1 1 0 0 0 1 3 0 1 0 0 0 1 3 1 0 1 3 3 0...</td>\n",
       "      <td>[3, 2, 1, 8, 6, 9, 3, 9, 6, 9, 3, 7, 7, 7, 1, ...</td>\n",
       "      <td>600</td>\n",
       "      <td>195</td>\n",
       "      <td>405</td>\n",
       "      <td>20622</td>\n",
       "      <td>9306</td>\n",
       "      <td>[-1, -1, -1, -1, -1, -1, -1, -1, -1, -1, -1, -...</td>\n",
       "      <td>[-1, -1, -1, -1, -1, -1, -1, -1, -1, -1, -1, -...</td>\n",
       "    </tr>\n",
       "    <tr>\n",
       "      <th>3</th>\n",
       "      <td>DB02095</td>\n",
       "      <td>BE0004952</td>\n",
       "      <td>3218693969 98513984 3218693969 98513984 321869...</td>\n",
       "      <td>ATGATCATCTTAATTTACTTATTTCTCTTGCTATGGGAAGACACTC...</td>\n",
       "      <td>0</td>\n",
       "      <td>[0 3 2 0 3 1 0 3 1 3 3 0 0 3 3 3 0 1 3 3 0 3 3...</td>\n",
       "      <td>[3, 2, 1, 8, 6, 9, 3, 9, 6, 9, 9, 8, 5, 1, 3, ...</td>\n",
       "      <td>834</td>\n",
       "      <td>207</td>\n",
       "      <td>627</td>\n",
       "      <td>20388</td>\n",
       "      <td>9294</td>\n",
       "      <td>[-1, -1, -1, -1, -1, -1, -1, -1, -1, -1, -1, -...</td>\n",
       "      <td>[-1, -1, -1, -1, -1, -1, -1, -1, -1, -1, -1, -...</td>\n",
       "    </tr>\n",
       "    <tr>\n",
       "      <th>4</th>\n",
       "      <td>DB03698</td>\n",
       "      <td>BE0002359</td>\n",
       "      <td>2246728737 3542456614 2245384272 1173125914 22...</td>\n",
       "      <td>ATGATGATGATGATGATGATGAAAAAAATGCAGCATCAACGGCAGC...</td>\n",
       "      <td>0</td>\n",
       "      <td>[0 3 2 ... 3 0 2]</td>\n",
       "      <td>[2, 2, 4, 6, 7, 2, 8, 7, 3, 7, 3, 5, 4, 2, 4, ...</td>\n",
       "      <td>6546</td>\n",
       "      <td>1216</td>\n",
       "      <td>5330</td>\n",
       "      <td>14676</td>\n",
       "      <td>8285</td>\n",
       "      <td>[-1, -1, -1, -1, -1, -1, -1, -1, -1, -1, -1, -...</td>\n",
       "      <td>[-1, -1, -1, -1, -1, -1, -1, -1, -1, -1, -1, -...</td>\n",
       "    </tr>\n",
       "    <tr>\n",
       "      <th>...</th>\n",
       "      <td>...</td>\n",
       "      <td>...</td>\n",
       "      <td>...</td>\n",
       "      <td>...</td>\n",
       "      <td>...</td>\n",
       "      <td>...</td>\n",
       "      <td>...</td>\n",
       "      <td>...</td>\n",
       "      <td>...</td>\n",
       "      <td>...</td>\n",
       "      <td>...</td>\n",
       "      <td>...</td>\n",
       "      <td>...</td>\n",
       "      <td>...</td>\n",
       "    </tr>\n",
       "    <tr>\n",
       "      <th>995</th>\n",
       "      <td>DB00114</td>\n",
       "      <td>BE0001635</td>\n",
       "      <td>2246728737 422715066 3217380708 4033380444 204...</td>\n",
       "      <td>ATGAAGCTTTTAATTACCGGTGGATGTGGCTTCCTTGGGAGTAATC...</td>\n",
       "      <td>0</td>\n",
       "      <td>[0 3 2 ... 3 2 0]</td>\n",
       "      <td>[2, 2, 4, 6, 7, 2, 8, 7, 3, 7, 4, 2, 2, 7, 1, ...</td>\n",
       "      <td>1017</td>\n",
       "      <td>309</td>\n",
       "      <td>708</td>\n",
       "      <td>20205</td>\n",
       "      <td>9192</td>\n",
       "      <td>[-1, -1, -1, -1, -1, -1, -1, -1, -1, -1, -1, -...</td>\n",
       "      <td>[-1, -1, -1, -1, -1, -1, -1, -1, -1, -1, -1, -...</td>\n",
       "    </tr>\n",
       "    <tr>\n",
       "      <th>996</th>\n",
       "      <td>DB04125</td>\n",
       "      <td>BE0000647</td>\n",
       "      <td>2246728737 3545365497 2246699815 2834566420 86...</td>\n",
       "      <td>ATGAGTAAGAGCAAATGCTCCGTGGGACTCATGTCTTCCGTGGTGG...</td>\n",
       "      <td>0</td>\n",
       "      <td>[0 3 2 ... 3 0 2]</td>\n",
       "      <td>[2, 2, 4, 6, 7, 2, 8, 7, 3, 7, 3, 5, 4, 5, 3, ...</td>\n",
       "      <td>1863</td>\n",
       "      <td>693</td>\n",
       "      <td>1170</td>\n",
       "      <td>19359</td>\n",
       "      <td>8808</td>\n",
       "      <td>[-1, -1, -1, -1, -1, -1, -1, -1, -1, -1, -1, -...</td>\n",
       "      <td>[-1, -1, -1, -1, -1, -1, -1, -1, -1, -1, -1, -...</td>\n",
       "    </tr>\n",
       "    <tr>\n",
       "      <th>997</th>\n",
       "      <td>DB07090</td>\n",
       "      <td>BE0000339</td>\n",
       "      <td>2246728737 422715066 3217380708 3120642300 321...</td>\n",
       "      <td>ATGGTGATCCAGAAGTACATGCCTGGGGGCCTGTGTGGCTATGACC...</td>\n",
       "      <td>0</td>\n",
       "      <td>[0 3 2 2 3 2 0 3 1 1 0 2 0 0 2 3 0 1 0 3 2 1 1...</td>\n",
       "      <td>[2, 2, 4, 6, 7, 2, 8, 7, 3, 7, 4, 2, 2, 7, 1, ...</td>\n",
       "      <td>972</td>\n",
       "      <td>450</td>\n",
       "      <td>522</td>\n",
       "      <td>20250</td>\n",
       "      <td>9051</td>\n",
       "      <td>[-1, -1, -1, -1, -1, -1, -1, -1, -1, -1, -1, -...</td>\n",
       "      <td>[-1, -1, -1, -1, -1, -1, -1, -1, -1, -1, -1, -...</td>\n",
       "    </tr>\n",
       "    <tr>\n",
       "      <th>998</th>\n",
       "      <td>DB07967</td>\n",
       "      <td>BE0001390</td>\n",
       "      <td>2968968094 2142032900 2968968094 2142032900 29...</td>\n",
       "      <td>ATGAGAATTGCGGTGATAGGTGGGGGAAGCAGCTACACCCCGGAGC...</td>\n",
       "      <td>0</td>\n",
       "      <td>[0 3 2 ... 3 2 0]</td>\n",
       "      <td>[2, 9, 6, 8, 9, 6, 8, 0, 9, 4, 2, 1, 4, 2, 0, ...</td>\n",
       "      <td>1248</td>\n",
       "      <td>623</td>\n",
       "      <td>625</td>\n",
       "      <td>19974</td>\n",
       "      <td>8878</td>\n",
       "      <td>[-1, -1, -1, -1, -1, -1, -1, -1, -1, -1, -1, -...</td>\n",
       "      <td>[-1, -1, -1, -1, -1, -1, -1, -1, -1, -1, -1, -...</td>\n",
       "    </tr>\n",
       "    <tr>\n",
       "      <th>999</th>\n",
       "      <td>DB07296</td>\n",
       "      <td>BE0001506</td>\n",
       "      <td>3218693969 98513984 3218693969 98513984 321869...</td>\n",
       "      <td>ATGTCCCTGAACGACGATGCAACCTTCTGGCGCAACGCCAGGCAGC...</td>\n",
       "      <td>0</td>\n",
       "      <td>[0 3 2 ... 3 0 0]</td>\n",
       "      <td>[3, 2, 1, 8, 6, 9, 3, 9, 6, 9, 9, 8, 5, 1, 3, ...</td>\n",
       "      <td>1302</td>\n",
       "      <td>480</td>\n",
       "      <td>822</td>\n",
       "      <td>19920</td>\n",
       "      <td>9021</td>\n",
       "      <td>[-1, -1, -1, -1, -1, -1, -1, -1, -1, -1, -1, -...</td>\n",
       "      <td>[-1, -1, -1, -1, -1, -1, -1, -1, -1, -1, -1, -...</td>\n",
       "    </tr>\n",
       "  </tbody>\n",
       "</table>\n",
       "<p>1000 rows × 14 columns</p>\n",
       "</div>"
      ],
      "text/plain": [
       "     drug_id    gene_id                              drug_fingerprint_code  \\\n",
       "0    DB02704  BE0004010  2968968094 1824088295 2976033787 1228528465 29...   \n",
       "1    DB06684  BE0001790  2968968094 2803848648 2968968094 2803848648 20...   \n",
       "2    DB03811  BE0001167  3218693969 3777168895 3217380708 3585958780 21...   \n",
       "3    DB02095  BE0004952  3218693969 98513984 3218693969 98513984 321869...   \n",
       "4    DB03698  BE0002359  2246728737 3542456614 2245384272 1173125914 22...   \n",
       "..       ...        ...                                                ...   \n",
       "995  DB00114  BE0001635  2246728737 422715066 3217380708 4033380444 204...   \n",
       "996  DB04125  BE0000647  2246728737 3545365497 2246699815 2834566420 86...   \n",
       "997  DB07090  BE0000339  2246728737 422715066 3217380708 3120642300 321...   \n",
       "998  DB07967  BE0001390  2968968094 2142032900 2968968094 2142032900 29...   \n",
       "999  DB07296  BE0001506  3218693969 98513984 3218693969 98513984 321869...   \n",
       "\n",
       "                                      target_gene_code  Y  \\\n",
       "0    ATGCATTTAAATCCAGCAGAGAAAGAAAAATTACAAATTTTTCTAG...  0   \n",
       "1    ATGGAAATTAATGTGAGTAAATTAAGAACAGATTTGCCTCAAGTCG...  0   \n",
       "2    ATGCCAAACTACAAACTCACTTATTTTAATATGAGGGGGAGAGCAG...  0   \n",
       "3    ATGATCATCTTAATTTACTTATTTCTCTTGCTATGGGAAGACACTC...  0   \n",
       "4    ATGATGATGATGATGATGATGAAAAAAATGCAGCATCAACGGCAGC...  0   \n",
       "..                                                 ... ..   \n",
       "995  ATGAAGCTTTTAATTACCGGTGGATGTGGCTTCCTTGGGAGTAATC...  0   \n",
       "996  ATGAGTAAGAGCAAATGCTCCGTGGGACTCATGTCTTCCGTGGTGG...  0   \n",
       "997  ATGGTGATCCAGAAGTACATGCCTGGGGGCCTGTGTGGCTATGACC...  0   \n",
       "998  ATGAGAATTGCGGTGATAGGTGGGGGAAGCAGCTACACCCCGGAGC...  0   \n",
       "999  ATGTCCCTGAACGACGATGCAACCTTCTGGCGCAACGCCAGGCAGC...  0   \n",
       "\n",
       "                                   target_gene_encoded  \\\n",
       "0    [0 3 2 1 0 3 3 3 0 0 0 3 1 1 0 2 1 0 2 0 2 0 0...   \n",
       "1    [0 3 2 2 0 0 0 3 3 0 0 3 2 3 2 0 2 3 0 0 0 3 3...   \n",
       "2    [0 3 2 1 1 0 0 0 1 3 0 1 0 0 0 1 3 1 0 1 3 3 0...   \n",
       "3    [0 3 2 0 3 1 0 3 1 3 3 0 0 3 3 3 0 1 3 3 0 3 3...   \n",
       "4                                    [0 3 2 ... 3 0 2]   \n",
       "..                                                 ...   \n",
       "995                                  [0 3 2 ... 3 2 0]   \n",
       "996                                  [0 3 2 ... 3 0 2]   \n",
       "997  [0 3 2 2 3 2 0 3 1 1 0 2 0 0 2 3 0 1 0 3 2 1 1...   \n",
       "998                                  [0 3 2 ... 3 2 0]   \n",
       "999                                  [0 3 2 ... 3 0 0]   \n",
       "\n",
       "                              drug_fingerprint_encoded  \\\n",
       "0    [2, 9, 6, 8, 9, 6, 8, 0, 9, 4, 1, 8, 2, 4, 0, ...   \n",
       "1    [2, 9, 6, 8, 9, 6, 8, 0, 9, 4, 2, 8, 0, 3, 8, ...   \n",
       "2    [3, 2, 1, 8, 6, 9, 3, 9, 6, 9, 3, 7, 7, 7, 1, ...   \n",
       "3    [3, 2, 1, 8, 6, 9, 3, 9, 6, 9, 9, 8, 5, 1, 3, ...   \n",
       "4    [2, 2, 4, 6, 7, 2, 8, 7, 3, 7, 3, 5, 4, 2, 4, ...   \n",
       "..                                                 ...   \n",
       "995  [2, 2, 4, 6, 7, 2, 8, 7, 3, 7, 4, 2, 2, 7, 1, ...   \n",
       "996  [2, 2, 4, 6, 7, 2, 8, 7, 3, 7, 3, 5, 4, 5, 3, ...   \n",
       "997  [2, 2, 4, 6, 7, 2, 8, 7, 3, 7, 4, 2, 2, 7, 1, ...   \n",
       "998  [2, 9, 6, 8, 9, 6, 8, 0, 9, 4, 2, 1, 4, 2, 0, ...   \n",
       "999  [3, 2, 1, 8, 6, 9, 3, 9, 6, 9, 9, 8, 5, 1, 3, ...   \n",
       "\n",
       "     target_gene_encoded_len  drug_fingerprint_encoded_len  mismatch  \\\n",
       "0                        303                           916      -613   \n",
       "1                        957                           644       313   \n",
       "2                        600                           195       405   \n",
       "3                        834                           207       627   \n",
       "4                       6546                          1216      5330   \n",
       "..                       ...                           ...       ...   \n",
       "995                     1017                           309       708   \n",
       "996                     1863                           693      1170   \n",
       "997                      972                           450       522   \n",
       "998                     1248                           623       625   \n",
       "999                     1302                           480       822   \n",
       "\n",
       "     target_gene_encoded_mismatch  drug_fingerprint_encoded_mismatch  \\\n",
       "0                           20919                               8585   \n",
       "1                           20265                               8857   \n",
       "2                           20622                               9306   \n",
       "3                           20388                               9294   \n",
       "4                           14676                               8285   \n",
       "..                            ...                                ...   \n",
       "995                         20205                               9192   \n",
       "996                         19359                               8808   \n",
       "997                         20250                               9051   \n",
       "998                         19974                               8878   \n",
       "999                         19920                               9021   \n",
       "\n",
       "                            target_gene_encoded_padded  \\\n",
       "0    [-1, -1, -1, -1, -1, -1, -1, -1, -1, -1, -1, -...   \n",
       "1    [-1, -1, -1, -1, -1, -1, -1, -1, -1, -1, -1, -...   \n",
       "2    [-1, -1, -1, -1, -1, -1, -1, -1, -1, -1, -1, -...   \n",
       "3    [-1, -1, -1, -1, -1, -1, -1, -1, -1, -1, -1, -...   \n",
       "4    [-1, -1, -1, -1, -1, -1, -1, -1, -1, -1, -1, -...   \n",
       "..                                                 ...   \n",
       "995  [-1, -1, -1, -1, -1, -1, -1, -1, -1, -1, -1, -...   \n",
       "996  [-1, -1, -1, -1, -1, -1, -1, -1, -1, -1, -1, -...   \n",
       "997  [-1, -1, -1, -1, -1, -1, -1, -1, -1, -1, -1, -...   \n",
       "998  [-1, -1, -1, -1, -1, -1, -1, -1, -1, -1, -1, -...   \n",
       "999  [-1, -1, -1, -1, -1, -1, -1, -1, -1, -1, -1, -...   \n",
       "\n",
       "                       drug_fingerprint_encoded_padded  \n",
       "0    [-1, -1, -1, -1, -1, -1, -1, -1, -1, -1, -1, -...  \n",
       "1    [-1, -1, -1, -1, -1, -1, -1, -1, -1, -1, -1, -...  \n",
       "2    [-1, -1, -1, -1, -1, -1, -1, -1, -1, -1, -1, -...  \n",
       "3    [-1, -1, -1, -1, -1, -1, -1, -1, -1, -1, -1, -...  \n",
       "4    [-1, -1, -1, -1, -1, -1, -1, -1, -1, -1, -1, -...  \n",
       "..                                                 ...  \n",
       "995  [-1, -1, -1, -1, -1, -1, -1, -1, -1, -1, -1, -...  \n",
       "996  [-1, -1, -1, -1, -1, -1, -1, -1, -1, -1, -1, -...  \n",
       "997  [-1, -1, -1, -1, -1, -1, -1, -1, -1, -1, -1, -...  \n",
       "998  [-1, -1, -1, -1, -1, -1, -1, -1, -1, -1, -1, -...  \n",
       "999  [-1, -1, -1, -1, -1, -1, -1, -1, -1, -1, -1, -...  \n",
       "\n",
       "[1000 rows x 14 columns]"
      ]
     },
     "execution_count": 63,
     "metadata": {},
     "output_type": "execute_result"
    }
   ],
   "source": [
    "drugbank"
   ]
  },
  {
   "cell_type": "code",
   "execution_count": null,
   "metadata": {},
   "outputs": [],
   "source": []
  },
  {
   "cell_type": "raw",
   "metadata": {},
   "source": [
    "label_encoder = LabelEncoder()\n",
    "label_encoder.fit(list(drugbank['target_gene_code'].iloc[0]))\n",
    "\n",
    "with open('data/gene_encoder.pkl', 'wb') as f:\n",
    "    pkl.dump(label_encoder, f)\n",
    "    \n",
    "gene_chars = set(list(drugbank['target_gene_code'].iloc[0]))\n"
   ]
  },
  {
   "cell_type": "raw",
   "metadata": {},
   "source": [
    "hidden_dims = 256\n",
    "hidden_dims_2 = 128\n",
    "hidden_dims_3 = 32\n",
    "batch_size = 25\n",
    "epochs = 20\n",
    "#model_optimizer = tensorflow.keras.optimizers.Nadam(lr=0.1, beta_1=0.8, beta_2=0.999)\n",
    "model_optimizer = tensorflow.keras.optimizers.Adam(lr=0.005, beta_1=0.9, beta_2=0.999, amsgrad=False)\n",
    "model = Sequential()\n",
    "\n",
    "#model.add(Dropout(0.2))\n",
    "model.add(Conv1D(400,\n",
    "                 100,\n",
    "                 strides=2,\n",
    "                 activation='relu'))\n",
    "\n",
    "\n",
    "model.add(Conv1D(500,\n",
    "                 20,\n",
    "                 strides=2,\n",
    "                 activation='relu'))\n",
    "\n",
    "\n",
    "model.add(Conv1D(100,\n",
    "                 20,\n",
    "                 strides=1,\n",
    "                 activation='relu'))\n",
    "\n",
    "model.add(GlobalAveragePooling1D())\n",
    "\n",
    "model.add(Dense(hidden_dims))\n",
    "model.add(Dropout(0.0))\n",
    "model.add(Activation('relu'))\n",
    "\n",
    "model.add(Dense(hidden_dims_2))\n",
    "model.add(Dropout(0.0))\n",
    "model.add(Activation('relu'))\n",
    "\n",
    "model.add(Dense(hidden_dims_3))\n",
    "model.add(Dropout(0.1))\n",
    "model.add(Activation('relu'))\n",
    "\n",
    "model.add(Dense(hidden_dims_2))\n",
    "model.add(Dropout(0.0))\n",
    "model.add(Activation('relu'))\n",
    "\n",
    "model.add(Dense(1))\n",
    "model.add(Activation('sigmoid'))\n",
    "\n",
    "model.compile(loss='binary_crossentropy',\n",
    "              optimizer=model_optimizer,\n",
    "              metrics=['binary_accuracy'])\n",
    "\n",
    "trim_width = 0\n",
    "train_df_all, test_df_all = train_test_split(drugbank)"
   ]
  },
  {
   "cell_type": "code",
   "execution_count": null,
   "metadata": {},
   "outputs": [],
   "source": []
  },
  {
   "cell_type": "code",
   "execution_count": null,
   "metadata": {},
   "outputs": [],
   "source": []
  },
  {
   "cell_type": "code",
   "execution_count": 15,
   "metadata": {},
   "outputs": [],
   "source": [
    "model_optimizer = tensorflow.keras.optimizers.Adam(lr=0.005, beta_1=0.9, beta_2=0.999, amsgrad=False)\n",
    "hidden_dims_3 = 32\n",
    "batch_size = 2\n",
    "epochs = 4\n",
    "trim_width = 0\n",
    "#train_df_all, test_df_all = train_test_split(drugbank)"
   ]
  },
  {
   "cell_type": "code",
   "execution_count": 8,
   "metadata": {},
   "outputs": [],
   "source": [
    "def identity_block(X, kernel_size, filters):\n",
    "    \n",
    "    # Number Of Filters For Each Block \n",
    "    F1, F2, F3 = filters\n",
    "    \n",
    "    # Save Input For Shortcut\n",
    "    X_shortcut = X\n",
    "    \n",
    "    # Component 1\n",
    "    X = Conv1D(filters = F1, kernel_size = kernel_size, strides = 1, padding = 'valid', kernel_initializer = glorot_uniform())(X)\n",
    "    X = BatchNormalization()(X)\n",
    "    X = Activation('relu')(X)\n",
    "    \n",
    "    # Component 2 \n",
    "    X = Conv1D(filters = F2, kernel_size = kernel_size, strides = 1, padding = 'valid', kernel_initializer = glorot_uniform())(X)\n",
    "    X = BatchNormalization()(X)\n",
    "    X = Activation('relu')(X)\n",
    "    \n",
    "    # Component 3 \n",
    "    X = Conv1D(filters = F3, kernel_size = kernel_size, strides = 1, padding = 'valid', kernel_initializer = glorot_uniform())(X)\n",
    "    X = BatchNormalization()(X)\n",
    "    \n",
    "    # Add Shortcut Path\n",
    "    X = Add()([X, X_shortcut])\n",
    "    X = Activation('relu')(X)\n",
    "    \n",
    "    return X\n",
    "    "
   ]
  },
  {
   "cell_type": "code",
   "execution_count": 9,
   "metadata": {},
   "outputs": [],
   "source": [
    "def convolutional_block(X, kernel_size, filters, s = 2):\n",
    "    \n",
    "    # Number Of Filters For Each Block \n",
    "    F1, F2, F3 = filters\n",
    "    \n",
    "    # Save Input For Shortcut\n",
    "#     X_shortcut = X\n",
    "    \n",
    "    ## Main Path \n",
    "#     print (\"X In Conv : \" + str(X.shape))\n",
    "    # Component 1 \n",
    "    X = Conv1D(filters = F1, kernel_size = kernel_size, strides = s, padding = 'valid', kernel_initializer = glorot_uniform())(X)\n",
    "    X = BatchNormalization()(X)\n",
    "    X = Activation('relu')(X)\n",
    "#     print (\"Component 1 : \" + str(X.shape))\n",
    "    \n",
    "    # Component 2\n",
    "    X = Conv1D(filters = F2, kernel_size = kernel_size, strides = s, padding = 'valid', kernel_initializer = glorot_uniform())(X)\n",
    "    X = BatchNormalization()(X)\n",
    "    X = Activation('relu')(X)\n",
    "#     print (\"Component 2 : \" + str(X.shape))\n",
    "    \n",
    "    # Component 3\n",
    "    X = Conv1D(filters = F3, kernel_size = kernel_size, strides = s, padding = 'valid', kernel_initializer = glorot_uniform())(X)\n",
    "    X = BatchNormalization()(X)\n",
    "#     print (\"Component 3 : \" + str(X.shape))\n",
    "    \n",
    "#     ## Shortcut Path\n",
    "#     X_shortcut = Conv1D(filters = F3, kernel_size = 16, strides = s, padding = 'valid', kernel_initializer = glorot_uniform())(X_shortcut)\n",
    "#     X_shortcut = BatchNormalization()(X_shortcut)\n",
    "#     print (\"X Shortcut : \" + str(X_shortcut.shape))\n",
    "    \n",
    "#     # Add Shortcut Path\n",
    "#     X = Add()([X, X_shortcut])\n",
    "    X = Activation('relu')(X)\n",
    "    \n",
    "    return X"
   ]
  },
  {
   "cell_type": "code",
   "execution_count": 10,
   "metadata": {},
   "outputs": [],
   "source": [
    "def ResNet_1D(input_shape = (30723, 1)):\n",
    "    \n",
    "    X_input = Input(input_shape)\n",
    "    \n",
    "    # Stage 1\n",
    "    X = Conv1D(filters = 64, kernel_size = 16, strides = 2, activation = 'relu', kernel_initializer = glorot_uniform())(X_input)\n",
    "    X = BatchNormalization()(X)\n",
    "    X = Activation('relu')(X)\n",
    "    \n",
    "    # Stage 2 - 1 Conv Block & 2 Identity Blocks\n",
    "    X = convolutional_block(X, kernel_size = 16, filters = [64, 64, 128], s = 1)\n",
    "    X = identity_block(X, kernel_size = 1, filters = [64, 64, 128])\n",
    "    X = identity_block(X, kernel_size = 1, filters = [64, 64, 128])\n",
    "    \n",
    "    # Stage 3 - 1 Conv Block & 3 Identity Blocks\n",
    "    X = convolutional_block(X, kernel_size = 16, filters = [128, 128, 256])\n",
    "    X = identity_block(X, kernel_size = 1, filters = [128, 128, 256])\n",
    "    X = identity_block(X, kernel_size = 1, filters = [128, 128, 256])\n",
    "    X = identity_block(X, kernel_size = 1, filters = [128, 128, 256])\n",
    "    \n",
    "    # Stage 4 - 1 Conv Block & 5 Identity Blocks\n",
    "    X = convolutional_block(X, kernel_size = 16, filters = [256, 256, 512])\n",
    "    X = identity_block(X, kernel_size = 1, filters = [256, 256, 512])\n",
    "    X = identity_block(X, kernel_size = 1, filters = [256, 256, 512])\n",
    "    X = identity_block(X, kernel_size = 1, filters = [256, 256, 512])\n",
    "    X = identity_block(X, kernel_size = 1, filters = [256, 256, 512])\n",
    "    X = identity_block(X, kernel_size = 1, filters = [256, 256, 512])\n",
    "    \n",
    "    # Stage 5 - 1 Conv Block & 2 Identity Blocks \n",
    "    X = convolutional_block(X, kernel_size = 16, filters = [512, 512, 1024])\n",
    "    X = identity_block(X, kernel_size = 1, filters = [512, 512, 1024])\n",
    "    X = identity_block(X, kernel_size = 1, filters = [512, 512, 1024])\n",
    "    \n",
    "    \n",
    "    X = GlobalAveragePooling1D()(X)\n",
    "    X = Flatten()(X)\n",
    "    X = Dense(1, kernel_initializer = glorot_uniform())(X)\n",
    "    X = Activation('sigmoid')(X)\n",
    "    \n",
    "    model = Model(inputs = X_input, outputs = X)\n",
    "    \n",
    "    return model\n",
    "    "
   ]
  },
  {
   "cell_type": "code",
   "execution_count": 49,
   "metadata": {},
   "outputs": [],
   "source": [
    "def VGG_16(input_shape = (30723, 1)):\n",
    "\n",
    "    X_input = Input(input_shape)\n",
    "    \n",
    "    # Convolution Block 1\n",
    "    X = Conv1D(filters = 64, kernel_size = 2, strides = 6, activation = 'relu')(X_input)\n",
    "    X = Conv1D(filters = 64, kernel_size = 2, strides = 6, activation = 'relu')(X)\n",
    "    X = BatchNormalization()(X)\n",
    "    print (X.shape)\n",
    "    X = AveragePooling1D()(X)\n",
    "    print (X.shape)\n",
    "    \n",
    "    # Convolution Block 2\n",
    "    X = Conv1D(filters = 128, kernel_size = 2, strides = 2, activation = 'relu')(X)\n",
    "    X = Conv1D(filters = 128, kernel_size = 2, strides = 2, activation = 'relu')(X)\n",
    "    X = BatchNormalization()(X)\n",
    "    # Test Drop Out\n",
    "    # X = Dropout(0.4)(X)\n",
    "\n",
    "    # Convolution Block 3\n",
    "    X = Conv1D(filters = 256, kernel_size = 2, strides = 2, activation = 'relu')(X)\n",
    "    X = Conv1D(filters = 256, kernel_size = 2, strides = 2, activation = 'relu')(X)\n",
    "    X = Conv1D(filters = 256, kernel_size = 2, strides = 2, activation = 'relu')(X)\n",
    "    X = BatchNormalization()(X)\n",
    "    # Test Drop Out\n",
    "    # X = Dropout(0.5)(X)\n",
    "\n",
    "    # Convolution Block 4\n",
    "    #X = Conv1D(filters = 512, kernel_size = 2, strides = 2, activation = 'relu')(X)\n",
    "    #X = Conv1D(filters = 512, kernel_size = 2, strides = 2, activation = 'relu')(X)\n",
    "    #X = Conv1D(filters = 512, kernel_size = 2, strides = 2, activation = 'relu')(X)\n",
    "    #X = BatchNormalization()(X)\n",
    "    # Test Drop Out\n",
    "    # X = Dropout(0.7)(X)\n",
    "\n",
    "    # Convolution Block 5\n",
    "    #X = Conv1D(filters = 1024, kernel_size = 2, strides = 2, activation = 'relu')(X)\n",
    "    #X = Conv1D(filters = 1024, kernel_size = 2, strides = 2, activation = 'relu')(X)\n",
    "    #X = Conv1D(filters = 1024, kernel_size = 2, strides = 2, activation = 'relu')(X)\n",
    "    #X = BatchNormalization()(X)\n",
    "    \n",
    "    X = GlobalAveragePooling1D()(X)\n",
    "    X = Flatten()(X)\n",
    "    X = Dense(1, kernel_initializer = glorot_uniform())(X)\n",
    "    X = Activation('sigmoid')(X)\n",
    "\n",
    "    model = Model(inputs = X_input, outputs = X)\n",
    "\n",
    "    return model"
   ]
  },
  {
   "cell_type": "code",
   "execution_count": 50,
   "metadata": {},
   "outputs": [
    {
     "name": "stdout",
     "output_type": "stream",
     "text": [
      "(?, 854, 64)\n",
      "(?, 427, 64)\n"
     ]
    }
   ],
   "source": [
    "model = VGG_16()"
   ]
  },
  {
   "cell_type": "code",
   "execution_count": 11,
   "metadata": {},
   "outputs": [],
   "source": [
    "model = ResNet_1D()"
   ]
  },
  {
   "cell_type": "code",
   "execution_count": 12,
   "metadata": {
    "scrolled": true
   },
   "outputs": [
    {
     "name": "stdout",
     "output_type": "stream",
     "text": [
      "__________________________________________________________________________________________________\n",
      "Layer (type)                    Output Shape         Param #     Connected to                     \n",
      "==================================================================================================\n",
      "input_1 (InputLayer)            (None, 30723, 1)     0                                            \n",
      "__________________________________________________________________________________________________\n",
      "conv1d (Conv1D)                 (None, 15354, 64)    1088        input_1[0][0]                    \n",
      "__________________________________________________________________________________________________\n",
      "batch_normalization (BatchNorma (None, 15354, 64)    256         conv1d[0][0]                     \n",
      "__________________________________________________________________________________________________\n",
      "activation (Activation)         (None, 15354, 64)    0           batch_normalization[0][0]        \n",
      "__________________________________________________________________________________________________\n",
      "conv1d_1 (Conv1D)               (None, 15339, 64)    65600       activation[0][0]                 \n",
      "__________________________________________________________________________________________________\n",
      "batch_normalization_1 (BatchNor (None, 15339, 64)    256         conv1d_1[0][0]                   \n",
      "__________________________________________________________________________________________________\n",
      "activation_1 (Activation)       (None, 15339, 64)    0           batch_normalization_1[0][0]      \n",
      "__________________________________________________________________________________________________\n",
      "conv1d_2 (Conv1D)               (None, 15324, 64)    65600       activation_1[0][0]               \n",
      "__________________________________________________________________________________________________\n",
      "batch_normalization_2 (BatchNor (None, 15324, 64)    256         conv1d_2[0][0]                   \n",
      "__________________________________________________________________________________________________\n",
      "activation_2 (Activation)       (None, 15324, 64)    0           batch_normalization_2[0][0]      \n",
      "__________________________________________________________________________________________________\n",
      "conv1d_3 (Conv1D)               (None, 15309, 128)   131200      activation_2[0][0]               \n",
      "__________________________________________________________________________________________________\n",
      "batch_normalization_3 (BatchNor (None, 15309, 128)   512         conv1d_3[0][0]                   \n",
      "__________________________________________________________________________________________________\n",
      "activation_3 (Activation)       (None, 15309, 128)   0           batch_normalization_3[0][0]      \n",
      "__________________________________________________________________________________________________\n",
      "conv1d_4 (Conv1D)               (None, 15309, 64)    8256        activation_3[0][0]               \n",
      "__________________________________________________________________________________________________\n",
      "batch_normalization_4 (BatchNor (None, 15309, 64)    256         conv1d_4[0][0]                   \n",
      "__________________________________________________________________________________________________\n",
      "activation_4 (Activation)       (None, 15309, 64)    0           batch_normalization_4[0][0]      \n",
      "__________________________________________________________________________________________________\n",
      "conv1d_5 (Conv1D)               (None, 15309, 64)    4160        activation_4[0][0]               \n",
      "__________________________________________________________________________________________________\n",
      "batch_normalization_5 (BatchNor (None, 15309, 64)    256         conv1d_5[0][0]                   \n",
      "__________________________________________________________________________________________________\n",
      "activation_5 (Activation)       (None, 15309, 64)    0           batch_normalization_5[0][0]      \n",
      "__________________________________________________________________________________________________\n",
      "conv1d_6 (Conv1D)               (None, 15309, 128)   8320        activation_5[0][0]               \n",
      "__________________________________________________________________________________________________\n",
      "batch_normalization_6 (BatchNor (None, 15309, 128)   512         conv1d_6[0][0]                   \n",
      "__________________________________________________________________________________________________\n",
      "add (Add)                       (None, 15309, 128)   0           batch_normalization_6[0][0]      \n",
      "                                                                 activation_3[0][0]               \n",
      "__________________________________________________________________________________________________\n",
      "activation_6 (Activation)       (None, 15309, 128)   0           add[0][0]                        \n",
      "__________________________________________________________________________________________________\n",
      "conv1d_7 (Conv1D)               (None, 15309, 64)    8256        activation_6[0][0]               \n",
      "__________________________________________________________________________________________________\n",
      "batch_normalization_7 (BatchNor (None, 15309, 64)    256         conv1d_7[0][0]                   \n",
      "__________________________________________________________________________________________________\n",
      "activation_7 (Activation)       (None, 15309, 64)    0           batch_normalization_7[0][0]      \n",
      "__________________________________________________________________________________________________\n",
      "conv1d_8 (Conv1D)               (None, 15309, 64)    4160        activation_7[0][0]               \n",
      "__________________________________________________________________________________________________\n",
      "batch_normalization_8 (BatchNor (None, 15309, 64)    256         conv1d_8[0][0]                   \n",
      "__________________________________________________________________________________________________\n",
      "activation_8 (Activation)       (None, 15309, 64)    0           batch_normalization_8[0][0]      \n",
      "__________________________________________________________________________________________________\n",
      "conv1d_9 (Conv1D)               (None, 15309, 128)   8320        activation_8[0][0]               \n",
      "__________________________________________________________________________________________________\n",
      "batch_normalization_9 (BatchNor (None, 15309, 128)   512         conv1d_9[0][0]                   \n",
      "__________________________________________________________________________________________________\n",
      "add_1 (Add)                     (None, 15309, 128)   0           batch_normalization_9[0][0]      \n",
      "                                                                 activation_6[0][0]               \n",
      "__________________________________________________________________________________________________\n",
      "activation_9 (Activation)       (None, 15309, 128)   0           add_1[0][0]                      \n",
      "__________________________________________________________________________________________________\n",
      "conv1d_10 (Conv1D)              (None, 7647, 128)    262272      activation_9[0][0]               \n",
      "__________________________________________________________________________________________________\n",
      "batch_normalization_10 (BatchNo (None, 7647, 128)    512         conv1d_10[0][0]                  \n",
      "__________________________________________________________________________________________________\n",
      "activation_10 (Activation)      (None, 7647, 128)    0           batch_normalization_10[0][0]     \n",
      "__________________________________________________________________________________________________\n",
      "conv1d_11 (Conv1D)              (None, 3816, 128)    262272      activation_10[0][0]              \n",
      "__________________________________________________________________________________________________\n",
      "batch_normalization_11 (BatchNo (None, 3816, 128)    512         conv1d_11[0][0]                  \n",
      "__________________________________________________________________________________________________\n",
      "activation_11 (Activation)      (None, 3816, 128)    0           batch_normalization_11[0][0]     \n",
      "__________________________________________________________________________________________________\n",
      "conv1d_12 (Conv1D)              (None, 1901, 256)    524544      activation_11[0][0]              \n",
      "__________________________________________________________________________________________________\n",
      "batch_normalization_12 (BatchNo (None, 1901, 256)    1024        conv1d_12[0][0]                  \n",
      "__________________________________________________________________________________________________\n",
      "activation_12 (Activation)      (None, 1901, 256)    0           batch_normalization_12[0][0]     \n",
      "__________________________________________________________________________________________________\n",
      "conv1d_13 (Conv1D)              (None, 1901, 128)    32896       activation_12[0][0]              \n",
      "__________________________________________________________________________________________________\n",
      "batch_normalization_13 (BatchNo (None, 1901, 128)    512         conv1d_13[0][0]                  \n",
      "__________________________________________________________________________________________________\n",
      "activation_13 (Activation)      (None, 1901, 128)    0           batch_normalization_13[0][0]     \n",
      "__________________________________________________________________________________________________\n",
      "conv1d_14 (Conv1D)              (None, 1901, 128)    16512       activation_13[0][0]              \n",
      "__________________________________________________________________________________________________\n",
      "batch_normalization_14 (BatchNo (None, 1901, 128)    512         conv1d_14[0][0]                  \n",
      "__________________________________________________________________________________________________\n",
      "activation_14 (Activation)      (None, 1901, 128)    0           batch_normalization_14[0][0]     \n",
      "__________________________________________________________________________________________________\n",
      "conv1d_15 (Conv1D)              (None, 1901, 256)    33024       activation_14[0][0]              \n",
      "__________________________________________________________________________________________________\n",
      "batch_normalization_15 (BatchNo (None, 1901, 256)    1024        conv1d_15[0][0]                  \n",
      "__________________________________________________________________________________________________\n",
      "add_2 (Add)                     (None, 1901, 256)    0           batch_normalization_15[0][0]     \n",
      "                                                                 activation_12[0][0]              \n",
      "__________________________________________________________________________________________________\n",
      "activation_15 (Activation)      (None, 1901, 256)    0           add_2[0][0]                      \n",
      "__________________________________________________________________________________________________\n",
      "conv1d_16 (Conv1D)              (None, 1901, 128)    32896       activation_15[0][0]              \n",
      "__________________________________________________________________________________________________\n",
      "batch_normalization_16 (BatchNo (None, 1901, 128)    512         conv1d_16[0][0]                  \n",
      "__________________________________________________________________________________________________\n",
      "activation_16 (Activation)      (None, 1901, 128)    0           batch_normalization_16[0][0]     \n",
      "__________________________________________________________________________________________________\n",
      "conv1d_17 (Conv1D)              (None, 1901, 128)    16512       activation_16[0][0]              \n",
      "__________________________________________________________________________________________________\n",
      "batch_normalization_17 (BatchNo (None, 1901, 128)    512         conv1d_17[0][0]                  \n",
      "__________________________________________________________________________________________________\n",
      "activation_17 (Activation)      (None, 1901, 128)    0           batch_normalization_17[0][0]     \n",
      "__________________________________________________________________________________________________\n",
      "conv1d_18 (Conv1D)              (None, 1901, 256)    33024       activation_17[0][0]              \n",
      "__________________________________________________________________________________________________\n",
      "batch_normalization_18 (BatchNo (None, 1901, 256)    1024        conv1d_18[0][0]                  \n",
      "__________________________________________________________________________________________________\n",
      "add_3 (Add)                     (None, 1901, 256)    0           batch_normalization_18[0][0]     \n",
      "                                                                 activation_15[0][0]              \n",
      "__________________________________________________________________________________________________\n",
      "activation_18 (Activation)      (None, 1901, 256)    0           add_3[0][0]                      \n",
      "__________________________________________________________________________________________________\n",
      "conv1d_19 (Conv1D)              (None, 1901, 128)    32896       activation_18[0][0]              \n",
      "__________________________________________________________________________________________________\n",
      "batch_normalization_19 (BatchNo (None, 1901, 128)    512         conv1d_19[0][0]                  \n",
      "__________________________________________________________________________________________________\n",
      "activation_19 (Activation)      (None, 1901, 128)    0           batch_normalization_19[0][0]     \n",
      "__________________________________________________________________________________________________\n",
      "conv1d_20 (Conv1D)              (None, 1901, 128)    16512       activation_19[0][0]              \n",
      "__________________________________________________________________________________________________\n",
      "batch_normalization_20 (BatchNo (None, 1901, 128)    512         conv1d_20[0][0]                  \n",
      "__________________________________________________________________________________________________\n",
      "activation_20 (Activation)      (None, 1901, 128)    0           batch_normalization_20[0][0]     \n",
      "__________________________________________________________________________________________________\n",
      "conv1d_21 (Conv1D)              (None, 1901, 256)    33024       activation_20[0][0]              \n",
      "__________________________________________________________________________________________________\n",
      "batch_normalization_21 (BatchNo (None, 1901, 256)    1024        conv1d_21[0][0]                  \n",
      "__________________________________________________________________________________________________\n",
      "add_4 (Add)                     (None, 1901, 256)    0           batch_normalization_21[0][0]     \n",
      "                                                                 activation_18[0][0]              \n",
      "__________________________________________________________________________________________________\n",
      "activation_21 (Activation)      (None, 1901, 256)    0           add_4[0][0]                      \n",
      "__________________________________________________________________________________________________\n",
      "conv1d_22 (Conv1D)              (None, 943, 256)     1048832     activation_21[0][0]              \n",
      "__________________________________________________________________________________________________\n",
      "batch_normalization_22 (BatchNo (None, 943, 256)     1024        conv1d_22[0][0]                  \n",
      "__________________________________________________________________________________________________\n",
      "activation_22 (Activation)      (None, 943, 256)     0           batch_normalization_22[0][0]     \n",
      "__________________________________________________________________________________________________\n",
      "conv1d_23 (Conv1D)              (None, 464, 256)     1048832     activation_22[0][0]              \n",
      "__________________________________________________________________________________________________\n",
      "batch_normalization_23 (BatchNo (None, 464, 256)     1024        conv1d_23[0][0]                  \n",
      "__________________________________________________________________________________________________\n",
      "activation_23 (Activation)      (None, 464, 256)     0           batch_normalization_23[0][0]     \n",
      "__________________________________________________________________________________________________\n",
      "conv1d_24 (Conv1D)              (None, 225, 512)     2097664     activation_23[0][0]              \n",
      "__________________________________________________________________________________________________\n",
      "batch_normalization_24 (BatchNo (None, 225, 512)     2048        conv1d_24[0][0]                  \n",
      "__________________________________________________________________________________________________\n",
      "activation_24 (Activation)      (None, 225, 512)     0           batch_normalization_24[0][0]     \n",
      "__________________________________________________________________________________________________\n",
      "conv1d_25 (Conv1D)              (None, 225, 256)     131328      activation_24[0][0]              \n",
      "__________________________________________________________________________________________________\n",
      "batch_normalization_25 (BatchNo (None, 225, 256)     1024        conv1d_25[0][0]                  \n",
      "__________________________________________________________________________________________________\n",
      "activation_25 (Activation)      (None, 225, 256)     0           batch_normalization_25[0][0]     \n",
      "__________________________________________________________________________________________________\n",
      "conv1d_26 (Conv1D)              (None, 225, 256)     65792       activation_25[0][0]              \n",
      "__________________________________________________________________________________________________\n",
      "batch_normalization_26 (BatchNo (None, 225, 256)     1024        conv1d_26[0][0]                  \n",
      "__________________________________________________________________________________________________\n",
      "activation_26 (Activation)      (None, 225, 256)     0           batch_normalization_26[0][0]     \n",
      "__________________________________________________________________________________________________\n",
      "conv1d_27 (Conv1D)              (None, 225, 512)     131584      activation_26[0][0]              \n",
      "__________________________________________________________________________________________________\n",
      "batch_normalization_27 (BatchNo (None, 225, 512)     2048        conv1d_27[0][0]                  \n",
      "__________________________________________________________________________________________________\n",
      "add_5 (Add)                     (None, 225, 512)     0           batch_normalization_27[0][0]     \n",
      "                                                                 activation_24[0][0]              \n",
      "__________________________________________________________________________________________________\n",
      "activation_27 (Activation)      (None, 225, 512)     0           add_5[0][0]                      \n",
      "__________________________________________________________________________________________________\n",
      "conv1d_28 (Conv1D)              (None, 225, 256)     131328      activation_27[0][0]              \n",
      "__________________________________________________________________________________________________\n",
      "batch_normalization_28 (BatchNo (None, 225, 256)     1024        conv1d_28[0][0]                  \n",
      "__________________________________________________________________________________________________\n",
      "activation_28 (Activation)      (None, 225, 256)     0           batch_normalization_28[0][0]     \n",
      "__________________________________________________________________________________________________\n",
      "conv1d_29 (Conv1D)              (None, 225, 256)     65792       activation_28[0][0]              \n",
      "__________________________________________________________________________________________________\n",
      "batch_normalization_29 (BatchNo (None, 225, 256)     1024        conv1d_29[0][0]                  \n",
      "__________________________________________________________________________________________________\n",
      "activation_29 (Activation)      (None, 225, 256)     0           batch_normalization_29[0][0]     \n",
      "__________________________________________________________________________________________________\n",
      "conv1d_30 (Conv1D)              (None, 225, 512)     131584      activation_29[0][0]              \n",
      "__________________________________________________________________________________________________\n",
      "batch_normalization_30 (BatchNo (None, 225, 512)     2048        conv1d_30[0][0]                  \n",
      "__________________________________________________________________________________________________\n",
      "add_6 (Add)                     (None, 225, 512)     0           batch_normalization_30[0][0]     \n",
      "                                                                 activation_27[0][0]              \n",
      "__________________________________________________________________________________________________\n",
      "activation_30 (Activation)      (None, 225, 512)     0           add_6[0][0]                      \n",
      "__________________________________________________________________________________________________\n",
      "conv1d_31 (Conv1D)              (None, 225, 256)     131328      activation_30[0][0]              \n",
      "__________________________________________________________________________________________________\n",
      "batch_normalization_31 (BatchNo (None, 225, 256)     1024        conv1d_31[0][0]                  \n",
      "__________________________________________________________________________________________________\n",
      "activation_31 (Activation)      (None, 225, 256)     0           batch_normalization_31[0][0]     \n",
      "__________________________________________________________________________________________________\n",
      "conv1d_32 (Conv1D)              (None, 225, 256)     65792       activation_31[0][0]              \n",
      "__________________________________________________________________________________________________\n",
      "batch_normalization_32 (BatchNo (None, 225, 256)     1024        conv1d_32[0][0]                  \n",
      "__________________________________________________________________________________________________\n",
      "activation_32 (Activation)      (None, 225, 256)     0           batch_normalization_32[0][0]     \n",
      "__________________________________________________________________________________________________\n",
      "conv1d_33 (Conv1D)              (None, 225, 512)     131584      activation_32[0][0]              \n",
      "__________________________________________________________________________________________________\n",
      "batch_normalization_33 (BatchNo (None, 225, 512)     2048        conv1d_33[0][0]                  \n",
      "__________________________________________________________________________________________________\n",
      "add_7 (Add)                     (None, 225, 512)     0           batch_normalization_33[0][0]     \n",
      "                                                                 activation_30[0][0]              \n",
      "__________________________________________________________________________________________________\n",
      "activation_33 (Activation)      (None, 225, 512)     0           add_7[0][0]                      \n",
      "__________________________________________________________________________________________________\n",
      "conv1d_34 (Conv1D)              (None, 225, 256)     131328      activation_33[0][0]              \n",
      "__________________________________________________________________________________________________\n",
      "batch_normalization_34 (BatchNo (None, 225, 256)     1024        conv1d_34[0][0]                  \n",
      "__________________________________________________________________________________________________\n",
      "activation_34 (Activation)      (None, 225, 256)     0           batch_normalization_34[0][0]     \n",
      "__________________________________________________________________________________________________\n",
      "conv1d_35 (Conv1D)              (None, 225, 256)     65792       activation_34[0][0]              \n",
      "__________________________________________________________________________________________________\n",
      "batch_normalization_35 (BatchNo (None, 225, 256)     1024        conv1d_35[0][0]                  \n",
      "__________________________________________________________________________________________________\n",
      "activation_35 (Activation)      (None, 225, 256)     0           batch_normalization_35[0][0]     \n",
      "__________________________________________________________________________________________________\n",
      "conv1d_36 (Conv1D)              (None, 225, 512)     131584      activation_35[0][0]              \n",
      "__________________________________________________________________________________________________\n",
      "batch_normalization_36 (BatchNo (None, 225, 512)     2048        conv1d_36[0][0]                  \n",
      "__________________________________________________________________________________________________\n",
      "add_8 (Add)                     (None, 225, 512)     0           batch_normalization_36[0][0]     \n",
      "                                                                 activation_33[0][0]              \n",
      "__________________________________________________________________________________________________\n",
      "activation_36 (Activation)      (None, 225, 512)     0           add_8[0][0]                      \n",
      "__________________________________________________________________________________________________\n",
      "conv1d_37 (Conv1D)              (None, 225, 256)     131328      activation_36[0][0]              \n",
      "__________________________________________________________________________________________________\n",
      "batch_normalization_37 (BatchNo (None, 225, 256)     1024        conv1d_37[0][0]                  \n",
      "__________________________________________________________________________________________________\n",
      "activation_37 (Activation)      (None, 225, 256)     0           batch_normalization_37[0][0]     \n",
      "__________________________________________________________________________________________________\n",
      "conv1d_38 (Conv1D)              (None, 225, 256)     65792       activation_37[0][0]              \n",
      "__________________________________________________________________________________________________\n",
      "batch_normalization_38 (BatchNo (None, 225, 256)     1024        conv1d_38[0][0]                  \n",
      "__________________________________________________________________________________________________\n",
      "activation_38 (Activation)      (None, 225, 256)     0           batch_normalization_38[0][0]     \n",
      "__________________________________________________________________________________________________\n",
      "conv1d_39 (Conv1D)              (None, 225, 512)     131584      activation_38[0][0]              \n",
      "__________________________________________________________________________________________________\n",
      "batch_normalization_39 (BatchNo (None, 225, 512)     2048        conv1d_39[0][0]                  \n",
      "__________________________________________________________________________________________________\n",
      "add_9 (Add)                     (None, 225, 512)     0           batch_normalization_39[0][0]     \n",
      "                                                                 activation_36[0][0]              \n",
      "__________________________________________________________________________________________________\n",
      "activation_39 (Activation)      (None, 225, 512)     0           add_9[0][0]                      \n",
      "__________________________________________________________________________________________________\n",
      "conv1d_40 (Conv1D)              (None, 105, 512)     4194816     activation_39[0][0]              \n",
      "__________________________________________________________________________________________________\n",
      "batch_normalization_40 (BatchNo (None, 105, 512)     2048        conv1d_40[0][0]                  \n",
      "__________________________________________________________________________________________________\n",
      "activation_40 (Activation)      (None, 105, 512)     0           batch_normalization_40[0][0]     \n",
      "__________________________________________________________________________________________________\n",
      "conv1d_41 (Conv1D)              (None, 45, 512)      4194816     activation_40[0][0]              \n",
      "__________________________________________________________________________________________________\n",
      "batch_normalization_41 (BatchNo (None, 45, 512)      2048        conv1d_41[0][0]                  \n",
      "__________________________________________________________________________________________________\n",
      "activation_41 (Activation)      (None, 45, 512)      0           batch_normalization_41[0][0]     \n",
      "__________________________________________________________________________________________________\n",
      "conv1d_42 (Conv1D)              (None, 15, 1024)     8389632     activation_41[0][0]              \n",
      "__________________________________________________________________________________________________\n",
      "batch_normalization_42 (BatchNo (None, 15, 1024)     4096        conv1d_42[0][0]                  \n",
      "__________________________________________________________________________________________________\n",
      "activation_42 (Activation)      (None, 15, 1024)     0           batch_normalization_42[0][0]     \n",
      "__________________________________________________________________________________________________\n",
      "conv1d_43 (Conv1D)              (None, 15, 512)      524800      activation_42[0][0]              \n",
      "__________________________________________________________________________________________________\n",
      "batch_normalization_43 (BatchNo (None, 15, 512)      2048        conv1d_43[0][0]                  \n",
      "__________________________________________________________________________________________________\n",
      "activation_43 (Activation)      (None, 15, 512)      0           batch_normalization_43[0][0]     \n",
      "__________________________________________________________________________________________________\n",
      "conv1d_44 (Conv1D)              (None, 15, 512)      262656      activation_43[0][0]              \n",
      "__________________________________________________________________________________________________\n",
      "batch_normalization_44 (BatchNo (None, 15, 512)      2048        conv1d_44[0][0]                  \n",
      "__________________________________________________________________________________________________\n",
      "activation_44 (Activation)      (None, 15, 512)      0           batch_normalization_44[0][0]     \n",
      "__________________________________________________________________________________________________\n",
      "conv1d_45 (Conv1D)              (None, 15, 1024)     525312      activation_44[0][0]              \n",
      "__________________________________________________________________________________________________\n",
      "batch_normalization_45 (BatchNo (None, 15, 1024)     4096        conv1d_45[0][0]                  \n",
      "__________________________________________________________________________________________________\n",
      "add_10 (Add)                    (None, 15, 1024)     0           batch_normalization_45[0][0]     \n",
      "                                                                 activation_42[0][0]              \n",
      "__________________________________________________________________________________________________\n",
      "activation_45 (Activation)      (None, 15, 1024)     0           add_10[0][0]                     \n",
      "__________________________________________________________________________________________________\n",
      "conv1d_46 (Conv1D)              (None, 15, 512)      524800      activation_45[0][0]              \n",
      "__________________________________________________________________________________________________\n",
      "batch_normalization_46 (BatchNo (None, 15, 512)      2048        conv1d_46[0][0]                  \n",
      "__________________________________________________________________________________________________\n",
      "activation_46 (Activation)      (None, 15, 512)      0           batch_normalization_46[0][0]     \n",
      "__________________________________________________________________________________________________\n",
      "conv1d_47 (Conv1D)              (None, 15, 512)      262656      activation_46[0][0]              \n",
      "__________________________________________________________________________________________________\n",
      "batch_normalization_47 (BatchNo (None, 15, 512)      2048        conv1d_47[0][0]                  \n",
      "__________________________________________________________________________________________________\n",
      "activation_47 (Activation)      (None, 15, 512)      0           batch_normalization_47[0][0]     \n",
      "__________________________________________________________________________________________________\n",
      "conv1d_48 (Conv1D)              (None, 15, 1024)     525312      activation_47[0][0]              \n",
      "__________________________________________________________________________________________________\n",
      "batch_normalization_48 (BatchNo (None, 15, 1024)     4096        conv1d_48[0][0]                  \n",
      "__________________________________________________________________________________________________\n",
      "add_11 (Add)                    (None, 15, 1024)     0           batch_normalization_48[0][0]     \n",
      "                                                                 activation_45[0][0]              \n",
      "__________________________________________________________________________________________________\n",
      "activation_48 (Activation)      (None, 15, 1024)     0           add_11[0][0]                     \n",
      "__________________________________________________________________________________________________\n",
      "global_average_pooling1d (Globa (None, 1024)         0           activation_48[0][0]              \n",
      "__________________________________________________________________________________________________\n",
      "flatten (Flatten)               (None, 1024)         0           global_average_pooling1d[0][0]   \n",
      "__________________________________________________________________________________________________\n",
      "dense (Dense)                   (None, 1)            1025        flatten[0][0]                    \n",
      "__________________________________________________________________________________________________\n",
      "activation_49 (Activation)      (None, 1)            0           dense[0][0]                      \n",
      "==================================================================================================\n",
      "Total params: 26,906,689\n",
      "Trainable params: 26,876,353\n",
      "Non-trainable params: 30,336\n",
      "__________________________________________________________________________________________________\n"
     ]
    }
   ],
   "source": [
    "model.summary()"
   ]
  },
  {
   "cell_type": "code",
   "execution_count": 12,
   "metadata": {},
   "outputs": [],
   "source": [
    "model.compile(loss = 'binary_crossentropy', optimizer = model_optimizer, metrics = ['binary_accuracy'])\n",
    "\n"
   ]
  },
  {
   "cell_type": "code",
   "execution_count": 13,
   "metadata": {},
   "outputs": [],
   "source": [
    "drugbank_reader = pd.read_csv('data/intermediate/interactions_preprocessed.csv', chunksize = 8, iterator = True, converters={\"target_gene_encoded_padded\": \\\n",
    "                                                                                     lambda x: np.array(x.strip(\"[]\").replace(\"'\",\"\").split(\", \")),\n",
    "                                                                                    \"drug_fingerprint_encoded_padded\": \\\n",
    "                                                                                    lambda x: np.array(x.strip(\"[]\").replace(\"'\",\"\").split(\", \"))})\n"
   ]
  },
  {
   "cell_type": "code",
   "execution_count": 16,
   "metadata": {
    "scrolled": false
   },
   "outputs": [
    {
     "data": {
      "application/vnd.jupyter.widget-view+json": {
       "model_id": "89f44dd0456b485696d9248abf03ebf2",
       "version_major": 2,
       "version_minor": 0
      },
      "text/plain": [
       "HBox(children=(FloatProgress(value=1.0, bar_style='info', max=1.0), HTML(value='')))"
      ]
     },
     "metadata": {},
     "output_type": "display_data"
    },
    {
     "name": "stdout",
     "output_type": "stream",
     "text": [
      "Reading chunk from file..\n",
      "Sampling..\n",
      "Padding..\n",
      "(6, 21222)\n",
      "(6, 9501)\n",
      "(2, 21222)\n",
      "(2, 9501)\n",
      "Trimming..\n",
      "(6, 21222)\n",
      "(6, 9501)\n",
      "(2, 21222)\n",
      "(2, 9501)\n",
      "Modelling..\n",
      "X0 Shape : (6, 30723)\n",
      "X1 Shape : (6, 9501)\n",
      "X0 Test Shape : (2, 30723)\n",
      "X1 Test Shape : (2, 9501)\n",
      "Train on 6 samples, validate on 2 samples\n",
      "Epoch 1/1\n"
     ]
    },
    {
     "ename": "ResourceExhaustedError",
     "evalue": "OOM when allocating tensor with shape[128,64,1,16] and type float on /job:localhost/replica:0/task:0/device:GPU:0 by allocator GPU_0_bfc\n\t [[{{node conv1d_3/conv1d/Conv2D}} = Conv2D[T=DT_FLOAT, _class=[\"loc:@training/Adam/gradients/conv1d_3/conv1d/Conv2D_grad/Conv2DBackpropInput\"], data_format=\"NCHW\", dilations=[1, 1, 1, 1], padding=\"VALID\", strides=[1, 1, 1, 1], use_cudnn_on_gpu=true, _device=\"/job:localhost/replica:0/task:0/device:GPU:0\"](training/Adam/gradients/conv1d_3/conv1d/Conv2D_grad/Conv2DBackpropFilter-0-TransposeNHWCToNCHW-LayoutOptimizer, conv1d_3/conv1d/ExpandDims_1)]]\nHint: If you want to see a list of allocated tensors when OOM happens, add report_tensor_allocations_upon_oom to RunOptions for current allocation info.\n\n\t [[{{node loss/activation_49_loss/broadcast_weights/assert_broadcastable/is_valid_shape/has_valid_nonscalar_shape/has_invalid_dims/concat/_2409}} = _Recv[client_terminated=false, recv_device=\"/job:localhost/replica:0/task:0/device:CPU:0\", send_device=\"/job:localhost/replica:0/task:0/device:GPU:0\", send_device_incarnation=1, tensor_name=\"edge_9526_...ims/concat\", tensor_type=DT_INT32, _device=\"/job:localhost/replica:0/task:0/device:CPU:0\"]()]]\nHint: If you want to see a list of allocated tensors when OOM happens, add report_tensor_allocations_upon_oom to RunOptions for current allocation info.\n",
     "output_type": "error",
     "traceback": [
      "\u001b[0;31m---------------------------------------------------------------------------\u001b[0m",
      "\u001b[0;31mResourceExhaustedError\u001b[0m                    Traceback (most recent call last)",
      "\u001b[0;32m<ipython-input-16-536381080ccb>\u001b[0m in \u001b[0;36m<module>\u001b[0;34m\u001b[0m\n\u001b[1;32m     78\u001b[0m                           \u001b[0mepochs\u001b[0m\u001b[0;34m=\u001b[0m\u001b[0;36m1\u001b[0m\u001b[0;34m,\u001b[0m\u001b[0;34m\u001b[0m\u001b[0m\n\u001b[1;32m     79\u001b[0m                           \u001b[0mcallbacks\u001b[0m\u001b[0;34m=\u001b[0m\u001b[0;34m[\u001b[0m\u001b[0mplot_losses\u001b[0m\u001b[0;34m]\u001b[0m\u001b[0;34m,\u001b[0m\u001b[0;34m\u001b[0m\u001b[0m\n\u001b[0;32m---> 80\u001b[0;31m                           validation_data=(X_0_test[..., np.newaxis], Y_test), verbose = 2)\n\u001b[0m\u001b[1;32m     81\u001b[0m \u001b[0;34m\u001b[0m\u001b[0m\n\u001b[1;32m     82\u001b[0m \u001b[0;34m\u001b[0m\u001b[0m\n",
      "\u001b[0;32m/miniconda/lib/python3.6/site-packages/tensorflow/python/keras/engine/training.py\u001b[0m in \u001b[0;36mfit\u001b[0;34m(self, x, y, batch_size, epochs, verbose, callbacks, validation_split, validation_data, shuffle, class_weight, sample_weight, initial_epoch, steps_per_epoch, validation_steps, max_queue_size, workers, use_multiprocessing, **kwargs)\u001b[0m\n\u001b[1;32m   1637\u001b[0m           \u001b[0minitial_epoch\u001b[0m\u001b[0;34m=\u001b[0m\u001b[0minitial_epoch\u001b[0m\u001b[0;34m,\u001b[0m\u001b[0;34m\u001b[0m\u001b[0m\n\u001b[1;32m   1638\u001b[0m           \u001b[0msteps_per_epoch\u001b[0m\u001b[0;34m=\u001b[0m\u001b[0msteps_per_epoch\u001b[0m\u001b[0;34m,\u001b[0m\u001b[0;34m\u001b[0m\u001b[0m\n\u001b[0;32m-> 1639\u001b[0;31m           validation_steps=validation_steps)\n\u001b[0m\u001b[1;32m   1640\u001b[0m \u001b[0;34m\u001b[0m\u001b[0m\n\u001b[1;32m   1641\u001b[0m   def evaluate(self,\n",
      "\u001b[0;32m/miniconda/lib/python3.6/site-packages/tensorflow/python/keras/engine/training_arrays.py\u001b[0m in \u001b[0;36mfit_loop\u001b[0;34m(model, inputs, targets, sample_weights, batch_size, epochs, verbose, callbacks, val_inputs, val_targets, val_sample_weights, shuffle, initial_epoch, steps_per_epoch, validation_steps)\u001b[0m\n\u001b[1;32m    213\u001b[0m           \u001b[0mins_batch\u001b[0m\u001b[0;34m[\u001b[0m\u001b[0mi\u001b[0m\u001b[0;34m]\u001b[0m \u001b[0;34m=\u001b[0m \u001b[0mins_batch\u001b[0m\u001b[0;34m[\u001b[0m\u001b[0mi\u001b[0m\u001b[0;34m]\u001b[0m\u001b[0;34m.\u001b[0m\u001b[0mtoarray\u001b[0m\u001b[0;34m(\u001b[0m\u001b[0;34m)\u001b[0m\u001b[0;34m\u001b[0m\u001b[0m\n\u001b[1;32m    214\u001b[0m \u001b[0;34m\u001b[0m\u001b[0m\n\u001b[0;32m--> 215\u001b[0;31m         \u001b[0mouts\u001b[0m \u001b[0;34m=\u001b[0m \u001b[0mf\u001b[0m\u001b[0;34m(\u001b[0m\u001b[0mins_batch\u001b[0m\u001b[0;34m)\u001b[0m\u001b[0;34m\u001b[0m\u001b[0m\n\u001b[0m\u001b[1;32m    216\u001b[0m         \u001b[0;32mif\u001b[0m \u001b[0;32mnot\u001b[0m \u001b[0misinstance\u001b[0m\u001b[0;34m(\u001b[0m\u001b[0mouts\u001b[0m\u001b[0;34m,\u001b[0m \u001b[0mlist\u001b[0m\u001b[0;34m)\u001b[0m\u001b[0;34m:\u001b[0m\u001b[0;34m\u001b[0m\u001b[0m\n\u001b[1;32m    217\u001b[0m           \u001b[0mouts\u001b[0m \u001b[0;34m=\u001b[0m \u001b[0;34m[\u001b[0m\u001b[0mouts\u001b[0m\u001b[0;34m]\u001b[0m\u001b[0;34m\u001b[0m\u001b[0m\n",
      "\u001b[0;32m/miniconda/lib/python3.6/site-packages/tensorflow/python/keras/backend.py\u001b[0m in \u001b[0;36m__call__\u001b[0;34m(self, inputs)\u001b[0m\n\u001b[1;32m   2984\u001b[0m \u001b[0;34m\u001b[0m\u001b[0m\n\u001b[1;32m   2985\u001b[0m     fetched = self._callable_fn(*array_vals,\n\u001b[0;32m-> 2986\u001b[0;31m                                 run_metadata=self.run_metadata)\n\u001b[0m\u001b[1;32m   2987\u001b[0m     \u001b[0mself\u001b[0m\u001b[0;34m.\u001b[0m\u001b[0m_call_fetch_callbacks\u001b[0m\u001b[0;34m(\u001b[0m\u001b[0mfetched\u001b[0m\u001b[0;34m[\u001b[0m\u001b[0;34m-\u001b[0m\u001b[0mlen\u001b[0m\u001b[0;34m(\u001b[0m\u001b[0mself\u001b[0m\u001b[0;34m.\u001b[0m\u001b[0m_fetches\u001b[0m\u001b[0;34m)\u001b[0m\u001b[0;34m:\u001b[0m\u001b[0;34m]\u001b[0m\u001b[0;34m)\u001b[0m\u001b[0;34m\u001b[0m\u001b[0m\n\u001b[1;32m   2988\u001b[0m     \u001b[0;32mreturn\u001b[0m \u001b[0mfetched\u001b[0m\u001b[0;34m[\u001b[0m\u001b[0;34m:\u001b[0m\u001b[0mlen\u001b[0m\u001b[0;34m(\u001b[0m\u001b[0mself\u001b[0m\u001b[0;34m.\u001b[0m\u001b[0moutputs\u001b[0m\u001b[0;34m)\u001b[0m\u001b[0;34m]\u001b[0m\u001b[0;34m\u001b[0m\u001b[0m\n",
      "\u001b[0;32m/miniconda/lib/python3.6/site-packages/tensorflow/python/client/session.py\u001b[0m in \u001b[0;36m__call__\u001b[0;34m(self, *args, **kwargs)\u001b[0m\n\u001b[1;32m   1437\u001b[0m           ret = tf_session.TF_SessionRunCallable(\n\u001b[1;32m   1438\u001b[0m               \u001b[0mself\u001b[0m\u001b[0;34m.\u001b[0m\u001b[0m_session\u001b[0m\u001b[0;34m.\u001b[0m\u001b[0m_session\u001b[0m\u001b[0;34m,\u001b[0m \u001b[0mself\u001b[0m\u001b[0;34m.\u001b[0m\u001b[0m_handle\u001b[0m\u001b[0;34m,\u001b[0m \u001b[0margs\u001b[0m\u001b[0;34m,\u001b[0m \u001b[0mstatus\u001b[0m\u001b[0;34m,\u001b[0m\u001b[0;34m\u001b[0m\u001b[0m\n\u001b[0;32m-> 1439\u001b[0;31m               run_metadata_ptr)\n\u001b[0m\u001b[1;32m   1440\u001b[0m         \u001b[0;32mif\u001b[0m \u001b[0mrun_metadata\u001b[0m\u001b[0;34m:\u001b[0m\u001b[0;34m\u001b[0m\u001b[0m\n\u001b[1;32m   1441\u001b[0m           \u001b[0mproto_data\u001b[0m \u001b[0;34m=\u001b[0m \u001b[0mtf_session\u001b[0m\u001b[0;34m.\u001b[0m\u001b[0mTF_GetBuffer\u001b[0m\u001b[0;34m(\u001b[0m\u001b[0mrun_metadata_ptr\u001b[0m\u001b[0;34m)\u001b[0m\u001b[0;34m\u001b[0m\u001b[0m\n",
      "\u001b[0;32m/miniconda/lib/python3.6/site-packages/tensorflow/python/framework/errors_impl.py\u001b[0m in \u001b[0;36m__exit__\u001b[0;34m(self, type_arg, value_arg, traceback_arg)\u001b[0m\n\u001b[1;32m    526\u001b[0m             \u001b[0;32mNone\u001b[0m\u001b[0;34m,\u001b[0m \u001b[0;32mNone\u001b[0m\u001b[0;34m,\u001b[0m\u001b[0;34m\u001b[0m\u001b[0m\n\u001b[1;32m    527\u001b[0m             \u001b[0mcompat\u001b[0m\u001b[0;34m.\u001b[0m\u001b[0mas_text\u001b[0m\u001b[0;34m(\u001b[0m\u001b[0mc_api\u001b[0m\u001b[0;34m.\u001b[0m\u001b[0mTF_Message\u001b[0m\u001b[0;34m(\u001b[0m\u001b[0mself\u001b[0m\u001b[0;34m.\u001b[0m\u001b[0mstatus\u001b[0m\u001b[0;34m.\u001b[0m\u001b[0mstatus\u001b[0m\u001b[0;34m)\u001b[0m\u001b[0;34m)\u001b[0m\u001b[0;34m,\u001b[0m\u001b[0;34m\u001b[0m\u001b[0m\n\u001b[0;32m--> 528\u001b[0;31m             c_api.TF_GetCode(self.status.status))\n\u001b[0m\u001b[1;32m    529\u001b[0m     \u001b[0;31m# Delete the underlying status object from memory otherwise it stays alive\u001b[0m\u001b[0;34m\u001b[0m\u001b[0;34m\u001b[0m\u001b[0m\n\u001b[1;32m    530\u001b[0m     \u001b[0;31m# as there is a reference to status from this from the traceback due to\u001b[0m\u001b[0;34m\u001b[0m\u001b[0;34m\u001b[0m\u001b[0m\n",
      "\u001b[0;31mResourceExhaustedError\u001b[0m: OOM when allocating tensor with shape[128,64,1,16] and type float on /job:localhost/replica:0/task:0/device:GPU:0 by allocator GPU_0_bfc\n\t [[{{node conv1d_3/conv1d/Conv2D}} = Conv2D[T=DT_FLOAT, _class=[\"loc:@training/Adam/gradients/conv1d_3/conv1d/Conv2D_grad/Conv2DBackpropInput\"], data_format=\"NCHW\", dilations=[1, 1, 1, 1], padding=\"VALID\", strides=[1, 1, 1, 1], use_cudnn_on_gpu=true, _device=\"/job:localhost/replica:0/task:0/device:GPU:0\"](training/Adam/gradients/conv1d_3/conv1d/Conv2D_grad/Conv2DBackpropFilter-0-TransposeNHWCToNCHW-LayoutOptimizer, conv1d_3/conv1d/ExpandDims_1)]]\nHint: If you want to see a list of allocated tensors when OOM happens, add report_tensor_allocations_upon_oom to RunOptions for current allocation info.\n\n\t [[{{node loss/activation_49_loss/broadcast_weights/assert_broadcastable/is_valid_shape/has_valid_nonscalar_shape/has_invalid_dims/concat/_2409}} = _Recv[client_terminated=false, recv_device=\"/job:localhost/replica:0/task:0/device:CPU:0\", send_device=\"/job:localhost/replica:0/task:0/device:GPU:0\", send_device_incarnation=1, tensor_name=\"edge_9526_...ims/concat\", tensor_type=DT_INT32, _device=\"/job:localhost/replica:0/task:0/device:CPU:0\"]()]]\nHint: If you want to see a list of allocated tensors when OOM happens, add report_tensor_allocations_upon_oom to RunOptions for current allocation info.\n"
     ]
    },
    {
     "data": {
      "text/plain": [
       "<Figure size 432x288 with 0 Axes>"
      ]
     },
     "metadata": {},
     "output_type": "display_data"
    }
   ],
   "source": [
    "global_history = []\n",
    "global_val_history = []\n",
    "\n",
    "with open('data/gene_encoder.pkl', 'rb') as f:\n",
    "    label_encoder = pkl.load(f)\n",
    "    \n",
    "\n",
    "for drugbank in tqdm(drugbank_reader):\n",
    "    \n",
    "    \n",
    "    print('Reading chunk from file..')\n",
    "    #drugbank = drugbank_reader.__next__()\n",
    "    \n",
    "    #drugbank['target_gene_encoded'] = drugbank['target_gene_code'].progress_apply(\\\n",
    "    #                                   lambda x: label_encoder.transform([i for i in list(x) if i in gene_chars]))\n",
    "    #drugbank['drug_fingerprint_encoded'] = drugbank['drug_fingerprint_code'].progress_apply(lambda x: [int(i) for i in x.replace(' ', '')])\n",
    "\n",
    "    \n",
    "    print('Sampling..')\n",
    "    train_df, test_df = train_test_split(drugbank)\n",
    "    #train_df = train_df_all.sample(800)\n",
    "    #test_df  = test_df_all.sample(800)\n",
    "    \n",
    "    print('Padding..') \n",
    "    X_0 = np.array(list(train_df['target_gene_encoded_padded']))\n",
    "    X_1 = np.array(list(train_df['drug_fingerprint_encoded_padded']))\n",
    "    Y   = np.array(list(train_df['Y']))\n",
    "    \n",
    "\n",
    "    X_0_test = np.array(list(test_df['target_gene_encoded_padded']))\n",
    "    X_1_test = np.array(list(test_df['drug_fingerprint_encoded_padded']))\n",
    "        \n",
    "    Y_test   = np.array(list(test_df['Y']))\n",
    "    \n",
    "    print(X_0.shape)\n",
    "    print(X_1.shape)\n",
    "    \n",
    "    print(X_0_test.shape)\n",
    "    print(X_1_test.shape)\n",
    "\n",
    "    print('Trimming..')\n",
    "    X_0 = X_0[:, int(trim_width/2) : X_0.shape[1] - int(trim_width/2)]\n",
    "    X_1 = X_1[:, int(trim_width/2) : X_1.shape[1] - int(trim_width/2)]\n",
    "    \n",
    "    X_0_test = X_0_test[:, int(trim_width/2) : X_0_test.shape[1] - int(trim_width/2)]\n",
    "    X_1_test = X_1_test[:, int(trim_width/2) : X_1_test.shape[1] - int(trim_width/2)]\n",
    "    \n",
    "\n",
    "    X_0 = X_0.astype(int) + 1\n",
    "    X_1 = X_1.astype(int) + 1\n",
    "    Y   = Y.astype(int)\n",
    "\n",
    "    X_0_test = X_0_test.astype(int) + 1\n",
    "    X_1_test = X_1_test.astype(int) + 1\n",
    "    Y_test   = Y_test.astype(int)\n",
    "    \n",
    "    print(X_0.shape)\n",
    "    print(X_1.shape)\n",
    "    \n",
    "    print(X_0_test.shape)\n",
    "    print(X_1_test.shape)\n",
    "\n",
    "\n",
    "    X_0 = np.hstack((X_0, X_1))\n",
    "    X_0_test = np.hstack((X_0_test, X_1_test))\n",
    "\n",
    "    print('Modelling..')\n",
    "    \n",
    "    print(\"X0 Shape : \" + str(X_0.shape))\n",
    "    print(\"X1 Shape : \" + str(X_1.shape))\n",
    "    \n",
    "    print(\"X0 Test Shape : \" + str(X_0_test.shape))\n",
    "    print(\"X1 Test Shape : \" + str(X_1_test.shape))\n",
    "    \n",
    "    \n",
    "    history = model.fit(X_0[..., np.newaxis], Y,\n",
    "                          batch_size=batch_size,\n",
    "                          epochs=1,\n",
    "                          callbacks=[plot_losses],\n",
    "                          validation_data=(X_0_test[..., np.newaxis], Y_test), verbose = 2)\n",
    "\n",
    "\n",
    "    global_val_history.extend(history.history['val_binary_accuracy'])\n",
    "    global_history.extend(history.history['binary_accuracy'])\n",
    "\n",
    "\n",
    "    "
   ]
  },
  {
   "cell_type": "code",
   "execution_count": null,
   "metadata": {},
   "outputs": [],
   "source": [
    "X_0_test.shape"
   ]
  },
  {
   "cell_type": "code",
   "execution_count": 71,
   "metadata": {},
   "outputs": [],
   "source": [
    "model.save('models/CNN_GPU_VGG_87p.model')"
   ]
  },
  {
   "cell_type": "code",
   "execution_count": null,
   "metadata": {},
   "outputs": [],
   "source": []
  }
 ],
 "metadata": {
  "kernelspec": {
   "display_name": "Python 3",
   "language": "python",
   "name": "python3"
  },
  "language_info": {
   "codemirror_mode": {
    "name": "ipython",
    "version": 3
   },
   "file_extension": ".py",
   "mimetype": "text/x-python",
   "name": "python",
   "nbconvert_exporter": "python",
   "pygments_lexer": "ipython3",
   "version": "3.6.6"
  }
 },
 "nbformat": 4,
 "nbformat_minor": 2
}
