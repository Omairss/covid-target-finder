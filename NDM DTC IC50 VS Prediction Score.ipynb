{
 "cells": [
  {
   "cell_type": "code",
   "execution_count": 12,
   "metadata": {},
   "outputs": [],
   "source": [
    "import pandas as pd\n",
    "import matplotlib.pyplot as plt"
   ]
  },
  {
   "cell_type": "code",
   "execution_count": 2,
   "metadata": {},
   "outputs": [],
   "source": [
    "ndm_dt_redicted_df= pd.read_pickle('data/NDM_DTC_Predicted_Scores.pkl')"
   ]
  },
  {
   "cell_type": "code",
   "execution_count": 5,
   "metadata": {
    "scrolled": true
   },
   "outputs": [
    {
     "data": {
      "text/html": [
       "<div>\n",
       "<style scoped>\n",
       "    .dataframe tbody tr th:only-of-type {\n",
       "        vertical-align: middle;\n",
       "    }\n",
       "\n",
       "    .dataframe tbody tr th {\n",
       "        vertical-align: top;\n",
       "    }\n",
       "\n",
       "    .dataframe thead th {\n",
       "        text-align: right;\n",
       "    }\n",
       "</style>\n",
       "<table border=\"1\" class=\"dataframe\">\n",
       "  <thead>\n",
       "    <tr style=\"text-align: right;\">\n",
       "      <th></th>\n",
       "      <th>CHEMBL_id</th>\n",
       "      <th>InChi_Key</th>\n",
       "      <th>gene_seq</th>\n",
       "      <th>gene_name</th>\n",
       "      <th>fingerprint</th>\n",
       "      <th>target_gene_code</th>\n",
       "      <th>target_gene_encoded</th>\n",
       "      <th>drug_fingerprint_encoded</th>\n",
       "      <th>target_gene_encoded_len</th>\n",
       "      <th>drug_fingerprint_encoded_len</th>\n",
       "      <th>target_gene_encoded_mismatch</th>\n",
       "      <th>drug_fingerprint_encoded_mismatch</th>\n",
       "      <th>target_gene_encoded_padded</th>\n",
       "      <th>drug_fingerprint_encoded_padded</th>\n",
       "      <th>Y_pred</th>\n",
       "    </tr>\n",
       "  </thead>\n",
       "  <tbody>\n",
       "    <tr>\n",
       "      <th>0</th>\n",
       "      <td>CHEMBL418746</td>\n",
       "      <td>AAKDPDFZMNYDLR-UHFFFAOYSA-N</td>\n",
       "      <td>TTGAGCCTTTTCAGCAAGCTTAAAGAAGGTTTAAATAAGACGCGGC...</td>\n",
       "      <td>GAA</td>\n",
       "      <td>2246728737 3657471097 2092489639 2014255590 29...</td>\n",
       "      <td>TTGAGCCTTTTCAGCAAGCTTAAAGAAGGTTTAAATAAGACGCGGC...</td>\n",
       "      <td>[3, 3, 2, 0, 2, 1, 1, 3, 3, 3, 3, 1, 0, 2, 1, ...</td>\n",
       "      <td>[2, 2, 4, 6, 7, 2, 8, 7, 3, 7, 3, 6, 5, 7, 4, ...</td>\n",
       "      <td>936</td>\n",
       "      <td>231</td>\n",
       "      <td>3576</td>\n",
       "      <td>2091</td>\n",
       "      <td>[-1, -1, -1, -1, -1, -1, -1, -1, -1, -1, -1, -...</td>\n",
       "      <td>[-1, -1, -1, -1, -1, -1, -1, -1, -1, -1, -1, -...</td>\n",
       "      <td>0.487678</td>\n",
       "    </tr>\n",
       "    <tr>\n",
       "      <th>1</th>\n",
       "      <td>CHEMBL418746</td>\n",
       "      <td>AAKDPDFZMNYDLR-UHFFFAOYSA-N</td>\n",
       "      <td>TTGAGCCTTTTCAGCAAGCTTAAAGAAGGTTTAAATAAGACGCGGC...</td>\n",
       "      <td>GAA</td>\n",
       "      <td>2246728737 3657471097 2092489639 2014255590 29...</td>\n",
       "      <td>TTGAGCCTTTTCAGCAAGCTTAAAGAAGGTTTAAATAAGACGCGGC...</td>\n",
       "      <td>[3, 3, 2, 0, 2, 1, 1, 3, 3, 3, 3, 1, 0, 2, 1, ...</td>\n",
       "      <td>[2, 2, 4, 6, 7, 2, 8, 7, 3, 7, 3, 6, 5, 7, 4, ...</td>\n",
       "      <td>936</td>\n",
       "      <td>231</td>\n",
       "      <td>3576</td>\n",
       "      <td>2091</td>\n",
       "      <td>[-1, -1, -1, -1, -1, -1, -1, -1, -1, -1, -1, -...</td>\n",
       "      <td>[-1, -1, -1, -1, -1, -1, -1, -1, -1, -1, -1, -...</td>\n",
       "      <td>0.487678</td>\n",
       "    </tr>\n",
       "    <tr>\n",
       "      <th>2</th>\n",
       "      <td>CHEMBL418746</td>\n",
       "      <td>AAKDPDFZMNYDLR-UHFFFAOYSA-N</td>\n",
       "      <td>TTGTTGAAGCATGTGGTTACCCTGATACCGGGTGATGGTACTGGCC...</td>\n",
       "      <td>FUCA1</td>\n",
       "      <td>2246728737 3657471097 2092489639 2014255590 29...</td>\n",
       "      <td>TTGTTGAAGCATGTGGTTACCCTGATACCGGGTGATGGTACTGGCC...</td>\n",
       "      <td>[3, 3, 2, 3, 3, 2, 0, 0, 2, 1, 0, 3, 2, 3, 2, ...</td>\n",
       "      <td>[2, 2, 4, 6, 7, 2, 8, 7, 3, 7, 3, 6, 5, 7, 4, ...</td>\n",
       "      <td>1011</td>\n",
       "      <td>231</td>\n",
       "      <td>3501</td>\n",
       "      <td>2091</td>\n",
       "      <td>[-1, -1, -1, -1, -1, -1, -1, -1, -1, -1, -1, -...</td>\n",
       "      <td>[-1, -1, -1, -1, -1, -1, -1, -1, -1, -1, -1, -...</td>\n",
       "      <td>0.298055</td>\n",
       "    </tr>\n",
       "    <tr>\n",
       "      <th>3</th>\n",
       "      <td>CHEMBL1484869</td>\n",
       "      <td>AAOFJKLTRKOQTQ-UHFFFAOYSA-N</td>\n",
       "      <td>ATGGATGTAATTAAACAAGCTTTAGAGAGGATGGGCTATGCCGCTG...</td>\n",
       "      <td>CYP3A4</td>\n",
       "      <td>2246728737 422715066 3217380708 3120642300 321...</td>\n",
       "      <td>ATGGATGTAATTAAACAAGCTTTAGAGAGGATGGGCTATGCCGCTG...</td>\n",
       "      <td>[0, 3, 2, 2, 0, 3, 2, 3, 0, 0, 3, 3, 0, 0, 0, ...</td>\n",
       "      <td>[2, 2, 4, 6, 7, 2, 8, 7, 3, 7, 4, 2, 2, 7, 1, ...</td>\n",
       "      <td>933</td>\n",
       "      <td>292</td>\n",
       "      <td>3579</td>\n",
       "      <td>2030</td>\n",
       "      <td>[-1, -1, -1, -1, -1, -1, -1, -1, -1, -1, -1, -...</td>\n",
       "      <td>[-1, -1, -1, -1, -1, -1, -1, -1, -1, -1, -1, -...</td>\n",
       "      <td>0.096136</td>\n",
       "    </tr>\n",
       "    <tr>\n",
       "      <th>4</th>\n",
       "      <td>CHEMBL1484869</td>\n",
       "      <td>AAOFJKLTRKOQTQ-UHFFFAOYSA-N</td>\n",
       "      <td>ATGGATGTAATTAAACAAGCTTTAGAGAGGATGGGCTATGCCGCTG...</td>\n",
       "      <td>CYP3A4</td>\n",
       "      <td>2246728737 422715066 3217380708 3120642300 321...</td>\n",
       "      <td>ATGGATGTAATTAAACAAGCTTTAGAGAGGATGGGCTATGCCGCTG...</td>\n",
       "      <td>[0, 3, 2, 2, 0, 3, 2, 3, 0, 0, 3, 3, 0, 0, 0, ...</td>\n",
       "      <td>[2, 2, 4, 6, 7, 2, 8, 7, 3, 7, 4, 2, 2, 7, 1, ...</td>\n",
       "      <td>933</td>\n",
       "      <td>292</td>\n",
       "      <td>3579</td>\n",
       "      <td>2030</td>\n",
       "      <td>[-1, -1, -1, -1, -1, -1, -1, -1, -1, -1, -1, -...</td>\n",
       "      <td>[-1, -1, -1, -1, -1, -1, -1, -1, -1, -1, -1, -...</td>\n",
       "      <td>0.096136</td>\n",
       "    </tr>\n",
       "    <tr>\n",
       "      <th>...</th>\n",
       "      <td>...</td>\n",
       "      <td>...</td>\n",
       "      <td>...</td>\n",
       "      <td>...</td>\n",
       "      <td>...</td>\n",
       "      <td>...</td>\n",
       "      <td>...</td>\n",
       "      <td>...</td>\n",
       "      <td>...</td>\n",
       "      <td>...</td>\n",
       "      <td>...</td>\n",
       "      <td>...</td>\n",
       "      <td>...</td>\n",
       "      <td>...</td>\n",
       "      <td>...</td>\n",
       "    </tr>\n",
       "    <tr>\n",
       "      <th>31453</th>\n",
       "      <td>CHEMBL186200</td>\n",
       "      <td>NaN</td>\n",
       "      <td>GTGATCTTCCTGGCGAAAACAAAAGAGCGCTTTGTCTGCCAGCAAT...</td>\n",
       "      <td>CA2</td>\n",
       "      <td>848127915 88330248 864942730 2378779377 864942...</td>\n",
       "      <td>GTGATCTTCCTGGCGAAAACAAAAGAGCGCTTTGTCTGCCAGCAAT...</td>\n",
       "      <td>[2, 3, 2, 0, 3, 1, 3, 3, 1, 1, 3, 2, 2, 1, 2, ...</td>\n",
       "      <td>[8, 4, 8, 1, 2, 7, 9, 1, 5, 8, 8, 3, 3, 0, 2, ...</td>\n",
       "      <td>1368</td>\n",
       "      <td>74</td>\n",
       "      <td>3144</td>\n",
       "      <td>2248</td>\n",
       "      <td>[-1, -1, -1, -1, -1, -1, -1, -1, -1, -1, -1, -...</td>\n",
       "      <td>[-1, -1, -1, -1, -1, -1, -1, -1, -1, -1, -1, -...</td>\n",
       "      <td>0.486352</td>\n",
       "    </tr>\n",
       "    <tr>\n",
       "      <th>31454</th>\n",
       "      <td>CHEMBL1200739</td>\n",
       "      <td>NaN</td>\n",
       "      <td>ATGTTTAAAGTGGGCGATAAAGTAGTGTATCCCATGCACGGGGCGG...</td>\n",
       "      <td>CA1</td>\n",
       "      <td>1026822558</td>\n",
       "      <td>ATGTTTAAAGTGGGCGATAAAGTAGTGTATCCCATGCACGGGGCGG...</td>\n",
       "      <td>[0, 3, 2, 3, 3, 3, 0, 0, 0, 2, 3, 2, 2, 2, 1, ...</td>\n",
       "      <td>[1, 0, 2, 6, 8, 2, 2, 5, 5, 8]</td>\n",
       "      <td>483</td>\n",
       "      <td>10</td>\n",
       "      <td>4029</td>\n",
       "      <td>2312</td>\n",
       "      <td>[-1, -1, -1, -1, -1, -1, -1, -1, -1, -1, -1, -...</td>\n",
       "      <td>[-1, -1, -1, -1, -1, -1, -1, -1, -1, -1, -1, -...</td>\n",
       "      <td>0.164342</td>\n",
       "    </tr>\n",
       "    <tr>\n",
       "      <th>31455</th>\n",
       "      <td>CHEMBL186200</td>\n",
       "      <td>NaN</td>\n",
       "      <td>ATGTTTAAAGTGGGCGATAAAGTAGTGTATCCCATGCACGGGGCGG...</td>\n",
       "      <td>CA1</td>\n",
       "      <td>848127915 88330248 864942730 2378779377 864942...</td>\n",
       "      <td>ATGTTTAAAGTGGGCGATAAAGTAGTGTATCCCATGCACGGGGCGG...</td>\n",
       "      <td>[0, 3, 2, 3, 3, 3, 0, 0, 0, 2, 3, 2, 2, 2, 1, ...</td>\n",
       "      <td>[8, 4, 8, 1, 2, 7, 9, 1, 5, 8, 8, 3, 3, 0, 2, ...</td>\n",
       "      <td>483</td>\n",
       "      <td>74</td>\n",
       "      <td>4029</td>\n",
       "      <td>2248</td>\n",
       "      <td>[-1, -1, -1, -1, -1, -1, -1, -1, -1, -1, -1, -...</td>\n",
       "      <td>[-1, -1, -1, -1, -1, -1, -1, -1, -1, -1, -1, -...</td>\n",
       "      <td>0.284837</td>\n",
       "    </tr>\n",
       "    <tr>\n",
       "      <th>31456</th>\n",
       "      <td>CHEMBL186200</td>\n",
       "      <td>NaN</td>\n",
       "      <td>ATGTTTAAAGTGGGCGATAAAGTAGTGTATCCCATGCACGGGGCGG...</td>\n",
       "      <td>CA1</td>\n",
       "      <td>848127915 88330248 864942730 2378779377 864942...</td>\n",
       "      <td>ATGTTTAAAGTGGGCGATAAAGTAGTGTATCCCATGCACGGGGCGG...</td>\n",
       "      <td>[0, 3, 2, 3, 3, 3, 0, 0, 0, 2, 3, 2, 2, 2, 1, ...</td>\n",
       "      <td>[8, 4, 8, 1, 2, 7, 9, 1, 5, 8, 8, 3, 3, 0, 2, ...</td>\n",
       "      <td>483</td>\n",
       "      <td>74</td>\n",
       "      <td>4029</td>\n",
       "      <td>2248</td>\n",
       "      <td>[-1, -1, -1, -1, -1, -1, -1, -1, -1, -1, -1, -...</td>\n",
       "      <td>[-1, -1, -1, -1, -1, -1, -1, -1, -1, -1, -1, -...</td>\n",
       "      <td>0.284837</td>\n",
       "    </tr>\n",
       "    <tr>\n",
       "      <th>31457</th>\n",
       "      <td>CHEMBL186200</td>\n",
       "      <td>NaN</td>\n",
       "      <td>ATGTTTAAAGTGGGCGATAAAGTAGTGTATCCCATGCACGGGGCGG...</td>\n",
       "      <td>CA1</td>\n",
       "      <td>848127915 88330248 864942730 2378779377 864942...</td>\n",
       "      <td>ATGTTTAAAGTGGGCGATAAAGTAGTGTATCCCATGCACGGGGCGG...</td>\n",
       "      <td>[0, 3, 2, 3, 3, 3, 0, 0, 0, 2, 3, 2, 2, 2, 1, ...</td>\n",
       "      <td>[8, 4, 8, 1, 2, 7, 9, 1, 5, 8, 8, 3, 3, 0, 2, ...</td>\n",
       "      <td>483</td>\n",
       "      <td>74</td>\n",
       "      <td>4029</td>\n",
       "      <td>2248</td>\n",
       "      <td>[-1, -1, -1, -1, -1, -1, -1, -1, -1, -1, -1, -...</td>\n",
       "      <td>[-1, -1, -1, -1, -1, -1, -1, -1, -1, -1, -1, -...</td>\n",
       "      <td>0.284837</td>\n",
       "    </tr>\n",
       "  </tbody>\n",
       "</table>\n",
       "<p>31458 rows × 15 columns</p>\n",
       "</div>"
      ],
      "text/plain": [
       "           CHEMBL_id                    InChi_Key  \\\n",
       "0       CHEMBL418746  AAKDPDFZMNYDLR-UHFFFAOYSA-N   \n",
       "1       CHEMBL418746  AAKDPDFZMNYDLR-UHFFFAOYSA-N   \n",
       "2       CHEMBL418746  AAKDPDFZMNYDLR-UHFFFAOYSA-N   \n",
       "3      CHEMBL1484869  AAOFJKLTRKOQTQ-UHFFFAOYSA-N   \n",
       "4      CHEMBL1484869  AAOFJKLTRKOQTQ-UHFFFAOYSA-N   \n",
       "...              ...                          ...   \n",
       "31453   CHEMBL186200                          NaN   \n",
       "31454  CHEMBL1200739                          NaN   \n",
       "31455   CHEMBL186200                          NaN   \n",
       "31456   CHEMBL186200                          NaN   \n",
       "31457   CHEMBL186200                          NaN   \n",
       "\n",
       "                                                gene_seq gene_name  \\\n",
       "0      TTGAGCCTTTTCAGCAAGCTTAAAGAAGGTTTAAATAAGACGCGGC...       GAA   \n",
       "1      TTGAGCCTTTTCAGCAAGCTTAAAGAAGGTTTAAATAAGACGCGGC...       GAA   \n",
       "2      TTGTTGAAGCATGTGGTTACCCTGATACCGGGTGATGGTACTGGCC...     FUCA1   \n",
       "3      ATGGATGTAATTAAACAAGCTTTAGAGAGGATGGGCTATGCCGCTG...    CYP3A4   \n",
       "4      ATGGATGTAATTAAACAAGCTTTAGAGAGGATGGGCTATGCCGCTG...    CYP3A4   \n",
       "...                                                  ...       ...   \n",
       "31453  GTGATCTTCCTGGCGAAAACAAAAGAGCGCTTTGTCTGCCAGCAAT...       CA2   \n",
       "31454  ATGTTTAAAGTGGGCGATAAAGTAGTGTATCCCATGCACGGGGCGG...       CA1   \n",
       "31455  ATGTTTAAAGTGGGCGATAAAGTAGTGTATCCCATGCACGGGGCGG...       CA1   \n",
       "31456  ATGTTTAAAGTGGGCGATAAAGTAGTGTATCCCATGCACGGGGCGG...       CA1   \n",
       "31457  ATGTTTAAAGTGGGCGATAAAGTAGTGTATCCCATGCACGGGGCGG...       CA1   \n",
       "\n",
       "                                             fingerprint  \\\n",
       "0      2246728737 3657471097 2092489639 2014255590 29...   \n",
       "1      2246728737 3657471097 2092489639 2014255590 29...   \n",
       "2      2246728737 3657471097 2092489639 2014255590 29...   \n",
       "3      2246728737 422715066 3217380708 3120642300 321...   \n",
       "4      2246728737 422715066 3217380708 3120642300 321...   \n",
       "...                                                  ...   \n",
       "31453  848127915 88330248 864942730 2378779377 864942...   \n",
       "31454                                         1026822558   \n",
       "31455  848127915 88330248 864942730 2378779377 864942...   \n",
       "31456  848127915 88330248 864942730 2378779377 864942...   \n",
       "31457  848127915 88330248 864942730 2378779377 864942...   \n",
       "\n",
       "                                        target_gene_code  \\\n",
       "0      TTGAGCCTTTTCAGCAAGCTTAAAGAAGGTTTAAATAAGACGCGGC...   \n",
       "1      TTGAGCCTTTTCAGCAAGCTTAAAGAAGGTTTAAATAAGACGCGGC...   \n",
       "2      TTGTTGAAGCATGTGGTTACCCTGATACCGGGTGATGGTACTGGCC...   \n",
       "3      ATGGATGTAATTAAACAAGCTTTAGAGAGGATGGGCTATGCCGCTG...   \n",
       "4      ATGGATGTAATTAAACAAGCTTTAGAGAGGATGGGCTATGCCGCTG...   \n",
       "...                                                  ...   \n",
       "31453  GTGATCTTCCTGGCGAAAACAAAAGAGCGCTTTGTCTGCCAGCAAT...   \n",
       "31454  ATGTTTAAAGTGGGCGATAAAGTAGTGTATCCCATGCACGGGGCGG...   \n",
       "31455  ATGTTTAAAGTGGGCGATAAAGTAGTGTATCCCATGCACGGGGCGG...   \n",
       "31456  ATGTTTAAAGTGGGCGATAAAGTAGTGTATCCCATGCACGGGGCGG...   \n",
       "31457  ATGTTTAAAGTGGGCGATAAAGTAGTGTATCCCATGCACGGGGCGG...   \n",
       "\n",
       "                                     target_gene_encoded  \\\n",
       "0      [3, 3, 2, 0, 2, 1, 1, 3, 3, 3, 3, 1, 0, 2, 1, ...   \n",
       "1      [3, 3, 2, 0, 2, 1, 1, 3, 3, 3, 3, 1, 0, 2, 1, ...   \n",
       "2      [3, 3, 2, 3, 3, 2, 0, 0, 2, 1, 0, 3, 2, 3, 2, ...   \n",
       "3      [0, 3, 2, 2, 0, 3, 2, 3, 0, 0, 3, 3, 0, 0, 0, ...   \n",
       "4      [0, 3, 2, 2, 0, 3, 2, 3, 0, 0, 3, 3, 0, 0, 0, ...   \n",
       "...                                                  ...   \n",
       "31453  [2, 3, 2, 0, 3, 1, 3, 3, 1, 1, 3, 2, 2, 1, 2, ...   \n",
       "31454  [0, 3, 2, 3, 3, 3, 0, 0, 0, 2, 3, 2, 2, 2, 1, ...   \n",
       "31455  [0, 3, 2, 3, 3, 3, 0, 0, 0, 2, 3, 2, 2, 2, 1, ...   \n",
       "31456  [0, 3, 2, 3, 3, 3, 0, 0, 0, 2, 3, 2, 2, 2, 1, ...   \n",
       "31457  [0, 3, 2, 3, 3, 3, 0, 0, 0, 2, 3, 2, 2, 2, 1, ...   \n",
       "\n",
       "                                drug_fingerprint_encoded  \\\n",
       "0      [2, 2, 4, 6, 7, 2, 8, 7, 3, 7, 3, 6, 5, 7, 4, ...   \n",
       "1      [2, 2, 4, 6, 7, 2, 8, 7, 3, 7, 3, 6, 5, 7, 4, ...   \n",
       "2      [2, 2, 4, 6, 7, 2, 8, 7, 3, 7, 3, 6, 5, 7, 4, ...   \n",
       "3      [2, 2, 4, 6, 7, 2, 8, 7, 3, 7, 4, 2, 2, 7, 1, ...   \n",
       "4      [2, 2, 4, 6, 7, 2, 8, 7, 3, 7, 4, 2, 2, 7, 1, ...   \n",
       "...                                                  ...   \n",
       "31453  [8, 4, 8, 1, 2, 7, 9, 1, 5, 8, 8, 3, 3, 0, 2, ...   \n",
       "31454                     [1, 0, 2, 6, 8, 2, 2, 5, 5, 8]   \n",
       "31455  [8, 4, 8, 1, 2, 7, 9, 1, 5, 8, 8, 3, 3, 0, 2, ...   \n",
       "31456  [8, 4, 8, 1, 2, 7, 9, 1, 5, 8, 8, 3, 3, 0, 2, ...   \n",
       "31457  [8, 4, 8, 1, 2, 7, 9, 1, 5, 8, 8, 3, 3, 0, 2, ...   \n",
       "\n",
       "       target_gene_encoded_len  drug_fingerprint_encoded_len  \\\n",
       "0                          936                           231   \n",
       "1                          936                           231   \n",
       "2                         1011                           231   \n",
       "3                          933                           292   \n",
       "4                          933                           292   \n",
       "...                        ...                           ...   \n",
       "31453                     1368                            74   \n",
       "31454                      483                            10   \n",
       "31455                      483                            74   \n",
       "31456                      483                            74   \n",
       "31457                      483                            74   \n",
       "\n",
       "       target_gene_encoded_mismatch  drug_fingerprint_encoded_mismatch  \\\n",
       "0                              3576                               2091   \n",
       "1                              3576                               2091   \n",
       "2                              3501                               2091   \n",
       "3                              3579                               2030   \n",
       "4                              3579                               2030   \n",
       "...                             ...                                ...   \n",
       "31453                          3144                               2248   \n",
       "31454                          4029                               2312   \n",
       "31455                          4029                               2248   \n",
       "31456                          4029                               2248   \n",
       "31457                          4029                               2248   \n",
       "\n",
       "                              target_gene_encoded_padded  \\\n",
       "0      [-1, -1, -1, -1, -1, -1, -1, -1, -1, -1, -1, -...   \n",
       "1      [-1, -1, -1, -1, -1, -1, -1, -1, -1, -1, -1, -...   \n",
       "2      [-1, -1, -1, -1, -1, -1, -1, -1, -1, -1, -1, -...   \n",
       "3      [-1, -1, -1, -1, -1, -1, -1, -1, -1, -1, -1, -...   \n",
       "4      [-1, -1, -1, -1, -1, -1, -1, -1, -1, -1, -1, -...   \n",
       "...                                                  ...   \n",
       "31453  [-1, -1, -1, -1, -1, -1, -1, -1, -1, -1, -1, -...   \n",
       "31454  [-1, -1, -1, -1, -1, -1, -1, -1, -1, -1, -1, -...   \n",
       "31455  [-1, -1, -1, -1, -1, -1, -1, -1, -1, -1, -1, -...   \n",
       "31456  [-1, -1, -1, -1, -1, -1, -1, -1, -1, -1, -1, -...   \n",
       "31457  [-1, -1, -1, -1, -1, -1, -1, -1, -1, -1, -1, -...   \n",
       "\n",
       "                         drug_fingerprint_encoded_padded    Y_pred  \n",
       "0      [-1, -1, -1, -1, -1, -1, -1, -1, -1, -1, -1, -...  0.487678  \n",
       "1      [-1, -1, -1, -1, -1, -1, -1, -1, -1, -1, -1, -...  0.487678  \n",
       "2      [-1, -1, -1, -1, -1, -1, -1, -1, -1, -1, -1, -...  0.298055  \n",
       "3      [-1, -1, -1, -1, -1, -1, -1, -1, -1, -1, -1, -...  0.096136  \n",
       "4      [-1, -1, -1, -1, -1, -1, -1, -1, -1, -1, -1, -...  0.096136  \n",
       "...                                                  ...       ...  \n",
       "31453  [-1, -1, -1, -1, -1, -1, -1, -1, -1, -1, -1, -...  0.486352  \n",
       "31454  [-1, -1, -1, -1, -1, -1, -1, -1, -1, -1, -1, -...  0.164342  \n",
       "31455  [-1, -1, -1, -1, -1, -1, -1, -1, -1, -1, -1, -...  0.284837  \n",
       "31456  [-1, -1, -1, -1, -1, -1, -1, -1, -1, -1, -1, -...  0.284837  \n",
       "31457  [-1, -1, -1, -1, -1, -1, -1, -1, -1, -1, -1, -...  0.284837  \n",
       "\n",
       "[31458 rows x 15 columns]"
      ]
     },
     "execution_count": 5,
     "metadata": {},
     "output_type": "execute_result"
    }
   ],
   "source": [
    "ndm_dt_redicted_df"
   ]
  },
  {
   "cell_type": "code",
   "execution_count": 3,
   "metadata": {},
   "outputs": [
    {
     "name": "stderr",
     "output_type": "stream",
     "text": [
      "/miniconda/lib/python3.6/site-packages/IPython/core/interactiveshell.py:3063: DtypeWarning: Columns (0,1,2,3,8,14,21,22,23,24,25,26,27,30,32) have mixed types.Specify dtype option on import or set low_memory=False.\n",
      "  interactivity=interactivity, compiler=compiler, result=result)\n"
     ]
    }
   ],
   "source": [
    "dtc_full_df = pd.read_csv('data/DTC_data.csv')"
   ]
  },
  {
   "cell_type": "code",
   "execution_count": 4,
   "metadata": {
    "scrolled": true
   },
   "outputs": [
    {
     "data": {
      "text/plain": [
       "['compound_id',\n",
       " 'standard_inchi_key',\n",
       " 'compound_name',\n",
       " 'synonym',\n",
       " 'target_id',\n",
       " 'target_pref_name',\n",
       " 'gene_names',\n",
       " 'wildtype_or_mutant',\n",
       " 'mutation_info',\n",
       " 'pubmed_id',\n",
       " 'standard_type',\n",
       " 'standard_relation',\n",
       " 'standard_value',\n",
       " 'standard_units',\n",
       " 'activity_comment',\n",
       " 'ep_action_mode',\n",
       " 'assay_format',\n",
       " 'assaytype',\n",
       " 'assay_subtype',\n",
       " 'inhibitor_type',\n",
       " 'detection_tech',\n",
       " 'assay_cell_line',\n",
       " 'compound_concentration_value',\n",
       " 'compound_concentration_value_unit',\n",
       " 'substrate_type',\n",
       " 'substrate_relation',\n",
       " 'substrate_value',\n",
       " 'substrate_units',\n",
       " 'assay_description',\n",
       " 'title',\n",
       " 'journal',\n",
       " 'doc_type',\n",
       " 'annotation_comments']"
      ]
     },
     "execution_count": 4,
     "metadata": {},
     "output_type": "execute_result"
    }
   ],
   "source": [
    "list(dtc_full_df.columns)"
   ]
  },
  {
   "cell_type": "code",
   "execution_count": 7,
   "metadata": {},
   "outputs": [],
   "source": [
    "compund_gene_pair = []\n",
    "measure_standard_tuple =[]\n",
    "\n",
    "for index, row in dtc_full_df.iterrows():\n",
    "    compund_gene_pair.append((row['compound_id'], row['gene_names']))\n",
    "    measure_standard_tuple.append((row['standard_type'],row['standard_value'],row['standard_units']))"
   ]
  },
  {
   "cell_type": "code",
   "execution_count": 8,
   "metadata": {},
   "outputs": [],
   "source": [
    "ndm_dt_measure_standard_type = []\n",
    "ndm_dt_measure_standard_value = []\n",
    "ndm_dt_measure_standard_units = []\n",
    "\n",
    "for index, row in ndm_dt_redicted_df.iterrows():\n",
    "    pair_ndm = (row['CHEMBL_id'],row['gene_name'])\n",
    "    index_val = compund_gene_pair.index(pair_ndm)\n",
    "    standard_triplet = measure_standard_tuple[index_val]\n",
    "    ndm_dt_measure_standard_type.append(standard_triplet[0])\n",
    "    ndm_dt_measure_standard_value.append(standard_triplet[1])\n",
    "    ndm_dt_measure_standard_units.append(standard_triplet[2])"
   ]
  },
  {
   "cell_type": "code",
   "execution_count": 9,
   "metadata": {},
   "outputs": [],
   "source": [
    "ndm_dt_redicted_df['standard_type'] = ndm_dt_measure_standard_type\n",
    "ndm_dt_redicted_df['standard_value'] = ndm_dt_measure_standard_value\n",
    "ndm_dt_redicted_df['standard_units'] = ndm_dt_measure_standard_units"
   ]
  },
  {
   "cell_type": "code",
   "execution_count": 10,
   "metadata": {},
   "outputs": [],
   "source": [
    "ndm_dt_redicted_df.to_pickle('data/NDM_DTC_with_IC50.pkl')"
   ]
  },
  {
   "cell_type": "markdown",
   "metadata": {},
   "source": [
    "# DTC Standard Distributions"
   ]
  },
  {
   "cell_type": "code",
   "execution_count": 11,
   "metadata": {},
   "outputs": [],
   "source": [
    "DTC_IC50_List = []\n",
    "DTC_Ki_list = []\n",
    "DTC_kd_list = []\n",
    "\n",
    "for index, row in dtc_full_df.iterrows():\n",
    "    if row['standard_type'] == 'IC50':\n",
    "        DTC_IC50_List.append(row['standard_value'])\n",
    "    if row['standard_type'] == 'KI':\n",
    "        DTC_Ki_list.append(row['standard_value'])\n",
    "    if row['standard_type'] == 'KD':\n",
    "        DTC_kd_list.append(row['standard_value'])"
   ]
  },
  {
   "cell_type": "markdown",
   "metadata": {},
   "source": [
    "Check the equality here + smae units or not?"
   ]
  },
  {
   "cell_type": "code",
   "execution_count": 18,
   "metadata": {},
   "outputs": [
    {
     "data": {
      "text/plain": [
       "Text(0,0.5,'Count')"
      ]
     },
     "execution_count": 18,
     "metadata": {},
     "output_type": "execute_result"
    },
    {
     "data": {
      "image/png": "[encoded data removed]",
      "text/plain": [
       "<Figure size 432x288 with 1 Axes>"
      ]
     },
     "metadata": {
      "needs_background": "light"
     },
     "output_type": "display_data"
    }
   ],
   "source": [
    "plt.hist(pd.Series(DTC_IC50_List).dropna(), bins=100, log = True)\n",
    "plt.xlabel('IC50 Value')\n",
    "plt.ylabel('Count')"
   ]
  },
  {
   "cell_type": "code",
   "execution_count": 20,
   "metadata": {},
   "outputs": [
    {
     "data": {
      "text/plain": [
       "Text(0,0.5,'Count')"
      ]
     },
     "execution_count": 20,
     "metadata": {},
     "output_type": "execute_result"
    },
    {
     "data": {
      "image/png": "[encoded data removed]",
      "text/plain": [
       "<Figure size 432x288 with 1 Axes>"
      ]
     },
     "metadata": {
      "needs_background": "light"
     },
     "output_type": "display_data"
    }
   ],
   "source": [
    "plt.hist(pd.Series(DTC_Ki_list).dropna(), bins=100, log = True)\n",
    "plt.xlabel('Ki Value')\n",
    "plt.ylabel('Count')"
   ]
  },
  {
   "cell_type": "code",
   "execution_count": 22,
   "metadata": {},
   "outputs": [
    {
     "data": {
      "text/plain": [
       "Text(0,0.5,'Count')"
      ]
     },
     "execution_count": 22,
     "metadata": {},
     "output_type": "execute_result"
    },
    {
     "data": {
      "image/png": "[encoded data removed]",
      "text/plain": [
       "<Figure size 432x288 with 1 Axes>"
      ]
     },
     "metadata": {
      "needs_background": "light"
     },
     "output_type": "display_data"
    }
   ],
   "source": [
    "plt.hist(pd.Series(DTC_kd_list).dropna(), bins=100, log = True)\n",
    "plt.xlabel('Kd Value')\n",
    "plt.ylabel('Count')"
   ]
  },
  {
   "cell_type": "markdown",
   "metadata": {},
   "source": [
    "# NDM Predicitons VS IC50"
   ]
  },
  {
   "cell_type": "code",
   "execution_count": 23,
   "metadata": {
    "scrolled": true
   },
   "outputs": [
    {
     "data": {
      "text/html": [
       "<div>\n",
       "<style scoped>\n",
       "    .dataframe tbody tr th:only-of-type {\n",
       "        vertical-align: middle;\n",
       "    }\n",
       "\n",
       "    .dataframe tbody tr th {\n",
       "        vertical-align: top;\n",
       "    }\n",
       "\n",
       "    .dataframe thead th {\n",
       "        text-align: right;\n",
       "    }\n",
       "</style>\n",
       "<table border=\"1\" class=\"dataframe\">\n",
       "  <thead>\n",
       "    <tr style=\"text-align: right;\">\n",
       "      <th></th>\n",
       "      <th>CHEMBL_id</th>\n",
       "      <th>InChi_Key</th>\n",
       "      <th>gene_seq</th>\n",
       "      <th>gene_name</th>\n",
       "      <th>fingerprint</th>\n",
       "      <th>target_gene_code</th>\n",
       "      <th>target_gene_encoded</th>\n",
       "      <th>drug_fingerprint_encoded</th>\n",
       "      <th>target_gene_encoded_len</th>\n",
       "      <th>drug_fingerprint_encoded_len</th>\n",
       "      <th>target_gene_encoded_mismatch</th>\n",
       "      <th>drug_fingerprint_encoded_mismatch</th>\n",
       "      <th>target_gene_encoded_padded</th>\n",
       "      <th>drug_fingerprint_encoded_padded</th>\n",
       "      <th>Y_pred</th>\n",
       "      <th>standard_type</th>\n",
       "      <th>standard_value</th>\n",
       "      <th>standard_units</th>\n",
       "    </tr>\n",
       "  </thead>\n",
       "  <tbody>\n",
       "    <tr>\n",
       "      <th>0</th>\n",
       "      <td>CHEMBL418746</td>\n",
       "      <td>AAKDPDFZMNYDLR-UHFFFAOYSA-N</td>\n",
       "      <td>TTGAGCCTTTTCAGCAAGCTTAAAGAAGGTTTAAATAAGACGCGGC...</td>\n",
       "      <td>GAA</td>\n",
       "      <td>2246728737 3657471097 2092489639 2014255590 29...</td>\n",
       "      <td>TTGAGCCTTTTCAGCAAGCTTAAAGAAGGTTTAAATAAGACGCGGC...</td>\n",
       "      <td>[3, 3, 2, 0, 2, 1, 1, 3, 3, 3, 3, 1, 0, 2, 1, ...</td>\n",
       "      <td>[2, 2, 4, 6, 7, 2, 8, 7, 3, 7, 3, 6, 5, 7, 4, ...</td>\n",
       "      <td>936</td>\n",
       "      <td>231</td>\n",
       "      <td>3576</td>\n",
       "      <td>2091</td>\n",
       "      <td>[-1, -1, -1, -1, -1, -1, -1, -1, -1, -1, -1, -...</td>\n",
       "      <td>[-1, -1, -1, -1, -1, -1, -1, -1, -1, -1, -1, -...</td>\n",
       "      <td>0.487678</td>\n",
       "      <td>KI</td>\n",
       "      <td>54000.0</td>\n",
       "      <td>NM</td>\n",
       "    </tr>\n",
       "    <tr>\n",
       "      <th>1</th>\n",
       "      <td>CHEMBL418746</td>\n",
       "      <td>AAKDPDFZMNYDLR-UHFFFAOYSA-N</td>\n",
       "      <td>TTGAGCCTTTTCAGCAAGCTTAAAGAAGGTTTAAATAAGACGCGGC...</td>\n",
       "      <td>GAA</td>\n",
       "      <td>2246728737 3657471097 2092489639 2014255590 29...</td>\n",
       "      <td>TTGAGCCTTTTCAGCAAGCTTAAAGAAGGTTTAAATAAGACGCGGC...</td>\n",
       "      <td>[3, 3, 2, 0, 2, 1, 1, 3, 3, 3, 3, 1, 0, 2, 1, ...</td>\n",
       "      <td>[2, 2, 4, 6, 7, 2, 8, 7, 3, 7, 3, 6, 5, 7, 4, ...</td>\n",
       "      <td>936</td>\n",
       "      <td>231</td>\n",
       "      <td>3576</td>\n",
       "      <td>2091</td>\n",
       "      <td>[-1, -1, -1, -1, -1, -1, -1, -1, -1, -1, -1, -...</td>\n",
       "      <td>[-1, -1, -1, -1, -1, -1, -1, -1, -1, -1, -1, -...</td>\n",
       "      <td>0.487678</td>\n",
       "      <td>KI</td>\n",
       "      <td>54000.0</td>\n",
       "      <td>NM</td>\n",
       "    </tr>\n",
       "    <tr>\n",
       "      <th>2</th>\n",
       "      <td>CHEMBL418746</td>\n",
       "      <td>AAKDPDFZMNYDLR-UHFFFAOYSA-N</td>\n",
       "      <td>TTGTTGAAGCATGTGGTTACCCTGATACCGGGTGATGGTACTGGCC...</td>\n",
       "      <td>FUCA1</td>\n",
       "      <td>2246728737 3657471097 2092489639 2014255590 29...</td>\n",
       "      <td>TTGTTGAAGCATGTGGTTACCCTGATACCGGGTGATGGTACTGGCC...</td>\n",
       "      <td>[3, 3, 2, 3, 3, 2, 0, 0, 2, 1, 0, 3, 2, 3, 2, ...</td>\n",
       "      <td>[2, 2, 4, 6, 7, 2, 8, 7, 3, 7, 3, 6, 5, 7, 4, ...</td>\n",
       "      <td>1011</td>\n",
       "      <td>231</td>\n",
       "      <td>3501</td>\n",
       "      <td>2091</td>\n",
       "      <td>[-1, -1, -1, -1, -1, -1, -1, -1, -1, -1, -1, -...</td>\n",
       "      <td>[-1, -1, -1, -1, -1, -1, -1, -1, -1, -1, -1, -...</td>\n",
       "      <td>0.298055</td>\n",
       "      <td>KI</td>\n",
       "      <td>5300000.0</td>\n",
       "      <td>NM</td>\n",
       "    </tr>\n",
       "    <tr>\n",
       "      <th>3</th>\n",
       "      <td>CHEMBL1484869</td>\n",
       "      <td>AAOFJKLTRKOQTQ-UHFFFAOYSA-N</td>\n",
       "      <td>ATGGATGTAATTAAACAAGCTTTAGAGAGGATGGGCTATGCCGCTG...</td>\n",
       "      <td>CYP3A4</td>\n",
       "      <td>2246728737 422715066 3217380708 3120642300 321...</td>\n",
       "      <td>ATGGATGTAATTAAACAAGCTTTAGAGAGGATGGGCTATGCCGCTG...</td>\n",
       "      <td>[0, 3, 2, 2, 0, 3, 2, 3, 0, 0, 3, 3, 0, 0, 0, ...</td>\n",
       "      <td>[2, 2, 4, 6, 7, 2, 8, 7, 3, 7, 4, 2, 2, 7, 1, ...</td>\n",
       "      <td>933</td>\n",
       "      <td>292</td>\n",
       "      <td>3579</td>\n",
       "      <td>2030</td>\n",
       "      <td>[-1, -1, -1, -1, -1, -1, -1, -1, -1, -1, -1, -...</td>\n",
       "      <td>[-1, -1, -1, -1, -1, -1, -1, -1, -1, -1, -1, -...</td>\n",
       "      <td>0.096136</td>\n",
       "      <td>POTENCY</td>\n",
       "      <td>316.2</td>\n",
       "      <td>NM</td>\n",
       "    </tr>\n",
       "    <tr>\n",
       "      <th>4</th>\n",
       "      <td>CHEMBL1484869</td>\n",
       "      <td>AAOFJKLTRKOQTQ-UHFFFAOYSA-N</td>\n",
       "      <td>ATGGATGTAATTAAACAAGCTTTAGAGAGGATGGGCTATGCCGCTG...</td>\n",
       "      <td>CYP3A4</td>\n",
       "      <td>2246728737 422715066 3217380708 3120642300 321...</td>\n",
       "      <td>ATGGATGTAATTAAACAAGCTTTAGAGAGGATGGGCTATGCCGCTG...</td>\n",
       "      <td>[0, 3, 2, 2, 0, 3, 2, 3, 0, 0, 3, 3, 0, 0, 0, ...</td>\n",
       "      <td>[2, 2, 4, 6, 7, 2, 8, 7, 3, 7, 4, 2, 2, 7, 1, ...</td>\n",
       "      <td>933</td>\n",
       "      <td>292</td>\n",
       "      <td>3579</td>\n",
       "      <td>2030</td>\n",
       "      <td>[-1, -1, -1, -1, -1, -1, -1, -1, -1, -1, -1, -...</td>\n",
       "      <td>[-1, -1, -1, -1, -1, -1, -1, -1, -1, -1, -1, -...</td>\n",
       "      <td>0.096136</td>\n",
       "      <td>POTENCY</td>\n",
       "      <td>316.2</td>\n",
       "      <td>NM</td>\n",
       "    </tr>\n",
       "    <tr>\n",
       "      <th>...</th>\n",
       "      <td>...</td>\n",
       "      <td>...</td>\n",
       "      <td>...</td>\n",
       "      <td>...</td>\n",
       "      <td>...</td>\n",
       "      <td>...</td>\n",
       "      <td>...</td>\n",
       "      <td>...</td>\n",
       "      <td>...</td>\n",
       "      <td>...</td>\n",
       "      <td>...</td>\n",
       "      <td>...</td>\n",
       "      <td>...</td>\n",
       "      <td>...</td>\n",
       "      <td>...</td>\n",
       "      <td>...</td>\n",
       "      <td>...</td>\n",
       "      <td>...</td>\n",
       "    </tr>\n",
       "    <tr>\n",
       "      <th>31453</th>\n",
       "      <td>CHEMBL186200</td>\n",
       "      <td>NaN</td>\n",
       "      <td>GTGATCTTCCTGGCGAAAACAAAAGAGCGCTTTGTCTGCCAGCAAT...</td>\n",
       "      <td>CA2</td>\n",
       "      <td>848127915 88330248 864942730 2378779377 864942...</td>\n",
       "      <td>GTGATCTTCCTGGCGAAAACAAAAGAGCGCTTTGTCTGCCAGCAAT...</td>\n",
       "      <td>[2, 3, 2, 0, 3, 1, 3, 3, 1, 1, 3, 2, 2, 1, 2, ...</td>\n",
       "      <td>[8, 4, 8, 1, 2, 7, 9, 1, 5, 8, 8, 3, 3, 0, 2, ...</td>\n",
       "      <td>1368</td>\n",
       "      <td>74</td>\n",
       "      <td>3144</td>\n",
       "      <td>2248</td>\n",
       "      <td>[-1, -1, -1, -1, -1, -1, -1, -1, -1, -1, -1, -...</td>\n",
       "      <td>[-1, -1, -1, -1, -1, -1, -1, -1, -1, -1, -1, -...</td>\n",
       "      <td>0.486352</td>\n",
       "      <td>Ki</td>\n",
       "      <td>35000000.0</td>\n",
       "      <td>NM</td>\n",
       "    </tr>\n",
       "    <tr>\n",
       "      <th>31454</th>\n",
       "      <td>CHEMBL1200739</td>\n",
       "      <td>NaN</td>\n",
       "      <td>ATGTTTAAAGTGGGCGATAAAGTAGTGTATCCCATGCACGGGGCGG...</td>\n",
       "      <td>CA1</td>\n",
       "      <td>1026822558</td>\n",
       "      <td>ATGTTTAAAGTGGGCGATAAAGTAGTGTATCCCATGCACGGGGCGG...</td>\n",
       "      <td>[0, 3, 2, 3, 3, 3, 0, 0, 0, 2, 3, 2, 2, 2, 1, ...</td>\n",
       "      <td>[1, 0, 2, 6, 8, 2, 2, 5, 5, 8]</td>\n",
       "      <td>483</td>\n",
       "      <td>10</td>\n",
       "      <td>4029</td>\n",
       "      <td>2312</td>\n",
       "      <td>[-1, -1, -1, -1, -1, -1, -1, -1, -1, -1, -1, -...</td>\n",
       "      <td>[-1, -1, -1, -1, -1, -1, -1, -1, -1, -1, -1, -...</td>\n",
       "      <td>0.164342</td>\n",
       "      <td>Ki</td>\n",
       "      <td>600.0</td>\n",
       "      <td>NM</td>\n",
       "    </tr>\n",
       "    <tr>\n",
       "      <th>31455</th>\n",
       "      <td>CHEMBL186200</td>\n",
       "      <td>NaN</td>\n",
       "      <td>ATGTTTAAAGTGGGCGATAAAGTAGTGTATCCCATGCACGGGGCGG...</td>\n",
       "      <td>CA1</td>\n",
       "      <td>848127915 88330248 864942730 2378779377 864942...</td>\n",
       "      <td>ATGTTTAAAGTGGGCGATAAAGTAGTGTATCCCATGCACGGGGCGG...</td>\n",
       "      <td>[0, 3, 2, 3, 3, 3, 0, 0, 0, 2, 3, 2, 2, 2, 1, ...</td>\n",
       "      <td>[8, 4, 8, 1, 2, 7, 9, 1, 5, 8, 8, 3, 3, 0, 2, ...</td>\n",
       "      <td>483</td>\n",
       "      <td>74</td>\n",
       "      <td>4029</td>\n",
       "      <td>2248</td>\n",
       "      <td>[-1, -1, -1, -1, -1, -1, -1, -1, -1, -1, -1, -...</td>\n",
       "      <td>[-1, -1, -1, -1, -1, -1, -1, -1, -1, -1, -1, -...</td>\n",
       "      <td>0.284837</td>\n",
       "      <td>Ki</td>\n",
       "      <td>7000000.0</td>\n",
       "      <td>NM</td>\n",
       "    </tr>\n",
       "    <tr>\n",
       "      <th>31456</th>\n",
       "      <td>CHEMBL186200</td>\n",
       "      <td>NaN</td>\n",
       "      <td>ATGTTTAAAGTGGGCGATAAAGTAGTGTATCCCATGCACGGGGCGG...</td>\n",
       "      <td>CA1</td>\n",
       "      <td>848127915 88330248 864942730 2378779377 864942...</td>\n",
       "      <td>ATGTTTAAAGTGGGCGATAAAGTAGTGTATCCCATGCACGGGGCGG...</td>\n",
       "      <td>[0, 3, 2, 3, 3, 3, 0, 0, 0, 2, 3, 2, 2, 2, 1, ...</td>\n",
       "      <td>[8, 4, 8, 1, 2, 7, 9, 1, 5, 8, 8, 3, 3, 0, 2, ...</td>\n",
       "      <td>483</td>\n",
       "      <td>74</td>\n",
       "      <td>4029</td>\n",
       "      <td>2248</td>\n",
       "      <td>[-1, -1, -1, -1, -1, -1, -1, -1, -1, -1, -1, -...</td>\n",
       "      <td>[-1, -1, -1, -1, -1, -1, -1, -1, -1, -1, -1, -...</td>\n",
       "      <td>0.284837</td>\n",
       "      <td>Ki</td>\n",
       "      <td>7000000.0</td>\n",
       "      <td>NM</td>\n",
       "    </tr>\n",
       "    <tr>\n",
       "      <th>31457</th>\n",
       "      <td>CHEMBL186200</td>\n",
       "      <td>NaN</td>\n",
       "      <td>ATGTTTAAAGTGGGCGATAAAGTAGTGTATCCCATGCACGGGGCGG...</td>\n",
       "      <td>CA1</td>\n",
       "      <td>848127915 88330248 864942730 2378779377 864942...</td>\n",
       "      <td>ATGTTTAAAGTGGGCGATAAAGTAGTGTATCCCATGCACGGGGCGG...</td>\n",
       "      <td>[0, 3, 2, 3, 3, 3, 0, 0, 0, 2, 3, 2, 2, 2, 1, ...</td>\n",
       "      <td>[8, 4, 8, 1, 2, 7, 9, 1, 5, 8, 8, 3, 3, 0, 2, ...</td>\n",
       "      <td>483</td>\n",
       "      <td>74</td>\n",
       "      <td>4029</td>\n",
       "      <td>2248</td>\n",
       "      <td>[-1, -1, -1, -1, -1, -1, -1, -1, -1, -1, -1, -...</td>\n",
       "      <td>[-1, -1, -1, -1, -1, -1, -1, -1, -1, -1, -1, -...</td>\n",
       "      <td>0.284837</td>\n",
       "      <td>Ki</td>\n",
       "      <td>7000000.0</td>\n",
       "      <td>NM</td>\n",
       "    </tr>\n",
       "  </tbody>\n",
       "</table>\n",
       "<p>31458 rows × 18 columns</p>\n",
       "</div>"
      ],
      "text/plain": [
       "           CHEMBL_id                    InChi_Key  \\\n",
       "0       CHEMBL418746  AAKDPDFZMNYDLR-UHFFFAOYSA-N   \n",
       "1       CHEMBL418746  AAKDPDFZMNYDLR-UHFFFAOYSA-N   \n",
       "2       CHEMBL418746  AAKDPDFZMNYDLR-UHFFFAOYSA-N   \n",
       "3      CHEMBL1484869  AAOFJKLTRKOQTQ-UHFFFAOYSA-N   \n",
       "4      CHEMBL1484869  AAOFJKLTRKOQTQ-UHFFFAOYSA-N   \n",
       "...              ...                          ...   \n",
       "31453   CHEMBL186200                          NaN   \n",
       "31454  CHEMBL1200739                          NaN   \n",
       "31455   CHEMBL186200                          NaN   \n",
       "31456   CHEMBL186200                          NaN   \n",
       "31457   CHEMBL186200                          NaN   \n",
       "\n",
       "                                                gene_seq gene_name  \\\n",
       "0      TTGAGCCTTTTCAGCAAGCTTAAAGAAGGTTTAAATAAGACGCGGC...       GAA   \n",
       "1      TTGAGCCTTTTCAGCAAGCTTAAAGAAGGTTTAAATAAGACGCGGC...       GAA   \n",
       "2      TTGTTGAAGCATGTGGTTACCCTGATACCGGGTGATGGTACTGGCC...     FUCA1   \n",
       "3      ATGGATGTAATTAAACAAGCTTTAGAGAGGATGGGCTATGCCGCTG...    CYP3A4   \n",
       "4      ATGGATGTAATTAAACAAGCTTTAGAGAGGATGGGCTATGCCGCTG...    CYP3A4   \n",
       "...                                                  ...       ...   \n",
       "31453  GTGATCTTCCTGGCGAAAACAAAAGAGCGCTTTGTCTGCCAGCAAT...       CA2   \n",
       "31454  ATGTTTAAAGTGGGCGATAAAGTAGTGTATCCCATGCACGGGGCGG...       CA1   \n",
       "31455  ATGTTTAAAGTGGGCGATAAAGTAGTGTATCCCATGCACGGGGCGG...       CA1   \n",
       "31456  ATGTTTAAAGTGGGCGATAAAGTAGTGTATCCCATGCACGGGGCGG...       CA1   \n",
       "31457  ATGTTTAAAGTGGGCGATAAAGTAGTGTATCCCATGCACGGGGCGG...       CA1   \n",
       "\n",
       "                                             fingerprint  \\\n",
       "0      2246728737 3657471097 2092489639 2014255590 29...   \n",
       "1      2246728737 3657471097 2092489639 2014255590 29...   \n",
       "2      2246728737 3657471097 2092489639 2014255590 29...   \n",
       "3      2246728737 422715066 3217380708 3120642300 321...   \n",
       "4      2246728737 422715066 3217380708 3120642300 321...   \n",
       "...                                                  ...   \n",
       "31453  848127915 88330248 864942730 2378779377 864942...   \n",
       "31454                                         1026822558   \n",
       "31455  848127915 88330248 864942730 2378779377 864942...   \n",
       "31456  848127915 88330248 864942730 2378779377 864942...   \n",
       "31457  848127915 88330248 864942730 2378779377 864942...   \n",
       "\n",
       "                                        target_gene_code  \\\n",
       "0      TTGAGCCTTTTCAGCAAGCTTAAAGAAGGTTTAAATAAGACGCGGC...   \n",
       "1      TTGAGCCTTTTCAGCAAGCTTAAAGAAGGTTTAAATAAGACGCGGC...   \n",
       "2      TTGTTGAAGCATGTGGTTACCCTGATACCGGGTGATGGTACTGGCC...   \n",
       "3      ATGGATGTAATTAAACAAGCTTTAGAGAGGATGGGCTATGCCGCTG...   \n",
       "4      ATGGATGTAATTAAACAAGCTTTAGAGAGGATGGGCTATGCCGCTG...   \n",
       "...                                                  ...   \n",
       "31453  GTGATCTTCCTGGCGAAAACAAAAGAGCGCTTTGTCTGCCAGCAAT...   \n",
       "31454  ATGTTTAAAGTGGGCGATAAAGTAGTGTATCCCATGCACGGGGCGG...   \n",
       "31455  ATGTTTAAAGTGGGCGATAAAGTAGTGTATCCCATGCACGGGGCGG...   \n",
       "31456  ATGTTTAAAGTGGGCGATAAAGTAGTGTATCCCATGCACGGGGCGG...   \n",
       "31457  ATGTTTAAAGTGGGCGATAAAGTAGTGTATCCCATGCACGGGGCGG...   \n",
       "\n",
       "                                     target_gene_encoded  \\\n",
       "0      [3, 3, 2, 0, 2, 1, 1, 3, 3, 3, 3, 1, 0, 2, 1, ...   \n",
       "1      [3, 3, 2, 0, 2, 1, 1, 3, 3, 3, 3, 1, 0, 2, 1, ...   \n",
       "2      [3, 3, 2, 3, 3, 2, 0, 0, 2, 1, 0, 3, 2, 3, 2, ...   \n",
       "3      [0, 3, 2, 2, 0, 3, 2, 3, 0, 0, 3, 3, 0, 0, 0, ...   \n",
       "4      [0, 3, 2, 2, 0, 3, 2, 3, 0, 0, 3, 3, 0, 0, 0, ...   \n",
       "...                                                  ...   \n",
       "31453  [2, 3, 2, 0, 3, 1, 3, 3, 1, 1, 3, 2, 2, 1, 2, ...   \n",
       "31454  [0, 3, 2, 3, 3, 3, 0, 0, 0, 2, 3, 2, 2, 2, 1, ...   \n",
       "31455  [0, 3, 2, 3, 3, 3, 0, 0, 0, 2, 3, 2, 2, 2, 1, ...   \n",
       "31456  [0, 3, 2, 3, 3, 3, 0, 0, 0, 2, 3, 2, 2, 2, 1, ...   \n",
       "31457  [0, 3, 2, 3, 3, 3, 0, 0, 0, 2, 3, 2, 2, 2, 1, ...   \n",
       "\n",
       "                                drug_fingerprint_encoded  \\\n",
       "0      [2, 2, 4, 6, 7, 2, 8, 7, 3, 7, 3, 6, 5, 7, 4, ...   \n",
       "1      [2, 2, 4, 6, 7, 2, 8, 7, 3, 7, 3, 6, 5, 7, 4, ...   \n",
       "2      [2, 2, 4, 6, 7, 2, 8, 7, 3, 7, 3, 6, 5, 7, 4, ...   \n",
       "3      [2, 2, 4, 6, 7, 2, 8, 7, 3, 7, 4, 2, 2, 7, 1, ...   \n",
       "4      [2, 2, 4, 6, 7, 2, 8, 7, 3, 7, 4, 2, 2, 7, 1, ...   \n",
       "...                                                  ...   \n",
       "31453  [8, 4, 8, 1, 2, 7, 9, 1, 5, 8, 8, 3, 3, 0, 2, ...   \n",
       "31454                     [1, 0, 2, 6, 8, 2, 2, 5, 5, 8]   \n",
       "31455  [8, 4, 8, 1, 2, 7, 9, 1, 5, 8, 8, 3, 3, 0, 2, ...   \n",
       "31456  [8, 4, 8, 1, 2, 7, 9, 1, 5, 8, 8, 3, 3, 0, 2, ...   \n",
       "31457  [8, 4, 8, 1, 2, 7, 9, 1, 5, 8, 8, 3, 3, 0, 2, ...   \n",
       "\n",
       "       target_gene_encoded_len  drug_fingerprint_encoded_len  \\\n",
       "0                          936                           231   \n",
       "1                          936                           231   \n",
       "2                         1011                           231   \n",
       "3                          933                           292   \n",
       "4                          933                           292   \n",
       "...                        ...                           ...   \n",
       "31453                     1368                            74   \n",
       "31454                      483                            10   \n",
       "31455                      483                            74   \n",
       "31456                      483                            74   \n",
       "31457                      483                            74   \n",
       "\n",
       "       target_gene_encoded_mismatch  drug_fingerprint_encoded_mismatch  \\\n",
       "0                              3576                               2091   \n",
       "1                              3576                               2091   \n",
       "2                              3501                               2091   \n",
       "3                              3579                               2030   \n",
       "4                              3579                               2030   \n",
       "...                             ...                                ...   \n",
       "31453                          3144                               2248   \n",
       "31454                          4029                               2312   \n",
       "31455                          4029                               2248   \n",
       "31456                          4029                               2248   \n",
       "31457                          4029                               2248   \n",
       "\n",
       "                              target_gene_encoded_padded  \\\n",
       "0      [-1, -1, -1, -1, -1, -1, -1, -1, -1, -1, -1, -...   \n",
       "1      [-1, -1, -1, -1, -1, -1, -1, -1, -1, -1, -1, -...   \n",
       "2      [-1, -1, -1, -1, -1, -1, -1, -1, -1, -1, -1, -...   \n",
       "3      [-1, -1, -1, -1, -1, -1, -1, -1, -1, -1, -1, -...   \n",
       "4      [-1, -1, -1, -1, -1, -1, -1, -1, -1, -1, -1, -...   \n",
       "...                                                  ...   \n",
       "31453  [-1, -1, -1, -1, -1, -1, -1, -1, -1, -1, -1, -...   \n",
       "31454  [-1, -1, -1, -1, -1, -1, -1, -1, -1, -1, -1, -...   \n",
       "31455  [-1, -1, -1, -1, -1, -1, -1, -1, -1, -1, -1, -...   \n",
       "31456  [-1, -1, -1, -1, -1, -1, -1, -1, -1, -1, -1, -...   \n",
       "31457  [-1, -1, -1, -1, -1, -1, -1, -1, -1, -1, -1, -...   \n",
       "\n",
       "                         drug_fingerprint_encoded_padded    Y_pred  \\\n",
       "0      [-1, -1, -1, -1, -1, -1, -1, -1, -1, -1, -1, -...  0.487678   \n",
       "1      [-1, -1, -1, -1, -1, -1, -1, -1, -1, -1, -1, -...  0.487678   \n",
       "2      [-1, -1, -1, -1, -1, -1, -1, -1, -1, -1, -1, -...  0.298055   \n",
       "3      [-1, -1, -1, -1, -1, -1, -1, -1, -1, -1, -1, -...  0.096136   \n",
       "4      [-1, -1, -1, -1, -1, -1, -1, -1, -1, -1, -1, -...  0.096136   \n",
       "...                                                  ...       ...   \n",
       "31453  [-1, -1, -1, -1, -1, -1, -1, -1, -1, -1, -1, -...  0.486352   \n",
       "31454  [-1, -1, -1, -1, -1, -1, -1, -1, -1, -1, -1, -...  0.164342   \n",
       "31455  [-1, -1, -1, -1, -1, -1, -1, -1, -1, -1, -1, -...  0.284837   \n",
       "31456  [-1, -1, -1, -1, -1, -1, -1, -1, -1, -1, -1, -...  0.284837   \n",
       "31457  [-1, -1, -1, -1, -1, -1, -1, -1, -1, -1, -1, -...  0.284837   \n",
       "\n",
       "      standard_type  standard_value standard_units  \n",
       "0                KI         54000.0             NM  \n",
       "1                KI         54000.0             NM  \n",
       "2                KI       5300000.0             NM  \n",
       "3           POTENCY           316.2             NM  \n",
       "4           POTENCY           316.2             NM  \n",
       "...             ...             ...            ...  \n",
       "31453            Ki      35000000.0             NM  \n",
       "31454            Ki           600.0             NM  \n",
       "31455            Ki       7000000.0             NM  \n",
       "31456            Ki       7000000.0             NM  \n",
       "31457            Ki       7000000.0             NM  \n",
       "\n",
       "[31458 rows x 18 columns]"
      ]
     },
     "execution_count": 23,
     "metadata": {},
     "output_type": "execute_result"
    }
   ],
   "source": [
    "ndm_dt_redicted_df"
   ]
  },
  {
   "cell_type": "code",
   "execution_count": 24,
   "metadata": {},
   "outputs": [],
   "source": [
    "NDM_IC50_List = []\n",
    "NDM_IC50_Y = []\n",
    "NDM_Ki_list = []\n",
    "NDM_Ki_Y = []\n",
    "NDM_kd_list = []\n",
    "NDM_Kd_Y = []\n",
    "\n",
    "for index, row in ndm_dt_redicted_df.iterrows():\n",
    "    if row['standard_type'] == 'IC50':\n",
    "        NDM_IC50_List.append(row['standard_value'])\n",
    "        NDM_IC50_Y.append(row['Y_pred'])\n",
    "    if row['standard_type'] == 'KI':\n",
    "        NDM_Ki_list.append(row['standard_value'])\n",
    "        NDM_Ki_Y.append(row['Y_pred'])\n",
    "    if row['standard_type'] == 'KD':\n",
    "        NDM_kd_list.append(row['standard_value'])\n",
    "        NDM_Kd_Y.append(row['Y_pred'])"
   ]
  },
  {
   "cell_type": "code",
   "execution_count": 34,
   "metadata": {},
   "outputs": [
    {
     "data": {
      "text/plain": [
       "Text(0,0.5,'IC50 value')"
      ]
     },
     "execution_count": 34,
     "metadata": {},
     "output_type": "execute_result"
    },
    {
     "data": {
      "image/png": "[encoded data removed]",
      "text/plain": [
       "<Figure size 432x288 with 1 Axes>"
      ]
     },
     "metadata": {
      "needs_background": "light"
     },
     "output_type": "display_data"
    }
   ],
   "source": [
    "plt.scatter(NDM_IC50_Y[0:5000],NDM_IC50_List[0:5000])\n",
    "plt.xlabel('Y Predicted')\n",
    "plt.ylabel('IC50 value')"
   ]
  },
  {
   "cell_type": "code",
   "execution_count": 36,
   "metadata": {},
   "outputs": [],
   "source": [
    "from scipy.stats import spearmanr"
   ]
  },
  {
   "cell_type": "code",
   "execution_count": 44,
   "metadata": {},
   "outputs": [
    {
     "ename": "AttributeError",
     "evalue": "module 'pandas' has no attribute 'Seried'",
     "output_type": "error",
     "traceback": [
      "\u001b[0;31m---------------------------------------------------------------------------\u001b[0m",
      "\u001b[0;31mAttributeError\u001b[0m                            Traceback (most recent call last)",
      "\u001b[0;32m<ipython-input-44-990554e2a16c>\u001b[0m in \u001b[0;36m<module>\u001b[0;34m\u001b[0m\n\u001b[0;32m----> 1\u001b[0;31m \u001b[0mspearmanr\u001b[0m\u001b[0;34m(\u001b[0m\u001b[0mpd\u001b[0m\u001b[0;34m.\u001b[0m\u001b[0mSeried\u001b[0m\u001b[0;34m(\u001b[0m\u001b[0;34m[\u001b[0m\u001b[0;36m1\u001b[0m\u001b[0;34m,\u001b[0m\u001b[0;36m2\u001b[0m\u001b[0;34m,\u001b[0m\u001b[0;36m3\u001b[0m\u001b[0;34m]\u001b[0m\u001b[0;34m)\u001b[0m\u001b[0;34m.\u001b[0m\u001b[0mdropna\u001b[0m\u001b[0;34m(\u001b[0m\u001b[0;34m)\u001b[0m\u001b[0;34m,\u001b[0m\u001b[0mpd\u001b[0m\u001b[0;34m.\u001b[0m\u001b[0mSeried\u001b[0m\u001b[0;34m(\u001b[0m\u001b[0;34m[\u001b[0m\u001b[0;36m4\u001b[0m\u001b[0;34m,\u001b[0m\u001b[0;36m5\u001b[0m\u001b[0;34m,\u001b[0m\u001b[0;36m6\u001b[0m\u001b[0;34m]\u001b[0m\u001b[0;34m)\u001b[0m\u001b[0;34m.\u001b[0m\u001b[0mdropna\u001b[0m\u001b[0;34m(\u001b[0m\u001b[0;34m)\u001b[0m\u001b[0;34m)\u001b[0m\u001b[0;34m\u001b[0m\u001b[0m\n\u001b[0m",
      "\u001b[0;31mAttributeError\u001b[0m: module 'pandas' has no attribute 'Seried'"
     ]
    }
   ],
   "source": [
    "spearmanr(pd.Seried([1,2,3]).dropna(),pd.Seried([4,5,6]).dropna())"
   ]
  },
  {
   "cell_type": "code",
   "execution_count": 42,
   "metadata": {},
   "outputs": [
    {
     "data": {
      "text/plain": [
       "[0.3797762989997864,\n",
       " 0.3797762989997864,\n",
       " 0.8675274848937988,\n",
       " 0.8675274848937988,\n",
       " 0.18817448616027832,\n",
       " 0.24136567115783691,\n",
       " 0.42909708619117737,\n",
       " 0.42909708619117737,\n",
       " 0.24811986088752747,\n",
       " 0.24811986088752747]"
      ]
     },
     "execution_count": 42,
     "metadata": {},
     "output_type": "execute_result"
    }
   ],
   "source": [
    "NDM_IC50_Y[0:10]"
   ]
  },
  {
   "cell_type": "code",
   "execution_count": 48,
   "metadata": {},
   "outputs": [],
   "source": [
    "IC50_DF = pd.DataFrame()\n",
    "\n",
    "IC50_DF['pred'] = NDM_IC50_Y\n",
    "IC50_DF['vals'] = NDM_IC50_List"
   ]
  },
  {
   "cell_type": "code",
   "execution_count": 49,
   "metadata": {},
   "outputs": [],
   "source": [
    "IC50_DF = IC50_DF.dropna(axis='rows')"
   ]
  },
  {
   "cell_type": "code",
   "execution_count": 53,
   "metadata": {},
   "outputs": [
    {
     "data": {
      "text/plain": [
       "Text(0,0.5,'Count')"
      ]
     },
     "execution_count": 53,
     "metadata": {},
     "output_type": "execute_result"
    },
    {
     "data": {
      "image/png": "[encoded data removed]",
      "text/plain": [
       "<Figure size 432x288 with 1 Axes>"
      ]
     },
     "metadata": {
      "needs_background": "light"
     },
     "output_type": "display_data"
    }
   ],
   "source": [
    "plt.hist(IC50_DF['vals'].tolist(), bins=100, log = True)\n",
    "plt.xlabel('Kd Value')\n",
    "plt.ylabel('Count')"
   ]
  },
  {
   "cell_type": "code",
   "execution_count": 50,
   "metadata": {},
   "outputs": [
    {
     "data": {
      "text/html": [
       "<div>\n",
       "<style scoped>\n",
       "    .dataframe tbody tr th:only-of-type {\n",
       "        vertical-align: middle;\n",
       "    }\n",
       "\n",
       "    .dataframe tbody tr th {\n",
       "        vertical-align: top;\n",
       "    }\n",
       "\n",
       "    .dataframe thead th {\n",
       "        text-align: right;\n",
       "    }\n",
       "</style>\n",
       "<table border=\"1\" class=\"dataframe\">\n",
       "  <thead>\n",
       "    <tr style=\"text-align: right;\">\n",
       "      <th></th>\n",
       "      <th>pred</th>\n",
       "      <th>vals</th>\n",
       "    </tr>\n",
       "  </thead>\n",
       "  <tbody>\n",
       "    <tr>\n",
       "      <th>4</th>\n",
       "      <td>0.188174</td>\n",
       "      <td>5.600000e+03</td>\n",
       "    </tr>\n",
       "    <tr>\n",
       "      <th>5</th>\n",
       "      <td>0.241366</td>\n",
       "      <td>2.400000e+03</td>\n",
       "    </tr>\n",
       "    <tr>\n",
       "      <th>30</th>\n",
       "      <td>0.434622</td>\n",
       "      <td>8.090959e+09</td>\n",
       "    </tr>\n",
       "    <tr>\n",
       "      <th>76</th>\n",
       "      <td>0.267845</td>\n",
       "      <td>1.200000e+01</td>\n",
       "    </tr>\n",
       "    <tr>\n",
       "      <th>77</th>\n",
       "      <td>0.267845</td>\n",
       "      <td>1.200000e+01</td>\n",
       "    </tr>\n",
       "    <tr>\n",
       "      <th>...</th>\n",
       "      <td>...</td>\n",
       "      <td>...</td>\n",
       "    </tr>\n",
       "    <tr>\n",
       "      <th>16275</th>\n",
       "      <td>0.007314</td>\n",
       "      <td>1.339000e+03</td>\n",
       "    </tr>\n",
       "    <tr>\n",
       "      <th>16376</th>\n",
       "      <td>0.034719</td>\n",
       "      <td>5.000000e+04</td>\n",
       "    </tr>\n",
       "    <tr>\n",
       "      <th>16435</th>\n",
       "      <td>0.041833</td>\n",
       "      <td>3.150000e+05</td>\n",
       "    </tr>\n",
       "    <tr>\n",
       "      <th>16436</th>\n",
       "      <td>0.041833</td>\n",
       "      <td>3.150000e+05</td>\n",
       "    </tr>\n",
       "    <tr>\n",
       "      <th>16471</th>\n",
       "      <td>0.704565</td>\n",
       "      <td>1.000000e+05</td>\n",
       "    </tr>\n",
       "  </tbody>\n",
       "</table>\n",
       "<p>3215 rows × 2 columns</p>\n",
       "</div>"
      ],
      "text/plain": [
       "           pred          vals\n",
       "4      0.188174  5.600000e+03\n",
       "5      0.241366  2.400000e+03\n",
       "30     0.434622  8.090959e+09\n",
       "76     0.267845  1.200000e+01\n",
       "77     0.267845  1.200000e+01\n",
       "...         ...           ...\n",
       "16275  0.007314  1.339000e+03\n",
       "16376  0.034719  5.000000e+04\n",
       "16435  0.041833  3.150000e+05\n",
       "16436  0.041833  3.150000e+05\n",
       "16471  0.704565  1.000000e+05\n",
       "\n",
       "[3215 rows x 2 columns]"
      ]
     },
     "execution_count": 50,
     "metadata": {},
     "output_type": "execute_result"
    }
   ],
   "source": [
    "IC50_DF"
   ]
  },
  {
   "cell_type": "code",
   "execution_count": 51,
   "metadata": {},
   "outputs": [
    {
     "data": {
      "text/plain": [
       "Text(0,0.5,'IC50 value')"
      ]
     },
     "execution_count": 51,
     "metadata": {},
     "output_type": "execute_result"
    },
    {
     "data": {
      "image/png": "[encoded data removed]",
      "text/plain": [
       "<Figure size 432x288 with 1 Axes>"
      ]
     },
     "metadata": {
      "needs_background": "light"
     },
     "output_type": "display_data"
    }
   ],
   "source": [
    "plt.scatter(IC50_DF['pred'],IC50_DF['vals'])\n",
    "plt.xlabel('Y Predicted')\n",
    "plt.ylabel('IC50 value')"
   ]
  },
  {
   "cell_type": "code",
   "execution_count": 52,
   "metadata": {},
   "outputs": [
    {
     "data": {
      "text/plain": [
       "SpearmanrResult(correlation=0.19773671009617133, pvalue=1.0513882563577264e-29)"
      ]
     },
     "execution_count": 52,
     "metadata": {},
     "output_type": "execute_result"
    }
   ],
   "source": [
    "spearmanr(IC50_DF['pred'].tolist(),IC50_DF['vals'].tolist())"
   ]
  },
  {
   "cell_type": "code",
   "execution_count": 30,
   "metadata": {},
   "outputs": [
    {
     "data": {
      "text/plain": [
       "Text(0,0.5,'Ki value')"
      ]
     },
     "execution_count": 30,
     "metadata": {},
     "output_type": "execute_result"
    },
    {
     "data": {
      "image/png": "[encoded data removed]",
      "text/plain": [
       "<Figure size 432x288 with 1 Axes>"
      ]
     },
     "metadata": {
      "needs_background": "light"
     },
     "output_type": "display_data"
    }
   ],
   "source": [
    "plt.scatter(IC50_DF[0:1000],NDM_Ki_list[0:1000])\n",
    "plt.xlabel('Y Predicted')\n",
    "plt.ylabel('Ki value')"
   ]
  },
  {
   "cell_type": "code",
   "execution_count": 32,
   "metadata": {},
   "outputs": [
    {
     "data": {
      "text/plain": [
       "Text(0,0.5,'Kd value')"
      ]
     },
     "execution_count": 32,
     "metadata": {},
     "output_type": "execute_result"
    },
    {
     "data": {
      "image/png": "[encoded data removed]",
      "text/plain": [
       "<Figure size 432x288 with 1 Axes>"
      ]
     },
     "metadata": {
      "needs_background": "light"
     },
     "output_type": "display_data"
    }
   ],
   "source": [
    "plt.scatter(NDM_Kd_Y[0:1000],NDM_kd_list[0:1000])\n",
    "plt.xlabel('Y Predicted')\n",
    "plt.ylabel('Kd value')"
   ]
  },
  {
   "cell_type": "code",
   "execution_count": null,
   "metadata": {},
   "outputs": [],
   "source": []
  }
 ],
 "metadata": {
  "kernelspec": {
   "display_name": "Python 3",
   "language": "python",
   "name": "python3"
  },
  "language_info": {
   "codemirror_mode": {
    "name": "ipython",
    "version": 3
   },
   "file_extension": ".py",
   "mimetype": "text/x-python",
   "name": "python",
   "nbconvert_exporter": "python",
   "pygments_lexer": "ipython3",
   "version": "3.6.6"
  }
 },
 "nbformat": 4,
 "nbformat_minor": 4
}
