{
 "cells": [
  {
   "cell_type": "code",
   "execution_count": 2,
   "metadata": {
    "scrolled": true
   },
   "outputs": [
    {
     "data": {
      "text/plain": [
       "<module 'tensorflow' from '/miniconda/lib/python3.6/site-packages/tensorflow/__init__.py'>"
      ]
     },
     "execution_count": 2,
     "metadata": {},
     "output_type": "execute_result"
    }
   ],
   "source": [
    "import pickle as pkl\n",
    "\n",
    "import lxml\n",
    "import pandas as pd\n",
    "import numpy as np\n",
    "#import seaborn as sns\n",
    "import matplotlib.pyplot as plt\n",
    "import tensorflow.keras\n",
    "from tensorflow.keras.datasets import imdb\n",
    "\n",
    "\n",
    "from tqdm.notebook import tqdm\n",
    "\n",
    "from sklearn.metrics import confusion_matrix\n",
    "from sklearn.utils.multiclass import unique_labels\n",
    "from sklearn.metrics import f1_score\n",
    "\n",
    "from sklearn.model_selection import train_test_split\n",
    "\n",
    "from sklearn.preprocessing import LabelEncoder, OneHotEncoder\n",
    "from ast import literal_eval\n",
    "from sklearn.model_selection import train_test_split\n",
    "from sklearn.linear_model import LogisticRegression\n",
    "from sklearn.metrics import confusion_matrix, f1_score\n",
    "from tensorflow.keras.models import Sequential, Model\n",
    "from tensorflow.keras.layers import Input, Dense, Activation, Dropout, Conv1D, Flatten, MaxPooling1D,\\\n",
    "                        AveragePooling1D, Concatenate, LeakyReLU, Embedding,\\\n",
    "                        GlobalMaxPooling1D,GlobalAveragePooling1D,GaussianNoise,BatchNormalization,Add\n",
    "from tensorflow.keras.initializers import glorot_uniform\n",
    "#from tensorflow.keras.utils.vis_utils import plot_model\n",
    "\n",
    "import importlib\n",
    "importlib.reload(tensorflow)"
   ]
  },
  {
   "cell_type": "code",
   "execution_count": 3,
   "metadata": {},
   "outputs": [],
   "source": [
    "tqdm.pandas()"
   ]
  },
  {
   "cell_type": "code",
   "execution_count": 4,
   "metadata": {},
   "outputs": [],
   "source": [
    "import tensorflow as tf\n",
    "with tf.Session() as sess:\n",
    "    devices = sess.list_devices()"
   ]
  },
  {
   "cell_type": "code",
   "execution_count": 5,
   "metadata": {},
   "outputs": [],
   "source": [
    "import sys"
   ]
  },
  {
   "cell_type": "code",
   "execution_count": 6,
   "metadata": {},
   "outputs": [
    {
     "name": "stdout",
     "output_type": "stream",
     "text": [
      "/miniconda/bin/python: No module named list\r\n"
     ]
    }
   ],
   "source": [
    "!{sys.executable} -m list"
   ]
  },
  {
   "cell_type": "markdown",
   "metadata": {},
   "source": [
    "### Get postive samples"
   ]
  },
  {
   "cell_type": "code",
   "execution_count": 7,
   "metadata": {
    "scrolled": true
   },
   "outputs": [],
   "source": [
    "drugbank = pkl.load(open('data/drugbank_embds.pkl', 'rb'))"
   ]
  },
  {
   "cell_type": "code",
   "execution_count": 8,
   "metadata": {
    "scrolled": true
   },
   "outputs": [
    {
     "data": {
      "text/html": [
       "<div>\n",
       "<style scoped>\n",
       "    .dataframe tbody tr th:only-of-type {\n",
       "        vertical-align: middle;\n",
       "    }\n",
       "\n",
       "    .dataframe tbody tr th {\n",
       "        vertical-align: top;\n",
       "    }\n",
       "\n",
       "    .dataframe thead th {\n",
       "        text-align: right;\n",
       "    }\n",
       "</style>\n",
       "<table border=\"1\" class=\"dataframe\">\n",
       "  <thead>\n",
       "    <tr style=\"text-align: right;\">\n",
       "      <th></th>\n",
       "      <th>drug_cas</th>\n",
       "      <th>drug_id</th>\n",
       "      <th>drug_name</th>\n",
       "      <th>target_actions</th>\n",
       "      <th>target_amino</th>\n",
       "      <th>target_gene</th>\n",
       "      <th>target_id</th>\n",
       "      <th>target_name</th>\n",
       "      <th>target_organism</th>\n",
       "      <th>pubchem_id</th>\n",
       "      <th>pubchem_name</th>\n",
       "      <th>target_gene_fingerprint</th>\n",
       "      <th>drug_fingerprint</th>\n",
       "    </tr>\n",
       "  </thead>\n",
       "  <tbody>\n",
       "    <tr>\n",
       "      <th>31</th>\n",
       "      <td>128270-60-0</td>\n",
       "      <td>DB00006</td>\n",
       "      <td>Bivalirudin</td>\n",
       "      <td>[inhibitor]</td>\n",
       "      <td>&gt;lcl|BSEQ0016004|Prothrombin\\nMAHVRGLQLPGCLALA...</td>\n",
       "      <td>&gt;lcl|BSEQ0016005|Prothrombin (F2)\\nATGGCGCACGT...</td>\n",
       "      <td>BE0000048</td>\n",
       "      <td>Prothrombin</td>\n",
       "      <td>Human</td>\n",
       "      <td>16129704</td>\n",
       "      <td>Bivalirudin</td>\n",
       "      <td>[1.2739266e-05 -2.7748918e-05 0.00095751503 0....</td>\n",
       "      <td>[0.10044218 0.18559723 -0.12865402 -0.0650997 ...</td>\n",
       "    </tr>\n",
       "    <tr>\n",
       "      <th>53</th>\n",
       "      <td>65807-02-5</td>\n",
       "      <td>DB00014</td>\n",
       "      <td>Goserelin</td>\n",
       "      <td>[agonist]</td>\n",
       "      <td>&gt;lcl|BSEQ0036957|Lutropin-choriogonadotropic h...</td>\n",
       "      <td>&gt;lcl|BSEQ0010174|Lutropin-choriogonadotropic h...</td>\n",
       "      <td>BE0000134</td>\n",
       "      <td>Lutropin-choriogonadotropic hormone receptor</td>\n",
       "      <td>Human</td>\n",
       "      <td>5311128</td>\n",
       "      <td>goserelin</td>\n",
       "      <td>[1.2739266e-05 -2.7748918e-05 0.00095751503 0....</td>\n",
       "      <td>[0.1331214 0.2391842 -0.14361311 -0.14107014 0...</td>\n",
       "    </tr>\n",
       "    <tr>\n",
       "      <th>54</th>\n",
       "      <td>65807-02-5</td>\n",
       "      <td>DB00014</td>\n",
       "      <td>Goserelin</td>\n",
       "      <td>[agonist]</td>\n",
       "      <td>&gt;lcl|BSEQ0000405|Gonadotropin-releasing hormon...</td>\n",
       "      <td>&gt;lcl|BSEQ0018926|Gonadotropin-releasing hormon...</td>\n",
       "      <td>BE0000203</td>\n",
       "      <td>Gonadotropin-releasing hormone receptor</td>\n",
       "      <td>Human</td>\n",
       "      <td>5311128</td>\n",
       "      <td>goserelin</td>\n",
       "      <td>[1.2739266e-05 -2.7748918e-05 0.00095751503 0....</td>\n",
       "      <td>[0.1331214 0.2391842 -0.14361311 -0.14107014 0...</td>\n",
       "    </tr>\n",
       "    <tr>\n",
       "      <th>131</th>\n",
       "      <td>16679-58-6</td>\n",
       "      <td>DB00035</td>\n",
       "      <td>Desmopressin</td>\n",
       "      <td>[agonist]</td>\n",
       "      <td>&gt;lcl|BSEQ0000583|Vasopressin V2 receptor\\nMLMA...</td>\n",
       "      <td>&gt;lcl|BSEQ0010065|Vasopressin V2 receptor (AVPR...</td>\n",
       "      <td>BE0000293</td>\n",
       "      <td>Vasopressin V2 receptor</td>\n",
       "      <td>Human</td>\n",
       "      <td>16051933</td>\n",
       "      <td>DESMOPRESSIN</td>\n",
       "      <td>[1.2739266e-05 -2.7748918e-05 0.00095751503 0....</td>\n",
       "      <td>[0.051722348 0.24374117 -0.16236018 -0.1723347...</td>\n",
       "    </tr>\n",
       "    <tr>\n",
       "      <th>132</th>\n",
       "      <td>16679-58-6</td>\n",
       "      <td>DB00035</td>\n",
       "      <td>Desmopressin</td>\n",
       "      <td>NaN</td>\n",
       "      <td>&gt;lcl|BSEQ0009979|Vasopressin V1a receptor\\nMRL...</td>\n",
       "      <td>&gt;lcl|BSEQ0009980|Vasopressin V1a receptor (AVP...</td>\n",
       "      <td>BE0000165</td>\n",
       "      <td>Vasopressin V1a receptor</td>\n",
       "      <td>Human</td>\n",
       "      <td>16051933</td>\n",
       "      <td>DESMOPRESSIN</td>\n",
       "      <td>[1.2739266e-05 -2.7748918e-05 0.00095751503 0....</td>\n",
       "      <td>[0.051722348 0.24374117 -0.16236018 -0.1723347...</td>\n",
       "    </tr>\n",
       "    <tr>\n",
       "      <th>...</th>\n",
       "      <td>...</td>\n",
       "      <td>...</td>\n",
       "      <td>...</td>\n",
       "      <td>...</td>\n",
       "      <td>...</td>\n",
       "      <td>...</td>\n",
       "      <td>...</td>\n",
       "      <td>...</td>\n",
       "      <td>...</td>\n",
       "      <td>...</td>\n",
       "      <td>...</td>\n",
       "      <td>...</td>\n",
       "      <td>...</td>\n",
       "    </tr>\n",
       "    <tr>\n",
       "      <th>431</th>\n",
       "      <td>197922-42-2</td>\n",
       "      <td>DB08900</td>\n",
       "      <td>Teduglutide</td>\n",
       "      <td>[agonist]</td>\n",
       "      <td>&gt;lcl|BSEQ0011545|Glucagon-like peptide 2 recep...</td>\n",
       "      <td>&gt;lcl|BSEQ0011546|Glucagon-like peptide 2 recep...</td>\n",
       "      <td>BE0002134</td>\n",
       "      <td>Glucagon-like peptide 2 receptor</td>\n",
       "      <td>Human</td>\n",
       "      <td>16139605</td>\n",
       "      <td>Teduglutide</td>\n",
       "      <td>[1.2739266e-05 -2.7748918e-05 0.00095751503 0....</td>\n",
       "      <td>[0.15734409 0.22184908 -0.10869281 -0.08885931...</td>\n",
       "    </tr>\n",
       "    <tr>\n",
       "      <th>440</th>\n",
       "      <td>782500-75-8</td>\n",
       "      <td>DB09043</td>\n",
       "      <td>Albiglutide</td>\n",
       "      <td>[agonist]</td>\n",
       "      <td>&gt;lcl|BSEQ0010605|Glucagon-like peptide 1 recep...</td>\n",
       "      <td>&gt;lcl|BSEQ0010606|Glucagon-like peptide 1 recep...</td>\n",
       "      <td>BE0000857</td>\n",
       "      <td>Glucagon-like peptide 1 receptor</td>\n",
       "      <td>Human</td>\n",
       "      <td>122173812</td>\n",
       "      <td>Albiglutide</td>\n",
       "      <td>[1.2739266e-05 -2.7748918e-05 0.00095751503 0....</td>\n",
       "      <td>[0.15686676 0.2130656 -0.10459428 -0.094190985...</td>\n",
       "    </tr>\n",
       "    <tr>\n",
       "      <th>457</th>\n",
       "      <td>8063-17-0</td>\n",
       "      <td>DB09363</td>\n",
       "      <td>Rauwolfia serpentina root</td>\n",
       "      <td>[inhibitor]</td>\n",
       "      <td>&gt;lcl|BSEQ0000236|Synaptic vesicular amine tran...</td>\n",
       "      <td>&gt;lcl|BSEQ0009946|Synaptic vesicular amine tran...</td>\n",
       "      <td>BE0000118</td>\n",
       "      <td>Synaptic vesicular amine transporter</td>\n",
       "      <td>Human</td>\n",
       "      <td>441975</td>\n",
       "      <td>Ajmalicine</td>\n",
       "      <td>[1.2739266e-05 -2.7748918e-05 0.00095751503 0....</td>\n",
       "      <td>[0.055649024 0.22807583 -0.18862249 -0.1470914...</td>\n",
       "    </tr>\n",
       "    <tr>\n",
       "      <th>460</th>\n",
       "      <td>844439-96-9</td>\n",
       "      <td>DB09564</td>\n",
       "      <td>Insulin Degludec</td>\n",
       "      <td>[ligand]</td>\n",
       "      <td>&gt;lcl|BSEQ0036940|Insulin receptor\\nMATGGRRGAAA...</td>\n",
       "      <td>&gt;lcl|BSEQ0020443|Insulin receptor (INSR)\\nATGG...</td>\n",
       "      <td>BE0000033</td>\n",
       "      <td>Insulin receptor</td>\n",
       "      <td>Human</td>\n",
       "      <td>118984462</td>\n",
       "      <td>Insulin degludec</td>\n",
       "      <td>[1.2739266e-05 -2.7748918e-05 0.00095751503 0....</td>\n",
       "      <td>[0.077604994 0.26912978 -0.12892634 -0.1319705...</td>\n",
       "    </tr>\n",
       "    <tr>\n",
       "      <th>487</th>\n",
       "      <td>915019-08-8</td>\n",
       "      <td>DB12747</td>\n",
       "      <td>Tertomotide</td>\n",
       "      <td>NaN</td>\n",
       "      <td>&gt;lcl|BSEQ0004809|Telomerase reverse transcript...</td>\n",
       "      <td>&gt;lcl|BSEQ0019287|Telomerase reverse transcript...</td>\n",
       "      <td>BE0002449</td>\n",
       "      <td>Telomerase reverse transcriptase</td>\n",
       "      <td>Human</td>\n",
       "      <td>56843375</td>\n",
       "      <td>UNII-55R7RG342O</td>\n",
       "      <td>[1.2739266e-05 -2.7748918e-05 0.00095751503 0....</td>\n",
       "      <td>[0.1460279 0.27236864 -0.07754911 -0.11320723 ...</td>\n",
       "    </tr>\n",
       "  </tbody>\n",
       "</table>\n",
       "<p>14081 rows × 13 columns</p>\n",
       "</div>"
      ],
      "text/plain": [
       "        drug_cas  drug_id                  drug_name target_actions  \\\n",
       "31   128270-60-0  DB00006                Bivalirudin    [inhibitor]   \n",
       "53    65807-02-5  DB00014                  Goserelin      [agonist]   \n",
       "54    65807-02-5  DB00014                  Goserelin      [agonist]   \n",
       "131   16679-58-6  DB00035               Desmopressin      [agonist]   \n",
       "132   16679-58-6  DB00035               Desmopressin            NaN   \n",
       "..           ...      ...                        ...            ...   \n",
       "431  197922-42-2  DB08900                Teduglutide      [agonist]   \n",
       "440  782500-75-8  DB09043                Albiglutide      [agonist]   \n",
       "457    8063-17-0  DB09363  Rauwolfia serpentina root    [inhibitor]   \n",
       "460  844439-96-9  DB09564           Insulin Degludec       [ligand]   \n",
       "487  915019-08-8  DB12747                Tertomotide            NaN   \n",
       "\n",
       "                                          target_amino  \\\n",
       "31   >lcl|BSEQ0016004|Prothrombin\\nMAHVRGLQLPGCLALA...   \n",
       "53   >lcl|BSEQ0036957|Lutropin-choriogonadotropic h...   \n",
       "54   >lcl|BSEQ0000405|Gonadotropin-releasing hormon...   \n",
       "131  >lcl|BSEQ0000583|Vasopressin V2 receptor\\nMLMA...   \n",
       "132  >lcl|BSEQ0009979|Vasopressin V1a receptor\\nMRL...   \n",
       "..                                                 ...   \n",
       "431  >lcl|BSEQ0011545|Glucagon-like peptide 2 recep...   \n",
       "440  >lcl|BSEQ0010605|Glucagon-like peptide 1 recep...   \n",
       "457  >lcl|BSEQ0000236|Synaptic vesicular amine tran...   \n",
       "460  >lcl|BSEQ0036940|Insulin receptor\\nMATGGRRGAAA...   \n",
       "487  >lcl|BSEQ0004809|Telomerase reverse transcript...   \n",
       "\n",
       "                                           target_gene  target_id  \\\n",
       "31   >lcl|BSEQ0016005|Prothrombin (F2)\\nATGGCGCACGT...  BE0000048   \n",
       "53   >lcl|BSEQ0010174|Lutropin-choriogonadotropic h...  BE0000134   \n",
       "54   >lcl|BSEQ0018926|Gonadotropin-releasing hormon...  BE0000203   \n",
       "131  >lcl|BSEQ0010065|Vasopressin V2 receptor (AVPR...  BE0000293   \n",
       "132  >lcl|BSEQ0009980|Vasopressin V1a receptor (AVP...  BE0000165   \n",
       "..                                                 ...        ...   \n",
       "431  >lcl|BSEQ0011546|Glucagon-like peptide 2 recep...  BE0002134   \n",
       "440  >lcl|BSEQ0010606|Glucagon-like peptide 1 recep...  BE0000857   \n",
       "457  >lcl|BSEQ0009946|Synaptic vesicular amine tran...  BE0000118   \n",
       "460  >lcl|BSEQ0020443|Insulin receptor (INSR)\\nATGG...  BE0000033   \n",
       "487  >lcl|BSEQ0019287|Telomerase reverse transcript...  BE0002449   \n",
       "\n",
       "                                      target_name target_organism  pubchem_id  \\\n",
       "31                                    Prothrombin           Human    16129704   \n",
       "53   Lutropin-choriogonadotropic hormone receptor           Human     5311128   \n",
       "54        Gonadotropin-releasing hormone receptor           Human     5311128   \n",
       "131                       Vasopressin V2 receptor           Human    16051933   \n",
       "132                      Vasopressin V1a receptor           Human    16051933   \n",
       "..                                            ...             ...         ...   \n",
       "431              Glucagon-like peptide 2 receptor           Human    16139605   \n",
       "440              Glucagon-like peptide 1 receptor           Human   122173812   \n",
       "457          Synaptic vesicular amine transporter           Human      441975   \n",
       "460                              Insulin receptor           Human   118984462   \n",
       "487              Telomerase reverse transcriptase           Human    56843375   \n",
       "\n",
       "         pubchem_name                            target_gene_fingerprint  \\\n",
       "31        Bivalirudin  [1.2739266e-05 -2.7748918e-05 0.00095751503 0....   \n",
       "53          goserelin  [1.2739266e-05 -2.7748918e-05 0.00095751503 0....   \n",
       "54          goserelin  [1.2739266e-05 -2.7748918e-05 0.00095751503 0....   \n",
       "131      DESMOPRESSIN  [1.2739266e-05 -2.7748918e-05 0.00095751503 0....   \n",
       "132      DESMOPRESSIN  [1.2739266e-05 -2.7748918e-05 0.00095751503 0....   \n",
       "..                ...                                                ...   \n",
       "431       Teduglutide  [1.2739266e-05 -2.7748918e-05 0.00095751503 0....   \n",
       "440       Albiglutide  [1.2739266e-05 -2.7748918e-05 0.00095751503 0....   \n",
       "457        Ajmalicine  [1.2739266e-05 -2.7748918e-05 0.00095751503 0....   \n",
       "460  Insulin degludec  [1.2739266e-05 -2.7748918e-05 0.00095751503 0....   \n",
       "487   UNII-55R7RG342O  [1.2739266e-05 -2.7748918e-05 0.00095751503 0....   \n",
       "\n",
       "                                      drug_fingerprint  \n",
       "31   [0.10044218 0.18559723 -0.12865402 -0.0650997 ...  \n",
       "53   [0.1331214 0.2391842 -0.14361311 -0.14107014 0...  \n",
       "54   [0.1331214 0.2391842 -0.14361311 -0.14107014 0...  \n",
       "131  [0.051722348 0.24374117 -0.16236018 -0.1723347...  \n",
       "132  [0.051722348 0.24374117 -0.16236018 -0.1723347...  \n",
       "..                                                 ...  \n",
       "431  [0.15734409 0.22184908 -0.10869281 -0.08885931...  \n",
       "440  [0.15686676 0.2130656 -0.10459428 -0.094190985...  \n",
       "457  [0.055649024 0.22807583 -0.18862249 -0.1470914...  \n",
       "460  [0.077604994 0.26912978 -0.12892634 -0.1319705...  \n",
       "487  [0.1460279 0.27236864 -0.07754911 -0.11320723 ...  \n",
       "\n",
       "[14081 rows x 13 columns]"
      ]
     },
     "execution_count": 8,
     "metadata": {},
     "output_type": "execute_result"
    }
   ],
   "source": [
    "drugbank"
   ]
  },
  {
   "cell_type": "code",
   "execution_count": 9,
   "metadata": {},
   "outputs": [],
   "source": [
    "with open('data/Corona_Gene_Embeddings.pkl', 'rb') as f:\n",
    "    corona_targets_df = pkl.load(f)"
   ]
  },
  {
   "cell_type": "code",
   "execution_count": 10,
   "metadata": {},
   "outputs": [],
   "source": [
    "corona_target_ids = corona_targets_df['Target_DB_ID'].tolist()"
   ]
  },
  {
   "cell_type": "code",
   "execution_count": 11,
   "metadata": {},
   "outputs": [],
   "source": [
    "to_drop_rows = []\n",
    "\n",
    "for index, row in drugbank.iterrows():\n",
    "    if row['target_id'] not in corona_target_ids:\n",
    "        to_drop_rows.append(index)\n",
    "        \n",
    "drugbank = drugbank.drop(to_drop_rows)"
   ]
  },
  {
   "cell_type": "code",
   "execution_count": 12,
   "metadata": {
    "scrolled": true
   },
   "outputs": [
    {
     "name": "stderr",
     "output_type": "stream",
     "text": [
      "/miniconda/lib/python3.6/site-packages/ipykernel_launcher.py:1: SettingWithCopyWarning: \n",
      "A value is trying to be set on a copy of a slice from a DataFrame.\n",
      "Try using .loc[row_indexer,col_indexer] = value instead\n",
      "\n",
      "See the caveats in the documentation: https://pandas.pydata.org/pandas-docs/stable/user_guide/indexing.html#returning-a-view-versus-a-copy\n",
      "  \"\"\"Entry point for launching an IPython kernel.\n"
     ]
    }
   ],
   "source": [
    "drugbank['target_gene_code'] = drugbank['target_gene'].apply(lambda x: ''.join(list(x.split('\\n')[1:])))\n",
    "#drugbank['target_amino_code'] = drugbank['target_amino'].apply(lambda x: ''.join(list(x.split('\\n')[1:])))"
   ]
  },
  {
   "cell_type": "code",
   "execution_count": 13,
   "metadata": {},
   "outputs": [],
   "source": [
    "with open ('data/chem_cid_SMILE_fngr_vector_fngr.pickle', 'rb') as f:\n",
    "    smiles_df = pkl.load(f)\n",
    "    \n",
    "smiles_df['cid'] = smiles_df['cid'].astype(int)\n",
    "drugbank = pd.merge(smiles_df, drugbank, right_on = 'pubchem_id', left_on = 'cid', how = 'right')"
   ]
  },
  {
   "cell_type": "code",
   "execution_count": 14,
   "metadata": {
    "scrolled": true
   },
   "outputs": [],
   "source": [
    "drugbank = drugbank[['drug_id', 'target_id', 'fingerprint', 'target_gene_code']]\n",
    "drugbank = drugbank[~ drugbank['fingerprint'].isna()]\n",
    "drugbank = drugbank.rename(columns = {'fingerprint': 'drug_fingerprint_code', 'target_id': 'gene_id'})"
   ]
  },
  {
   "cell_type": "code",
   "execution_count": 15,
   "metadata": {},
   "outputs": [
    {
     "data": {
      "text/plain": [
       "<matplotlib.axes._subplots.AxesSubplot at 0x7f58a62c7358>"
      ]
     },
     "execution_count": 15,
     "metadata": {},
     "output_type": "execute_result"
    },
    {
     "data": {
      "image/png": "[encoded data removed]",
      "text/plain": [
       "<Figure size 432x288 with 1 Axes>"
      ]
     },
     "metadata": {
      "needs_background": "light"
     },
     "output_type": "display_data"
    }
   ],
   "source": [
    "drugbank['drug_id'].value_counts().plot()"
   ]
  },
  {
   "cell_type": "markdown",
   "metadata": {},
   "source": [
    "## NOTE: Why does NAD Bind to so many molecules?"
   ]
  },
  {
   "cell_type": "code",
   "execution_count": 16,
   "metadata": {
    "scrolled": false
   },
   "outputs": [
    {
     "data": {
      "text/html": [
       "<div>\n",
       "<style scoped>\n",
       "    .dataframe tbody tr th:only-of-type {\n",
       "        vertical-align: middle;\n",
       "    }\n",
       "\n",
       "    .dataframe tbody tr th {\n",
       "        vertical-align: top;\n",
       "    }\n",
       "\n",
       "    .dataframe thead th {\n",
       "        text-align: right;\n",
       "    }\n",
       "</style>\n",
       "<table border=\"1\" class=\"dataframe\">\n",
       "  <thead>\n",
       "    <tr style=\"text-align: right;\">\n",
       "      <th></th>\n",
       "      <th>drug_id</th>\n",
       "      <th>gene_id</th>\n",
       "      <th>drug_fingerprint_code</th>\n",
       "      <th>target_gene_code</th>\n",
       "    </tr>\n",
       "  </thead>\n",
       "  <tbody>\n",
       "    <tr>\n",
       "      <th>89</th>\n",
       "      <td>DB00157</td>\n",
       "      <td>BE0000305</td>\n",
       "      <td>2968968094 4140259565 3218693969 2070178920 32...</td>\n",
       "      <td>ATGGCGGCTGCCGCACAATCCCGGGTTGTCCGGGTCCTGTCAATGT...</td>\n",
       "    </tr>\n",
       "    <tr>\n",
       "      <th>90</th>\n",
       "      <td>DB00157</td>\n",
       "      <td>BE0000252</td>\n",
       "      <td>2968968094 4140259565 3218693969 2070178920 32...</td>\n",
       "      <td>ATGCTCCTGGCTGTTTTGTACTGCCTGCTGTGGAGTTTCCAGACCT...</td>\n",
       "    </tr>\n",
       "  </tbody>\n",
       "</table>\n",
       "</div>"
      ],
      "text/plain": [
       "    drug_id    gene_id                              drug_fingerprint_code  \\\n",
       "89  DB00157  BE0000305  2968968094 4140259565 3218693969 2070178920 32...   \n",
       "90  DB00157  BE0000252  2968968094 4140259565 3218693969 2070178920 32...   \n",
       "\n",
       "                                     target_gene_code  \n",
       "89  ATGGCGGCTGCCGCACAATCCCGGGTTGTCCGGGTCCTGTCAATGT...  \n",
       "90  ATGCTCCTGGCTGTTTTGTACTGCCTGCTGTGGAGTTTCCAGACCT...  "
      ]
     },
     "execution_count": 16,
     "metadata": {},
     "output_type": "execute_result"
    }
   ],
   "source": [
    "drugbank[drugbank['drug_id'] == 'DB00157']"
   ]
  },
  {
   "cell_type": "markdown",
   "metadata": {},
   "source": [
    "### Get DrugID -> Fingerprint mapping from positive samples"
   ]
  },
  {
   "cell_type": "code",
   "execution_count": 17,
   "metadata": {},
   "outputs": [],
   "source": [
    "drug_map = drugbank[['drug_id', 'drug_fingerprint_code']].drop_duplicates('drug_id').set_index('drug_id')\n",
    "target_map = drugbank[['gene_id', 'target_gene_code']].drop_duplicates('gene_id').set_index('gene_id')"
   ]
  },
  {
   "cell_type": "code",
   "execution_count": 18,
   "metadata": {},
   "outputs": [],
   "source": [
    "negative_df = pd.read_csv('data/negative_samples_thrsh_12')[['node_0','node_1','shortest_path']] \n",
    "negative_df = negative_df.rename(columns = {'node_0': 'drug_id', 'node_1': 'gene_id'})\n",
    "negative_df = negative_df[negative_df['drug_id'].str.contains('DB') & negative_df['gene_id'].str.contains('BE')]"
   ]
  },
  {
   "cell_type": "code",
   "execution_count": 19,
   "metadata": {},
   "outputs": [],
   "source": [
    "negative_df = pd.merge(negative_df, drug_map, left_on = 'drug_id', right_index = True, how = 'left')\n",
    "negative_df = pd.merge(negative_df, target_map, left_on = 'gene_id', right_index = True, how = 'left')"
   ]
  },
  {
   "cell_type": "code",
   "execution_count": null,
   "metadata": {},
   "outputs": [],
   "source": [
    "to_drop_rows = []\n",
    "\n",
    "for index, row in negative_df.iterrows():\n",
    "    if row['gene_id'] not in corona_target_ids:\n",
    "        to_drop_rows.append(index)\n",
    "        \n",
    "negative_df = negative_df.drop(to_drop_rows)"
   ]
  },
  {
   "cell_type": "code",
   "execution_count": null,
   "metadata": {
    "scrolled": true
   },
   "outputs": [],
   "source": [
    "negative_df"
   ]
  },
  {
   "cell_type": "markdown",
   "metadata": {},
   "source": [
    "#### Note: Around 13% of negative samples don't match a drug id. Since the number is small, we ignore it for now"
   ]
  },
  {
   "cell_type": "code",
   "execution_count": 78,
   "metadata": {},
   "outputs": [],
   "source": [
    "len(negative_df[(negative_df['target_gene_code'].isna()) |\n",
    "                (negative_df['drug_fingerprint_code'].isna())])/len(negative_df)\n",
    "\n",
    "negative_df = negative_df[(~ negative_df['target_gene_code'].isna()) &\n",
    "                (~ negative_df['drug_fingerprint_code'].isna())]"
   ]
  },
  {
   "cell_type": "code",
   "execution_count": 79,
   "metadata": {
    "scrolled": true
   },
   "outputs": [
    {
     "name": "stderr",
     "output_type": "stream",
     "text": [
      "/miniconda/lib/python3.6/site-packages/ipykernel_launcher.py:1: SettingWithCopyWarning: \n",
      "A value is trying to be set on a copy of a slice from a DataFrame.\n",
      "Try using .loc[row_indexer,col_indexer] = value instead\n",
      "\n",
      "See the caveats in the documentation: https://pandas.pydata.org/pandas-docs/stable/user_guide/indexing.html#returning-a-view-versus-a-copy\n",
      "  \"\"\"Entry point for launching an IPython kernel.\n"
     ]
    }
   ],
   "source": [
    "negative_df['Y'] = 0\n",
    "drugbank['Y'] = 1\n",
    "drugbank = drugbank.append(negative_df) # .sample(int(len(drugbank)*1.5),replace=True)) ## NUMBER OF NEGATIVE SAMPLES TO PICK\n",
    "drugbank = drugbank.drop('shortest_path', axis = 1)"
   ]
  },
  {
   "cell_type": "code",
   "execution_count": 80,
   "metadata": {},
   "outputs": [
    {
     "data": {
      "text/html": [
       "<div>\n",
       "<style scoped>\n",
       "    .dataframe tbody tr th:only-of-type {\n",
       "        vertical-align: middle;\n",
       "    }\n",
       "\n",
       "    .dataframe tbody tr th {\n",
       "        vertical-align: top;\n",
       "    }\n",
       "\n",
       "    .dataframe thead th {\n",
       "        text-align: right;\n",
       "    }\n",
       "</style>\n",
       "<table border=\"1\" class=\"dataframe\">\n",
       "  <thead>\n",
       "    <tr style=\"text-align: right;\">\n",
       "      <th></th>\n",
       "      <th>drug_id</th>\n",
       "      <th>gene_id</th>\n",
       "      <th>drug_fingerprint_code</th>\n",
       "      <th>target_gene_code</th>\n",
       "      <th>Y</th>\n",
       "    </tr>\n",
       "  </thead>\n",
       "  <tbody>\n",
       "  </tbody>\n",
       "</table>\n",
       "</div>"
      ],
      "text/plain": [
       "Empty DataFrame\n",
       "Columns: [drug_id, gene_id, drug_fingerprint_code, target_gene_code, Y]\n",
       "Index: []"
      ]
     },
     "execution_count": 80,
     "metadata": {},
     "output_type": "execute_result"
    }
   ],
   "source": [
    "drugbank[drugbank['target_gene_code'].str.contains('S').isna()]"
   ]
  },
  {
   "cell_type": "code",
   "execution_count": 81,
   "metadata": {},
   "outputs": [],
   "source": [
    "drugbank = drugbank[~ drugbank['drug_fingerprint_code'].str.contains('n')]"
   ]
  },
  {
   "cell_type": "markdown",
   "metadata": {},
   "source": [
    "#### The dataset is clean and balanced"
   ]
  },
  {
   "cell_type": "code",
   "execution_count": 82,
   "metadata": {},
   "outputs": [
    {
     "data": {
      "text/plain": [
       "0    0.961987\n",
       "1    0.038013\n",
       "Name: Y, dtype: float64"
      ]
     },
     "execution_count": 82,
     "metadata": {},
     "output_type": "execute_result"
    }
   ],
   "source": [
    "drugbank['Y'].value_counts()/len(drugbank)"
   ]
  },
  {
   "cell_type": "code",
   "execution_count": 83,
   "metadata": {},
   "outputs": [
    {
     "data": {
      "text/plain": [
       "<matplotlib.axes._subplots.AxesSubplot at 0x7f3d096dc748>"
      ]
     },
     "execution_count": 83,
     "metadata": {},
     "output_type": "execute_result"
    },
    {
     "data": {
      "image/png": "[encoded data removed]",
      "text/plain": [
       "<Figure size 432x288 with 1 Axes>"
      ]
     },
     "metadata": {
      "needs_background": "light"
     },
     "output_type": "display_data"
    }
   ],
   "source": [
    "drugbank['Y'].hist()"
   ]
  },
  {
   "cell_type": "markdown",
   "metadata": {},
   "source": [
    "#### Preprocessing fingerprints to feed to CNN"
   ]
  },
  {
   "cell_type": "code",
   "execution_count": 84,
   "metadata": {},
   "outputs": [
    {
     "data": {
      "application/vnd.jupyter.widget-view+json": {
       "model_id": "d10177c4d0994c8fa69c61c67d4e5e96",
       "version_major": 2,
       "version_minor": 0
      },
      "text/plain": [
       "HBox(children=(FloatProgress(value=0.0, max=370244.0), HTML(value='')))"
      ]
     },
     "metadata": {},
     "output_type": "display_data"
    },
    {
     "name": "stdout",
     "output_type": "stream",
     "text": [
      "\n"
     ]
    },
    {
     "data": {
      "application/vnd.jupyter.widget-view+json": {
       "model_id": "675381a7d9d54935b74b48d6fab19f8b",
       "version_major": 2,
       "version_minor": 0
      },
      "text/plain": [
       "HBox(children=(FloatProgress(value=0.0, max=370244.0), HTML(value='')))"
      ]
     },
     "metadata": {},
     "output_type": "display_data"
    },
    {
     "name": "stdout",
     "output_type": "stream",
     "text": [
      "\n"
     ]
    }
   ],
   "source": [
    "label_encoder = LabelEncoder()\n",
    "label_encoder.fit(list(drugbank['target_gene_code'].iloc[0]))\n",
    "\n",
    "with open('data/gene_encoder.pkl', 'wb') as f:\n",
    "    pkl.dump(label_encoder, f)\n",
    "    \n",
    "gene_chars = set(list(drugbank['target_gene_code'].iloc[0]))\n",
    "\n",
    "drugbank['target_gene_encoded'] = drugbank['target_gene_code'].progress_apply(\\\n",
    "                                   lambda x: label_encoder.transform([i for i in list(x) if i in gene_chars]))\n",
    "drugbank['drug_fingerprint_encoded'] = drugbank['drug_fingerprint_code'].progress_apply(lambda x: [int(i) for i in x.replace(' ', '')])"
   ]
  },
  {
   "cell_type": "code",
   "execution_count": 85,
   "metadata": {},
   "outputs": [
    {
     "data": {
      "text/plain": [
       "1221"
      ]
     },
     "execution_count": 85,
     "metadata": {},
     "output_type": "execute_result"
    }
   ],
   "source": [
    "len(drugbank['target_gene_encoded'][0])"
   ]
  },
  {
   "cell_type": "code",
   "execution_count": 86,
   "metadata": {
    "scrolled": true
   },
   "outputs": [
    {
     "data": {
      "text/html": [
       "<div>\n",
       "<style scoped>\n",
       "    .dataframe tbody tr th:only-of-type {\n",
       "        vertical-align: middle;\n",
       "    }\n",
       "\n",
       "    .dataframe tbody tr th {\n",
       "        vertical-align: top;\n",
       "    }\n",
       "\n",
       "    .dataframe thead th {\n",
       "        text-align: right;\n",
       "    }\n",
       "</style>\n",
       "<table border=\"1\" class=\"dataframe\">\n",
       "  <thead>\n",
       "    <tr style=\"text-align: right;\">\n",
       "      <th></th>\n",
       "      <th>drug_id</th>\n",
       "      <th>gene_id</th>\n",
       "      <th>drug_fingerprint_code</th>\n",
       "      <th>target_gene_code</th>\n",
       "      <th>Y</th>\n",
       "      <th>target_gene_encoded</th>\n",
       "      <th>drug_fingerprint_encoded</th>\n",
       "    </tr>\n",
       "  </thead>\n",
       "  <tbody>\n",
       "    <tr>\n",
       "      <th>0</th>\n",
       "      <td>DB03313</td>\n",
       "      <td>BE0001349</td>\n",
       "      <td>2246728737 3545365497 2246699815 2664995851 86...</td>\n",
       "      <td>ATGGTCTCAGGAACGGTGGGCAGAGGTACGGCGCTGGGCGCGGTGC...</td>\n",
       "      <td>1</td>\n",
       "      <td>[0, 3, 2, 2, 3, 1, 3, 1, 0, 2, 2, 0, 0, 1, 2, ...</td>\n",
       "      <td>[2, 2, 4, 6, 7, 2, 8, 7, 3, 7, 3, 5, 4, 5, 3, ...</td>\n",
       "    </tr>\n",
       "    <tr>\n",
       "      <th>1</th>\n",
       "      <td>DB03313</td>\n",
       "      <td>BE0004335</td>\n",
       "      <td>2246728737 3545365497 2246699815 2664995851 86...</td>\n",
       "      <td>ATGCAAAATCAATTAAATGAATTAAAACGAAAAATGCTGGAATTTT...</td>\n",
       "      <td>1</td>\n",
       "      <td>[0, 3, 2, 1, 0, 0, 0, 0, 3, 1, 0, 0, 3, 3, 0, ...</td>\n",
       "      <td>[2, 2, 4, 6, 7, 2, 8, 7, 3, 7, 3, 5, 4, 5, 3, ...</td>\n",
       "    </tr>\n",
       "    <tr>\n",
       "      <th>2</th>\n",
       "      <td>DB03313</td>\n",
       "      <td>BE0004290</td>\n",
       "      <td>2246728737 3545365497 2246699815 2664995851 86...</td>\n",
       "      <td>ATGAACAAACCAACGATTCTGCGCCTAATCAAGTATCTGAGCATTA...</td>\n",
       "      <td>1</td>\n",
       "      <td>[0, 3, 2, 0, 0, 1, 0, 0, 0, 1, 1, 0, 0, 1, 2, ...</td>\n",
       "      <td>[2, 2, 4, 6, 7, 2, 8, 7, 3, 7, 3, 5, 4, 5, 3, ...</td>\n",
       "    </tr>\n",
       "    <tr>\n",
       "      <th>3</th>\n",
       "      <td>DB03313</td>\n",
       "      <td>BE0003624</td>\n",
       "      <td>2246728737 3545365497 2246699815 2664995851 86...</td>\n",
       "      <td>ATGAGACTGATTTGTATGAGAAAATTTAACAGCCATTCGATTCCGA...</td>\n",
       "      <td>1</td>\n",
       "      <td>[0, 3, 2, 0, 2, 0, 1, 3, 2, 0, 3, 3, 3, 2, 3, ...</td>\n",
       "      <td>[2, 2, 4, 6, 7, 2, 8, 7, 3, 7, 3, 5, 4, 5, 3, ...</td>\n",
       "    </tr>\n",
       "    <tr>\n",
       "      <th>4</th>\n",
       "      <td>DB03313</td>\n",
       "      <td>BE0004644</td>\n",
       "      <td>2246728737 3545365497 2246699815 2664995851 86...</td>\n",
       "      <td>ATGAAATTAGATAAATTATTTGAGAAATTTCTTTCTCTTTTTAAAA...</td>\n",
       "      <td>1</td>\n",
       "      <td>[0, 3, 2, 0, 0, 0, 3, 3, 0, 2, 0, 3, 0, 0, 0, ...</td>\n",
       "      <td>[2, 2, 4, 6, 7, 2, 8, 7, 3, 7, 3, 5, 4, 5, 3, ...</td>\n",
       "    </tr>\n",
       "  </tbody>\n",
       "</table>\n",
       "</div>"
      ],
      "text/plain": [
       "   drug_id    gene_id                              drug_fingerprint_code  \\\n",
       "0  DB03313  BE0001349  2246728737 3545365497 2246699815 2664995851 86...   \n",
       "1  DB03313  BE0004335  2246728737 3545365497 2246699815 2664995851 86...   \n",
       "2  DB03313  BE0004290  2246728737 3545365497 2246699815 2664995851 86...   \n",
       "3  DB03313  BE0003624  2246728737 3545365497 2246699815 2664995851 86...   \n",
       "4  DB03313  BE0004644  2246728737 3545365497 2246699815 2664995851 86...   \n",
       "\n",
       "                                    target_gene_code  Y  \\\n",
       "0  ATGGTCTCAGGAACGGTGGGCAGAGGTACGGCGCTGGGCGCGGTGC...  1   \n",
       "1  ATGCAAAATCAATTAAATGAATTAAAACGAAAAATGCTGGAATTTT...  1   \n",
       "2  ATGAACAAACCAACGATTCTGCGCCTAATCAAGTATCTGAGCATTA...  1   \n",
       "3  ATGAGACTGATTTGTATGAGAAAATTTAACAGCCATTCGATTCCGA...  1   \n",
       "4  ATGAAATTAGATAAATTATTTGAGAAATTTCTTTCTCTTTTTAAAA...  1   \n",
       "\n",
       "                                 target_gene_encoded  \\\n",
       "0  [0, 3, 2, 2, 3, 1, 3, 1, 0, 2, 2, 0, 0, 1, 2, ...   \n",
       "1  [0, 3, 2, 1, 0, 0, 0, 0, 3, 1, 0, 0, 3, 3, 0, ...   \n",
       "2  [0, 3, 2, 0, 0, 1, 0, 0, 0, 1, 1, 0, 0, 1, 2, ...   \n",
       "3  [0, 3, 2, 0, 2, 0, 1, 3, 2, 0, 3, 3, 3, 2, 3, ...   \n",
       "4  [0, 3, 2, 0, 0, 0, 3, 3, 0, 2, 0, 3, 0, 0, 0, ...   \n",
       "\n",
       "                            drug_fingerprint_encoded  \n",
       "0  [2, 2, 4, 6, 7, 2, 8, 7, 3, 7, 3, 5, 4, 5, 3, ...  \n",
       "1  [2, 2, 4, 6, 7, 2, 8, 7, 3, 7, 3, 5, 4, 5, 3, ...  \n",
       "2  [2, 2, 4, 6, 7, 2, 8, 7, 3, 7, 3, 5, 4, 5, 3, ...  \n",
       "3  [2, 2, 4, 6, 7, 2, 8, 7, 3, 7, 3, 5, 4, 5, 3, ...  \n",
       "4  [2, 2, 4, 6, 7, 2, 8, 7, 3, 7, 3, 5, 4, 5, 3, ...  "
      ]
     },
     "execution_count": 86,
     "metadata": {},
     "output_type": "execute_result"
    }
   ],
   "source": [
    "drugbank.head()"
   ]
  },
  {
   "cell_type": "markdown",
   "metadata": {},
   "source": [
    "#### Calculate length mismatches and pad"
   ]
  },
  {
   "cell_type": "code",
   "execution_count": 87,
   "metadata": {},
   "outputs": [],
   "source": [
    "drugbank['target_gene_encoded_len'] = drugbank['target_gene_encoded']\\\n",
    "                                    .apply(lambda x: len(x))\n",
    "drugbank['drug_fingerprint_encoded_len'] = drugbank['drug_fingerprint_encoded']\\\n",
    "                                    .apply(lambda x: len(x))"
   ]
  },
  {
   "cell_type": "code",
   "execution_count": 88,
   "metadata": {},
   "outputs": [],
   "source": [
    "drugbank['mismatch'] = drugbank[['target_gene_encoded', 'drug_fingerprint_encoded']]\\\n",
    "                        .apply(lambda x: len(x['target_gene_encoded']) - len(x['drug_fingerprint_encoded']), axis = 1)"
   ]
  },
  {
   "cell_type": "markdown",
   "metadata": {},
   "source": [
    "## Most Genes are longer than fingerprints"
   ]
  },
  {
   "cell_type": "code",
   "execution_count": 89,
   "metadata": {},
   "outputs": [
    {
     "data": {
      "text/plain": [
       "<matplotlib.axes._subplots.AxesSubplot at 0x7f3cbf5330f0>"
      ]
     },
     "execution_count": 89,
     "metadata": {},
     "output_type": "execute_result"
    },
    {
     "data": {
      "image/png": "[encoded data removed]",
      "text/plain": [
       "<Figure size 720x360 with 1 Axes>"
      ]
     },
     "metadata": {
      "needs_background": "light"
     },
     "output_type": "display_data"
    }
   ],
   "source": [
    "drugbank['mismatch'].hist(bins = 100, figsize = (10, 5))"
   ]
  },
  {
   "cell_type": "code",
   "execution_count": 90,
   "metadata": {},
   "outputs": [
    {
     "name": "stdout",
     "output_type": "stream",
     "text": [
      "95 percent of the mismatches are of the range 228.361840 to 357.638160\n"
     ]
    }
   ],
   "source": [
    "print('95 percent of the mismatches are of the range %f to %f' % (max(drugbank['mismatch'].value_counts()) - np.std(drugbank['mismatch'].value_counts()),\n",
    "                                                           max(drugbank['mismatch'].value_counts()) + np.std(drugbank['mismatch'].value_counts())))"
   ]
  },
  {
   "cell_type": "code",
   "execution_count": 91,
   "metadata": {},
   "outputs": [],
   "source": [
    "max_target_gene_encoded_len = max(drugbank['target_gene_encoded_len'])\n",
    "max_drug_fingerprint_encoded_len = max(drugbank['drug_fingerprint_encoded_len'])"
   ]
  },
  {
   "cell_type": "code",
   "execution_count": 92,
   "metadata": {},
   "outputs": [],
   "source": [
    "drugbank['target_gene_encoded_mismatch'] = max_target_gene_encoded_len - drugbank['target_gene_encoded_len']"
   ]
  },
  {
   "cell_type": "code",
   "execution_count": 93,
   "metadata": {},
   "outputs": [],
   "source": [
    "drugbank['drug_fingerprint_encoded_mismatch'] = max_drug_fingerprint_encoded_len - drugbank['drug_fingerprint_encoded_len'] "
   ]
  },
  {
   "cell_type": "code",
   "execution_count": 94,
   "metadata": {},
   "outputs": [
    {
     "data": {
      "text/plain": [
       "<matplotlib.axes._subplots.AxesSubplot at 0x7f3cbf0b1d68>"
      ]
     },
     "execution_count": 94,
     "metadata": {},
     "output_type": "execute_result"
    },
    {
     "data": {
      "image/png": "[encoded data removed]",
      "text/plain": [
       "<Figure size 720x360 with 1 Axes>"
      ]
     },
     "metadata": {
      "needs_background": "light"
     },
     "output_type": "display_data"
    }
   ],
   "source": [
    "drugbank['drug_fingerprint_encoded_mismatch'].hist(bins = 100, figsize = (10, 5), log = True)"
   ]
  },
  {
   "cell_type": "code",
   "execution_count": 95,
   "metadata": {},
   "outputs": [
    {
     "data": {
      "text/plain": [
       "<matplotlib.axes._subplots.AxesSubplot at 0x7f3cbf208358>"
      ]
     },
     "execution_count": 95,
     "metadata": {},
     "output_type": "execute_result"
    },
    {
     "data": {
      "image/png": "[encoded data removed]",
      "text/plain": [
       "<Figure size 720x360 with 1 Axes>"
      ]
     },
     "metadata": {
      "needs_background": "light"
     },
     "output_type": "display_data"
    }
   ],
   "source": [
    "drugbank['target_gene_encoded_mismatch'].hist(bins = 100, figsize = (10, 5), log = True)"
   ]
  },
  {
   "cell_type": "markdown",
   "metadata": {},
   "source": [
    "#### There appears to be quite large intracolumn mismatches in length. Unsure how to deal with it now. Current strategy is to pad the inputs and model it"
   ]
  },
  {
   "cell_type": "code",
   "execution_count": 96,
   "metadata": {},
   "outputs": [
    {
     "data": {
      "text/plain": [
       "21222"
      ]
     },
     "execution_count": 96,
     "metadata": {},
     "output_type": "execute_result"
    }
   ],
   "source": [
    "max_target_gene_encoded_len"
   ]
  },
  {
   "cell_type": "code",
   "execution_count": 97,
   "metadata": {},
   "outputs": [
    {
     "data": {
      "text/plain": [
       "(1221,)"
      ]
     },
     "execution_count": 97,
     "metadata": {},
     "output_type": "execute_result"
    }
   ],
   "source": [
    "drugbank['target_gene_encoded'][0].shape"
   ]
  },
  {
   "cell_type": "code",
   "execution_count": 98,
   "metadata": {},
   "outputs": [
    {
     "data": {
      "application/vnd.jupyter.widget-view+json": {
       "model_id": "43abc2cc7afc498b8f5d3e3c72c75628",
       "version_major": 2,
       "version_minor": 0
      },
      "text/plain": [
       "HBox(children=(FloatProgress(value=0.0, max=370244.0), HTML(value='')))"
      ]
     },
     "metadata": {},
     "output_type": "display_data"
    },
    {
     "name": "stdout",
     "output_type": "stream",
     "text": [
      "\n"
     ]
    }
   ],
   "source": [
    "drugbank['target_gene_encoded_padded'] = drugbank[['target_gene_encoded','target_gene_encoded_mismatch']]\\\n",
    "                                         .progress_apply(lambda x: ['-1' for i in range(int(x['target_gene_encoded_mismatch']/2))] +   \n",
    "                                                        list(x['target_gene_encoded']) +\n",
    "                                                        ['-1' for i in range (int(x['target_gene_encoded_mismatch']/2))]\n",
    "                                                        , axis = 1)\n",
    "drugbank['target_gene_encoded_padded'] = drugbank['target_gene_encoded_padded'].apply(lambda x: x + ['-1'] if len(x) < max_target_gene_encoded_len else x)"
   ]
  },
  {
   "cell_type": "code",
   "execution_count": 99,
   "metadata": {},
   "outputs": [
    {
     "data": {
      "application/vnd.jupyter.widget-view+json": {
       "model_id": "33ba5dd5d39d4b3fada88ff7246d4fb6",
       "version_major": 2,
       "version_minor": 0
      },
      "text/plain": [
       "HBox(children=(FloatProgress(value=0.0, max=370244.0), HTML(value='')))"
      ]
     },
     "metadata": {},
     "output_type": "display_data"
    },
    {
     "name": "stdout",
     "output_type": "stream",
     "text": [
      "\n"
     ]
    }
   ],
   "source": [
    "drugbank['drug_fingerprint_encoded_padded'] = drugbank[['drug_fingerprint_encoded','drug_fingerprint_encoded_mismatch']]\\\n",
    "                                         .progress_apply(lambda x: ['-1' for i in range(int(x['drug_fingerprint_encoded_mismatch']/2))] +   \n",
    "                                                        list(x['drug_fingerprint_encoded']) +\n",
    "                                                        ['-1' for i in range (int(x['drug_fingerprint_encoded_mismatch']/2))]\n",
    "                                                        , axis = 1)\n",
    "\n",
    "drugbank['drug_fingerprint_encoded_padded'] = drugbank['drug_fingerprint_encoded_padded'].apply(lambda x: x + ['-1'] if len(x) < max_drug_fingerprint_encoded_len else x)"
   ]
  },
  {
   "cell_type": "code",
   "execution_count": 2,
   "metadata": {
    "scrolled": true
   },
   "outputs": [
    {
     "ename": "NameError",
     "evalue": "name 'drugbank' is not defined",
     "output_type": "error",
     "traceback": [
      "\u001b[0;31m---------------------------------------------------------------------------\u001b[0m",
      "\u001b[0;31mNameError\u001b[0m                                 Traceback (most recent call last)",
      "\u001b[0;32m<ipython-input-2-d48a973bc6f4>\u001b[0m in \u001b[0;36m<module>\u001b[0;34m\u001b[0m\n\u001b[0;32m----> 1\u001b[0;31m \u001b[0mdrugbank\u001b[0m\u001b[0;34m\u001b[0m\u001b[0m\n\u001b[0m",
      "\u001b[0;31mNameError\u001b[0m: name 'drugbank' is not defined"
     ]
    }
   ],
   "source": [
    "drugbank"
   ]
  },
  {
   "cell_type": "code",
   "execution_count": 111,
   "metadata": {},
   "outputs": [],
   "source": [
    "drugbank_30K = drugbank.head(30000)"
   ]
  },
  {
   "cell_type": "code",
   "execution_count": 112,
   "metadata": {},
   "outputs": [],
   "source": [
    "drugbank_30K.to_pickle('data/all_postive_negative_samples_dump.pkl')"
   ]
  },
  {
   "cell_type": "code",
   "execution_count": 43,
   "metadata": {},
   "outputs": [],
   "source": [
    "drugbank.sample(frac=1).reset_index(drop=True).to_csv('data/intermediate/covid_gene_only_interactions_preprocessed.csv', index = False)"
   ]
  },
  {
   "cell_type": "code",
   "execution_count": 44,
   "metadata": {},
   "outputs": [],
   "source": [
    "del smiles_df, negative_df"
   ]
  },
  {
   "cell_type": "code",
   "execution_count": 45,
   "metadata": {},
   "outputs": [],
   "source": [
    "del drugbank"
   ]
  },
  {
   "cell_type": "markdown",
   "metadata": {},
   "source": [
    "## ROC for Corona Genes"
   ]
  },
  {
   "cell_type": "code",
   "execution_count": 12,
   "metadata": {},
   "outputs": [],
   "source": [
    "drugbank = pd.read_pickle('data/all_postive_negative_samples_dump.pkl')"
   ]
  },
  {
   "cell_type": "code",
   "execution_count": 51,
   "metadata": {},
   "outputs": [],
   "source": [
    "drugbank = pd.read_csv('data/intermediate/interactions_preprocessed.csv',iterator = False, converters={\"target_gene_encoded_padded\": \\\n",
    "                                                                                     lambda x: np.array(x.strip(\"[]\").replace(\"'\",\"\").split(\", \")),\n",
    "                                                                                    \"drug_fingerprint_encoded_padded\": \\\n",
    "                                                                                    lambda x: np.array(x.strip(\"[]\").replace(\"'\",\"\").split(\", \"))})\n"
   ]
  },
  {
   "cell_type": "code",
   "execution_count": 13,
   "metadata": {
    "scrolled": true
   },
   "outputs": [
    {
     "data": {
      "text/html": [
       "<div>\n",
       "<style scoped>\n",
       "    .dataframe tbody tr th:only-of-type {\n",
       "        vertical-align: middle;\n",
       "    }\n",
       "\n",
       "    .dataframe tbody tr th {\n",
       "        vertical-align: top;\n",
       "    }\n",
       "\n",
       "    .dataframe thead th {\n",
       "        text-align: right;\n",
       "    }\n",
       "</style>\n",
       "<table border=\"1\" class=\"dataframe\">\n",
       "  <thead>\n",
       "    <tr style=\"text-align: right;\">\n",
       "      <th></th>\n",
       "      <th>drug_id</th>\n",
       "      <th>gene_id</th>\n",
       "      <th>drug_fingerprint_code</th>\n",
       "      <th>target_gene_code</th>\n",
       "      <th>Y</th>\n",
       "      <th>target_gene_encoded</th>\n",
       "      <th>drug_fingerprint_encoded</th>\n",
       "      <th>target_gene_encoded_len</th>\n",
       "      <th>drug_fingerprint_encoded_len</th>\n",
       "      <th>mismatch</th>\n",
       "      <th>target_gene_encoded_mismatch</th>\n",
       "      <th>drug_fingerprint_encoded_mismatch</th>\n",
       "      <th>target_gene_encoded_padded</th>\n",
       "      <th>drug_fingerprint_encoded_padded</th>\n",
       "    </tr>\n",
       "  </thead>\n",
       "  <tbody>\n",
       "    <tr>\n",
       "      <th>0</th>\n",
       "      <td>DB03313</td>\n",
       "      <td>BE0001349</td>\n",
       "      <td>2246728737 3545365497 2246699815 2664995851 86...</td>\n",
       "      <td>ATGGTCTCAGGAACGGTGGGCAGAGGTACGGCGCTGGGCGCGGTGC...</td>\n",
       "      <td>1</td>\n",
       "      <td>[0, 3, 2, 2, 3, 1, 3, 1, 0, 2, 2, 0, 0, 1, 2, ...</td>\n",
       "      <td>[2, 2, 4, 6, 7, 2, 8, 7, 3, 7, 3, 5, 4, 5, 3, ...</td>\n",
       "      <td>1221</td>\n",
       "      <td>547</td>\n",
       "      <td>674</td>\n",
       "      <td>20001</td>\n",
       "      <td>8954</td>\n",
       "      <td>[-1, -1, -1, -1, -1, -1, -1, -1, -1, -1, -1, -...</td>\n",
       "      <td>[-1, -1, -1, -1, -1, -1, -1, -1, -1, -1, -1, -...</td>\n",
       "    </tr>\n",
       "    <tr>\n",
       "      <th>1</th>\n",
       "      <td>DB03313</td>\n",
       "      <td>BE0004335</td>\n",
       "      <td>2246728737 3545365497 2246699815 2664995851 86...</td>\n",
       "      <td>ATGCAAAATCAATTAAATGAATTAAAACGAAAAATGCTGGAATTTT...</td>\n",
       "      <td>1</td>\n",
       "      <td>[0, 3, 2, 1, 0, 0, 0, 0, 3, 1, 0, 0, 3, 3, 0, ...</td>\n",
       "      <td>[2, 2, 4, 6, 7, 2, 8, 7, 3, 7, 3, 5, 4, 5, 3, ...</td>\n",
       "      <td>2466</td>\n",
       "      <td>547</td>\n",
       "      <td>1919</td>\n",
       "      <td>18756</td>\n",
       "      <td>8954</td>\n",
       "      <td>[-1, -1, -1, -1, -1, -1, -1, -1, -1, -1, -1, -...</td>\n",
       "      <td>[-1, -1, -1, -1, -1, -1, -1, -1, -1, -1, -1, -...</td>\n",
       "    </tr>\n",
       "    <tr>\n",
       "      <th>2</th>\n",
       "      <td>DB03313</td>\n",
       "      <td>BE0004290</td>\n",
       "      <td>2246728737 3545365497 2246699815 2664995851 86...</td>\n",
       "      <td>ATGAACAAACCAACGATTCTGCGCCTAATCAAGTATCTGAGCATTA...</td>\n",
       "      <td>1</td>\n",
       "      <td>[0, 3, 2, 0, 0, 1, 0, 0, 0, 1, 1, 0, 0, 1, 2, ...</td>\n",
       "      <td>[2, 2, 4, 6, 7, 2, 8, 7, 3, 7, 3, 5, 4, 5, 3, ...</td>\n",
       "      <td>2160</td>\n",
       "      <td>547</td>\n",
       "      <td>1613</td>\n",
       "      <td>19062</td>\n",
       "      <td>8954</td>\n",
       "      <td>[-1, -1, -1, -1, -1, -1, -1, -1, -1, -1, -1, -...</td>\n",
       "      <td>[-1, -1, -1, -1, -1, -1, -1, -1, -1, -1, -1, -...</td>\n",
       "    </tr>\n",
       "    <tr>\n",
       "      <th>3</th>\n",
       "      <td>DB03313</td>\n",
       "      <td>BE0003624</td>\n",
       "      <td>2246728737 3545365497 2246699815 2664995851 86...</td>\n",
       "      <td>ATGAGACTGATTTGTATGAGAAAATTTAACAGCCATTCGATTCCGA...</td>\n",
       "      <td>1</td>\n",
       "      <td>[0, 3, 2, 0, 2, 0, 1, 3, 2, 0, 3, 3, 3, 2, 3, ...</td>\n",
       "      <td>[2, 2, 4, 6, 7, 2, 8, 7, 3, 7, 3, 5, 4, 5, 3, ...</td>\n",
       "      <td>2058</td>\n",
       "      <td>547</td>\n",
       "      <td>1511</td>\n",
       "      <td>19164</td>\n",
       "      <td>8954</td>\n",
       "      <td>[-1, -1, -1, -1, -1, -1, -1, -1, -1, -1, -1, -...</td>\n",
       "      <td>[-1, -1, -1, -1, -1, -1, -1, -1, -1, -1, -1, -...</td>\n",
       "    </tr>\n",
       "    <tr>\n",
       "      <th>4</th>\n",
       "      <td>DB03313</td>\n",
       "      <td>BE0004644</td>\n",
       "      <td>2246728737 3545365497 2246699815 2664995851 86...</td>\n",
       "      <td>ATGAAATTAGATAAATTATTTGAGAAATTTCTTTCTCTTTTTAAAA...</td>\n",
       "      <td>1</td>\n",
       "      <td>[0, 3, 2, 0, 0, 0, 3, 3, 0, 2, 0, 3, 0, 0, 0, ...</td>\n",
       "      <td>[2, 2, 4, 6, 7, 2, 8, 7, 3, 7, 3, 5, 4, 5, 3, ...</td>\n",
       "      <td>2196</td>\n",
       "      <td>547</td>\n",
       "      <td>1649</td>\n",
       "      <td>19026</td>\n",
       "      <td>8954</td>\n",
       "      <td>[-1, -1, -1, -1, -1, -1, -1, -1, -1, -1, -1, -...</td>\n",
       "      <td>[-1, -1, -1, -1, -1, -1, -1, -1, -1, -1, -1, -...</td>\n",
       "    </tr>\n",
       "    <tr>\n",
       "      <th>...</th>\n",
       "      <td>...</td>\n",
       "      <td>...</td>\n",
       "      <td>...</td>\n",
       "      <td>...</td>\n",
       "      <td>...</td>\n",
       "      <td>...</td>\n",
       "      <td>...</td>\n",
       "      <td>...</td>\n",
       "      <td>...</td>\n",
       "      <td>...</td>\n",
       "      <td>...</td>\n",
       "      <td>...</td>\n",
       "      <td>...</td>\n",
       "      <td>...</td>\n",
       "    </tr>\n",
       "    <tr>\n",
       "      <th>88812</th>\n",
       "      <td>DB04576</td>\n",
       "      <td>BE0004634</td>\n",
       "      <td>2246728737 3657471097 2092489639 2021812431 29...</td>\n",
       "      <td>ATGGCTACTTCAAAGTTGCCCGTGGTGCCTGGGGAGGAGGAAAACA...</td>\n",
       "      <td>0</td>\n",
       "      <td>[0, 3, 2, 2, 1, 3, 0, 1, 3, 3, 1, 0, 0, 0, 2, ...</td>\n",
       "      <td>[2, 2, 4, 6, 7, 2, 8, 7, 3, 7, 3, 6, 5, 7, 4, ...</td>\n",
       "      <td>1392</td>\n",
       "      <td>508</td>\n",
       "      <td>884</td>\n",
       "      <td>19830</td>\n",
       "      <td>8993</td>\n",
       "      <td>[-1, -1, -1, -1, -1, -1, -1, -1, -1, -1, -1, -...</td>\n",
       "      <td>[-1, -1, -1, -1, -1, -1, -1, -1, -1, -1, -1, -...</td>\n",
       "    </tr>\n",
       "    <tr>\n",
       "      <th>88813</th>\n",
       "      <td>DB04576</td>\n",
       "      <td>BE0001790</td>\n",
       "      <td>2246728737 3657471097 2092489639 2021812431 29...</td>\n",
       "      <td>ATGGAAATTAATGTGAGTAAATTAAGAACAGATTTGCCTCAAGTCG...</td>\n",
       "      <td>0</td>\n",
       "      <td>[0, 3, 2, 2, 0, 0, 0, 3, 3, 0, 0, 3, 2, 3, 2, ...</td>\n",
       "      <td>[2, 2, 4, 6, 7, 2, 8, 7, 3, 7, 3, 6, 5, 7, 4, ...</td>\n",
       "      <td>957</td>\n",
       "      <td>508</td>\n",
       "      <td>449</td>\n",
       "      <td>20265</td>\n",
       "      <td>8993</td>\n",
       "      <td>[-1, -1, -1, -1, -1, -1, -1, -1, -1, -1, -1, -...</td>\n",
       "      <td>[-1, -1, -1, -1, -1, -1, -1, -1, -1, -1, -1, -...</td>\n",
       "    </tr>\n",
       "    <tr>\n",
       "      <th>88814</th>\n",
       "      <td>DB04576</td>\n",
       "      <td>BE0000597</td>\n",
       "      <td>2246728737 3657471097 2092489639 2021812431 29...</td>\n",
       "      <td>ATGAAGACGTTATCTCCCGCTGTGATTACTTTACTCTGGCGTCAGG...</td>\n",
       "      <td>0</td>\n",
       "      <td>[0, 3, 2, 0, 0, 2, 0, 1, 2, 3, 3, 0, 3, 1, 3, ...</td>\n",
       "      <td>[2, 2, 4, 6, 7, 2, 8, 7, 3, 7, 3, 6, 5, 7, 4, ...</td>\n",
       "      <td>1362</td>\n",
       "      <td>508</td>\n",
       "      <td>854</td>\n",
       "      <td>19860</td>\n",
       "      <td>8993</td>\n",
       "      <td>[-1, -1, -1, -1, -1, -1, -1, -1, -1, -1, -1, -...</td>\n",
       "      <td>[-1, -1, -1, -1, -1, -1, -1, -1, -1, -1, -1, -...</td>\n",
       "    </tr>\n",
       "    <tr>\n",
       "      <th>88825</th>\n",
       "      <td>DB04576</td>\n",
       "      <td>BE0001417</td>\n",
       "      <td>2246728737 3657471097 2092489639 2021812431 29...</td>\n",
       "      <td>ATGCAAACGGAACACGTCATTTTATTGAATGCACAGGGAGTTCCCA...</td>\n",
       "      <td>0</td>\n",
       "      <td>[0, 3, 2, 1, 0, 0, 0, 1, 2, 2, 0, 0, 1, 0, 1, ...</td>\n",
       "      <td>[2, 2, 4, 6, 7, 2, 8, 7, 3, 7, 3, 6, 5, 7, 4, ...</td>\n",
       "      <td>549</td>\n",
       "      <td>508</td>\n",
       "      <td>41</td>\n",
       "      <td>20673</td>\n",
       "      <td>8993</td>\n",
       "      <td>[-1, -1, -1, -1, -1, -1, -1, -1, -1, -1, -1, -...</td>\n",
       "      <td>[-1, -1, -1, -1, -1, -1, -1, -1, -1, -1, -1, -...</td>\n",
       "    </tr>\n",
       "    <tr>\n",
       "      <th>88827</th>\n",
       "      <td>DB04576</td>\n",
       "      <td>BE0000161</td>\n",
       "      <td>2246728737 3657471097 2092489639 2021812431 29...</td>\n",
       "      <td>ATGGCTTTTGCAAATCTGCGGAAAGTGCTCATCAGTGACAGCCTGG...</td>\n",
       "      <td>0</td>\n",
       "      <td>[0, 3, 2, 2, 1, 3, 3, 3, 3, 2, 1, 0, 0, 0, 3, ...</td>\n",
       "      <td>[2, 2, 4, 6, 7, 2, 8, 7, 3, 7, 3, 6, 5, 7, 4, ...</td>\n",
       "      <td>1602</td>\n",
       "      <td>508</td>\n",
       "      <td>1094</td>\n",
       "      <td>19620</td>\n",
       "      <td>8993</td>\n",
       "      <td>[-1, -1, -1, -1, -1, -1, -1, -1, -1, -1, -1, -...</td>\n",
       "      <td>[-1, -1, -1, -1, -1, -1, -1, -1, -1, -1, -1, -...</td>\n",
       "    </tr>\n",
       "  </tbody>\n",
       "</table>\n",
       "<p>30000 rows × 14 columns</p>\n",
       "</div>"
      ],
      "text/plain": [
       "       drug_id    gene_id                              drug_fingerprint_code  \\\n",
       "0      DB03313  BE0001349  2246728737 3545365497 2246699815 2664995851 86...   \n",
       "1      DB03313  BE0004335  2246728737 3545365497 2246699815 2664995851 86...   \n",
       "2      DB03313  BE0004290  2246728737 3545365497 2246699815 2664995851 86...   \n",
       "3      DB03313  BE0003624  2246728737 3545365497 2246699815 2664995851 86...   \n",
       "4      DB03313  BE0004644  2246728737 3545365497 2246699815 2664995851 86...   \n",
       "...        ...        ...                                                ...   \n",
       "88812  DB04576  BE0004634  2246728737 3657471097 2092489639 2021812431 29...   \n",
       "88813  DB04576  BE0001790  2246728737 3657471097 2092489639 2021812431 29...   \n",
       "88814  DB04576  BE0000597  2246728737 3657471097 2092489639 2021812431 29...   \n",
       "88825  DB04576  BE0001417  2246728737 3657471097 2092489639 2021812431 29...   \n",
       "88827  DB04576  BE0000161  2246728737 3657471097 2092489639 2021812431 29...   \n",
       "\n",
       "                                        target_gene_code  Y  \\\n",
       "0      ATGGTCTCAGGAACGGTGGGCAGAGGTACGGCGCTGGGCGCGGTGC...  1   \n",
       "1      ATGCAAAATCAATTAAATGAATTAAAACGAAAAATGCTGGAATTTT...  1   \n",
       "2      ATGAACAAACCAACGATTCTGCGCCTAATCAAGTATCTGAGCATTA...  1   \n",
       "3      ATGAGACTGATTTGTATGAGAAAATTTAACAGCCATTCGATTCCGA...  1   \n",
       "4      ATGAAATTAGATAAATTATTTGAGAAATTTCTTTCTCTTTTTAAAA...  1   \n",
       "...                                                  ... ..   \n",
       "88812  ATGGCTACTTCAAAGTTGCCCGTGGTGCCTGGGGAGGAGGAAAACA...  0   \n",
       "88813  ATGGAAATTAATGTGAGTAAATTAAGAACAGATTTGCCTCAAGTCG...  0   \n",
       "88814  ATGAAGACGTTATCTCCCGCTGTGATTACTTTACTCTGGCGTCAGG...  0   \n",
       "88825  ATGCAAACGGAACACGTCATTTTATTGAATGCACAGGGAGTTCCCA...  0   \n",
       "88827  ATGGCTTTTGCAAATCTGCGGAAAGTGCTCATCAGTGACAGCCTGG...  0   \n",
       "\n",
       "                                     target_gene_encoded  \\\n",
       "0      [0, 3, 2, 2, 3, 1, 3, 1, 0, 2, 2, 0, 0, 1, 2, ...   \n",
       "1      [0, 3, 2, 1, 0, 0, 0, 0, 3, 1, 0, 0, 3, 3, 0, ...   \n",
       "2      [0, 3, 2, 0, 0, 1, 0, 0, 0, 1, 1, 0, 0, 1, 2, ...   \n",
       "3      [0, 3, 2, 0, 2, 0, 1, 3, 2, 0, 3, 3, 3, 2, 3, ...   \n",
       "4      [0, 3, 2, 0, 0, 0, 3, 3, 0, 2, 0, 3, 0, 0, 0, ...   \n",
       "...                                                  ...   \n",
       "88812  [0, 3, 2, 2, 1, 3, 0, 1, 3, 3, 1, 0, 0, 0, 2, ...   \n",
       "88813  [0, 3, 2, 2, 0, 0, 0, 3, 3, 0, 0, 3, 2, 3, 2, ...   \n",
       "88814  [0, 3, 2, 0, 0, 2, 0, 1, 2, 3, 3, 0, 3, 1, 3, ...   \n",
       "88825  [0, 3, 2, 1, 0, 0, 0, 1, 2, 2, 0, 0, 1, 0, 1, ...   \n",
       "88827  [0, 3, 2, 2, 1, 3, 3, 3, 3, 2, 1, 0, 0, 0, 3, ...   \n",
       "\n",
       "                                drug_fingerprint_encoded  \\\n",
       "0      [2, 2, 4, 6, 7, 2, 8, 7, 3, 7, 3, 5, 4, 5, 3, ...   \n",
       "1      [2, 2, 4, 6, 7, 2, 8, 7, 3, 7, 3, 5, 4, 5, 3, ...   \n",
       "2      [2, 2, 4, 6, 7, 2, 8, 7, 3, 7, 3, 5, 4, 5, 3, ...   \n",
       "3      [2, 2, 4, 6, 7, 2, 8, 7, 3, 7, 3, 5, 4, 5, 3, ...   \n",
       "4      [2, 2, 4, 6, 7, 2, 8, 7, 3, 7, 3, 5, 4, 5, 3, ...   \n",
       "...                                                  ...   \n",
       "88812  [2, 2, 4, 6, 7, 2, 8, 7, 3, 7, 3, 6, 5, 7, 4, ...   \n",
       "88813  [2, 2, 4, 6, 7, 2, 8, 7, 3, 7, 3, 6, 5, 7, 4, ...   \n",
       "88814  [2, 2, 4, 6, 7, 2, 8, 7, 3, 7, 3, 6, 5, 7, 4, ...   \n",
       "88825  [2, 2, 4, 6, 7, 2, 8, 7, 3, 7, 3, 6, 5, 7, 4, ...   \n",
       "88827  [2, 2, 4, 6, 7, 2, 8, 7, 3, 7, 3, 6, 5, 7, 4, ...   \n",
       "\n",
       "       target_gene_encoded_len  drug_fingerprint_encoded_len  mismatch  \\\n",
       "0                         1221                           547       674   \n",
       "1                         2466                           547      1919   \n",
       "2                         2160                           547      1613   \n",
       "3                         2058                           547      1511   \n",
       "4                         2196                           547      1649   \n",
       "...                        ...                           ...       ...   \n",
       "88812                     1392                           508       884   \n",
       "88813                      957                           508       449   \n",
       "88814                     1362                           508       854   \n",
       "88825                      549                           508        41   \n",
       "88827                     1602                           508      1094   \n",
       "\n",
       "       target_gene_encoded_mismatch  drug_fingerprint_encoded_mismatch  \\\n",
       "0                             20001                               8954   \n",
       "1                             18756                               8954   \n",
       "2                             19062                               8954   \n",
       "3                             19164                               8954   \n",
       "4                             19026                               8954   \n",
       "...                             ...                                ...   \n",
       "88812                         19830                               8993   \n",
       "88813                         20265                               8993   \n",
       "88814                         19860                               8993   \n",
       "88825                         20673                               8993   \n",
       "88827                         19620                               8993   \n",
       "\n",
       "                              target_gene_encoded_padded  \\\n",
       "0      [-1, -1, -1, -1, -1, -1, -1, -1, -1, -1, -1, -...   \n",
       "1      [-1, -1, -1, -1, -1, -1, -1, -1, -1, -1, -1, -...   \n",
       "2      [-1, -1, -1, -1, -1, -1, -1, -1, -1, -1, -1, -...   \n",
       "3      [-1, -1, -1, -1, -1, -1, -1, -1, -1, -1, -1, -...   \n",
       "4      [-1, -1, -1, -1, -1, -1, -1, -1, -1, -1, -1, -...   \n",
       "...                                                  ...   \n",
       "88812  [-1, -1, -1, -1, -1, -1, -1, -1, -1, -1, -1, -...   \n",
       "88813  [-1, -1, -1, -1, -1, -1, -1, -1, -1, -1, -1, -...   \n",
       "88814  [-1, -1, -1, -1, -1, -1, -1, -1, -1, -1, -1, -...   \n",
       "88825  [-1, -1, -1, -1, -1, -1, -1, -1, -1, -1, -1, -...   \n",
       "88827  [-1, -1, -1, -1, -1, -1, -1, -1, -1, -1, -1, -...   \n",
       "\n",
       "                         drug_fingerprint_encoded_padded  \n",
       "0      [-1, -1, -1, -1, -1, -1, -1, -1, -1, -1, -1, -...  \n",
       "1      [-1, -1, -1, -1, -1, -1, -1, -1, -1, -1, -1, -...  \n",
       "2      [-1, -1, -1, -1, -1, -1, -1, -1, -1, -1, -1, -...  \n",
       "3      [-1, -1, -1, -1, -1, -1, -1, -1, -1, -1, -1, -...  \n",
       "4      [-1, -1, -1, -1, -1, -1, -1, -1, -1, -1, -1, -...  \n",
       "...                                                  ...  \n",
       "88812  [-1, -1, -1, -1, -1, -1, -1, -1, -1, -1, -1, -...  \n",
       "88813  [-1, -1, -1, -1, -1, -1, -1, -1, -1, -1, -1, -...  \n",
       "88814  [-1, -1, -1, -1, -1, -1, -1, -1, -1, -1, -1, -...  \n",
       "88825  [-1, -1, -1, -1, -1, -1, -1, -1, -1, -1, -1, -...  \n",
       "88827  [-1, -1, -1, -1, -1, -1, -1, -1, -1, -1, -1, -...  \n",
       "\n",
       "[30000 rows x 14 columns]"
      ]
     },
     "execution_count": 13,
     "metadata": {},
     "output_type": "execute_result"
    }
   ],
   "source": [
    "drugbank"
   ]
  },
  {
   "cell_type": "code",
   "execution_count": 14,
   "metadata": {},
   "outputs": [
    {
     "ename": "NameError",
     "evalue": "name 'drugbank_30K' is not defined",
     "output_type": "error",
     "traceback": [
      "\u001b[0;31m---------------------------------------------------------------------------\u001b[0m",
      "\u001b[0;31mNameError\u001b[0m                                 Traceback (most recent call last)",
      "\u001b[0;32m<ipython-input-14-1baf3ae561fb>\u001b[0m in \u001b[0;36m<module>\u001b[0;34m\u001b[0m\n\u001b[0;32m----> 1\u001b[0;31m \u001b[0mdrugbank\u001b[0m \u001b[0;34m=\u001b[0m \u001b[0mdrugbank_30K\u001b[0m\u001b[0;34m\u001b[0m\u001b[0m\n\u001b[0m",
      "\u001b[0;31mNameError\u001b[0m: name 'drugbank_30K' is not defined"
     ]
    }
   ],
   "source": [
    "drugbank = drugbank_30K"
   ]
  },
  {
   "cell_type": "code",
   "execution_count": 114,
   "metadata": {
    "collapsed": true
   },
   "outputs": [
    {
     "ename": "KeyboardInterrupt",
     "evalue": "",
     "output_type": "error",
     "traceback": [
      "\u001b[0;31m---------------------------------------------------------------------------\u001b[0m",
      "\u001b[0;31mKeyboardInterrupt\u001b[0m                         Traceback (most recent call last)",
      "\u001b[0;32m<ipython-input-114-c07027e790a4>\u001b[0m in \u001b[0;36m<module>\u001b[0;34m\u001b[0m\n\u001b[1;32m      2\u001b[0m \u001b[0;34m\u001b[0m\u001b[0m\n\u001b[1;32m      3\u001b[0m \u001b[0;32mfor\u001b[0m \u001b[0mindex\u001b[0m\u001b[0;34m,\u001b[0m \u001b[0mrow\u001b[0m \u001b[0;32min\u001b[0m \u001b[0mdrugbank\u001b[0m\u001b[0;34m.\u001b[0m\u001b[0miterrows\u001b[0m\u001b[0;34m(\u001b[0m\u001b[0;34m)\u001b[0m\u001b[0;34m:\u001b[0m\u001b[0;34m\u001b[0m\u001b[0m\n\u001b[0;32m----> 4\u001b[0;31m     \u001b[0;32mif\u001b[0m \u001b[0mrow\u001b[0m\u001b[0;34m[\u001b[0m\u001b[0;34m'gene_id'\u001b[0m\u001b[0;34m]\u001b[0m \u001b[0;32mnot\u001b[0m \u001b[0;32min\u001b[0m \u001b[0mcorona_target_ids\u001b[0m\u001b[0;34m:\u001b[0m\u001b[0;34m\u001b[0m\u001b[0m\n\u001b[0m\u001b[1;32m      5\u001b[0m         \u001b[0mto_drop_rows\u001b[0m\u001b[0;34m.\u001b[0m\u001b[0mappend\u001b[0m\u001b[0;34m(\u001b[0m\u001b[0mindex\u001b[0m\u001b[0;34m)\u001b[0m\u001b[0;34m\u001b[0m\u001b[0m\n\u001b[1;32m      6\u001b[0m \u001b[0;34m\u001b[0m\u001b[0m\n",
      "\u001b[0;32m/miniconda/lib/python3.6/site-packages/pandas/core/series.py\u001b[0m in \u001b[0;36m__getitem__\u001b[0;34m(self, key)\u001b[0m\n\u001b[1;32m    869\u001b[0m         \u001b[0mkey\u001b[0m \u001b[0;34m=\u001b[0m \u001b[0mcom\u001b[0m\u001b[0;34m.\u001b[0m\u001b[0mapply_if_callable\u001b[0m\u001b[0;34m(\u001b[0m\u001b[0mkey\u001b[0m\u001b[0;34m,\u001b[0m \u001b[0mself\u001b[0m\u001b[0;34m)\u001b[0m\u001b[0;34m\u001b[0m\u001b[0m\n\u001b[1;32m    870\u001b[0m         \u001b[0;32mtry\u001b[0m\u001b[0;34m:\u001b[0m\u001b[0;34m\u001b[0m\u001b[0m\n\u001b[0;32m--> 871\u001b[0;31m             \u001b[0mresult\u001b[0m \u001b[0;34m=\u001b[0m \u001b[0mself\u001b[0m\u001b[0;34m.\u001b[0m\u001b[0mindex\u001b[0m\u001b[0;34m.\u001b[0m\u001b[0mget_value\u001b[0m\u001b[0;34m(\u001b[0m\u001b[0mself\u001b[0m\u001b[0;34m,\u001b[0m \u001b[0mkey\u001b[0m\u001b[0;34m)\u001b[0m\u001b[0;34m\u001b[0m\u001b[0m\n\u001b[0m\u001b[1;32m    872\u001b[0m \u001b[0;34m\u001b[0m\u001b[0m\n\u001b[1;32m    873\u001b[0m             \u001b[0;32mif\u001b[0m \u001b[0;32mnot\u001b[0m \u001b[0mis_scalar\u001b[0m\u001b[0;34m(\u001b[0m\u001b[0mresult\u001b[0m\u001b[0;34m)\u001b[0m\u001b[0;34m:\u001b[0m\u001b[0;34m\u001b[0m\u001b[0m\n",
      "\u001b[0;32m/miniconda/lib/python3.6/site-packages/pandas/core/indexes/base.py\u001b[0m in \u001b[0;36mget_value\u001b[0;34m(self, series, key)\u001b[0m\n\u001b[1;32m   4402\u001b[0m         \u001b[0mk\u001b[0m \u001b[0;34m=\u001b[0m \u001b[0mself\u001b[0m\u001b[0;34m.\u001b[0m\u001b[0m_convert_scalar_indexer\u001b[0m\u001b[0;34m(\u001b[0m\u001b[0mk\u001b[0m\u001b[0;34m,\u001b[0m \u001b[0mkind\u001b[0m\u001b[0;34m=\u001b[0m\u001b[0;34m\"getitem\"\u001b[0m\u001b[0;34m)\u001b[0m\u001b[0;34m\u001b[0m\u001b[0m\n\u001b[1;32m   4403\u001b[0m         \u001b[0;32mtry\u001b[0m\u001b[0;34m:\u001b[0m\u001b[0;34m\u001b[0m\u001b[0m\n\u001b[0;32m-> 4404\u001b[0;31m             \u001b[0;32mreturn\u001b[0m \u001b[0mself\u001b[0m\u001b[0;34m.\u001b[0m\u001b[0m_engine\u001b[0m\u001b[0;34m.\u001b[0m\u001b[0mget_value\u001b[0m\u001b[0;34m(\u001b[0m\u001b[0ms\u001b[0m\u001b[0;34m,\u001b[0m \u001b[0mk\u001b[0m\u001b[0;34m,\u001b[0m \u001b[0mtz\u001b[0m\u001b[0;34m=\u001b[0m\u001b[0mgetattr\u001b[0m\u001b[0;34m(\u001b[0m\u001b[0mseries\u001b[0m\u001b[0;34m.\u001b[0m\u001b[0mdtype\u001b[0m\u001b[0;34m,\u001b[0m \u001b[0;34m\"tz\"\u001b[0m\u001b[0;34m,\u001b[0m \u001b[0;32mNone\u001b[0m\u001b[0;34m)\u001b[0m\u001b[0;34m)\u001b[0m\u001b[0;34m\u001b[0m\u001b[0m\n\u001b[0m\u001b[1;32m   4405\u001b[0m         \u001b[0;32mexcept\u001b[0m \u001b[0mKeyError\u001b[0m \u001b[0;32mas\u001b[0m \u001b[0me1\u001b[0m\u001b[0;34m:\u001b[0m\u001b[0;34m\u001b[0m\u001b[0m\n\u001b[1;32m   4406\u001b[0m             \u001b[0;32mif\u001b[0m \u001b[0mlen\u001b[0m\u001b[0;34m(\u001b[0m\u001b[0mself\u001b[0m\u001b[0;34m)\u001b[0m \u001b[0;34m>\u001b[0m \u001b[0;36m0\u001b[0m \u001b[0;32mand\u001b[0m \u001b[0;34m(\u001b[0m\u001b[0mself\u001b[0m\u001b[0;34m.\u001b[0m\u001b[0mholds_integer\u001b[0m\u001b[0;34m(\u001b[0m\u001b[0;34m)\u001b[0m \u001b[0;32mor\u001b[0m \u001b[0mself\u001b[0m\u001b[0;34m.\u001b[0m\u001b[0mis_boolean\u001b[0m\u001b[0;34m(\u001b[0m\u001b[0;34m)\u001b[0m\u001b[0;34m)\u001b[0m\u001b[0;34m:\u001b[0m\u001b[0;34m\u001b[0m\u001b[0m\n",
      "\u001b[0;31mKeyboardInterrupt\u001b[0m: "
     ]
    }
   ],
   "source": [
    "to_drop_rows = []\n",
    "\n",
    "for index, row in drugbank.iterrows():\n",
    "    if row['gene_id'] not in corona_target_ids:\n",
    "        to_drop_rows.append(index)\n",
    "        \n",
    "drugbank = drugbank.drop(to_drop_rows)"
   ]
  },
  {
   "cell_type": "code",
   "execution_count": 15,
   "metadata": {},
   "outputs": [],
   "source": [
    "X_0 = np.array(drugbank['target_gene_encoded_padded'].tolist())\n",
    "X_1 = np.array(drugbank['drug_fingerprint_encoded_padded'].tolist())\n",
    "Y   = np.array(drugbank['Y'].tolist())"
   ]
  },
  {
   "cell_type": "code",
   "execution_count": 16,
   "metadata": {
    "scrolled": true
   },
   "outputs": [],
   "source": [
    "X_0 = np.vectorize(lambda x: int(x))(X_0)\n",
    "X_1 = np.vectorize(lambda x: int(x))(X_1)\n",
    "Y = np.vectorize(lambda x: int(x))(Y)"
   ]
  },
  {
   "cell_type": "code",
   "execution_count": 17,
   "metadata": {},
   "outputs": [],
   "source": [
    "X_0_dim_fixed = np.zeros((len(X_0),len(X_0[0])))\n",
    "X_1_dim_fixed = np.zeros((len(X_1),len(X_1[0])))\n",
    "Y_dim_fixed = np.zeros((len(Y),1))"
   ]
  },
  {
   "cell_type": "code",
   "execution_count": 18,
   "metadata": {},
   "outputs": [],
   "source": [
    "for i in range(len(X_0)):\n",
    "    for j in range(len(X_0[0])):\n",
    "        X_0_dim_fixed[i,j] = X_0[i][j]"
   ]
  },
  {
   "cell_type": "code",
   "execution_count": 19,
   "metadata": {},
   "outputs": [],
   "source": [
    "for i in range(len(X_1)):\n",
    "    for j in range(len(X_1[0])):\n",
    "        X_1_dim_fixed[i,j] = X_1[i][j]"
   ]
  },
  {
   "cell_type": "code",
   "execution_count": 20,
   "metadata": {},
   "outputs": [
    {
     "data": {
      "text/plain": [
       "((30000, 21222), (30000, 9501), (30000, 1))"
      ]
     },
     "execution_count": 20,
     "metadata": {},
     "output_type": "execute_result"
    }
   ],
   "source": [
    "X_0_dim_fixed.shape, X_1_dim_fixed.shape, Y_dim_fixed.shape"
   ]
  },
  {
   "cell_type": "code",
   "execution_count": 21,
   "metadata": {},
   "outputs": [],
   "source": [
    "X_validate = np.zeros((X_0_dim_fixed.shape[0], X_0_dim_fixed.shape[1] + X_1_dim_fixed.shape[1]))"
   ]
  },
  {
   "cell_type": "code",
   "execution_count": 22,
   "metadata": {},
   "outputs": [],
   "source": [
    "for i in range(len(X_0_dim_fixed)):\n",
    "    X_validate[i,:] = np.hstack((X_0_dim_fixed[i,:], X_1_dim_fixed[i,:])) + 1"
   ]
  },
  {
   "cell_type": "code",
   "execution_count": 23,
   "metadata": {},
   "outputs": [],
   "source": [
    "target_length = 30723\n",
    "X_validate = X_validate[:, :target_length]"
   ]
  },
  {
   "cell_type": "code",
   "execution_count": 24,
   "metadata": {},
   "outputs": [],
   "source": [
    "from tensorflow import keras\n",
    "\n",
    "use_model = keras.models.load_model('models/CNN_GPU_VGG_80p.model')"
   ]
  },
  {
   "cell_type": "code",
   "execution_count": 25,
   "metadata": {
    "scrolled": true
   },
   "outputs": [],
   "source": [
    "Y_validate = use_model.predict(X_validate[..., np.newaxis])"
   ]
  },
  {
   "cell_type": "code",
   "execution_count": 26,
   "metadata": {},
   "outputs": [],
   "source": [
    "Y_true = list(Y)"
   ]
  },
  {
   "cell_type": "code",
   "execution_count": 32,
   "metadata": {},
   "outputs": [
    {
     "data": {
      "text/plain": [
       "(14074, 15926)"
      ]
     },
     "execution_count": 32,
     "metadata": {},
     "output_type": "execute_result"
    }
   ],
   "source": [
    "Y_true.count(1),Y_true.count(0)"
   ]
  },
  {
   "cell_type": "code",
   "execution_count": 31,
   "metadata": {},
   "outputs": [],
   "source": [
    "Y_predicted = []\n",
    "\n",
    "for i in range(Y_validate.shape[0]):\n",
    "    Y_predicted.append(Y_validate[i][0])"
   ]
  },
  {
   "cell_type": "code",
   "execution_count": 28,
   "metadata": {},
   "outputs": [
    {
     "data": {
      "text/plain": [
       "Text(0,0.5,'Number of Pairs')"
      ]
     },
     "execution_count": 28,
     "metadata": {},
     "output_type": "execute_result"
    },
    {
     "data": {
      "image/png": "[encoded data removed]",
      "text/plain": [
       "<Figure size 432x288 with 1 Axes>"
      ]
     },
     "metadata": {
      "needs_background": "light"
     },
     "output_type": "display_data"
    }
   ],
   "source": [
    "plt.hist(Y_validate, bins = 100, log = True)\n",
    "plt.xlabel('Predicted Score of Binding')\n",
    "plt.ylabel('Number of Pairs')"
   ]
  },
  {
   "cell_type": "code",
   "execution_count": 29,
   "metadata": {},
   "outputs": [
    {
     "name": "stdout",
     "output_type": "stream",
     "text": [
      "roc_auc_score:  0.892484076337072\n"
     ]
    }
   ],
   "source": [
    "from sklearn.metrics import roc_curve, roc_auc_score\n",
    "\n",
    "false_positive_rate, true_positive_rate, threshold = roc_curve(Y_true, Y_predicted)\n",
    "print('roc_auc_score: ', roc_auc_score(Y_true, Y_predicted))"
   ]
  },
  {
   "cell_type": "code",
   "execution_count": 30,
   "metadata": {},
   "outputs": [
    {
     "data": {
      "image/png": "[encoded data removed]",
      "text/plain": [
       "<Figure size 432x288 with 1 Axes>"
      ]
     },
     "metadata": {
      "needs_background": "light"
     },
     "output_type": "display_data"
    }
   ],
   "source": [
    "import matplotlib.pyplot as plt\n",
    "\n",
    "plt.plot(false_positive_rate, true_positive_rate)\n",
    "plt.xlabel('FPR')\n",
    "plt.ylabel('TPR')\n",
    "plt.show()"
   ]
  },
  {
   "cell_type": "markdown",
   "metadata": {},
   "source": [
    "# ROC for All Genes"
   ]
  },
  {
   "cell_type": "code",
   "execution_count": 57,
   "metadata": {},
   "outputs": [],
   "source": [
    "drugbank = pd.read_csv('data/intermediate/interactions_preprocessed.csv',iterator = False, converters={\"target_gene_encoded_padded\": \\\n",
    "                                                                                     lambda x: np.array(x.strip(\"[]\").replace(\"'\",\"\").split(\", \")),\n",
    "                                                                                    \"drug_fingerprint_encoded_padded\": \\\n",
    "                                                                                    lambda x: np.array(x.strip(\"[]\").replace(\"'\",\"\").split(\", \"))})\n"
   ]
  },
  {
   "cell_type": "code",
   "execution_count": 58,
   "metadata": {},
   "outputs": [],
   "source": [
    "X_0 = np.array(drugbank['target_gene_encoded_padded'].tolist())\n",
    "X_1 = np.array(drugbank['drug_fingerprint_encoded_padded'].tolist())\n",
    "Y   = np.array(drugbank['Y'].tolist())"
   ]
  },
  {
   "cell_type": "code",
   "execution_count": 59,
   "metadata": {},
   "outputs": [
    {
     "data": {
      "text/plain": [
       "(21106, 14074, 35180)"
      ]
     },
     "execution_count": 59,
     "metadata": {},
     "output_type": "execute_result"
    }
   ],
   "source": [
    "list(Y).count(0),list(Y).count(1),len(Y)"
   ]
  },
  {
   "cell_type": "code",
   "execution_count": 33,
   "metadata": {},
   "outputs": [],
   "source": [
    "X_0 = np.vectorize(lambda x: int(x))(X_0)\n",
    "X_1 = np.vectorize(lambda x: int(x))(X_1)\n",
    "Y = np.vectorize(lambda x: int(x))(Y)"
   ]
  },
  {
   "cell_type": "code",
   "execution_count": 34,
   "metadata": {},
   "outputs": [],
   "source": [
    "X_0_dim_fixed = np.zeros((len(X_0),len(X_0[0])))\n",
    "X_1_dim_fixed = np.zeros((len(X_1),len(X_1[0])))\n",
    "Y_dim_fixed = np.zeros((len(Y),1))"
   ]
  },
  {
   "cell_type": "code",
   "execution_count": 35,
   "metadata": {},
   "outputs": [],
   "source": [
    "for i in range(len(X_0)):\n",
    "    for j in range(len(X_0[0])):\n",
    "        X_0_dim_fixed[i,j] = X_0[i][j]"
   ]
  },
  {
   "cell_type": "code",
   "execution_count": 36,
   "metadata": {},
   "outputs": [],
   "source": [
    "for i in range(len(X_1)):\n",
    "    for j in range(len(X_1[0])):\n",
    "        X_1_dim_fixed[i,j] = X_1[i][j]"
   ]
  },
  {
   "cell_type": "code",
   "execution_count": 37,
   "metadata": {},
   "outputs": [],
   "source": [
    "X_validate = np.zeros((X_0_dim_fixed.shape[0], X_0_dim_fixed.shape[1] + X_1_dim_fixed.shape[1]))"
   ]
  },
  {
   "cell_type": "code",
   "execution_count": 38,
   "metadata": {},
   "outputs": [],
   "source": [
    "for i in range(len(X_0_dim_fixed)):\n",
    "    X_validate[i,:] = np.hstack((X_0_dim_fixed[i,:], X_1_dim_fixed[i,:])) + 1"
   ]
  },
  {
   "cell_type": "code",
   "execution_count": 39,
   "metadata": {},
   "outputs": [],
   "source": [
    "target_length = 30723\n",
    "X_validate = X_validate[:, :target_length]"
   ]
  },
  {
   "cell_type": "code",
   "execution_count": 40,
   "metadata": {},
   "outputs": [],
   "source": [
    "Y_validate = use_model.predict(X_validate[..., np.newaxis])"
   ]
  },
  {
   "cell_type": "code",
   "execution_count": 41,
   "metadata": {},
   "outputs": [],
   "source": [
    "Y_true = list(Y)"
   ]
  },
  {
   "cell_type": "code",
   "execution_count": 42,
   "metadata": {},
   "outputs": [],
   "source": [
    "Y_predicted = []\n",
    "\n",
    "for i in range(Y_validate.shape[0]):\n",
    "    Y_predicted.append(Y_validate[i][0])"
   ]
  },
  {
   "cell_type": "code",
   "execution_count": 43,
   "metadata": {},
   "outputs": [
    {
     "data": {
      "text/plain": [
       "Text(0,0.5,'Number of Pairs')"
      ]
     },
     "execution_count": 43,
     "metadata": {},
     "output_type": "execute_result"
    },
    {
     "data": {
      "image/png": "[encoded data removed]",
      "text/plain": [
       "<Figure size 432x288 with 1 Axes>"
      ]
     },
     "metadata": {
      "needs_background": "light"
     },
     "output_type": "display_data"
    }
   ],
   "source": [
    "plt.hist(Y_validate, bins = 100, log = True)\n",
    "plt.xlabel('Predicted Score of Binding')\n",
    "plt.ylabel('Number of Pairs')"
   ]
  },
  {
   "cell_type": "code",
   "execution_count": 44,
   "metadata": {},
   "outputs": [
    {
     "name": "stdout",
     "output_type": "stream",
     "text": [
      "roc_auc_score:  0.8985129699373946\n"
     ]
    }
   ],
   "source": [
    "from sklearn.metrics import roc_curve, roc_auc_score\n",
    "\n",
    "false_positive_rate, true_positive_rate, threshold = roc_curve(Y_true, Y_predicted)\n",
    "print('roc_auc_score: ', roc_auc_score(Y_true, Y_predicted))"
   ]
  },
  {
   "cell_type": "code",
   "execution_count": 45,
   "metadata": {},
   "outputs": [
    {
     "data": {
      "image/png": "[encoded data removed]",
      "text/plain": [
       "<Figure size 432x288 with 1 Axes>"
      ]
     },
     "metadata": {
      "needs_background": "light"
     },
     "output_type": "display_data"
    }
   ],
   "source": [
    "import matplotlib.pyplot as plt\n",
    "\n",
    "plt.plot(false_positive_rate, true_positive_rate)\n",
    "plt.xlabel('FPR')\n",
    "plt.ylabel('TPR')\n",
    "plt.show()"
   ]
  },
  {
   "cell_type": "markdown",
   "metadata": {},
   "source": [
    "# Naturally occuring drugs"
   ]
  },
  {
   "cell_type": "code",
   "execution_count": 46,
   "metadata": {},
   "outputs": [],
   "source": [
    "all_drug_id_list = drugbank['drug_id'].tolist()"
   ]
  },
  {
   "cell_type": "code",
   "execution_count": 47,
   "metadata": {},
   "outputs": [
    {
     "data": {
      "text/plain": [
       "2"
      ]
     },
     "execution_count": 47,
     "metadata": {},
     "output_type": "execute_result"
    }
   ],
   "source": [
    "all_drug_id_list.count('DB07810')"
   ]
  },
  {
   "cell_type": "code",
   "execution_count": 48,
   "metadata": {},
   "outputs": [
    {
     "data": {
      "text/plain": [
       "11"
      ]
     },
     "execution_count": 48,
     "metadata": {},
     "output_type": "execute_result"
    }
   ],
   "source": [
    "all_drug_id_list.count('DB04216')"
   ]
  },
  {
   "cell_type": "code",
   "execution_count": 49,
   "metadata": {},
   "outputs": [
    {
     "data": {
      "text/plain": [
       "11"
      ]
     },
     "execution_count": 49,
     "metadata": {},
     "output_type": "execute_result"
    }
   ],
   "source": [
    "all_drug_id_list.count('DB03467')"
   ]
  },
  {
   "cell_type": "code",
   "execution_count": null,
   "metadata": {},
   "outputs": [],
   "source": []
  }
 ],
 "metadata": {
  "kernelspec": {
   "display_name": "Python 3",
   "language": "python",
   "name": "python3"
  },
  "language_info": {
   "codemirror_mode": {
    "name": "ipython",
    "version": 3
   },
   "file_extension": ".py",
   "mimetype": "text/x-python",
   "name": "python",
   "nbconvert_exporter": "python",
   "pygments_lexer": "ipython3",
   "version": "3.6.6"
  }
 },
 "nbformat": 4,
 "nbformat_minor": 2
}
