{
 "cells": [
  {
   "cell_type": "code",
   "execution_count": 1,
   "metadata": {},
   "outputs": [
    {
     "data": {
      "text/plain": [
       "<module 'matplotlib.pyplot' from '/miniconda/lib/python3.6/site-packages/matplotlib/pyplot.py'>"
      ]
     },
     "execution_count": 1,
     "metadata": {},
     "output_type": "execute_result"
    }
   ],
   "source": [
    "import pickle as pkl\n",
    "\n",
    "import lxml\n",
    "import pandas as pd\n",
    "import numpy as np\n",
    "#import seaborn as sns\n",
    "import matplotlib.pyplot as plt\n",
    "import tensorflow.keras\n",
    "from tensorflow.keras.datasets import imdb\n",
    "\n",
    "\n",
    "from tqdm.notebook import tqdm\n",
    "\n",
    "from sklearn.metrics import confusion_matrix\n",
    "from sklearn.utils.multiclass import unique_labels\n",
    "from sklearn.metrics import f1_score\n",
    "\n",
    "from sklearn.model_selection import train_test_split\n",
    "\n",
    "from sklearn.preprocessing import LabelEncoder, OneHotEncoder\n",
    "from ast import literal_eval\n",
    "from sklearn.model_selection import train_test_split\n",
    "from sklearn.linear_model import LogisticRegression\n",
    "from sklearn.metrics import confusion_matrix, f1_score, classification_report\n",
    "from tensorflow.keras.models import Sequential, Model\n",
    "from tensorflow.keras.layers import Input, Dense, Activation, Dropout, Conv1D, Flatten, MaxPooling1D,\\\n",
    "                        AveragePooling1D, Concatenate, LeakyReLU, Embedding,\\\n",
    "                        GlobalMaxPooling1D,GlobalAveragePooling1D,GaussianNoise,BatchNormalization,Add\n",
    "from tensorflow.keras.initializers import glorot_uniform\n",
    "#from tensorflow.keras.utils.vis_utils import plot_model\n",
    "\n",
    "import importlib\n",
    "from sklearn.metrics import roc_curve, roc_auc_score\n",
    "from tensorflow.keras.utils import plot_model\n",
    "\n",
    "importlib.reload(plt)"
   ]
  },
  {
   "cell_type": "code",
   "execution_count": 2,
   "metadata": {},
   "outputs": [],
   "source": [
    "def plot_confusion_matrix(y_true, y_pred, classes,\n",
    "                          normalize=False,\n",
    "                          title=None,\n",
    "                          cmap=plt.cm.Blues):\n",
    "    \"\"\"\n",
    "    This function prints and plots the confusion matrix.\n",
    "    Normalization can be applied by setting `normalize=True`.\n",
    "    \n",
    "    NOTE: Taken from sklearn example\n",
    "    \"\"\"\n",
    "    if not title:\n",
    "        if normalize:\n",
    "            title = 'Normalized confusion matrix'\n",
    "        else:\n",
    "            title = 'Confusion matrix, without normalization'\n",
    "\n",
    "    # Compute confusion matrix\n",
    "    cm = confusion_matrix(y_true, y_pred)\n",
    "    # Only use the labels that appear in the data\n",
    "    classes = [0,1]\n",
    "    if normalize:\n",
    "        cm = cm.astype('float') / cm.sum(axis=1)[:, np.newaxis]\n",
    "        print(\"Normalized confusion matrix\")\n",
    "    else:\n",
    "        print('Confusion matrix, without normalization')\n",
    "\n",
    "    print(cm)\n",
    "\n",
    "    fig, ax = plt.subplots(figsize = (8, 8))\n",
    "    \n",
    "    #ax.figsize((10, 10))\n",
    "    im = ax.imshow(cm, interpolation='nearest', cmap=cmap)\n",
    "    ax.figure.colorbar(im, ax=ax)\n",
    "    # We want to show all ticks...\n",
    "    ax.set(xticks=np.arange(cm.shape[1]),\n",
    "           yticks=np.arange(cm.shape[0]),\n",
    "           # ... and label them with the respective list entries\n",
    "           xticklabels=classes, yticklabels=classes,\n",
    "           title=title,\n",
    "           ylabel='True label',\n",
    "           xlabel='Predicted label')\n",
    "\n",
    "    # Rotate the tick labels and set their alignment.\n",
    "    plt.setp(ax.get_xticklabels(), rotation=45, ha=\"right\",\n",
    "             rotation_mode=\"anchor\")\n",
    "\n",
    "    # Loop over data dimensions and create text annotations.\n",
    "    fmt = '.2f' if normalize else 'd'\n",
    "    thresh = cm.max() / 2.\n",
    "    for i in range(cm.shape[0]):\n",
    "        for j in range(cm.shape[1]):\n",
    "            ax.text(j, i, format(cm[i, j], fmt),\n",
    "                    ha=\"center\", va=\"center\",\n",
    "                    color=\"white\" if cm[i, j] > thresh else \"black\")\n",
    "    ax.plot()\n",
    "    fig.tight_layout()\n",
    "    fig.show()\n",
    "    #return ax"
   ]
  },
  {
   "cell_type": "code",
   "execution_count": 3,
   "metadata": {},
   "outputs": [],
   "source": [
    "model = tensorflow.keras.models.load_model('../data/models/CNN_GPU_VGG_Multi_Channel_0.model')"
   ]
  },
  {
   "cell_type": "code",
   "execution_count": null,
   "metadata": {},
   "outputs": [],
   "source": [
    "drugbank = pd.read_csv('../data/intermediate/interactions_preprocessed_OG.csv', iterator = False, converters={\"target_gene_encoded_padded\": \\\n",
    "                                                                                     lambda x: np.array(x.strip(\"[]\").replace(\"'\",\"\").split(\", \")),\n",
    "                                                                                    \"drug_fingerprint_encoded_padded\": \\\n",
    "                                                                                    lambda x: np.array(x.strip(\"[]\").replace(\"'\",\"\").split(\", \"))})\n",
    "\n"
   ]
  },
  {
   "cell_type": "code",
   "execution_count": 14,
   "metadata": {},
   "outputs": [],
   "source": [
    "#drugbank = pd.read_csv('../data/intermediate/interactions_preprocessed.csv', chunksize = 500, iterator = True, converters={\"target_gene_encoded_padded\": \\\n",
    "#                                                                                     lambda x: np.array(x.strip(\"[]\").replace(\"'\",\"\").split(\", \")),\n",
    "#                                                                                    \"drug_fingerprint_encoded_padded\": \\\n",
    "#  "
   ]
  },
  {
   "cell_type": "code",
   "execution_count": 15,
   "metadata": {},
   "outputs": [],
   "source": [
    "drugbank = drugbank.sort_values(['drug_id', 'Y'], ascending = False)\n",
    "\n",
    "drugbank_test_sets = np.array_split(drugbank, len(drugbank)/500)[:5]"
   ]
  },
  {
   "cell_type": "code",
   "execution_count": 16,
   "metadata": {},
   "outputs": [
    {
     "data": {
      "text/plain": [
       "5"
      ]
     },
     "execution_count": 16,
     "metadata": {},
     "output_type": "execute_result"
    }
   ],
   "source": [
    "len(drugbank_test_sets)"
   ]
  },
  {
   "cell_type": "code",
   "execution_count": 6,
   "metadata": {
    "scrolled": false
   },
   "outputs": [
    {
     "name": "stdout",
     "output_type": "stream",
     "text": [
      "Padding..\n",
      "(503, 21222)\n",
      "(503, 9501)\n",
      "(503, 21222)\n",
      "(503, 9501)\n",
      "Trimming..\n",
      "(503, 21222)\n",
      "(503, 9501)\n",
      "(503, 21222)\n",
      "(503, 9501)\n",
      "Padding..\n",
      "(503, 21222)\n",
      "(503, 9501)\n",
      "(503, 21222)\n",
      "(503, 9501)\n",
      "Trimming..\n",
      "(503, 21222)\n",
      "(503, 9501)\n",
      "(503, 21222)\n",
      "(503, 9501)\n",
      "Padding..\n",
      "(503, 21222)\n",
      "(503, 9501)\n",
      "(503, 21222)\n",
      "(503, 9501)\n",
      "Trimming..\n",
      "(503, 21222)\n",
      "(503, 9501)\n",
      "(503, 21222)\n",
      "(503, 9501)\n",
      "Padding..\n",
      "(503, 21222)\n",
      "(503, 9501)\n",
      "(503, 21222)\n",
      "(503, 9501)\n",
      "Trimming..\n",
      "(503, 21222)\n",
      "(503, 9501)\n",
      "(503, 21222)\n",
      "(503, 9501)\n",
      "Padding..\n",
      "(503, 21222)\n",
      "(503, 9501)\n",
      "(503, 21222)\n",
      "(503, 9501)\n",
      "Trimming..\n",
      "(503, 21222)\n",
      "(503, 9501)\n",
      "(503, 21222)\n",
      "(503, 9501)\n"
     ]
    }
   ],
   "source": [
    "trim_width = 0\n",
    "\n",
    "Y_test_actual = []\n",
    "Y_test_predictions = []\n",
    "\n",
    "for drugbank_test in drugbank_test_sets:  \n",
    "    \n",
    "    print('Padding..') \n",
    "    X_0 = np.array(list(drugbank_test['target_gene_encoded_padded']))\n",
    "    X_1 = np.array(list(drugbank_test['drug_fingerprint_encoded_padded']))\n",
    "    Y   = np.array(list(drugbank_test['Y']))\n",
    "\n",
    "\n",
    "    X_0_test = np.array(list(drugbank_test['target_gene_encoded_padded']))\n",
    "    X_1_test = np.array(list(drugbank_test['drug_fingerprint_encoded_padded']))\n",
    "\n",
    "    Y_test_actual.extend(np.array(list(drugbank_test['Y'])))\n",
    "\n",
    "    print(X_0.shape)\n",
    "    print(X_1.shape)\n",
    "\n",
    "    print(X_0_test.shape)\n",
    "    print(X_1_test.shape)\n",
    "\n",
    "    print('Trimming..')\n",
    "    X_0 = X_0[:, int(trim_width/2) : X_0.shape[1] - int(trim_width/2)]\n",
    "    X_1 = X_1[:, int(trim_width/2) : X_1.shape[1] - int(trim_width/2)]\n",
    "\n",
    "    X_0_test = X_0_test[:, int(trim_width/2) : X_0_test.shape[1] - int(trim_width/2)]\n",
    "    X_1_test = X_1_test[:, int(trim_width/2) : X_1_test.shape[1] - int(trim_width/2)]\n",
    "\n",
    "\n",
    "    X_0 = X_0.astype(int) + 1\n",
    "    X_1 = X_1.astype(int) + 1\n",
    "    #Y   = Y.astype(int)\n",
    "\n",
    "    X_0_test = X_0_test.astype(int) + 1\n",
    "    X_1_test = X_1_test.astype(int) + 1\n",
    "    #Y_test   = Y_test.astype(int)\n",
    "\n",
    "    print(X_0.shape)\n",
    "    print(X_1.shape)\n",
    "\n",
    "    print(X_0_test.shape)\n",
    "    print(X_1_test.shape)\n",
    "\n",
    "    #X_0 = np.hstack((X_0, X_1))\n",
    "    #X_0_test = np.hstack((X_0_test, X_1_test))\n",
    "\n",
    "    Y_test_predictions.extend(model.predict([X_1_test[..., np.newaxis],X_0_test[..., np.newaxis]]))\n",
    "    \n",
    "\n",
    "\n"
   ]
  },
  {
   "cell_type": "code",
   "execution_count": 7,
   "metadata": {},
   "outputs": [],
   "source": [
    "#Y_test_predictions = np.array(Y_test_predictions).ravel()"
   ]
  },
  {
   "cell_type": "code",
   "execution_count": 9,
   "metadata": {
    "scrolled": false
   },
   "outputs": [
    {
     "name": "stdout",
     "output_type": "stream",
     "text": [
      "roc_auc_score:  0.9256758383741606\n"
     ]
    },
    {
     "data": {
      "image/png": "[encoded data removed]",
      "text/plain": [
       "<Figure size 432x288 with 1 Axes>"
      ]
     },
     "metadata": {
      "needs_background": "light"
     },
     "output_type": "display_data"
    },
    {
     "name": "stdout",
     "output_type": "stream",
     "text": [
      "-----\n"
     ]
    },
    {
     "data": {
      "image/png": "[encoded data removed]",
      "text/plain": [
       "<Figure size 432x288 with 1 Axes>"
      ]
     },
     "metadata": {
      "needs_background": "light"
     },
     "output_type": "display_data"
    },
    {
     "name": "stdout",
     "output_type": "stream",
     "text": [
      "Confusion_matrix[[ 810  504]\n",
      " [   0 1201]]\n",
      "f1-score: 0.8265657260839642\n",
      "             precision    recall  f1-score   support\n",
      "\n",
      "          0       1.00      0.62      0.76      1314\n",
      "          1       0.70      1.00      0.83      1201\n",
      "\n",
      "avg / total       0.86      0.80      0.79      2515\n",
      "\n"
     ]
    }
   ],
   "source": [
    "false_positive_rate, true_positive_rate, threshold = roc_curve(Y_test_actual , Y_test_predictions)\n",
    "\n",
    "print('roc_auc_score: ', roc_auc_score(Y_test_actual, Y_test_predictions))\n",
    "\n",
    "plt.plot(false_positive_rate, true_positive_rate)\n",
    "plt.xlabel('FPR')\n",
    "plt.ylabel('TPR')\n",
    "plt.show()\n",
    "\n",
    "print('-----')\n",
    "\n",
    "\n",
    "Y_test_predictions_bin = [1 if (i > 0.85) else 0 for i in Y_test_predictions ]\n",
    "\n",
    "\n",
    "plt.hist(Y_test_predictions_bin)\n",
    "plt.xlabel('Prediction Values')\n",
    "plt.ylabel('Counts')\n",
    "plt.show()\n",
    "\n",
    "cm = confusion_matrix(Y_test_actual, Y_test_predictions_bin)\n",
    "\n",
    "print('Confusion_matrix' + str(cm))\n",
    "\n",
    "print('f1-score: ' + str(f1_score(Y_test_actual, Y_test_predictions_bin)))\n",
    "\n",
    "\n",
    "print(classification_report(Y_test_actual, Y_test_predictions_bin))\n",
    "\n",
    "\n"
   ]
  },
  {
   "cell_type": "code",
   "execution_count": 10,
   "metadata": {},
   "outputs": [
    {
     "data": {
      "text/plain": [
       "2515"
      ]
     },
     "execution_count": 10,
     "metadata": {},
     "output_type": "execute_result"
    }
   ],
   "source": [
    "len(Y_test_actual)"
   ]
  },
  {
   "cell_type": "code",
   "execution_count": 11,
   "metadata": {},
   "outputs": [
    {
     "data": {
      "text/plain": [
       "[<matplotlib.lines.Line2D at 0x7f49c83991d0>]"
      ]
     },
     "execution_count": 11,
     "metadata": {},
     "output_type": "execute_result"
    },
    {
     "data": {
      "image/png": "[encoded data removed]",
      "text/plain": [
       "<Figure size 432x288 with 1 Axes>"
      ]
     },
     "metadata": {
      "needs_background": "light"
     },
     "output_type": "display_data"
    }
   ],
   "source": [
    "f1_scores = []\n",
    "plot_x = []\n",
    "\n",
    "for j in np.arange(0.0, 1.0, 0.01):\n",
    "    f1_scores.append(f1_score(Y_test_actual, [1 if (i > j) else 0 for i in Y_test_predictions]))\n",
    "    plot_x.append(j)\n",
    "\n",
    "plt.xlabel('Threshold')\n",
    "plt.ylabel('F1 Score')\n",
    "plt.plot(plot_x, f1_scores)"
   ]
  },
  {
   "cell_type": "code",
   "execution_count": 44,
   "metadata": {},
   "outputs": [
    {
     "name": "stdout",
     "output_type": "stream",
     "text": [
      "__________________________________________________________________________________________________\n",
      "Layer (type)                    Output Shape         Param #     Connected to                     \n",
      "==================================================================================================\n",
      "input_26 (InputLayer)           (None, 21222, 1)     0                                            \n",
      "__________________________________________________________________________________________________\n",
      "input_25 (InputLayer)           (None, 9501, 1)      0                                            \n",
      "__________________________________________________________________________________________________\n",
      "conv1d_150 (Conv1D)             (None, 10608, 256)   2304        input_26[0][0]                   \n",
      "__________________________________________________________________________________________________\n",
      "conv1d_151 (Conv1D)             (None, 4747, 512)    4608        input_25[0][0]                   \n",
      "__________________________________________________________________________________________________\n",
      "conv1d_152 (Conv1D)             (None, 5301, 128)    262272      conv1d_150[0][0]                 \n",
      "__________________________________________________________________________________________________\n",
      "conv1d_153 (Conv1D)             (None, 2370, 256)    1048832     conv1d_151[0][0]                 \n",
      "__________________________________________________________________________________________________\n",
      "batch_normalization_66 (BatchNo (None, 5301, 128)    512         conv1d_152[0][0]                 \n",
      "__________________________________________________________________________________________________\n",
      "batch_normalization_67 (BatchNo (None, 2370, 256)    1024        conv1d_153[0][0]                 \n",
      "__________________________________________________________________________________________________\n",
      "conv1d_154 (Conv1D)             (None, 2647, 64)     65600       batch_normalization_66[0][0]     \n",
      "__________________________________________________________________________________________________\n",
      "conv1d_155 (Conv1D)             (None, 1182, 64)     131136      batch_normalization_67[0][0]     \n",
      "__________________________________________________________________________________________________\n",
      "conv1d_156 (Conv1D)             (None, 1320, 64)     32832       conv1d_154[0][0]                 \n",
      "__________________________________________________________________________________________________\n",
      "conv1d_157 (Conv1D)             (None, 588, 64)      32832       conv1d_155[0][0]                 \n",
      "__________________________________________________________________________________________________\n",
      "batch_normalization_68 (BatchNo (None, 1320, 64)     256         conv1d_156[0][0]                 \n",
      "__________________________________________________________________________________________________\n",
      "batch_normalization_69 (BatchNo (None, 588, 64)      256         conv1d_157[0][0]                 \n",
      "__________________________________________________________________________________________________\n",
      "dropout_33 (Dropout)            (None, 1320, 64)     0           batch_normalization_68[0][0]     \n",
      "__________________________________________________________________________________________________\n",
      "dropout_34 (Dropout)            (None, 588, 64)      0           batch_normalization_69[0][0]     \n",
      "__________________________________________________________________________________________________\n",
      "flatten_21 (Flatten)            (None, 84480)        0           dropout_33[0][0]                 \n",
      "__________________________________________________________________________________________________\n",
      "flatten_22 (Flatten)            (None, 37632)        0           dropout_34[0][0]                 \n",
      "__________________________________________________________________________________________________\n",
      "concatenate_11 (Concatenate)    (None, 122112)       0           flatten_21[0][0]                 \n",
      "                                                                 flatten_22[0][0]                 \n",
      "__________________________________________________________________________________________________\n",
      "dropout_35 (Dropout)            (None, 122112)       0           concatenate_11[0][0]             \n",
      "__________________________________________________________________________________________________\n",
      "dense_15 (Dense)                (None, 64)           7815232     dropout_35[0][0]                 \n",
      "__________________________________________________________________________________________________\n",
      "dense_16 (Dense)                (None, 1)            65          dense_15[0][0]                   \n",
      "__________________________________________________________________________________________________\n",
      "activation_6 (Activation)       (None, 1)            0           dense_16[0][0]                   \n",
      "==================================================================================================\n",
      "Total params: 9,397,761\n",
      "Trainable params: 9,396,737\n",
      "Non-trainable params: 1,024\n",
      "__________________________________________________________________________________________________\n"
     ]
    }
   ],
   "source": [
    "model.summary()"
   ]
  },
  {
   "cell_type": "code",
   "execution_count": 89,
   "metadata": {},
   "outputs": [
    {
     "name": "stdout",
     "output_type": "stream",
     "text": [
      "/miniconda/bin/python: No module named apt\r\n"
     ]
    }
   ],
   "source": [
    "import sys\n",
    "!{sys.executable} -m cond install -v pydot"
   ]
  },
  {
   "cell_type": "code",
   "execution_count": null,
   "metadata": {},
   "outputs": [],
   "source": [
    "sys.path"
   ]
  },
  {
   "cell_type": "code",
   "execution_count": 90,
   "metadata": {},
   "outputs": [],
   "source": [
    "import pydot"
   ]
  },
  {
   "cell_type": "code",
   "execution_count": 5,
   "metadata": {},
   "outputs": [],
   "source": [
    "plot_model(model, to_file='CNN_GPU_VGG_Multi_Channel.png')"
   ]
  },
  {
   "cell_type": "code",
   "execution_count": 12,
   "metadata": {},
   "outputs": [
    {
     "name": "stdout",
     "output_type": "stream",
     "text": [
      "Normalized confusion matrix\n",
      "[[0.61643836 0.38356164]\n",
      " [0.         1.        ]]\n"
     ]
    },
    {
     "name": "stderr",
     "output_type": "stream",
     "text": [
      "/miniconda/lib/python3.6/site-packages/matplotlib/figure.py:459: UserWarning: matplotlib is currently using a non-GUI backend, so cannot show the figure\n",
      "  \"matplotlib is currently using a non-GUI backend, \"\n"
     ]
    },
    {
     "data": {
      "image/png": "[encoded data removed]",
      "text/plain": [
       "<Figure size 576x576 with 2 Axes>"
      ]
     },
     "metadata": {
      "needs_background": "light"
     },
     "output_type": "display_data"
    }
   ],
   "source": [
    "\n",
    "plot_confusion_matrix(Y_test_actual, Y_test_predictions_bin, normalize = True, classes = [0,1])"
   ]
  },
  {
   "cell_type": "code",
   "execution_count": 13,
   "metadata": {},
   "outputs": [
    {
     "data": {
      "text/plain": [
       "0.8265657260839642"
      ]
     },
     "execution_count": 13,
     "metadata": {},
     "output_type": "execute_result"
    }
   ],
   "source": [
    "f1_score(Y_test_actual, Y_test_predictions_bin)"
   ]
  },
  {
   "cell_type": "code",
   "execution_count": null,
   "metadata": {},
   "outputs": [],
   "source": []
  }
 ],
 "metadata": {
  "kernelspec": {
   "display_name": "Python 3",
   "language": "python",
   "name": "python3"
  },
  "language_info": {
   "codemirror_mode": {
    "name": "ipython",
    "version": 3
   },
   "file_extension": ".py",
   "mimetype": "text/x-python",
   "name": "python",
   "nbconvert_exporter": "python",
   "pygments_lexer": "ipython3",
   "version": "3.6.6"
  }
 },
 "nbformat": 4,
 "nbformat_minor": 4
}
