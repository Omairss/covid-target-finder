{
 "cells": [
  {
   "cell_type": "code",
   "execution_count": 1,
   "metadata": {
    "scrolled": true
   },
   "outputs": [
    {
     "data": {
      "text/plain": [
       "<module 'tensorflow' from '/miniconda/lib/python3.6/site-packages/tensorflow/__init__.py'>"
      ]
     },
     "execution_count": 1,
     "metadata": {},
     "output_type": "execute_result"
    }
   ],
   "source": [
    "import pickle as pkl\n",
    "\n",
    "import lxml\n",
    "import pandas as pd\n",
    "import numpy as np\n",
    "#import seaborn as sns\n",
    "import matplotlib.pyplot as plt\n",
    "import tensorflow.keras\n",
    "from tensorflow.keras.datasets import imdb\n",
    "\n",
    "\n",
    "from tqdm.notebook import tqdm\n",
    "\n",
    "from sklearn.metrics import confusion_matrix\n",
    "from sklearn.utils.multiclass import unique_labels\n",
    "from sklearn.metrics import f1_score\n",
    "\n",
    "from sklearn.model_selection import train_test_split\n",
    "\n",
    "from sklearn.preprocessing import LabelEncoder, OneHotEncoder\n",
    "from ast import literal_eval\n",
    "from sklearn.model_selection import train_test_split\n",
    "from sklearn.linear_model import LogisticRegression\n",
    "from sklearn.metrics import confusion_matrix, f1_score\n",
    "from tensorflow.keras.models import Sequential, Model\n",
    "from tensorflow.keras.layers import Input, Dense, Activation, Dropout, Conv1D, Flatten, MaxPooling1D,\\\n",
    "                        AveragePooling1D, Concatenate, LeakyReLU, Embedding,\\\n",
    "                        GlobalMaxPooling1D,GlobalAveragePooling1D,GaussianNoise,BatchNormalization,Add\n",
    "from tensorflow.keras.initializers import glorot_uniform\n",
    "#from tensorflow.keras.utils.vis_utils import plot_model\n",
    "\n",
    "import importlib\n",
    "importlib.reload(tensorflow)"
   ]
  },
  {
   "cell_type": "code",
   "execution_count": 2,
   "metadata": {},
   "outputs": [],
   "source": [
    "tqdm.pandas()"
   ]
  },
  {
   "cell_type": "code",
   "execution_count": 3,
   "metadata": {},
   "outputs": [],
   "source": [
    "import tensorflow as tf\n",
    "with tf.Session() as sess:\n",
    "    devices = sess.list_devices()"
   ]
  },
  {
   "cell_type": "code",
   "execution_count": 4,
   "metadata": {},
   "outputs": [],
   "source": [
    "import sys"
   ]
  },
  {
   "cell_type": "code",
   "execution_count": 5,
   "metadata": {},
   "outputs": [
    {
     "name": "stdout",
     "output_type": "stream",
     "text": [
      "/miniconda/bin/python: No module named list\r\n"
     ]
    }
   ],
   "source": [
    "!{sys.executable} -m list"
   ]
  },
  {
   "cell_type": "markdown",
   "metadata": {},
   "source": [
    "# Load NDM DTC Interactions"
   ]
  },
  {
   "cell_type": "code",
   "execution_count": 7,
   "metadata": {},
   "outputs": [],
   "source": [
    "ndm_df = pd.read_pickle('data/DTC_NDM_gene_seq_fingerprint.pkl')"
   ]
  },
  {
   "cell_type": "code",
   "execution_count": 8,
   "metadata": {
    "scrolled": true
   },
   "outputs": [
    {
     "data": {
      "text/html": [
       "<div>\n",
       "<style scoped>\n",
       "    .dataframe tbody tr th:only-of-type {\n",
       "        vertical-align: middle;\n",
       "    }\n",
       "\n",
       "    .dataframe tbody tr th {\n",
       "        vertical-align: top;\n",
       "    }\n",
       "\n",
       "    .dataframe thead th {\n",
       "        text-align: right;\n",
       "    }\n",
       "</style>\n",
       "<table border=\"1\" class=\"dataframe\">\n",
       "  <thead>\n",
       "    <tr style=\"text-align: right;\">\n",
       "      <th></th>\n",
       "      <th>CHEMBL_id</th>\n",
       "      <th>InChi_Key</th>\n",
       "      <th>gene_seq</th>\n",
       "      <th>gene_name</th>\n",
       "      <th>fingerprint</th>\n",
       "    </tr>\n",
       "  </thead>\n",
       "  <tbody>\n",
       "    <tr>\n",
       "      <th>0</th>\n",
       "      <td>CHEMBL418746</td>\n",
       "      <td>AAKDPDFZMNYDLR-UHFFFAOYSA-N</td>\n",
       "      <td>TTGAGCCTTTTCAGCAAGCTTAAAGAAGGTTTAAATAAGACGCGGC...</td>\n",
       "      <td>GAA</td>\n",
       "      <td>2246728737 3657471097 2092489639 2014255590 29...</td>\n",
       "    </tr>\n",
       "    <tr>\n",
       "      <th>1</th>\n",
       "      <td>CHEMBL418746</td>\n",
       "      <td>AAKDPDFZMNYDLR-UHFFFAOYSA-N</td>\n",
       "      <td>TTGAGCCTTTTCAGCAAGCTTAAAGAAGGTTTAAATAAGACGCGGC...</td>\n",
       "      <td>GAA</td>\n",
       "      <td>2246728737 3657471097 2092489639 2014255590 29...</td>\n",
       "    </tr>\n",
       "    <tr>\n",
       "      <th>2</th>\n",
       "      <td>CHEMBL418746</td>\n",
       "      <td>AAKDPDFZMNYDLR-UHFFFAOYSA-N</td>\n",
       "      <td>TTGTTGAAGCATGTGGTTACCCTGATACCGGGTGATGGTACTGGCC...</td>\n",
       "      <td>FUCA1</td>\n",
       "      <td>2246728737 3657471097 2092489639 2014255590 29...</td>\n",
       "    </tr>\n",
       "    <tr>\n",
       "      <th>3</th>\n",
       "      <td>CHEMBL1484869</td>\n",
       "      <td>AAOFJKLTRKOQTQ-UHFFFAOYSA-N</td>\n",
       "      <td>ATGGATGTAATTAAACAAGCTTTAGAGAGGATGGGCTATGCCGCTG...</td>\n",
       "      <td>CYP3A4</td>\n",
       "      <td>2246728737 422715066 3217380708 3120642300 321...</td>\n",
       "    </tr>\n",
       "    <tr>\n",
       "      <th>4</th>\n",
       "      <td>CHEMBL1484869</td>\n",
       "      <td>AAOFJKLTRKOQTQ-UHFFFAOYSA-N</td>\n",
       "      <td>ATGGATGTAATTAAACAAGCTTTAGAGAGGATGGGCTATGCCGCTG...</td>\n",
       "      <td>CYP3A4</td>\n",
       "      <td>2246728737 422715066 3217380708 3120642300 321...</td>\n",
       "    </tr>\n",
       "    <tr>\n",
       "      <th>...</th>\n",
       "      <td>...</td>\n",
       "      <td>...</td>\n",
       "      <td>...</td>\n",
       "      <td>...</td>\n",
       "      <td>...</td>\n",
       "    </tr>\n",
       "    <tr>\n",
       "      <th>31453</th>\n",
       "      <td>CHEMBL186200</td>\n",
       "      <td>NaN</td>\n",
       "      <td>GTGATCTTCCTGGCGAAAACAAAAGAGCGCTTTGTCTGCCAGCAAT...</td>\n",
       "      <td>CA2</td>\n",
       "      <td>848127915 88330248 864942730 2378779377 864942...</td>\n",
       "    </tr>\n",
       "    <tr>\n",
       "      <th>31454</th>\n",
       "      <td>CHEMBL1200739</td>\n",
       "      <td>NaN</td>\n",
       "      <td>ATGTTTAAAGTGGGCGATAAAGTAGTGTATCCCATGCACGGGGCGG...</td>\n",
       "      <td>CA1</td>\n",
       "      <td>1026822558</td>\n",
       "    </tr>\n",
       "    <tr>\n",
       "      <th>31455</th>\n",
       "      <td>CHEMBL186200</td>\n",
       "      <td>NaN</td>\n",
       "      <td>ATGTTTAAAGTGGGCGATAAAGTAGTGTATCCCATGCACGGGGCGG...</td>\n",
       "      <td>CA1</td>\n",
       "      <td>848127915 88330248 864942730 2378779377 864942...</td>\n",
       "    </tr>\n",
       "    <tr>\n",
       "      <th>31456</th>\n",
       "      <td>CHEMBL186200</td>\n",
       "      <td>NaN</td>\n",
       "      <td>ATGTTTAAAGTGGGCGATAAAGTAGTGTATCCCATGCACGGGGCGG...</td>\n",
       "      <td>CA1</td>\n",
       "      <td>848127915 88330248 864942730 2378779377 864942...</td>\n",
       "    </tr>\n",
       "    <tr>\n",
       "      <th>31457</th>\n",
       "      <td>CHEMBL186200</td>\n",
       "      <td>NaN</td>\n",
       "      <td>ATGTTTAAAGTGGGCGATAAAGTAGTGTATCCCATGCACGGGGCGG...</td>\n",
       "      <td>CA1</td>\n",
       "      <td>848127915 88330248 864942730 2378779377 864942...</td>\n",
       "    </tr>\n",
       "  </tbody>\n",
       "</table>\n",
       "<p>31458 rows × 5 columns</p>\n",
       "</div>"
      ],
      "text/plain": [
       "           CHEMBL_id                    InChi_Key  \\\n",
       "0       CHEMBL418746  AAKDPDFZMNYDLR-UHFFFAOYSA-N   \n",
       "1       CHEMBL418746  AAKDPDFZMNYDLR-UHFFFAOYSA-N   \n",
       "2       CHEMBL418746  AAKDPDFZMNYDLR-UHFFFAOYSA-N   \n",
       "3      CHEMBL1484869  AAOFJKLTRKOQTQ-UHFFFAOYSA-N   \n",
       "4      CHEMBL1484869  AAOFJKLTRKOQTQ-UHFFFAOYSA-N   \n",
       "...              ...                          ...   \n",
       "31453   CHEMBL186200                          NaN   \n",
       "31454  CHEMBL1200739                          NaN   \n",
       "31455   CHEMBL186200                          NaN   \n",
       "31456   CHEMBL186200                          NaN   \n",
       "31457   CHEMBL186200                          NaN   \n",
       "\n",
       "                                                gene_seq gene_name  \\\n",
       "0      TTGAGCCTTTTCAGCAAGCTTAAAGAAGGTTTAAATAAGACGCGGC...       GAA   \n",
       "1      TTGAGCCTTTTCAGCAAGCTTAAAGAAGGTTTAAATAAGACGCGGC...       GAA   \n",
       "2      TTGTTGAAGCATGTGGTTACCCTGATACCGGGTGATGGTACTGGCC...     FUCA1   \n",
       "3      ATGGATGTAATTAAACAAGCTTTAGAGAGGATGGGCTATGCCGCTG...    CYP3A4   \n",
       "4      ATGGATGTAATTAAACAAGCTTTAGAGAGGATGGGCTATGCCGCTG...    CYP3A4   \n",
       "...                                                  ...       ...   \n",
       "31453  GTGATCTTCCTGGCGAAAACAAAAGAGCGCTTTGTCTGCCAGCAAT...       CA2   \n",
       "31454  ATGTTTAAAGTGGGCGATAAAGTAGTGTATCCCATGCACGGGGCGG...       CA1   \n",
       "31455  ATGTTTAAAGTGGGCGATAAAGTAGTGTATCCCATGCACGGGGCGG...       CA1   \n",
       "31456  ATGTTTAAAGTGGGCGATAAAGTAGTGTATCCCATGCACGGGGCGG...       CA1   \n",
       "31457  ATGTTTAAAGTGGGCGATAAAGTAGTGTATCCCATGCACGGGGCGG...       CA1   \n",
       "\n",
       "                                             fingerprint  \n",
       "0      2246728737 3657471097 2092489639 2014255590 29...  \n",
       "1      2246728737 3657471097 2092489639 2014255590 29...  \n",
       "2      2246728737 3657471097 2092489639 2014255590 29...  \n",
       "3      2246728737 422715066 3217380708 3120642300 321...  \n",
       "4      2246728737 422715066 3217380708 3120642300 321...  \n",
       "...                                                  ...  \n",
       "31453  848127915 88330248 864942730 2378779377 864942...  \n",
       "31454                                         1026822558  \n",
       "31455  848127915 88330248 864942730 2378779377 864942...  \n",
       "31456  848127915 88330248 864942730 2378779377 864942...  \n",
       "31457  848127915 88330248 864942730 2378779377 864942...  \n",
       "\n",
       "[31458 rows x 5 columns]"
      ]
     },
     "execution_count": 8,
     "metadata": {},
     "output_type": "execute_result"
    }
   ],
   "source": [
    "ndm_df"
   ]
  },
  {
   "cell_type": "code",
   "execution_count": 9,
   "metadata": {
    "collapsed": true
   },
   "outputs": [
    {
     "data": {
      "text/plain": [
       "[936,\n",
       " 936,\n",
       " 1011,\n",
       " 933,\n",
       " 933,\n",
       " 1062,\n",
       " 1062,\n",
       " 756,\n",
       " 756,\n",
       " 1734,\n",
       " 1440,\n",
       " 1050,\n",
       " 1050,\n",
       " 1011,\n",
       " 1011,\n",
       " 345,\n",
       " 345,\n",
       " 471,\n",
       " 471,\n",
       " 264,\n",
       " 264,\n",
       " 2292,\n",
       " 537,\n",
       " 537,\n",
       " 492,\n",
       " 492,\n",
       " 519,\n",
       " 519,\n",
       " 1926,\n",
       " 1926,\n",
       " 867,\n",
       " 867,\n",
       " 1101,\n",
       " 1101,\n",
       " 228,\n",
       " 228,\n",
       " 858,\n",
       " 858,\n",
       " 750,\n",
       " 750,\n",
       " 1239,\n",
       " 1239,\n",
       " 696,\n",
       " 1116,\n",
       " 1116,\n",
       " 1362,\n",
       " 1362,\n",
       " 561,\n",
       " 561,\n",
       " 684,\n",
       " 684,\n",
       " 1170,\n",
       " 279,\n",
       " 279,\n",
       " 396,\n",
       " 396,\n",
       " 822,\n",
       " 822,\n",
       " 687,\n",
       " 687,\n",
       " 1386,\n",
       " 1386,\n",
       " 465,\n",
       " 465,\n",
       " 843,\n",
       " 843,\n",
       " 360,\n",
       " 360,\n",
       " 330,\n",
       " 330,\n",
       " 201,\n",
       " 201,\n",
       " 546,\n",
       " 546,\n",
       " 1074,\n",
       " 1074,\n",
       " 465,\n",
       " 465,\n",
       " 405,\n",
       " 405,\n",
       " 405,\n",
       " 405,\n",
       " 930,\n",
       " 930,\n",
       " 930,\n",
       " 228,\n",
       " 228,\n",
       " 1143,\n",
       " 1143,\n",
       " 642,\n",
       " 642,\n",
       " 75,\n",
       " 75,\n",
       " 1704,\n",
       " 1704,\n",
       " 1152,\n",
       " 393,\n",
       " 393,\n",
       " 393,\n",
       " 1902,\n",
       " 1902,\n",
       " 780,\n",
       " 780,\n",
       " 372,\n",
       " 933,\n",
       " 933,\n",
       " 168,\n",
       " 168,\n",
       " 294,\n",
       " 294,\n",
       " 426,\n",
       " 426,\n",
       " 201,\n",
       " 201,\n",
       " 285,\n",
       " 285,\n",
       " 1170,\n",
       " 1170,\n",
       " 675,\n",
       " 675,\n",
       " 1284,\n",
       " 1284,\n",
       " 321,\n",
       " 321,\n",
       " 225,\n",
       " 225,\n",
       " 1098,\n",
       " 1098,\n",
       " 2079,\n",
       " 2079,\n",
       " 2163,\n",
       " 2163,\n",
       " 174,\n",
       " 174,\n",
       " 174,\n",
       " 174,\n",
       " 174,\n",
       " 174,\n",
       " 174,\n",
       " 174,\n",
       " 174,\n",
       " 174,\n",
       " 174,\n",
       " 174,\n",
       " 1368,\n",
       " 1368,\n",
       " 507,\n",
       " 507,\n",
       " 459,\n",
       " 924,\n",
       " 76,\n",
       " 76,\n",
       " 76,\n",
       " 1482,\n",
       " 1482,\n",
       " 1368,\n",
       " 1368,\n",
       " 483,\n",
       " 483,\n",
       " 195,\n",
       " 843,\n",
       " 930,\n",
       " 258,\n",
       " 642,\n",
       " 1401,\n",
       " 1401,\n",
       " 1401,\n",
       " 1401,\n",
       " 1401,\n",
       " 642,\n",
       " 501,\n",
       " 1470,\n",
       " 642,\n",
       " 642,\n",
       " 642,\n",
       " 642,\n",
       " 642,\n",
       " 1869,\n",
       " 345,\n",
       " 1281,\n",
       " 348,\n",
       " 378,\n",
       " 816,\n",
       " 1056,\n",
       " 519,\n",
       " 447,\n",
       " 1926,\n",
       " 225,\n",
       " 258,\n",
       " 246,\n",
       " 684,\n",
       " 246,\n",
       " 1170,\n",
       " 1386,\n",
       " 1191,\n",
       " 360,\n",
       " 201,\n",
       " 546,\n",
       " 1074,\n",
       " 930,\n",
       " 75,\n",
       " 1902,\n",
       " 780,\n",
       " 372,\n",
       " 201,\n",
       " 285,\n",
       " 528,\n",
       " 750,\n",
       " 2292,\n",
       " 327,\n",
       " 1362,\n",
       " 729,\n",
       " 729,\n",
       " 729,\n",
       " 237,\n",
       " 75,\n",
       " 75,\n",
       " 1719,\n",
       " 273,\n",
       " 1134,\n",
       " 762,\n",
       " 621,\n",
       " 507,\n",
       " 528,\n",
       " 294,\n",
       " 294,\n",
       " 990,\n",
       " 990,\n",
       " 990,\n",
       " 990,\n",
       " 990,\n",
       " 990,\n",
       " 990,\n",
       " 990,\n",
       " 990,\n",
       " 1224,\n",
       " 1224,\n",
       " 1224,\n",
       " 1224,\n",
       " 1224,\n",
       " 1224,\n",
       " 1224,\n",
       " 1224,\n",
       " 1224,\n",
       " 1224,\n",
       " 1224,\n",
       " 1152,\n",
       " 1152,\n",
       " 1152,\n",
       " 1152,\n",
       " 1152,\n",
       " 1152,\n",
       " 1152,\n",
       " 1152,\n",
       " 1152,\n",
       " 1152,\n",
       " 1152,\n",
       " 444,\n",
       " 483,\n",
       " 483,\n",
       " 483,\n",
       " 483,\n",
       " 483,\n",
       " 483,\n",
       " 483,\n",
       " 483,\n",
       " 483,\n",
       " 996,\n",
       " 1098,\n",
       " 1098,\n",
       " 2163,\n",
       " 2163,\n",
       " 273,\n",
       " 1062,\n",
       " 1062,\n",
       " 756,\n",
       " 756,\n",
       " 1050,\n",
       " 1050,\n",
       " 1011,\n",
       " 1011,\n",
       " 345,\n",
       " 345,\n",
       " 471,\n",
       " 471,\n",
       " 537,\n",
       " 537,\n",
       " 492,\n",
       " 492,\n",
       " 519,\n",
       " 519,\n",
       " 1926,\n",
       " 1926,\n",
       " 1101,\n",
       " 1101,\n",
       " 228,\n",
       " 228,\n",
       " 750,\n",
       " 750,\n",
       " 1239,\n",
       " 1239,\n",
       " 1116,\n",
       " 1116,\n",
       " 1362,\n",
       " 1362,\n",
       " 561,\n",
       " 561,\n",
       " 684,\n",
       " 684,\n",
       " 279,\n",
       " 279,\n",
       " 396,\n",
       " 396,\n",
       " 822,\n",
       " 822,\n",
       " 687,\n",
       " 687,\n",
       " 1386,\n",
       " 1386,\n",
       " 465,\n",
       " 465,\n",
       " 843,\n",
       " 843,\n",
       " 360,\n",
       " 360,\n",
       " 330,\n",
       " 330,\n",
       " 201,\n",
       " 201,\n",
       " 546,\n",
       " 546,\n",
       " 1074,\n",
       " 1074,\n",
       " 465,\n",
       " 465,\n",
       " 930,\n",
       " 930,\n",
       " 228,\n",
       " 228,\n",
       " 1143,\n",
       " 1143,\n",
       " 642,\n",
       " 642,\n",
       " 75,\n",
       " 75,\n",
       " 1704,\n",
       " 1704,\n",
       " 393,\n",
       " 393,\n",
       " 1902,\n",
       " 1902,\n",
       " 780,\n",
       " 780,\n",
       " 933,\n",
       " 933,\n",
       " 168,\n",
       " 168,\n",
       " 294,\n",
       " 294,\n",
       " 426,\n",
       " 426,\n",
       " 201,\n",
       " 201,\n",
       " 285,\n",
       " 285,\n",
       " 1170,\n",
       " 1170,\n",
       " 675,\n",
       " 675,\n",
       " 1284,\n",
       " 1284,\n",
       " 321,\n",
       " 321,\n",
       " 225,\n",
       " 225,\n",
       " 1098,\n",
       " 1098,\n",
       " 2079,\n",
       " 2079,\n",
       " 2163,\n",
       " 2163,\n",
       " 1368,\n",
       " 1368,\n",
       " 507,\n",
       " 507,\n",
       " 684,\n",
       " 684,\n",
       " 360,\n",
       " 360,\n",
       " 930,\n",
       " 930,\n",
       " 483,\n",
       " 372,\n",
       " 372,\n",
       " 2163,\n",
       " 2163,\n",
       " 1191,\n",
       " 729,\n",
       " 666,\n",
       " 2292,\n",
       " 465,\n",
       " 996,\n",
       " 690,\n",
       " 282,\n",
       " 282,\n",
       " 1434,\n",
       " 1434,\n",
       " 1434,\n",
       " 1434,\n",
       " 1434,\n",
       " 1434,\n",
       " 528,\n",
       " 528,\n",
       " 528,\n",
       " 1680,\n",
       " 924,\n",
       " 924,\n",
       " 1197,\n",
       " 1191,\n",
       " 714,\n",
       " 153,\n",
       " 858,\n",
       " 294,\n",
       " 294,\n",
       " 294,\n",
       " 1098,\n",
       " 1098,\n",
       " 1305,\n",
       " 76,\n",
       " 76,\n",
       " 1125,\n",
       " 327,\n",
       " 327,\n",
       " 1503,\n",
       " 1191,\n",
       " 1203,\n",
       " 564,\n",
       " 564,\n",
       " 1101,\n",
       " 666,\n",
       " 729,\n",
       " 729,\n",
       " 729,\n",
       " 76,\n",
       " 1482,\n",
       " 1470,\n",
       " 237,\n",
       " 237,\n",
       " 732,\n",
       " 207,\n",
       " 2304,\n",
       " 1143,\n",
       " 534,\n",
       " 534,\n",
       " 588,\n",
       " 936,\n",
       " 699,\n",
       " 699,\n",
       " 846,\n",
       " 786,\n",
       " 621,\n",
       " 225,\n",
       " 3555,\n",
       " 1368,\n",
       " 1368,\n",
       " 1368,\n",
       " 483,\n",
       " 483,\n",
       " 483,\n",
       " 507,\n",
       " 1563,\n",
       " 1563,\n",
       " 1563,\n",
       " 1134,\n",
       " 690,\n",
       " 195,\n",
       " 195,\n",
       " 195,\n",
       " 195,\n",
       " 528,\n",
       " 1680,\n",
       " 294,\n",
       " 729,\n",
       " 729,\n",
       " 729,\n",
       " 588,\n",
       " 273,\n",
       " 1101,\n",
       " 657,\n",
       " 1143,\n",
       " 1704,\n",
       " 933,\n",
       " 321,\n",
       " 729,\n",
       " 483,\n",
       " 528,\n",
       " 1101,\n",
       " 1143,\n",
       " 1704,\n",
       " 933,\n",
       " 321,\n",
       " 192,\n",
       " 564,\n",
       " 729,\n",
       " 729,\n",
       " 897,\n",
       " 237,\n",
       " 681,\n",
       " 681,\n",
       " 972,\n",
       " 273,\n",
       " 273,\n",
       " 1419,\n",
       " 723,\n",
       " 723,\n",
       " 1062,\n",
       " 294,\n",
       " 327,\n",
       " 339,\n",
       " 894,\n",
       " 465,\n",
       " 465,\n",
       " 465,\n",
       " 900,\n",
       " 528,\n",
       " 528,\n",
       " 756,\n",
       " 1185,\n",
       " 1185,\n",
       " 756,\n",
       " 1191,\n",
       " 1305,\n",
       " 76,\n",
       " 1221,\n",
       " 1221,\n",
       " 1101,\n",
       " 1101,\n",
       " 1101,\n",
       " 1482,\n",
       " 465,\n",
       " 465,\n",
       " 1203,\n",
       " 1203,\n",
       " 1143,\n",
       " 1143,\n",
       " 1143,\n",
       " 1704,\n",
       " 1704,\n",
       " 1704,\n",
       " 933,\n",
       " 933,\n",
       " 933,\n",
       " 933,\n",
       " 933,\n",
       " 321,\n",
       " 321,\n",
       " 390,\n",
       " 1143,\n",
       " 1368,\n",
       " 483,\n",
       " 330,\n",
       " 273,\n",
       " 195,\n",
       " 237,\n",
       " 933,\n",
       " 933,\n",
       " 1062,\n",
       " 690,\n",
       " 1098,\n",
       " 273,\n",
       " 690,\n",
       " 1680,\n",
       " 924,\n",
       " 1482,\n",
       " 1368,\n",
       " 483,\n",
       " 933,\n",
       " 933,\n",
       " 273,\n",
       " 273,\n",
       " 690,\n",
       " 924,\n",
       " 76,\n",
       " 642,\n",
       " 1368,\n",
       " 483,\n",
       " 195,\n",
       " 1224,\n",
       " 1062,\n",
       " 1062,\n",
       " 756,\n",
       " 756,\n",
       " 1050,\n",
       " 1050,\n",
       " 1011,\n",
       " 1011,\n",
       " 345,\n",
       " 345,\n",
       " 471,\n",
       " 471,\n",
       " 537,\n",
       " 537,\n",
       " 492,\n",
       " 492,\n",
       " 519,\n",
       " 519,\n",
       " 1926,\n",
       " 1926,\n",
       " 1101,\n",
       " 1101,\n",
       " 1101,\n",
       " 1101,\n",
       " 228,\n",
       " 228,\n",
       " 750,\n",
       " 750,\n",
       " 1239,\n",
       " 1239,\n",
       " 1116,\n",
       " 1116,\n",
       " 1362,\n",
       " 1362,\n",
       " 561,\n",
       " 561,\n",
       " 684,\n",
       " 684,\n",
       " 279,\n",
       " 279,\n",
       " 396,\n",
       " 396,\n",
       " 822,\n",
       " 822,\n",
       " 687,\n",
       " 687,\n",
       " 1386,\n",
       " 1386,\n",
       " 465,\n",
       " 465,\n",
       " 843,\n",
       " 843,\n",
       " 360,\n",
       " 360,\n",
       " 330,\n",
       " 330,\n",
       " 201,\n",
       " 201,\n",
       " 546,\n",
       " 546,\n",
       " 1074,\n",
       " 1074,\n",
       " 465,\n",
       " 465,\n",
       " 930,\n",
       " 930,\n",
       " 228,\n",
       " 228,\n",
       " 1143,\n",
       " 1143,\n",
       " 1143,\n",
       " 1143,\n",
       " 642,\n",
       " 642,\n",
       " 75,\n",
       " 75,\n",
       " 1704,\n",
       " 1704,\n",
       " 1704,\n",
       " 393,\n",
       " 393,\n",
       " 1902,\n",
       " 1902,\n",
       " 780,\n",
       " 780,\n",
       " 933,\n",
       " 933,\n",
       " 933,\n",
       " 933,\n",
       " 933,\n",
       " 168,\n",
       " 168,\n",
       " 294,\n",
       " 294,\n",
       " 426,\n",
       " 426,\n",
       " 201,\n",
       " 201,\n",
       " 285,\n",
       " 285,\n",
       " 1170,\n",
       " 1170,\n",
       " 675,\n",
       " 675,\n",
       " 1284,\n",
       " 1284,\n",
       " 321,\n",
       " 321,\n",
       " 321,\n",
       " 225,\n",
       " 225,\n",
       " 1098,\n",
       " 1098,\n",
       " 2079,\n",
       " 2079,\n",
       " 2163,\n",
       " 2163,\n",
       " 1368,\n",
       " 1368,\n",
       " 507,\n",
       " 507,\n",
       " 2292,\n",
       " 696,\n",
       " 1152,\n",
       " 174,\n",
       " 1062,\n",
       " 237,\n",
       " 273,\n",
       " 1152,\n",
       " 756,\n",
       " 756,\n",
       " 651,\n",
       " 729,\n",
       " 3123,\n",
       " 1152,\n",
       " 1152,\n",
       " 390,\n",
       " 810,\n",
       " 1098,\n",
       " 1152,\n",
       " 1152,\n",
       " 1101,\n",
       " 1101,\n",
       " 2124,\n",
       " 345,\n",
       " 345,\n",
       " 345,\n",
       " 354,\n",
       " 537,\n",
       " 537,\n",
       " 537,\n",
       " 537,\n",
       " 537,\n",
       " 537,\n",
       " 258,\n",
       " 258,\n",
       " 258,\n",
       " 258,\n",
       " 258,\n",
       " 258,\n",
       " 258,\n",
       " 258,\n",
       " 1101,\n",
       " 903,\n",
       " 1194,\n",
       " 561,\n",
       " 561,\n",
       " 561,\n",
       " 561,\n",
       " 561,\n",
       " 561,\n",
       " 684,\n",
       " 684,\n",
       " 684,\n",
       " 684,\n",
       " 684,\n",
       " 684,\n",
       " 684,\n",
       " 684,\n",
       " 684,\n",
       " 684,\n",
       " 684,\n",
       " 684,\n",
       " 246,\n",
       " 246,\n",
       " 246,\n",
       " 1170,\n",
       " 1170,\n",
       " 1170,\n",
       " 1170,\n",
       " 1170,\n",
       " 1170,\n",
       " 1170,\n",
       " 1170,\n",
       " 1170,\n",
       " 360,\n",
       " 360,\n",
       " 657,\n",
       " 681,\n",
       " 681,\n",
       " 681,\n",
       " 681,\n",
       " 1143,\n",
       " 642,\n",
       " 642,\n",
       " 642,\n",
       " 1704,\n",
       " 1704,\n",
       " 372,\n",
       " 933,\n",
       " 933,\n",
       " 933,\n",
       " 321,\n",
       " 321,\n",
       " 1152,\n",
       " 1152,\n",
       " 1152,\n",
       " 1152,\n",
       " 1152,\n",
       " 1152,\n",
       " 1152,\n",
       " 972,\n",
       " 972,\n",
       " 1704,\n",
       " 933,\n",
       " 528,\n",
       " 237,\n",
       " 561,\n",
       " 129,\n",
       " 273,\n",
       " 528,\n",
       " 714,\n",
       " 294,\n",
       " 327,\n",
       " 729,\n",
       " 1470,\n",
       " 237,\n",
       " 933,\n",
       " 933,\n",
       " 180,\n",
       " 180,\n",
       " 180,\n",
       " 180,\n",
       " 180,\n",
       " 273,\n",
       " 195,\n",
       " 1680,\n",
       " 1680,\n",
       " 681,\n",
       " 321,\n",
       " 258,\n",
       " 258,\n",
       " 1101,\n",
       " 561,\n",
       " 360,\n",
       " 657,\n",
       " 1143,\n",
       " 1704,\n",
       " 1704,\n",
       " 933,\n",
       " 321,\n",
       " 1062,\n",
       " 1062,\n",
       " 756,\n",
       " 756,\n",
       " 1197,\n",
       " 1050,\n",
       " 1050,\n",
       " 1011,\n",
       " 1011,\n",
       " 345,\n",
       " 345,\n",
       " 471,\n",
       " 471,\n",
       " 537,\n",
       " 537,\n",
       " 492,\n",
       " 492,\n",
       " 519,\n",
       " 519,\n",
       " 1926,\n",
       " 1926,\n",
       " 1101,\n",
       " 1101,\n",
       " 228,\n",
       " 228,\n",
       " 750,\n",
       " 750,\n",
       " 1239,\n",
       " 1239,\n",
       " 1116,\n",
       " 1116,\n",
       " 1362,\n",
       " 1362,\n",
       " 561,\n",
       " 561,\n",
       " 684,\n",
       " 684,\n",
       " 279,\n",
       " 279,\n",
       " 396,\n",
       " 396,\n",
       " 822,\n",
       " 822,\n",
       " 687,\n",
       " 687,\n",
       " 1386,\n",
       " 1386,\n",
       " 465,\n",
       " 465,\n",
       " 465,\n",
       " 465,\n",
       " 465,\n",
       " 465,\n",
       " 465,\n",
       " 465,\n",
       " 465,\n",
       " 465,\n",
       " 465,\n",
       " 465,\n",
       " 465,\n",
       " 465,\n",
       " 465,\n",
       " 465,\n",
       " 465,\n",
       " 465,\n",
       " 465,\n",
       " 465,\n",
       " 465,\n",
       " 465,\n",
       " 465,\n",
       " 465,\n",
       " 465,\n",
       " 465,\n",
       " 465,\n",
       " 465,\n",
       " 465,\n",
       " 465,\n",
       " 465,\n",
       " 465,\n",
       " 465,\n",
       " 465,\n",
       " 465,\n",
       " 465,\n",
       " 465,\n",
       " 465,\n",
       " 465,\n",
       " 465,\n",
       " 465,\n",
       " 465,\n",
       " 465,\n",
       " 465,\n",
       " 465,\n",
       " 465,\n",
       " 465,\n",
       " 465,\n",
       " 465,\n",
       " 465,\n",
       " 465,\n",
       " 465,\n",
       " 465,\n",
       " 465,\n",
       " 465,\n",
       " 465,\n",
       " 465,\n",
       " 465,\n",
       " 465,\n",
       " 465,\n",
       " 465,\n",
       " 465,\n",
       " 465,\n",
       " 465,\n",
       " 465,\n",
       " 465,\n",
       " 465,\n",
       " 465,\n",
       " 465,\n",
       " 465,\n",
       " 465,\n",
       " 465,\n",
       " 843,\n",
       " 843,\n",
       " 360,\n",
       " 360,\n",
       " 330,\n",
       " 330,\n",
       " 201,\n",
       " 201,\n",
       " 546,\n",
       " 546,\n",
       " 1074,\n",
       " 1074,\n",
       " 465,\n",
       " 465,\n",
       " 930,\n",
       " 930,\n",
       " 228,\n",
       " 228,\n",
       " 1143,\n",
       " 1143,\n",
       " 642,\n",
       " 642,\n",
       " 75,\n",
       " 75,\n",
       " 1704,\n",
       " 1704,\n",
       " 393,\n",
       " 393,\n",
       " 1902,\n",
       " 1902,\n",
       " 780,\n",
       " 780,\n",
       " ...]"
      ]
     },
     "execution_count": 9,
     "metadata": {},
     "output_type": "execute_result"
    }
   ],
   "source": [
    "gene_seq_list = ndm_df['gene_seq'].tolist()\n",
    "gene_seq_len_list = []\n",
    "\n",
    "for gene_name in gene_seq_list:\n",
    "    gene_seq_len_list.append(len(gene_name))\n",
    "    \n",
    "gene_seq_len_list"
   ]
  },
  {
   "cell_type": "code",
   "execution_count": 45,
   "metadata": {},
   "outputs": [
    {
     "data": {
      "text/plain": [
       "Text(0,0.5,'Number of Genes')"
      ]
     },
     "execution_count": 45,
     "metadata": {},
     "output_type": "execute_result"
    },
    {
     "data": {
      "image/png": "[encoded data removed]",
      "text/plain": [
       "<Figure size 432x288 with 1 Axes>"
      ]
     },
     "metadata": {
      "needs_background": "light"
     },
     "output_type": "display_data"
    }
   ],
   "source": [
    "plt.hist(gene_seq_len_list, bins = 100, log = True)\n",
    "plt.xlabel('Gene Binding in NDM')\n",
    "plt.ylabel('Number of Genes')"
   ]
  },
  {
   "cell_type": "markdown",
   "metadata": {},
   "source": [
    "# Preparing data"
   ]
  },
  {
   "cell_type": "code",
   "execution_count": 11,
   "metadata": {
    "scrolled": true
   },
   "outputs": [],
   "source": [
    "ndm_df['target_gene_code'] = ndm_df['gene_seq'] #.apply(lambda x: ''.join(list(x.split('\\n')[1:])))\n",
    "#drugbank['target_amino_code'] = drugbank['target_amino'].apply(lambda x: ''.join(list(x.split('\\n')[1:])))"
   ]
  },
  {
   "cell_type": "code",
   "execution_count": 17,
   "metadata": {},
   "outputs": [],
   "source": [
    "#ndm_df = ndm_df[['cid', 'fingerprint']].drop_duplicates('cid')"
   ]
  },
  {
   "cell_type": "markdown",
   "metadata": {},
   "source": [
    "#### Preprocessing fingerprints to feed to CNN"
   ]
  },
  {
   "cell_type": "code",
   "execution_count": 12,
   "metadata": {},
   "outputs": [
    {
     "data": {
      "application/vnd.jupyter.widget-view+json": {
       "model_id": "c6b7b61b06c24f44abdbb7a546f0939a",
       "version_major": 2,
       "version_minor": 0
      },
      "text/plain": [
       "HBox(children=(FloatProgress(value=0.0, max=31458.0), HTML(value='')))"
      ]
     },
     "metadata": {},
     "output_type": "display_data"
    },
    {
     "name": "stdout",
     "output_type": "stream",
     "text": [
      "\n"
     ]
    },
    {
     "data": {
      "application/vnd.jupyter.widget-view+json": {
       "model_id": "34021728de3e4e7ca72424e0251abdab",
       "version_major": 2,
       "version_minor": 0
      },
      "text/plain": [
       "HBox(children=(FloatProgress(value=0.0, max=31458.0), HTML(value='')))"
      ]
     },
     "metadata": {},
     "output_type": "display_data"
    },
    {
     "name": "stdout",
     "output_type": "stream",
     "text": [
      "\n"
     ]
    }
   ],
   "source": [
    "label_encoder = LabelEncoder()\n",
    "label_encoder = pd.read_pickle('data/gene_encoder.pkl')\n",
    "#label_encoder.fit(list(corona_gene_df['target_gene_code'].iloc[0]))\n",
    "\n",
    "#with open('data/gene_encoder.pkl', 'wb') as f:\n",
    "#    pkl.dump(label_encoder, f)\n",
    "    \n",
    "gene_chars = set(list(ndm_df['target_gene_code'].iloc[0]))\n",
    "\n",
    "ndm_df['target_gene_encoded'] = ndm_df['target_gene_code'].progress_apply(\\\n",
    "                                   lambda x: label_encoder.transform([i for i in list(x) if i in gene_chars]))\n",
    "ndm_df['drug_fingerprint_encoded'] = ndm_df['fingerprint'].progress_apply(lambda x: [int(i) for i in x.replace(' ', '')])"
   ]
  },
  {
   "cell_type": "markdown",
   "metadata": {},
   "source": [
    "#### Calculate length mismatches and pad"
   ]
  },
  {
   "cell_type": "code",
   "execution_count": 15,
   "metadata": {},
   "outputs": [],
   "source": [
    "ndm_df['target_gene_encoded_len'] = ndm_df['target_gene_encoded']\\\n",
    "                                    .apply(lambda x: len(x))\n",
    "ndm_df['drug_fingerprint_encoded_len'] = ndm_df['drug_fingerprint_encoded']\\\n",
    "                                    .apply(lambda x: len(x))"
   ]
  },
  {
   "cell_type": "code",
   "execution_count": 16,
   "metadata": {},
   "outputs": [],
   "source": [
    "max_target_gene_encoded_len = max(ndm_df['target_gene_encoded_len'])\n",
    "max_drug_fingerprint_encoded_len = max(ndm_df['drug_fingerprint_encoded_len'])"
   ]
  },
  {
   "cell_type": "code",
   "execution_count": 17,
   "metadata": {},
   "outputs": [],
   "source": [
    "ndm_df['target_gene_encoded_mismatch'] = max_target_gene_encoded_len - ndm_df['target_gene_encoded_len']"
   ]
  },
  {
   "cell_type": "code",
   "execution_count": 18,
   "metadata": {},
   "outputs": [],
   "source": [
    "ndm_df['drug_fingerprint_encoded_mismatch'] = max_drug_fingerprint_encoded_len - ndm_df['drug_fingerprint_encoded_len'] "
   ]
  },
  {
   "cell_type": "code",
   "execution_count": 19,
   "metadata": {},
   "outputs": [
    {
     "data": {
      "text/plain": [
       "<matplotlib.axes._subplots.AxesSubplot at 0x7f07ac4da860>"
      ]
     },
     "execution_count": 19,
     "metadata": {},
     "output_type": "execute_result"
    },
    {
     "data": {
      "image/png": "[encoded data removed]",
      "text/plain": [
       "<Figure size 720x360 with 1 Axes>"
      ]
     },
     "metadata": {
      "needs_background": "light"
     },
     "output_type": "display_data"
    }
   ],
   "source": [
    "ndm_df['drug_fingerprint_encoded_mismatch'].hist(bins = 100, figsize = (10, 5), log = True)"
   ]
  },
  {
   "cell_type": "code",
   "execution_count": 20,
   "metadata": {},
   "outputs": [
    {
     "data": {
      "text/plain": [
       "<matplotlib.axes._subplots.AxesSubplot at 0x7f07c589b518>"
      ]
     },
     "execution_count": 20,
     "metadata": {},
     "output_type": "execute_result"
    },
    {
     "data": {
      "image/png": "[encoded data removed]",
      "text/plain": [
       "<Figure size 720x360 with 1 Axes>"
      ]
     },
     "metadata": {
      "needs_background": "light"
     },
     "output_type": "display_data"
    }
   ],
   "source": [
    "ndm_df['target_gene_encoded_mismatch'].hist(bins = 100, figsize = (10, 5), log = True)"
   ]
  },
  {
   "cell_type": "code",
   "execution_count": 21,
   "metadata": {},
   "outputs": [
    {
     "data": {
      "text/plain": [
       "4512"
      ]
     },
     "execution_count": 21,
     "metadata": {},
     "output_type": "execute_result"
    }
   ],
   "source": [
    "max_target_gene_encoded_len"
   ]
  },
  {
   "cell_type": "code",
   "execution_count": 22,
   "metadata": {},
   "outputs": [
    {
     "data": {
      "text/plain": [
       "(936,)"
      ]
     },
     "execution_count": 22,
     "metadata": {},
     "output_type": "execute_result"
    }
   ],
   "source": [
    "ndm_df['target_gene_encoded'][0].shape"
   ]
  },
  {
   "cell_type": "code",
   "execution_count": 23,
   "metadata": {},
   "outputs": [
    {
     "data": {
      "application/vnd.jupyter.widget-view+json": {
       "model_id": "8412566634bb4fc8a55d848faced9df2",
       "version_major": 2,
       "version_minor": 0
      },
      "text/plain": [
       "HBox(children=(FloatProgress(value=0.0, max=31458.0), HTML(value='')))"
      ]
     },
     "metadata": {},
     "output_type": "display_data"
    },
    {
     "name": "stdout",
     "output_type": "stream",
     "text": [
      "\n"
     ]
    }
   ],
   "source": [
    "ndm_df['target_gene_encoded_padded'] = ndm_df[['target_gene_encoded','target_gene_encoded_mismatch']]\\\n",
    "                                         .progress_apply(lambda x: ['-1' for i in range(int(x['target_gene_encoded_mismatch']/2))] +   \n",
    "                                                        list(x['target_gene_encoded']) +\n",
    "                                                        ['-1' for i in range (int(x['target_gene_encoded_mismatch']/2))]\n",
    "                                                        , axis = 1)\n",
    "ndm_df['target_gene_encoded_padded'] = ndm_df['target_gene_encoded_padded'].apply(lambda x: x + ['-1'] if len(x) < max_target_gene_encoded_len else x)"
   ]
  },
  {
   "cell_type": "code",
   "execution_count": 24,
   "metadata": {},
   "outputs": [
    {
     "data": {
      "application/vnd.jupyter.widget-view+json": {
       "model_id": "a73ad674ebb54ed2ba15110408119e24",
       "version_major": 2,
       "version_minor": 0
      },
      "text/plain": [
       "HBox(children=(FloatProgress(value=0.0, max=31458.0), HTML(value='')))"
      ]
     },
     "metadata": {},
     "output_type": "display_data"
    },
    {
     "name": "stdout",
     "output_type": "stream",
     "text": [
      "\n"
     ]
    }
   ],
   "source": [
    "ndm_df['drug_fingerprint_encoded_padded'] = ndm_df[['drug_fingerprint_encoded','drug_fingerprint_encoded_mismatch']]\\\n",
    "                                         .progress_apply(lambda x: ['-1' for i in range(int(x['drug_fingerprint_encoded_mismatch']/2))] +   \n",
    "                                                        list(x['drug_fingerprint_encoded']) +\n",
    "                                                        ['-1' for i in range (int(x['drug_fingerprint_encoded_mismatch']/2))]\n",
    "                                                        , axis = 1)\n",
    "\n",
    "ndm_df['drug_fingerprint_encoded_padded'] = ndm_df['drug_fingerprint_encoded_padded'].apply(lambda x: x + ['-1'] if len(x) < max_drug_fingerprint_encoded_len else x)"
   ]
  },
  {
   "cell_type": "code",
   "execution_count": 25,
   "metadata": {},
   "outputs": [],
   "source": [
    "ndm_df.to_csv('data/intermediate/DTC_NDM_Inetracton_Processed.csv')\n",
    "#corona_gene_df.to_csv('data/intermediate/330_corona_genes_preprocessed.csv')"
   ]
  },
  {
   "cell_type": "code",
   "execution_count": 26,
   "metadata": {
    "scrolled": true
   },
   "outputs": [
    {
     "data": {
      "text/html": [
       "<div>\n",
       "<style scoped>\n",
       "    .dataframe tbody tr th:only-of-type {\n",
       "        vertical-align: middle;\n",
       "    }\n",
       "\n",
       "    .dataframe tbody tr th {\n",
       "        vertical-align: top;\n",
       "    }\n",
       "\n",
       "    .dataframe thead th {\n",
       "        text-align: right;\n",
       "    }\n",
       "</style>\n",
       "<table border=\"1\" class=\"dataframe\">\n",
       "  <thead>\n",
       "    <tr style=\"text-align: right;\">\n",
       "      <th></th>\n",
       "      <th>CHEMBL_id</th>\n",
       "      <th>InChi_Key</th>\n",
       "      <th>gene_seq</th>\n",
       "      <th>gene_name</th>\n",
       "      <th>fingerprint</th>\n",
       "      <th>target_gene_code</th>\n",
       "      <th>target_gene_encoded</th>\n",
       "      <th>drug_fingerprint_encoded</th>\n",
       "      <th>target_gene_encoded_len</th>\n",
       "      <th>drug_fingerprint_encoded_len</th>\n",
       "      <th>target_gene_encoded_mismatch</th>\n",
       "      <th>drug_fingerprint_encoded_mismatch</th>\n",
       "      <th>target_gene_encoded_padded</th>\n",
       "      <th>drug_fingerprint_encoded_padded</th>\n",
       "    </tr>\n",
       "  </thead>\n",
       "  <tbody>\n",
       "    <tr>\n",
       "      <th>0</th>\n",
       "      <td>CHEMBL418746</td>\n",
       "      <td>AAKDPDFZMNYDLR-UHFFFAOYSA-N</td>\n",
       "      <td>TTGAGCCTTTTCAGCAAGCTTAAAGAAGGTTTAAATAAGACGCGGC...</td>\n",
       "      <td>GAA</td>\n",
       "      <td>2246728737 3657471097 2092489639 2014255590 29...</td>\n",
       "      <td>TTGAGCCTTTTCAGCAAGCTTAAAGAAGGTTTAAATAAGACGCGGC...</td>\n",
       "      <td>[3, 3, 2, 0, 2, 1, 1, 3, 3, 3, 3, 1, 0, 2, 1, ...</td>\n",
       "      <td>[2, 2, 4, 6, 7, 2, 8, 7, 3, 7, 3, 6, 5, 7, 4, ...</td>\n",
       "      <td>936</td>\n",
       "      <td>231</td>\n",
       "      <td>3576</td>\n",
       "      <td>2091</td>\n",
       "      <td>[-1, -1, -1, -1, -1, -1, -1, -1, -1, -1, -1, -...</td>\n",
       "      <td>[-1, -1, -1, -1, -1, -1, -1, -1, -1, -1, -1, -...</td>\n",
       "    </tr>\n",
       "    <tr>\n",
       "      <th>1</th>\n",
       "      <td>CHEMBL418746</td>\n",
       "      <td>AAKDPDFZMNYDLR-UHFFFAOYSA-N</td>\n",
       "      <td>TTGAGCCTTTTCAGCAAGCTTAAAGAAGGTTTAAATAAGACGCGGC...</td>\n",
       "      <td>GAA</td>\n",
       "      <td>2246728737 3657471097 2092489639 2014255590 29...</td>\n",
       "      <td>TTGAGCCTTTTCAGCAAGCTTAAAGAAGGTTTAAATAAGACGCGGC...</td>\n",
       "      <td>[3, 3, 2, 0, 2, 1, 1, 3, 3, 3, 3, 1, 0, 2, 1, ...</td>\n",
       "      <td>[2, 2, 4, 6, 7, 2, 8, 7, 3, 7, 3, 6, 5, 7, 4, ...</td>\n",
       "      <td>936</td>\n",
       "      <td>231</td>\n",
       "      <td>3576</td>\n",
       "      <td>2091</td>\n",
       "      <td>[-1, -1, -1, -1, -1, -1, -1, -1, -1, -1, -1, -...</td>\n",
       "      <td>[-1, -1, -1, -1, -1, -1, -1, -1, -1, -1, -1, -...</td>\n",
       "    </tr>\n",
       "    <tr>\n",
       "      <th>2</th>\n",
       "      <td>CHEMBL418746</td>\n",
       "      <td>AAKDPDFZMNYDLR-UHFFFAOYSA-N</td>\n",
       "      <td>TTGTTGAAGCATGTGGTTACCCTGATACCGGGTGATGGTACTGGCC...</td>\n",
       "      <td>FUCA1</td>\n",
       "      <td>2246728737 3657471097 2092489639 2014255590 29...</td>\n",
       "      <td>TTGTTGAAGCATGTGGTTACCCTGATACCGGGTGATGGTACTGGCC...</td>\n",
       "      <td>[3, 3, 2, 3, 3, 2, 0, 0, 2, 1, 0, 3, 2, 3, 2, ...</td>\n",
       "      <td>[2, 2, 4, 6, 7, 2, 8, 7, 3, 7, 3, 6, 5, 7, 4, ...</td>\n",
       "      <td>1011</td>\n",
       "      <td>231</td>\n",
       "      <td>3501</td>\n",
       "      <td>2091</td>\n",
       "      <td>[-1, -1, -1, -1, -1, -1, -1, -1, -1, -1, -1, -...</td>\n",
       "      <td>[-1, -1, -1, -1, -1, -1, -1, -1, -1, -1, -1, -...</td>\n",
       "    </tr>\n",
       "    <tr>\n",
       "      <th>3</th>\n",
       "      <td>CHEMBL1484869</td>\n",
       "      <td>AAOFJKLTRKOQTQ-UHFFFAOYSA-N</td>\n",
       "      <td>ATGGATGTAATTAAACAAGCTTTAGAGAGGATGGGCTATGCCGCTG...</td>\n",
       "      <td>CYP3A4</td>\n",
       "      <td>2246728737 422715066 3217380708 3120642300 321...</td>\n",
       "      <td>ATGGATGTAATTAAACAAGCTTTAGAGAGGATGGGCTATGCCGCTG...</td>\n",
       "      <td>[0, 3, 2, 2, 0, 3, 2, 3, 0, 0, 3, 3, 0, 0, 0, ...</td>\n",
       "      <td>[2, 2, 4, 6, 7, 2, 8, 7, 3, 7, 4, 2, 2, 7, 1, ...</td>\n",
       "      <td>933</td>\n",
       "      <td>292</td>\n",
       "      <td>3579</td>\n",
       "      <td>2030</td>\n",
       "      <td>[-1, -1, -1, -1, -1, -1, -1, -1, -1, -1, -1, -...</td>\n",
       "      <td>[-1, -1, -1, -1, -1, -1, -1, -1, -1, -1, -1, -...</td>\n",
       "    </tr>\n",
       "    <tr>\n",
       "      <th>4</th>\n",
       "      <td>CHEMBL1484869</td>\n",
       "      <td>AAOFJKLTRKOQTQ-UHFFFAOYSA-N</td>\n",
       "      <td>ATGGATGTAATTAAACAAGCTTTAGAGAGGATGGGCTATGCCGCTG...</td>\n",
       "      <td>CYP3A4</td>\n",
       "      <td>2246728737 422715066 3217380708 3120642300 321...</td>\n",
       "      <td>ATGGATGTAATTAAACAAGCTTTAGAGAGGATGGGCTATGCCGCTG...</td>\n",
       "      <td>[0, 3, 2, 2, 0, 3, 2, 3, 0, 0, 3, 3, 0, 0, 0, ...</td>\n",
       "      <td>[2, 2, 4, 6, 7, 2, 8, 7, 3, 7, 4, 2, 2, 7, 1, ...</td>\n",
       "      <td>933</td>\n",
       "      <td>292</td>\n",
       "      <td>3579</td>\n",
       "      <td>2030</td>\n",
       "      <td>[-1, -1, -1, -1, -1, -1, -1, -1, -1, -1, -1, -...</td>\n",
       "      <td>[-1, -1, -1, -1, -1, -1, -1, -1, -1, -1, -1, -...</td>\n",
       "    </tr>\n",
       "    <tr>\n",
       "      <th>...</th>\n",
       "      <td>...</td>\n",
       "      <td>...</td>\n",
       "      <td>...</td>\n",
       "      <td>...</td>\n",
       "      <td>...</td>\n",
       "      <td>...</td>\n",
       "      <td>...</td>\n",
       "      <td>...</td>\n",
       "      <td>...</td>\n",
       "      <td>...</td>\n",
       "      <td>...</td>\n",
       "      <td>...</td>\n",
       "      <td>...</td>\n",
       "      <td>...</td>\n",
       "    </tr>\n",
       "    <tr>\n",
       "      <th>31453</th>\n",
       "      <td>CHEMBL186200</td>\n",
       "      <td>NaN</td>\n",
       "      <td>GTGATCTTCCTGGCGAAAACAAAAGAGCGCTTTGTCTGCCAGCAAT...</td>\n",
       "      <td>CA2</td>\n",
       "      <td>848127915 88330248 864942730 2378779377 864942...</td>\n",
       "      <td>GTGATCTTCCTGGCGAAAACAAAAGAGCGCTTTGTCTGCCAGCAAT...</td>\n",
       "      <td>[2, 3, 2, 0, 3, 1, 3, 3, 1, 1, 3, 2, 2, 1, 2, ...</td>\n",
       "      <td>[8, 4, 8, 1, 2, 7, 9, 1, 5, 8, 8, 3, 3, 0, 2, ...</td>\n",
       "      <td>1368</td>\n",
       "      <td>74</td>\n",
       "      <td>3144</td>\n",
       "      <td>2248</td>\n",
       "      <td>[-1, -1, -1, -1, -1, -1, -1, -1, -1, -1, -1, -...</td>\n",
       "      <td>[-1, -1, -1, -1, -1, -1, -1, -1, -1, -1, -1, -...</td>\n",
       "    </tr>\n",
       "    <tr>\n",
       "      <th>31454</th>\n",
       "      <td>CHEMBL1200739</td>\n",
       "      <td>NaN</td>\n",
       "      <td>ATGTTTAAAGTGGGCGATAAAGTAGTGTATCCCATGCACGGGGCGG...</td>\n",
       "      <td>CA1</td>\n",
       "      <td>1026822558</td>\n",
       "      <td>ATGTTTAAAGTGGGCGATAAAGTAGTGTATCCCATGCACGGGGCGG...</td>\n",
       "      <td>[0, 3, 2, 3, 3, 3, 0, 0, 0, 2, 3, 2, 2, 2, 1, ...</td>\n",
       "      <td>[1, 0, 2, 6, 8, 2, 2, 5, 5, 8]</td>\n",
       "      <td>483</td>\n",
       "      <td>10</td>\n",
       "      <td>4029</td>\n",
       "      <td>2312</td>\n",
       "      <td>[-1, -1, -1, -1, -1, -1, -1, -1, -1, -1, -1, -...</td>\n",
       "      <td>[-1, -1, -1, -1, -1, -1, -1, -1, -1, -1, -1, -...</td>\n",
       "    </tr>\n",
       "    <tr>\n",
       "      <th>31455</th>\n",
       "      <td>CHEMBL186200</td>\n",
       "      <td>NaN</td>\n",
       "      <td>ATGTTTAAAGTGGGCGATAAAGTAGTGTATCCCATGCACGGGGCGG...</td>\n",
       "      <td>CA1</td>\n",
       "      <td>848127915 88330248 864942730 2378779377 864942...</td>\n",
       "      <td>ATGTTTAAAGTGGGCGATAAAGTAGTGTATCCCATGCACGGGGCGG...</td>\n",
       "      <td>[0, 3, 2, 3, 3, 3, 0, 0, 0, 2, 3, 2, 2, 2, 1, ...</td>\n",
       "      <td>[8, 4, 8, 1, 2, 7, 9, 1, 5, 8, 8, 3, 3, 0, 2, ...</td>\n",
       "      <td>483</td>\n",
       "      <td>74</td>\n",
       "      <td>4029</td>\n",
       "      <td>2248</td>\n",
       "      <td>[-1, -1, -1, -1, -1, -1, -1, -1, -1, -1, -1, -...</td>\n",
       "      <td>[-1, -1, -1, -1, -1, -1, -1, -1, -1, -1, -1, -...</td>\n",
       "    </tr>\n",
       "    <tr>\n",
       "      <th>31456</th>\n",
       "      <td>CHEMBL186200</td>\n",
       "      <td>NaN</td>\n",
       "      <td>ATGTTTAAAGTGGGCGATAAAGTAGTGTATCCCATGCACGGGGCGG...</td>\n",
       "      <td>CA1</td>\n",
       "      <td>848127915 88330248 864942730 2378779377 864942...</td>\n",
       "      <td>ATGTTTAAAGTGGGCGATAAAGTAGTGTATCCCATGCACGGGGCGG...</td>\n",
       "      <td>[0, 3, 2, 3, 3, 3, 0, 0, 0, 2, 3, 2, 2, 2, 1, ...</td>\n",
       "      <td>[8, 4, 8, 1, 2, 7, 9, 1, 5, 8, 8, 3, 3, 0, 2, ...</td>\n",
       "      <td>483</td>\n",
       "      <td>74</td>\n",
       "      <td>4029</td>\n",
       "      <td>2248</td>\n",
       "      <td>[-1, -1, -1, -1, -1, -1, -1, -1, -1, -1, -1, -...</td>\n",
       "      <td>[-1, -1, -1, -1, -1, -1, -1, -1, -1, -1, -1, -...</td>\n",
       "    </tr>\n",
       "    <tr>\n",
       "      <th>31457</th>\n",
       "      <td>CHEMBL186200</td>\n",
       "      <td>NaN</td>\n",
       "      <td>ATGTTTAAAGTGGGCGATAAAGTAGTGTATCCCATGCACGGGGCGG...</td>\n",
       "      <td>CA1</td>\n",
       "      <td>848127915 88330248 864942730 2378779377 864942...</td>\n",
       "      <td>ATGTTTAAAGTGGGCGATAAAGTAGTGTATCCCATGCACGGGGCGG...</td>\n",
       "      <td>[0, 3, 2, 3, 3, 3, 0, 0, 0, 2, 3, 2, 2, 2, 1, ...</td>\n",
       "      <td>[8, 4, 8, 1, 2, 7, 9, 1, 5, 8, 8, 3, 3, 0, 2, ...</td>\n",
       "      <td>483</td>\n",
       "      <td>74</td>\n",
       "      <td>4029</td>\n",
       "      <td>2248</td>\n",
       "      <td>[-1, -1, -1, -1, -1, -1, -1, -1, -1, -1, -1, -...</td>\n",
       "      <td>[-1, -1, -1, -1, -1, -1, -1, -1, -1, -1, -1, -...</td>\n",
       "    </tr>\n",
       "  </tbody>\n",
       "</table>\n",
       "<p>31458 rows × 14 columns</p>\n",
       "</div>"
      ],
      "text/plain": [
       "           CHEMBL_id                    InChi_Key  \\\n",
       "0       CHEMBL418746  AAKDPDFZMNYDLR-UHFFFAOYSA-N   \n",
       "1       CHEMBL418746  AAKDPDFZMNYDLR-UHFFFAOYSA-N   \n",
       "2       CHEMBL418746  AAKDPDFZMNYDLR-UHFFFAOYSA-N   \n",
       "3      CHEMBL1484869  AAOFJKLTRKOQTQ-UHFFFAOYSA-N   \n",
       "4      CHEMBL1484869  AAOFJKLTRKOQTQ-UHFFFAOYSA-N   \n",
       "...              ...                          ...   \n",
       "31453   CHEMBL186200                          NaN   \n",
       "31454  CHEMBL1200739                          NaN   \n",
       "31455   CHEMBL186200                          NaN   \n",
       "31456   CHEMBL186200                          NaN   \n",
       "31457   CHEMBL186200                          NaN   \n",
       "\n",
       "                                                gene_seq gene_name  \\\n",
       "0      TTGAGCCTTTTCAGCAAGCTTAAAGAAGGTTTAAATAAGACGCGGC...       GAA   \n",
       "1      TTGAGCCTTTTCAGCAAGCTTAAAGAAGGTTTAAATAAGACGCGGC...       GAA   \n",
       "2      TTGTTGAAGCATGTGGTTACCCTGATACCGGGTGATGGTACTGGCC...     FUCA1   \n",
       "3      ATGGATGTAATTAAACAAGCTTTAGAGAGGATGGGCTATGCCGCTG...    CYP3A4   \n",
       "4      ATGGATGTAATTAAACAAGCTTTAGAGAGGATGGGCTATGCCGCTG...    CYP3A4   \n",
       "...                                                  ...       ...   \n",
       "31453  GTGATCTTCCTGGCGAAAACAAAAGAGCGCTTTGTCTGCCAGCAAT...       CA2   \n",
       "31454  ATGTTTAAAGTGGGCGATAAAGTAGTGTATCCCATGCACGGGGCGG...       CA1   \n",
       "31455  ATGTTTAAAGTGGGCGATAAAGTAGTGTATCCCATGCACGGGGCGG...       CA1   \n",
       "31456  ATGTTTAAAGTGGGCGATAAAGTAGTGTATCCCATGCACGGGGCGG...       CA1   \n",
       "31457  ATGTTTAAAGTGGGCGATAAAGTAGTGTATCCCATGCACGGGGCGG...       CA1   \n",
       "\n",
       "                                             fingerprint  \\\n",
       "0      2246728737 3657471097 2092489639 2014255590 29...   \n",
       "1      2246728737 3657471097 2092489639 2014255590 29...   \n",
       "2      2246728737 3657471097 2092489639 2014255590 29...   \n",
       "3      2246728737 422715066 3217380708 3120642300 321...   \n",
       "4      2246728737 422715066 3217380708 3120642300 321...   \n",
       "...                                                  ...   \n",
       "31453  848127915 88330248 864942730 2378779377 864942...   \n",
       "31454                                         1026822558   \n",
       "31455  848127915 88330248 864942730 2378779377 864942...   \n",
       "31456  848127915 88330248 864942730 2378779377 864942...   \n",
       "31457  848127915 88330248 864942730 2378779377 864942...   \n",
       "\n",
       "                                        target_gene_code  \\\n",
       "0      TTGAGCCTTTTCAGCAAGCTTAAAGAAGGTTTAAATAAGACGCGGC...   \n",
       "1      TTGAGCCTTTTCAGCAAGCTTAAAGAAGGTTTAAATAAGACGCGGC...   \n",
       "2      TTGTTGAAGCATGTGGTTACCCTGATACCGGGTGATGGTACTGGCC...   \n",
       "3      ATGGATGTAATTAAACAAGCTTTAGAGAGGATGGGCTATGCCGCTG...   \n",
       "4      ATGGATGTAATTAAACAAGCTTTAGAGAGGATGGGCTATGCCGCTG...   \n",
       "...                                                  ...   \n",
       "31453  GTGATCTTCCTGGCGAAAACAAAAGAGCGCTTTGTCTGCCAGCAAT...   \n",
       "31454  ATGTTTAAAGTGGGCGATAAAGTAGTGTATCCCATGCACGGGGCGG...   \n",
       "31455  ATGTTTAAAGTGGGCGATAAAGTAGTGTATCCCATGCACGGGGCGG...   \n",
       "31456  ATGTTTAAAGTGGGCGATAAAGTAGTGTATCCCATGCACGGGGCGG...   \n",
       "31457  ATGTTTAAAGTGGGCGATAAAGTAGTGTATCCCATGCACGGGGCGG...   \n",
       "\n",
       "                                     target_gene_encoded  \\\n",
       "0      [3, 3, 2, 0, 2, 1, 1, 3, 3, 3, 3, 1, 0, 2, 1, ...   \n",
       "1      [3, 3, 2, 0, 2, 1, 1, 3, 3, 3, 3, 1, 0, 2, 1, ...   \n",
       "2      [3, 3, 2, 3, 3, 2, 0, 0, 2, 1, 0, 3, 2, 3, 2, ...   \n",
       "3      [0, 3, 2, 2, 0, 3, 2, 3, 0, 0, 3, 3, 0, 0, 0, ...   \n",
       "4      [0, 3, 2, 2, 0, 3, 2, 3, 0, 0, 3, 3, 0, 0, 0, ...   \n",
       "...                                                  ...   \n",
       "31453  [2, 3, 2, 0, 3, 1, 3, 3, 1, 1, 3, 2, 2, 1, 2, ...   \n",
       "31454  [0, 3, 2, 3, 3, 3, 0, 0, 0, 2, 3, 2, 2, 2, 1, ...   \n",
       "31455  [0, 3, 2, 3, 3, 3, 0, 0, 0, 2, 3, 2, 2, 2, 1, ...   \n",
       "31456  [0, 3, 2, 3, 3, 3, 0, 0, 0, 2, 3, 2, 2, 2, 1, ...   \n",
       "31457  [0, 3, 2, 3, 3, 3, 0, 0, 0, 2, 3, 2, 2, 2, 1, ...   \n",
       "\n",
       "                                drug_fingerprint_encoded  \\\n",
       "0      [2, 2, 4, 6, 7, 2, 8, 7, 3, 7, 3, 6, 5, 7, 4, ...   \n",
       "1      [2, 2, 4, 6, 7, 2, 8, 7, 3, 7, 3, 6, 5, 7, 4, ...   \n",
       "2      [2, 2, 4, 6, 7, 2, 8, 7, 3, 7, 3, 6, 5, 7, 4, ...   \n",
       "3      [2, 2, 4, 6, 7, 2, 8, 7, 3, 7, 4, 2, 2, 7, 1, ...   \n",
       "4      [2, 2, 4, 6, 7, 2, 8, 7, 3, 7, 4, 2, 2, 7, 1, ...   \n",
       "...                                                  ...   \n",
       "31453  [8, 4, 8, 1, 2, 7, 9, 1, 5, 8, 8, 3, 3, 0, 2, ...   \n",
       "31454                     [1, 0, 2, 6, 8, 2, 2, 5, 5, 8]   \n",
       "31455  [8, 4, 8, 1, 2, 7, 9, 1, 5, 8, 8, 3, 3, 0, 2, ...   \n",
       "31456  [8, 4, 8, 1, 2, 7, 9, 1, 5, 8, 8, 3, 3, 0, 2, ...   \n",
       "31457  [8, 4, 8, 1, 2, 7, 9, 1, 5, 8, 8, 3, 3, 0, 2, ...   \n",
       "\n",
       "       target_gene_encoded_len  drug_fingerprint_encoded_len  \\\n",
       "0                          936                           231   \n",
       "1                          936                           231   \n",
       "2                         1011                           231   \n",
       "3                          933                           292   \n",
       "4                          933                           292   \n",
       "...                        ...                           ...   \n",
       "31453                     1368                            74   \n",
       "31454                      483                            10   \n",
       "31455                      483                            74   \n",
       "31456                      483                            74   \n",
       "31457                      483                            74   \n",
       "\n",
       "       target_gene_encoded_mismatch  drug_fingerprint_encoded_mismatch  \\\n",
       "0                              3576                               2091   \n",
       "1                              3576                               2091   \n",
       "2                              3501                               2091   \n",
       "3                              3579                               2030   \n",
       "4                              3579                               2030   \n",
       "...                             ...                                ...   \n",
       "31453                          3144                               2248   \n",
       "31454                          4029                               2312   \n",
       "31455                          4029                               2248   \n",
       "31456                          4029                               2248   \n",
       "31457                          4029                               2248   \n",
       "\n",
       "                              target_gene_encoded_padded  \\\n",
       "0      [-1, -1, -1, -1, -1, -1, -1, -1, -1, -1, -1, -...   \n",
       "1      [-1, -1, -1, -1, -1, -1, -1, -1, -1, -1, -1, -...   \n",
       "2      [-1, -1, -1, -1, -1, -1, -1, -1, -1, -1, -1, -...   \n",
       "3      [-1, -1, -1, -1, -1, -1, -1, -1, -1, -1, -1, -...   \n",
       "4      [-1, -1, -1, -1, -1, -1, -1, -1, -1, -1, -1, -...   \n",
       "...                                                  ...   \n",
       "31453  [-1, -1, -1, -1, -1, -1, -1, -1, -1, -1, -1, -...   \n",
       "31454  [-1, -1, -1, -1, -1, -1, -1, -1, -1, -1, -1, -...   \n",
       "31455  [-1, -1, -1, -1, -1, -1, -1, -1, -1, -1, -1, -...   \n",
       "31456  [-1, -1, -1, -1, -1, -1, -1, -1, -1, -1, -1, -...   \n",
       "31457  [-1, -1, -1, -1, -1, -1, -1, -1, -1, -1, -1, -...   \n",
       "\n",
       "                         drug_fingerprint_encoded_padded  \n",
       "0      [-1, -1, -1, -1, -1, -1, -1, -1, -1, -1, -1, -...  \n",
       "1      [-1, -1, -1, -1, -1, -1, -1, -1, -1, -1, -1, -...  \n",
       "2      [-1, -1, -1, -1, -1, -1, -1, -1, -1, -1, -1, -...  \n",
       "3      [-1, -1, -1, -1, -1, -1, -1, -1, -1, -1, -1, -...  \n",
       "4      [-1, -1, -1, -1, -1, -1, -1, -1, -1, -1, -1, -...  \n",
       "...                                                  ...  \n",
       "31453  [-1, -1, -1, -1, -1, -1, -1, -1, -1, -1, -1, -...  \n",
       "31454  [-1, -1, -1, -1, -1, -1, -1, -1, -1, -1, -1, -...  \n",
       "31455  [-1, -1, -1, -1, -1, -1, -1, -1, -1, -1, -1, -...  \n",
       "31456  [-1, -1, -1, -1, -1, -1, -1, -1, -1, -1, -1, -...  \n",
       "31457  [-1, -1, -1, -1, -1, -1, -1, -1, -1, -1, -1, -...  \n",
       "\n",
       "[31458 rows x 14 columns]"
      ]
     },
     "execution_count": 26,
     "metadata": {},
     "output_type": "execute_result"
    }
   ],
   "source": [
    "ndm_df"
   ]
  },
  {
   "cell_type": "markdown",
   "metadata": {},
   "source": [
    "## Prediction"
   ]
  },
  {
   "cell_type": "code",
   "execution_count": 27,
   "metadata": {},
   "outputs": [],
   "source": [
    "X_0 = np.array(ndm_df['target_gene_encoded_padded'].tolist())\n",
    "X_1 = np.array(ndm_df['drug_fingerprint_encoded_padded'].tolist())"
   ]
  },
  {
   "cell_type": "code",
   "execution_count": 28,
   "metadata": {},
   "outputs": [
    {
     "data": {
      "text/plain": [
       "((31458, 4512), (31458, 2322))"
      ]
     },
     "execution_count": 28,
     "metadata": {},
     "output_type": "execute_result"
    }
   ],
   "source": [
    "X_0.shape,X_1.shape"
   ]
  },
  {
   "cell_type": "code",
   "execution_count": 72,
   "metadata": {},
   "outputs": [
    {
     "data": {
      "text/plain": [
       "<BarContainer object of 4512 artists>"
      ]
     },
     "execution_count": 72,
     "metadata": {},
     "output_type": "execute_result"
    },
    {
     "data": {
      "image/png": "[encoded data removed]",
      "text/plain": [
       "<Figure size 432x288 with 1 Axes>"
      ]
     },
     "metadata": {
      "needs_background": "light"
     },
     "output_type": "display_data"
    }
   ],
   "source": [
    "plt.bar(list(range(X_0.shape[1])), X_0.sum(axis = 0))"
   ]
  },
  {
   "cell_type": "code",
   "execution_count": 31,
   "metadata": {},
   "outputs": [],
   "source": [
    "#X_0_subset_smaller = X_0[:50,:30000]\n",
    "#X_1_subset = X_1[:5000,:]"
   ]
  },
  {
   "cell_type": "code",
   "execution_count": 29,
   "metadata": {
    "scrolled": true
   },
   "outputs": [],
   "source": [
    "X_0 = np.vectorize(lambda x: int(x))(X_0)\n",
    "#X_0_subset_smaller = np.vectorize(lambda x: int(x))(X_0_subset_smaller)\n",
    "X_1 = np.vectorize(lambda x: int(x))(X_1)\n",
    "#X_1_subset = np.vectorize(lambda x: int(x))(X_1_subset)"
   ]
  },
  {
   "cell_type": "code",
   "execution_count": 81,
   "metadata": {},
   "outputs": [
    {
     "data": {
      "text/plain": [
       "(31458, 6834)"
      ]
     },
     "execution_count": 81,
     "metadata": {},
     "output_type": "execute_result"
    }
   ],
   "source": [
    "np.hstack((X_0[:,:], X_1[:,:])).shape"
   ]
  },
  {
   "cell_type": "code",
   "execution_count": 95,
   "metadata": {},
   "outputs": [],
   "source": [
    "def generate_pairs(X_0, X_1, target_length):\n",
    "    X = np.zeros((X_0.shape[0], target_length)) #X_0.shape[1] + X_1.shape[1]))\n",
    "    for i in tqdm(range(X_0.shape[0])):\n",
    "        \n",
    "        mismatch = target_length - (X_0.shape[1] + X_1.shape[1])\n",
    "        \n",
    "        #print(int(target_length/2) - int(mismatch/2) - (int(target_length/2) + int(mismatch/2)))\n",
    "        \n",
    "        X[int(i), int(target_length/2) - int((X_0.shape[1] + X_1.shape[1])/2) :\\\n",
    "                        int(target_length/2) + int((X_0.shape[1] + X_1.shape[1])/2)] \\\n",
    "                            = np.hstack((X_0[i,:], X_1[i,:])) + 1\n",
    "        \n",
    "    return X"
   ]
  },
  {
   "cell_type": "code",
   "execution_count": 96,
   "metadata": {},
   "outputs": [],
   "source": [
    "target_length = 30723"
   ]
  },
  {
   "cell_type": "code",
   "execution_count": 97,
   "metadata": {},
   "outputs": [
    {
     "data": {
      "application/vnd.jupyter.widget-view+json": {
       "model_id": "c6341f523b2b4ff0b2bdf538922aaab1",
       "version_major": 2,
       "version_minor": 0
      },
      "text/plain": [
       "HBox(children=(FloatProgress(value=0.0, max=31458.0), HTML(value='')))"
      ]
     },
     "metadata": {},
     "output_type": "display_data"
    },
    {
     "name": "stdout",
     "output_type": "stream",
     "text": [
      "\n"
     ]
    }
   ],
   "source": [
    "X = generate_pairs(X_0, X_1, target_length = target_length)"
   ]
  },
  {
   "cell_type": "code",
   "execution_count": 48,
   "metadata": {},
   "outputs": [],
   "source": [
    "#Middle out trimming\n",
    "#target_length = 30723\n",
    "X = X[:, (int(X.shape[1]/2) - int(target_length/2)):(int(X.shape[1]/2) + int(target_length/2)) + 1]"
   ]
  },
  {
   "cell_type": "code",
   "execution_count": 37,
   "metadata": {},
   "outputs": [],
   "source": [
    "#Side trimmming\n",
    "#target_length = 30723\n",
    "#X = X[:, :target_length]"
   ]
  },
  {
   "cell_type": "code",
   "execution_count": 49,
   "metadata": {},
   "outputs": [
    {
     "data": {
      "text/plain": [
       "(31458, 30723)"
      ]
     },
     "execution_count": 49,
     "metadata": {},
     "output_type": "execute_result"
    }
   ],
   "source": [
    "X.shape"
   ]
  },
  {
   "cell_type": "code",
   "execution_count": 98,
   "metadata": {},
   "outputs": [
    {
     "data": {
      "text/plain": [
       "<BarContainer object of 30723 artists>"
      ]
     },
     "execution_count": 98,
     "metadata": {},
     "output_type": "execute_result"
    },
    {
     "data": {
      "image/png": "[encoded data removed]",
      "text/plain": [
       "<Figure size 432x288 with 1 Axes>"
      ]
     },
     "metadata": {
      "needs_background": "light"
     },
     "output_type": "display_data"
    }
   ],
   "source": [
    "plt.bar(list(range(X.shape[1])), X.sum(axis = 0))"
   ]
  },
  {
   "cell_type": "code",
   "execution_count": 58,
   "metadata": {},
   "outputs": [
    {
     "data": {
      "text/plain": [
       "(array([29017.,   438.,   403.,   331.,   216.,    54.,    38.,    48.,\n",
       "           98.,    80.]),\n",
       " array([     0. ,  18684.3,  37368.6,  56052.9,  74737.2,  93421.5,\n",
       "        112105.8, 130790.1, 149474.4, 168158.7, 186843. ]),\n",
       " <a list of 10 Patch objects>)"
      ]
     },
     "execution_count": 58,
     "metadata": {},
     "output_type": "execute_result"
    },
    {
     "data": {
      "image/png": "[encoded data removed]",
      "text/plain": [
       "<Figure size 432x288 with 1 Axes>"
      ]
     },
     "metadata": {
      "needs_background": "light"
     },
     "output_type": "display_data"
    }
   ],
   "source": [
    "plt.hist(X.sum(axis = 0))"
   ]
  },
  {
   "cell_type": "code",
   "execution_count": 102,
   "metadata": {},
   "outputs": [],
   "source": [
    "from tensorflow import keras\n",
    "\n",
    "use_model = keras.models.load_model('models/CNN_GPU_VGG_rebalance.model')"
   ]
  },
  {
   "cell_type": "code",
   "execution_count": 103,
   "metadata": {},
   "outputs": [
    {
     "data": {
      "text/plain": [
       "array([[0.2848369],\n",
       "       [0.2848369],\n",
       "       [0.2848369]], dtype=float32)"
      ]
     },
     "execution_count": 103,
     "metadata": {},
     "output_type": "execute_result"
    }
   ],
   "source": [
    "Y"
   ]
  },
  {
   "cell_type": "code",
   "execution_count": 104,
   "metadata": {},
   "outputs": [],
   "source": [
    "# use_model = keras.models.load_model('models/CNN_GPU_VGG_87p.model')"
   ]
  },
  {
   "cell_type": "code",
   "execution_count": 105,
   "metadata": {},
   "outputs": [],
   "source": [
    "#Y = use_model.predict(X[..., np.newaxis])"
   ]
  },
  {
   "cell_type": "code",
   "execution_count": 126,
   "metadata": {},
   "outputs": [
    {
     "data": {
      "application/vnd.jupyter.widget-view+json": {
       "model_id": "8d4ce5b2c4fa42378dbd46c05f25ee4e",
       "version_major": 2,
       "version_minor": 0
      },
      "text/plain": [
       "HBox(children=(FloatProgress(value=0.0, max=10000.0), HTML(value='')))"
      ]
     },
     "metadata": {},
     "output_type": "display_data"
    },
    {
     "name": "stdout",
     "output_type": "stream",
     "text": [
      "\n"
     ]
    }
   ],
   "source": [
    "Y = []\n",
    "\n",
    "for X_sub in tqdm(np.array_split(X,10000)): \n",
    "    \n",
    "    #print(X_sub.shape)\n",
    "    Y.extend(use_model.predict(X_sub[..., np.newaxis]))"
   ]
  },
  {
   "cell_type": "code",
   "execution_count": 129,
   "metadata": {},
   "outputs": [],
   "source": [
    "Y = np.array(Y).ravel()"
   ]
  },
  {
   "cell_type": "code",
   "execution_count": 134,
   "metadata": {},
   "outputs": [
    {
     "data": {
      "text/plain": [
       "(31458,)"
      ]
     },
     "execution_count": 134,
     "metadata": {},
     "output_type": "execute_result"
    }
   ],
   "source": [
    "Y.shape"
   ]
  },
  {
   "cell_type": "code",
   "execution_count": 131,
   "metadata": {},
   "outputs": [
    {
     "data": {
      "text/plain": [
       "Text(0,0.5,'Number of Pairs')"
      ]
     },
     "execution_count": 131,
     "metadata": {},
     "output_type": "execute_result"
    },
    {
     "data": {
      "image/png": "[encoded data removed]",
      "text/plain": [
       "<Figure size 432x288 with 1 Axes>"
      ]
     },
     "metadata": {
      "needs_background": "light"
     },
     "output_type": "display_data"
    }
   ],
   "source": [
    "plt.hist(Y, bins = 100, log = True)\n",
    "plt.xlabel('Predicted Score of Binding')\n",
    "plt.ylabel('Number of Pairs')"
   ]
  },
  {
   "cell_type": "code",
   "execution_count": 135,
   "metadata": {},
   "outputs": [
    {
     "data": {
      "text/plain": [
       "0.1621527115519105"
      ]
     },
     "execution_count": 135,
     "metadata": {},
     "output_type": "execute_result"
    }
   ],
   "source": [
    "len(np.where(Y > 0.5)[0])/len(Y)"
   ]
  },
  {
   "cell_type": "code",
   "execution_count": 132,
   "metadata": {},
   "outputs": [
    {
     "data": {
      "text/plain": [
       "(array([    7,     8,    32, ..., 30997, 31027, 31028]),)"
      ]
     },
     "execution_count": 132,
     "metadata": {},
     "output_type": "execute_result"
    }
   ],
   "source": [
    "np.where(Y > 0.8)"
   ]
  },
  {
   "cell_type": "code",
   "execution_count": 136,
   "metadata": {},
   "outputs": [],
   "source": [
    "ndm_df['Y_pred'] = Y"
   ]
  },
  {
   "cell_type": "code",
   "execution_count": 137,
   "metadata": {},
   "outputs": [
    {
     "data": {
      "text/plain": [
       "<matplotlib.axes._subplots.AxesSubplot at 0x7f068162c518>"
      ]
     },
     "execution_count": 137,
     "metadata": {},
     "output_type": "execute_result"
    },
    {
     "data": {
      "image/png": "[encoded data removed]",
      "text/plain": [
       "<Figure size 432x288 with 1 Axes>"
      ]
     },
     "metadata": {
      "needs_background": "light"
     },
     "output_type": "display_data"
    }
   ],
   "source": [
    "ndm_df['Y_pred'].hist()"
   ]
  },
  {
   "cell_type": "code",
   "execution_count": 149,
   "metadata": {},
   "outputs": [
    {
     "data": {
      "text/plain": [
       "<matplotlib.axes._subplots.AxesSubplot at 0x7f06813889b0>"
      ]
     },
     "execution_count": 149,
     "metadata": {},
     "output_type": "execute_result"
    },
    {
     "data": {
      "image/png": "[encoded data removed]",
      "text/plain": [
       "<Figure size 432x288 with 1 Axes>"
      ]
     },
     "metadata": {
      "needs_background": "light"
     },
     "output_type": "display_data"
    }
   ],
   "source": [
    "ndm_df.sort_values('Y_pred', ascending = False).iloc[:100]['Y_pred'].hist()"
   ]
  },
  {
   "cell_type": "code",
   "execution_count": 153,
   "metadata": {},
   "outputs": [
    {
     "data": {
      "text/html": [
       "<div>\n",
       "<style scoped>\n",
       "    .dataframe tbody tr th:only-of-type {\n",
       "        vertical-align: middle;\n",
       "    }\n",
       "\n",
       "    .dataframe tbody tr th {\n",
       "        vertical-align: top;\n",
       "    }\n",
       "\n",
       "    .dataframe thead th {\n",
       "        text-align: right;\n",
       "    }\n",
       "</style>\n",
       "<table border=\"1\" class=\"dataframe\">\n",
       "  <thead>\n",
       "    <tr style=\"text-align: right;\">\n",
       "      <th></th>\n",
       "      <th>CHEMBL_id</th>\n",
       "      <th>gene_name</th>\n",
       "      <th>Y_pred</th>\n",
       "    </tr>\n",
       "  </thead>\n",
       "  <tbody>\n",
       "    <tr>\n",
       "      <th>7453</th>\n",
       "      <td>CHEMBL41342</td>\n",
       "      <td>FDPS</td>\n",
       "      <td>1.000000</td>\n",
       "    </tr>\n",
       "    <tr>\n",
       "      <th>18586</th>\n",
       "      <td>CHEMBL1490403</td>\n",
       "      <td>ATM</td>\n",
       "      <td>1.000000</td>\n",
       "    </tr>\n",
       "    <tr>\n",
       "      <th>7452</th>\n",
       "      <td>CHEMBL41342</td>\n",
       "      <td>FDPS</td>\n",
       "      <td>1.000000</td>\n",
       "    </tr>\n",
       "    <tr>\n",
       "      <th>1594</th>\n",
       "      <td>CHEMBL9019</td>\n",
       "      <td>AR</td>\n",
       "      <td>1.000000</td>\n",
       "    </tr>\n",
       "    <tr>\n",
       "      <th>8456</th>\n",
       "      <td>CHEMBL189362</td>\n",
       "      <td>AR</td>\n",
       "      <td>0.999999</td>\n",
       "    </tr>\n",
       "    <tr>\n",
       "      <th>...</th>\n",
       "      <td>...</td>\n",
       "      <td>...</td>\n",
       "      <td>...</td>\n",
       "    </tr>\n",
       "    <tr>\n",
       "      <th>20638</th>\n",
       "      <td>CHEMBL117</td>\n",
       "      <td>ALDH2</td>\n",
       "      <td>0.991960</td>\n",
       "    </tr>\n",
       "    <tr>\n",
       "      <th>20637</th>\n",
       "      <td>CHEMBL117</td>\n",
       "      <td>ALDH2</td>\n",
       "      <td>0.991960</td>\n",
       "    </tr>\n",
       "    <tr>\n",
       "      <th>20634</th>\n",
       "      <td>CHEMBL117</td>\n",
       "      <td>ALDH2</td>\n",
       "      <td>0.991960</td>\n",
       "    </tr>\n",
       "    <tr>\n",
       "      <th>20636</th>\n",
       "      <td>CHEMBL117</td>\n",
       "      <td>ALDH2</td>\n",
       "      <td>0.991960</td>\n",
       "    </tr>\n",
       "    <tr>\n",
       "      <th>13676</th>\n",
       "      <td>CHEMBL1393</td>\n",
       "      <td>CYP2E1</td>\n",
       "      <td>0.991920</td>\n",
       "    </tr>\n",
       "  </tbody>\n",
       "</table>\n",
       "<p>100 rows × 3 columns</p>\n",
       "</div>"
      ],
      "text/plain": [
       "           CHEMBL_id gene_name    Y_pred\n",
       "7453     CHEMBL41342      FDPS  1.000000\n",
       "18586  CHEMBL1490403       ATM  1.000000\n",
       "7452     CHEMBL41342      FDPS  1.000000\n",
       "1594      CHEMBL9019        AR  1.000000\n",
       "8456    CHEMBL189362        AR  0.999999\n",
       "...              ...       ...       ...\n",
       "20638      CHEMBL117     ALDH2  0.991960\n",
       "20637      CHEMBL117     ALDH2  0.991960\n",
       "20634      CHEMBL117     ALDH2  0.991960\n",
       "20636      CHEMBL117     ALDH2  0.991960\n",
       "13676     CHEMBL1393    CYP2E1  0.991920\n",
       "\n",
       "[100 rows x 3 columns]"
      ]
     },
     "execution_count": 153,
     "metadata": {},
     "output_type": "execute_result"
    }
   ],
   "source": [
    "ndm_df.sort_values('Y_pred', ascending = False).iloc[:100].groupby('CHEMBL_id').apply(lambda x: x[['CHEMBL_id', 'gene_name', 'Y_pred']])"
   ]
  },
  {
   "cell_type": "code",
   "execution_count": 158,
   "metadata": {
    "scrolled": true
   },
   "outputs": [],
   "source": [
    "ndm_df.to_pickle('data/NDM_DTC_Predicted_Scores.pkl')"
   ]
  }
 ],
 "metadata": {
  "kernelspec": {
   "display_name": "Python 3",
   "language": "python",
   "name": "python3"
  },
  "language_info": {
   "codemirror_mode": {
    "name": "ipython",
    "version": 3
   },
   "file_extension": ".py",
   "mimetype": "text/x-python",
   "name": "python",
   "nbconvert_exporter": "python",
   "pygments_lexer": "ipython3",
   "version": "3.6.6"
  }
 },
 "nbformat": 4,
 "nbformat_minor": 2
}
