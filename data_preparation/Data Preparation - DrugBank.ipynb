{
 "cells": [
  {
   "cell_type": "code",
   "execution_count": 134,
   "metadata": {
    "scrolled": true
   },
   "outputs": [
    {
     "data": {
      "text/plain": [
       "<module 'tensorflow' from '/miniconda/lib/python3.6/site-packages/tensorflow/__init__.py'>"
      ]
     },
     "execution_count": 134,
     "metadata": {},
     "output_type": "execute_result"
    }
   ],
   "source": [
    "import pickle as pkl\n",
    "\n",
    "import lxml\n",
    "import pandas as pd\n",
    "import numpy as np\n",
    "#import seaborn as sns\n",
    "import matplotlib.pyplot as plt\n",
    "import tensorflow.keras\n",
    "from tensorflow.keras.datasets import imdb\n",
    "\n",
    "\n",
    "from tqdm.notebook import tqdm\n",
    "\n",
    "from sklearn.metrics import confusion_matrix\n",
    "from sklearn.utils.multiclass import unique_labels\n",
    "from sklearn.metrics import f1_score\n",
    "\n",
    "from sklearn.model_selection import train_test_split\n",
    "\n",
    "from sklearn.preprocessing import LabelEncoder, OneHotEncoder\n",
    "from ast import literal_eval\n",
    "from sklearn.model_selection import train_test_split\n",
    "from sklearn.linear_model import LogisticRegression\n",
    "from sklearn.metrics import confusion_matrix, f1_score, classification_report\n",
    "from tensorflow.keras.models import Sequential, Model\n",
    "from tensorflow.keras.layers import Input, Dense, Activation, Dropout, Conv1D, Flatten, MaxPooling1D,\\\n",
    "                        AveragePooling1D, Concatenate, LeakyReLU, Embedding,\\\n",
    "                        GlobalMaxPooling1D,GlobalAveragePooling1D,GaussianNoise,BatchNormalization,Add\n",
    "from tensorflow.keras.initializers import glorot_uniform\n",
    "#from tensorflow.keras.utils.vis_utils import plot_model\n",
    "\n",
    "import importlib\n",
    "importlib.reload(tensorflow)"
   ]
  },
  {
   "cell_type": "code",
   "execution_count": 121,
   "metadata": {},
   "outputs": [],
   "source": [
    "def plot_confusion_matrix(y_true, y_pred, classes,\n",
    "                          normalize=False,\n",
    "                          title=None,\n",
    "                          cmap=plt.cm.Blues):\n",
    "    \"\"\"\n",
    "    This function prints and plots the confusion matrix.\n",
    "    Normalization can be applied by setting `normalize=True`.\n",
    "    \n",
    "    NOTE: Taken from sklearn example\n",
    "    \"\"\"\n",
    "    if not title:\n",
    "        if normalize:\n",
    "            title = 'Normalized confusion matrix'\n",
    "        else:\n",
    "            title = 'Confusion matrix, without normalization'\n",
    "\n",
    "    # Compute confusion matrix\n",
    "    cm = confusion_matrix(y_true, y_pred)\n",
    "    # Only use the labels that appear in the data\n",
    "    classes = [0,1]\n",
    "    if normalize:\n",
    "        cm = cm.astype('float') / cm.sum(axis=1)[:, np.newaxis]\n",
    "        print(\"Normalized confusion matrix\")\n",
    "    else:\n",
    "        print('Confusion matrix, without normalization')\n",
    "\n",
    "    print(cm)\n",
    "\n",
    "    fig, ax = plt.subplots()\n",
    "    \n",
    "    #ax.figsize((10, 10))\n",
    "    im = ax.imshow(cm, interpolation='nearest', cmap=cmap)\n",
    "    ax.figure.colorbar(im, ax=ax)\n",
    "    # We want to show all ticks...\n",
    "    ax.set(xticks=np.arange(cm.shape[1]),\n",
    "           yticks=np.arange(cm.shape[0]),\n",
    "           # ... and label them with the respective list entries\n",
    "           xticklabels=classes, yticklabels=classes,\n",
    "           title=title,\n",
    "           ylabel='True label',\n",
    "           xlabel='Predicted label')\n",
    "\n",
    "    # Rotate the tick labels and set their alignment.\n",
    "    plt.setp(ax.get_xticklabels(), rotation=45, ha=\"right\",\n",
    "             rotation_mode=\"anchor\")\n",
    "\n",
    "    # Loop over data dimensions and create text annotations.\n",
    "    fmt = '.2f' if normalize else 'd'\n",
    "    thresh = cm.max() / 2.\n",
    "    for i in range(cm.shape[0]):\n",
    "        for j in range(cm.shape[1]):\n",
    "            ax.text(j, i, format(cm[i, j], fmt),\n",
    "                    ha=\"center\", va=\"center\",\n",
    "                    color=\"white\" if cm[i, j] > thresh else \"black\")\n",
    "    fig.tight_layout()\n",
    "    return ax"
   ]
  },
  {
   "cell_type": "code",
   "execution_count": 36,
   "metadata": {},
   "outputs": [],
   "source": [
    "tqdm.pandas()"
   ]
  },
  {
   "cell_type": "code",
   "execution_count": 37,
   "metadata": {},
   "outputs": [],
   "source": [
    "import tensorflow as tf\n",
    "with tf.Session() as sess:\n",
    "    devices = sess.list_devices()"
   ]
  },
  {
   "cell_type": "code",
   "execution_count": 4,
   "metadata": {},
   "outputs": [],
   "source": [
    "import sys"
   ]
  },
  {
   "cell_type": "code",
   "execution_count": null,
   "metadata": {},
   "outputs": [],
   "source": [
    "!{sys.executable} -m list"
   ]
  },
  {
   "cell_type": "markdown",
   "metadata": {},
   "source": [
    "### Get postive samples"
   ]
  },
  {
   "cell_type": "code",
   "execution_count": 38,
   "metadata": {
    "scrolled": true
   },
   "outputs": [],
   "source": [
    "drugbank = pkl.load(open('data/drugbank_embds.pkl', 'rb'))"
   ]
  },
  {
   "cell_type": "code",
   "execution_count": 39,
   "metadata": {},
   "outputs": [
    {
     "data": {
      "text/html": [
       "<div>\n",
       "<style scoped>\n",
       "    .dataframe tbody tr th:only-of-type {\n",
       "        vertical-align: middle;\n",
       "    }\n",
       "\n",
       "    .dataframe tbody tr th {\n",
       "        vertical-align: top;\n",
       "    }\n",
       "\n",
       "    .dataframe thead th {\n",
       "        text-align: right;\n",
       "    }\n",
       "</style>\n",
       "<table border=\"1\" class=\"dataframe\">\n",
       "  <thead>\n",
       "    <tr style=\"text-align: right;\">\n",
       "      <th></th>\n",
       "      <th>drug_cas</th>\n",
       "      <th>drug_id</th>\n",
       "      <th>drug_name</th>\n",
       "      <th>target_actions</th>\n",
       "      <th>target_amino</th>\n",
       "      <th>target_gene</th>\n",
       "      <th>target_id</th>\n",
       "      <th>target_name</th>\n",
       "      <th>target_organism</th>\n",
       "      <th>pubchem_id</th>\n",
       "      <th>pubchem_name</th>\n",
       "      <th>target_gene_fingerprint</th>\n",
       "      <th>drug_fingerprint</th>\n",
       "    </tr>\n",
       "  </thead>\n",
       "  <tbody>\n",
       "    <tr>\n",
       "      <th>31</th>\n",
       "      <td>128270-60-0</td>\n",
       "      <td>DB00006</td>\n",
       "      <td>Bivalirudin</td>\n",
       "      <td>[inhibitor]</td>\n",
       "      <td>&gt;lcl|BSEQ0016004|Prothrombin\\nMAHVRGLQLPGCLALA...</td>\n",
       "      <td>&gt;lcl|BSEQ0016005|Prothrombin (F2)\\nATGGCGCACGT...</td>\n",
       "      <td>BE0000048</td>\n",
       "      <td>Prothrombin</td>\n",
       "      <td>Human</td>\n",
       "      <td>16129704</td>\n",
       "      <td>Bivalirudin</td>\n",
       "      <td>[1.2739266e-05 -2.7748918e-05 0.00095751503 0....</td>\n",
       "      <td>[0.10044218 0.18559723 -0.12865402 -0.0650997 ...</td>\n",
       "    </tr>\n",
       "    <tr>\n",
       "      <th>53</th>\n",
       "      <td>65807-02-5</td>\n",
       "      <td>DB00014</td>\n",
       "      <td>Goserelin</td>\n",
       "      <td>[agonist]</td>\n",
       "      <td>&gt;lcl|BSEQ0036957|Lutropin-choriogonadotropic h...</td>\n",
       "      <td>&gt;lcl|BSEQ0010174|Lutropin-choriogonadotropic h...</td>\n",
       "      <td>BE0000134</td>\n",
       "      <td>Lutropin-choriogonadotropic hormone receptor</td>\n",
       "      <td>Human</td>\n",
       "      <td>5311128</td>\n",
       "      <td>goserelin</td>\n",
       "      <td>[1.2739266e-05 -2.7748918e-05 0.00095751503 0....</td>\n",
       "      <td>[0.1331214 0.2391842 -0.14361311 -0.14107014 0...</td>\n",
       "    </tr>\n",
       "    <tr>\n",
       "      <th>54</th>\n",
       "      <td>65807-02-5</td>\n",
       "      <td>DB00014</td>\n",
       "      <td>Goserelin</td>\n",
       "      <td>[agonist]</td>\n",
       "      <td>&gt;lcl|BSEQ0000405|Gonadotropin-releasing hormon...</td>\n",
       "      <td>&gt;lcl|BSEQ0018926|Gonadotropin-releasing hormon...</td>\n",
       "      <td>BE0000203</td>\n",
       "      <td>Gonadotropin-releasing hormone receptor</td>\n",
       "      <td>Human</td>\n",
       "      <td>5311128</td>\n",
       "      <td>goserelin</td>\n",
       "      <td>[1.2739266e-05 -2.7748918e-05 0.00095751503 0....</td>\n",
       "      <td>[0.1331214 0.2391842 -0.14361311 -0.14107014 0...</td>\n",
       "    </tr>\n",
       "    <tr>\n",
       "      <th>131</th>\n",
       "      <td>16679-58-6</td>\n",
       "      <td>DB00035</td>\n",
       "      <td>Desmopressin</td>\n",
       "      <td>[agonist]</td>\n",
       "      <td>&gt;lcl|BSEQ0000583|Vasopressin V2 receptor\\nMLMA...</td>\n",
       "      <td>&gt;lcl|BSEQ0010065|Vasopressin V2 receptor (AVPR...</td>\n",
       "      <td>BE0000293</td>\n",
       "      <td>Vasopressin V2 receptor</td>\n",
       "      <td>Human</td>\n",
       "      <td>16051933</td>\n",
       "      <td>DESMOPRESSIN</td>\n",
       "      <td>[1.2739266e-05 -2.7748918e-05 0.00095751503 0....</td>\n",
       "      <td>[0.051722348 0.24374117 -0.16236018 -0.1723347...</td>\n",
       "    </tr>\n",
       "    <tr>\n",
       "      <th>132</th>\n",
       "      <td>16679-58-6</td>\n",
       "      <td>DB00035</td>\n",
       "      <td>Desmopressin</td>\n",
       "      <td>NaN</td>\n",
       "      <td>&gt;lcl|BSEQ0009979|Vasopressin V1a receptor\\nMRL...</td>\n",
       "      <td>&gt;lcl|BSEQ0009980|Vasopressin V1a receptor (AVP...</td>\n",
       "      <td>BE0000165</td>\n",
       "      <td>Vasopressin V1a receptor</td>\n",
       "      <td>Human</td>\n",
       "      <td>16051933</td>\n",
       "      <td>DESMOPRESSIN</td>\n",
       "      <td>[1.2739266e-05 -2.7748918e-05 0.00095751503 0....</td>\n",
       "      <td>[0.051722348 0.24374117 -0.16236018 -0.1723347...</td>\n",
       "    </tr>\n",
       "    <tr>\n",
       "      <th>...</th>\n",
       "      <td>...</td>\n",
       "      <td>...</td>\n",
       "      <td>...</td>\n",
       "      <td>...</td>\n",
       "      <td>...</td>\n",
       "      <td>...</td>\n",
       "      <td>...</td>\n",
       "      <td>...</td>\n",
       "      <td>...</td>\n",
       "      <td>...</td>\n",
       "      <td>...</td>\n",
       "      <td>...</td>\n",
       "      <td>...</td>\n",
       "    </tr>\n",
       "    <tr>\n",
       "      <th>431</th>\n",
       "      <td>197922-42-2</td>\n",
       "      <td>DB08900</td>\n",
       "      <td>Teduglutide</td>\n",
       "      <td>[agonist]</td>\n",
       "      <td>&gt;lcl|BSEQ0011545|Glucagon-like peptide 2 recep...</td>\n",
       "      <td>&gt;lcl|BSEQ0011546|Glucagon-like peptide 2 recep...</td>\n",
       "      <td>BE0002134</td>\n",
       "      <td>Glucagon-like peptide 2 receptor</td>\n",
       "      <td>Human</td>\n",
       "      <td>16139605</td>\n",
       "      <td>Teduglutide</td>\n",
       "      <td>[1.2739266e-05 -2.7748918e-05 0.00095751503 0....</td>\n",
       "      <td>[0.15734409 0.22184908 -0.10869281 -0.08885931...</td>\n",
       "    </tr>\n",
       "    <tr>\n",
       "      <th>440</th>\n",
       "      <td>782500-75-8</td>\n",
       "      <td>DB09043</td>\n",
       "      <td>Albiglutide</td>\n",
       "      <td>[agonist]</td>\n",
       "      <td>&gt;lcl|BSEQ0010605|Glucagon-like peptide 1 recep...</td>\n",
       "      <td>&gt;lcl|BSEQ0010606|Glucagon-like peptide 1 recep...</td>\n",
       "      <td>BE0000857</td>\n",
       "      <td>Glucagon-like peptide 1 receptor</td>\n",
       "      <td>Human</td>\n",
       "      <td>122173812</td>\n",
       "      <td>Albiglutide</td>\n",
       "      <td>[1.2739266e-05 -2.7748918e-05 0.00095751503 0....</td>\n",
       "      <td>[0.15686676 0.2130656 -0.10459428 -0.094190985...</td>\n",
       "    </tr>\n",
       "    <tr>\n",
       "      <th>457</th>\n",
       "      <td>8063-17-0</td>\n",
       "      <td>DB09363</td>\n",
       "      <td>Rauwolfia serpentina root</td>\n",
       "      <td>[inhibitor]</td>\n",
       "      <td>&gt;lcl|BSEQ0000236|Synaptic vesicular amine tran...</td>\n",
       "      <td>&gt;lcl|BSEQ0009946|Synaptic vesicular amine tran...</td>\n",
       "      <td>BE0000118</td>\n",
       "      <td>Synaptic vesicular amine transporter</td>\n",
       "      <td>Human</td>\n",
       "      <td>441975</td>\n",
       "      <td>Ajmalicine</td>\n",
       "      <td>[1.2739266e-05 -2.7748918e-05 0.00095751503 0....</td>\n",
       "      <td>[0.055649024 0.22807583 -0.18862249 -0.1470914...</td>\n",
       "    </tr>\n",
       "    <tr>\n",
       "      <th>460</th>\n",
       "      <td>844439-96-9</td>\n",
       "      <td>DB09564</td>\n",
       "      <td>Insulin Degludec</td>\n",
       "      <td>[ligand]</td>\n",
       "      <td>&gt;lcl|BSEQ0036940|Insulin receptor\\nMATGGRRGAAA...</td>\n",
       "      <td>&gt;lcl|BSEQ0020443|Insulin receptor (INSR)\\nATGG...</td>\n",
       "      <td>BE0000033</td>\n",
       "      <td>Insulin receptor</td>\n",
       "      <td>Human</td>\n",
       "      <td>118984462</td>\n",
       "      <td>Insulin degludec</td>\n",
       "      <td>[1.2739266e-05 -2.7748918e-05 0.00095751503 0....</td>\n",
       "      <td>[0.077604994 0.26912978 -0.12892634 -0.1319705...</td>\n",
       "    </tr>\n",
       "    <tr>\n",
       "      <th>487</th>\n",
       "      <td>915019-08-8</td>\n",
       "      <td>DB12747</td>\n",
       "      <td>Tertomotide</td>\n",
       "      <td>NaN</td>\n",
       "      <td>&gt;lcl|BSEQ0004809|Telomerase reverse transcript...</td>\n",
       "      <td>&gt;lcl|BSEQ0019287|Telomerase reverse transcript...</td>\n",
       "      <td>BE0002449</td>\n",
       "      <td>Telomerase reverse transcriptase</td>\n",
       "      <td>Human</td>\n",
       "      <td>56843375</td>\n",
       "      <td>UNII-55R7RG342O</td>\n",
       "      <td>[1.2739266e-05 -2.7748918e-05 0.00095751503 0....</td>\n",
       "      <td>[0.1460279 0.27236864 -0.07754911 -0.11320723 ...</td>\n",
       "    </tr>\n",
       "  </tbody>\n",
       "</table>\n",
       "<p>14081 rows × 13 columns</p>\n",
       "</div>"
      ],
      "text/plain": [
       "        drug_cas  drug_id                  drug_name target_actions  \\\n",
       "31   128270-60-0  DB00006                Bivalirudin    [inhibitor]   \n",
       "53    65807-02-5  DB00014                  Goserelin      [agonist]   \n",
       "54    65807-02-5  DB00014                  Goserelin      [agonist]   \n",
       "131   16679-58-6  DB00035               Desmopressin      [agonist]   \n",
       "132   16679-58-6  DB00035               Desmopressin            NaN   \n",
       "..           ...      ...                        ...            ...   \n",
       "431  197922-42-2  DB08900                Teduglutide      [agonist]   \n",
       "440  782500-75-8  DB09043                Albiglutide      [agonist]   \n",
       "457    8063-17-0  DB09363  Rauwolfia serpentina root    [inhibitor]   \n",
       "460  844439-96-9  DB09564           Insulin Degludec       [ligand]   \n",
       "487  915019-08-8  DB12747                Tertomotide            NaN   \n",
       "\n",
       "                                          target_amino  \\\n",
       "31   >lcl|BSEQ0016004|Prothrombin\\nMAHVRGLQLPGCLALA...   \n",
       "53   >lcl|BSEQ0036957|Lutropin-choriogonadotropic h...   \n",
       "54   >lcl|BSEQ0000405|Gonadotropin-releasing hormon...   \n",
       "131  >lcl|BSEQ0000583|Vasopressin V2 receptor\\nMLMA...   \n",
       "132  >lcl|BSEQ0009979|Vasopressin V1a receptor\\nMRL...   \n",
       "..                                                 ...   \n",
       "431  >lcl|BSEQ0011545|Glucagon-like peptide 2 recep...   \n",
       "440  >lcl|BSEQ0010605|Glucagon-like peptide 1 recep...   \n",
       "457  >lcl|BSEQ0000236|Synaptic vesicular amine tran...   \n",
       "460  >lcl|BSEQ0036940|Insulin receptor\\nMATGGRRGAAA...   \n",
       "487  >lcl|BSEQ0004809|Telomerase reverse transcript...   \n",
       "\n",
       "                                           target_gene  target_id  \\\n",
       "31   >lcl|BSEQ0016005|Prothrombin (F2)\\nATGGCGCACGT...  BE0000048   \n",
       "53   >lcl|BSEQ0010174|Lutropin-choriogonadotropic h...  BE0000134   \n",
       "54   >lcl|BSEQ0018926|Gonadotropin-releasing hormon...  BE0000203   \n",
       "131  >lcl|BSEQ0010065|Vasopressin V2 receptor (AVPR...  BE0000293   \n",
       "132  >lcl|BSEQ0009980|Vasopressin V1a receptor (AVP...  BE0000165   \n",
       "..                                                 ...        ...   \n",
       "431  >lcl|BSEQ0011546|Glucagon-like peptide 2 recep...  BE0002134   \n",
       "440  >lcl|BSEQ0010606|Glucagon-like peptide 1 recep...  BE0000857   \n",
       "457  >lcl|BSEQ0009946|Synaptic vesicular amine tran...  BE0000118   \n",
       "460  >lcl|BSEQ0020443|Insulin receptor (INSR)\\nATGG...  BE0000033   \n",
       "487  >lcl|BSEQ0019287|Telomerase reverse transcript...  BE0002449   \n",
       "\n",
       "                                      target_name target_organism  pubchem_id  \\\n",
       "31                                    Prothrombin           Human    16129704   \n",
       "53   Lutropin-choriogonadotropic hormone receptor           Human     5311128   \n",
       "54        Gonadotropin-releasing hormone receptor           Human     5311128   \n",
       "131                       Vasopressin V2 receptor           Human    16051933   \n",
       "132                      Vasopressin V1a receptor           Human    16051933   \n",
       "..                                            ...             ...         ...   \n",
       "431              Glucagon-like peptide 2 receptor           Human    16139605   \n",
       "440              Glucagon-like peptide 1 receptor           Human   122173812   \n",
       "457          Synaptic vesicular amine transporter           Human      441975   \n",
       "460                              Insulin receptor           Human   118984462   \n",
       "487              Telomerase reverse transcriptase           Human    56843375   \n",
       "\n",
       "         pubchem_name                            target_gene_fingerprint  \\\n",
       "31        Bivalirudin  [1.2739266e-05 -2.7748918e-05 0.00095751503 0....   \n",
       "53          goserelin  [1.2739266e-05 -2.7748918e-05 0.00095751503 0....   \n",
       "54          goserelin  [1.2739266e-05 -2.7748918e-05 0.00095751503 0....   \n",
       "131      DESMOPRESSIN  [1.2739266e-05 -2.7748918e-05 0.00095751503 0....   \n",
       "132      DESMOPRESSIN  [1.2739266e-05 -2.7748918e-05 0.00095751503 0....   \n",
       "..                ...                                                ...   \n",
       "431       Teduglutide  [1.2739266e-05 -2.7748918e-05 0.00095751503 0....   \n",
       "440       Albiglutide  [1.2739266e-05 -2.7748918e-05 0.00095751503 0....   \n",
       "457        Ajmalicine  [1.2739266e-05 -2.7748918e-05 0.00095751503 0....   \n",
       "460  Insulin degludec  [1.2739266e-05 -2.7748918e-05 0.00095751503 0....   \n",
       "487   UNII-55R7RG342O  [1.2739266e-05 -2.7748918e-05 0.00095751503 0....   \n",
       "\n",
       "                                      drug_fingerprint  \n",
       "31   [0.10044218 0.18559723 -0.12865402 -0.0650997 ...  \n",
       "53   [0.1331214 0.2391842 -0.14361311 -0.14107014 0...  \n",
       "54   [0.1331214 0.2391842 -0.14361311 -0.14107014 0...  \n",
       "131  [0.051722348 0.24374117 -0.16236018 -0.1723347...  \n",
       "132  [0.051722348 0.24374117 -0.16236018 -0.1723347...  \n",
       "..                                                 ...  \n",
       "431  [0.15734409 0.22184908 -0.10869281 -0.08885931...  \n",
       "440  [0.15686676 0.2130656 -0.10459428 -0.094190985...  \n",
       "457  [0.055649024 0.22807583 -0.18862249 -0.1470914...  \n",
       "460  [0.077604994 0.26912978 -0.12892634 -0.1319705...  \n",
       "487  [0.1460279 0.27236864 -0.07754911 -0.11320723 ...  \n",
       "\n",
       "[14081 rows x 13 columns]"
      ]
     },
     "execution_count": 39,
     "metadata": {},
     "output_type": "execute_result"
    }
   ],
   "source": [
    "drugbank"
   ]
  },
  {
   "cell_type": "code",
   "execution_count": 40,
   "metadata": {},
   "outputs": [],
   "source": [
    "drugbank['target_gene_code'] = drugbank['target_gene'].apply(lambda x: ''.join(list(x.split('\\n')[1:])))\n",
    "#drugbank['target_amino_code'] = drugbank['target_amino'].apply(lambda x: ''.join(list(x.split('\\n')[1:])))"
   ]
  },
  {
   "cell_type": "code",
   "execution_count": 41,
   "metadata": {},
   "outputs": [],
   "source": [
    "with open ('data/chem_cid_SMILE_fngr_vector_fngr.pickle', 'rb') as f:\n",
    "    smiles_df = pkl.load(f)\n",
    "    \n",
    "smiles_df['cid'] = smiles_df['cid'].astype(int)\n",
    "drugbank = pd.merge(smiles_df, drugbank, right_on = 'pubchem_id', left_on = 'cid', how = 'right')"
   ]
  },
  {
   "cell_type": "code",
   "execution_count": 42,
   "metadata": {
    "scrolled": true
   },
   "outputs": [],
   "source": [
    "drugbank = drugbank[['drug_id', 'target_id', 'fingerprint', 'target_gene_code']]\n",
    "drugbank = drugbank[~ drugbank['fingerprint'].isna()]\n",
    "drugbank = drugbank.rename(columns = {'fingerprint': 'drug_fingerprint_code', 'target_id': 'gene_id'})"
   ]
  },
  {
   "cell_type": "code",
   "execution_count": 43,
   "metadata": {},
   "outputs": [
    {
     "data": {
      "text/plain": [
       "<matplotlib.axes._subplots.AxesSubplot at 0x7f12536a1a58>"
      ]
     },
     "execution_count": 43,
     "metadata": {},
     "output_type": "execute_result"
    },
    {
     "data": {
      "image/png": "[encoded data removed]",
      "text/plain": [
       "<Figure size 432x288 with 1 Axes>"
      ]
     },
     "metadata": {
      "needs_background": "light"
     },
     "output_type": "display_data"
    }
   ],
   "source": [
    "drugbank['drug_id'].value_counts().plot()"
   ]
  },
  {
   "cell_type": "markdown",
   "metadata": {},
   "source": [
    "## NOTE: Why does NAD Bind to so many molecules?"
   ]
  },
  {
   "cell_type": "code",
   "execution_count": 44,
   "metadata": {},
   "outputs": [
    {
     "data": {
      "text/html": [
       "<div>\n",
       "<style scoped>\n",
       "    .dataframe tbody tr th:only-of-type {\n",
       "        vertical-align: middle;\n",
       "    }\n",
       "\n",
       "    .dataframe tbody tr th {\n",
       "        vertical-align: top;\n",
       "    }\n",
       "\n",
       "    .dataframe thead th {\n",
       "        text-align: right;\n",
       "    }\n",
       "</style>\n",
       "<table border=\"1\" class=\"dataframe\">\n",
       "  <thead>\n",
       "    <tr style=\"text-align: right;\">\n",
       "      <th></th>\n",
       "      <th>drug_id</th>\n",
       "      <th>gene_id</th>\n",
       "      <th>drug_fingerprint_code</th>\n",
       "      <th>target_gene_code</th>\n",
       "    </tr>\n",
       "  </thead>\n",
       "  <tbody>\n",
       "    <tr>\n",
       "      <th>7833</th>\n",
       "      <td>DB00157</td>\n",
       "      <td>BE0000645</td>\n",
       "      <td>2968968094 4140259565 3218693969 2070178920 32...</td>\n",
       "      <td>ATGTTTGAAATTAAGAAGATCTGTTGCATCGGTGCAGGCTATGTTG...</td>\n",
       "    </tr>\n",
       "    <tr>\n",
       "      <th>7834</th>\n",
       "      <td>DB00157</td>\n",
       "      <td>BE0000227</td>\n",
       "      <td>2968968094 4140259565 3218693969 2070178920 32...</td>\n",
       "      <td>ATGAGCACAGCAGGAAAAGTAATCAAATGCAAAGCAGCTGTGCTAT...</td>\n",
       "    </tr>\n",
       "    <tr>\n",
       "      <th>7835</th>\n",
       "      <td>DB00157</td>\n",
       "      <td>BE0000299</td>\n",
       "      <td>2968968094 4140259565 3218693969 2070178920 32...</td>\n",
       "      <td>ATGGCGGCGGCGGCCAAGCCCAACAACCTTTCCCTGGTGGTGCACG...</td>\n",
       "    </tr>\n",
       "    <tr>\n",
       "      <th>7836</th>\n",
       "      <td>DB00157</td>\n",
       "      <td>BE0000360</td>\n",
       "      <td>2968968094 4140259565 3218693969 2070178920 32...</td>\n",
       "      <td>ATGGGCACCAAGGGCAAAGTTATTAAATGCAAAGCAGCCATCGCCT...</td>\n",
       "    </tr>\n",
       "    <tr>\n",
       "      <th>7837</th>\n",
       "      <td>DB00157</td>\n",
       "      <td>BE0000465</td>\n",
       "      <td>2968968094 4140259565 3218693969 2070178920 32...</td>\n",
       "      <td>ATGAGCACAGCAGGAAAAGTAATCAAATGCAAAGCAGCTGTGCTAT...</td>\n",
       "    </tr>\n",
       "    <tr>\n",
       "      <th>...</th>\n",
       "      <td>...</td>\n",
       "      <td>...</td>\n",
       "      <td>...</td>\n",
       "      <td>...</td>\n",
       "    </tr>\n",
       "    <tr>\n",
       "      <th>7972</th>\n",
       "      <td>DB00157</td>\n",
       "      <td>BE0000096</td>\n",
       "      <td>2968968094 4140259565 3218693969 2070178920 32...</td>\n",
       "      <td>ATGCCAAGATGGTATTTTCTTTTGGCAAGATGCTTTGGTTGTGCAG...</td>\n",
       "    </tr>\n",
       "    <tr>\n",
       "      <th>7973</th>\n",
       "      <td>DB00157</td>\n",
       "      <td>BE0000735</td>\n",
       "      <td>2968968094 4140259565 3218693969 2070178920 32...</td>\n",
       "      <td>ATGGAGCGTCCGCAACCCGACAGCATGCCCCAGGATTTGTCAGAGG...</td>\n",
       "    </tr>\n",
       "    <tr>\n",
       "      <th>7974</th>\n",
       "      <td>DB00157</td>\n",
       "      <td>BE0000587</td>\n",
       "      <td>2968968094 4140259565 3218693969 2070178920 32...</td>\n",
       "      <td>ATGTCAGCGGAAGTGGAAACCTCAGAGGGGGTAGACGAGTCAGAAA...</td>\n",
       "    </tr>\n",
       "    <tr>\n",
       "      <th>7975</th>\n",
       "      <td>DB00157</td>\n",
       "      <td>BE0000344</td>\n",
       "      <td>2968968094 4140259565 3218693969 2070178920 32...</td>\n",
       "      <td>ATGTGGGAGCTCGTGGCTCTCTTGCTGCTTACCCTAGCTTATTTGT...</td>\n",
       "    </tr>\n",
       "    <tr>\n",
       "      <th>7976</th>\n",
       "      <td>DB00157</td>\n",
       "      <td>BE0000252</td>\n",
       "      <td>2968968094 4140259565 3218693969 2070178920 32...</td>\n",
       "      <td>ATGCTCCTGGCTGTTTTGTACTGCCTGCTGTGGAGTTTCCAGACCT...</td>\n",
       "    </tr>\n",
       "  </tbody>\n",
       "</table>\n",
       "<p>144 rows × 4 columns</p>\n",
       "</div>"
      ],
      "text/plain": [
       "      drug_id    gene_id                              drug_fingerprint_code  \\\n",
       "7833  DB00157  BE0000645  2968968094 4140259565 3218693969 2070178920 32...   \n",
       "7834  DB00157  BE0000227  2968968094 4140259565 3218693969 2070178920 32...   \n",
       "7835  DB00157  BE0000299  2968968094 4140259565 3218693969 2070178920 32...   \n",
       "7836  DB00157  BE0000360  2968968094 4140259565 3218693969 2070178920 32...   \n",
       "7837  DB00157  BE0000465  2968968094 4140259565 3218693969 2070178920 32...   \n",
       "...       ...        ...                                                ...   \n",
       "7972  DB00157  BE0000096  2968968094 4140259565 3218693969 2070178920 32...   \n",
       "7973  DB00157  BE0000735  2968968094 4140259565 3218693969 2070178920 32...   \n",
       "7974  DB00157  BE0000587  2968968094 4140259565 3218693969 2070178920 32...   \n",
       "7975  DB00157  BE0000344  2968968094 4140259565 3218693969 2070178920 32...   \n",
       "7976  DB00157  BE0000252  2968968094 4140259565 3218693969 2070178920 32...   \n",
       "\n",
       "                                       target_gene_code  \n",
       "7833  ATGTTTGAAATTAAGAAGATCTGTTGCATCGGTGCAGGCTATGTTG...  \n",
       "7834  ATGAGCACAGCAGGAAAAGTAATCAAATGCAAAGCAGCTGTGCTAT...  \n",
       "7835  ATGGCGGCGGCGGCCAAGCCCAACAACCTTTCCCTGGTGGTGCACG...  \n",
       "7836  ATGGGCACCAAGGGCAAAGTTATTAAATGCAAAGCAGCCATCGCCT...  \n",
       "7837  ATGAGCACAGCAGGAAAAGTAATCAAATGCAAAGCAGCTGTGCTAT...  \n",
       "...                                                 ...  \n",
       "7972  ATGCCAAGATGGTATTTTCTTTTGGCAAGATGCTTTGGTTGTGCAG...  \n",
       "7973  ATGGAGCGTCCGCAACCCGACAGCATGCCCCAGGATTTGTCAGAGG...  \n",
       "7974  ATGTCAGCGGAAGTGGAAACCTCAGAGGGGGTAGACGAGTCAGAAA...  \n",
       "7975  ATGTGGGAGCTCGTGGCTCTCTTGCTGCTTACCCTAGCTTATTTGT...  \n",
       "7976  ATGCTCCTGGCTGTTTTGTACTGCCTGCTGTGGAGTTTCCAGACCT...  \n",
       "\n",
       "[144 rows x 4 columns]"
      ]
     },
     "execution_count": 44,
     "metadata": {},
     "output_type": "execute_result"
    }
   ],
   "source": [
    "drugbank[drugbank['drug_id'] == 'DB00157']"
   ]
  },
  {
   "cell_type": "markdown",
   "metadata": {},
   "source": [
    "### Get DrugID -> Fingerprint mapping from positive samples"
   ]
  },
  {
   "cell_type": "code",
   "execution_count": 45,
   "metadata": {},
   "outputs": [],
   "source": [
    "drug_map = drugbank[['drug_id', 'drug_fingerprint_code']].drop_duplicates('drug_id').set_index('drug_id')\n",
    "target_map = drugbank[['gene_id', 'target_gene_code']].drop_duplicates('gene_id').set_index('gene_id')"
   ]
  },
  {
   "cell_type": "code",
   "execution_count": 46,
   "metadata": {},
   "outputs": [],
   "source": [
    "negative_df = pd.read_csv('data/negative_samples_thrsh_12')[['node_0','node_1','shortest_path']] \n",
    "negative_df = negative_df.rename(columns = {'node_0': 'drug_id', 'node_1': 'gene_id'})\n",
    "negative_df = negative_df[negative_df['drug_id'].str.contains('DB') & negative_df['gene_id'].str.contains('BE')]"
   ]
  },
  {
   "cell_type": "code",
   "execution_count": 47,
   "metadata": {},
   "outputs": [],
   "source": [
    "negative_df = pd.merge(negative_df, drug_map, left_on = 'drug_id', right_index = True, how = 'left')\n",
    "negative_df = pd.merge(negative_df, target_map, left_on = 'gene_id', right_index = True, how = 'left')"
   ]
  },
  {
   "cell_type": "code",
   "execution_count": 48,
   "metadata": {},
   "outputs": [
    {
     "data": {
      "text/html": [
       "<div>\n",
       "<style scoped>\n",
       "    .dataframe tbody tr th:only-of-type {\n",
       "        vertical-align: middle;\n",
       "    }\n",
       "\n",
       "    .dataframe tbody tr th {\n",
       "        vertical-align: top;\n",
       "    }\n",
       "\n",
       "    .dataframe thead th {\n",
       "        text-align: right;\n",
       "    }\n",
       "</style>\n",
       "<table border=\"1\" class=\"dataframe\">\n",
       "  <thead>\n",
       "    <tr style=\"text-align: right;\">\n",
       "      <th></th>\n",
       "      <th>drug_id</th>\n",
       "      <th>gene_id</th>\n",
       "      <th>shortest_path</th>\n",
       "      <th>drug_fingerprint_code</th>\n",
       "      <th>target_gene_code</th>\n",
       "    </tr>\n",
       "  </thead>\n",
       "  <tbody>\n",
       "    <tr>\n",
       "      <th>1</th>\n",
       "      <td>DB04481</td>\n",
       "      <td>BE0002266</td>\n",
       "      <td>12.0</td>\n",
       "      <td>2245384272 4022716898 2245273601 1735424888 22...</td>\n",
       "      <td>ATGGCGACCTCCACGGGTCGCTGGCTTCTCCTCCGGCTTGCACTAT...</td>\n",
       "    </tr>\n",
       "    <tr>\n",
       "      <th>3</th>\n",
       "      <td>DB04481</td>\n",
       "      <td>BE0000206</td>\n",
       "      <td>13.0</td>\n",
       "      <td>2245384272 4022716898 2245273601 1735424888 22...</td>\n",
       "      <td>ATGTTTGACTGTATGGATGTTCTGTCAGTGAGTCCTGGGCAAATCC...</td>\n",
       "    </tr>\n",
       "    <tr>\n",
       "      <th>4</th>\n",
       "      <td>DB04481</td>\n",
       "      <td>BE0002401</td>\n",
       "      <td>13.0</td>\n",
       "      <td>2245384272 4022716898 2245273601 1735424888 22...</td>\n",
       "      <td>ATGGCAGCAGACCTGGGCCCCTGGAATGACACCATCAATGGCACCT...</td>\n",
       "    </tr>\n",
       "    <tr>\n",
       "      <th>6</th>\n",
       "      <td>DB04481</td>\n",
       "      <td>BE0004180</td>\n",
       "      <td>13.0</td>\n",
       "      <td>2245384272 4022716898 2245273601 1735424888 22...</td>\n",
       "      <td>ATGACGGAAAACAAAGGATCTTCTCAGCCTAAGAAAAACGGTAATA...</td>\n",
       "    </tr>\n",
       "    <tr>\n",
       "      <th>10</th>\n",
       "      <td>DB04481</td>\n",
       "      <td>BE0002840</td>\n",
       "      <td>12.0</td>\n",
       "      <td>2245384272 4022716898 2245273601 1735424888 22...</td>\n",
       "      <td>ATGAAATTTCTTCTGGACATCCTCCTGCTTCTCCCGTTACTGATCG...</td>\n",
       "    </tr>\n",
       "    <tr>\n",
       "      <th>...</th>\n",
       "      <td>...</td>\n",
       "      <td>...</td>\n",
       "      <td>...</td>\n",
       "      <td>...</td>\n",
       "      <td>...</td>\n",
       "    </tr>\n",
       "    <tr>\n",
       "      <th>1745404</th>\n",
       "      <td>DB01260</td>\n",
       "      <td>BE0003634</td>\n",
       "      <td>12.0</td>\n",
       "      <td>2246728737 1861965050 2976816164 2446814304 31...</td>\n",
       "      <td>ATGTTGTTCTCCGCCCTCCTGCTGGAGGTGATTTGGATCCTGGCTG...</td>\n",
       "    </tr>\n",
       "    <tr>\n",
       "      <th>1745410</th>\n",
       "      <td>DB01134</td>\n",
       "      <td>BE0003634</td>\n",
       "      <td>14.0</td>\n",
       "      <td>2246728737 1861965050 2976816164 778974661 296...</td>\n",
       "      <td>ATGTTGTTCTCCGCCCTCCTGCTGGAGGTGATTTGGATCCTGGCTG...</td>\n",
       "    </tr>\n",
       "    <tr>\n",
       "      <th>1745423</th>\n",
       "      <td>DB08040</td>\n",
       "      <td>BE0002410</td>\n",
       "      <td>12.0</td>\n",
       "      <td>2246728737 3537119515 2245273601 2637439965 22...</td>\n",
       "      <td>ATGAAAGTTGGAGTGCTGTGGCTCATTTCTTTCTTCACCTTCACTG...</td>\n",
       "    </tr>\n",
       "    <tr>\n",
       "      <th>1745424</th>\n",
       "      <td>DB01105</td>\n",
       "      <td>BE0002410</td>\n",
       "      <td>13.0</td>\n",
       "      <td>2246728737 3537119515 2245273601 2423543607 22...</td>\n",
       "      <td>ATGAAAGTTGGAGTGCTGTGGCTCATTTCTTTCTTCACCTTCACTG...</td>\n",
       "    </tr>\n",
       "    <tr>\n",
       "      <th>1745425</th>\n",
       "      <td>DB01105</td>\n",
       "      <td>BE0004557</td>\n",
       "      <td>12.0</td>\n",
       "      <td>2246728737 3537119515 2245273601 2423543607 22...</td>\n",
       "      <td>ATGGCAACGATTACCGAGAAGGAGGTCCAGCAGTGGTACAAAGGCT...</td>\n",
       "    </tr>\n",
       "  </tbody>\n",
       "</table>\n",
       "<p>411845 rows × 5 columns</p>\n",
       "</div>"
      ],
      "text/plain": [
       "         drug_id    gene_id  shortest_path  \\\n",
       "1        DB04481  BE0002266           12.0   \n",
       "3        DB04481  BE0000206           13.0   \n",
       "4        DB04481  BE0002401           13.0   \n",
       "6        DB04481  BE0004180           13.0   \n",
       "10       DB04481  BE0002840           12.0   \n",
       "...          ...        ...            ...   \n",
       "1745404  DB01260  BE0003634           12.0   \n",
       "1745410  DB01134  BE0003634           14.0   \n",
       "1745423  DB08040  BE0002410           12.0   \n",
       "1745424  DB01105  BE0002410           13.0   \n",
       "1745425  DB01105  BE0004557           12.0   \n",
       "\n",
       "                                     drug_fingerprint_code  \\\n",
       "1        2245384272 4022716898 2245273601 1735424888 22...   \n",
       "3        2245384272 4022716898 2245273601 1735424888 22...   \n",
       "4        2245384272 4022716898 2245273601 1735424888 22...   \n",
       "6        2245384272 4022716898 2245273601 1735424888 22...   \n",
       "10       2245384272 4022716898 2245273601 1735424888 22...   \n",
       "...                                                    ...   \n",
       "1745404  2246728737 1861965050 2976816164 2446814304 31...   \n",
       "1745410  2246728737 1861965050 2976816164 778974661 296...   \n",
       "1745423  2246728737 3537119515 2245273601 2637439965 22...   \n",
       "1745424  2246728737 3537119515 2245273601 2423543607 22...   \n",
       "1745425  2246728737 3537119515 2245273601 2423543607 22...   \n",
       "\n",
       "                                          target_gene_code  \n",
       "1        ATGGCGACCTCCACGGGTCGCTGGCTTCTCCTCCGGCTTGCACTAT...  \n",
       "3        ATGTTTGACTGTATGGATGTTCTGTCAGTGAGTCCTGGGCAAATCC...  \n",
       "4        ATGGCAGCAGACCTGGGCCCCTGGAATGACACCATCAATGGCACCT...  \n",
       "6        ATGACGGAAAACAAAGGATCTTCTCAGCCTAAGAAAAACGGTAATA...  \n",
       "10       ATGAAATTTCTTCTGGACATCCTCCTGCTTCTCCCGTTACTGATCG...  \n",
       "...                                                    ...  \n",
       "1745404  ATGTTGTTCTCCGCCCTCCTGCTGGAGGTGATTTGGATCCTGGCTG...  \n",
       "1745410  ATGTTGTTCTCCGCCCTCCTGCTGGAGGTGATTTGGATCCTGGCTG...  \n",
       "1745423  ATGAAAGTTGGAGTGCTGTGGCTCATTTCTTTCTTCACCTTCACTG...  \n",
       "1745424  ATGAAAGTTGGAGTGCTGTGGCTCATTTCTTTCTTCACCTTCACTG...  \n",
       "1745425  ATGGCAACGATTACCGAGAAGGAGGTCCAGCAGTGGTACAAAGGCT...  \n",
       "\n",
       "[411845 rows x 5 columns]"
      ]
     },
     "execution_count": 48,
     "metadata": {},
     "output_type": "execute_result"
    }
   ],
   "source": [
    "negative_df"
   ]
  },
  {
   "cell_type": "markdown",
   "metadata": {},
   "source": [
    "#### Note: Around 13% of negative samples don't match a drug id. Since the number is small, we ignore it for now"
   ]
  },
  {
   "cell_type": "code",
   "execution_count": 49,
   "metadata": {},
   "outputs": [],
   "source": [
    "len(negative_df[(negative_df['target_gene_code'].isna()) |\n",
    "                (negative_df['drug_fingerprint_code'].isna())])/len(negative_df)\n",
    "\n",
    "negative_df = negative_df[(~ negative_df['target_gene_code'].isna()) &\n",
    "                (~ negative_df['drug_fingerprint_code'].isna())]"
   ]
  },
  {
   "cell_type": "code",
   "execution_count": 50,
   "metadata": {},
   "outputs": [
    {
     "name": "stderr",
     "output_type": "stream",
     "text": [
      "/miniconda/lib/python3.6/site-packages/ipykernel_launcher.py:1: SettingWithCopyWarning: \n",
      "A value is trying to be set on a copy of a slice from a DataFrame.\n",
      "Try using .loc[row_indexer,col_indexer] = value instead\n",
      "\n",
      "See the caveats in the documentation: https://pandas.pydata.org/pandas-docs/stable/user_guide/indexing.html#returning-a-view-versus-a-copy\n",
      "  \"\"\"Entry point for launching an IPython kernel.\n"
     ]
    }
   ],
   "source": [
    "negative_df['Y'] = 0\n",
    "drugbank['Y'] = 1\n",
    "drugbank = drugbank.append(negative_df.sample(int(len(drugbank)*5))) ## NUMBER OF NEGATIVE SAMPLES TO PICK\n",
    "drugbank = drugbank.drop('shortest_path', axis = 1)"
   ]
  },
  {
   "cell_type": "code",
   "execution_count": 51,
   "metadata": {},
   "outputs": [
    {
     "data": {
      "text/html": [
       "<div>\n",
       "<style scoped>\n",
       "    .dataframe tbody tr th:only-of-type {\n",
       "        vertical-align: middle;\n",
       "    }\n",
       "\n",
       "    .dataframe tbody tr th {\n",
       "        vertical-align: top;\n",
       "    }\n",
       "\n",
       "    .dataframe thead th {\n",
       "        text-align: right;\n",
       "    }\n",
       "</style>\n",
       "<table border=\"1\" class=\"dataframe\">\n",
       "  <thead>\n",
       "    <tr style=\"text-align: right;\">\n",
       "      <th></th>\n",
       "      <th>drug_id</th>\n",
       "      <th>gene_id</th>\n",
       "      <th>drug_fingerprint_code</th>\n",
       "      <th>target_gene_code</th>\n",
       "      <th>Y</th>\n",
       "    </tr>\n",
       "  </thead>\n",
       "  <tbody>\n",
       "  </tbody>\n",
       "</table>\n",
       "</div>"
      ],
      "text/plain": [
       "Empty DataFrame\n",
       "Columns: [drug_id, gene_id, drug_fingerprint_code, target_gene_code, Y]\n",
       "Index: []"
      ]
     },
     "execution_count": 51,
     "metadata": {},
     "output_type": "execute_result"
    }
   ],
   "source": [
    "drugbank[drugbank['target_gene_code'].str.contains('S').isna()]"
   ]
  },
  {
   "cell_type": "code",
   "execution_count": 52,
   "metadata": {},
   "outputs": [],
   "source": [
    "drugbank = drugbank[~ drugbank['drug_fingerprint_code'].str.contains('n')]"
   ]
  },
  {
   "cell_type": "markdown",
   "metadata": {},
   "source": [
    "#### The dataset is clean and balanced"
   ]
  },
  {
   "cell_type": "code",
   "execution_count": 53,
   "metadata": {},
   "outputs": [
    {
     "data": {
      "text/plain": [
       "0    0.83331\n",
       "1    0.16669\n",
       "Name: Y, dtype: float64"
      ]
     },
     "execution_count": 53,
     "metadata": {},
     "output_type": "execute_result"
    }
   ],
   "source": [
    "drugbank['Y'].value_counts()/len(drugbank)"
   ]
  },
  {
   "cell_type": "code",
   "execution_count": 54,
   "metadata": {},
   "outputs": [
    {
     "data": {
      "text/plain": [
       "<matplotlib.axes._subplots.AxesSubplot at 0x7f125286b588>"
      ]
     },
     "execution_count": 54,
     "metadata": {},
     "output_type": "execute_result"
    },
    {
     "data": {
      "image/png": "[encoded data removed]",
      "text/plain": [
       "<Figure size 432x288 with 1 Axes>"
      ]
     },
     "metadata": {
      "needs_background": "light"
     },
     "output_type": "display_data"
    }
   ],
   "source": [
    "drugbank['Y'].hist()"
   ]
  },
  {
   "cell_type": "markdown",
   "metadata": {},
   "source": [
    "#### Preprocessing fingerprints to feed to CNN"
   ]
  },
  {
   "cell_type": "code",
   "execution_count": 55,
   "metadata": {},
   "outputs": [
    {
     "data": {
      "application/vnd.jupyter.widget-view+json": {
       "model_id": "9b0017b06c9049af9dc8c44ad86ae369",
       "version_major": 2,
       "version_minor": 0
      },
      "text/plain": [
       "HBox(children=(FloatProgress(value=0.0, max=84432.0), HTML(value='')))"
      ]
     },
     "metadata": {},
     "output_type": "display_data"
    },
    {
     "name": "stdout",
     "output_type": "stream",
     "text": [
      "\n"
     ]
    },
    {
     "data": {
      "application/vnd.jupyter.widget-view+json": {
       "model_id": "2065fa5bfab940f7bac41225bd48d371",
       "version_major": 2,
       "version_minor": 0
      },
      "text/plain": [
       "HBox(children=(FloatProgress(value=0.0, max=84432.0), HTML(value='')))"
      ]
     },
     "metadata": {},
     "output_type": "display_data"
    },
    {
     "name": "stdout",
     "output_type": "stream",
     "text": [
      "\n"
     ]
    }
   ],
   "source": [
    "label_encoder = LabelEncoder()\n",
    "label_encoder.fit(list(drugbank['target_gene_code'].iloc[0]))\n",
    "\n",
    "with open('data/gene_encoder.pkl', 'wb') as f:\n",
    "    pkl.dump(label_encoder, f)\n",
    "    \n",
    "gene_chars = set(list(drugbank['target_gene_code'].iloc[0]))\n",
    "\n",
    "drugbank['target_gene_encoded'] = drugbank['target_gene_code'].progress_apply(\\\n",
    "                                   lambda x: label_encoder.transform([i for i in list(x) if i in gene_chars]))\n",
    "drugbank['drug_fingerprint_encoded'] = drugbank['drug_fingerprint_code'].progress_apply(lambda x: [int(i) for i in x.replace(' ', '')])"
   ]
  },
  {
   "cell_type": "code",
   "execution_count": 56,
   "metadata": {},
   "outputs": [
    {
     "data": {
      "text/html": [
       "<div>\n",
       "<style scoped>\n",
       "    .dataframe tbody tr th:only-of-type {\n",
       "        vertical-align: middle;\n",
       "    }\n",
       "\n",
       "    .dataframe tbody tr th {\n",
       "        vertical-align: top;\n",
       "    }\n",
       "\n",
       "    .dataframe thead th {\n",
       "        text-align: right;\n",
       "    }\n",
       "</style>\n",
       "<table border=\"1\" class=\"dataframe\">\n",
       "  <thead>\n",
       "    <tr style=\"text-align: right;\">\n",
       "      <th></th>\n",
       "      <th>drug_id</th>\n",
       "      <th>gene_id</th>\n",
       "      <th>drug_fingerprint_code</th>\n",
       "      <th>target_gene_code</th>\n",
       "      <th>Y</th>\n",
       "      <th>target_gene_encoded</th>\n",
       "      <th>drug_fingerprint_encoded</th>\n",
       "    </tr>\n",
       "  </thead>\n",
       "  <tbody>\n",
       "    <tr>\n",
       "      <th>0</th>\n",
       "      <td>DB03313</td>\n",
       "      <td>BE0001349</td>\n",
       "      <td>2246728737 3545365497 2246699815 2664995851 86...</td>\n",
       "      <td>ATGGTCTCAGGAACGGTGGGCAGAGGTACGGCGCTGGGCGCGGTGC...</td>\n",
       "      <td>1</td>\n",
       "      <td>[0, 3, 2, 2, 3, 1, 3, 1, 0, 2, 2, 0, 0, 1, 2, ...</td>\n",
       "      <td>[2, 2, 4, 6, 7, 2, 8, 7, 3, 7, 3, 5, 4, 5, 3, ...</td>\n",
       "    </tr>\n",
       "    <tr>\n",
       "      <th>1</th>\n",
       "      <td>DB03313</td>\n",
       "      <td>BE0004335</td>\n",
       "      <td>2246728737 3545365497 2246699815 2664995851 86...</td>\n",
       "      <td>ATGCAAAATCAATTAAATGAATTAAAACGAAAAATGCTGGAATTTT...</td>\n",
       "      <td>1</td>\n",
       "      <td>[0, 3, 2, 1, 0, 0, 0, 0, 3, 1, 0, 0, 3, 3, 0, ...</td>\n",
       "      <td>[2, 2, 4, 6, 7, 2, 8, 7, 3, 7, 3, 5, 4, 5, 3, ...</td>\n",
       "    </tr>\n",
       "    <tr>\n",
       "      <th>2</th>\n",
       "      <td>DB03313</td>\n",
       "      <td>BE0004290</td>\n",
       "      <td>2246728737 3545365497 2246699815 2664995851 86...</td>\n",
       "      <td>ATGAACAAACCAACGATTCTGCGCCTAATCAAGTATCTGAGCATTA...</td>\n",
       "      <td>1</td>\n",
       "      <td>[0, 3, 2, 0, 0, 1, 0, 0, 0, 1, 1, 0, 0, 1, 2, ...</td>\n",
       "      <td>[2, 2, 4, 6, 7, 2, 8, 7, 3, 7, 3, 5, 4, 5, 3, ...</td>\n",
       "    </tr>\n",
       "    <tr>\n",
       "      <th>3</th>\n",
       "      <td>DB03313</td>\n",
       "      <td>BE0003624</td>\n",
       "      <td>2246728737 3545365497 2246699815 2664995851 86...</td>\n",
       "      <td>ATGAGACTGATTTGTATGAGAAAATTTAACAGCCATTCGATTCCGA...</td>\n",
       "      <td>1</td>\n",
       "      <td>[0, 3, 2, 0, 2, 0, 1, 3, 2, 0, 3, 3, 3, 2, 3, ...</td>\n",
       "      <td>[2, 2, 4, 6, 7, 2, 8, 7, 3, 7, 3, 5, 4, 5, 3, ...</td>\n",
       "    </tr>\n",
       "    <tr>\n",
       "      <th>4</th>\n",
       "      <td>DB03313</td>\n",
       "      <td>BE0004644</td>\n",
       "      <td>2246728737 3545365497 2246699815 2664995851 86...</td>\n",
       "      <td>ATGAAATTAGATAAATTATTTGAGAAATTTCTTTCTCTTTTTAAAA...</td>\n",
       "      <td>1</td>\n",
       "      <td>[0, 3, 2, 0, 0, 0, 3, 3, 0, 2, 0, 3, 0, 0, 0, ...</td>\n",
       "      <td>[2, 2, 4, 6, 7, 2, 8, 7, 3, 7, 3, 5, 4, 5, 3, ...</td>\n",
       "    </tr>\n",
       "  </tbody>\n",
       "</table>\n",
       "</div>"
      ],
      "text/plain": [
       "   drug_id    gene_id                              drug_fingerprint_code  \\\n",
       "0  DB03313  BE0001349  2246728737 3545365497 2246699815 2664995851 86...   \n",
       "1  DB03313  BE0004335  2246728737 3545365497 2246699815 2664995851 86...   \n",
       "2  DB03313  BE0004290  2246728737 3545365497 2246699815 2664995851 86...   \n",
       "3  DB03313  BE0003624  2246728737 3545365497 2246699815 2664995851 86...   \n",
       "4  DB03313  BE0004644  2246728737 3545365497 2246699815 2664995851 86...   \n",
       "\n",
       "                                    target_gene_code  Y  \\\n",
       "0  ATGGTCTCAGGAACGGTGGGCAGAGGTACGGCGCTGGGCGCGGTGC...  1   \n",
       "1  ATGCAAAATCAATTAAATGAATTAAAACGAAAAATGCTGGAATTTT...  1   \n",
       "2  ATGAACAAACCAACGATTCTGCGCCTAATCAAGTATCTGAGCATTA...  1   \n",
       "3  ATGAGACTGATTTGTATGAGAAAATTTAACAGCCATTCGATTCCGA...  1   \n",
       "4  ATGAAATTAGATAAATTATTTGAGAAATTTCTTTCTCTTTTTAAAA...  1   \n",
       "\n",
       "                                 target_gene_encoded  \\\n",
       "0  [0, 3, 2, 2, 3, 1, 3, 1, 0, 2, 2, 0, 0, 1, 2, ...   \n",
       "1  [0, 3, 2, 1, 0, 0, 0, 0, 3, 1, 0, 0, 3, 3, 0, ...   \n",
       "2  [0, 3, 2, 0, 0, 1, 0, 0, 0, 1, 1, 0, 0, 1, 2, ...   \n",
       "3  [0, 3, 2, 0, 2, 0, 1, 3, 2, 0, 3, 3, 3, 2, 3, ...   \n",
       "4  [0, 3, 2, 0, 0, 0, 3, 3, 0, 2, 0, 3, 0, 0, 0, ...   \n",
       "\n",
       "                            drug_fingerprint_encoded  \n",
       "0  [2, 2, 4, 6, 7, 2, 8, 7, 3, 7, 3, 5, 4, 5, 3, ...  \n",
       "1  [2, 2, 4, 6, 7, 2, 8, 7, 3, 7, 3, 5, 4, 5, 3, ...  \n",
       "2  [2, 2, 4, 6, 7, 2, 8, 7, 3, 7, 3, 5, 4, 5, 3, ...  \n",
       "3  [2, 2, 4, 6, 7, 2, 8, 7, 3, 7, 3, 5, 4, 5, 3, ...  \n",
       "4  [2, 2, 4, 6, 7, 2, 8, 7, 3, 7, 3, 5, 4, 5, 3, ...  "
      ]
     },
     "execution_count": 56,
     "metadata": {},
     "output_type": "execute_result"
    }
   ],
   "source": [
    "drugbank.head()"
   ]
  },
  {
   "cell_type": "markdown",
   "metadata": {},
   "source": [
    "#### Calculate length mismatches and pad"
   ]
  },
  {
   "cell_type": "code",
   "execution_count": 57,
   "metadata": {},
   "outputs": [],
   "source": [
    "drugbank['target_gene_encoded_len'] = drugbank['target_gene_encoded']\\\n",
    "                                    .apply(lambda x: len(x))\n",
    "drugbank['drug_fingerprint_encoded_len'] = drugbank['drug_fingerprint_encoded']\\\n",
    "                                    .apply(lambda x: len(x))"
   ]
  },
  {
   "cell_type": "code",
   "execution_count": 58,
   "metadata": {},
   "outputs": [],
   "source": [
    "drugbank['mismatch'] = drugbank[['target_gene_encoded', 'drug_fingerprint_encoded']]\\\n",
    "                        .apply(lambda x: len(x['target_gene_encoded']) - len(x['drug_fingerprint_encoded']), axis = 1)"
   ]
  },
  {
   "cell_type": "markdown",
   "metadata": {},
   "source": [
    "## Most Genes are longer than fingerprints"
   ]
  },
  {
   "cell_type": "code",
   "execution_count": 59,
   "metadata": {},
   "outputs": [
    {
     "data": {
      "text/plain": [
       "<matplotlib.axes._subplots.AxesSubplot at 0x7f125c2c6da0>"
      ]
     },
     "execution_count": 59,
     "metadata": {},
     "output_type": "execute_result"
    },
    {
     "data": {
      "image/png": "[encoded data removed]",
      "text/plain": [
       "<Figure size 720x360 with 1 Axes>"
      ]
     },
     "metadata": {
      "needs_background": "light"
     },
     "output_type": "display_data"
    }
   ],
   "source": [
    "drugbank['mismatch'].hist(bins = 100, figsize = (10, 5))"
   ]
  },
  {
   "cell_type": "code",
   "execution_count": 60,
   "metadata": {},
   "outputs": [
    {
     "name": "stdout",
     "output_type": "stream",
     "text": [
      "95 percent of the mismatches are of the range 64.439060 to 97.560940\n"
     ]
    }
   ],
   "source": [
    "print('95 percent of the mismatches are of the range %f to %f' % (max(drugbank['mismatch'].value_counts()) - np.std(drugbank['mismatch'].value_counts()),\n",
    "                                                           max(drugbank['mismatch'].value_counts()) + np.std(drugbank['mismatch'].value_counts())))"
   ]
  },
  {
   "cell_type": "code",
   "execution_count": 61,
   "metadata": {},
   "outputs": [],
   "source": [
    "max_target_gene_encoded_len = max(drugbank['target_gene_encoded_len'])\n",
    "max_drug_fingerprint_encoded_len = max(drugbank['drug_fingerprint_encoded_len'])"
   ]
  },
  {
   "cell_type": "code",
   "execution_count": 62,
   "metadata": {},
   "outputs": [],
   "source": [
    "drugbank['target_gene_encoded_mismatch'] = max_target_gene_encoded_len - drugbank['target_gene_encoded_len']"
   ]
  },
  {
   "cell_type": "code",
   "execution_count": 63,
   "metadata": {},
   "outputs": [],
   "source": [
    "drugbank['drug_fingerprint_encoded_mismatch'] = max_drug_fingerprint_encoded_len - drugbank['drug_fingerprint_encoded_len'] "
   ]
  },
  {
   "cell_type": "code",
   "execution_count": 64,
   "metadata": {},
   "outputs": [
    {
     "data": {
      "text/plain": [
       "<matplotlib.axes._subplots.AxesSubplot at 0x7f12504b0128>"
      ]
     },
     "execution_count": 64,
     "metadata": {},
     "output_type": "execute_result"
    },
    {
     "data": {
      "image/png": "[encoded data removed]",
      "text/plain": [
       "<Figure size 720x360 with 1 Axes>"
      ]
     },
     "metadata": {
      "needs_background": "light"
     },
     "output_type": "display_data"
    }
   ],
   "source": [
    "drugbank['drug_fingerprint_encoded_mismatch'].hist(bins = 100, figsize = (10, 5), log = True)"
   ]
  },
  {
   "cell_type": "code",
   "execution_count": 65,
   "metadata": {},
   "outputs": [
    {
     "data": {
      "text/plain": [
       "<matplotlib.axes._subplots.AxesSubplot at 0x7f1250672dd8>"
      ]
     },
     "execution_count": 65,
     "metadata": {},
     "output_type": "execute_result"
    },
    {
     "data": {
      "image/png": "[encoded data removed]",
      "text/plain": [
       "<Figure size 720x360 with 1 Axes>"
      ]
     },
     "metadata": {
      "needs_background": "light"
     },
     "output_type": "display_data"
    }
   ],
   "source": [
    "drugbank['target_gene_encoded_mismatch'].hist(bins = 100, figsize = (10, 5), log = True)"
   ]
  },
  {
   "cell_type": "markdown",
   "metadata": {},
   "source": [
    "#### There appears to be quite large intracolumn mismatches in length. Unsure how to deal with it now. Current strategy is to pad the inputs and model it"
   ]
  },
  {
   "cell_type": "code",
   "execution_count": 66,
   "metadata": {},
   "outputs": [
    {
     "data": {
      "application/vnd.jupyter.widget-view+json": {
       "model_id": "148134bee32f4872a3db8d8e08507b48",
       "version_major": 2,
       "version_minor": 0
      },
      "text/plain": [
       "HBox(children=(FloatProgress(value=0.0, max=84432.0), HTML(value='')))"
      ]
     },
     "metadata": {},
     "output_type": "display_data"
    },
    {
     "name": "stdout",
     "output_type": "stream",
     "text": [
      "\n"
     ]
    }
   ],
   "source": [
    "drugbank['target_gene_encoded_padded'] = drugbank[['target_gene_encoded','target_gene_encoded_mismatch']]\\\n",
    "                                         .progress_apply(lambda x: ['-1' for i in range(int(x['target_gene_encoded_mismatch']/2))] +   \n",
    "                                                        list(x['target_gene_encoded']) +\n",
    "                                                        ['-1' for i in range (int(x['target_gene_encoded_mismatch']/2))]\n",
    "                                                        , axis = 1)\n",
    "drugbank['target_gene_encoded_padded'] = drugbank['target_gene_encoded_padded'].apply(lambda x: x + ['-1'] if len(x) < max_target_gene_encoded_len else x)"
   ]
  },
  {
   "cell_type": "code",
   "execution_count": 67,
   "metadata": {},
   "outputs": [
    {
     "data": {
      "application/vnd.jupyter.widget-view+json": {
       "model_id": "3f1699e1fe964419bd0241030546ccd4",
       "version_major": 2,
       "version_minor": 0
      },
      "text/plain": [
       "HBox(children=(FloatProgress(value=0.0, max=84432.0), HTML(value='')))"
      ]
     },
     "metadata": {},
     "output_type": "display_data"
    },
    {
     "name": "stdout",
     "output_type": "stream",
     "text": [
      "\n"
     ]
    }
   ],
   "source": [
    "drugbank['drug_fingerprint_encoded_padded'] = drugbank[['drug_fingerprint_encoded','drug_fingerprint_encoded_mismatch']]\\\n",
    "                                         .progress_apply(lambda x: ['-1' for i in range(int(x['drug_fingerprint_encoded_mismatch']/2))] +   \n",
    "                                                        list(x['drug_fingerprint_encoded']) +\n",
    "                                                        ['-1' for i in range (int(x['drug_fingerprint_encoded_mismatch']/2))]\n",
    "                                                        , axis = 1)\n",
    "\n",
    "drugbank['drug_fingerprint_encoded_padded'] = drugbank['drug_fingerprint_encoded_padded'].apply(lambda x: x + ['-1'] if len(x) < max_drug_fingerprint_encoded_len else x)"
   ]
  },
  {
   "cell_type": "code",
   "execution_count": 69,
   "metadata": {
    "scrolled": true
   },
   "outputs": [
    {
     "data": {
      "text/html": [
       "<div>\n",
       "<style scoped>\n",
       "    .dataframe tbody tr th:only-of-type {\n",
       "        vertical-align: middle;\n",
       "    }\n",
       "\n",
       "    .dataframe tbody tr th {\n",
       "        vertical-align: top;\n",
       "    }\n",
       "\n",
       "    .dataframe thead th {\n",
       "        text-align: right;\n",
       "    }\n",
       "</style>\n",
       "<table border=\"1\" class=\"dataframe\">\n",
       "  <thead>\n",
       "    <tr style=\"text-align: right;\">\n",
       "      <th></th>\n",
       "      <th>drug_id</th>\n",
       "      <th>gene_id</th>\n",
       "      <th>drug_fingerprint_code</th>\n",
       "      <th>target_gene_code</th>\n",
       "      <th>Y</th>\n",
       "      <th>target_gene_encoded</th>\n",
       "      <th>drug_fingerprint_encoded</th>\n",
       "      <th>target_gene_encoded_len</th>\n",
       "      <th>drug_fingerprint_encoded_len</th>\n",
       "      <th>mismatch</th>\n",
       "      <th>target_gene_encoded_mismatch</th>\n",
       "      <th>drug_fingerprint_encoded_mismatch</th>\n",
       "      <th>target_gene_encoded_padded</th>\n",
       "      <th>drug_fingerprint_encoded_padded</th>\n",
       "    </tr>\n",
       "  </thead>\n",
       "  <tbody>\n",
       "    <tr>\n",
       "      <th>1279543</th>\n",
       "      <td>DB02704</td>\n",
       "      <td>BE0004010</td>\n",
       "      <td>2968968094 1824088295 2976033787 1228528465 29...</td>\n",
       "      <td>ATGCATTTAAATCCAGCAGAGAAAGAAAAATTACAAATTTTTCTAG...</td>\n",
       "      <td>0</td>\n",
       "      <td>[0, 3, 2, 1, 0, 3, 3, 3, 0, 0, 0, 3, 1, 1, 0, ...</td>\n",
       "      <td>[2, 9, 6, 8, 9, 6, 8, 0, 9, 4, 1, 8, 2, 4, 0, ...</td>\n",
       "      <td>303</td>\n",
       "      <td>916</td>\n",
       "      <td>-613</td>\n",
       "      <td>20919</td>\n",
       "      <td>8585</td>\n",
       "      <td>[-1, -1, -1, -1, -1, -1, -1, -1, -1, -1, -1, -...</td>\n",
       "      <td>[-1, -1, -1, -1, -1, -1, -1, -1, -1, -1, -1, -...</td>\n",
       "    </tr>\n",
       "    <tr>\n",
       "      <th>792055</th>\n",
       "      <td>DB06684</td>\n",
       "      <td>BE0001790</td>\n",
       "      <td>2968968094 2803848648 2968968094 2803848648 20...</td>\n",
       "      <td>ATGGAAATTAATGTGAGTAAATTAAGAACAGATTTGCCTCAAGTCG...</td>\n",
       "      <td>0</td>\n",
       "      <td>[0, 3, 2, 2, 0, 0, 0, 3, 3, 0, 0, 3, 2, 3, 2, ...</td>\n",
       "      <td>[2, 9, 6, 8, 9, 6, 8, 0, 9, 4, 2, 8, 0, 3, 8, ...</td>\n",
       "      <td>957</td>\n",
       "      <td>644</td>\n",
       "      <td>313</td>\n",
       "      <td>20265</td>\n",
       "      <td>8857</td>\n",
       "      <td>[-1, -1, -1, -1, -1, -1, -1, -1, -1, -1, -1, -...</td>\n",
       "      <td>[-1, -1, -1, -1, -1, -1, -1, -1, -1, -1, -1, -...</td>\n",
       "    </tr>\n",
       "    <tr>\n",
       "      <th>742897</th>\n",
       "      <td>DB03811</td>\n",
       "      <td>BE0001167</td>\n",
       "      <td>3218693969 3777168895 3217380708 3585958780 21...</td>\n",
       "      <td>ATGCCAAACTACAAACTCACTTATTTTAATATGAGGGGGAGAGCAG...</td>\n",
       "      <td>0</td>\n",
       "      <td>[0, 3, 2, 1, 1, 0, 0, 0, 1, 3, 0, 1, 0, 0, 0, ...</td>\n",
       "      <td>[3, 2, 1, 8, 6, 9, 3, 9, 6, 9, 3, 7, 7, 7, 1, ...</td>\n",
       "      <td>600</td>\n",
       "      <td>195</td>\n",
       "      <td>405</td>\n",
       "      <td>20622</td>\n",
       "      <td>9306</td>\n",
       "      <td>[-1, -1, -1, -1, -1, -1, -1, -1, -1, -1, -1, -...</td>\n",
       "      <td>[-1, -1, -1, -1, -1, -1, -1, -1, -1, -1, -1, -...</td>\n",
       "    </tr>\n",
       "    <tr>\n",
       "      <th>886712</th>\n",
       "      <td>DB02095</td>\n",
       "      <td>BE0004952</td>\n",
       "      <td>3218693969 98513984 3218693969 98513984 321869...</td>\n",
       "      <td>ATGATCATCTTAATTTACTTATTTCTCTTGCTATGGGAAGACACTC...</td>\n",
       "      <td>0</td>\n",
       "      <td>[0, 3, 2, 0, 3, 1, 0, 3, 1, 3, 3, 0, 0, 3, 3, ...</td>\n",
       "      <td>[3, 2, 1, 8, 6, 9, 3, 9, 6, 9, 9, 8, 5, 1, 3, ...</td>\n",
       "      <td>834</td>\n",
       "      <td>207</td>\n",
       "      <td>627</td>\n",
       "      <td>20388</td>\n",
       "      <td>9294</td>\n",
       "      <td>[-1, -1, -1, -1, -1, -1, -1, -1, -1, -1, -1, -...</td>\n",
       "      <td>[-1, -1, -1, -1, -1, -1, -1, -1, -1, -1, -1, -...</td>\n",
       "    </tr>\n",
       "    <tr>\n",
       "      <th>423507</th>\n",
       "      <td>DB03698</td>\n",
       "      <td>BE0002359</td>\n",
       "      <td>2246728737 3542456614 2245384272 1173125914 22...</td>\n",
       "      <td>ATGATGATGATGATGATGATGAAAAAAATGCAGCATCAACGGCAGC...</td>\n",
       "      <td>0</td>\n",
       "      <td>[0, 3, 2, 0, 3, 2, 0, 3, 2, 0, 3, 2, 0, 3, 2, ...</td>\n",
       "      <td>[2, 2, 4, 6, 7, 2, 8, 7, 3, 7, 3, 5, 4, 2, 4, ...</td>\n",
       "      <td>6546</td>\n",
       "      <td>1216</td>\n",
       "      <td>5330</td>\n",
       "      <td>14676</td>\n",
       "      <td>8285</td>\n",
       "      <td>[-1, -1, -1, -1, -1, -1, -1, -1, -1, -1, -1, -...</td>\n",
       "      <td>[-1, -1, -1, -1, -1, -1, -1, -1, -1, -1, -1, -...</td>\n",
       "    </tr>\n",
       "    <tr>\n",
       "      <th>...</th>\n",
       "      <td>...</td>\n",
       "      <td>...</td>\n",
       "      <td>...</td>\n",
       "      <td>...</td>\n",
       "      <td>...</td>\n",
       "      <td>...</td>\n",
       "      <td>...</td>\n",
       "      <td>...</td>\n",
       "      <td>...</td>\n",
       "      <td>...</td>\n",
       "      <td>...</td>\n",
       "      <td>...</td>\n",
       "      <td>...</td>\n",
       "      <td>...</td>\n",
       "    </tr>\n",
       "    <tr>\n",
       "      <th>9379</th>\n",
       "      <td>DB08280</td>\n",
       "      <td>BE0000329</td>\n",
       "      <td>2246728737 3537123720 2245277810 2442433719 22...</td>\n",
       "      <td>ATGGCTTTTATGAAAAAATATCTCCTCCCCATTCTGGGGCTCTTCA...</td>\n",
       "      <td>1</td>\n",
       "      <td>[0, 3, 2, 2, 1, 3, 3, 3, 3, 0, 3, 2, 0, 0, 0, ...</td>\n",
       "      <td>[2, 2, 4, 6, 7, 2, 8, 7, 3, 7, 3, 5, 3, 7, 1, ...</td>\n",
       "      <td>879</td>\n",
       "      <td>544</td>\n",
       "      <td>335</td>\n",
       "      <td>20343</td>\n",
       "      <td>8957</td>\n",
       "      <td>[-1, -1, -1, -1, -1, -1, -1, -1, -1, -1, -1, -...</td>\n",
       "      <td>[-1, -1, -1, -1, -1, -1, -1, -1, -1, -1, -1, -...</td>\n",
       "    </tr>\n",
       "    <tr>\n",
       "      <th>9378</th>\n",
       "      <td>DB04113</td>\n",
       "      <td>BE0000465</td>\n",
       "      <td>2968968094 2142032900 2968968094 2142032900 29...</td>\n",
       "      <td>ATGAGCACAGCAGGAAAAGTAATCAAATGCAAAGCAGCTGTGCTAT...</td>\n",
       "      <td>1</td>\n",
       "      <td>[0, 3, 2, 0, 2, 1, 0, 1, 0, 2, 1, 0, 2, 2, 0, ...</td>\n",
       "      <td>[2, 9, 6, 8, 9, 6, 8, 0, 9, 4, 2, 1, 4, 2, 0, ...</td>\n",
       "      <td>1128</td>\n",
       "      <td>158</td>\n",
       "      <td>970</td>\n",
       "      <td>20094</td>\n",
       "      <td>9343</td>\n",
       "      <td>[-1, -1, -1, -1, -1, -1, -1, -1, -1, -1, -1, -...</td>\n",
       "      <td>[-1, -1, -1, -1, -1, -1, -1, -1, -1, -1, -1, -...</td>\n",
       "    </tr>\n",
       "    <tr>\n",
       "      <th>9377</th>\n",
       "      <td>DB08198</td>\n",
       "      <td>BE0001852</td>\n",
       "      <td>2246728737 422715066 3217380708 4247217172 321...</td>\n",
       "      <td>ATGGCGTCGCAGCCAAATTCGTCTGCGAAGAAGAAAGAGGAGAAGG...</td>\n",
       "      <td>1</td>\n",
       "      <td>[0, 3, 2, 2, 1, 2, 3, 1, 2, 1, 0, 2, 1, 1, 0, ...</td>\n",
       "      <td>[2, 2, 4, 6, 7, 2, 8, 7, 3, 7, 4, 2, 2, 7, 1, ...</td>\n",
       "      <td>3171</td>\n",
       "      <td>460</td>\n",
       "      <td>2711</td>\n",
       "      <td>18051</td>\n",
       "      <td>9041</td>\n",
       "      <td>[-1, -1, -1, -1, -1, -1, -1, -1, -1, -1, -1, -...</td>\n",
       "      <td>[-1, -1, -1, -1, -1, -1, -1, -1, -1, -1, -1, -...</td>\n",
       "    </tr>\n",
       "    <tr>\n",
       "      <th>9388</th>\n",
       "      <td>DB09076</td>\n",
       "      <td>BE0000560</td>\n",
       "      <td>2968968094 2119439498 2968968094 1653789098 21...</td>\n",
       "      <td>ATGAATAACTCAACAAACTCCTCTAACAATAGCCTGGCTCTTACAA...</td>\n",
       "      <td>1</td>\n",
       "      <td>[0, 3, 2, 0, 0, 3, 0, 0, 1, 3, 1, 0, 0, 1, 0, ...</td>\n",
       "      <td>[2, 9, 6, 8, 9, 6, 8, 0, 9, 4, 2, 1, 1, 9, 4, ...</td>\n",
       "      <td>1401</td>\n",
       "      <td>612</td>\n",
       "      <td>789</td>\n",
       "      <td>19821</td>\n",
       "      <td>8889</td>\n",
       "      <td>[-1, -1, -1, -1, -1, -1, -1, -1, -1, -1, -1, -...</td>\n",
       "      <td>[-1, -1, -1, -1, -1, -1, -1, -1, -1, -1, -1, -...</td>\n",
       "    </tr>\n",
       "    <tr>\n",
       "      <th>0</th>\n",
       "      <td>DB03313</td>\n",
       "      <td>BE0001349</td>\n",
       "      <td>2246728737 3545365497 2246699815 2664995851 86...</td>\n",
       "      <td>ATGGTCTCAGGAACGGTGGGCAGAGGTACGGCGCTGGGCGCGGTGC...</td>\n",
       "      <td>1</td>\n",
       "      <td>[0, 3, 2, 2, 3, 1, 3, 1, 0, 2, 2, 0, 0, 1, 2, ...</td>\n",
       "      <td>[2, 2, 4, 6, 7, 2, 8, 7, 3, 7, 3, 5, 4, 5, 3, ...</td>\n",
       "      <td>1221</td>\n",
       "      <td>547</td>\n",
       "      <td>674</td>\n",
       "      <td>20001</td>\n",
       "      <td>8954</td>\n",
       "      <td>[-1, -1, -1, -1, -1, -1, -1, -1, -1, -1, -1, -...</td>\n",
       "      <td>[-1, -1, -1, -1, -1, -1, -1, -1, -1, -1, -1, -...</td>\n",
       "    </tr>\n",
       "  </tbody>\n",
       "</table>\n",
       "<p>84432 rows × 14 columns</p>\n",
       "</div>"
      ],
      "text/plain": [
       "         drug_id    gene_id  \\\n",
       "1279543  DB02704  BE0004010   \n",
       "792055   DB06684  BE0001790   \n",
       "742897   DB03811  BE0001167   \n",
       "886712   DB02095  BE0004952   \n",
       "423507   DB03698  BE0002359   \n",
       "...          ...        ...   \n",
       "9379     DB08280  BE0000329   \n",
       "9378     DB04113  BE0000465   \n",
       "9377     DB08198  BE0001852   \n",
       "9388     DB09076  BE0000560   \n",
       "0        DB03313  BE0001349   \n",
       "\n",
       "                                     drug_fingerprint_code  \\\n",
       "1279543  2968968094 1824088295 2976033787 1228528465 29...   \n",
       "792055   2968968094 2803848648 2968968094 2803848648 20...   \n",
       "742897   3218693969 3777168895 3217380708 3585958780 21...   \n",
       "886712   3218693969 98513984 3218693969 98513984 321869...   \n",
       "423507   2246728737 3542456614 2245384272 1173125914 22...   \n",
       "...                                                    ...   \n",
       "9379     2246728737 3537123720 2245277810 2442433719 22...   \n",
       "9378     2968968094 2142032900 2968968094 2142032900 29...   \n",
       "9377     2246728737 422715066 3217380708 4247217172 321...   \n",
       "9388     2968968094 2119439498 2968968094 1653789098 21...   \n",
       "0        2246728737 3545365497 2246699815 2664995851 86...   \n",
       "\n",
       "                                          target_gene_code  Y  \\\n",
       "1279543  ATGCATTTAAATCCAGCAGAGAAAGAAAAATTACAAATTTTTCTAG...  0   \n",
       "792055   ATGGAAATTAATGTGAGTAAATTAAGAACAGATTTGCCTCAAGTCG...  0   \n",
       "742897   ATGCCAAACTACAAACTCACTTATTTTAATATGAGGGGGAGAGCAG...  0   \n",
       "886712   ATGATCATCTTAATTTACTTATTTCTCTTGCTATGGGAAGACACTC...  0   \n",
       "423507   ATGATGATGATGATGATGATGAAAAAAATGCAGCATCAACGGCAGC...  0   \n",
       "...                                                    ... ..   \n",
       "9379     ATGGCTTTTATGAAAAAATATCTCCTCCCCATTCTGGGGCTCTTCA...  1   \n",
       "9378     ATGAGCACAGCAGGAAAAGTAATCAAATGCAAAGCAGCTGTGCTAT...  1   \n",
       "9377     ATGGCGTCGCAGCCAAATTCGTCTGCGAAGAAGAAAGAGGAGAAGG...  1   \n",
       "9388     ATGAATAACTCAACAAACTCCTCTAACAATAGCCTGGCTCTTACAA...  1   \n",
       "0        ATGGTCTCAGGAACGGTGGGCAGAGGTACGGCGCTGGGCGCGGTGC...  1   \n",
       "\n",
       "                                       target_gene_encoded  \\\n",
       "1279543  [0, 3, 2, 1, 0, 3, 3, 3, 0, 0, 0, 3, 1, 1, 0, ...   \n",
       "792055   [0, 3, 2, 2, 0, 0, 0, 3, 3, 0, 0, 3, 2, 3, 2, ...   \n",
       "742897   [0, 3, 2, 1, 1, 0, 0, 0, 1, 3, 0, 1, 0, 0, 0, ...   \n",
       "886712   [0, 3, 2, 0, 3, 1, 0, 3, 1, 3, 3, 0, 0, 3, 3, ...   \n",
       "423507   [0, 3, 2, 0, 3, 2, 0, 3, 2, 0, 3, 2, 0, 3, 2, ...   \n",
       "...                                                    ...   \n",
       "9379     [0, 3, 2, 2, 1, 3, 3, 3, 3, 0, 3, 2, 0, 0, 0, ...   \n",
       "9378     [0, 3, 2, 0, 2, 1, 0, 1, 0, 2, 1, 0, 2, 2, 0, ...   \n",
       "9377     [0, 3, 2, 2, 1, 2, 3, 1, 2, 1, 0, 2, 1, 1, 0, ...   \n",
       "9388     [0, 3, 2, 0, 0, 3, 0, 0, 1, 3, 1, 0, 0, 1, 0, ...   \n",
       "0        [0, 3, 2, 2, 3, 1, 3, 1, 0, 2, 2, 0, 0, 1, 2, ...   \n",
       "\n",
       "                                  drug_fingerprint_encoded  \\\n",
       "1279543  [2, 9, 6, 8, 9, 6, 8, 0, 9, 4, 1, 8, 2, 4, 0, ...   \n",
       "792055   [2, 9, 6, 8, 9, 6, 8, 0, 9, 4, 2, 8, 0, 3, 8, ...   \n",
       "742897   [3, 2, 1, 8, 6, 9, 3, 9, 6, 9, 3, 7, 7, 7, 1, ...   \n",
       "886712   [3, 2, 1, 8, 6, 9, 3, 9, 6, 9, 9, 8, 5, 1, 3, ...   \n",
       "423507   [2, 2, 4, 6, 7, 2, 8, 7, 3, 7, 3, 5, 4, 2, 4, ...   \n",
       "...                                                    ...   \n",
       "9379     [2, 2, 4, 6, 7, 2, 8, 7, 3, 7, 3, 5, 3, 7, 1, ...   \n",
       "9378     [2, 9, 6, 8, 9, 6, 8, 0, 9, 4, 2, 1, 4, 2, 0, ...   \n",
       "9377     [2, 2, 4, 6, 7, 2, 8, 7, 3, 7, 4, 2, 2, 7, 1, ...   \n",
       "9388     [2, 9, 6, 8, 9, 6, 8, 0, 9, 4, 2, 1, 1, 9, 4, ...   \n",
       "0        [2, 2, 4, 6, 7, 2, 8, 7, 3, 7, 3, 5, 4, 5, 3, ...   \n",
       "\n",
       "         target_gene_encoded_len  drug_fingerprint_encoded_len  mismatch  \\\n",
       "1279543                      303                           916      -613   \n",
       "792055                       957                           644       313   \n",
       "742897                       600                           195       405   \n",
       "886712                       834                           207       627   \n",
       "423507                      6546                          1216      5330   \n",
       "...                          ...                           ...       ...   \n",
       "9379                         879                           544       335   \n",
       "9378                        1128                           158       970   \n",
       "9377                        3171                           460      2711   \n",
       "9388                        1401                           612       789   \n",
       "0                           1221                           547       674   \n",
       "\n",
       "         target_gene_encoded_mismatch  drug_fingerprint_encoded_mismatch  \\\n",
       "1279543                         20919                               8585   \n",
       "792055                          20265                               8857   \n",
       "742897                          20622                               9306   \n",
       "886712                          20388                               9294   \n",
       "423507                          14676                               8285   \n",
       "...                               ...                                ...   \n",
       "9379                            20343                               8957   \n",
       "9378                            20094                               9343   \n",
       "9377                            18051                               9041   \n",
       "9388                            19821                               8889   \n",
       "0                               20001                               8954   \n",
       "\n",
       "                                target_gene_encoded_padded  \\\n",
       "1279543  [-1, -1, -1, -1, -1, -1, -1, -1, -1, -1, -1, -...   \n",
       "792055   [-1, -1, -1, -1, -1, -1, -1, -1, -1, -1, -1, -...   \n",
       "742897   [-1, -1, -1, -1, -1, -1, -1, -1, -1, -1, -1, -...   \n",
       "886712   [-1, -1, -1, -1, -1, -1, -1, -1, -1, -1, -1, -...   \n",
       "423507   [-1, -1, -1, -1, -1, -1, -1, -1, -1, -1, -1, -...   \n",
       "...                                                    ...   \n",
       "9379     [-1, -1, -1, -1, -1, -1, -1, -1, -1, -1, -1, -...   \n",
       "9378     [-1, -1, -1, -1, -1, -1, -1, -1, -1, -1, -1, -...   \n",
       "9377     [-1, -1, -1, -1, -1, -1, -1, -1, -1, -1, -1, -...   \n",
       "9388     [-1, -1, -1, -1, -1, -1, -1, -1, -1, -1, -1, -...   \n",
       "0        [-1, -1, -1, -1, -1, -1, -1, -1, -1, -1, -1, -...   \n",
       "\n",
       "                           drug_fingerprint_encoded_padded  \n",
       "1279543  [-1, -1, -1, -1, -1, -1, -1, -1, -1, -1, -1, -...  \n",
       "792055   [-1, -1, -1, -1, -1, -1, -1, -1, -1, -1, -1, -...  \n",
       "742897   [-1, -1, -1, -1, -1, -1, -1, -1, -1, -1, -1, -...  \n",
       "886712   [-1, -1, -1, -1, -1, -1, -1, -1, -1, -1, -1, -...  \n",
       "423507   [-1, -1, -1, -1, -1, -1, -1, -1, -1, -1, -1, -...  \n",
       "...                                                    ...  \n",
       "9379     [-1, -1, -1, -1, -1, -1, -1, -1, -1, -1, -1, -...  \n",
       "9378     [-1, -1, -1, -1, -1, -1, -1, -1, -1, -1, -1, -...  \n",
       "9377     [-1, -1, -1, -1, -1, -1, -1, -1, -1, -1, -1, -...  \n",
       "9388     [-1, -1, -1, -1, -1, -1, -1, -1, -1, -1, -1, -...  \n",
       "0        [-1, -1, -1, -1, -1, -1, -1, -1, -1, -1, -1, -...  \n",
       "\n",
       "[84432 rows x 14 columns]"
      ]
     },
     "execution_count": 69,
     "metadata": {},
     "output_type": "execute_result"
    }
   ],
   "source": [
    "drugbank.sort_values('Y')"
   ]
  },
  {
   "cell_type": "code",
   "execution_count": 70,
   "metadata": {},
   "outputs": [],
   "source": [
    "drugbank.sort_values('Y').reset_index(drop=True).to_csv('data/intermediate/interactions_preprocessed.csv', index = False)"
   ]
  },
  {
   "cell_type": "code",
   "execution_count": null,
   "metadata": {},
   "outputs": [],
   "source": []
  }
 ],
 "metadata": {
  "kernelspec": {
   "display_name": "Python 3",
   "language": "python",
   "name": "python3"
  },
  "language_info": {
   "codemirror_mode": {
    "name": "ipython",
    "version": 3
   },
   "file_extension": ".py",
   "mimetype": "text/x-python",
   "name": "python",
   "nbconvert_exporter": "python",
   "pygments_lexer": "ipython3",
   "version": "3.6.6"
  }
 },
 "nbformat": 4,
 "nbformat_minor": 2
}
