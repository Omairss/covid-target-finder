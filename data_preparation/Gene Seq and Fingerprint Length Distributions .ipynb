{
 "cells": [
  {
   "cell_type": "code",
   "execution_count": 65,
   "metadata": {},
   "outputs": [],
   "source": [
    "import pandas as pd\n",
    "import numpy as np\n",
    "import matplotlib.pyplot as plt\n",
    "%matplotlib inline\n",
    "import joblib"
   ]
  },
  {
   "cell_type": "code",
   "execution_count": 66,
   "metadata": {},
   "outputs": [],
   "source": [
    "distributions={}"
   ]
  },
  {
   "cell_type": "code",
   "execution_count": 41,
   "metadata": {},
   "outputs": [],
   "source": [
    "drugbank = pd.read_csv('data/intermediate/interactions_preprocessed.csv')"
   ]
  },
  {
   "cell_type": "code",
   "execution_count": 3,
   "metadata": {
    "scrolled": true
   },
   "outputs": [
    {
     "data": {
      "text/html": [
       "<div>\n",
       "<style scoped>\n",
       "    .dataframe tbody tr th:only-of-type {\n",
       "        vertical-align: middle;\n",
       "    }\n",
       "\n",
       "    .dataframe tbody tr th {\n",
       "        vertical-align: top;\n",
       "    }\n",
       "\n",
       "    .dataframe thead th {\n",
       "        text-align: right;\n",
       "    }\n",
       "</style>\n",
       "<table border=\"1\" class=\"dataframe\">\n",
       "  <thead>\n",
       "    <tr style=\"text-align: right;\">\n",
       "      <th></th>\n",
       "      <th>drug_id</th>\n",
       "      <th>gene_id</th>\n",
       "      <th>drug_fingerprint_code</th>\n",
       "      <th>target_gene_code</th>\n",
       "      <th>Y</th>\n",
       "      <th>target_gene_encoded</th>\n",
       "      <th>drug_fingerprint_encoded</th>\n",
       "      <th>target_gene_encoded_len</th>\n",
       "      <th>drug_fingerprint_encoded_len</th>\n",
       "      <th>mismatch</th>\n",
       "      <th>target_gene_encoded_mismatch</th>\n",
       "      <th>drug_fingerprint_encoded_mismatch</th>\n",
       "      <th>target_gene_encoded_padded</th>\n",
       "      <th>drug_fingerprint_encoded_padded</th>\n",
       "    </tr>\n",
       "  </thead>\n",
       "  <tbody>\n",
       "    <tr>\n",
       "      <th>0</th>\n",
       "      <td>DB02704</td>\n",
       "      <td>BE0004010</td>\n",
       "      <td>2968968094 1824088295 2976033787 1228528465 29...</td>\n",
       "      <td>ATGCATTTAAATCCAGCAGAGAAAGAAAAATTACAAATTTTTCTAG...</td>\n",
       "      <td>0</td>\n",
       "      <td>[0 3 2 1 0 3 3 3 0 0 0 3 1 1 0 2 1 0 2 0 2 0 0...</td>\n",
       "      <td>[2, 9, 6, 8, 9, 6, 8, 0, 9, 4, 1, 8, 2, 4, 0, ...</td>\n",
       "      <td>303</td>\n",
       "      <td>916</td>\n",
       "      <td>-613</td>\n",
       "      <td>20919</td>\n",
       "      <td>8585</td>\n",
       "      <td>['-1', '-1', '-1', '-1', '-1', '-1', '-1', '-1...</td>\n",
       "      <td>['-1', '-1', '-1', '-1', '-1', '-1', '-1', '-1...</td>\n",
       "    </tr>\n",
       "    <tr>\n",
       "      <th>1</th>\n",
       "      <td>DB06684</td>\n",
       "      <td>BE0001790</td>\n",
       "      <td>2968968094 2803848648 2968968094 2803848648 20...</td>\n",
       "      <td>ATGGAAATTAATGTGAGTAAATTAAGAACAGATTTGCCTCAAGTCG...</td>\n",
       "      <td>0</td>\n",
       "      <td>[0 3 2 2 0 0 0 3 3 0 0 3 2 3 2 0 2 3 0 0 0 3 3...</td>\n",
       "      <td>[2, 9, 6, 8, 9, 6, 8, 0, 9, 4, 2, 8, 0, 3, 8, ...</td>\n",
       "      <td>957</td>\n",
       "      <td>644</td>\n",
       "      <td>313</td>\n",
       "      <td>20265</td>\n",
       "      <td>8857</td>\n",
       "      <td>['-1', '-1', '-1', '-1', '-1', '-1', '-1', '-1...</td>\n",
       "      <td>['-1', '-1', '-1', '-1', '-1', '-1', '-1', '-1...</td>\n",
       "    </tr>\n",
       "    <tr>\n",
       "      <th>2</th>\n",
       "      <td>DB03811</td>\n",
       "      <td>BE0001167</td>\n",
       "      <td>3218693969 3777168895 3217380708 3585958780 21...</td>\n",
       "      <td>ATGCCAAACTACAAACTCACTTATTTTAATATGAGGGGGAGAGCAG...</td>\n",
       "      <td>0</td>\n",
       "      <td>[0 3 2 1 1 0 0 0 1 3 0 1 0 0 0 1 3 1 0 1 3 3 0...</td>\n",
       "      <td>[3, 2, 1, 8, 6, 9, 3, 9, 6, 9, 3, 7, 7, 7, 1, ...</td>\n",
       "      <td>600</td>\n",
       "      <td>195</td>\n",
       "      <td>405</td>\n",
       "      <td>20622</td>\n",
       "      <td>9306</td>\n",
       "      <td>['-1', '-1', '-1', '-1', '-1', '-1', '-1', '-1...</td>\n",
       "      <td>['-1', '-1', '-1', '-1', '-1', '-1', '-1', '-1...</td>\n",
       "    </tr>\n",
       "    <tr>\n",
       "      <th>3</th>\n",
       "      <td>DB02095</td>\n",
       "      <td>BE0004952</td>\n",
       "      <td>3218693969 98513984 3218693969 98513984 321869...</td>\n",
       "      <td>ATGATCATCTTAATTTACTTATTTCTCTTGCTATGGGAAGACACTC...</td>\n",
       "      <td>0</td>\n",
       "      <td>[0 3 2 0 3 1 0 3 1 3 3 0 0 3 3 3 0 1 3 3 0 3 3...</td>\n",
       "      <td>[3, 2, 1, 8, 6, 9, 3, 9, 6, 9, 9, 8, 5, 1, 3, ...</td>\n",
       "      <td>834</td>\n",
       "      <td>207</td>\n",
       "      <td>627</td>\n",
       "      <td>20388</td>\n",
       "      <td>9294</td>\n",
       "      <td>['-1', '-1', '-1', '-1', '-1', '-1', '-1', '-1...</td>\n",
       "      <td>['-1', '-1', '-1', '-1', '-1', '-1', '-1', '-1...</td>\n",
       "    </tr>\n",
       "    <tr>\n",
       "      <th>4</th>\n",
       "      <td>DB03698</td>\n",
       "      <td>BE0002359</td>\n",
       "      <td>2246728737 3542456614 2245384272 1173125914 22...</td>\n",
       "      <td>ATGATGATGATGATGATGATGAAAAAAATGCAGCATCAACGGCAGC...</td>\n",
       "      <td>0</td>\n",
       "      <td>[0 3 2 ... 3 0 2]</td>\n",
       "      <td>[2, 2, 4, 6, 7, 2, 8, 7, 3, 7, 3, 5, 4, 2, 4, ...</td>\n",
       "      <td>6546</td>\n",
       "      <td>1216</td>\n",
       "      <td>5330</td>\n",
       "      <td>14676</td>\n",
       "      <td>8285</td>\n",
       "      <td>['-1', '-1', '-1', '-1', '-1', '-1', '-1', '-1...</td>\n",
       "      <td>['-1', '-1', '-1', '-1', '-1', '-1', '-1', '-1...</td>\n",
       "    </tr>\n",
       "    <tr>\n",
       "      <th>...</th>\n",
       "      <td>...</td>\n",
       "      <td>...</td>\n",
       "      <td>...</td>\n",
       "      <td>...</td>\n",
       "      <td>...</td>\n",
       "      <td>...</td>\n",
       "      <td>...</td>\n",
       "      <td>...</td>\n",
       "      <td>...</td>\n",
       "      <td>...</td>\n",
       "      <td>...</td>\n",
       "      <td>...</td>\n",
       "      <td>...</td>\n",
       "      <td>...</td>\n",
       "    </tr>\n",
       "    <tr>\n",
       "      <th>84427</th>\n",
       "      <td>DB08280</td>\n",
       "      <td>BE0000329</td>\n",
       "      <td>2246728737 3537123720 2245277810 2442433719 22...</td>\n",
       "      <td>ATGGCTTTTATGAAAAAATATCTCCTCCCCATTCTGGGGCTCTTCA...</td>\n",
       "      <td>1</td>\n",
       "      <td>[0 3 2 2 1 3 3 3 3 0 3 2 0 0 0 0 0 0 3 0 3 1 3...</td>\n",
       "      <td>[2, 2, 4, 6, 7, 2, 8, 7, 3, 7, 3, 5, 3, 7, 1, ...</td>\n",
       "      <td>879</td>\n",
       "      <td>544</td>\n",
       "      <td>335</td>\n",
       "      <td>20343</td>\n",
       "      <td>8957</td>\n",
       "      <td>['-1', '-1', '-1', '-1', '-1', '-1', '-1', '-1...</td>\n",
       "      <td>['-1', '-1', '-1', '-1', '-1', '-1', '-1', '-1...</td>\n",
       "    </tr>\n",
       "    <tr>\n",
       "      <th>84428</th>\n",
       "      <td>DB04113</td>\n",
       "      <td>BE0000465</td>\n",
       "      <td>2968968094 2142032900 2968968094 2142032900 29...</td>\n",
       "      <td>ATGAGCACAGCAGGAAAAGTAATCAAATGCAAAGCAGCTGTGCTAT...</td>\n",
       "      <td>1</td>\n",
       "      <td>[0 3 2 ... 3 2 0]</td>\n",
       "      <td>[2, 9, 6, 8, 9, 6, 8, 0, 9, 4, 2, 1, 4, 2, 0, ...</td>\n",
       "      <td>1128</td>\n",
       "      <td>158</td>\n",
       "      <td>970</td>\n",
       "      <td>20094</td>\n",
       "      <td>9343</td>\n",
       "      <td>['-1', '-1', '-1', '-1', '-1', '-1', '-1', '-1...</td>\n",
       "      <td>['-1', '-1', '-1', '-1', '-1', '-1', '-1', '-1...</td>\n",
       "    </tr>\n",
       "    <tr>\n",
       "      <th>84429</th>\n",
       "      <td>DB08198</td>\n",
       "      <td>BE0001852</td>\n",
       "      <td>2246728737 422715066 3217380708 4247217172 321...</td>\n",
       "      <td>ATGGCGTCGCAGCCAAATTCGTCTGCGAAGAAGAAAGAGGAGAAGG...</td>\n",
       "      <td>1</td>\n",
       "      <td>[0 3 2 ... 3 0 0]</td>\n",
       "      <td>[2, 2, 4, 6, 7, 2, 8, 7, 3, 7, 4, 2, 2, 7, 1, ...</td>\n",
       "      <td>3171</td>\n",
       "      <td>460</td>\n",
       "      <td>2711</td>\n",
       "      <td>18051</td>\n",
       "      <td>9041</td>\n",
       "      <td>['-1', '-1', '-1', '-1', '-1', '-1', '-1', '-1...</td>\n",
       "      <td>['-1', '-1', '-1', '-1', '-1', '-1', '-1', '-1...</td>\n",
       "    </tr>\n",
       "    <tr>\n",
       "      <th>84430</th>\n",
       "      <td>DB09076</td>\n",
       "      <td>BE0000560</td>\n",
       "      <td>2968968094 2119439498 2968968094 1653789098 21...</td>\n",
       "      <td>ATGAATAACTCAACAAACTCCTCTAACAATAGCCTGGCTCTTACAA...</td>\n",
       "      <td>1</td>\n",
       "      <td>[0 3 2 ... 3 0 0]</td>\n",
       "      <td>[2, 9, 6, 8, 9, 6, 8, 0, 9, 4, 2, 1, 1, 9, 4, ...</td>\n",
       "      <td>1401</td>\n",
       "      <td>612</td>\n",
       "      <td>789</td>\n",
       "      <td>19821</td>\n",
       "      <td>8889</td>\n",
       "      <td>['-1', '-1', '-1', '-1', '-1', '-1', '-1', '-1...</td>\n",
       "      <td>['-1', '-1', '-1', '-1', '-1', '-1', '-1', '-1...</td>\n",
       "    </tr>\n",
       "    <tr>\n",
       "      <th>84431</th>\n",
       "      <td>DB03313</td>\n",
       "      <td>BE0001349</td>\n",
       "      <td>2246728737 3545365497 2246699815 2664995851 86...</td>\n",
       "      <td>ATGGTCTCAGGAACGGTGGGCAGAGGTACGGCGCTGGGCGCGGTGC...</td>\n",
       "      <td>1</td>\n",
       "      <td>[0 3 2 ... 3 2 0]</td>\n",
       "      <td>[2, 2, 4, 6, 7, 2, 8, 7, 3, 7, 3, 5, 4, 5, 3, ...</td>\n",
       "      <td>1221</td>\n",
       "      <td>547</td>\n",
       "      <td>674</td>\n",
       "      <td>20001</td>\n",
       "      <td>8954</td>\n",
       "      <td>['-1', '-1', '-1', '-1', '-1', '-1', '-1', '-1...</td>\n",
       "      <td>['-1', '-1', '-1', '-1', '-1', '-1', '-1', '-1...</td>\n",
       "    </tr>\n",
       "  </tbody>\n",
       "</table>\n",
       "<p>84432 rows × 14 columns</p>\n",
       "</div>"
      ],
      "text/plain": [
       "       drug_id    gene_id                              drug_fingerprint_code  \\\n",
       "0      DB02704  BE0004010  2968968094 1824088295 2976033787 1228528465 29...   \n",
       "1      DB06684  BE0001790  2968968094 2803848648 2968968094 2803848648 20...   \n",
       "2      DB03811  BE0001167  3218693969 3777168895 3217380708 3585958780 21...   \n",
       "3      DB02095  BE0004952  3218693969 98513984 3218693969 98513984 321869...   \n",
       "4      DB03698  BE0002359  2246728737 3542456614 2245384272 1173125914 22...   \n",
       "...        ...        ...                                                ...   \n",
       "84427  DB08280  BE0000329  2246728737 3537123720 2245277810 2442433719 22...   \n",
       "84428  DB04113  BE0000465  2968968094 2142032900 2968968094 2142032900 29...   \n",
       "84429  DB08198  BE0001852  2246728737 422715066 3217380708 4247217172 321...   \n",
       "84430  DB09076  BE0000560  2968968094 2119439498 2968968094 1653789098 21...   \n",
       "84431  DB03313  BE0001349  2246728737 3545365497 2246699815 2664995851 86...   \n",
       "\n",
       "                                        target_gene_code  Y  \\\n",
       "0      ATGCATTTAAATCCAGCAGAGAAAGAAAAATTACAAATTTTTCTAG...  0   \n",
       "1      ATGGAAATTAATGTGAGTAAATTAAGAACAGATTTGCCTCAAGTCG...  0   \n",
       "2      ATGCCAAACTACAAACTCACTTATTTTAATATGAGGGGGAGAGCAG...  0   \n",
       "3      ATGATCATCTTAATTTACTTATTTCTCTTGCTATGGGAAGACACTC...  0   \n",
       "4      ATGATGATGATGATGATGATGAAAAAAATGCAGCATCAACGGCAGC...  0   \n",
       "...                                                  ... ..   \n",
       "84427  ATGGCTTTTATGAAAAAATATCTCCTCCCCATTCTGGGGCTCTTCA...  1   \n",
       "84428  ATGAGCACAGCAGGAAAAGTAATCAAATGCAAAGCAGCTGTGCTAT...  1   \n",
       "84429  ATGGCGTCGCAGCCAAATTCGTCTGCGAAGAAGAAAGAGGAGAAGG...  1   \n",
       "84430  ATGAATAACTCAACAAACTCCTCTAACAATAGCCTGGCTCTTACAA...  1   \n",
       "84431  ATGGTCTCAGGAACGGTGGGCAGAGGTACGGCGCTGGGCGCGGTGC...  1   \n",
       "\n",
       "                                     target_gene_encoded  \\\n",
       "0      [0 3 2 1 0 3 3 3 0 0 0 3 1 1 0 2 1 0 2 0 2 0 0...   \n",
       "1      [0 3 2 2 0 0 0 3 3 0 0 3 2 3 2 0 2 3 0 0 0 3 3...   \n",
       "2      [0 3 2 1 1 0 0 0 1 3 0 1 0 0 0 1 3 1 0 1 3 3 0...   \n",
       "3      [0 3 2 0 3 1 0 3 1 3 3 0 0 3 3 3 0 1 3 3 0 3 3...   \n",
       "4                                      [0 3 2 ... 3 0 2]   \n",
       "...                                                  ...   \n",
       "84427  [0 3 2 2 1 3 3 3 3 0 3 2 0 0 0 0 0 0 3 0 3 1 3...   \n",
       "84428                                  [0 3 2 ... 3 2 0]   \n",
       "84429                                  [0 3 2 ... 3 0 0]   \n",
       "84430                                  [0 3 2 ... 3 0 0]   \n",
       "84431                                  [0 3 2 ... 3 2 0]   \n",
       "\n",
       "                                drug_fingerprint_encoded  \\\n",
       "0      [2, 9, 6, 8, 9, 6, 8, 0, 9, 4, 1, 8, 2, 4, 0, ...   \n",
       "1      [2, 9, 6, 8, 9, 6, 8, 0, 9, 4, 2, 8, 0, 3, 8, ...   \n",
       "2      [3, 2, 1, 8, 6, 9, 3, 9, 6, 9, 3, 7, 7, 7, 1, ...   \n",
       "3      [3, 2, 1, 8, 6, 9, 3, 9, 6, 9, 9, 8, 5, 1, 3, ...   \n",
       "4      [2, 2, 4, 6, 7, 2, 8, 7, 3, 7, 3, 5, 4, 2, 4, ...   \n",
       "...                                                  ...   \n",
       "84427  [2, 2, 4, 6, 7, 2, 8, 7, 3, 7, 3, 5, 3, 7, 1, ...   \n",
       "84428  [2, 9, 6, 8, 9, 6, 8, 0, 9, 4, 2, 1, 4, 2, 0, ...   \n",
       "84429  [2, 2, 4, 6, 7, 2, 8, 7, 3, 7, 4, 2, 2, 7, 1, ...   \n",
       "84430  [2, 9, 6, 8, 9, 6, 8, 0, 9, 4, 2, 1, 1, 9, 4, ...   \n",
       "84431  [2, 2, 4, 6, 7, 2, 8, 7, 3, 7, 3, 5, 4, 5, 3, ...   \n",
       "\n",
       "       target_gene_encoded_len  drug_fingerprint_encoded_len  mismatch  \\\n",
       "0                          303                           916      -613   \n",
       "1                          957                           644       313   \n",
       "2                          600                           195       405   \n",
       "3                          834                           207       627   \n",
       "4                         6546                          1216      5330   \n",
       "...                        ...                           ...       ...   \n",
       "84427                      879                           544       335   \n",
       "84428                     1128                           158       970   \n",
       "84429                     3171                           460      2711   \n",
       "84430                     1401                           612       789   \n",
       "84431                     1221                           547       674   \n",
       "\n",
       "       target_gene_encoded_mismatch  drug_fingerprint_encoded_mismatch  \\\n",
       "0                             20919                               8585   \n",
       "1                             20265                               8857   \n",
       "2                             20622                               9306   \n",
       "3                             20388                               9294   \n",
       "4                             14676                               8285   \n",
       "...                             ...                                ...   \n",
       "84427                         20343                               8957   \n",
       "84428                         20094                               9343   \n",
       "84429                         18051                               9041   \n",
       "84430                         19821                               8889   \n",
       "84431                         20001                               8954   \n",
       "\n",
       "                              target_gene_encoded_padded  \\\n",
       "0      ['-1', '-1', '-1', '-1', '-1', '-1', '-1', '-1...   \n",
       "1      ['-1', '-1', '-1', '-1', '-1', '-1', '-1', '-1...   \n",
       "2      ['-1', '-1', '-1', '-1', '-1', '-1', '-1', '-1...   \n",
       "3      ['-1', '-1', '-1', '-1', '-1', '-1', '-1', '-1...   \n",
       "4      ['-1', '-1', '-1', '-1', '-1', '-1', '-1', '-1...   \n",
       "...                                                  ...   \n",
       "84427  ['-1', '-1', '-1', '-1', '-1', '-1', '-1', '-1...   \n",
       "84428  ['-1', '-1', '-1', '-1', '-1', '-1', '-1', '-1...   \n",
       "84429  ['-1', '-1', '-1', '-1', '-1', '-1', '-1', '-1...   \n",
       "84430  ['-1', '-1', '-1', '-1', '-1', '-1', '-1', '-1...   \n",
       "84431  ['-1', '-1', '-1', '-1', '-1', '-1', '-1', '-1...   \n",
       "\n",
       "                         drug_fingerprint_encoded_padded  \n",
       "0      ['-1', '-1', '-1', '-1', '-1', '-1', '-1', '-1...  \n",
       "1      ['-1', '-1', '-1', '-1', '-1', '-1', '-1', '-1...  \n",
       "2      ['-1', '-1', '-1', '-1', '-1', '-1', '-1', '-1...  \n",
       "3      ['-1', '-1', '-1', '-1', '-1', '-1', '-1', '-1...  \n",
       "4      ['-1', '-1', '-1', '-1', '-1', '-1', '-1', '-1...  \n",
       "...                                                  ...  \n",
       "84427  ['-1', '-1', '-1', '-1', '-1', '-1', '-1', '-1...  \n",
       "84428  ['-1', '-1', '-1', '-1', '-1', '-1', '-1', '-1...  \n",
       "84429  ['-1', '-1', '-1', '-1', '-1', '-1', '-1', '-1...  \n",
       "84430  ['-1', '-1', '-1', '-1', '-1', '-1', '-1', '-1...  \n",
       "84431  ['-1', '-1', '-1', '-1', '-1', '-1', '-1', '-1...  \n",
       "\n",
       "[84432 rows x 14 columns]"
      ]
     },
     "execution_count": 3,
     "metadata": {},
     "output_type": "execute_result"
    }
   ],
   "source": [
    "drugbank"
   ]
  },
  {
   "cell_type": "code",
   "execution_count": 67,
   "metadata": {},
   "outputs": [],
   "source": [
    "morgan_finderprint_length_list = []\n",
    "gene_length_list = []\n",
    "\n",
    "for index, row in drugbank.iterrows():\n",
    "    morgan_finderprint_length_list.append(len(row['drug_fingerprint_code']))\n",
    "    gene_length_list.append(len(row['target_gene_code']))"
   ]
  },
  {
   "cell_type": "code",
   "execution_count": 68,
   "metadata": {},
   "outputs": [],
   "source": [
    "distributions['GL_DrugBank']=gene_length_list\n",
    "distributions['CL_DrugBank']=morgan_finderprint_length_list"
   ]
  },
  {
   "cell_type": "code",
   "execution_count": 45,
   "metadata": {},
   "outputs": [
    {
     "data": {
      "text/plain": [
       "Text(0,0.5,'Count')"
      ]
     },
     "execution_count": 45,
     "metadata": {},
     "output_type": "execute_result"
    },
    {
     "data": {
      "image/png": "[encoded data removed]",
      "text/plain": [
       "<Figure size 432x288 with 1 Axes>"
      ]
     },
     "metadata": {
      "needs_background": "light"
     },
     "output_type": "display_data"
    }
   ],
   "source": [
    "plt.hist(morgan_finderprint_length_list, bins = 100, log = True)\n",
    "plt.xlabel('Morgan Fingerprint length')\n",
    "plt.ylabel('Count')"
   ]
  },
  {
   "cell_type": "code",
   "execution_count": 52,
   "metadata": {},
   "outputs": [
    {
     "data": {
      "text/plain": [
       "Text(0,0.5,'PDF')"
      ]
     },
     "execution_count": 52,
     "metadata": {},
     "output_type": "execute_result"
    },
    {
     "data": {
      "image/png": "[encoded data removed]",
      "text/plain": [
       "<Figure size 432x288 with 1 Axes>"
      ]
     },
     "metadata": {
      "needs_background": "light"
     },
     "output_type": "display_data"
    }
   ],
   "source": [
    "plt.hist(np.log10(morgan_finderprint_length_list),density=True)\n",
    "plt.xlabel('Morgan Fingerprint length (Log10)')\n",
    "plt.ylabel('PDF')"
   ]
  },
  {
   "cell_type": "code",
   "execution_count": 6,
   "metadata": {},
   "outputs": [
    {
     "data": {
      "text/plain": [
       "Text(0,0.5,'Count')"
      ]
     },
     "execution_count": 6,
     "metadata": {},
     "output_type": "execute_result"
    },
    {
     "data": {
      "image/png": "[encoded data removed]",
      "text/plain": [
       "<Figure size 432x288 with 1 Axes>"
      ]
     },
     "metadata": {
      "needs_background": "light"
     },
     "output_type": "display_data"
    }
   ],
   "source": [
    "plt.hist(gene_length_list, bins = 100, log = True)\n",
    "plt.xlabel('Gene Sequence length')\n",
    "plt.ylabel('Count')"
   ]
  },
  {
   "cell_type": "code",
   "execution_count": 53,
   "metadata": {},
   "outputs": [
    {
     "data": {
      "text/plain": [
       "Text(0,0.5,'PDF')"
      ]
     },
     "execution_count": 53,
     "metadata": {},
     "output_type": "execute_result"
    },
    {
     "data": {
      "image/png": "[encoded data removed]",
      "text/plain": [
       "<Figure size 432x288 with 1 Axes>"
      ]
     },
     "metadata": {
      "needs_background": "light"
     },
     "output_type": "display_data"
    }
   ],
   "source": [
    "plt.hist(np.log10(gene_length_list),density=True)\n",
    "plt.xlabel('Gene Sequence length (Log10)')\n",
    "plt.ylabel('PDF')"
   ]
  },
  {
   "cell_type": "code",
   "execution_count": 8,
   "metadata": {},
   "outputs": [],
   "source": [
    "pos_samples = drugbank.loc[drugbank['Y'] == 1]\n",
    "neg_samples = drugbank.loc[drugbank['Y'] == 0]"
   ]
  },
  {
   "cell_type": "code",
   "execution_count": 9,
   "metadata": {},
   "outputs": [
    {
     "data": {
      "text/plain": [
       "(14074, 70358)"
      ]
     },
     "execution_count": 9,
     "metadata": {},
     "output_type": "execute_result"
    }
   ],
   "source": [
    "len(pos_samples), len(neg_samples)"
   ]
  },
  {
   "cell_type": "code",
   "execution_count": 10,
   "metadata": {},
   "outputs": [
    {
     "data": {
      "text/plain": [
       "(6215, 3774)"
      ]
     },
     "execution_count": 10,
     "metadata": {},
     "output_type": "execute_result"
    }
   ],
   "source": [
    "len(set(pos_samples['drug_id'].tolist())),len(set(pos_samples['gene_id'].tolist()))"
   ]
  },
  {
   "cell_type": "code",
   "execution_count": 11,
   "metadata": {},
   "outputs": [
    {
     "data": {
      "text/plain": [
       "(4866, 2869)"
      ]
     },
     "execution_count": 11,
     "metadata": {},
     "output_type": "execute_result"
    }
   ],
   "source": [
    "len(set(neg_samples['drug_id'].tolist())),len(set(neg_samples['gene_id'].tolist()))"
   ]
  },
  {
   "cell_type": "markdown",
   "metadata": {},
   "source": [
    "# Human Genes"
   ]
  },
  {
   "cell_type": "code",
   "execution_count": 54,
   "metadata": {},
   "outputs": [],
   "source": [
    "human_genes = pd.read_pickle('data/corona_gene_aa_seq.pkl')"
   ]
  },
  {
   "cell_type": "code",
   "execution_count": 55,
   "metadata": {},
   "outputs": [
    {
     "data": {
      "text/html": [
       "<div>\n",
       "<style scoped>\n",
       "    .dataframe tbody tr th:only-of-type {\n",
       "        vertical-align: middle;\n",
       "    }\n",
       "\n",
       "    .dataframe tbody tr th {\n",
       "        vertical-align: top;\n",
       "    }\n",
       "\n",
       "    .dataframe thead th {\n",
       "        text-align: right;\n",
       "    }\n",
       "</style>\n",
       "<table border=\"1\" class=\"dataframe\">\n",
       "  <thead>\n",
       "    <tr style=\"text-align: right;\">\n",
       "      <th></th>\n",
       "      <th>hgnc_symbol</th>\n",
       "      <th>gene_sequence</th>\n",
       "      <th>amino_acid_sequence</th>\n",
       "    </tr>\n",
       "  </thead>\n",
       "  <tbody>\n",
       "    <tr>\n",
       "      <th>0</th>\n",
       "      <td>AP3B1</td>\n",
       "      <td>ACTGCGCATGCGCAGGGGGTGGACTGCCAGGTCGGCTCAGGGAGCC...</td>\n",
       "      <td>TAHAQGVDCQVGSGSRDESGSACARSSVRELVLFRALWTGTFWREP...</td>\n",
       "    </tr>\n",
       "    <tr>\n",
       "      <th>1</th>\n",
       "      <td>BRD4</td>\n",
       "      <td>GACGTCAGTGCGCTGGCGGCGGCGGCGGCGGCGGCGGCGGCGGCTG...</td>\n",
       "      <td>DVSALAAAAAAAAAAGLFVLVSRSRGAEAVAAAAAAAAAGGARGRA...</td>\n",
       "    </tr>\n",
       "    <tr>\n",
       "      <th>2</th>\n",
       "      <td>BRD2</td>\n",
       "      <td>GGCCAAATCGTCTTCAGAGTCCTCCAGTGAGGAAAGTAGCAGTGAG...</td>\n",
       "      <td>GQIVFRVLQ*GK*Q*ELL*GRGGGR*GRGGRRE*KLRLRGRKGSSL...</td>\n",
       "    </tr>\n",
       "    <tr>\n",
       "      <th>3</th>\n",
       "      <td>CWC27</td>\n",
       "      <td>AGCGGTGCTCGGGTCCGGTAACAACATGGCGGCGTCCGTGAGGGGC...</td>\n",
       "      <td>SGARVR*QHGGVREGLLWAGVVFGVPVLRDIDKLKLSCTTGLKEEC...</td>\n",
       "    </tr>\n",
       "    <tr>\n",
       "      <th>4</th>\n",
       "      <td>ZC3H18</td>\n",
       "      <td>AGGACTACCGTCGCGGCCTGATGACGTCGCACAATGGCCGGCCCCC...</td>\n",
       "      <td>RTTVAA**RRTMAGPRG*WSPFVPPVSSLEPEPVKSGRAKGRLLHA...</td>\n",
       "    </tr>\n",
       "    <tr>\n",
       "      <th>...</th>\n",
       "      <td>...</td>\n",
       "      <td>...</td>\n",
       "      <td>...</td>\n",
       "    </tr>\n",
       "    <tr>\n",
       "      <th>325</th>\n",
       "      <td>BCS1L</td>\n",
       "      <td>AAGGAGGACGCTGAGCCGTCAAGATTAAGAACCTTCACCTGCGGGA...</td>\n",
       "      <td>KEDAEPSRLRTFTCGRAG*GRRQVGTREEIRLSSGQEG*GRERTD*...</td>\n",
       "    </tr>\n",
       "    <tr>\n",
       "      <th>326</th>\n",
       "      <td>NDUFAF1</td>\n",
       "      <td>GGAAGGGAAAAGCAGATGGACCTATACGGGTAAAGTGGCTTCTGGG...</td>\n",
       "      <td>GREKQMDLYG*SGFWAEGTL*ARGGKRRQAGGWCVPGVGRRQSPGT...</td>\n",
       "    </tr>\n",
       "    <tr>\n",
       "      <th>327</th>\n",
       "      <td>TMED5</td>\n",
       "      <td>GTCAGGGGGAGAGGCGGGCGGCGCTCACGCCTGGCCTGAGGGGGCC...</td>\n",
       "      <td>VRGRGGRRSRLA*GGRD*GGCGIGLLAPPRVPTLWRTALLFRRECS...</td>\n",
       "    </tr>\n",
       "    <tr>\n",
       "      <th>328</th>\n",
       "      <td>NDUFB9</td>\n",
       "      <td>GCCCTTCCGGCTGGCCCCGCTCAGTCACCCGCAGCAGGCGTGCAGT...</td>\n",
       "      <td>ALPAGPAQSPAAGVQFPGSPRGRGRSAP*WRSWRRDPT*PISKRCC...</td>\n",
       "    </tr>\n",
       "    <tr>\n",
       "      <th>329</th>\n",
       "      <td>PIGS</td>\n",
       "      <td>TGCGGGGCTAGAAGTGTGTTCTACAGGGAAGCGGGGAACTTCGTTC...</td>\n",
       "      <td>CGARSVFYREAGNFVPAAPKPARPLGCPSAPG*LPFRSPAKLPAEP...</td>\n",
       "    </tr>\n",
       "  </tbody>\n",
       "</table>\n",
       "<p>330 rows × 3 columns</p>\n",
       "</div>"
      ],
      "text/plain": [
       "    hgnc_symbol                                      gene_sequence  \\\n",
       "0         AP3B1  ACTGCGCATGCGCAGGGGGTGGACTGCCAGGTCGGCTCAGGGAGCC...   \n",
       "1          BRD4  GACGTCAGTGCGCTGGCGGCGGCGGCGGCGGCGGCGGCGGCGGCTG...   \n",
       "2          BRD2  GGCCAAATCGTCTTCAGAGTCCTCCAGTGAGGAAAGTAGCAGTGAG...   \n",
       "3         CWC27  AGCGGTGCTCGGGTCCGGTAACAACATGGCGGCGTCCGTGAGGGGC...   \n",
       "4        ZC3H18  AGGACTACCGTCGCGGCCTGATGACGTCGCACAATGGCCGGCCCCC...   \n",
       "..          ...                                                ...   \n",
       "325       BCS1L  AAGGAGGACGCTGAGCCGTCAAGATTAAGAACCTTCACCTGCGGGA...   \n",
       "326     NDUFAF1  GGAAGGGAAAAGCAGATGGACCTATACGGGTAAAGTGGCTTCTGGG...   \n",
       "327       TMED5  GTCAGGGGGAGAGGCGGGCGGCGCTCACGCCTGGCCTGAGGGGGCC...   \n",
       "328      NDUFB9  GCCCTTCCGGCTGGCCCCGCTCAGTCACCCGCAGCAGGCGTGCAGT...   \n",
       "329        PIGS  TGCGGGGCTAGAAGTGTGTTCTACAGGGAAGCGGGGAACTTCGTTC...   \n",
       "\n",
       "                                   amino_acid_sequence  \n",
       "0    TAHAQGVDCQVGSGSRDESGSACARSSVRELVLFRALWTGTFWREP...  \n",
       "1    DVSALAAAAAAAAAAGLFVLVSRSRGAEAVAAAAAAAAAGGARGRA...  \n",
       "2    GQIVFRVLQ*GK*Q*ELL*GRGGGR*GRGGRRE*KLRLRGRKGSSL...  \n",
       "3    SGARVR*QHGGVREGLLWAGVVFGVPVLRDIDKLKLSCTTGLKEEC...  \n",
       "4    RTTVAA**RRTMAGPRG*WSPFVPPVSSLEPEPVKSGRAKGRLLHA...  \n",
       "..                                                 ...  \n",
       "325  KEDAEPSRLRTFTCGRAG*GRRQVGTREEIRLSSGQEG*GRERTD*...  \n",
       "326  GREKQMDLYG*SGFWAEGTL*ARGGKRRQAGGWCVPGVGRRQSPGT...  \n",
       "327  VRGRGGRRSRLA*GGRD*GGCGIGLLAPPRVPTLWRTALLFRRECS...  \n",
       "328  ALPAGPAQSPAAGVQFPGSPRGRGRSAP*WRSWRRDPT*PISKRCC...  \n",
       "329  CGARSVFYREAGNFVPAAPKPARPLGCPSAPG*LPFRSPAKLPAEP...  \n",
       "\n",
       "[330 rows x 3 columns]"
      ]
     },
     "execution_count": 55,
     "metadata": {},
     "output_type": "execute_result"
    }
   ],
   "source": [
    "human_genes"
   ]
  },
  {
   "cell_type": "code",
   "execution_count": 69,
   "metadata": {},
   "outputs": [],
   "source": [
    "human_gene_length_list = []\n",
    "\n",
    "for index, row in human_genes.iterrows():\n",
    "    human_gene_length_list.append(len(row['gene_sequence']))"
   ]
  },
  {
   "cell_type": "code",
   "execution_count": 70,
   "metadata": {},
   "outputs": [
    {
     "data": {
      "text/plain": [
       "Text(0,0.5,'Count')"
      ]
     },
     "execution_count": 70,
     "metadata": {},
     "output_type": "execute_result"
    },
    {
     "data": {
      "image/png": "[encoded data removed]",
      "text/plain": [
       "<Figure size 432x288 with 1 Axes>"
      ]
     },
     "metadata": {
      "needs_background": "light"
     },
     "output_type": "display_data"
    }
   ],
   "source": [
    "plt.hist(human_gene_length_list, bins = 100, log = True)\n",
    "plt.xlabel('Gene sequence length')\n",
    "plt.ylabel('Count')"
   ]
  },
  {
   "cell_type": "code",
   "execution_count": 71,
   "metadata": {},
   "outputs": [],
   "source": [
    "distributions['GL_HTcovid']=human_gene_length_list"
   ]
  },
  {
   "cell_type": "markdown",
   "metadata": {},
   "source": [
    "# Viral Proteins"
   ]
  },
  {
   "cell_type": "code",
   "execution_count": 58,
   "metadata": {},
   "outputs": [],
   "source": [
    "viral_genes = pd.read_pickle('data/viral_proteins_NYT.pkl')"
   ]
  },
  {
   "cell_type": "code",
   "execution_count": 23,
   "metadata": {
    "scrolled": true
   },
   "outputs": [
    {
     "data": {
      "text/html": [
       "<div>\n",
       "<style scoped>\n",
       "    .dataframe tbody tr th:only-of-type {\n",
       "        vertical-align: middle;\n",
       "    }\n",
       "\n",
       "    .dataframe tbody tr th {\n",
       "        vertical-align: top;\n",
       "    }\n",
       "\n",
       "    .dataframe thead th {\n",
       "        text-align: right;\n",
       "    }\n",
       "</style>\n",
       "<table border=\"1\" class=\"dataframe\">\n",
       "  <thead>\n",
       "    <tr style=\"text-align: right;\">\n",
       "      <th></th>\n",
       "      <th>function</th>\n",
       "      <th>protein_code</th>\n",
       "      <th>gene_sequence</th>\n",
       "      <th>amino_acid_sequence</th>\n",
       "    </tr>\n",
       "  </thead>\n",
       "  <tbody>\n",
       "    <tr>\n",
       "      <th>0</th>\n",
       "      <td>Cellular Saboteur</td>\n",
       "      <td>NSP1</td>\n",
       "      <td>AUGGAGAGCCUUGUCCCUGGUUUCAACGAGAAAACACACGUCCAAC...</td>\n",
       "      <td>MESLVPGFNEKTHVQLSLPVLQVRDVLVRGFGDSVEEVLSEARQHL...</td>\n",
       "    </tr>\n",
       "    <tr>\n",
       "      <th>1</th>\n",
       "      <td>Mystery Protein</td>\n",
       "      <td>NSP2</td>\n",
       "      <td>GCAUACACUCGCUAUGUCGAUAACAACUUCUGUGGCCCUGAUGGCU...</td>\n",
       "      <td>AYTRYVDNNFCGPDGYPLECIKDLLARAGKASCTLSEQLDFIDTKR...</td>\n",
       "    </tr>\n",
       "    <tr>\n",
       "      <th>2</th>\n",
       "      <td>Untagging and Cutting</td>\n",
       "      <td>NSP3</td>\n",
       "      <td>GCACCAACAAAGGUUACUUUUGGUGAUGACACUGUGAUAGAAGUGC...</td>\n",
       "      <td>APTKVTFGDDTVIEVQGYKSVNITFELDERIDKVLNEKCSAYTVEL...</td>\n",
       "    </tr>\n",
       "    <tr>\n",
       "      <th>3</th>\n",
       "      <td>Bubble Maker</td>\n",
       "      <td>NSP4</td>\n",
       "      <td>AAAAUUGUUAAUAAUUGGUUGAAGCAGUUAAUUAAAGUUACACUUG...</td>\n",
       "      <td>KIVNNWLKQLIKVTLVFLFVAAIFYLITPVHVMSKHTDFSSEIIGY...</td>\n",
       "    </tr>\n",
       "    <tr>\n",
       "      <th>4</th>\n",
       "      <td>Protein Scissors</td>\n",
       "      <td>NSP5</td>\n",
       "      <td>AGUGGUUUUAGAAAAAUGGCAUUCCCAUCUGGUAAAGUUGAGGGUU...</td>\n",
       "      <td>SGFRKMAFPSGKVEGCMVQVTCGTTTLNGLWLDDVVYCPRHVICTS...</td>\n",
       "    </tr>\n",
       "    <tr>\n",
       "      <th>5</th>\n",
       "      <td>Bubble Factory</td>\n",
       "      <td>NSP6</td>\n",
       "      <td>AGUGCAGUGAAAAGAACAAUCAAGGGUACACACCACUGGUUGUUAC...</td>\n",
       "      <td>SAVKRTIKGTHHWLLLTILTSLLVLVQSTQWSLFFFLYENAFLPFA...</td>\n",
       "    </tr>\n",
       "    <tr>\n",
       "      <th>6</th>\n",
       "      <td>Copy Assistants</td>\n",
       "      <td>NSP7</td>\n",
       "      <td>UCUAAAAUGUCAGAUGUAAAGUGCACAUCAGUAGUCUUACUCUCAG...</td>\n",
       "      <td>SKMSDVKCTSVVLLSVLQQLRVESSSKLWAQCVQLHNDILLAKDTT...</td>\n",
       "    </tr>\n",
       "    <tr>\n",
       "      <th>7</th>\n",
       "      <td>Copy Assistants</td>\n",
       "      <td>NSP8</td>\n",
       "      <td>GCUAUAGCCUCAGAGUUUAGUUCCCUUCCAUCAUAUGCAGCUUUUG...</td>\n",
       "      <td>AIASEFSSLPSYAAFATAQEAYEQAVANGDSEVVLKKLKKSLNVAK...</td>\n",
       "    </tr>\n",
       "    <tr>\n",
       "      <th>8</th>\n",
       "      <td>At the Heart of the Cell</td>\n",
       "      <td>NSP9</td>\n",
       "      <td>AAUAAUGAGCUUAGUCCUGUUGCACUACGACAGAUGUCUUGUGCUG...</td>\n",
       "      <td>NNELSPVALRQMSCAAGTTQTACTDDNALAYYNTTKGGRFVLALLS...</td>\n",
       "    </tr>\n",
       "    <tr>\n",
       "      <th>9</th>\n",
       "      <td>Genetic Camouflage</td>\n",
       "      <td>NSP10</td>\n",
       "      <td>GCUGGUAAUGCAACAGAAGUGCCUGCCAAUUCAACUGUAUUAUCUU...</td>\n",
       "      <td>AGNATEVPANSTVLSFCAFAVDAAKAYKDYLASGGQPITNCVKMLC...</td>\n",
       "    </tr>\n",
       "    <tr>\n",
       "      <th>10</th>\n",
       "      <td>Copy Machine</td>\n",
       "      <td>NSP12</td>\n",
       "      <td>UCAGCUGAUGCACAAUCGUUUUUAAACACCGUGCGGCACAGGCACU...</td>\n",
       "      <td>SADAQSFLNTVRHRH*Y*CRIQGF*HLQ**SSWFC*IPKN*LLSLP...</td>\n",
       "    </tr>\n",
       "    <tr>\n",
       "      <th>11</th>\n",
       "      <td>Unwinding RNA</td>\n",
       "      <td>NSP13</td>\n",
       "      <td>GCUGUUGGGGCUUGUGUUCUUUGCAAUUCACAGACUUCAUUAAGAU...</td>\n",
       "      <td>AVGACVLCNSQTSLRCGACIRRPFLCCKCCYDHVISTSHKLVLSVN...</td>\n",
       "    </tr>\n",
       "    <tr>\n",
       "      <th>12</th>\n",
       "      <td>Viral Proofreader</td>\n",
       "      <td>NSP14</td>\n",
       "      <td>GCUGAAAAUGUAACAGGACUCUUUAAAGAUUGUAGUAAGGUAAUCA...</td>\n",
       "      <td>AENVTGLFKDCSKVITGLHPTQAPTHLSVDTKFKTEGLCVDIPGIP...</td>\n",
       "    </tr>\n",
       "    <tr>\n",
       "      <th>13</th>\n",
       "      <td>Cleaning Up</td>\n",
       "      <td>NSP15</td>\n",
       "      <td>AGAGUUUAGAAAAUGUGGCUUUUAAUGUUGUAAAUAAGGGACACUU...</td>\n",
       "      <td>RV*KMWLLML*IRDTLMDNRVKYQFLSLITLFTQKLMVLM*NCLKI...</td>\n",
       "    </tr>\n",
       "    <tr>\n",
       "      <th>14</th>\n",
       "      <td>More Camouflage</td>\n",
       "      <td>NSP16</td>\n",
       "      <td>UCUAGUCAAGCGUGGCAACCGGGUGUUGCUAUGCCUAAUCUUUACA...</td>\n",
       "      <td>SSQAWQPGVAMPNLYKMQRMLLEKCDLQNYGDSATLPKGIMMNVAK...</td>\n",
       "    </tr>\n",
       "    <tr>\n",
       "      <th>15</th>\n",
       "      <td>Spike Protein</td>\n",
       "      <td>S</td>\n",
       "      <td>AUGUUUGUUUUUCUUGUUUUAUUGCCACUAGUCUCUAGUCAGUGUG...</td>\n",
       "      <td>MFVFLVLLPLVSSQCVNLTTRTQLPPAYTNSFTRGVYYPDKVFRSS...</td>\n",
       "    </tr>\n",
       "    <tr>\n",
       "      <th>16</th>\n",
       "      <td>Escape Artist</td>\n",
       "      <td>ORF3a</td>\n",
       "      <td>AUGGAUUUGUUUAUGAGAAUCUUCACAAUUGGAACUGUAACUUUGA...</td>\n",
       "      <td>MDLFMRIFTIGTVTLKQGEIKDATPSDFVRATATIPIQASLPFGWL...</td>\n",
       "    </tr>\n",
       "    <tr>\n",
       "      <th>17</th>\n",
       "      <td>Envelope Protein</td>\n",
       "      <td>E</td>\n",
       "      <td>AUGUACUCAUUCGUUUCGGAAGAGACAGGUACGUUAAUAGUUAAUA...</td>\n",
       "      <td>MYSFVSEETGTLIVNSVLLFLAFVVFLLVTLAILTALRLCAYCCNI...</td>\n",
       "    </tr>\n",
       "    <tr>\n",
       "      <th>18</th>\n",
       "      <td>Membrane Protein</td>\n",
       "      <td>M</td>\n",
       "      <td>AUGGCAGAUUCCAACGGUACUAUUACCGUUGAAGAGCUUAAAAAGC...</td>\n",
       "      <td>MADSNGTITVEELKKLLEQWNLVIGFLFLTWICLLQFAYANRNRFL...</td>\n",
       "    </tr>\n",
       "    <tr>\n",
       "      <th>19</th>\n",
       "      <td>Signal Blocker</td>\n",
       "      <td>ORF6</td>\n",
       "      <td>AUGUUUCAUCUCGUUGACUUUCAGGUUACUAUAGCAGAGAUAUUAC...</td>\n",
       "      <td>MFHLVDFQVTIAEILLIIMRTFKVSIWNLDYIINLIIKNLSKSLTE...</td>\n",
       "    </tr>\n",
       "    <tr>\n",
       "      <th>20</th>\n",
       "      <td>Virus Liberator</td>\n",
       "      <td>ORF7a</td>\n",
       "      <td>AUGAAAAUUAUUCUUUUCUUGGCACUGAUAACACUCGCUACUUGUG...</td>\n",
       "      <td>MKIILFLALITLATCELYHYQECVRGTTVLLKEPCSSGTYEGNSPF...</td>\n",
       "    </tr>\n",
       "    <tr>\n",
       "      <th>21</th>\n",
       "      <td>Mystery Protein</td>\n",
       "      <td>ORF8</td>\n",
       "      <td>AUGAAAUUUCUUGUUUUCUUAGGAAUCAUCACAACUGUAGCUGCAU...</td>\n",
       "      <td>MKFLVFLGIITTVAAFHQECSLQSCTQHQPYVVDDPCPIHFYSKWY...</td>\n",
       "    </tr>\n",
       "    <tr>\n",
       "      <th>22</th>\n",
       "      <td>Nucleocapsid Protein</td>\n",
       "      <td>N</td>\n",
       "      <td>AUGUCUGAUAAUGGACCCCAAAAUCAGCGAAAUGCACCCCGCAUUA...</td>\n",
       "      <td>MSDNGPQNQRNAPRITFGGPSDSTGSNQNGERSGARSKQRRPQGLP...</td>\n",
       "    </tr>\n",
       "    <tr>\n",
       "      <th>23</th>\n",
       "      <td>Mystery Protein</td>\n",
       "      <td>ORF10</td>\n",
       "      <td>AUGGGCUAUAUAAACGUUUUCGCUUUUCCGUUUACGAUAUAUAGUC...</td>\n",
       "      <td>MGYINVFAFPFTIYSLLLCRMNSRNYIAQVDVVNFNLT*</td>\n",
       "    </tr>\n",
       "  </tbody>\n",
       "</table>\n",
       "</div>"
      ],
      "text/plain": [
       "                    function protein_code  \\\n",
       "0          Cellular Saboteur         NSP1   \n",
       "1            Mystery Protein         NSP2   \n",
       "2      Untagging and Cutting         NSP3   \n",
       "3               Bubble Maker         NSP4   \n",
       "4           Protein Scissors         NSP5   \n",
       "5             Bubble Factory         NSP6   \n",
       "6            Copy Assistants         NSP7   \n",
       "7            Copy Assistants         NSP8   \n",
       "8   At the Heart of the Cell         NSP9   \n",
       "9         Genetic Camouflage        NSP10   \n",
       "10              Copy Machine        NSP12   \n",
       "11             Unwinding RNA        NSP13   \n",
       "12         Viral Proofreader        NSP14   \n",
       "13               Cleaning Up        NSP15   \n",
       "14           More Camouflage        NSP16   \n",
       "15             Spike Protein            S   \n",
       "16             Escape Artist        ORF3a   \n",
       "17          Envelope Protein            E   \n",
       "18          Membrane Protein            M   \n",
       "19            Signal Blocker         ORF6   \n",
       "20           Virus Liberator        ORF7a   \n",
       "21           Mystery Protein         ORF8   \n",
       "22      Nucleocapsid Protein            N   \n",
       "23           Mystery Protein        ORF10   \n",
       "\n",
       "                                        gene_sequence  \\\n",
       "0   AUGGAGAGCCUUGUCCCUGGUUUCAACGAGAAAACACACGUCCAAC...   \n",
       "1   GCAUACACUCGCUAUGUCGAUAACAACUUCUGUGGCCCUGAUGGCU...   \n",
       "2   GCACCAACAAAGGUUACUUUUGGUGAUGACACUGUGAUAGAAGUGC...   \n",
       "3   AAAAUUGUUAAUAAUUGGUUGAAGCAGUUAAUUAAAGUUACACUUG...   \n",
       "4   AGUGGUUUUAGAAAAAUGGCAUUCCCAUCUGGUAAAGUUGAGGGUU...   \n",
       "5   AGUGCAGUGAAAAGAACAAUCAAGGGUACACACCACUGGUUGUUAC...   \n",
       "6   UCUAAAAUGUCAGAUGUAAAGUGCACAUCAGUAGUCUUACUCUCAG...   \n",
       "7   GCUAUAGCCUCAGAGUUUAGUUCCCUUCCAUCAUAUGCAGCUUUUG...   \n",
       "8   AAUAAUGAGCUUAGUCCUGUUGCACUACGACAGAUGUCUUGUGCUG...   \n",
       "9   GCUGGUAAUGCAACAGAAGUGCCUGCCAAUUCAACUGUAUUAUCUU...   \n",
       "10  UCAGCUGAUGCACAAUCGUUUUUAAACACCGUGCGGCACAGGCACU...   \n",
       "11  GCUGUUGGGGCUUGUGUUCUUUGCAAUUCACAGACUUCAUUAAGAU...   \n",
       "12  GCUGAAAAUGUAACAGGACUCUUUAAAGAUUGUAGUAAGGUAAUCA...   \n",
       "13  AGAGUUUAGAAAAUGUGGCUUUUAAUGUUGUAAAUAAGGGACACUU...   \n",
       "14  UCUAGUCAAGCGUGGCAACCGGGUGUUGCUAUGCCUAAUCUUUACA...   \n",
       "15  AUGUUUGUUUUUCUUGUUUUAUUGCCACUAGUCUCUAGUCAGUGUG...   \n",
       "16  AUGGAUUUGUUUAUGAGAAUCUUCACAAUUGGAACUGUAACUUUGA...   \n",
       "17  AUGUACUCAUUCGUUUCGGAAGAGACAGGUACGUUAAUAGUUAAUA...   \n",
       "18  AUGGCAGAUUCCAACGGUACUAUUACCGUUGAAGAGCUUAAAAAGC...   \n",
       "19  AUGUUUCAUCUCGUUGACUUUCAGGUUACUAUAGCAGAGAUAUUAC...   \n",
       "20  AUGAAAAUUAUUCUUUUCUUGGCACUGAUAACACUCGCUACUUGUG...   \n",
       "21  AUGAAAUUUCUUGUUUUCUUAGGAAUCAUCACAACUGUAGCUGCAU...   \n",
       "22  AUGUCUGAUAAUGGACCCCAAAAUCAGCGAAAUGCACCCCGCAUUA...   \n",
       "23  AUGGGCUAUAUAAACGUUUUCGCUUUUCCGUUUACGAUAUAUAGUC...   \n",
       "\n",
       "                                  amino_acid_sequence  \n",
       "0   MESLVPGFNEKTHVQLSLPVLQVRDVLVRGFGDSVEEVLSEARQHL...  \n",
       "1   AYTRYVDNNFCGPDGYPLECIKDLLARAGKASCTLSEQLDFIDTKR...  \n",
       "2   APTKVTFGDDTVIEVQGYKSVNITFELDERIDKVLNEKCSAYTVEL...  \n",
       "3   KIVNNWLKQLIKVTLVFLFVAAIFYLITPVHVMSKHTDFSSEIIGY...  \n",
       "4   SGFRKMAFPSGKVEGCMVQVTCGTTTLNGLWLDDVVYCPRHVICTS...  \n",
       "5   SAVKRTIKGTHHWLLLTILTSLLVLVQSTQWSLFFFLYENAFLPFA...  \n",
       "6   SKMSDVKCTSVVLLSVLQQLRVESSSKLWAQCVQLHNDILLAKDTT...  \n",
       "7   AIASEFSSLPSYAAFATAQEAYEQAVANGDSEVVLKKLKKSLNVAK...  \n",
       "8   NNELSPVALRQMSCAAGTTQTACTDDNALAYYNTTKGGRFVLALLS...  \n",
       "9   AGNATEVPANSTVLSFCAFAVDAAKAYKDYLASGGQPITNCVKMLC...  \n",
       "10  SADAQSFLNTVRHRH*Y*CRIQGF*HLQ**SSWFC*IPKN*LLSLP...  \n",
       "11  AVGACVLCNSQTSLRCGACIRRPFLCCKCCYDHVISTSHKLVLSVN...  \n",
       "12  AENVTGLFKDCSKVITGLHPTQAPTHLSVDTKFKTEGLCVDIPGIP...  \n",
       "13  RV*KMWLLML*IRDTLMDNRVKYQFLSLITLFTQKLMVLM*NCLKI...  \n",
       "14  SSQAWQPGVAMPNLYKMQRMLLEKCDLQNYGDSATLPKGIMMNVAK...  \n",
       "15  MFVFLVLLPLVSSQCVNLTTRTQLPPAYTNSFTRGVYYPDKVFRSS...  \n",
       "16  MDLFMRIFTIGTVTLKQGEIKDATPSDFVRATATIPIQASLPFGWL...  \n",
       "17  MYSFVSEETGTLIVNSVLLFLAFVVFLLVTLAILTALRLCAYCCNI...  \n",
       "18  MADSNGTITVEELKKLLEQWNLVIGFLFLTWICLLQFAYANRNRFL...  \n",
       "19  MFHLVDFQVTIAEILLIIMRTFKVSIWNLDYIINLIIKNLSKSLTE...  \n",
       "20  MKIILFLALITLATCELYHYQECVRGTTVLLKEPCSSGTYEGNSPF...  \n",
       "21  MKFLVFLGIITTVAAFHQECSLQSCTQHQPYVVDDPCPIHFYSKWY...  \n",
       "22  MSDNGPQNQRNAPRITFGGPSDSTGSNQNGERSGARSKQRRPQGLP...  \n",
       "23            MGYINVFAFPFTIYSLLLCRMNSRNYIAQVDVVNFNLT*  "
      ]
     },
     "execution_count": 23,
     "metadata": {},
     "output_type": "execute_result"
    }
   ],
   "source": [
    "viral_genes"
   ]
  },
  {
   "cell_type": "code",
   "execution_count": 72,
   "metadata": {},
   "outputs": [],
   "source": [
    "viral_gene_length_list = []\n",
    "\n",
    "for index, row in viral_genes.iterrows():\n",
    "    viral_gene_length_list.append(len(row['gene_sequence']))"
   ]
  },
  {
   "cell_type": "code",
   "execution_count": 73,
   "metadata": {},
   "outputs": [
    {
     "data": {
      "text/plain": [
       "Text(0,0.5,'Count')"
      ]
     },
     "execution_count": 73,
     "metadata": {},
     "output_type": "execute_result"
    },
    {
     "data": {
      "image/png": "[encoded data removed]",
      "text/plain": [
       "<Figure size 432x288 with 1 Axes>"
      ]
     },
     "metadata": {
      "needs_background": "light"
     },
     "output_type": "display_data"
    }
   ],
   "source": [
    "plt.hist(viral_gene_length_list, bins = 100) #, log = True)\n",
    "plt.xlabel('Gene sequence length')\n",
    "plt.ylabel('Count')"
   ]
  },
  {
   "cell_type": "code",
   "execution_count": 74,
   "metadata": {},
   "outputs": [],
   "source": [
    "distributions['GL_VPcovid']=viral_gene_length_list"
   ]
  },
  {
   "cell_type": "markdown",
   "metadata": {},
   "source": [
    "# DTC Stats"
   ]
  },
  {
   "cell_type": "code",
   "execution_count": 28,
   "metadata": {
    "collapsed": true
   },
   "outputs": [
    {
     "name": "stderr",
     "output_type": "stream",
     "text": [
      "/miniconda/lib/python3.6/site-packages/IPython/core/interactiveshell.py:3063: DtypeWarning: Columns (0,1,2,3,8,14,21,22,23,24,25,26,27,30,32) have mixed types.Specify dtype option on import or set low_memory=False.\n",
      "  interactivity=interactivity, compiler=compiler, result=result)\n"
     ]
    }
   ],
   "source": [
    "dtc_d = pd.read_csv('data/DTC_data.csv')"
   ]
  },
  {
   "cell_type": "code",
   "execution_count": 29,
   "metadata": {},
   "outputs": [
    {
     "data": {
      "text/plain": [
       "5980952"
      ]
     },
     "execution_count": 29,
     "metadata": {},
     "output_type": "execute_result"
    }
   ],
   "source": [
    "len(dtc_d)"
   ]
  },
  {
   "cell_type": "code",
   "execution_count": 30,
   "metadata": {},
   "outputs": [
    {
     "data": {
      "text/plain": [
       "1140345"
      ]
     },
     "execution_count": 30,
     "metadata": {},
     "output_type": "execute_result"
    }
   ],
   "source": [
    "len(set(dtc_d['compound_id'].tolist()))"
   ]
  },
  {
   "cell_type": "code",
   "execution_count": 31,
   "metadata": {},
   "outputs": [
    {
     "data": {
      "text/plain": [
       "3166"
      ]
     },
     "execution_count": 31,
     "metadata": {},
     "output_type": "execute_result"
    }
   ],
   "source": [
    "len(set(dtc_d['gene_names'].tolist()))"
   ]
  },
  {
   "cell_type": "code",
   "execution_count": 32,
   "metadata": {},
   "outputs": [
    {
     "data": {
      "text/plain": [
       "7145"
      ]
     },
     "execution_count": 32,
     "metadata": {},
     "output_type": "execute_result"
    }
   ],
   "source": [
    "len(set(dtc_d['target_id'].tolist()))"
   ]
  },
  {
   "cell_type": "markdown",
   "metadata": {},
   "source": [
    "# NDM Length Distributions"
   ]
  },
  {
   "cell_type": "code",
   "execution_count": 61,
   "metadata": {},
   "outputs": [],
   "source": [
    "ndm_df = pd.read_pickle('data/NDM_Master_FingerPrints_InChi.pkl')"
   ]
  },
  {
   "cell_type": "code",
   "execution_count": 36,
   "metadata": {
    "scrolled": true
   },
   "outputs": [
    {
     "data": {
      "text/html": [
       "<div>\n",
       "<style scoped>\n",
       "    .dataframe tbody tr th:only-of-type {\n",
       "        vertical-align: middle;\n",
       "    }\n",
       "\n",
       "    .dataframe tbody tr th {\n",
       "        vertical-align: top;\n",
       "    }\n",
       "\n",
       "    .dataframe thead th {\n",
       "        text-align: right;\n",
       "    }\n",
       "</style>\n",
       "<table border=\"1\" class=\"dataframe\">\n",
       "  <thead>\n",
       "    <tr style=\"text-align: right;\">\n",
       "      <th></th>\n",
       "      <th>name</th>\n",
       "      <th>InChIKey</th>\n",
       "      <th>First Block</th>\n",
       "      <th>Metabolon_RP</th>\n",
       "      <th>UCD_GC</th>\n",
       "      <th>UCD_HIL</th>\n",
       "      <th>UCD_LIP</th>\n",
       "      <th>UCD_PFP</th>\n",
       "      <th>phenolexplorer_id</th>\n",
       "      <th>dfc_id</th>\n",
       "      <th>...</th>\n",
       "      <th>hbondacc</th>\n",
       "      <th>rotbonds</th>\n",
       "      <th>dois</th>\n",
       "      <th>InChiKey</th>\n",
       "      <th>cid</th>\n",
       "      <th>fingerprint_r2</th>\n",
       "      <th>fingerprint</th>\n",
       "      <th>fingerprint_vector</th>\n",
       "      <th>fingerprint_r2_vector</th>\n",
       "      <th>glove_vector</th>\n",
       "    </tr>\n",
       "  </thead>\n",
       "  <tbody>\n",
       "    <tr>\n",
       "      <th>0</th>\n",
       "      <td>1,5,8-Trihydroxy-3-methyl-2-prenylxanthone</td>\n",
       "      <td>AAANZTDKTFGJLZ-UHFFFAOYSA-N</td>\n",
       "      <td>AAANZTDKTFGJLZ</td>\n",
       "      <td>NaN</td>\n",
       "      <td>NaN</td>\n",
       "      <td>NaN</td>\n",
       "      <td>NaN</td>\n",
       "      <td>NaN</td>\n",
       "      <td>NaN</td>\n",
       "      <td>HHG46-P:HHG14-E</td>\n",
       "      <td>...</td>\n",
       "      <td>6.0</td>\n",
       "      <td>3.0</td>\n",
       "      <td>10.1007/978-94-007-1764-0_15</td>\n",
       "      <td>AAANZTDKTFGJLZ-UHFFFAOYSA-N</td>\n",
       "      <td>14162674.0</td>\n",
       "      <td>2246728737 3545365497 2246699815 176403689 224...</td>\n",
       "      <td>2246728737 3545365497 2246699815 176403689 224...</td>\n",
       "      <td>1.2125952 -0.45228845 -0.45648438 0.8465898 -2...</td>\n",
       "      <td>0.08833204 0.111414164 -0.37103447 0.13921869 ...</td>\n",
       "      <td>0.5982757 0.33405483 -0.7447651 -1.0637729 1.4...</td>\n",
       "    </tr>\n",
       "    <tr>\n",
       "      <th>1</th>\n",
       "      <td>2,4-Dimethylfuran</td>\n",
       "      <td>AABTWRKUKUPMJG-UHFFFAOYSA-N</td>\n",
       "      <td>AABTWRKUKUPMJG</td>\n",
       "      <td>NaN</td>\n",
       "      <td>NaN</td>\n",
       "      <td>NaN</td>\n",
       "      <td>NaN</td>\n",
       "      <td>NaN</td>\n",
       "      <td>NaN</td>\n",
       "      <td>FWS22-S:FWS22-S</td>\n",
       "      <td>...</td>\n",
       "      <td>1.0</td>\n",
       "      <td>0.0</td>\n",
       "      <td>10.1007/978-3-642-41473-2_4|10.1007/978-94-007...</td>\n",
       "      <td>AABTWRKUKUPMJG-UHFFFAOYSA-N</td>\n",
       "      <td>19462.0</td>\n",
       "      <td>2246728737 422715066 3217380708 3661262542 321...</td>\n",
       "      <td>2246728737 422715066 3217380708 3661262542 321...</td>\n",
       "      <td>0.7780322 -0.008117993 -0.31886604 -0.08983363...</td>\n",
       "      <td>0.05996513 0.058616612 -0.16668518 0.08901948 ...</td>\n",
       "      <td>0.7881843 -0.11993383 -1.035832 -1.1379453 1.3...</td>\n",
       "    </tr>\n",
       "    <tr>\n",
       "      <th>2</th>\n",
       "      <td>Schidigerasaponin E1</td>\n",
       "      <td>AADIIQJBIMAADJ-UHFFFAOYSA-N</td>\n",
       "      <td>AADIIQJBIMAADJ</td>\n",
       "      <td>NaN</td>\n",
       "      <td>NaN</td>\n",
       "      <td>NaN</td>\n",
       "      <td>NaN</td>\n",
       "      <td>NaN</td>\n",
       "      <td>NaN</td>\n",
       "      <td>GMN25-P:JYJ15-F</td>\n",
       "      <td>...</td>\n",
       "      <td>18.0</td>\n",
       "      <td>8.0</td>\n",
       "      <td>NaN</td>\n",
       "      <td>AADIIQJBIMAADJ-UHFFFAOYSA-N</td>\n",
       "      <td>73798945.0</td>\n",
       "      <td>2246728737 1858577693 2976033787 1228815484 29...</td>\n",
       "      <td>2246728737 1858577693 2976033787 1228815484 29...</td>\n",
       "      <td>-0.13111542 -2.1445282 -1.7001715 -0.793216 -1...</td>\n",
       "      <td>-0.010426988 0.058215413 -0.17470427 0.3262831...</td>\n",
       "      <td>0.45775712 1.4772747 -0.8142888 0.24698713 0.6...</td>\n",
       "    </tr>\n",
       "    <tr>\n",
       "      <th>3</th>\n",
       "      <td>sphingomyelin (d18:1/20:0)</td>\n",
       "      <td>AADLTHQNYQJHQV-SVLGDMRNSA-N</td>\n",
       "      <td>AADLTHQNYQJHQV</td>\n",
       "      <td>100006290.0</td>\n",
       "      <td>NaN</td>\n",
       "      <td>NaN</td>\n",
       "      <td>L489</td>\n",
       "      <td>NaN</td>\n",
       "      <td>NaN</td>\n",
       "      <td>NaN</td>\n",
       "      <td>...</td>\n",
       "      <td>6.0</td>\n",
       "      <td>40.0</td>\n",
       "      <td>10.1038/s41598-018-28477-9</td>\n",
       "      <td>AADLTHQNYQJHQV-SVLGDMRNSA-N</td>\n",
       "      <td>44260124.0</td>\n",
       "      <td>2246728737 3542456614 2245384272 1173125914 22...</td>\n",
       "      <td>2246728737 3542456614 2245384272 1173125914 22...</td>\n",
       "      <td>1.1118712 -3.3872707 0.19861576 2.4934237 -0.0...</td>\n",
       "      <td>0.17508355 -0.19388516 -0.33345646 0.13449408 ...</td>\n",
       "      <td>0.47446114 0.31419408 0.03206512 -1.0402479 0....</td>\n",
       "    </tr>\n",
       "    <tr>\n",
       "      <th>4</th>\n",
       "      <td>Matairesinoside</td>\n",
       "      <td>AAGCATAPYOEULE-LHHMAMHXSA-N</td>\n",
       "      <td>AAGCATAPYOEULE</td>\n",
       "      <td>NaN</td>\n",
       "      <td>NaN</td>\n",
       "      <td>NaN</td>\n",
       "      <td>NaN</td>\n",
       "      <td>NaN</td>\n",
       "      <td>NaN</td>\n",
       "      <td>JRV93-M:JJJ08-E</td>\n",
       "      <td>...</td>\n",
       "      <td>11.0</td>\n",
       "      <td>9.0</td>\n",
       "      <td>10.1016/j.bmcl.2013.08.065|10.1016/j.fitote.20...</td>\n",
       "      <td>AAGCATAPYOEULE-LHHMAMHXSA-N</td>\n",
       "      <td>486612.0</td>\n",
       "      <td>2246728737 3975275337 864674487 2076190208 321...</td>\n",
       "      <td>2246728737 3975275337 864674487 2076190208 321...</td>\n",
       "      <td>0.46425006 -0.7574755 -1.289255 0.8256081 -2.9...</td>\n",
       "      <td>0.080369376 0.053641893 -0.3176836 0.17028345 ...</td>\n",
       "      <td>0.47634116 0.8720007 -0.7416479 -0.7085184 1.2...</td>\n",
       "    </tr>\n",
       "    <tr>\n",
       "      <th>...</th>\n",
       "      <td>...</td>\n",
       "      <td>...</td>\n",
       "      <td>...</td>\n",
       "      <td>...</td>\n",
       "      <td>...</td>\n",
       "      <td>...</td>\n",
       "      <td>...</td>\n",
       "      <td>...</td>\n",
       "      <td>...</td>\n",
       "      <td>...</td>\n",
       "      <td>...</td>\n",
       "      <td>...</td>\n",
       "      <td>...</td>\n",
       "      <td>...</td>\n",
       "      <td>...</td>\n",
       "      <td>...</td>\n",
       "      <td>...</td>\n",
       "      <td>...</td>\n",
       "      <td>...</td>\n",
       "      <td>...</td>\n",
       "      <td>...</td>\n",
       "    </tr>\n",
       "    <tr>\n",
       "      <th>19598</th>\n",
       "      <td>2,5-Dimethyl-3-(methyldithio)furan</td>\n",
       "      <td>ZZXDUGZYDILQMO-UHFFFAOYSA-N</td>\n",
       "      <td>ZZXDUGZYDILQMO</td>\n",
       "      <td>NaN</td>\n",
       "      <td>NaN</td>\n",
       "      <td>NaN</td>\n",
       "      <td>NaN</td>\n",
       "      <td>NaN</td>\n",
       "      <td>NaN</td>\n",
       "      <td>MFW29-D:MFW29-D</td>\n",
       "      <td>...</td>\n",
       "      <td>3.0</td>\n",
       "      <td>2.0</td>\n",
       "      <td>10.1007/978-3-319-26932-0_10</td>\n",
       "      <td>ZZXDUGZYDILQMO-UHFFFAOYSA-N</td>\n",
       "      <td>20313888.0</td>\n",
       "      <td>2246728737 422715066 3217380708 3661262542 321...</td>\n",
       "      <td>2246728737 422715066 3217380708 3661262542 321...</td>\n",
       "      <td>0.5096015 0.4900139 0.24447432 0.18041344 -0.1...</td>\n",
       "      <td>0.095634416 -0.06425911 -0.18737948 0.10294013...</td>\n",
       "      <td>0.25041574 -0.15444656 -0.8587896 -0.99885875 ...</td>\n",
       "    </tr>\n",
       "    <tr>\n",
       "      <th>19599</th>\n",
       "      <td>Muricadienin</td>\n",
       "      <td>ZZXWNKPYSIVFNM-XUWLZAGCSA-N</td>\n",
       "      <td>ZZXWNKPYSIVFNM</td>\n",
       "      <td>NaN</td>\n",
       "      <td>NaN</td>\n",
       "      <td>NaN</td>\n",
       "      <td>NaN</td>\n",
       "      <td>NaN</td>\n",
       "      <td>NaN</td>\n",
       "      <td>FFY87-E:FOW95-G</td>\n",
       "      <td>...</td>\n",
       "      <td>2.0</td>\n",
       "      <td>27.0</td>\n",
       "      <td>10.1021/acs.jnatprod.6b00335|10.1021/ol502849y...</td>\n",
       "      <td>ZZXWNKPYSIVFNM-XUWLZAGCSA-N</td>\n",
       "      <td>131751334.0</td>\n",
       "      <td>2246728737 3542456614 2245384272 1173125914 22...</td>\n",
       "      <td>2246728737 3542456614 2245384272 1173125914 22...</td>\n",
       "      <td>0.8148282 -3.9692025 0.7532225 1.7267354 -0.45...</td>\n",
       "      <td>0.2708331 -0.13801025 -0.25443316 0.20883478 0...</td>\n",
       "      <td>0.68793035 0.38539666 -0.032631543 -1.2271056 ...</td>\n",
       "    </tr>\n",
       "    <tr>\n",
       "      <th>19600</th>\n",
       "      <td>L-Lysopine</td>\n",
       "      <td>ZZYYVZYAZCMNPG-UHFFFAOYSA-N</td>\n",
       "      <td>ZZYYVZYAZCMNPG</td>\n",
       "      <td>NaN</td>\n",
       "      <td>NaN</td>\n",
       "      <td>NaN</td>\n",
       "      <td>NaN</td>\n",
       "      <td>NaN</td>\n",
       "      <td>NaN</td>\n",
       "      <td>HGR03-W:GZD90-U</td>\n",
       "      <td>...</td>\n",
       "      <td>6.0</td>\n",
       "      <td>8.0</td>\n",
       "      <td>NaN</td>\n",
       "      <td>ZZYYVZYAZCMNPG-UHFFFAOYSA-N</td>\n",
       "      <td>3325403.0</td>\n",
       "      <td>2246728737 3537119515 2245273601 2637439965 22...</td>\n",
       "      <td>2246728737 3537119515 2245273601 2637439965 22...</td>\n",
       "      <td>0.12395296 -2.207925 -2.0375855 2.5450706 0.54...</td>\n",
       "      <td>-0.020846456 -0.06992156 -0.4119097 0.1573976 ...</td>\n",
       "      <td>0.5720562 -0.076057404 0.37635037 -0.77714705 ...</td>\n",
       "    </tr>\n",
       "    <tr>\n",
       "      <th>19601</th>\n",
       "      <td>Sarcodon scabrosus Depsipeptide</td>\n",
       "      <td>ZZZCVVSDKFDQJU-UHFFFAOYSA-N</td>\n",
       "      <td>ZZZCVVSDKFDQJU</td>\n",
       "      <td>NaN</td>\n",
       "      <td>NaN</td>\n",
       "      <td>NaN</td>\n",
       "      <td>NaN</td>\n",
       "      <td>NaN</td>\n",
       "      <td>NaN</td>\n",
       "      <td>NRT85-T:NRT85-T</td>\n",
       "      <td>...</td>\n",
       "      <td>8.0</td>\n",
       "      <td>5.0</td>\n",
       "      <td>NaN</td>\n",
       "      <td>ZZZCVVSDKFDQJU-UHFFFAOYSA-N</td>\n",
       "      <td>131753140.0</td>\n",
       "      <td>2246728737 3542456614 2245384272 1506563592 22...</td>\n",
       "      <td>2246728737 3542456614 2245384272 1506563592 22...</td>\n",
       "      <td>0.32609528 -1.1192921 -0.914021 0.37409475 0.8...</td>\n",
       "      <td>0.04328066 0.1790831 0.0189406 0.26741648 0.11...</td>\n",
       "      <td>0.7634668 0.38401568 -0.7741939 -0.3328707 1.3...</td>\n",
       "    </tr>\n",
       "    <tr>\n",
       "      <th>19602</th>\n",
       "      <td>9-Acetoxyfukinanolide</td>\n",
       "      <td>ZZZDGYZKGIPSPD-MGNHCAFKSA-N</td>\n",
       "      <td>ZZZDGYZKGIPSPD</td>\n",
       "      <td>NaN</td>\n",
       "      <td>NaN</td>\n",
       "      <td>NaN</td>\n",
       "      <td>NaN</td>\n",
       "      <td>NaN</td>\n",
       "      <td>NaN</td>\n",
       "      <td>KCS59-B:HPG42-P</td>\n",
       "      <td>...</td>\n",
       "      <td>4.0</td>\n",
       "      <td>2.0</td>\n",
       "      <td>NaN</td>\n",
       "      <td>ZZZDGYZKGIPSPD-MGNHCAFKSA-N</td>\n",
       "      <td>5320805.0</td>\n",
       "      <td>2246728737 1858577693 2976033787 1236795370 29...</td>\n",
       "      <td>2246728737 1858577693 2976033787 1236795370 29...</td>\n",
       "      <td>-0.8146137 -1.642848 -0.4478466 -1.2294497 1.1...</td>\n",
       "      <td>-0.08805823 0.36209893 -0.1703094 0.4373201 -0...</td>\n",
       "      <td>0.51527965 0.7823272 -0.71006715 -0.06861135 0...</td>\n",
       "    </tr>\n",
       "  </tbody>\n",
       "</table>\n",
       "<p>19603 rows × 59 columns</p>\n",
       "</div>"
      ],
      "text/plain": [
       "                                             name  \\\n",
       "0      1,5,8-Trihydroxy-3-methyl-2-prenylxanthone   \n",
       "1                               2,4-Dimethylfuran   \n",
       "2                            Schidigerasaponin E1   \n",
       "3                      sphingomyelin (d18:1/20:0)   \n",
       "4                                 Matairesinoside   \n",
       "...                                           ...   \n",
       "19598          2,5-Dimethyl-3-(methyldithio)furan   \n",
       "19599                                Muricadienin   \n",
       "19600                                  L-Lysopine   \n",
       "19601             Sarcodon scabrosus Depsipeptide   \n",
       "19602                       9-Acetoxyfukinanolide   \n",
       "\n",
       "                          InChIKey     First Block  Metabolon_RP  UCD_GC  \\\n",
       "0      AAANZTDKTFGJLZ-UHFFFAOYSA-N  AAANZTDKTFGJLZ           NaN     NaN   \n",
       "1      AABTWRKUKUPMJG-UHFFFAOYSA-N  AABTWRKUKUPMJG           NaN     NaN   \n",
       "2      AADIIQJBIMAADJ-UHFFFAOYSA-N  AADIIQJBIMAADJ           NaN     NaN   \n",
       "3      AADLTHQNYQJHQV-SVLGDMRNSA-N  AADLTHQNYQJHQV   100006290.0     NaN   \n",
       "4      AAGCATAPYOEULE-LHHMAMHXSA-N  AAGCATAPYOEULE           NaN     NaN   \n",
       "...                            ...             ...           ...     ...   \n",
       "19598  ZZXDUGZYDILQMO-UHFFFAOYSA-N  ZZXDUGZYDILQMO           NaN     NaN   \n",
       "19599  ZZXWNKPYSIVFNM-XUWLZAGCSA-N  ZZXWNKPYSIVFNM           NaN     NaN   \n",
       "19600  ZZYYVZYAZCMNPG-UHFFFAOYSA-N  ZZYYVZYAZCMNPG           NaN     NaN   \n",
       "19601  ZZZCVVSDKFDQJU-UHFFFAOYSA-N  ZZZCVVSDKFDQJU           NaN     NaN   \n",
       "19602  ZZZDGYZKGIPSPD-MGNHCAFKSA-N  ZZZDGYZKGIPSPD           NaN     NaN   \n",
       "\n",
       "      UCD_HIL UCD_LIP UCD_PFP phenolexplorer_id           dfc_id  ...  \\\n",
       "0         NaN     NaN     NaN               NaN  HHG46-P:HHG14-E  ...   \n",
       "1         NaN     NaN     NaN               NaN  FWS22-S:FWS22-S  ...   \n",
       "2         NaN     NaN     NaN               NaN  GMN25-P:JYJ15-F  ...   \n",
       "3         NaN    L489     NaN               NaN              NaN  ...   \n",
       "4         NaN     NaN     NaN               NaN  JRV93-M:JJJ08-E  ...   \n",
       "...       ...     ...     ...               ...              ...  ...   \n",
       "19598     NaN     NaN     NaN               NaN  MFW29-D:MFW29-D  ...   \n",
       "19599     NaN     NaN     NaN               NaN  FFY87-E:FOW95-G  ...   \n",
       "19600     NaN     NaN     NaN               NaN  HGR03-W:GZD90-U  ...   \n",
       "19601     NaN     NaN     NaN               NaN  NRT85-T:NRT85-T  ...   \n",
       "19602     NaN     NaN     NaN               NaN  KCS59-B:HPG42-P  ...   \n",
       "\n",
       "      hbondacc rotbonds                                               dois  \\\n",
       "0          6.0      3.0                       10.1007/978-94-007-1764-0_15   \n",
       "1          1.0      0.0  10.1007/978-3-642-41473-2_4|10.1007/978-94-007...   \n",
       "2         18.0      8.0                                                NaN   \n",
       "3          6.0     40.0                         10.1038/s41598-018-28477-9   \n",
       "4         11.0      9.0  10.1016/j.bmcl.2013.08.065|10.1016/j.fitote.20...   \n",
       "...        ...      ...                                                ...   \n",
       "19598      3.0      2.0                       10.1007/978-3-319-26932-0_10   \n",
       "19599      2.0     27.0  10.1021/acs.jnatprod.6b00335|10.1021/ol502849y...   \n",
       "19600      6.0      8.0                                                NaN   \n",
       "19601      8.0      5.0                                                NaN   \n",
       "19602      4.0      2.0                                                NaN   \n",
       "\n",
       "                          InChiKey          cid  \\\n",
       "0      AAANZTDKTFGJLZ-UHFFFAOYSA-N   14162674.0   \n",
       "1      AABTWRKUKUPMJG-UHFFFAOYSA-N      19462.0   \n",
       "2      AADIIQJBIMAADJ-UHFFFAOYSA-N   73798945.0   \n",
       "3      AADLTHQNYQJHQV-SVLGDMRNSA-N   44260124.0   \n",
       "4      AAGCATAPYOEULE-LHHMAMHXSA-N     486612.0   \n",
       "...                            ...          ...   \n",
       "19598  ZZXDUGZYDILQMO-UHFFFAOYSA-N   20313888.0   \n",
       "19599  ZZXWNKPYSIVFNM-XUWLZAGCSA-N  131751334.0   \n",
       "19600  ZZYYVZYAZCMNPG-UHFFFAOYSA-N    3325403.0   \n",
       "19601  ZZZCVVSDKFDQJU-UHFFFAOYSA-N  131753140.0   \n",
       "19602  ZZZDGYZKGIPSPD-MGNHCAFKSA-N    5320805.0   \n",
       "\n",
       "                                          fingerprint_r2  \\\n",
       "0      2246728737 3545365497 2246699815 176403689 224...   \n",
       "1      2246728737 422715066 3217380708 3661262542 321...   \n",
       "2      2246728737 1858577693 2976033787 1228815484 29...   \n",
       "3      2246728737 3542456614 2245384272 1173125914 22...   \n",
       "4      2246728737 3975275337 864674487 2076190208 321...   \n",
       "...                                                  ...   \n",
       "19598  2246728737 422715066 3217380708 3661262542 321...   \n",
       "19599  2246728737 3542456614 2245384272 1173125914 22...   \n",
       "19600  2246728737 3537119515 2245273601 2637439965 22...   \n",
       "19601  2246728737 3542456614 2245384272 1506563592 22...   \n",
       "19602  2246728737 1858577693 2976033787 1236795370 29...   \n",
       "\n",
       "                                             fingerprint  \\\n",
       "0      2246728737 3545365497 2246699815 176403689 224...   \n",
       "1      2246728737 422715066 3217380708 3661262542 321...   \n",
       "2      2246728737 1858577693 2976033787 1228815484 29...   \n",
       "3      2246728737 3542456614 2245384272 1173125914 22...   \n",
       "4      2246728737 3975275337 864674487 2076190208 321...   \n",
       "...                                                  ...   \n",
       "19598  2246728737 422715066 3217380708 3661262542 321...   \n",
       "19599  2246728737 3542456614 2245384272 1173125914 22...   \n",
       "19600  2246728737 3537119515 2245273601 2637439965 22...   \n",
       "19601  2246728737 3542456614 2245384272 1506563592 22...   \n",
       "19602  2246728737 1858577693 2976033787 1236795370 29...   \n",
       "\n",
       "                                      fingerprint_vector  \\\n",
       "0      1.2125952 -0.45228845 -0.45648438 0.8465898 -2...   \n",
       "1      0.7780322 -0.008117993 -0.31886604 -0.08983363...   \n",
       "2      -0.13111542 -2.1445282 -1.7001715 -0.793216 -1...   \n",
       "3      1.1118712 -3.3872707 0.19861576 2.4934237 -0.0...   \n",
       "4      0.46425006 -0.7574755 -1.289255 0.8256081 -2.9...   \n",
       "...                                                  ...   \n",
       "19598  0.5096015 0.4900139 0.24447432 0.18041344 -0.1...   \n",
       "19599  0.8148282 -3.9692025 0.7532225 1.7267354 -0.45...   \n",
       "19600  0.12395296 -2.207925 -2.0375855 2.5450706 0.54...   \n",
       "19601  0.32609528 -1.1192921 -0.914021 0.37409475 0.8...   \n",
       "19602  -0.8146137 -1.642848 -0.4478466 -1.2294497 1.1...   \n",
       "\n",
       "                                   fingerprint_r2_vector  \\\n",
       "0      0.08833204 0.111414164 -0.37103447 0.13921869 ...   \n",
       "1      0.05996513 0.058616612 -0.16668518 0.08901948 ...   \n",
       "2      -0.010426988 0.058215413 -0.17470427 0.3262831...   \n",
       "3      0.17508355 -0.19388516 -0.33345646 0.13449408 ...   \n",
       "4      0.080369376 0.053641893 -0.3176836 0.17028345 ...   \n",
       "...                                                  ...   \n",
       "19598  0.095634416 -0.06425911 -0.18737948 0.10294013...   \n",
       "19599  0.2708331 -0.13801025 -0.25443316 0.20883478 0...   \n",
       "19600  -0.020846456 -0.06992156 -0.4119097 0.1573976 ...   \n",
       "19601  0.04328066 0.1790831 0.0189406 0.26741648 0.11...   \n",
       "19602  -0.08805823 0.36209893 -0.1703094 0.4373201 -0...   \n",
       "\n",
       "                                            glove_vector  \n",
       "0      0.5982757 0.33405483 -0.7447651 -1.0637729 1.4...  \n",
       "1      0.7881843 -0.11993383 -1.035832 -1.1379453 1.3...  \n",
       "2      0.45775712 1.4772747 -0.8142888 0.24698713 0.6...  \n",
       "3      0.47446114 0.31419408 0.03206512 -1.0402479 0....  \n",
       "4      0.47634116 0.8720007 -0.7416479 -0.7085184 1.2...  \n",
       "...                                                  ...  \n",
       "19598  0.25041574 -0.15444656 -0.8587896 -0.99885875 ...  \n",
       "19599  0.68793035 0.38539666 -0.032631543 -1.2271056 ...  \n",
       "19600  0.5720562 -0.076057404 0.37635037 -0.77714705 ...  \n",
       "19601  0.7634668 0.38401568 -0.7741939 -0.3328707 1.3...  \n",
       "19602  0.51527965 0.7823272 -0.71006715 -0.06861135 0...  \n",
       "\n",
       "[19603 rows x 59 columns]"
      ]
     },
     "execution_count": 36,
     "metadata": {},
     "output_type": "execute_result"
    }
   ],
   "source": [
    "ndm_df"
   ]
  },
  {
   "cell_type": "code",
   "execution_count": 75,
   "metadata": {},
   "outputs": [],
   "source": [
    "morgan_finderprint_length_list = []\n",
    "\n",
    "for index, row in ndm_df.iterrows():\n",
    "    morgan_finderprint_length_list.append(len(row['fingerprint_r2']))"
   ]
  },
  {
   "cell_type": "code",
   "execution_count": 63,
   "metadata": {},
   "outputs": [
    {
     "data": {
      "text/plain": [
       "Text(0,0.5,'Count')"
      ]
     },
     "execution_count": 63,
     "metadata": {},
     "output_type": "execute_result"
    },
    {
     "data": {
      "image/png": "[encoded data removed]",
      "text/plain": [
       "<Figure size 432x288 with 1 Axes>"
      ]
     },
     "metadata": {
      "needs_background": "light"
     },
     "output_type": "display_data"
    }
   ],
   "source": [
    "plt.hist(morgan_finderprint_length_list, bins = 100, log = True)\n",
    "plt.xlabel('Morgan Fingerprint length')\n",
    "plt.ylabel('Count')"
   ]
  },
  {
   "cell_type": "code",
   "execution_count": 64,
   "metadata": {},
   "outputs": [
    {
     "data": {
      "text/plain": [
       "Text(0,0.5,'PDF')"
      ]
     },
     "execution_count": 64,
     "metadata": {},
     "output_type": "execute_result"
    },
    {
     "data": {
      "image/png": "[encoded data removed]",
      "text/plain": [
       "<Figure size 432x288 with 1 Axes>"
      ]
     },
     "metadata": {
      "needs_background": "light"
     },
     "output_type": "display_data"
    }
   ],
   "source": [
    "plt.hist(np.log10(morgan_finderprint_length_list),density=True)\n",
    "plt.xlabel('Morgan Fingerprint length (Log10)')\n",
    "plt.ylabel('PDF')"
   ]
  },
  {
   "cell_type": "code",
   "execution_count": 76,
   "metadata": {},
   "outputs": [],
   "source": [
    "distributions['CL_NDM']=morgan_finderprint_length_list"
   ]
  },
  {
   "cell_type": "code",
   "execution_count": 77,
   "metadata": {},
   "outputs": [
    {
     "data": {
      "text/plain": [
       "'/home/covid-target-finder'"
      ]
     },
     "execution_count": 77,
     "metadata": {},
     "output_type": "execute_result"
    }
   ],
   "source": [
    "pwd()"
   ]
  },
  {
   "cell_type": "code",
   "execution_count": 80,
   "metadata": {},
   "outputs": [
    {
     "data": {
      "text/plain": [
       "dict_keys(['GL_DrugBank', 'CL_DrugBank', 'GL_HTcovid', 'GL_VPcovid', 'CL_NDM'])"
      ]
     },
     "execution_count": 80,
     "metadata": {},
     "output_type": "execute_result"
    }
   ],
   "source": [
    "distributions.keys()"
   ]
  },
  {
   "cell_type": "code",
   "execution_count": 81,
   "metadata": {},
   "outputs": [
    {
     "data": {
      "text/plain": [
       "['distributions_length.pkl']"
      ]
     },
     "execution_count": 81,
     "metadata": {},
     "output_type": "execute_result"
    }
   ],
   "source": [
    "joblib.dump(distributions, 'distributions_length.pkl')"
   ]
  },
  {
   "cell_type": "code",
   "execution_count": null,
   "metadata": {},
   "outputs": [],
   "source": []
  }
 ],
 "metadata": {
  "kernelspec": {
   "display_name": "Python 3",
   "language": "python",
   "name": "python3"
  },
  "language_info": {
   "codemirror_mode": {
    "name": "ipython",
    "version": 3
   },
   "file_extension": ".py",
   "mimetype": "text/x-python",
   "name": "python",
   "nbconvert_exporter": "python",
   "pygments_lexer": "ipython3",
   "version": "3.6.6"
  }
 },
 "nbformat": 4,
 "nbformat_minor": 4
}
