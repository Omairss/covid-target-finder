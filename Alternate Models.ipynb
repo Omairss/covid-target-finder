{
 "cells": [
  {
   "cell_type": "markdown",
   "metadata": {},
   "source": [
    "### Imports "
   ]
  },
  {
   "cell_type": "code",
   "execution_count": 1,
   "metadata": {},
   "outputs": [
    {
     "data": {
      "text/plain": [
       "<module 'tensorflow' from '/miniconda/lib/python3.6/site-packages/tensorflow/__init__.py'>"
      ]
     },
     "execution_count": 1,
     "metadata": {},
     "output_type": "execute_result"
    }
   ],
   "source": [
    "import pickle as pkl\n",
    "import lxml\n",
    "import pandas as pd\n",
    "import numpy as np\n",
    "import matplotlib.pyplot as plt\n",
    "import tensorflow.keras\n",
    "import importlib\n",
    "import time\n",
    "\n",
    "from tensorflow.keras.datasets import imdb\n",
    "from tqdm.notebook import tqdm\n",
    "from sklearn.metrics import confusion_matrix\n",
    "from sklearn.utils.multiclass import unique_labels\n",
    "from sklearn.metrics import f1_score, classification_report, confusion_matrix\n",
    "from sklearn.model_selection import train_test_split\n",
    "from sklearn.preprocessing import LabelEncoder, OneHotEncoder\n",
    "from ast import literal_eval\n",
    "from sklearn.model_selection import train_test_split\n",
    "from sklearn.linear_model import LogisticRegression\n",
    "from sklearn.metrics import confusion_matrix, f1_score\n",
    "from tensorflow.keras.initializers import glorot_uniform\n",
    "from tensorflow.keras.models import Sequential, Model\n",
    "from tensorflow.keras.layers import Input, Dense, Activation, Dropout, Conv1D, Flatten, MaxPooling1D,\\\n",
    "                        AveragePooling1D, Concatenate, LeakyReLU, Embedding,\\\n",
    "                        GlobalMaxPooling1D,GlobalAveragePooling1D,GaussianNoise,BatchNormalization,Add, ZeroPadding1D\n",
    "\n",
    "\n",
    "importlib.reload(tensorflow)"
   ]
  },
  {
   "cell_type": "code",
   "execution_count": 2,
   "metadata": {},
   "outputs": [],
   "source": [
    "tqdm.pandas()"
   ]
  },
  {
   "cell_type": "code",
   "execution_count": 3,
   "metadata": {},
   "outputs": [],
   "source": [
    "import tensorflow as tf\n",
    "with tf.Session() as sess:\n",
    "    devices = sess.list_devices()"
   ]
  },
  {
   "cell_type": "markdown",
   "metadata": {},
   "source": [
    "### Helper Functions / Classes "
   ]
  },
  {
   "cell_type": "code",
   "execution_count": 25,
   "metadata": {},
   "outputs": [],
   "source": [
    "def plot_confusion_matrix(y_true, y_pred, classes,\n",
    "                          normalize=False,\n",
    "                          title=None,\n",
    "                          cmap=plt.cm.Blues):\n",
    "    \"\"\"\n",
    "    This function prints and plots the confusion matrix.\n",
    "    Normalization can be applied by setting `normalize=True`.\n",
    "    \n",
    "    NOTE: Taken from sklearn example\n",
    "    \"\"\"\n",
    "    if not title:\n",
    "        if normalize:\n",
    "            title = 'Normalized confusion matrix'\n",
    "        else:\n",
    "            title = 'Confusion matrix, without normalization'\n",
    "\n",
    "    # Compute confusion matrix\n",
    "    cm = confusion_matrix(y_true, y_pred)\n",
    "    # Only use the labels that appear in the data\n",
    "    classes = [0,1]\n",
    "    if normalize:\n",
    "        cm = cm.astype('float') / cm.sum(axis=1)[:, np.newaxis]\n",
    "        print(\"Normalized confusion matrix\")\n",
    "    else:\n",
    "        print('Confusion matrix, without normalization')\n",
    "\n",
    "    print(cm)\n",
    "\n",
    "    fig, ax = plt.subplots()\n",
    "    \n",
    "    #ax.figsize((10, 10))\n",
    "    im = ax.imshow(cm, interpolation='nearest', cmap=cmap)\n",
    "    ax.figure.colorbar(im, ax=ax)\n",
    "    # We want to show all ticks...\n",
    "    ax.set(xticks=np.arange(cm.shape[1]),\n",
    "           yticks=np.arange(cm.shape[0]),\n",
    "           # ... and label them with the respective list entries\n",
    "           xticklabels=classes, yticklabels=classes,\n",
    "           title=title,\n",
    "           ylabel='True label',\n",
    "           xlabel='Predicted label')\n",
    "\n",
    "    # Rotate the tick labels and set their alignment.\n",
    "    plt.setp(ax.get_xticklabels(), rotation=45, ha=\"right\",\n",
    "             rotation_mode=\"anchor\")\n",
    "\n",
    "    # Loop over data dimensions and create text annotations.\n",
    "    fmt = '.2f' if normalize else 'd'\n",
    "    thresh = cm.max() / 2.\n",
    "    for i in range(cm.shape[0]):\n",
    "        for j in range(cm.shape[1]):\n",
    "            ax.text(j, i, format(cm[i, j], fmt),\n",
    "                    ha=\"center\", va=\"center\",\n",
    "                    color=\"white\" if cm[i, j] > thresh else \"black\")\n",
    "    fig.tight_layout()\n",
    "    return ax"
   ]
  },
  {
   "cell_type": "code",
   "execution_count": 24,
   "metadata": {},
   "outputs": [],
   "source": [
    "from IPython.display import clear_output\n",
    "class PlotLosses(tensorflow.keras.callbacks.Callback):\n",
    "    def on_train_begin(self, logs={}):\n",
    "        self.i = 0\n",
    "        self.x = []\n",
    "        self.losses = []\n",
    "        self.val_losses = []\n",
    "        \n",
    "        self.fig = plt.figure()\n",
    "        \n",
    "        self.logs = []\n",
    "\n",
    "    def on_epoch_end(self, epoch, logs={}):\n",
    "        \n",
    "        self.logs.append(logs)\n",
    "        self.x.append(self.i)\n",
    "        self.losses.append(logs.get('loss'))\n",
    "        self.val_losses.append(logs.get('val_loss'))\n",
    "        self.i += 1\n",
    "        \n",
    "        clear_output(wait=True)\n",
    "        plt.plot(self.x, self.losses, label=\"loss\")\n",
    "        plt.plot(self.x, self.val_losses, label=\"val_loss\")\n",
    "        plt.legend()\n",
    "        plt.show()\n",
    "        \n",
    "        plt.plot(range(len(global_history)), global_history, label = 'Accuracy - Global')\n",
    "        plt.plot(range(len(global_val_history)), global_val_history, label = 'Accuracy - Global - Va;')\n",
    "        plt.legend()\n",
    "        plt.show()\n",
    "        \n",
    "        plt.hist(predictions, label = 'Prediction Distribution')\n",
    "        plt.legend()\n",
    "        plt.show()    \n",
    "        \n",
    "        plt.hist(actual, label = 'Actual Distribution')\n",
    "        plt.legend()\n",
    "        plt.show()\n",
    "        \n",
    "plot_losses = PlotLosses()"
   ]
  },
  {
   "cell_type": "markdown",
   "metadata": {},
   "source": [
    "### Data "
   ]
  },
  {
   "cell_type": "code",
   "execution_count": 12,
   "metadata": {},
   "outputs": [
    {
     "name": "stdout",
     "output_type": "stream",
     "text": [
      "Reading data - chunk size : 800\n",
      "Data read complete : 6.573439121246338s\n"
     ]
    }
   ],
   "source": [
    "chunk_size = 8 * 100\n",
    "\n",
    "drugbank_reader = pd.read_csv('data/intermediate/interactions_preprocessed.csv', chunksize = chunk_size, iterator = True, converters={\"target_gene_encoded_padded\": \\\n",
    "                                                                                     lambda x: np.array(x.strip(\"[]\").replace(\"'\",\"\").split(\", \")),\n",
    "                                                                                    \"drug_fingerprint_encoded_padded\": \\\n",
    "                                                                                    lambda x: np.array(x.strip(\"[]\").replace(\"'\",\"\").split(\", \"))})\n",
    "\n",
    "\n",
    "print (\"Reading data - chunk size : \" + str(chunk_size) )\n",
    "start = time.time()\n",
    "drugbank = drugbank_reader.__next__()\n",
    "end = time.time()\n",
    "print (\"Data read complete : \" + str(end - start) + \"s\")\n"
   ]
  },
  {
   "cell_type": "code",
   "execution_count": null,
   "metadata": {},
   "outputs": [],
   "source": [
    "compressed_db = drugbank[['drug_id', 'gene_id']]"
   ]
  },
  {
   "cell_type": "code",
   "execution_count": null,
   "metadata": {},
   "outputs": [],
   "source": []
  },
  {
   "cell_type": "code",
   "execution_count": null,
   "metadata": {},
   "outputs": [],
   "source": []
  },
  {
   "cell_type": "markdown",
   "metadata": {},
   "source": [
    "### Models"
   ]
  },
  {
   "cell_type": "markdown",
   "metadata": {},
   "source": [
    "#### 1D Adaptation Of ResNet-50\n",
    "\n",
    "(Incorrect At The Moment)"
   ]
  },
  {
   "cell_type": "code",
   "execution_count": 13,
   "metadata": {},
   "outputs": [],
   "source": [
    "def identity_block(X, kernel_size, filters):\n",
    "    \n",
    "    # Number Of Filters For Each Block \n",
    "    F1, F2, F3 = filters\n",
    "    \n",
    "    # Save Input For Shortcut\n",
    "    X_shortcut = X\n",
    "    \n",
    "    # Component 1\n",
    "    X = Conv1D(filters = F1, kernel_size = kernel_size, strides = 1, padding = 'valid', kernel_initializer = glorot_uniform())(X)\n",
    "    X = BatchNormalization()(X)\n",
    "    X = Activation('relu')(X)\n",
    "    \n",
    "    # Component 2 \n",
    "    X = Conv1D(filters = F2, kernel_size = kernel_size, strides = 1, padding = 'valid', kernel_initializer = glorot_uniform())(X)\n",
    "    X = BatchNormalization()(X)\n",
    "    X = Activation('relu')(X)\n",
    "    \n",
    "    # Component 3 \n",
    "    X = Conv1D(filters = F3, kernel_size = kernel_size, strides = 1, padding = 'valid', kernel_initializer = glorot_uniform())(X)\n",
    "    X = BatchNormalization()(X)\n",
    "    \n",
    "    # Add Shortcut Path\n",
    "    X = Add()([X, X_shortcut])\n",
    "    X = Activation('relu')(X)\n",
    "    \n",
    "    return X\n",
    "    "
   ]
  },
  {
   "cell_type": "code",
   "execution_count": 14,
   "metadata": {},
   "outputs": [],
   "source": [
    "def convolutional_block(X, kernel_size, filters, s = 2):\n",
    "    \n",
    "    # Number Of Filters For Each Block \n",
    "    F1, F2, F3 = filters\n",
    "    \n",
    "    # Save Input For Shortcut\n",
    "    X_shortcut = X\n",
    "    \n",
    "    ## Main Path \n",
    "    # Component 1 \n",
    "    X = Conv1D(filters = F1, kernel_size = kernel_size, strides = s, padding = 'valid', kernel_initializer = glorot_uniform())(X)\n",
    "    X = BatchNormalization()(X)\n",
    "    X = Activation('relu')(X)\n",
    "    \n",
    "    # Component 2\n",
    "    X = Conv1D(filters = F2, kernel_size = kernel_size, strides = s, padding = 'valid', kernel_initializer = glorot_uniform())(X)\n",
    "    X = BatchNormalization()(X)\n",
    "    X = Activation('relu')(X)\n",
    "    \n",
    "    # Component 3\n",
    "    X = Conv1D(filters = F3, kernel_size = kernel_size, strides = s, padding = 'valid', kernel_initializer = glorot_uniform())(X)\n",
    "    X = BatchNormalization()(X)\n",
    "    \n",
    "    ## Shortcut Path\n",
    "    X_shortcut = Conv1D(filters = F3, kernel_size = 16, strides = s, padding = 'valid', kernel_initializer = glorot_uniform())(X_shortcut)\n",
    "    X_shortcut = BatchNormalization()(X_shortcut)\n",
    "    \n",
    "    # Add Shortcut Path\n",
    "    X = Add()([X, X_shortcut])\n",
    "    X = Activation('relu')(X)\n",
    "    \n",
    "    return X"
   ]
  },
  {
   "cell_type": "code",
   "execution_count": 15,
   "metadata": {},
   "outputs": [],
   "source": [
    "def ResNet_1D(input_shape = (30723, 1)):\n",
    "    \n",
    "    X_input = Input(input_shape)\n",
    "    \n",
    "    # Stage 1\n",
    "    X = Conv1D(filters = 64, kernel_size = 16, strides = 2, activation = 'relu', kernel_initializer = glorot_uniform())(X_input)\n",
    "    X = BatchNormalization()(X)\n",
    "    X = Activation('relu')(X)\n",
    "    \n",
    "    # Stage 2 - 1 Conv Block & 2 Identity Blocks\n",
    "    X = convolutional_block(X, kernel_size = 16, filters = [64, 64, 128], s = 1)\n",
    "    X = identity_block(X, kernel_size = 1, filters = [64, 64, 128])\n",
    "    X = identity_block(X, kernel_size = 1, filters = [64, 64, 128])\n",
    "    \n",
    "    # Stage 3 - 1 Conv Block & 3 Identity Blocks\n",
    "    X = convolutional_block(X, kernel_size = 16, filters = [128, 128, 256])\n",
    "    X = identity_block(X, kernel_size = 1, filters = [128, 128, 256])\n",
    "    X = identity_block(X, kernel_size = 1, filters = [128, 128, 256])\n",
    "    X = identity_block(X, kernel_size = 1, filters = [128, 128, 256])\n",
    "    \n",
    "    # Stage 4 - 1 Conv Block & 5 Identity Blocks\n",
    "    X = convolutional_block(X, kernel_size = 16, filters = [256, 256, 512])\n",
    "    X = identity_block(X, kernel_size = 1, filters = [256, 256, 512])\n",
    "    X = identity_block(X, kernel_size = 1, filters = [256, 256, 512])\n",
    "    X = identity_block(X, kernel_size = 1, filters = [256, 256, 512])\n",
    "    X = identity_block(X, kernel_size = 1, filters = [256, 256, 512])\n",
    "    X = identity_block(X, kernel_size = 1, filters = [256, 256, 512])\n",
    "    \n",
    "    # Stage 5 - 1 Conv Block & 2 Identity Blocks \n",
    "    X = convolutional_block(X, kernel_size = 16, filters = [512, 512, 1024])\n",
    "    X = identity_block(X, kernel_size = 1, filters = [512, 512, 1024])\n",
    "    X = identity_block(X, kernel_size = 1, filters = [512, 512, 1024])\n",
    "    \n",
    "    \n",
    "    X = GlobalAveragePooling1D()(X)\n",
    "    X = Flatten()(X)\n",
    "    X = Dense(1, kernel_initializer = glorot_uniform())(X)\n",
    "    X = Activation('sigmoid')(X)\n",
    "    \n",
    "    model = Model(inputs = X_input, outputs = X)\n",
    "    \n",
    "    return model\n",
    "    "
   ]
  },
  {
   "cell_type": "markdown",
   "metadata": {},
   "source": [
    "#### 1D Adaptation Of VGG 16 "
   ]
  },
  {
   "cell_type": "code",
   "execution_count": 16,
   "metadata": {},
   "outputs": [],
   "source": [
    "def OneDimensional_VGG(input_shape = (30723, 1)):\n",
    "    \n",
    "    X_input = Input(input_shape)\n",
    "    \n",
    "    # Convolution Block 1\n",
    "    X = Conv1D(filters = 64, kernel_size = 2, strides = 1, activation = 'relu', padding = 'same', kernel_initializer = glorot_uniform(), name = 'CB1-C1')(X_input)\n",
    "    X = Conv1D(filters = 64, kernel_size = 2, strides = 1, activation = 'relu', padding = 'same', kernel_initializer = glorot_uniform(), name = 'CB1-C2')(X)\n",
    "    X = BatchNormalization(name = 'CB1-BN1')(X)\n",
    "    X = AveragePooling1D(name = 'CB1-P1')(X)\n",
    "    X = Dropout(0.4, name = 'CB1-DO1')(X)\n",
    "    \n",
    "    # Convolution Block 2\n",
    "    X = Conv1D(filters = 128, kernel_size = 2, strides = 1, activation = 'relu', padding = 'same', kernel_initializer = glorot_uniform(), name = 'CB2-C1')(X)\n",
    "    X = Conv1D(filters = 128, kernel_size = 2, strides = 1, activation = 'relu', padding = 'same', kernel_initializer = glorot_uniform(), name = 'CB2-C2')(X)\n",
    "    X = BatchNormalization(name = 'CB2-BN1')(X)\n",
    "    X = AveragePooling1D(name = 'CB2-P1')(X)\n",
    "    X = Dropout(0.4, name = 'CB2-DO1')(X)\n",
    "\n",
    "    # Convolution Block 3\n",
    "    X = Conv1D(filters = 256, kernel_size = 2, strides = 2, activation = 'relu', kernel_initializer = glorot_uniform(), name = 'CB3-C1')(X)\n",
    "    X = ZeroPadding1D(int(int(X.shape[1]) / 2), name = 'CB3-ZP1')(X)\n",
    "    X = Conv1D(filters = 256, kernel_size = 2, strides = 2, activation = 'relu', kernel_initializer = glorot_uniform(), name = 'CB3-C2')(X)\n",
    "    X = ZeroPadding1D(int(int(X.shape[1]) / 2), name = 'CB3-ZP2')(X)\n",
    "    X = Conv1D(filters = 256, kernel_size = 2, strides = 2, activation = 'relu', kernel_initializer = glorot_uniform(), name = 'CB3-C3')(X)\n",
    "    X = ZeroPadding1D(int(int(X.shape[1]) / 2), name = 'CB3-ZP3')(X)\n",
    "    X = BatchNormalization(name = 'CB3-BN1')(X)\n",
    "    X = AveragePooling1D(name = 'CB3-P1')(X)\n",
    "    X = Dropout(0.4, name = 'CB3-DO1')(X)\n",
    "    \n",
    "    # Convolution Block 4\n",
    "    X = Conv1D(filters = 512, kernel_size = 2, strides = 2, activation = 'relu', kernel_initializer = glorot_uniform(), name = 'CB4-C1')(X)\n",
    "    X = ZeroPadding1D(int(int(X.shape[1]) / 2), name = 'CB4-ZP1')(X)\n",
    "    X = Conv1D(filters = 512, kernel_size = 2, strides = 2, activation = 'relu', kernel_initializer = glorot_uniform(), name = 'CB4-C2')(X)\n",
    "    X = ZeroPadding1D(int(int(X.shape[1]) / 2), name = 'CB4-ZP2')(X)\n",
    "    X = Conv1D(filters = 512, kernel_size = 2, strides = 2, activation = 'relu', kernel_initializer = glorot_uniform(), name = 'CB4-C3')(X)\n",
    "    X = ZeroPadding1D(int(int(X.shape[1]) / 2), name = 'CB4-ZP3')(X)\n",
    "    X = BatchNormalization(name = 'CB4-BN1')(X)\n",
    "    X = AveragePooling1D(name = 'CB4-P1')(X)\n",
    "    X = Dropout(0.4, name = 'CB4-DO1')(X)\n",
    "    \n",
    "    # Convolution Block 5\n",
    "    X = Conv1D(filters = 1024, kernel_size = 2, strides = 2, activation = 'relu', kernel_initializer = glorot_uniform(), name = 'CB5-C1')(X)\n",
    "    X = ZeroPadding1D(int(int(X.shape[1]) / 2), name = 'CB5-ZP1')(X)\n",
    "    X = Conv1D(filters = 1024, kernel_size = 2, strides = 2, activation = 'relu', kernel_initializer = glorot_uniform(), name = 'CB5-C2')(X)\n",
    "    X = ZeroPadding1D(int(int(X.shape[1]) / 2), name = 'CB5-ZP2')(X)\n",
    "    X = Conv1D(filters = 1024, kernel_size = 2, strides = 2, activation = 'relu', kernel_initializer = glorot_uniform(), name = 'CB5-C3')(X)\n",
    "    X = ZeroPadding1D(int(int(X.shape[1]) / 2), name = 'CB5-ZP3')(X)\n",
    "    X = BatchNormalization(name = 'CB5-BN1')(X)\n",
    "    X = AveragePooling1D(name = 'CB5-P1')(X)\n",
    "    X = Dropout(0.4, name = 'CB5-DO1')(X)\n",
    "    \n",
    "    X = GlobalAveragePooling1D(name = 'GP-1')(X)\n",
    "    X = Flatten(name = 'Flat-1')(X)\n",
    "    X = Dense(1, kernel_initializer = glorot_uniform())(X)\n",
    "    X = Activation('sigmoid')(X)\n",
    "    \n",
    "    model = Model(inputs = X_input, outputs = X)\n",
    "\n",
    "    return model"
   ]
  },
  {
   "cell_type": "markdown",
   "metadata": {},
   "source": [
    "#### 1D VGG - No Padding "
   ]
  },
  {
   "cell_type": "code",
   "execution_count": 17,
   "metadata": {},
   "outputs": [],
   "source": [
    "def VGG_16(input_shape = (30723, 1)):\n",
    "\n",
    "    X_input = Input(input_shape)\n",
    "    \n",
    "    # Convolution Block 1\n",
    "    X = Conv1D(filters = 64, kernel_size = 2, strides = 2, activation = 'relu', name = 'ConvBlock-1-ConvLayer-1')(X_input)\n",
    "    X = Conv1D(filters = 64, kernel_size = 2, strides = 2, activation = 'relu', name = 'ConvBlock-1-ConvLayer-2')(X)\n",
    "    X = BatchNormalization(name = 'ConvBlock-1-BatchNorm-1')(X)\n",
    "    X = AveragePooling1D(name = 'ConvBlock-1-AvgPool-1')(X)\n",
    "    \n",
    "    # Convolution Block 2\n",
    "    X = Conv1D(filters = 128, kernel_size = 2, strides = 2, activation = 'relu', name = 'ConvBlock-2-ConvLayer-1')(X)\n",
    "    X = Conv1D(filters = 128, kernel_size = 2, strides = 2, activation = 'relu', name = 'ConvBlock-2-ConvLayer-2')(X)\n",
    "    X = BatchNormalization(name = 'ConvBlock-2-BatchNorm-1')(X)\n",
    "    # Test Drop Out\n",
    "    X = Dropout(0.4, name = 'ConvBlock-2-DropOut-1')(X)\n",
    "\n",
    "    # Convolution Block 3\n",
    "    X = Conv1D(filters = 256, kernel_size = 2, strides = 2, activation = 'relu', name = 'ConvBlock-3-ConvLayer-1')(X)\n",
    "    X = Conv1D(filters = 256, kernel_size = 2, strides = 2, activation = 'relu', name = 'ConvBlock-3-ConvLayer-2')(X)\n",
    "    X = Conv1D(filters = 256, kernel_size = 2, strides = 2, activation = 'relu', name = 'ConvBlock-3-ConvLayer-3')(X)\n",
    "    X = BatchNormalization(name = 'ConvBlock-3-BatchNorm-1')(X)\n",
    "    # Test Drop Out\n",
    "    X = Dropout(0.5, name = 'ConvBlock-3-DropOut-1')(X)\n",
    "\n",
    "#     # Convolution Block 4\n",
    "#     X = Conv1D(filters = 512, kernel_size = 2, strides = 2, activation = 'relu', name = 'ConvBlock-4-ConvLayer-1')(X)\n",
    "#     X = Conv1D(filters = 512, kernel_size = 2, strides = 2, activation = 'relu', name = 'ConvBlock-4-ConvLayer-2')(X)\n",
    "#     X = Conv1D(filters = 512, kernel_size = 2, strides = 2, activation = 'relu', name = 'ConvBlock-4-ConvLayer-3')(X)\n",
    "#     X = BatchNormalization(name = 'ConvBlock-4-BatchNorm-1')(X)\n",
    "#     # Test Drop Out\n",
    "#     X = Dropout(0.7, name = 'ConvBlock-4-DropOut-1')(X)\n",
    "\n",
    "#     # Convolution Block 5\n",
    "#     X = Conv1D(filters = 1024, kernel_size = 2, strides = 2, activation = 'relu', name = 'ConvBlock-5-ConvLayer-1')(X)\n",
    "#     X = Conv1D(filters = 1024, kernel_size = 2, strides = 2, activation = 'relu', name = 'ConvBlock-5-ConvLayer-2')(X)\n",
    "#     X = Conv1D(filters = 1024, kernel_size = 2, strides = 2, activation = 'relu', name = 'ConvBlock-5-ConvLayer-3')(X)\n",
    "#     X = BatchNormalization(name = 'ConvBlock-5-BatchNorm-1')(X)\n",
    "#     # Test Drop Out\n",
    "#     X = Dropout(0.7, name = 'ConvBlock-5-DropOut-1')(X)\n",
    "    \n",
    "    X = GlobalAveragePooling1D(name = 'ConvBlock-1-GlobalPool-1')(X)\n",
    "    X = Flatten()(X)\n",
    "    X = Dense(1, kernel_initializer = glorot_uniform())(X)\n",
    "    X = Activation('sigmoid')(X)\n",
    "\n",
    "    model = Model(inputs = X_input, outputs = X)\n",
    "\n",
    "    return model"
   ]
  },
  {
   "cell_type": "code",
   "execution_count": 18,
   "metadata": {},
   "outputs": [],
   "source": [
    "model = OneDimensional_VGG()"
   ]
  },
  {
   "cell_type": "code",
   "execution_count": 19,
   "metadata": {
    "scrolled": true
   },
   "outputs": [
    {
     "name": "stdout",
     "output_type": "stream",
     "text": [
      "_________________________________________________________________\n",
      "Layer (type)                 Output Shape              Param #   \n",
      "=================================================================\n",
      "input_2 (InputLayer)         (None, 30723, 1)          0         \n",
      "_________________________________________________________________\n",
      "CB1-C1 (Conv1D)              (None, 30723, 64)         192       \n",
      "_________________________________________________________________\n",
      "CB1-C2 (Conv1D)              (None, 30723, 64)         8256      \n",
      "_________________________________________________________________\n",
      "CB1-BN1 (BatchNormalization) (None, 30723, 64)         256       \n",
      "_________________________________________________________________\n",
      "CB1-P1 (AveragePooling1D)    (None, 15361, 64)         0         \n",
      "_________________________________________________________________\n",
      "CB1-DO1 (Dropout)            (None, 15361, 64)         0         \n",
      "_________________________________________________________________\n",
      "CB2-C1 (Conv1D)              (None, 15361, 128)        16512     \n",
      "_________________________________________________________________\n",
      "CB2-C2 (Conv1D)              (None, 15361, 128)        32896     \n",
      "_________________________________________________________________\n",
      "CB2-BN1 (BatchNormalization) (None, 15361, 128)        512       \n",
      "_________________________________________________________________\n",
      "CB2-P1 (AveragePooling1D)    (None, 7680, 128)         0         \n",
      "_________________________________________________________________\n",
      "CB2-DO1 (Dropout)            (None, 7680, 128)         0         \n",
      "_________________________________________________________________\n",
      "CB3-C1 (Conv1D)              (None, 3840, 256)         65792     \n",
      "_________________________________________________________________\n",
      "CB3-ZP1 (ZeroPadding1D)      (None, 7680, 256)         0         \n",
      "_________________________________________________________________\n",
      "CB3-C2 (Conv1D)              (None, 3840, 256)         131328    \n",
      "_________________________________________________________________\n",
      "CB3-ZP2 (ZeroPadding1D)      (None, 7680, 256)         0         \n",
      "_________________________________________________________________\n",
      "CB3-C3 (Conv1D)              (None, 3840, 256)         131328    \n",
      "_________________________________________________________________\n",
      "CB3-ZP3 (ZeroPadding1D)      (None, 7680, 256)         0         \n",
      "_________________________________________________________________\n",
      "CB3-BN1 (BatchNormalization) (None, 7680, 256)         1024      \n",
      "_________________________________________________________________\n",
      "CB3-P1 (AveragePooling1D)    (None, 3840, 256)         0         \n",
      "_________________________________________________________________\n",
      "CB3-DO1 (Dropout)            (None, 3840, 256)         0         \n",
      "_________________________________________________________________\n",
      "CB4-C1 (Conv1D)              (None, 1920, 512)         262656    \n",
      "_________________________________________________________________\n",
      "CB4-ZP1 (ZeroPadding1D)      (None, 3840, 512)         0         \n",
      "_________________________________________________________________\n",
      "CB4-C2 (Conv1D)              (None, 1920, 512)         524800    \n",
      "_________________________________________________________________\n",
      "CB4-ZP2 (ZeroPadding1D)      (None, 3840, 512)         0         \n",
      "_________________________________________________________________\n",
      "CB4-C3 (Conv1D)              (None, 1920, 512)         524800    \n",
      "_________________________________________________________________\n",
      "CB4-ZP3 (ZeroPadding1D)      (None, 3840, 512)         0         \n",
      "_________________________________________________________________\n",
      "CB4-BN1 (BatchNormalization) (None, 3840, 512)         2048      \n",
      "_________________________________________________________________\n",
      "CB4-P1 (AveragePooling1D)    (None, 1920, 512)         0         \n",
      "_________________________________________________________________\n",
      "CB4-DO1 (Dropout)            (None, 1920, 512)         0         \n",
      "_________________________________________________________________\n",
      "CB5-C1 (Conv1D)              (None, 960, 1024)         1049600   \n",
      "_________________________________________________________________\n",
      "CB5-ZP1 (ZeroPadding1D)      (None, 1920, 1024)        0         \n",
      "_________________________________________________________________\n",
      "CB5-C2 (Conv1D)              (None, 960, 1024)         2098176   \n",
      "_________________________________________________________________\n",
      "CB5-ZP2 (ZeroPadding1D)      (None, 1920, 1024)        0         \n",
      "_________________________________________________________________\n",
      "CB5-C3 (Conv1D)              (None, 960, 1024)         2098176   \n",
      "_________________________________________________________________\n",
      "CB5-ZP3 (ZeroPadding1D)      (None, 1920, 1024)        0         \n",
      "_________________________________________________________________\n",
      "CB5-BN1 (BatchNormalization) (None, 1920, 1024)        4096      \n",
      "_________________________________________________________________\n",
      "CB5-P1 (AveragePooling1D)    (None, 960, 1024)         0         \n",
      "_________________________________________________________________\n",
      "CB5-DO1 (Dropout)            (None, 960, 1024)         0         \n",
      "_________________________________________________________________\n",
      "GP-1 (GlobalAveragePooling1D (None, 1024)              0         \n",
      "_________________________________________________________________\n",
      "Flat-1 (Flatten)             (None, 1024)              0         \n",
      "_________________________________________________________________\n",
      "dense_1 (Dense)              (None, 1)                 1025      \n",
      "_________________________________________________________________\n",
      "activation_1 (Activation)    (None, 1)                 0         \n",
      "=================================================================\n",
      "Total params: 6,953,473\n",
      "Trainable params: 6,949,505\n",
      "Non-trainable params: 3,968\n",
      "_________________________________________________________________\n"
     ]
    }
   ],
   "source": [
    "model.summary()"
   ]
  },
  {
   "cell_type": "code",
   "execution_count": 20,
   "metadata": {},
   "outputs": [],
   "source": [
    "model = VGG_16()"
   ]
  },
  {
   "cell_type": "code",
   "execution_count": 21,
   "metadata": {
    "scrolled": false
   },
   "outputs": [
    {
     "name": "stdout",
     "output_type": "stream",
     "text": [
      "_________________________________________________________________\n",
      "Layer (type)                 Output Shape              Param #   \n",
      "=================================================================\n",
      "input_3 (InputLayer)         (None, 30723, 1)          0         \n",
      "_________________________________________________________________\n",
      "ConvBlock-1-ConvLayer-1 (Con (None, 15361, 64)         192       \n",
      "_________________________________________________________________\n",
      "ConvBlock-1-ConvLayer-2 (Con (None, 7680, 64)          8256      \n",
      "_________________________________________________________________\n",
      "ConvBlock-1-BatchNorm-1 (Bat (None, 7680, 64)          256       \n",
      "_________________________________________________________________\n",
      "ConvBlock-1-AvgPool-1 (Avera (None, 3840, 64)          0         \n",
      "_________________________________________________________________\n",
      "ConvBlock-2-ConvLayer-1 (Con (None, 1920, 128)         16512     \n",
      "_________________________________________________________________\n",
      "ConvBlock-2-ConvLayer-2 (Con (None, 960, 128)          32896     \n",
      "_________________________________________________________________\n",
      "ConvBlock-2-BatchNorm-1 (Bat (None, 960, 128)          512       \n",
      "_________________________________________________________________\n",
      "ConvBlock-2-DropOut-1 (Dropo (None, 960, 128)          0         \n",
      "_________________________________________________________________\n",
      "ConvBlock-3-ConvLayer-1 (Con (None, 480, 256)          65792     \n",
      "_________________________________________________________________\n",
      "ConvBlock-3-ConvLayer-2 (Con (None, 240, 256)          131328    \n",
      "_________________________________________________________________\n",
      "ConvBlock-3-ConvLayer-3 (Con (None, 120, 256)          131328    \n",
      "_________________________________________________________________\n",
      "ConvBlock-3-BatchNorm-1 (Bat (None, 120, 256)          1024      \n",
      "_________________________________________________________________\n",
      "ConvBlock-3-DropOut-1 (Dropo (None, 120, 256)          0         \n",
      "_________________________________________________________________\n",
      "ConvBlock-1-GlobalPool-1 (Gl (None, 256)               0         \n",
      "_________________________________________________________________\n",
      "flatten_1 (Flatten)          (None, 256)               0         \n",
      "_________________________________________________________________\n",
      "dense_2 (Dense)              (None, 1)                 257       \n",
      "_________________________________________________________________\n",
      "activation_2 (Activation)    (None, 1)                 0         \n",
      "=================================================================\n",
      "Total params: 388,353\n",
      "Trainable params: 387,457\n",
      "Non-trainable params: 896\n",
      "_________________________________________________________________\n"
     ]
    }
   ],
   "source": [
    "model.summary()"
   ]
  },
  {
   "cell_type": "markdown",
   "metadata": {},
   "source": [
    "### Train"
   ]
  },
  {
   "cell_type": "code",
   "execution_count": 22,
   "metadata": {},
   "outputs": [],
   "source": [
    "model_optimizer = tensorflow.keras.optimizers.Adam(lr = 0.0001, beta_1 = 0.9, beta_2 = 0.999, amsgrad = False)\n",
    "batch_size = 8\n",
    "epochs = 4\n",
    "model.compile(loss = 'binary_crossentropy', optimizer = model_optimizer, metrics = ['binary_accuracy'])\n"
   ]
  },
  {
   "cell_type": "code",
   "execution_count": 27,
   "metadata": {},
   "outputs": [
    {
     "name": "stdout",
     "output_type": "stream",
     "text": [
      "CSV Chunk Size : 800\n",
      "Training Bacth Size : 8\n",
      "Epochs : 4\n"
     ]
    },
    {
     "data": {
      "application/vnd.jupyter.widget-view+json": {
       "model_id": "c67d08a174f54f2a8cc2551a685e3655",
       "version_major": 2,
       "version_minor": 0
      },
      "text/plain": [
       "HBox(children=(FloatProgress(value=1.0, bar_style='info', max=1.0), HTML(value='')))"
      ]
     },
     "metadata": {},
     "output_type": "display_data"
    },
    {
     "name": "stdout",
     "output_type": "stream",
     "text": [
      "Reading chunk from file..\n",
      "Sampling..\n",
      "Padding..\n",
      "Modelling..\n"
     ]
    },
    {
     "ename": "ValueError",
     "evalue": "Invalid argument \"class_weight\" passed to K.function with TensorFlow backend",
     "output_type": "error",
     "traceback": [
      "\u001b[0;31m---------------------------------------------------------------------------\u001b[0m",
      "\u001b[0;31mValueError\u001b[0m                                Traceback (most recent call last)",
      "\u001b[0;32m<ipython-input-27-08bd47217f48>\u001b[0m in \u001b[0;36m<module>\u001b[0;34m\u001b[0m\n\u001b[1;32m     61\u001b[0m                           \u001b[0mcallbacks\u001b[0m\u001b[0;34m=\u001b[0m\u001b[0;34m[\u001b[0m\u001b[0mplot_losses\u001b[0m\u001b[0;34m]\u001b[0m\u001b[0;34m,\u001b[0m\u001b[0;34m\u001b[0m\u001b[0m\n\u001b[1;32m     62\u001b[0m                           \u001b[0mclass_weight\u001b[0m \u001b[0;34m=\u001b[0m \u001b[0;34m{\u001b[0m\u001b[0;36m0\u001b[0m\u001b[0;34m:\u001b[0m \u001b[0;36m1.\u001b[0m\u001b[0;34m,\u001b[0m \u001b[0;36m1\u001b[0m\u001b[0;34m:\u001b[0m \u001b[0;36m5\u001b[0m\u001b[0;34m}\u001b[0m\u001b[0;34m,\u001b[0m\u001b[0;34m\u001b[0m\u001b[0m\n\u001b[0;32m---> 63\u001b[0;31m                           validation_data=(X_0_test[..., np.newaxis], Y_test), verbose = 2)\n\u001b[0m\u001b[1;32m     64\u001b[0m \u001b[0;34m\u001b[0m\u001b[0m\n\u001b[1;32m     65\u001b[0m \u001b[0;34m\u001b[0m\u001b[0m\n",
      "\u001b[0;32m/miniconda/lib/python3.6/site-packages/tensorflow/python/keras/engine/training.py\u001b[0m in \u001b[0;36mfit\u001b[0;34m(self, x, y, batch_size, epochs, verbose, callbacks, validation_split, validation_data, shuffle, class_weight, sample_weight, initial_epoch, steps_per_epoch, validation_steps, max_queue_size, workers, use_multiprocessing, **kwargs)\u001b[0m\n\u001b[1;32m   1637\u001b[0m           \u001b[0minitial_epoch\u001b[0m\u001b[0;34m=\u001b[0m\u001b[0minitial_epoch\u001b[0m\u001b[0;34m,\u001b[0m\u001b[0;34m\u001b[0m\u001b[0m\n\u001b[1;32m   1638\u001b[0m           \u001b[0msteps_per_epoch\u001b[0m\u001b[0;34m=\u001b[0m\u001b[0msteps_per_epoch\u001b[0m\u001b[0;34m,\u001b[0m\u001b[0;34m\u001b[0m\u001b[0m\n\u001b[0;32m-> 1639\u001b[0;31m           validation_steps=validation_steps)\n\u001b[0m\u001b[1;32m   1640\u001b[0m \u001b[0;34m\u001b[0m\u001b[0m\n\u001b[1;32m   1641\u001b[0m   def evaluate(self,\n",
      "\u001b[0;32m/miniconda/lib/python3.6/site-packages/tensorflow/python/keras/engine/training_arrays.py\u001b[0m in \u001b[0;36mfit_loop\u001b[0;34m(model, inputs, targets, sample_weights, batch_size, epochs, verbose, callbacks, val_inputs, val_targets, val_sample_weights, shuffle, initial_epoch, steps_per_epoch, validation_steps)\u001b[0m\n\u001b[1;32m     84\u001b[0m       \u001b[0mValueError\u001b[0m\u001b[0;34m:\u001b[0m \u001b[0;32min\u001b[0m \u001b[0mcase\u001b[0m \u001b[0mof\u001b[0m \u001b[0minvalid\u001b[0m \u001b[0marguments\u001b[0m\u001b[0;34m.\u001b[0m\u001b[0;34m\u001b[0m\u001b[0m\n\u001b[1;32m     85\u001b[0m   \"\"\"\n\u001b[0;32m---> 86\u001b[0;31m   \u001b[0mmodel\u001b[0m\u001b[0;34m.\u001b[0m\u001b[0m_make_train_function\u001b[0m\u001b[0;34m(\u001b[0m\u001b[0;34m)\u001b[0m\u001b[0;34m\u001b[0m\u001b[0m\n\u001b[0m\u001b[1;32m     87\u001b[0m   \u001b[0mf\u001b[0m \u001b[0;34m=\u001b[0m \u001b[0mmodel\u001b[0m\u001b[0;34m.\u001b[0m\u001b[0mtrain_function\u001b[0m\u001b[0;34m\u001b[0m\u001b[0m\n\u001b[1;32m     88\u001b[0m \u001b[0;34m\u001b[0m\u001b[0m\n",
      "\u001b[0;32m/miniconda/lib/python3.6/site-packages/tensorflow/python/keras/engine/training.py\u001b[0m in \u001b[0;36m_make_train_function\u001b[0;34m(self)\u001b[0m\n\u001b[1;32m    710\u001b[0m             \u001b[0mupdates\u001b[0m\u001b[0;34m=\u001b[0m\u001b[0mupdates\u001b[0m\u001b[0;34m,\u001b[0m\u001b[0;34m\u001b[0m\u001b[0m\n\u001b[1;32m    711\u001b[0m             \u001b[0mname\u001b[0m\u001b[0;34m=\u001b[0m\u001b[0;34m'train_function'\u001b[0m\u001b[0;34m,\u001b[0m\u001b[0;34m\u001b[0m\u001b[0m\n\u001b[0;32m--> 712\u001b[0;31m             **self._function_kwargs)\n\u001b[0m\u001b[1;32m    713\u001b[0m \u001b[0;34m\u001b[0m\u001b[0m\n\u001b[1;32m    714\u001b[0m   \u001b[0;32mdef\u001b[0m \u001b[0m_make_test_function\u001b[0m\u001b[0;34m(\u001b[0m\u001b[0mself\u001b[0m\u001b[0;34m)\u001b[0m\u001b[0;34m:\u001b[0m\u001b[0;34m\u001b[0m\u001b[0m\n",
      "\u001b[0;32m/miniconda/lib/python3.6/site-packages/tensorflow/python/keras/backend.py\u001b[0m in \u001b[0;36mfunction\u001b[0;34m(inputs, outputs, updates, **kwargs)\u001b[0m\n\u001b[1;32m   3011\u001b[0m         msg = ('Invalid argument \"%s\" passed to K.function with TensorFlow '\n\u001b[1;32m   3012\u001b[0m                'backend') % key\n\u001b[0;32m-> 3013\u001b[0;31m         \u001b[0;32mraise\u001b[0m \u001b[0mValueError\u001b[0m\u001b[0;34m(\u001b[0m\u001b[0mmsg\u001b[0m\u001b[0;34m)\u001b[0m\u001b[0;34m\u001b[0m\u001b[0m\n\u001b[0m\u001b[1;32m   3014\u001b[0m   \u001b[0;32mreturn\u001b[0m \u001b[0mFunction\u001b[0m\u001b[0;34m(\u001b[0m\u001b[0minputs\u001b[0m\u001b[0;34m,\u001b[0m \u001b[0moutputs\u001b[0m\u001b[0;34m,\u001b[0m \u001b[0mupdates\u001b[0m\u001b[0;34m=\u001b[0m\u001b[0mupdates\u001b[0m\u001b[0;34m,\u001b[0m \u001b[0;34m**\u001b[0m\u001b[0mkwargs\u001b[0m\u001b[0;34m)\u001b[0m\u001b[0;34m\u001b[0m\u001b[0m\n\u001b[1;32m   3015\u001b[0m \u001b[0;34m\u001b[0m\u001b[0m\n",
      "\u001b[0;31mValueError\u001b[0m: Invalid argument \"class_weight\" passed to K.function with TensorFlow backend"
     ]
    }
   ],
   "source": [
    "print (\"CSV Chunk Size : \" + str(chunk_size))\n",
    "print (\"Training Bacth Size : \" + str(batch_size))\n",
    "print (\"Epochs : \" + str(epochs))\n",
    "\n",
    "global_history = []\n",
    "global_val_history = []\n",
    "predictions = []\n",
    "actual = []\n",
    "\n",
    "with open('data/gene_encoder.pkl', 'rb') as f:\n",
    "    label_encoder = pkl.load(f)\n",
    "    \n",
    "\n",
    "for drugbank in tqdm(drugbank_reader):\n",
    "    \n",
    "    \n",
    "    print('Reading chunk from file..')\n",
    "    print('Sampling..')\n",
    "    train_df_inter, test_df = train_test_split(drugbank)\n",
    "\n",
    "    ##FORCE TRAIN NEGATIVE SAMPLES ON LOW EPOCH\n",
    "    train_df = pd.DataFrame()\n",
    "    \n",
    "    if len(train_df_inter[train_df_inter['Y'] == 0]) > 2:\n",
    "        train_df = train_df.append(train_df_inter[train_df_inter['Y'] == 0].sample(frac = 1.0))\n",
    "    \n",
    "    if len(train_df_inter[train_df_inter['Y'] == 1]) > 2:\n",
    "        train_df = train_df.append(train_df_inter[train_df_inter['Y'] == 1].sample(frac = 1.0))\n",
    "\n",
    "    \n",
    "    print('Padding..') \n",
    "    X_0 = np.array(list(train_df['target_gene_encoded_padded']))\n",
    "    X_1 = np.array(list(train_df['drug_fingerprint_encoded_padded']))\n",
    "    Y   = np.array(list(train_df['Y']))\n",
    "    \n",
    "\n",
    "    X_0_test = np.array(list(test_df['target_gene_encoded_padded']))\n",
    "    X_1_test = np.array(list(test_df['drug_fingerprint_encoded_padded']))\n",
    "        \n",
    "    Y_test   = np.array(list(test_df['Y']))\n",
    "    \n",
    "\n",
    "    X_0 = X_0.astype(int) + 1\n",
    "    X_1 = X_1.astype(int) + 1\n",
    "    Y   = Y.astype(int)\n",
    "\n",
    "    X_0_test = X_0_test.astype(int) + 1\n",
    "    X_1_test = X_1_test.astype(int) + 1\n",
    "    Y_test   = Y_test.astype(int)\n",
    "    \n",
    "\n",
    "    X_0 = np.hstack((X_0, X_1))\n",
    "    X_0_test = np.hstack((X_0_test, X_1_test))\n",
    "\n",
    "    print('Modelling..')\n",
    "\n",
    "    \n",
    "    history = model.fit(X_0[..., np.newaxis], Y,\n",
    "                          batch_size=batch_size,\n",
    "                          epochs=epochs,\n",
    "                          callbacks=[plot_losses],\n",
    "                          class_weight = {0: 1., 1: 5},\n",
    "                          validation_data=(X_0_test[..., np.newaxis], Y_test), verbose = 2)\n",
    "\n",
    "\n",
    "    actual.extend(Y.tolist())\n",
    "    predictions.extend(model.predict(X_0_test[..., np.newaxis]).ravel())\n",
    "    \n",
    "    global_val_history.extend(history.history['val_binary_accuracy'])\n",
    "    global_history.extend(history.history['binary_accuracy'])\n",
    "\n",
    "\n",
    "    "
   ]
  },
  {
   "cell_type": "code",
   "execution_count": null,
   "metadata": {},
   "outputs": [],
   "source": [
    "model.save('models/1D-VGG-NoPadding.model')"
   ]
  },
  {
   "cell_type": "markdown",
   "metadata": {},
   "source": [
    "### Test"
   ]
  },
  {
   "cell_type": "code",
   "execution_count": 30,
   "metadata": {},
   "outputs": [],
   "source": [
    "iterator = True\n",
    "\n",
    "\n",
    "if iterator == True:\n",
    "    \n",
    "    drugbank = pd.read_csv('data/intermediate/interactions_preprocessed.csv', chunksize = 7500, iterator = True, converters={\"target_gene_encoded_padded\": \\\n",
    "                                                                                         lambda x: np.array(x.strip(\"[]\").replace(\"'\",\"\").split(\", \")),\n",
    "                                                                                        \"drug_fingerprint_encoded_padded\": \\\n",
    "                                                                                        lambda x: np.array(x.strip(\"[]\").replace(\"'\",\"\").split(\", \"))})\n",
    "if iterator == False:\n",
    "\n",
    "    drugbank = pd.read_csv('data/intermediate/interactions_preprocessed.csv', converters={\"target_gene_encoded_padded\": \\\n",
    "                                                                                         lambda x: np.array(x.strip(\"[]\").replace(\"'\",\"\").split(\", \")),\n",
    "                                                                                        \"drug_fingerprint_encoded_padded\": \\\n",
    "                                                                                        lambda x: np.array(x.strip(\"[]\").replace(\"'\",\"\").split(\", \"))})"
   ]
  },
  {
   "cell_type": "code",
   "execution_count": 31,
   "metadata": {},
   "outputs": [],
   "source": [
    "drugbank_test = drugbank_reader.__next__()"
   ]
  },
  {
   "cell_type": "code",
   "execution_count": 33,
   "metadata": {},
   "outputs": [
    {
     "name": "stdout",
     "output_type": "stream",
     "text": [
      "Padding..\n",
      "(500, 21222)\n",
      "(500, 9501)\n",
      "(500, 21222)\n",
      "(500, 9501)\n",
      "(500, 21222)\n",
      "(500, 9501)\n",
      "(500, 21222)\n",
      "(500, 9501)\n"
     ]
    }
   ],
   "source": [
    "\n",
    "print('Padding..') \n",
    "X_0 = np.array(list(drugbank_test['target_gene_encoded_padded']))\n",
    "X_1 = np.array(list(drugbank_test['drug_fingerprint_encoded_padded']))\n",
    "Y   = np.array(list(drugbank_test['Y']))\n",
    "\n",
    "\n",
    "X_0_test = np.array(list(drugbank_test['target_gene_encoded_padded']))\n",
    "X_1_test = np.array(list(drugbank_test['drug_fingerprint_encoded_padded']))\n",
    "\n",
    "Y_test   = np.array(list(drugbank_test['Y']))\n",
    "\n",
    "print(X_0.shape)\n",
    "print(X_1.shape)\n",
    "\n",
    "print(X_0_test.shape)\n",
    "print(X_1_test.shape)\n",
    "\n",
    "\n",
    "X_0 = X_0.astype(int) + 1\n",
    "X_1 = X_1.astype(int) + 1\n",
    "Y   = Y.astype(int)\n",
    "\n",
    "X_0_test = X_0_test.astype(int) + 1\n",
    "X_1_test = X_1_test.astype(int) + 1\n",
    "Y_test   = Y_test.astype(int)\n",
    "\n",
    "print(X_0.shape)\n",
    "print(X_1.shape)\n",
    "\n",
    "print(X_0_test.shape)\n",
    "print(X_1_test.shape)\n",
    "\n",
    "\n",
    "X_0 = np.hstack((X_0, X_1))\n",
    "X_0_test = np.hstack((X_0_test, X_1_test))\n",
    "\n",
    "\n",
    "\n",
    "Y_test = model.predict(X_0[..., np.newaxis])"
   ]
  },
  {
   "cell_type": "code",
   "execution_count": 34,
   "metadata": {},
   "outputs": [
    {
     "data": {
      "text/plain": [
       "(array([  2.,   0.,   0.,   1.,   4.,  52., 183., 195.,  58.,   5.]),\n",
       " array([0.99945825, 0.99947464, 0.99949102, 0.99950741, 0.99952379,\n",
       "        0.99954018, 0.99955657, 0.99957295, 0.99958934, 0.99960572,\n",
       "        0.99962211]),\n",
       " <a list of 10 Patch objects>)"
      ]
     },
     "execution_count": 34,
     "metadata": {},
     "output_type": "execute_result"
    },
    {
     "data": {
      "image/png": "[encoded data removed]",
      "text/plain": [
       "<Figure size 432x288 with 1 Axes>"
      ]
     },
     "metadata": {
      "needs_background": "light"
     },
     "output_type": "display_data"
    }
   ],
   "source": [
    "plt.hist(Y_test)"
   ]
  },
  {
   "cell_type": "code",
   "execution_count": 35,
   "metadata": {},
   "outputs": [],
   "source": [
    "Y_test = [1 if (i > 0.5) else 0 for i in Y_test ]\n",
    "cm = confusion_matrix(Y_test, Y)"
   ]
  },
  {
   "cell_type": "code",
   "execution_count": 36,
   "metadata": {},
   "outputs": [
    {
     "name": "stderr",
     "output_type": "stream",
     "text": [
      "/miniconda/lib/python3.6/site-packages/ipykernel_launcher.py:1: RuntimeWarning: invalid value encountered in true_divide\n",
      "  \"\"\"Entry point for launching an IPython kernel.\n"
     ]
    },
    {
     "data": {
      "text/plain": [
       "array([[nan, nan],\n",
       "       [ 1.,  0.]])"
      ]
     },
     "execution_count": 36,
     "metadata": {},
     "output_type": "execute_result"
    }
   ],
   "source": [
    "cm.astype('float') / cm.sum(axis=1)[:, np.newaxis]"
   ]
  },
  {
   "cell_type": "code",
   "execution_count": 37,
   "metadata": {},
   "outputs": [
    {
     "name": "stderr",
     "output_type": "stream",
     "text": [
      "/miniconda/lib/python3.6/site-packages/sklearn/metrics/classification.py:1135: UndefinedMetricWarning: F-score is ill-defined and being set to 0.0 due to no predicted samples.\n",
      "  'precision', 'predicted', average, warn_for)\n"
     ]
    },
    {
     "data": {
      "text/plain": [
       "0.0"
      ]
     },
     "execution_count": 37,
     "metadata": {},
     "output_type": "execute_result"
    }
   ],
   "source": [
    "f1_score(Y_test, Y)"
   ]
  },
  {
   "cell_type": "code",
   "execution_count": 38,
   "metadata": {},
   "outputs": [
    {
     "name": "stdout",
     "output_type": "stream",
     "text": [
      "Confusion matrix, without normalization\n",
      "[[  0 500]\n",
      " [  0   0]]\n",
      "Normalized confusion matrix\n",
      "[[ 0.  1.]\n",
      " [nan nan]]\n"
     ]
    },
    {
     "name": "stderr",
     "output_type": "stream",
     "text": [
      "/miniconda/lib/python3.6/site-packages/ipykernel_launcher.py:22: RuntimeWarning: invalid value encountered in true_divide\n"
     ]
    },
    {
     "data": {
      "text/plain": [
       "<matplotlib.axes._subplots.AxesSubplot at 0x7f0a1474e7b8>"
      ]
     },
     "execution_count": 38,
     "metadata": {},
     "output_type": "execute_result"
    },
    {
     "data": {
      "image/png": "[encoded data removed]",
      "text/plain": [
       "<Figure size 432x288 with 2 Axes>"
      ]
     },
     "metadata": {
      "needs_background": "light"
     },
     "output_type": "display_data"
    },
    {
     "data": {
      "image/png": "[encoded data removed]",
      "text/plain": [
       "<Figure size 432x288 with 2 Axes>"
      ]
     },
     "metadata": {
      "needs_background": "light"
     },
     "output_type": "display_data"
    }
   ],
   "source": [
    "plot_confusion_matrix(Y, Y_test, classes=[0, 1],\n",
    "                      title='Confusion matrix, without normalization')\n",
    "\n",
    "# Plot normalized confusion matrix\n",
    "plot_confusion_matrix(Y, Y_test, classes=[0, 1], normalize=True,\n",
    "                      title='Normalized confusion matrix')"
   ]
  },
  {
   "cell_type": "code",
   "execution_count": 41,
   "metadata": {},
   "outputs": [
    {
     "name": "stdout",
     "output_type": "stream",
     "text": [
      "             precision    recall  f1-score   support\n",
      "\n",
      "          0       0.00      0.00      0.00       500\n",
      "          1       0.00      0.00      0.00         0\n",
      "\n",
      "avg / total       0.00      0.00      0.00       500\n",
      "\n"
     ]
    },
    {
     "name": "stderr",
     "output_type": "stream",
     "text": [
      "/miniconda/lib/python3.6/site-packages/sklearn/metrics/classification.py:1135: UndefinedMetricWarning: Precision and F-score are ill-defined and being set to 0.0 in labels with no predicted samples.\n",
      "  'precision', 'predicted', average, warn_for)\n",
      "/miniconda/lib/python3.6/site-packages/sklearn/metrics/classification.py:1137: UndefinedMetricWarning: Recall and F-score are ill-defined and being set to 0.0 in labels with no true samples.\n",
      "  'recall', 'true', average, warn_for)\n"
     ]
    }
   ],
   "source": [
    "print(classification_report(Y, Y_test))"
   ]
  },
  {
   "cell_type": "code",
   "execution_count": null,
   "metadata": {},
   "outputs": [],
   "source": []
  }
 ],
 "metadata": {
  "kernelspec": {
   "display_name": "Python 3",
   "language": "python",
   "name": "python3"
  },
  "language_info": {
   "codemirror_mode": {
    "name": "ipython",
    "version": 3
   },
   "file_extension": ".py",
   "mimetype": "text/x-python",
   "name": "python",
   "nbconvert_exporter": "python",
   "pygments_lexer": "ipython3",
   "version": "3.6.6"
  }
 },
 "nbformat": 4,
 "nbformat_minor": 4
}
