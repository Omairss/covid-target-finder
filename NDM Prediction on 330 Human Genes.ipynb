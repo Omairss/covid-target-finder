{
 "cells": [
  {
   "cell_type": "markdown",
   "metadata": {},
   "source": [
    "### Selected protein targets are RBD-S (PDB ID:6LXT), PD-ACE2 (PDB ID: 6VW1), and SARS-CoV-2 protease (PDB ID:6LU7)"
   ]
  },
  {
   "cell_type": "code",
   "execution_count": 2,
   "metadata": {
    "scrolled": true
   },
   "outputs": [
    {
     "data": {
      "text/plain": [
       "<module 'tensorflow' from '/miniconda/lib/python3.6/site-packages/tensorflow/__init__.py'>"
      ]
     },
     "execution_count": 2,
     "metadata": {},
     "output_type": "execute_result"
    }
   ],
   "source": [
    "import pickle as pkl\n",
    "\n",
    "import lxml\n",
    "import pandas as pd\n",
    "import numpy as np\n",
    "#import seaborn as sns\n",
    "import matplotlib.pyplot as plt\n",
    "import tensorflow.keras\n",
    "from tensorflow.keras.datasets import imdb\n",
    "\n",
    "\n",
    "from tqdm.notebook import tqdm\n",
    "\n",
    "from sklearn.metrics import confusion_matrix\n",
    "from sklearn.utils.multiclass import unique_labels\n",
    "from sklearn.metrics import f1_score\n",
    "\n",
    "from sklearn.model_selection import train_test_split\n",
    "\n",
    "from sklearn.preprocessing import LabelEncoder, OneHotEncoder\n",
    "from ast import literal_eval\n",
    "from sklearn.model_selection import train_test_split\n",
    "from sklearn.linear_model import LogisticRegression\n",
    "from sklearn.metrics import confusion_matrix, f1_score\n",
    "from tensorflow.keras.models import Sequential, Model\n",
    "from tensorflow.keras.layers import Input, Dense, Activation, Dropout, Conv1D, Flatten, MaxPooling1D,\\\n",
    "                        AveragePooling1D, Concatenate, LeakyReLU, Embedding,\\\n",
    "                        GlobalMaxPooling1D,GlobalAveragePooling1D,GaussianNoise,BatchNormalization,Add\n",
    "from tensorflow.keras.initializers import glorot_uniform\n",
    "#from tensorflow.keras.utils.vis_utils import plot_model\n",
    "\n",
    "import importlib\n",
    "importlib.reload(tensorflow)"
   ]
  },
  {
   "cell_type": "code",
   "execution_count": 3,
   "metadata": {},
   "outputs": [],
   "source": [
    "tqdm.pandas()"
   ]
  },
  {
   "cell_type": "code",
   "execution_count": 4,
   "metadata": {},
   "outputs": [],
   "source": [
    "import tensorflow as tf\n",
    "with tf.Session() as sess:\n",
    "    devices = sess.list_devices()"
   ]
  },
  {
   "cell_type": "code",
   "execution_count": 5,
   "metadata": {},
   "outputs": [],
   "source": [
    "import sys"
   ]
  },
  {
   "cell_type": "code",
   "execution_count": 6,
   "metadata": {},
   "outputs": [
    {
     "name": "stdout",
     "output_type": "stream",
     "text": [
      "/miniconda/bin/python: No module named list\r\n"
     ]
    }
   ],
   "source": [
    "!{sys.executable} -m list"
   ]
  },
  {
   "cell_type": "markdown",
   "metadata": {},
   "source": [
    "# Load NDM"
   ]
  },
  {
   "cell_type": "code",
   "execution_count": 7,
   "metadata": {},
   "outputs": [],
   "source": [
    "ndm_df = pd.read_pickle('NDM_Master_FingerPrints_InChi.pkl')"
   ]
  },
  {
   "cell_type": "code",
   "execution_count": 8,
   "metadata": {},
   "outputs": [],
   "source": [
    "ndm_df = ndm_df.drop(columns=['fingerprint_r2','fingerprint_vector','fingerprint_r2_vector','glove_vector'])"
   ]
  },
  {
   "cell_type": "code",
   "execution_count": 9,
   "metadata": {
    "scrolled": true
   },
   "outputs": [
    {
     "data": {
      "text/html": [
       "<div>\n",
       "<style scoped>\n",
       "    .dataframe tbody tr th:only-of-type {\n",
       "        vertical-align: middle;\n",
       "    }\n",
       "\n",
       "    .dataframe tbody tr th {\n",
       "        vertical-align: top;\n",
       "    }\n",
       "\n",
       "    .dataframe thead th {\n",
       "        text-align: right;\n",
       "    }\n",
       "</style>\n",
       "<table border=\"1\" class=\"dataframe\">\n",
       "  <thead>\n",
       "    <tr style=\"text-align: right;\">\n",
       "      <th></th>\n",
       "      <th>name</th>\n",
       "      <th>InChIKey</th>\n",
       "      <th>First Block</th>\n",
       "      <th>Metabolon_RP</th>\n",
       "      <th>UCD_GC</th>\n",
       "      <th>UCD_HIL</th>\n",
       "      <th>UCD_LIP</th>\n",
       "      <th>UCD_PFP</th>\n",
       "      <th>phenolexplorer_id</th>\n",
       "      <th>dfc_id</th>\n",
       "      <th>...</th>\n",
       "      <th>complexity</th>\n",
       "      <th>xlogp</th>\n",
       "      <th>heavycnt</th>\n",
       "      <th>hbonddonor</th>\n",
       "      <th>hbondacc</th>\n",
       "      <th>rotbonds</th>\n",
       "      <th>dois</th>\n",
       "      <th>InChiKey</th>\n",
       "      <th>cid</th>\n",
       "      <th>fingerprint</th>\n",
       "    </tr>\n",
       "  </thead>\n",
       "  <tbody>\n",
       "    <tr>\n",
       "      <th>0</th>\n",
       "      <td>1,5,8-Trihydroxy-3-methyl-2-prenylxanthone</td>\n",
       "      <td>AAANZTDKTFGJLZ-UHFFFAOYSA-N</td>\n",
       "      <td>AAANZTDKTFGJLZ</td>\n",
       "      <td>NaN</td>\n",
       "      <td>NaN</td>\n",
       "      <td>NaN</td>\n",
       "      <td>NaN</td>\n",
       "      <td>NaN</td>\n",
       "      <td>NaN</td>\n",
       "      <td>HHG46-P:HHG14-E</td>\n",
       "      <td>...</td>\n",
       "      <td>528.0</td>\n",
       "      <td>NaN</td>\n",
       "      <td>25.0</td>\n",
       "      <td>3.0</td>\n",
       "      <td>6.0</td>\n",
       "      <td>3.0</td>\n",
       "      <td>10.1007/978-94-007-1764-0_15</td>\n",
       "      <td>AAANZTDKTFGJLZ-UHFFFAOYSA-N</td>\n",
       "      <td>14162674.0</td>\n",
       "      <td>2246728737 3545365497 2246699815 176403689 224...</td>\n",
       "    </tr>\n",
       "    <tr>\n",
       "      <th>1</th>\n",
       "      <td>2,4-Dimethylfuran</td>\n",
       "      <td>AABTWRKUKUPMJG-UHFFFAOYSA-N</td>\n",
       "      <td>AABTWRKUKUPMJG</td>\n",
       "      <td>NaN</td>\n",
       "      <td>NaN</td>\n",
       "      <td>NaN</td>\n",
       "      <td>NaN</td>\n",
       "      <td>NaN</td>\n",
       "      <td>NaN</td>\n",
       "      <td>FWS22-S:FWS22-S</td>\n",
       "      <td>...</td>\n",
       "      <td>61.2</td>\n",
       "      <td>NaN</td>\n",
       "      <td>7.0</td>\n",
       "      <td>0.0</td>\n",
       "      <td>1.0</td>\n",
       "      <td>0.0</td>\n",
       "      <td>10.1007/978-3-642-41473-2_4|10.1007/978-94-007...</td>\n",
       "      <td>AABTWRKUKUPMJG-UHFFFAOYSA-N</td>\n",
       "      <td>19462.0</td>\n",
       "      <td>2246728737 422715066 3217380708 3661262542 321...</td>\n",
       "    </tr>\n",
       "    <tr>\n",
       "      <th>2</th>\n",
       "      <td>Schidigerasaponin E1</td>\n",
       "      <td>AADIIQJBIMAADJ-UHFFFAOYSA-N</td>\n",
       "      <td>AADIIQJBIMAADJ</td>\n",
       "      <td>NaN</td>\n",
       "      <td>NaN</td>\n",
       "      <td>NaN</td>\n",
       "      <td>NaN</td>\n",
       "      <td>NaN</td>\n",
       "      <td>NaN</td>\n",
       "      <td>GMN25-P:JYJ15-F</td>\n",
       "      <td>...</td>\n",
       "      <td>1610.0</td>\n",
       "      <td>NaN</td>\n",
       "      <td>62.0</td>\n",
       "      <td>9.0</td>\n",
       "      <td>18.0</td>\n",
       "      <td>8.0</td>\n",
       "      <td>NaN</td>\n",
       "      <td>AADIIQJBIMAADJ-UHFFFAOYSA-N</td>\n",
       "      <td>73798945.0</td>\n",
       "      <td>2246728737 1858577693 2976033787 1228815484 29...</td>\n",
       "    </tr>\n",
       "    <tr>\n",
       "      <th>3</th>\n",
       "      <td>sphingomyelin (d18:1/20:0)</td>\n",
       "      <td>AADLTHQNYQJHQV-SVLGDMRNSA-N</td>\n",
       "      <td>AADLTHQNYQJHQV</td>\n",
       "      <td>100006290.0</td>\n",
       "      <td>NaN</td>\n",
       "      <td>NaN</td>\n",
       "      <td>L489</td>\n",
       "      <td>NaN</td>\n",
       "      <td>NaN</td>\n",
       "      <td>NaN</td>\n",
       "      <td>...</td>\n",
       "      <td>857.0</td>\n",
       "      <td>NaN</td>\n",
       "      <td>52.0</td>\n",
       "      <td>2.0</td>\n",
       "      <td>6.0</td>\n",
       "      <td>40.0</td>\n",
       "      <td>10.1038/s41598-018-28477-9</td>\n",
       "      <td>AADLTHQNYQJHQV-SVLGDMRNSA-N</td>\n",
       "      <td>44260124.0</td>\n",
       "      <td>2246728737 3542456614 2245384272 1173125914 22...</td>\n",
       "    </tr>\n",
       "    <tr>\n",
       "      <th>4</th>\n",
       "      <td>Matairesinoside</td>\n",
       "      <td>AAGCATAPYOEULE-LHHMAMHXSA-N</td>\n",
       "      <td>AAGCATAPYOEULE</td>\n",
       "      <td>NaN</td>\n",
       "      <td>NaN</td>\n",
       "      <td>NaN</td>\n",
       "      <td>NaN</td>\n",
       "      <td>NaN</td>\n",
       "      <td>NaN</td>\n",
       "      <td>JRV93-M:JJJ08-E</td>\n",
       "      <td>...</td>\n",
       "      <td>737.0</td>\n",
       "      <td>NaN</td>\n",
       "      <td>37.0</td>\n",
       "      <td>5.0</td>\n",
       "      <td>11.0</td>\n",
       "      <td>9.0</td>\n",
       "      <td>10.1016/j.bmcl.2013.08.065|10.1016/j.fitote.20...</td>\n",
       "      <td>AAGCATAPYOEULE-LHHMAMHXSA-N</td>\n",
       "      <td>486612.0</td>\n",
       "      <td>2246728737 3975275337 864674487 2076190208 321...</td>\n",
       "    </tr>\n",
       "    <tr>\n",
       "      <th>...</th>\n",
       "      <td>...</td>\n",
       "      <td>...</td>\n",
       "      <td>...</td>\n",
       "      <td>...</td>\n",
       "      <td>...</td>\n",
       "      <td>...</td>\n",
       "      <td>...</td>\n",
       "      <td>...</td>\n",
       "      <td>...</td>\n",
       "      <td>...</td>\n",
       "      <td>...</td>\n",
       "      <td>...</td>\n",
       "      <td>...</td>\n",
       "      <td>...</td>\n",
       "      <td>...</td>\n",
       "      <td>...</td>\n",
       "      <td>...</td>\n",
       "      <td>...</td>\n",
       "      <td>...</td>\n",
       "      <td>...</td>\n",
       "      <td>...</td>\n",
       "    </tr>\n",
       "    <tr>\n",
       "      <th>19598</th>\n",
       "      <td>2,5-Dimethyl-3-(methyldithio)furan</td>\n",
       "      <td>ZZXDUGZYDILQMO-UHFFFAOYSA-N</td>\n",
       "      <td>ZZXDUGZYDILQMO</td>\n",
       "      <td>NaN</td>\n",
       "      <td>NaN</td>\n",
       "      <td>NaN</td>\n",
       "      <td>NaN</td>\n",
       "      <td>NaN</td>\n",
       "      <td>NaN</td>\n",
       "      <td>MFW29-D:MFW29-D</td>\n",
       "      <td>...</td>\n",
       "      <td>108.0</td>\n",
       "      <td>NaN</td>\n",
       "      <td>10.0</td>\n",
       "      <td>0.0</td>\n",
       "      <td>3.0</td>\n",
       "      <td>2.0</td>\n",
       "      <td>10.1007/978-3-319-26932-0_10</td>\n",
       "      <td>ZZXDUGZYDILQMO-UHFFFAOYSA-N</td>\n",
       "      <td>20313888.0</td>\n",
       "      <td>2246728737 422715066 3217380708 3661262542 321...</td>\n",
       "    </tr>\n",
       "    <tr>\n",
       "      <th>19599</th>\n",
       "      <td>Muricadienin</td>\n",
       "      <td>ZZXWNKPYSIVFNM-XUWLZAGCSA-N</td>\n",
       "      <td>ZZXWNKPYSIVFNM</td>\n",
       "      <td>NaN</td>\n",
       "      <td>NaN</td>\n",
       "      <td>NaN</td>\n",
       "      <td>NaN</td>\n",
       "      <td>NaN</td>\n",
       "      <td>NaN</td>\n",
       "      <td>FFY87-E:FOW95-G</td>\n",
       "      <td>...</td>\n",
       "      <td>600.0</td>\n",
       "      <td>NaN</td>\n",
       "      <td>37.0</td>\n",
       "      <td>0.0</td>\n",
       "      <td>2.0</td>\n",
       "      <td>27.0</td>\n",
       "      <td>10.1021/acs.jnatprod.6b00335|10.1021/ol502849y...</td>\n",
       "      <td>ZZXWNKPYSIVFNM-XUWLZAGCSA-N</td>\n",
       "      <td>131751334.0</td>\n",
       "      <td>2246728737 3542456614 2245384272 1173125914 22...</td>\n",
       "    </tr>\n",
       "    <tr>\n",
       "      <th>19600</th>\n",
       "      <td>L-Lysopine</td>\n",
       "      <td>ZZYYVZYAZCMNPG-UHFFFAOYSA-N</td>\n",
       "      <td>ZZYYVZYAZCMNPG</td>\n",
       "      <td>NaN</td>\n",
       "      <td>NaN</td>\n",
       "      <td>NaN</td>\n",
       "      <td>NaN</td>\n",
       "      <td>NaN</td>\n",
       "      <td>NaN</td>\n",
       "      <td>HGR03-W:GZD90-U</td>\n",
       "      <td>...</td>\n",
       "      <td>220.0</td>\n",
       "      <td>NaN</td>\n",
       "      <td>15.0</td>\n",
       "      <td>4.0</td>\n",
       "      <td>6.0</td>\n",
       "      <td>8.0</td>\n",
       "      <td>NaN</td>\n",
       "      <td>ZZYYVZYAZCMNPG-UHFFFAOYSA-N</td>\n",
       "      <td>3325403.0</td>\n",
       "      <td>2246728737 3537119515 2245273601 2637439965 22...</td>\n",
       "    </tr>\n",
       "    <tr>\n",
       "      <th>19601</th>\n",
       "      <td>Sarcodon scabrosus Depsipeptide</td>\n",
       "      <td>ZZZCVVSDKFDQJU-UHFFFAOYSA-N</td>\n",
       "      <td>ZZZCVVSDKFDQJU</td>\n",
       "      <td>NaN</td>\n",
       "      <td>NaN</td>\n",
       "      <td>NaN</td>\n",
       "      <td>NaN</td>\n",
       "      <td>NaN</td>\n",
       "      <td>NaN</td>\n",
       "      <td>NRT85-T:NRT85-T</td>\n",
       "      <td>...</td>\n",
       "      <td>769.0</td>\n",
       "      <td>NaN</td>\n",
       "      <td>34.0</td>\n",
       "      <td>4.0</td>\n",
       "      <td>8.0</td>\n",
       "      <td>5.0</td>\n",
       "      <td>NaN</td>\n",
       "      <td>ZZZCVVSDKFDQJU-UHFFFAOYSA-N</td>\n",
       "      <td>131753140.0</td>\n",
       "      <td>2246728737 3542456614 2245384272 1506563592 22...</td>\n",
       "    </tr>\n",
       "    <tr>\n",
       "      <th>19602</th>\n",
       "      <td>9-Acetoxyfukinanolide</td>\n",
       "      <td>ZZZDGYZKGIPSPD-MGNHCAFKSA-N</td>\n",
       "      <td>ZZZDGYZKGIPSPD</td>\n",
       "      <td>NaN</td>\n",
       "      <td>NaN</td>\n",
       "      <td>NaN</td>\n",
       "      <td>NaN</td>\n",
       "      <td>NaN</td>\n",
       "      <td>NaN</td>\n",
       "      <td>KCS59-B:HPG42-P</td>\n",
       "      <td>...</td>\n",
       "      <td>511.0</td>\n",
       "      <td>NaN</td>\n",
       "      <td>21.0</td>\n",
       "      <td>0.0</td>\n",
       "      <td>4.0</td>\n",
       "      <td>2.0</td>\n",
       "      <td>NaN</td>\n",
       "      <td>ZZZDGYZKGIPSPD-MGNHCAFKSA-N</td>\n",
       "      <td>5320805.0</td>\n",
       "      <td>2246728737 1858577693 2976033787 1236795370 29...</td>\n",
       "    </tr>\n",
       "  </tbody>\n",
       "</table>\n",
       "<p>19603 rows × 55 columns</p>\n",
       "</div>"
      ],
      "text/plain": [
       "                                             name  \\\n",
       "0      1,5,8-Trihydroxy-3-methyl-2-prenylxanthone   \n",
       "1                               2,4-Dimethylfuran   \n",
       "2                            Schidigerasaponin E1   \n",
       "3                      sphingomyelin (d18:1/20:0)   \n",
       "4                                 Matairesinoside   \n",
       "...                                           ...   \n",
       "19598          2,5-Dimethyl-3-(methyldithio)furan   \n",
       "19599                                Muricadienin   \n",
       "19600                                  L-Lysopine   \n",
       "19601             Sarcodon scabrosus Depsipeptide   \n",
       "19602                       9-Acetoxyfukinanolide   \n",
       "\n",
       "                          InChIKey     First Block  Metabolon_RP  UCD_GC  \\\n",
       "0      AAANZTDKTFGJLZ-UHFFFAOYSA-N  AAANZTDKTFGJLZ           NaN     NaN   \n",
       "1      AABTWRKUKUPMJG-UHFFFAOYSA-N  AABTWRKUKUPMJG           NaN     NaN   \n",
       "2      AADIIQJBIMAADJ-UHFFFAOYSA-N  AADIIQJBIMAADJ           NaN     NaN   \n",
       "3      AADLTHQNYQJHQV-SVLGDMRNSA-N  AADLTHQNYQJHQV   100006290.0     NaN   \n",
       "4      AAGCATAPYOEULE-LHHMAMHXSA-N  AAGCATAPYOEULE           NaN     NaN   \n",
       "...                            ...             ...           ...     ...   \n",
       "19598  ZZXDUGZYDILQMO-UHFFFAOYSA-N  ZZXDUGZYDILQMO           NaN     NaN   \n",
       "19599  ZZXWNKPYSIVFNM-XUWLZAGCSA-N  ZZXWNKPYSIVFNM           NaN     NaN   \n",
       "19600  ZZYYVZYAZCMNPG-UHFFFAOYSA-N  ZZYYVZYAZCMNPG           NaN     NaN   \n",
       "19601  ZZZCVVSDKFDQJU-UHFFFAOYSA-N  ZZZCVVSDKFDQJU           NaN     NaN   \n",
       "19602  ZZZDGYZKGIPSPD-MGNHCAFKSA-N  ZZZDGYZKGIPSPD           NaN     NaN   \n",
       "\n",
       "      UCD_HIL UCD_LIP UCD_PFP phenolexplorer_id           dfc_id  ...  \\\n",
       "0         NaN     NaN     NaN               NaN  HHG46-P:HHG14-E  ...   \n",
       "1         NaN     NaN     NaN               NaN  FWS22-S:FWS22-S  ...   \n",
       "2         NaN     NaN     NaN               NaN  GMN25-P:JYJ15-F  ...   \n",
       "3         NaN    L489     NaN               NaN              NaN  ...   \n",
       "4         NaN     NaN     NaN               NaN  JRV93-M:JJJ08-E  ...   \n",
       "...       ...     ...     ...               ...              ...  ...   \n",
       "19598     NaN     NaN     NaN               NaN  MFW29-D:MFW29-D  ...   \n",
       "19599     NaN     NaN     NaN               NaN  FFY87-E:FOW95-G  ...   \n",
       "19600     NaN     NaN     NaN               NaN  HGR03-W:GZD90-U  ...   \n",
       "19601     NaN     NaN     NaN               NaN  NRT85-T:NRT85-T  ...   \n",
       "19602     NaN     NaN     NaN               NaN  KCS59-B:HPG42-P  ...   \n",
       "\n",
       "      complexity xlogp heavycnt hbonddonor hbondacc rotbonds  \\\n",
       "0          528.0   NaN     25.0        3.0      6.0      3.0   \n",
       "1           61.2   NaN      7.0        0.0      1.0      0.0   \n",
       "2         1610.0   NaN     62.0        9.0     18.0      8.0   \n",
       "3          857.0   NaN     52.0        2.0      6.0     40.0   \n",
       "4          737.0   NaN     37.0        5.0     11.0      9.0   \n",
       "...          ...   ...      ...        ...      ...      ...   \n",
       "19598      108.0   NaN     10.0        0.0      3.0      2.0   \n",
       "19599      600.0   NaN     37.0        0.0      2.0     27.0   \n",
       "19600      220.0   NaN     15.0        4.0      6.0      8.0   \n",
       "19601      769.0   NaN     34.0        4.0      8.0      5.0   \n",
       "19602      511.0   NaN     21.0        0.0      4.0      2.0   \n",
       "\n",
       "                                                    dois  \\\n",
       "0                           10.1007/978-94-007-1764-0_15   \n",
       "1      10.1007/978-3-642-41473-2_4|10.1007/978-94-007...   \n",
       "2                                                    NaN   \n",
       "3                             10.1038/s41598-018-28477-9   \n",
       "4      10.1016/j.bmcl.2013.08.065|10.1016/j.fitote.20...   \n",
       "...                                                  ...   \n",
       "19598                       10.1007/978-3-319-26932-0_10   \n",
       "19599  10.1021/acs.jnatprod.6b00335|10.1021/ol502849y...   \n",
       "19600                                                NaN   \n",
       "19601                                                NaN   \n",
       "19602                                                NaN   \n",
       "\n",
       "                          InChiKey          cid  \\\n",
       "0      AAANZTDKTFGJLZ-UHFFFAOYSA-N   14162674.0   \n",
       "1      AABTWRKUKUPMJG-UHFFFAOYSA-N      19462.0   \n",
       "2      AADIIQJBIMAADJ-UHFFFAOYSA-N   73798945.0   \n",
       "3      AADLTHQNYQJHQV-SVLGDMRNSA-N   44260124.0   \n",
       "4      AAGCATAPYOEULE-LHHMAMHXSA-N     486612.0   \n",
       "...                            ...          ...   \n",
       "19598  ZZXDUGZYDILQMO-UHFFFAOYSA-N   20313888.0   \n",
       "19599  ZZXWNKPYSIVFNM-XUWLZAGCSA-N  131751334.0   \n",
       "19600  ZZYYVZYAZCMNPG-UHFFFAOYSA-N    3325403.0   \n",
       "19601  ZZZCVVSDKFDQJU-UHFFFAOYSA-N  131753140.0   \n",
       "19602  ZZZDGYZKGIPSPD-MGNHCAFKSA-N    5320805.0   \n",
       "\n",
       "                                             fingerprint  \n",
       "0      2246728737 3545365497 2246699815 176403689 224...  \n",
       "1      2246728737 422715066 3217380708 3661262542 321...  \n",
       "2      2246728737 1858577693 2976033787 1228815484 29...  \n",
       "3      2246728737 3542456614 2245384272 1173125914 22...  \n",
       "4      2246728737 3975275337 864674487 2076190208 321...  \n",
       "...                                                  ...  \n",
       "19598  2246728737 422715066 3217380708 3661262542 321...  \n",
       "19599  2246728737 3542456614 2245384272 1173125914 22...  \n",
       "19600  2246728737 3537119515 2245273601 2637439965 22...  \n",
       "19601  2246728737 3542456614 2245384272 1506563592 22...  \n",
       "19602  2246728737 1858577693 2976033787 1236795370 29...  \n",
       "\n",
       "[19603 rows x 55 columns]"
      ]
     },
     "execution_count": 9,
     "metadata": {},
     "output_type": "execute_result"
    }
   ],
   "source": [
    "ndm_df"
   ]
  },
  {
   "cell_type": "code",
   "execution_count": 10,
   "metadata": {},
   "outputs": [],
   "source": [
    "corona_gene_df = pd.read_pickle('data/corona_gene_aa_seq.pkl')"
   ]
  },
  {
   "cell_type": "code",
   "execution_count": 11,
   "metadata": {
    "scrolled": true
   },
   "outputs": [
    {
     "data": {
      "text/html": [
       "<div>\n",
       "<style scoped>\n",
       "    .dataframe tbody tr th:only-of-type {\n",
       "        vertical-align: middle;\n",
       "    }\n",
       "\n",
       "    .dataframe tbody tr th {\n",
       "        vertical-align: top;\n",
       "    }\n",
       "\n",
       "    .dataframe thead th {\n",
       "        text-align: right;\n",
       "    }\n",
       "</style>\n",
       "<table border=\"1\" class=\"dataframe\">\n",
       "  <thead>\n",
       "    <tr style=\"text-align: right;\">\n",
       "      <th></th>\n",
       "      <th>hgnc_symbol</th>\n",
       "      <th>gene_sequence</th>\n",
       "      <th>amino_acid_sequence</th>\n",
       "    </tr>\n",
       "  </thead>\n",
       "  <tbody>\n",
       "    <tr>\n",
       "      <th>0</th>\n",
       "      <td>AP3B1</td>\n",
       "      <td>ACTGCGCATGCGCAGGGGGTGGACTGCCAGGTCGGCTCAGGGAGCC...</td>\n",
       "      <td>TAHAQGVDCQVGSGSRDESGSACARSSVRELVLFRALWTGTFWREP...</td>\n",
       "    </tr>\n",
       "    <tr>\n",
       "      <th>1</th>\n",
       "      <td>BRD4</td>\n",
       "      <td>GACGTCAGTGCGCTGGCGGCGGCGGCGGCGGCGGCGGCGGCGGCTG...</td>\n",
       "      <td>DVSALAAAAAAAAAAGLFVLVSRSRGAEAVAAAAAAAAAGGARGRA...</td>\n",
       "    </tr>\n",
       "    <tr>\n",
       "      <th>2</th>\n",
       "      <td>BRD2</td>\n",
       "      <td>GGCCAAATCGTCTTCAGAGTCCTCCAGTGAGGAAAGTAGCAGTGAG...</td>\n",
       "      <td>GQIVFRVLQ*GK*Q*ELL*GRGGGR*GRGGRRE*KLRLRGRKGSSL...</td>\n",
       "    </tr>\n",
       "    <tr>\n",
       "      <th>3</th>\n",
       "      <td>CWC27</td>\n",
       "      <td>AGCGGTGCTCGGGTCCGGTAACAACATGGCGGCGTCCGTGAGGGGC...</td>\n",
       "      <td>SGARVR*QHGGVREGLLWAGVVFGVPVLRDIDKLKLSCTTGLKEEC...</td>\n",
       "    </tr>\n",
       "    <tr>\n",
       "      <th>4</th>\n",
       "      <td>ZC3H18</td>\n",
       "      <td>AGGACTACCGTCGCGGCCTGATGACGTCGCACAATGGCCGGCCCCC...</td>\n",
       "      <td>RTTVAA**RRTMAGPRG*WSPFVPPVSSLEPEPVKSGRAKGRLLHA...</td>\n",
       "    </tr>\n",
       "    <tr>\n",
       "      <th>...</th>\n",
       "      <td>...</td>\n",
       "      <td>...</td>\n",
       "      <td>...</td>\n",
       "    </tr>\n",
       "    <tr>\n",
       "      <th>325</th>\n",
       "      <td>BCS1L</td>\n",
       "      <td>AAGGAGGACGCTGAGCCGTCAAGATTAAGAACCTTCACCTGCGGGA...</td>\n",
       "      <td>KEDAEPSRLRTFTCGRAG*GRRQVGTREEIRLSSGQEG*GRERTD*...</td>\n",
       "    </tr>\n",
       "    <tr>\n",
       "      <th>326</th>\n",
       "      <td>NDUFAF1</td>\n",
       "      <td>GGAAGGGAAAAGCAGATGGACCTATACGGGTAAAGTGGCTTCTGGG...</td>\n",
       "      <td>GREKQMDLYG*SGFWAEGTL*ARGGKRRQAGGWCVPGVGRRQSPGT...</td>\n",
       "    </tr>\n",
       "    <tr>\n",
       "      <th>327</th>\n",
       "      <td>TMED5</td>\n",
       "      <td>GTCAGGGGGAGAGGCGGGCGGCGCTCACGCCTGGCCTGAGGGGGCC...</td>\n",
       "      <td>VRGRGGRRSRLA*GGRD*GGCGIGLLAPPRVPTLWRTALLFRRECS...</td>\n",
       "    </tr>\n",
       "    <tr>\n",
       "      <th>328</th>\n",
       "      <td>NDUFB9</td>\n",
       "      <td>GCCCTTCCGGCTGGCCCCGCTCAGTCACCCGCAGCAGGCGTGCAGT...</td>\n",
       "      <td>ALPAGPAQSPAAGVQFPGSPRGRGRSAP*WRSWRRDPT*PISKRCC...</td>\n",
       "    </tr>\n",
       "    <tr>\n",
       "      <th>329</th>\n",
       "      <td>PIGS</td>\n",
       "      <td>TGCGGGGCTAGAAGTGTGTTCTACAGGGAAGCGGGGAACTTCGTTC...</td>\n",
       "      <td>CGARSVFYREAGNFVPAAPKPARPLGCPSAPG*LPFRSPAKLPAEP...</td>\n",
       "    </tr>\n",
       "  </tbody>\n",
       "</table>\n",
       "<p>330 rows × 3 columns</p>\n",
       "</div>"
      ],
      "text/plain": [
       "    hgnc_symbol                                      gene_sequence  \\\n",
       "0         AP3B1  ACTGCGCATGCGCAGGGGGTGGACTGCCAGGTCGGCTCAGGGAGCC...   \n",
       "1          BRD4  GACGTCAGTGCGCTGGCGGCGGCGGCGGCGGCGGCGGCGGCGGCTG...   \n",
       "2          BRD2  GGCCAAATCGTCTTCAGAGTCCTCCAGTGAGGAAAGTAGCAGTGAG...   \n",
       "3         CWC27  AGCGGTGCTCGGGTCCGGTAACAACATGGCGGCGTCCGTGAGGGGC...   \n",
       "4        ZC3H18  AGGACTACCGTCGCGGCCTGATGACGTCGCACAATGGCCGGCCCCC...   \n",
       "..          ...                                                ...   \n",
       "325       BCS1L  AAGGAGGACGCTGAGCCGTCAAGATTAAGAACCTTCACCTGCGGGA...   \n",
       "326     NDUFAF1  GGAAGGGAAAAGCAGATGGACCTATACGGGTAAAGTGGCTTCTGGG...   \n",
       "327       TMED5  GTCAGGGGGAGAGGCGGGCGGCGCTCACGCCTGGCCTGAGGGGGCC...   \n",
       "328      NDUFB9  GCCCTTCCGGCTGGCCCCGCTCAGTCACCCGCAGCAGGCGTGCAGT...   \n",
       "329        PIGS  TGCGGGGCTAGAAGTGTGTTCTACAGGGAAGCGGGGAACTTCGTTC...   \n",
       "\n",
       "                                   amino_acid_sequence  \n",
       "0    TAHAQGVDCQVGSGSRDESGSACARSSVRELVLFRALWTGTFWREP...  \n",
       "1    DVSALAAAAAAAAAAGLFVLVSRSRGAEAVAAAAAAAAAGGARGRA...  \n",
       "2    GQIVFRVLQ*GK*Q*ELL*GRGGGR*GRGGRRE*KLRLRGRKGSSL...  \n",
       "3    SGARVR*QHGGVREGLLWAGVVFGVPVLRDIDKLKLSCTTGLKEEC...  \n",
       "4    RTTVAA**RRTMAGPRG*WSPFVPPVSSLEPEPVKSGRAKGRLLHA...  \n",
       "..                                                 ...  \n",
       "325  KEDAEPSRLRTFTCGRAG*GRRQVGTREEIRLSSGQEG*GRERTD*...  \n",
       "326  GREKQMDLYG*SGFWAEGTL*ARGGKRRQAGGWCVPGVGRRQSPGT...  \n",
       "327  VRGRGGRRSRLA*GGRD*GGCGIGLLAPPRVPTLWRTALLFRRECS...  \n",
       "328  ALPAGPAQSPAAGVQFPGSPRGRGRSAP*WRSWRRDPT*PISKRCC...  \n",
       "329  CGARSVFYREAGNFVPAAPKPARPLGCPSAPG*LPFRSPAKLPAEP...  \n",
       "\n",
       "[330 rows x 3 columns]"
      ]
     },
     "execution_count": 11,
     "metadata": {},
     "output_type": "execute_result"
    }
   ],
   "source": [
    "corona_gene_df"
   ]
  },
  {
   "cell_type": "code",
   "execution_count": 12,
   "metadata": {},
   "outputs": [],
   "source": [
    "human_330_samples_gene = pd.DataFrame()\n",
    "\n",
    "human_330_samples_gene['hgnc_symbol'] = corona_gene_df['hgnc_symbol'] \n",
    "human_330_samples_gene['target_gene_code'] = corona_gene_df['gene_sequence'] \n",
    "\n",
    "#negative_samples_gene = negative_samples_gene.drop_duplicates(subset=['gene_id'], keep=False)\n",
    "\n",
    "human_330_samples_gene.to_pickle('human_330_samples_gene.pkl')"
   ]
  },
  {
   "cell_type": "code",
   "execution_count": 13,
   "metadata": {},
   "outputs": [
    {
     "data": {
      "text/plain": [
       "[294231,\n",
       " 97027,\n",
       " 3660,\n",
       " 249821,\n",
       " 61586,\n",
       " 42101,\n",
       " 32077,\n",
       " 4566,\n",
       " 27026,\n",
       " 63229,\n",
       " 96120,\n",
       " 31318,\n",
       " 16828,\n",
       " 65024,\n",
       " 9289,\n",
       " 45905,\n",
       " 13121,\n",
       " 224418,\n",
       " 35114,\n",
       " 99960,\n",
       " 13347,\n",
       " 85682,\n",
       " 103195,\n",
       " 26678,\n",
       " 36153,\n",
       " 6762,\n",
       " 115952,\n",
       " 494686,\n",
       " 33708,\n",
       " 20246,\n",
       " 140435,\n",
       " 11414,\n",
       " 70707,\n",
       " 39092,\n",
       " 34460,\n",
       " 60393,\n",
       " 8476,\n",
       " 36994,\n",
       " 40200,\n",
       " 8311,\n",
       " 41741,\n",
       " 15975,\n",
       " 104763,\n",
       " 15723,\n",
       " 19845,\n",
       " 36299,\n",
       " 27606,\n",
       " 81744,\n",
       " 28899,\n",
       " 46224,\n",
       " 16929,\n",
       " 20585,\n",
       " 33436,\n",
       " 303078,\n",
       " 21079,\n",
       " 332046,\n",
       " 43670,\n",
       " 27514,\n",
       " 106096,\n",
       " 71505,\n",
       " 3557,\n",
       " 118433,\n",
       " 9403,\n",
       " 9170,\n",
       " 177615,\n",
       " 75739,\n",
       " 6685,\n",
       " 26414,\n",
       " 282438,\n",
       " 20071,\n",
       " 51197,\n",
       " 51332,\n",
       " 8720,\n",
       " 3920,\n",
       " 126562,\n",
       " 127257,\n",
       " 62514,\n",
       " 115423,\n",
       " 128416,\n",
       " 46673,\n",
       " 124792,\n",
       " 54404,\n",
       " 380659,\n",
       " 18397,\n",
       " 246649,\n",
       " 17970,\n",
       " 191530,\n",
       " 11760,\n",
       " 121629,\n",
       " 103278,\n",
       " 26397,\n",
       " 117107,\n",
       " 432418,\n",
       " 61377,\n",
       " 105865,\n",
       " 50387,\n",
       " 10198,\n",
       " 60165,\n",
       " 20167,\n",
       " 86569,\n",
       " 28545,\n",
       " 160103,\n",
       " 240106,\n",
       " 84491,\n",
       " 30639,\n",
       " 102748,\n",
       " 505425,\n",
       " 60225,\n",
       " 91939,\n",
       " 111359,\n",
       " 556597,\n",
       " 354449,\n",
       " 136362,\n",
       " 12984,\n",
       " 174393,\n",
       " 191302,\n",
       " 169807,\n",
       " 11705,\n",
       " 77926,\n",
       " 12243,\n",
       " 64117,\n",
       " 50023,\n",
       " 61537,\n",
       " 132835,\n",
       " 14740,\n",
       " 5084,\n",
       " 40630,\n",
       " 25645,\n",
       " 3973,\n",
       " 19755,\n",
       " 54190,\n",
       " 32971,\n",
       " 87656,\n",
       " 182478,\n",
       " 61811,\n",
       " 60313,\n",
       " 163277,\n",
       " 122410,\n",
       " 2340,\n",
       " 21203,\n",
       " 104088,\n",
       " 4725,\n",
       " 67757,\n",
       " 3181,\n",
       " 19037,\n",
       " 78281,\n",
       " 1183,\n",
       " 12666,\n",
       " 29891,\n",
       " 7872,\n",
       " 3088,\n",
       " 95693,\n",
       " 166543,\n",
       " 41646,\n",
       " 83698,\n",
       " 31553,\n",
       " 84556,\n",
       " 28243,\n",
       " 30069,\n",
       " 88616,\n",
       " 22346,\n",
       " 106709,\n",
       " 103371,\n",
       " 44882,\n",
       " 53854,\n",
       " 59636,\n",
       " 105833,\n",
       " 8257,\n",
       " 20102,\n",
       " 4354,\n",
       " 42959,\n",
       " 39480,\n",
       " 195348,\n",
       " 207822,\n",
       " 43729,\n",
       " 105813,\n",
       " 2381,\n",
       " 37770,\n",
       " 28159,\n",
       " 6066,\n",
       " 6684,\n",
       " 7770,\n",
       " 38064,\n",
       " 19470,\n",
       " 36065,\n",
       " 188381,\n",
       " 110815,\n",
       " 37184,\n",
       " 47611,\n",
       " 22858,\n",
       " 275859,\n",
       " 20486,\n",
       " 5329,\n",
       " 40174,\n",
       " 10799,\n",
       " 138907,\n",
       " 119234,\n",
       " 8969,\n",
       " 40436,\n",
       " 10986,\n",
       " 34460,\n",
       " 107997,\n",
       " 107693,\n",
       " 4690,\n",
       " 64066,\n",
       " 11174,\n",
       " 101238,\n",
       " 164384,\n",
       " 237544,\n",
       " 401277,\n",
       " 109078,\n",
       " 22939,\n",
       " 43803,\n",
       " 22857,\n",
       " 33786,\n",
       " 166001,\n",
       " 68543,\n",
       " 47992,\n",
       " 3935,\n",
       " 58714,\n",
       " 48245,\n",
       " 16241,\n",
       " 78576,\n",
       " 26267,\n",
       " 82092,\n",
       " 25271,\n",
       " 4284,\n",
       " 100884,\n",
       " 1999,\n",
       " 21963,\n",
       " 33119,\n",
       " 5884,\n",
       " 13847,\n",
       " 53329,\n",
       " 43361,\n",
       " 49616,\n",
       " 33950,\n",
       " 14287,\n",
       " 59419,\n",
       " 50524,\n",
       " 3420,\n",
       " 126710,\n",
       " 27989,\n",
       " 18158,\n",
       " 41303,\n",
       " 177297,\n",
       " 94214,\n",
       " 11303,\n",
       " 14791,\n",
       " 32959,\n",
       " 105475,\n",
       " 5265,\n",
       " 23282,\n",
       " 22365,\n",
       " 97942,\n",
       " 15166,\n",
       " 228061,\n",
       " 6958,\n",
       " 17986,\n",
       " 14699,\n",
       " 27603,\n",
       " 11010,\n",
       " 14696,\n",
       " 26273,\n",
       " 66858,\n",
       " 31984,\n",
       " 19912,\n",
       " 4862,\n",
       " 3081,\n",
       " 35868,\n",
       " 23728,\n",
       " 31776,\n",
       " 30741,\n",
       " 71096,\n",
       " 335380,\n",
       " 13844,\n",
       " 5248,\n",
       " 14446,\n",
       " 30948,\n",
       " 119816,\n",
       " 64671,\n",
       " 346834,\n",
       " 30779,\n",
       " 178236,\n",
       " 22901,\n",
       " 17550,\n",
       " 251903,\n",
       " 6339,\n",
       " 9655,\n",
       " 13040,\n",
       " 14937,\n",
       " 3282,\n",
       " 10534,\n",
       " 20726,\n",
       " 3540,\n",
       " 41764,\n",
       " 37659,\n",
       " 118440,\n",
       " 72092,\n",
       " 36466,\n",
       " 6416,\n",
       " 136279,\n",
       " 102074,\n",
       " 6288,\n",
       " 34760,\n",
       " 3627,\n",
       " 33417,\n",
       " 193498,\n",
       " 16383,\n",
       " 63446,\n",
       " 109396,\n",
       " 9486,\n",
       " 58539,\n",
       " 66906,\n",
       " 68042,\n",
       " 17449,\n",
       " 31111,\n",
       " 7914,\n",
       " 191878,\n",
       " 23244,\n",
       " 38718,\n",
       " 30836,\n",
       " 14060,\n",
       " 36472,\n",
       " 74952,\n",
       " 4680,\n",
       " 15167,\n",
       " 30775,\n",
       " 41548,\n",
       " 18412]"
      ]
     },
     "execution_count": 13,
     "metadata": {},
     "output_type": "execute_result"
    }
   ],
   "source": [
    "gene_seq_list = corona_gene_df['gene_sequence'].tolist()\n",
    "gene_seq_len_list = []\n",
    "\n",
    "for gene_name in gene_seq_list:\n",
    "    gene_seq_len_list.append(len(gene_name))\n",
    "    \n",
    "gene_seq_len_list"
   ]
  },
  {
   "cell_type": "code",
   "execution_count": 14,
   "metadata": {},
   "outputs": [
    {
     "data": {
      "text/plain": [
       "Text(0,0.5,'Number of Genes')"
      ]
     },
     "execution_count": 14,
     "metadata": {},
     "output_type": "execute_result"
    },
    {
     "data": {
      "image/png": "[encoded data removed]",
      "text/plain": [
       "<Figure size 432x288 with 1 Axes>"
      ]
     },
     "metadata": {
      "needs_background": "light"
     },
     "output_type": "display_data"
    }
   ],
   "source": [
    "plt.hist(gene_seq_len_list, bins = 100, log = True)\n",
    "plt.title('330 Human Genes')\n",
    "plt.xlabel('Gene Sequence Length')\n",
    "plt.ylabel('Number of Genes')"
   ]
  },
  {
   "cell_type": "markdown",
   "metadata": {},
   "source": [
    "# Preparing data"
   ]
  },
  {
   "cell_type": "code",
   "execution_count": 15,
   "metadata": {
    "scrolled": true
   },
   "outputs": [],
   "source": [
    "corona_gene_df['target_gene_code'] = corona_gene_df['gene_sequence'] #.apply(lambda x: ''.join(list(x.split('\\n')[1:])))\n",
    "#drugbank['target_amino_code'] = drugbank['target_amino'].apply(lambda x: ''.join(list(x.split('\\n')[1:])))"
   ]
  },
  {
   "cell_type": "code",
   "execution_count": 16,
   "metadata": {},
   "outputs": [
    {
     "data": {
      "text/plain": [
       "<matplotlib.axes._subplots.AxesSubplot at 0x7fb57c60c898>"
      ]
     },
     "execution_count": 16,
     "metadata": {},
     "output_type": "execute_result"
    },
    {
     "data": {
      "image/png": "[encoded data removed]",
      "text/plain": [
       "<Figure size 432x288 with 1 Axes>"
      ]
     },
     "metadata": {
      "needs_background": "light"
     },
     "output_type": "display_data"
    }
   ],
   "source": [
    "ndm_df['cid'].value_counts().plot()"
   ]
  },
  {
   "cell_type": "code",
   "execution_count": 17,
   "metadata": {},
   "outputs": [],
   "source": [
    "ndm_df = ndm_df[['cid', 'fingerprint']].drop_duplicates('cid')"
   ]
  },
  {
   "cell_type": "markdown",
   "metadata": {},
   "source": [
    "#### Preprocessing fingerprints to feed to CNN"
   ]
  },
  {
   "cell_type": "code",
   "execution_count": 18,
   "metadata": {},
   "outputs": [
    {
     "data": {
      "application/vnd.jupyter.widget-view+json": {
       "model_id": "e87acb2a699e420b9f13a9e457ec8833",
       "version_major": 2,
       "version_minor": 0
      },
      "text/plain": [
       "HBox(children=(FloatProgress(value=0.0, max=330.0), HTML(value='')))"
      ]
     },
     "metadata": {},
     "output_type": "display_data"
    },
    {
     "name": "stdout",
     "output_type": "stream",
     "text": [
      "\n"
     ]
    },
    {
     "data": {
      "application/vnd.jupyter.widget-view+json": {
       "model_id": "cd094079e95c4a8192ca843ca139bf95",
       "version_major": 2,
       "version_minor": 0
      },
      "text/plain": [
       "HBox(children=(FloatProgress(value=0.0, max=19169.0), HTML(value='')))"
      ]
     },
     "metadata": {},
     "output_type": "display_data"
    },
    {
     "name": "stdout",
     "output_type": "stream",
     "text": [
      "\n"
     ]
    }
   ],
   "source": [
    "label_encoder = LabelEncoder()\n",
    "label_encoder = pd.read_pickle('data/gene_encoder.pkl')\n",
    "#label_encoder.fit(list(corona_gene_df['target_gene_code'].iloc[0]))\n",
    "\n",
    "#with open('data/gene_encoder.pkl', 'wb') as f:\n",
    "#    pkl.dump(label_encoder, f)\n",
    "    \n",
    "gene_chars = set(list(corona_gene_df['target_gene_code'].iloc[0]))\n",
    "\n",
    "corona_gene_df['target_gene_encoded'] = corona_gene_df['target_gene_code'].progress_apply(\\\n",
    "                                   lambda x: label_encoder.transform([i for i in list(x) if i in gene_chars]))\n",
    "ndm_df['drug_fingerprint_encoded'] = ndm_df['fingerprint'].progress_apply(lambda x: [int(i) for i in x.replace(' ', '')])"
   ]
  },
  {
   "cell_type": "markdown",
   "metadata": {},
   "source": [
    "#### Calculate length mismatches and pad"
   ]
  },
  {
   "cell_type": "code",
   "execution_count": 19,
   "metadata": {},
   "outputs": [],
   "source": [
    "corona_gene_df['target_gene_encoded_len'] = corona_gene_df['target_gene_encoded']\\\n",
    "                                    .apply(lambda x: len(x))\n",
    "ndm_df['drug_fingerprint_encoded_len'] = ndm_df['drug_fingerprint_encoded']\\\n",
    "                                    .apply(lambda x: len(x))"
   ]
  },
  {
   "cell_type": "code",
   "execution_count": 20,
   "metadata": {},
   "outputs": [],
   "source": [
    "max_target_gene_encoded_len = max(corona_gene_df['target_gene_encoded_len'])\n",
    "max_drug_fingerprint_encoded_len = max(ndm_df['drug_fingerprint_encoded_len'])"
   ]
  },
  {
   "cell_type": "code",
   "execution_count": 21,
   "metadata": {},
   "outputs": [],
   "source": [
    "corona_gene_df['target_gene_encoded_mismatch'] = max_target_gene_encoded_len - corona_gene_df['target_gene_encoded_len']"
   ]
  },
  {
   "cell_type": "code",
   "execution_count": 22,
   "metadata": {},
   "outputs": [],
   "source": [
    "ndm_df['drug_fingerprint_encoded_mismatch'] = max_drug_fingerprint_encoded_len - ndm_df['drug_fingerprint_encoded_len'] "
   ]
  },
  {
   "cell_type": "code",
   "execution_count": 23,
   "metadata": {},
   "outputs": [
    {
     "data": {
      "text/plain": [
       "<matplotlib.axes._subplots.AxesSubplot at 0x7fb57c3b67b8>"
      ]
     },
     "execution_count": 23,
     "metadata": {},
     "output_type": "execute_result"
    },
    {
     "data": {
      "image/png": "[encoded data removed]",
      "text/plain": [
       "<Figure size 720x360 with 1 Axes>"
      ]
     },
     "metadata": {
      "needs_background": "light"
     },
     "output_type": "display_data"
    }
   ],
   "source": [
    "ndm_df['drug_fingerprint_encoded_mismatch'].hist(bins = 100, figsize = (10, 5), log = True)"
   ]
  },
  {
   "cell_type": "code",
   "execution_count": 24,
   "metadata": {},
   "outputs": [
    {
     "data": {
      "text/plain": [
       "<matplotlib.axes._subplots.AxesSubplot at 0x7fb57c1899b0>"
      ]
     },
     "execution_count": 24,
     "metadata": {},
     "output_type": "execute_result"
    },
    {
     "data": {
      "image/png": "[encoded data removed]",
      "text/plain": [
       "<Figure size 720x360 with 1 Axes>"
      ]
     },
     "metadata": {
      "needs_background": "light"
     },
     "output_type": "display_data"
    }
   ],
   "source": [
    "corona_gene_df['target_gene_encoded_mismatch'].hist(bins = 100, figsize = (10, 5), log = True)"
   ]
  },
  {
   "cell_type": "code",
   "execution_count": 25,
   "metadata": {},
   "outputs": [
    {
     "data": {
      "text/plain": [
       "556597"
      ]
     },
     "execution_count": 25,
     "metadata": {},
     "output_type": "execute_result"
    }
   ],
   "source": [
    "max_target_gene_encoded_len"
   ]
  },
  {
   "cell_type": "code",
   "execution_count": 26,
   "metadata": {},
   "outputs": [
    {
     "data": {
      "text/plain": [
       "(294231,)"
      ]
     },
     "execution_count": 26,
     "metadata": {},
     "output_type": "execute_result"
    }
   ],
   "source": [
    "corona_gene_df['target_gene_encoded'][0].shape"
   ]
  },
  {
   "cell_type": "code",
   "execution_count": 27,
   "metadata": {},
   "outputs": [
    {
     "data": {
      "application/vnd.jupyter.widget-view+json": {
       "model_id": "bcd390ef5ae14e27abaa65be19087ecd",
       "version_major": 2,
       "version_minor": 0
      },
      "text/plain": [
       "HBox(children=(FloatProgress(value=0.0, max=330.0), HTML(value='')))"
      ]
     },
     "metadata": {},
     "output_type": "display_data"
    },
    {
     "name": "stdout",
     "output_type": "stream",
     "text": [
      "\n"
     ]
    }
   ],
   "source": [
    "corona_gene_df['target_gene_encoded_padded'] = corona_gene_df[['target_gene_encoded','target_gene_encoded_mismatch']]\\\n",
    "                                         .progress_apply(lambda x: ['-1' for i in range(int(x['target_gene_encoded_mismatch']/2))] +   \n",
    "                                                        list(x['target_gene_encoded']) +\n",
    "                                                        ['-1' for i in range (int(x['target_gene_encoded_mismatch']/2))]\n",
    "                                                        , axis = 1)\n",
    "corona_gene_df['target_gene_encoded_padded'] = corona_gene_df['target_gene_encoded_padded'].apply(lambda x: x + ['-1'] if len(x) < max_target_gene_encoded_len else x)"
   ]
  },
  {
   "cell_type": "code",
   "execution_count": 28,
   "metadata": {},
   "outputs": [
    {
     "data": {
      "application/vnd.jupyter.widget-view+json": {
       "model_id": "b72b0baaae764a219ae17a45c3999b0c",
       "version_major": 2,
       "version_minor": 0
      },
      "text/plain": [
       "HBox(children=(FloatProgress(value=0.0, max=19169.0), HTML(value='')))"
      ]
     },
     "metadata": {},
     "output_type": "display_data"
    },
    {
     "name": "stdout",
     "output_type": "stream",
     "text": [
      "\n"
     ]
    }
   ],
   "source": [
    "ndm_df['drug_fingerprint_encoded_padded'] = ndm_df[['drug_fingerprint_encoded','drug_fingerprint_encoded_mismatch']]\\\n",
    "                                         .progress_apply(lambda x: ['-1' for i in range(int(x['drug_fingerprint_encoded_mismatch']/2))] +   \n",
    "                                                        list(x['drug_fingerprint_encoded']) +\n",
    "                                                        ['-1' for i in range (int(x['drug_fingerprint_encoded_mismatch']/2))]\n",
    "                                                        , axis = 1)\n",
    "\n",
    "ndm_df['drug_fingerprint_encoded_padded'] = ndm_df['drug_fingerprint_encoded_padded'].apply(lambda x: x + ['-1'] if len(x) < max_drug_fingerprint_encoded_len else x)"
   ]
  },
  {
   "cell_type": "code",
   "execution_count": 25,
   "metadata": {},
   "outputs": [],
   "source": [
    "ndm_df.to_csv('data/intermediate/ndm_preprocessed.csv')\n",
    "corona_gene_df.to_csv('data/intermediate/330_corona_genes_preprocessed.csv')"
   ]
  },
  {
   "cell_type": "code",
   "execution_count": 26,
   "metadata": {
    "scrolled": true
   },
   "outputs": [
    {
     "data": {
      "text/html": [
       "<div>\n",
       "<style scoped>\n",
       "    .dataframe tbody tr th:only-of-type {\n",
       "        vertical-align: middle;\n",
       "    }\n",
       "\n",
       "    .dataframe tbody tr th {\n",
       "        vertical-align: top;\n",
       "    }\n",
       "\n",
       "    .dataframe thead th {\n",
       "        text-align: right;\n",
       "    }\n",
       "</style>\n",
       "<table border=\"1\" class=\"dataframe\">\n",
       "  <thead>\n",
       "    <tr style=\"text-align: right;\">\n",
       "      <th></th>\n",
       "      <th>cid</th>\n",
       "      <th>fingerprint</th>\n",
       "      <th>drug_fingerprint_encoded</th>\n",
       "      <th>drug_fingerprint_encoded_len</th>\n",
       "      <th>drug_fingerprint_encoded_mismatch</th>\n",
       "      <th>drug_fingerprint_encoded_padded</th>\n",
       "    </tr>\n",
       "  </thead>\n",
       "  <tbody>\n",
       "    <tr>\n",
       "      <th>0</th>\n",
       "      <td>14162674.0</td>\n",
       "      <td>2246728737 3545365497 2246699815 176403689 224...</td>\n",
       "      <td>[2, 2, 4, 6, 7, 2, 8, 7, 3, 7, 3, 5, 4, 5, 3, ...</td>\n",
       "      <td>479</td>\n",
       "      <td>7593</td>\n",
       "      <td>[-1, -1, -1, -1, -1, -1, -1, -1, -1, -1, -1, -...</td>\n",
       "    </tr>\n",
       "    <tr>\n",
       "      <th>1</th>\n",
       "      <td>19462.0</td>\n",
       "      <td>2246728737 422715066 3217380708 3661262542 321...</td>\n",
       "      <td>[2, 2, 4, 6, 7, 2, 8, 7, 3, 7, 4, 2, 2, 7, 1, ...</td>\n",
       "      <td>137</td>\n",
       "      <td>7935</td>\n",
       "      <td>[-1, -1, -1, -1, -1, -1, -1, -1, -1, -1, -1, -...</td>\n",
       "    </tr>\n",
       "    <tr>\n",
       "      <th>2</th>\n",
       "      <td>73798945.0</td>\n",
       "      <td>2246728737 1858577693 2976033787 1228815484 29...</td>\n",
       "      <td>[2, 2, 4, 6, 7, 2, 8, 7, 3, 7, 1, 8, 5, 8, 5, ...</td>\n",
       "      <td>1203</td>\n",
       "      <td>6869</td>\n",
       "      <td>[-1, -1, -1, -1, -1, -1, -1, -1, -1, -1, -1, -...</td>\n",
       "    </tr>\n",
       "    <tr>\n",
       "      <th>3</th>\n",
       "      <td>44260124.0</td>\n",
       "      <td>2246728737 3542456614 2245384272 1173125914 22...</td>\n",
       "      <td>[2, 2, 4, 6, 7, 2, 8, 7, 3, 7, 3, 5, 4, 2, 4, ...</td>\n",
       "      <td>1026</td>\n",
       "      <td>7046</td>\n",
       "      <td>[-1, -1, -1, -1, -1, -1, -1, -1, -1, -1, -1, -...</td>\n",
       "    </tr>\n",
       "    <tr>\n",
       "      <th>4</th>\n",
       "      <td>486612.0</td>\n",
       "      <td>2246728737 3975275337 864674487 2076190208 321...</td>\n",
       "      <td>[2, 2, 4, 6, 7, 2, 8, 7, 3, 7, 3, 9, 7, 5, 2, ...</td>\n",
       "      <td>714</td>\n",
       "      <td>7358</td>\n",
       "      <td>[-1, -1, -1, -1, -1, -1, -1, -1, -1, -1, -1, -...</td>\n",
       "    </tr>\n",
       "    <tr>\n",
       "      <th>...</th>\n",
       "      <td>...</td>\n",
       "      <td>...</td>\n",
       "      <td>...</td>\n",
       "      <td>...</td>\n",
       "      <td>...</td>\n",
       "      <td>...</td>\n",
       "    </tr>\n",
       "    <tr>\n",
       "      <th>19598</th>\n",
       "      <td>20313888.0</td>\n",
       "      <td>2246728737 422715066 3217380708 3661262542 321...</td>\n",
       "      <td>[2, 2, 4, 6, 7, 2, 8, 7, 3, 7, 4, 2, 2, 7, 1, ...</td>\n",
       "      <td>196</td>\n",
       "      <td>7876</td>\n",
       "      <td>[-1, -1, -1, -1, -1, -1, -1, -1, -1, -1, -1, -...</td>\n",
       "    </tr>\n",
       "    <tr>\n",
       "      <th>19599</th>\n",
       "      <td>131751334.0</td>\n",
       "      <td>2246728737 3542456614 2245384272 1173125914 22...</td>\n",
       "      <td>[2, 2, 4, 6, 7, 2, 8, 7, 3, 7, 3, 5, 4, 2, 4, ...</td>\n",
       "      <td>730</td>\n",
       "      <td>7342</td>\n",
       "      <td>[-1, -1, -1, -1, -1, -1, -1, -1, -1, -1, -1, -...</td>\n",
       "    </tr>\n",
       "    <tr>\n",
       "      <th>19600</th>\n",
       "      <td>3325403.0</td>\n",
       "      <td>2246728737 3537119515 2245273601 2637439965 22...</td>\n",
       "      <td>[2, 2, 4, 6, 7, 2, 8, 7, 3, 7, 3, 5, 3, 7, 1, ...</td>\n",
       "      <td>293</td>\n",
       "      <td>7779</td>\n",
       "      <td>[-1, -1, -1, -1, -1, -1, -1, -1, -1, -1, -1, -...</td>\n",
       "    </tr>\n",
       "    <tr>\n",
       "      <th>19601</th>\n",
       "      <td>131753140.0</td>\n",
       "      <td>2246728737 3542456614 2245384272 1506563592 22...</td>\n",
       "      <td>[2, 2, 4, 6, 7, 2, 8, 7, 3, 7, 3, 5, 4, 2, 4, ...</td>\n",
       "      <td>660</td>\n",
       "      <td>7412</td>\n",
       "      <td>[-1, -1, -1, -1, -1, -1, -1, -1, -1, -1, -1, -...</td>\n",
       "    </tr>\n",
       "    <tr>\n",
       "      <th>19602</th>\n",
       "      <td>5320805.0</td>\n",
       "      <td>2246728737 1858577693 2976033787 1236795370 29...</td>\n",
       "      <td>[2, 2, 4, 6, 7, 2, 8, 7, 3, 7, 1, 8, 5, 8, 5, ...</td>\n",
       "      <td>411</td>\n",
       "      <td>7661</td>\n",
       "      <td>[-1, -1, -1, -1, -1, -1, -1, -1, -1, -1, -1, -...</td>\n",
       "    </tr>\n",
       "  </tbody>\n",
       "</table>\n",
       "<p>19169 rows × 6 columns</p>\n",
       "</div>"
      ],
      "text/plain": [
       "               cid                                        fingerprint  \\\n",
       "0       14162674.0  2246728737 3545365497 2246699815 176403689 224...   \n",
       "1          19462.0  2246728737 422715066 3217380708 3661262542 321...   \n",
       "2       73798945.0  2246728737 1858577693 2976033787 1228815484 29...   \n",
       "3       44260124.0  2246728737 3542456614 2245384272 1173125914 22...   \n",
       "4         486612.0  2246728737 3975275337 864674487 2076190208 321...   \n",
       "...            ...                                                ...   \n",
       "19598   20313888.0  2246728737 422715066 3217380708 3661262542 321...   \n",
       "19599  131751334.0  2246728737 3542456614 2245384272 1173125914 22...   \n",
       "19600    3325403.0  2246728737 3537119515 2245273601 2637439965 22...   \n",
       "19601  131753140.0  2246728737 3542456614 2245384272 1506563592 22...   \n",
       "19602    5320805.0  2246728737 1858577693 2976033787 1236795370 29...   \n",
       "\n",
       "                                drug_fingerprint_encoded  \\\n",
       "0      [2, 2, 4, 6, 7, 2, 8, 7, 3, 7, 3, 5, 4, 5, 3, ...   \n",
       "1      [2, 2, 4, 6, 7, 2, 8, 7, 3, 7, 4, 2, 2, 7, 1, ...   \n",
       "2      [2, 2, 4, 6, 7, 2, 8, 7, 3, 7, 1, 8, 5, 8, 5, ...   \n",
       "3      [2, 2, 4, 6, 7, 2, 8, 7, 3, 7, 3, 5, 4, 2, 4, ...   \n",
       "4      [2, 2, 4, 6, 7, 2, 8, 7, 3, 7, 3, 9, 7, 5, 2, ...   \n",
       "...                                                  ...   \n",
       "19598  [2, 2, 4, 6, 7, 2, 8, 7, 3, 7, 4, 2, 2, 7, 1, ...   \n",
       "19599  [2, 2, 4, 6, 7, 2, 8, 7, 3, 7, 3, 5, 4, 2, 4, ...   \n",
       "19600  [2, 2, 4, 6, 7, 2, 8, 7, 3, 7, 3, 5, 3, 7, 1, ...   \n",
       "19601  [2, 2, 4, 6, 7, 2, 8, 7, 3, 7, 3, 5, 4, 2, 4, ...   \n",
       "19602  [2, 2, 4, 6, 7, 2, 8, 7, 3, 7, 1, 8, 5, 8, 5, ...   \n",
       "\n",
       "       drug_fingerprint_encoded_len  drug_fingerprint_encoded_mismatch  \\\n",
       "0                               479                               7593   \n",
       "1                               137                               7935   \n",
       "2                              1203                               6869   \n",
       "3                              1026                               7046   \n",
       "4                               714                               7358   \n",
       "...                             ...                                ...   \n",
       "19598                           196                               7876   \n",
       "19599                           730                               7342   \n",
       "19600                           293                               7779   \n",
       "19601                           660                               7412   \n",
       "19602                           411                               7661   \n",
       "\n",
       "                         drug_fingerprint_encoded_padded  \n",
       "0      [-1, -1, -1, -1, -1, -1, -1, -1, -1, -1, -1, -...  \n",
       "1      [-1, -1, -1, -1, -1, -1, -1, -1, -1, -1, -1, -...  \n",
       "2      [-1, -1, -1, -1, -1, -1, -1, -1, -1, -1, -1, -...  \n",
       "3      [-1, -1, -1, -1, -1, -1, -1, -1, -1, -1, -1, -...  \n",
       "4      [-1, -1, -1, -1, -1, -1, -1, -1, -1, -1, -1, -...  \n",
       "...                                                  ...  \n",
       "19598  [-1, -1, -1, -1, -1, -1, -1, -1, -1, -1, -1, -...  \n",
       "19599  [-1, -1, -1, -1, -1, -1, -1, -1, -1, -1, -1, -...  \n",
       "19600  [-1, -1, -1, -1, -1, -1, -1, -1, -1, -1, -1, -...  \n",
       "19601  [-1, -1, -1, -1, -1, -1, -1, -1, -1, -1, -1, -...  \n",
       "19602  [-1, -1, -1, -1, -1, -1, -1, -1, -1, -1, -1, -...  \n",
       "\n",
       "[19169 rows x 6 columns]"
      ]
     },
     "execution_count": 26,
     "metadata": {},
     "output_type": "execute_result"
    }
   ],
   "source": [
    "ndm_df"
   ]
  },
  {
   "cell_type": "code",
   "execution_count": 27,
   "metadata": {
    "scrolled": true
   },
   "outputs": [
    {
     "data": {
      "text/html": [
       "<div>\n",
       "<style scoped>\n",
       "    .dataframe tbody tr th:only-of-type {\n",
       "        vertical-align: middle;\n",
       "    }\n",
       "\n",
       "    .dataframe tbody tr th {\n",
       "        vertical-align: top;\n",
       "    }\n",
       "\n",
       "    .dataframe thead th {\n",
       "        text-align: right;\n",
       "    }\n",
       "</style>\n",
       "<table border=\"1\" class=\"dataframe\">\n",
       "  <thead>\n",
       "    <tr style=\"text-align: right;\">\n",
       "      <th></th>\n",
       "      <th>hgnc_symbol</th>\n",
       "      <th>gene_sequence</th>\n",
       "      <th>amino_acid_sequence</th>\n",
       "      <th>target_gene_code</th>\n",
       "      <th>target_gene_encoded</th>\n",
       "      <th>target_gene_encoded_len</th>\n",
       "      <th>target_gene_encoded_mismatch</th>\n",
       "      <th>target_gene_encoded_padded</th>\n",
       "    </tr>\n",
       "  </thead>\n",
       "  <tbody>\n",
       "    <tr>\n",
       "      <th>0</th>\n",
       "      <td>AP3B1</td>\n",
       "      <td>ACTGCGCATGCGCAGGGGGTGGACTGCCAGGTCGGCTCAGGGAGCC...</td>\n",
       "      <td>TAHAQGVDCQVGSGSRDESGSACARSSVRELVLFRALWTGTFWREP...</td>\n",
       "      <td>ACTGCGCATGCGCAGGGGGTGGACTGCCAGGTCGGCTCAGGGAGCC...</td>\n",
       "      <td>[0, 1, 3, 2, 1, 2, 1, 0, 3, 2, 1, 2, 1, 0, 2, ...</td>\n",
       "      <td>294231</td>\n",
       "      <td>262366</td>\n",
       "      <td>[-1, -1, -1, -1, -1, -1, -1, -1, -1, -1, -1, -...</td>\n",
       "    </tr>\n",
       "    <tr>\n",
       "      <th>1</th>\n",
       "      <td>BRD4</td>\n",
       "      <td>GACGTCAGTGCGCTGGCGGCGGCGGCGGCGGCGGCGGCGGCGGCTG...</td>\n",
       "      <td>DVSALAAAAAAAAAAGLFVLVSRSRGAEAVAAAAAAAAAGGARGRA...</td>\n",
       "      <td>GACGTCAGTGCGCTGGCGGCGGCGGCGGCGGCGGCGGCGGCGGCTG...</td>\n",
       "      <td>[2, 0, 1, 2, 3, 1, 0, 2, 3, 2, 1, 2, 1, 3, 2, ...</td>\n",
       "      <td>97027</td>\n",
       "      <td>459570</td>\n",
       "      <td>[-1, -1, -1, -1, -1, -1, -1, -1, -1, -1, -1, -...</td>\n",
       "    </tr>\n",
       "    <tr>\n",
       "      <th>2</th>\n",
       "      <td>BRD2</td>\n",
       "      <td>GGCCAAATCGTCTTCAGAGTCCTCCAGTGAGGAAAGTAGCAGTGAG...</td>\n",
       "      <td>GQIVFRVLQ*GK*Q*ELL*GRGGGR*GRGGRRE*KLRLRGRKGSSL...</td>\n",
       "      <td>GGCCAAATCGTCTTCAGAGTCCTCCAGTGAGGAAAGTAGCAGTGAG...</td>\n",
       "      <td>[2, 2, 1, 1, 0, 0, 0, 3, 1, 2, 3, 1, 3, 3, 1, ...</td>\n",
       "      <td>3660</td>\n",
       "      <td>552937</td>\n",
       "      <td>[-1, -1, -1, -1, -1, -1, -1, -1, -1, -1, -1, -...</td>\n",
       "    </tr>\n",
       "    <tr>\n",
       "      <th>3</th>\n",
       "      <td>CWC27</td>\n",
       "      <td>AGCGGTGCTCGGGTCCGGTAACAACATGGCGGCGTCCGTGAGGGGC...</td>\n",
       "      <td>SGARVR*QHGGVREGLLWAGVVFGVPVLRDIDKLKLSCTTGLKEEC...</td>\n",
       "      <td>AGCGGTGCTCGGGTCCGGTAACAACATGGCGGCGTCCGTGAGGGGC...</td>\n",
       "      <td>[0, 2, 1, 2, 2, 3, 2, 1, 3, 1, 2, 2, 2, 3, 1, ...</td>\n",
       "      <td>249821</td>\n",
       "      <td>306776</td>\n",
       "      <td>[-1, -1, -1, -1, -1, -1, -1, -1, -1, -1, -1, -...</td>\n",
       "    </tr>\n",
       "    <tr>\n",
       "      <th>4</th>\n",
       "      <td>ZC3H18</td>\n",
       "      <td>AGGACTACCGTCGCGGCCTGATGACGTCGCACAATGGCCGGCCCCC...</td>\n",
       "      <td>RTTVAA**RRTMAGPRG*WSPFVPPVSSLEPEPVKSGRAKGRLLHA...</td>\n",
       "      <td>AGGACTACCGTCGCGGCCTGATGACGTCGCACAATGGCCGGCCCCC...</td>\n",
       "      <td>[0, 2, 2, 0, 1, 3, 0, 1, 1, 2, 3, 1, 2, 1, 2, ...</td>\n",
       "      <td>61586</td>\n",
       "      <td>495011</td>\n",
       "      <td>[-1, -1, -1, -1, -1, -1, -1, -1, -1, -1, -1, -...</td>\n",
       "    </tr>\n",
       "    <tr>\n",
       "      <th>...</th>\n",
       "      <td>...</td>\n",
       "      <td>...</td>\n",
       "      <td>...</td>\n",
       "      <td>...</td>\n",
       "      <td>...</td>\n",
       "      <td>...</td>\n",
       "      <td>...</td>\n",
       "      <td>...</td>\n",
       "    </tr>\n",
       "    <tr>\n",
       "      <th>325</th>\n",
       "      <td>BCS1L</td>\n",
       "      <td>AAGGAGGACGCTGAGCCGTCAAGATTAAGAACCTTCACCTGCGGGA...</td>\n",
       "      <td>KEDAEPSRLRTFTCGRAG*GRRQVGTREEIRLSSGQEG*GRERTD*...</td>\n",
       "      <td>AAGGAGGACGCTGAGCCGTCAAGATTAAGAACCTTCACCTGCGGGA...</td>\n",
       "      <td>[0, 0, 2, 2, 0, 2, 2, 0, 1, 2, 1, 3, 2, 0, 2, ...</td>\n",
       "      <td>4680</td>\n",
       "      <td>551917</td>\n",
       "      <td>[-1, -1, -1, -1, -1, -1, -1, -1, -1, -1, -1, -...</td>\n",
       "    </tr>\n",
       "    <tr>\n",
       "      <th>326</th>\n",
       "      <td>NDUFAF1</td>\n",
       "      <td>GGAAGGGAAAAGCAGATGGACCTATACGGGTAAAGTGGCTTCTGGG...</td>\n",
       "      <td>GREKQMDLYG*SGFWAEGTL*ARGGKRRQAGGWCVPGVGRRQSPGT...</td>\n",
       "      <td>GGAAGGGAAAAGCAGATGGACCTATACGGGTAAAGTGGCTTCTGGG...</td>\n",
       "      <td>[2, 2, 0, 0, 2, 2, 2, 0, 0, 0, 0, 2, 1, 0, 2, ...</td>\n",
       "      <td>15167</td>\n",
       "      <td>541430</td>\n",
       "      <td>[-1, -1, -1, -1, -1, -1, -1, -1, -1, -1, -1, -...</td>\n",
       "    </tr>\n",
       "    <tr>\n",
       "      <th>327</th>\n",
       "      <td>TMED5</td>\n",
       "      <td>GTCAGGGGGAGAGGCGGGCGGCGCTCACGCCTGGCCTGAGGGGGCC...</td>\n",
       "      <td>VRGRGGRRSRLA*GGRD*GGCGIGLLAPPRVPTLWRTALLFRRECS...</td>\n",
       "      <td>GTCAGGGGGAGAGGCGGGCGGCGCTCACGCCTGGCCTGAGGGGGCC...</td>\n",
       "      <td>[2, 3, 1, 0, 2, 2, 2, 2, 2, 0, 2, 0, 2, 2, 1, ...</td>\n",
       "      <td>30775</td>\n",
       "      <td>525822</td>\n",
       "      <td>[-1, -1, -1, -1, -1, -1, -1, -1, -1, -1, -1, -...</td>\n",
       "    </tr>\n",
       "    <tr>\n",
       "      <th>328</th>\n",
       "      <td>NDUFB9</td>\n",
       "      <td>GCCCTTCCGGCTGGCCCCGCTCAGTCACCCGCAGCAGGCGTGCAGT...</td>\n",
       "      <td>ALPAGPAQSPAAGVQFPGSPRGRGRSAP*WRSWRRDPT*PISKRCC...</td>\n",
       "      <td>GCCCTTCCGGCTGGCCCCGCTCAGTCACCCGCAGCAGGCGTGCAGT...</td>\n",
       "      <td>[2, 1, 1, 1, 3, 3, 1, 1, 2, 2, 1, 3, 2, 2, 1, ...</td>\n",
       "      <td>41548</td>\n",
       "      <td>515049</td>\n",
       "      <td>[-1, -1, -1, -1, -1, -1, -1, -1, -1, -1, -1, -...</td>\n",
       "    </tr>\n",
       "    <tr>\n",
       "      <th>329</th>\n",
       "      <td>PIGS</td>\n",
       "      <td>TGCGGGGCTAGAAGTGTGTTCTACAGGGAAGCGGGGAACTTCGTTC...</td>\n",
       "      <td>CGARSVFYREAGNFVPAAPKPARPLGCPSAPG*LPFRSPAKLPAEP...</td>\n",
       "      <td>TGCGGGGCTAGAAGTGTGTTCTACAGGGAAGCGGGGAACTTCGTTC...</td>\n",
       "      <td>[3, 2, 1, 2, 2, 2, 2, 1, 3, 0, 2, 0, 0, 2, 3, ...</td>\n",
       "      <td>18412</td>\n",
       "      <td>538185</td>\n",
       "      <td>[-1, -1, -1, -1, -1, -1, -1, -1, -1, -1, -1, -...</td>\n",
       "    </tr>\n",
       "  </tbody>\n",
       "</table>\n",
       "<p>330 rows × 8 columns</p>\n",
       "</div>"
      ],
      "text/plain": [
       "    hgnc_symbol                                      gene_sequence  \\\n",
       "0         AP3B1  ACTGCGCATGCGCAGGGGGTGGACTGCCAGGTCGGCTCAGGGAGCC...   \n",
       "1          BRD4  GACGTCAGTGCGCTGGCGGCGGCGGCGGCGGCGGCGGCGGCGGCTG...   \n",
       "2          BRD2  GGCCAAATCGTCTTCAGAGTCCTCCAGTGAGGAAAGTAGCAGTGAG...   \n",
       "3         CWC27  AGCGGTGCTCGGGTCCGGTAACAACATGGCGGCGTCCGTGAGGGGC...   \n",
       "4        ZC3H18  AGGACTACCGTCGCGGCCTGATGACGTCGCACAATGGCCGGCCCCC...   \n",
       "..          ...                                                ...   \n",
       "325       BCS1L  AAGGAGGACGCTGAGCCGTCAAGATTAAGAACCTTCACCTGCGGGA...   \n",
       "326     NDUFAF1  GGAAGGGAAAAGCAGATGGACCTATACGGGTAAAGTGGCTTCTGGG...   \n",
       "327       TMED5  GTCAGGGGGAGAGGCGGGCGGCGCTCACGCCTGGCCTGAGGGGGCC...   \n",
       "328      NDUFB9  GCCCTTCCGGCTGGCCCCGCTCAGTCACCCGCAGCAGGCGTGCAGT...   \n",
       "329        PIGS  TGCGGGGCTAGAAGTGTGTTCTACAGGGAAGCGGGGAACTTCGTTC...   \n",
       "\n",
       "                                   amino_acid_sequence  \\\n",
       "0    TAHAQGVDCQVGSGSRDESGSACARSSVRELVLFRALWTGTFWREP...   \n",
       "1    DVSALAAAAAAAAAAGLFVLVSRSRGAEAVAAAAAAAAAGGARGRA...   \n",
       "2    GQIVFRVLQ*GK*Q*ELL*GRGGGR*GRGGRRE*KLRLRGRKGSSL...   \n",
       "3    SGARVR*QHGGVREGLLWAGVVFGVPVLRDIDKLKLSCTTGLKEEC...   \n",
       "4    RTTVAA**RRTMAGPRG*WSPFVPPVSSLEPEPVKSGRAKGRLLHA...   \n",
       "..                                                 ...   \n",
       "325  KEDAEPSRLRTFTCGRAG*GRRQVGTREEIRLSSGQEG*GRERTD*...   \n",
       "326  GREKQMDLYG*SGFWAEGTL*ARGGKRRQAGGWCVPGVGRRQSPGT...   \n",
       "327  VRGRGGRRSRLA*GGRD*GGCGIGLLAPPRVPTLWRTALLFRRECS...   \n",
       "328  ALPAGPAQSPAAGVQFPGSPRGRGRSAP*WRSWRRDPT*PISKRCC...   \n",
       "329  CGARSVFYREAGNFVPAAPKPARPLGCPSAPG*LPFRSPAKLPAEP...   \n",
       "\n",
       "                                      target_gene_code  \\\n",
       "0    ACTGCGCATGCGCAGGGGGTGGACTGCCAGGTCGGCTCAGGGAGCC...   \n",
       "1    GACGTCAGTGCGCTGGCGGCGGCGGCGGCGGCGGCGGCGGCGGCTG...   \n",
       "2    GGCCAAATCGTCTTCAGAGTCCTCCAGTGAGGAAAGTAGCAGTGAG...   \n",
       "3    AGCGGTGCTCGGGTCCGGTAACAACATGGCGGCGTCCGTGAGGGGC...   \n",
       "4    AGGACTACCGTCGCGGCCTGATGACGTCGCACAATGGCCGGCCCCC...   \n",
       "..                                                 ...   \n",
       "325  AAGGAGGACGCTGAGCCGTCAAGATTAAGAACCTTCACCTGCGGGA...   \n",
       "326  GGAAGGGAAAAGCAGATGGACCTATACGGGTAAAGTGGCTTCTGGG...   \n",
       "327  GTCAGGGGGAGAGGCGGGCGGCGCTCACGCCTGGCCTGAGGGGGCC...   \n",
       "328  GCCCTTCCGGCTGGCCCCGCTCAGTCACCCGCAGCAGGCGTGCAGT...   \n",
       "329  TGCGGGGCTAGAAGTGTGTTCTACAGGGAAGCGGGGAACTTCGTTC...   \n",
       "\n",
       "                                   target_gene_encoded  \\\n",
       "0    [0, 1, 3, 2, 1, 2, 1, 0, 3, 2, 1, 2, 1, 0, 2, ...   \n",
       "1    [2, 0, 1, 2, 3, 1, 0, 2, 3, 2, 1, 2, 1, 3, 2, ...   \n",
       "2    [2, 2, 1, 1, 0, 0, 0, 3, 1, 2, 3, 1, 3, 3, 1, ...   \n",
       "3    [0, 2, 1, 2, 2, 3, 2, 1, 3, 1, 2, 2, 2, 3, 1, ...   \n",
       "4    [0, 2, 2, 0, 1, 3, 0, 1, 1, 2, 3, 1, 2, 1, 2, ...   \n",
       "..                                                 ...   \n",
       "325  [0, 0, 2, 2, 0, 2, 2, 0, 1, 2, 1, 3, 2, 0, 2, ...   \n",
       "326  [2, 2, 0, 0, 2, 2, 2, 0, 0, 0, 0, 2, 1, 0, 2, ...   \n",
       "327  [2, 3, 1, 0, 2, 2, 2, 2, 2, 0, 2, 0, 2, 2, 1, ...   \n",
       "328  [2, 1, 1, 1, 3, 3, 1, 1, 2, 2, 1, 3, 2, 2, 1, ...   \n",
       "329  [3, 2, 1, 2, 2, 2, 2, 1, 3, 0, 2, 0, 0, 2, 3, ...   \n",
       "\n",
       "     target_gene_encoded_len  target_gene_encoded_mismatch  \\\n",
       "0                     294231                        262366   \n",
       "1                      97027                        459570   \n",
       "2                       3660                        552937   \n",
       "3                     249821                        306776   \n",
       "4                      61586                        495011   \n",
       "..                       ...                           ...   \n",
       "325                     4680                        551917   \n",
       "326                    15167                        541430   \n",
       "327                    30775                        525822   \n",
       "328                    41548                        515049   \n",
       "329                    18412                        538185   \n",
       "\n",
       "                            target_gene_encoded_padded  \n",
       "0    [-1, -1, -1, -1, -1, -1, -1, -1, -1, -1, -1, -...  \n",
       "1    [-1, -1, -1, -1, -1, -1, -1, -1, -1, -1, -1, -...  \n",
       "2    [-1, -1, -1, -1, -1, -1, -1, -1, -1, -1, -1, -...  \n",
       "3    [-1, -1, -1, -1, -1, -1, -1, -1, -1, -1, -1, -...  \n",
       "4    [-1, -1, -1, -1, -1, -1, -1, -1, -1, -1, -1, -...  \n",
       "..                                                 ...  \n",
       "325  [-1, -1, -1, -1, -1, -1, -1, -1, -1, -1, -1, -...  \n",
       "326  [-1, -1, -1, -1, -1, -1, -1, -1, -1, -1, -1, -...  \n",
       "327  [-1, -1, -1, -1, -1, -1, -1, -1, -1, -1, -1, -...  \n",
       "328  [-1, -1, -1, -1, -1, -1, -1, -1, -1, -1, -1, -...  \n",
       "329  [-1, -1, -1, -1, -1, -1, -1, -1, -1, -1, -1, -...  \n",
       "\n",
       "[330 rows x 8 columns]"
      ]
     },
     "execution_count": 27,
     "metadata": {},
     "output_type": "execute_result"
    }
   ],
   "source": [
    "corona_gene_df"
   ]
  },
  {
   "cell_type": "markdown",
   "metadata": {},
   "source": [
    "## Prediction"
   ]
  },
  {
   "cell_type": "code",
   "execution_count": 29,
   "metadata": {},
   "outputs": [],
   "source": [
    "X_0 = np.array(corona_gene_df['target_gene_encoded_padded'].tolist())\n",
    "X_1 = np.array(ndm_df['drug_fingerprint_encoded_padded'].tolist())"
   ]
  },
  {
   "cell_type": "code",
   "execution_count": 30,
   "metadata": {},
   "outputs": [
    {
     "data": {
      "text/plain": [
       "((330, 556597), (19169, 8072))"
      ]
     },
     "execution_count": 30,
     "metadata": {},
     "output_type": "execute_result"
    }
   ],
   "source": [
    "X_0.shape,X_1.shape"
   ]
  },
  {
   "cell_type": "code",
   "execution_count": 31,
   "metadata": {},
   "outputs": [],
   "source": [
    "X_0_subset_smaller = X_0[:50,:30000]\n",
    "X_1_subset = X_1[:5000,:]"
   ]
  },
  {
   "cell_type": "code",
   "execution_count": 32,
   "metadata": {
    "scrolled": true
   },
   "outputs": [],
   "source": [
    "X_0 = np.vectorize(lambda x: int(x))(X_0)\n",
    "X_0_subset_smaller = np.vectorize(lambda x: int(x))(X_0_subset_smaller)\n",
    "X_1 = np.vectorize(lambda x: int(x))(X_1)\n",
    "X_1_subset = np.vectorize(lambda x: int(x))(X_1_subset)"
   ]
  },
  {
   "cell_type": "code",
   "execution_count": 33,
   "metadata": {},
   "outputs": [],
   "source": [
    "def generate_pairs(X_0, X_1, target_length):\n",
    "    X = np.ones((X_0.shape[0] * X_1.shape[0], X_0.shape[1] + X_1.shape[1]))\n",
    "    for i in tqdm(range(X_0.shape[0])):\n",
    "        for j in range(X_1.shape[0]):\n",
    "            X[int((X_1.shape[0]*i)+j),:] = np.hstack((X_0[i,:], X_1[j,:])) + 1\n",
    "    return X"
   ]
  },
  {
   "cell_type": "code",
   "execution_count": 34,
   "metadata": {},
   "outputs": [],
   "source": [
    "target_length = 30723"
   ]
  },
  {
   "cell_type": "code",
   "execution_count": 35,
   "metadata": {},
   "outputs": [
    {
     "data": {
      "application/vnd.jupyter.widget-view+json": {
       "model_id": "86a6073d4d354e99a43af5c3e97a524b",
       "version_major": 2,
       "version_minor": 0
      },
      "text/plain": [
       "HBox(children=(FloatProgress(value=0.0, max=50.0), HTML(value='')))"
      ]
     },
     "metadata": {},
     "output_type": "display_data"
    },
    {
     "name": "stdout",
     "output_type": "stream",
     "text": [
      "\n"
     ]
    }
   ],
   "source": [
    "X = generate_pairs(X_0_subset_smaller, X_1_subset, target_length = target_length)"
   ]
  },
  {
   "cell_type": "code",
   "execution_count": 36,
   "metadata": {},
   "outputs": [],
   "source": [
    "#Middle out trimming\n",
    "#target_length = 30723\n",
    "X = X[:, (int(X.shape[1]/2) - int(target_length/2)):(int(X.shape[1]/2) + int(target_length/2)) + 1]"
   ]
  },
  {
   "cell_type": "code",
   "execution_count": 37,
   "metadata": {},
   "outputs": [],
   "source": [
    "#Side trimmming\n",
    "#target_length = 30723\n",
    "#X = X[:, :target_length]"
   ]
  },
  {
   "cell_type": "code",
   "execution_count": 38,
   "metadata": {},
   "outputs": [
    {
     "data": {
      "text/plain": [
       "(250000, 30723)"
      ]
     },
     "execution_count": 38,
     "metadata": {},
     "output_type": "execute_result"
    }
   ],
   "source": [
    "X.shape"
   ]
  },
  {
   "cell_type": "code",
   "execution_count": 39,
   "metadata": {},
   "outputs": [],
   "source": [
    "from tensorflow import keras\n",
    "\n",
    "use_model = keras.models.load_model('models/CNN_GPU_VGG_rebalance.model')"
   ]
  },
  {
   "cell_type": "code",
   "execution_count": 40,
   "metadata": {},
   "outputs": [],
   "source": [
    "# use_model = keras.models.load_model('models/CNN_GPU_VGG_87p.model')"
   ]
  },
  {
   "cell_type": "code",
   "execution_count": 49,
   "metadata": {
    "collapsed": true
   },
   "outputs": [
    {
     "ename": "ResourceExhaustedError",
     "evalue": "OOM when allocating tensor with shape[32,1,5121,64] and type float on /job:localhost/replica:0/task:0/device:GPU:0 by allocator GPU_0_bfc\n\t [[{{node conv1d_7_1/conv1d/Conv2D-0-0-TransposeNCHWToNHWC-LayoutOptimizer}} = Transpose[T=DT_FLOAT, Tperm=DT_INT32, _device=\"/job:localhost/replica:0/task:0/device:GPU:0\"](conv1d_7_1/conv1d/Conv2D, PermConstNCHWToNHWC-LayoutOptimizer)]]\nHint: If you want to see a list of allocated tensors when OOM happens, add report_tensor_allocations_upon_oom to RunOptions for current allocation info.\n\n\t [[{{node activation_1_1/Sigmoid/_1435}} = _Recv[client_terminated=false, recv_device=\"/job:localhost/replica:0/task:0/device:CPU:0\", send_device=\"/job:localhost/replica:0/task:0/device:GPU:0\", send_device_incarnation=1, tensor_name=\"edge_292_activation_1_1/Sigmoid\", tensor_type=DT_FLOAT, _device=\"/job:localhost/replica:0/task:0/device:CPU:0\"]()]]\nHint: If you want to see a list of allocated tensors when OOM happens, add report_tensor_allocations_upon_oom to RunOptions for current allocation info.\n",
     "output_type": "error",
     "traceback": [
      "\u001b[0;31m---------------------------------------------------------------------------\u001b[0m",
      "\u001b[0;31mResourceExhaustedError\u001b[0m                    Traceback (most recent call last)",
      "\u001b[0;32m<ipython-input-49-c94d85f0ac9d>\u001b[0m in \u001b[0;36m<module>\u001b[0;34m\u001b[0m\n\u001b[0;32m----> 1\u001b[0;31m \u001b[0mY\u001b[0m \u001b[0;34m=\u001b[0m \u001b[0muse_model\u001b[0m\u001b[0;34m.\u001b[0m\u001b[0mpredict\u001b[0m\u001b[0;34m(\u001b[0m\u001b[0mX\u001b[0m\u001b[0;34m[\u001b[0m\u001b[0;34m...\u001b[0m\u001b[0;34m,\u001b[0m \u001b[0mnp\u001b[0m\u001b[0;34m.\u001b[0m\u001b[0mnewaxis\u001b[0m\u001b[0;34m]\u001b[0m\u001b[0;34m)\u001b[0m\u001b[0;34m\u001b[0m\u001b[0m\n\u001b[0m",
      "\u001b[0;32m/miniconda/lib/python3.6/site-packages/tensorflow/python/keras/engine/training.py\u001b[0m in \u001b[0;36mpredict\u001b[0;34m(self, x, batch_size, verbose, steps, max_queue_size, workers, use_multiprocessing)\u001b[0m\n\u001b[1;32m   1876\u001b[0m     \u001b[0;32melse\u001b[0m\u001b[0;34m:\u001b[0m\u001b[0;34m\u001b[0m\u001b[0m\n\u001b[1;32m   1877\u001b[0m       return training_arrays.predict_loop(\n\u001b[0;32m-> 1878\u001b[0;31m           self, x, batch_size=batch_size, verbose=verbose, steps=steps)\n\u001b[0m\u001b[1;32m   1879\u001b[0m \u001b[0;34m\u001b[0m\u001b[0m\n\u001b[1;32m   1880\u001b[0m   \u001b[0;32mdef\u001b[0m \u001b[0mtrain_on_batch\u001b[0m\u001b[0;34m(\u001b[0m\u001b[0mself\u001b[0m\u001b[0;34m,\u001b[0m \u001b[0mx\u001b[0m\u001b[0;34m,\u001b[0m \u001b[0my\u001b[0m\u001b[0;34m=\u001b[0m\u001b[0;32mNone\u001b[0m\u001b[0;34m,\u001b[0m \u001b[0msample_weight\u001b[0m\u001b[0;34m=\u001b[0m\u001b[0;32mNone\u001b[0m\u001b[0;34m,\u001b[0m \u001b[0mclass_weight\u001b[0m\u001b[0;34m=\u001b[0m\u001b[0;32mNone\u001b[0m\u001b[0;34m)\u001b[0m\u001b[0;34m:\u001b[0m\u001b[0;34m\u001b[0m\u001b[0m\n",
      "\u001b[0;32m/miniconda/lib/python3.6/site-packages/tensorflow/python/keras/engine/training_arrays.py\u001b[0m in \u001b[0;36mpredict_loop\u001b[0;34m(model, inputs, batch_size, verbose, steps)\u001b[0m\n\u001b[1;32m    324\u001b[0m         \u001b[0mins_batch\u001b[0m\u001b[0;34m[\u001b[0m\u001b[0mi\u001b[0m\u001b[0;34m]\u001b[0m \u001b[0;34m=\u001b[0m \u001b[0mins_batch\u001b[0m\u001b[0;34m[\u001b[0m\u001b[0mi\u001b[0m\u001b[0;34m]\u001b[0m\u001b[0;34m.\u001b[0m\u001b[0mtoarray\u001b[0m\u001b[0;34m(\u001b[0m\u001b[0;34m)\u001b[0m\u001b[0;34m\u001b[0m\u001b[0m\n\u001b[1;32m    325\u001b[0m \u001b[0;34m\u001b[0m\u001b[0m\n\u001b[0;32m--> 326\u001b[0;31m       \u001b[0mbatch_outs\u001b[0m \u001b[0;34m=\u001b[0m \u001b[0mf\u001b[0m\u001b[0;34m(\u001b[0m\u001b[0mins_batch\u001b[0m\u001b[0;34m)\u001b[0m\u001b[0;34m\u001b[0m\u001b[0m\n\u001b[0m\u001b[1;32m    327\u001b[0m       \u001b[0;32mif\u001b[0m \u001b[0;32mnot\u001b[0m \u001b[0misinstance\u001b[0m\u001b[0;34m(\u001b[0m\u001b[0mbatch_outs\u001b[0m\u001b[0;34m,\u001b[0m \u001b[0mlist\u001b[0m\u001b[0;34m)\u001b[0m\u001b[0;34m:\u001b[0m\u001b[0;34m\u001b[0m\u001b[0m\n\u001b[1;32m    328\u001b[0m         \u001b[0mbatch_outs\u001b[0m \u001b[0;34m=\u001b[0m \u001b[0;34m[\u001b[0m\u001b[0mbatch_outs\u001b[0m\u001b[0;34m]\u001b[0m\u001b[0;34m\u001b[0m\u001b[0m\n",
      "\u001b[0;32m/miniconda/lib/python3.6/site-packages/tensorflow/python/keras/backend.py\u001b[0m in \u001b[0;36m__call__\u001b[0;34m(self, inputs)\u001b[0m\n\u001b[1;32m   2984\u001b[0m \u001b[0;34m\u001b[0m\u001b[0m\n\u001b[1;32m   2985\u001b[0m     fetched = self._callable_fn(*array_vals,\n\u001b[0;32m-> 2986\u001b[0;31m                                 run_metadata=self.run_metadata)\n\u001b[0m\u001b[1;32m   2987\u001b[0m     \u001b[0mself\u001b[0m\u001b[0;34m.\u001b[0m\u001b[0m_call_fetch_callbacks\u001b[0m\u001b[0;34m(\u001b[0m\u001b[0mfetched\u001b[0m\u001b[0;34m[\u001b[0m\u001b[0;34m-\u001b[0m\u001b[0mlen\u001b[0m\u001b[0;34m(\u001b[0m\u001b[0mself\u001b[0m\u001b[0;34m.\u001b[0m\u001b[0m_fetches\u001b[0m\u001b[0;34m)\u001b[0m\u001b[0;34m:\u001b[0m\u001b[0;34m]\u001b[0m\u001b[0;34m)\u001b[0m\u001b[0;34m\u001b[0m\u001b[0m\n\u001b[1;32m   2988\u001b[0m     \u001b[0;32mreturn\u001b[0m \u001b[0mfetched\u001b[0m\u001b[0;34m[\u001b[0m\u001b[0;34m:\u001b[0m\u001b[0mlen\u001b[0m\u001b[0;34m(\u001b[0m\u001b[0mself\u001b[0m\u001b[0;34m.\u001b[0m\u001b[0moutputs\u001b[0m\u001b[0;34m)\u001b[0m\u001b[0;34m]\u001b[0m\u001b[0;34m\u001b[0m\u001b[0m\n",
      "\u001b[0;32m/miniconda/lib/python3.6/site-packages/tensorflow/python/client/session.py\u001b[0m in \u001b[0;36m__call__\u001b[0;34m(self, *args, **kwargs)\u001b[0m\n\u001b[1;32m   1437\u001b[0m           ret = tf_session.TF_SessionRunCallable(\n\u001b[1;32m   1438\u001b[0m               \u001b[0mself\u001b[0m\u001b[0;34m.\u001b[0m\u001b[0m_session\u001b[0m\u001b[0;34m.\u001b[0m\u001b[0m_session\u001b[0m\u001b[0;34m,\u001b[0m \u001b[0mself\u001b[0m\u001b[0;34m.\u001b[0m\u001b[0m_handle\u001b[0m\u001b[0;34m,\u001b[0m \u001b[0margs\u001b[0m\u001b[0;34m,\u001b[0m \u001b[0mstatus\u001b[0m\u001b[0;34m,\u001b[0m\u001b[0;34m\u001b[0m\u001b[0m\n\u001b[0;32m-> 1439\u001b[0;31m               run_metadata_ptr)\n\u001b[0m\u001b[1;32m   1440\u001b[0m         \u001b[0;32mif\u001b[0m \u001b[0mrun_metadata\u001b[0m\u001b[0;34m:\u001b[0m\u001b[0;34m\u001b[0m\u001b[0m\n\u001b[1;32m   1441\u001b[0m           \u001b[0mproto_data\u001b[0m \u001b[0;34m=\u001b[0m \u001b[0mtf_session\u001b[0m\u001b[0;34m.\u001b[0m\u001b[0mTF_GetBuffer\u001b[0m\u001b[0;34m(\u001b[0m\u001b[0mrun_metadata_ptr\u001b[0m\u001b[0;34m)\u001b[0m\u001b[0;34m\u001b[0m\u001b[0m\n",
      "\u001b[0;32m/miniconda/lib/python3.6/site-packages/tensorflow/python/framework/errors_impl.py\u001b[0m in \u001b[0;36m__exit__\u001b[0;34m(self, type_arg, value_arg, traceback_arg)\u001b[0m\n\u001b[1;32m    526\u001b[0m             \u001b[0;32mNone\u001b[0m\u001b[0;34m,\u001b[0m \u001b[0;32mNone\u001b[0m\u001b[0;34m,\u001b[0m\u001b[0;34m\u001b[0m\u001b[0m\n\u001b[1;32m    527\u001b[0m             \u001b[0mcompat\u001b[0m\u001b[0;34m.\u001b[0m\u001b[0mas_text\u001b[0m\u001b[0;34m(\u001b[0m\u001b[0mc_api\u001b[0m\u001b[0;34m.\u001b[0m\u001b[0mTF_Message\u001b[0m\u001b[0;34m(\u001b[0m\u001b[0mself\u001b[0m\u001b[0;34m.\u001b[0m\u001b[0mstatus\u001b[0m\u001b[0;34m.\u001b[0m\u001b[0mstatus\u001b[0m\u001b[0;34m)\u001b[0m\u001b[0;34m)\u001b[0m\u001b[0;34m,\u001b[0m\u001b[0;34m\u001b[0m\u001b[0m\n\u001b[0;32m--> 528\u001b[0;31m             c_api.TF_GetCode(self.status.status))\n\u001b[0m\u001b[1;32m    529\u001b[0m     \u001b[0;31m# Delete the underlying status object from memory otherwise it stays alive\u001b[0m\u001b[0;34m\u001b[0m\u001b[0;34m\u001b[0m\u001b[0m\n\u001b[1;32m    530\u001b[0m     \u001b[0;31m# as there is a reference to status from this from the traceback due to\u001b[0m\u001b[0;34m\u001b[0m\u001b[0;34m\u001b[0m\u001b[0m\n",
      "\u001b[0;31mResourceExhaustedError\u001b[0m: OOM when allocating tensor with shape[32,1,5121,64] and type float on /job:localhost/replica:0/task:0/device:GPU:0 by allocator GPU_0_bfc\n\t [[{{node conv1d_7_1/conv1d/Conv2D-0-0-TransposeNCHWToNHWC-LayoutOptimizer}} = Transpose[T=DT_FLOAT, Tperm=DT_INT32, _device=\"/job:localhost/replica:0/task:0/device:GPU:0\"](conv1d_7_1/conv1d/Conv2D, PermConstNCHWToNHWC-LayoutOptimizer)]]\nHint: If you want to see a list of allocated tensors when OOM happens, add report_tensor_allocations_upon_oom to RunOptions for current allocation info.\n\n\t [[{{node activation_1_1/Sigmoid/_1435}} = _Recv[client_terminated=false, recv_device=\"/job:localhost/replica:0/task:0/device:CPU:0\", send_device=\"/job:localhost/replica:0/task:0/device:GPU:0\", send_device_incarnation=1, tensor_name=\"edge_292_activation_1_1/Sigmoid\", tensor_type=DT_FLOAT, _device=\"/job:localhost/replica:0/task:0/device:CPU:0\"]()]]\nHint: If you want to see a list of allocated tensors when OOM happens, add report_tensor_allocations_upon_oom to RunOptions for current allocation info.\n"
     ]
    }
   ],
   "source": [
    "Y = use_model.predict(X[..., np.newaxis])"
   ]
  },
  {
   "cell_type": "code",
   "execution_count": 66,
   "metadata": {},
   "outputs": [
    {
     "data": {
      "application/vnd.jupyter.widget-view+json": {
       "model_id": "9c3449070dc4491eb62b46b4d9d013b1",
       "version_major": 2,
       "version_minor": 0
      },
      "text/plain": [
       "HBox(children=(FloatProgress(value=0.0, max=10000.0), HTML(value='')))"
      ]
     },
     "metadata": {},
     "output_type": "display_data"
    },
    {
     "name": "stdout",
     "output_type": "stream",
     "text": [
      "\n"
     ]
    }
   ],
   "source": [
    "for X_sub in tqdm(np.array_split(X,10000)): \n",
    "    \n",
    "    #print(X_sub.shape)\n",
    "    Y = np.vstack((Y, use_model.predict(X_sub[..., np.newaxis])))"
   ]
  },
  {
   "cell_type": "code",
   "execution_count": 67,
   "metadata": {},
   "outputs": [
    {
     "data": {
      "text/plain": [
       "Text(0,0.5,'Number of Pairs')"
      ]
     },
     "execution_count": 67,
     "metadata": {},
     "output_type": "execute_result"
    },
    {
     "data": {
      "image/png": "[encoded data removed]",
      "text/plain": [
       "<Figure size 432x288 with 1 Axes>"
      ]
     },
     "metadata": {
      "needs_background": "light"
     },
     "output_type": "display_data"
    }
   ],
   "source": [
    "plt.hist(Y, bins = 100, log = True)\n",
    "plt.xlabel('Predicted Score of Binding')\n",
    "plt.ylabel('Number of Pairs')"
   ]
  },
  {
   "cell_type": "code",
   "execution_count": 73,
   "metadata": {},
   "outputs": [
    {
     "data": {
      "text/plain": [
       "115"
      ]
     },
     "execution_count": 73,
     "metadata": {},
     "output_type": "execute_result"
    }
   ],
   "source": [
    "len(np.where(Y > 0.8)[0])"
   ]
  },
  {
   "cell_type": "code",
   "execution_count": 72,
   "metadata": {},
   "outputs": [
    {
     "data": {
      "text/plain": [
       "(array([251725, 254187, 256725, 259187, 261725, 264187, 266725, 269187,\n",
       "        271725, 274187, 276725, 279187, 281725, 284225, 286687, 289975,\n",
       "        292437, 294975, 297437, 299975, 302437, 304975, 307437, 309975,\n",
       "        312437, 314975, 317437, 319975, 322437, 324975, 327437, 329975,\n",
       "        332437, 334975, 337437, 339975, 342437, 344975, 347437, 349975,\n",
       "        352437, 354975, 357437, 359975, 362437, 364975, 367437, 369975,\n",
       "        372437, 374975, 377437, 379975, 382437, 384975, 387437, 389975,\n",
       "        392437, 394975, 397437, 399975, 402437, 404975, 407437, 409975,\n",
       "        412437, 414975, 417437, 419975, 422437, 424975, 427437, 429975,\n",
       "        432437, 434975, 437437, 439975, 442437, 444975, 447437, 449975,\n",
       "        452437, 454975, 457437, 459975, 462437, 464975, 467437, 469975,\n",
       "        472437, 474975, 477437, 479975, 482437, 484975, 487437, 489975,\n",
       "        492437, 494975, 497437, 499975, 502437, 504975, 507437, 509975,\n",
       "        512437, 514975, 517437, 519975, 522437, 524975, 527437, 529975,\n",
       "        532437, 534975, 537437]),\n",
       " array([0, 0, 0, 0, 0, 0, 0, 0, 0, 0, 0, 0, 0, 0, 0, 0, 0, 0, 0, 0, 0, 0,\n",
       "        0, 0, 0, 0, 0, 0, 0, 0, 0, 0, 0, 0, 0, 0, 0, 0, 0, 0, 0, 0, 0, 0,\n",
       "        0, 0, 0, 0, 0, 0, 0, 0, 0, 0, 0, 0, 0, 0, 0, 0, 0, 0, 0, 0, 0, 0,\n",
       "        0, 0, 0, 0, 0, 0, 0, 0, 0, 0, 0, 0, 0, 0, 0, 0, 0, 0, 0, 0, 0, 0,\n",
       "        0, 0, 0, 0, 0, 0, 0, 0, 0, 0, 0, 0, 0, 0, 0, 0, 0, 0, 0, 0, 0, 0,\n",
       "        0, 0, 0, 0, 0]))"
      ]
     },
     "execution_count": 72,
     "metadata": {},
     "output_type": "execute_result"
    }
   ],
   "source": [
    "np.where(Y > 0.8)"
   ]
  },
  {
   "cell_type": "code",
   "execution_count": null,
   "metadata": {},
   "outputs": [],
   "source": []
  }
 ],
 "metadata": {
  "kernelspec": {
   "display_name": "Python 3",
   "language": "python",
   "name": "python3"
  },
  "language_info": {
   "codemirror_mode": {
    "name": "ipython",
    "version": 3
   },
   "file_extension": ".py",
   "mimetype": "text/x-python",
   "name": "python",
   "nbconvert_exporter": "python",
   "pygments_lexer": "ipython3",
   "version": "3.6.6"
  }
 },
 "nbformat": 4,
 "nbformat_minor": 2
}
