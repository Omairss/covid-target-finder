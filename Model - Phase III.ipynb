{
 "cells": [
  {
   "cell_type": "code",
   "execution_count": 1,
   "metadata": {
    "scrolled": true
   },
   "outputs": [
    {
     "data": {
      "text/plain": [
       "<module 'tensorflow' from '/miniconda/lib/python3.6/site-packages/tensorflow/__init__.py'>"
      ]
     },
     "execution_count": 1,
     "metadata": {},
     "output_type": "execute_result"
    }
   ],
   "source": [
    "import pickle as pkl\n",
    "\n",
    "import lxml\n",
    "import pandas as pd\n",
    "import numpy as np\n",
    "#import seaborn as sns\n",
    "import matplotlib.pyplot as plt\n",
    "import tensorflow.keras\n",
    "from tensorflow.keras.datasets import imdb\n",
    "\n",
    "\n",
    "from tqdm.notebook import tqdm\n",
    "\n",
    "from sklearn.metrics import confusion_matrix\n",
    "from sklearn.utils.multiclass import unique_labels\n",
    "from sklearn.metrics import f1_score\n",
    "\n",
    "from sklearn.model_selection import train_test_split\n",
    "\n",
    "from sklearn.preprocessing import LabelEncoder, OneHotEncoder\n",
    "from ast import literal_eval\n",
    "from sklearn.model_selection import train_test_split\n",
    "from sklearn.linear_model import LogisticRegression\n",
    "from sklearn.metrics import confusion_matrix, f1_score\n",
    "from tensorflow.keras.models import Sequential, Model\n",
    "from tensorflow.keras.layers import Dense, Activation, Dropout, Conv1D, Flatten, MaxPooling1D,\\\n",
    "                        AveragePooling1D, Concatenate, LeakyReLU, Embedding,\\\n",
    "                        GlobalMaxPooling1D,GlobalAveragePooling1D,GaussianNoise\n",
    "#from tensorflow.keras.utils.vis_utils import plot_model\n",
    "\n",
    "import importlib\n",
    "importlib.reload(tensorflow)"
   ]
  },
  {
   "cell_type": "code",
   "execution_count": 2,
   "metadata": {},
   "outputs": [],
   "source": [
    "tqdm.pandas()"
   ]
  },
  {
   "cell_type": "code",
   "execution_count": 3,
   "metadata": {},
   "outputs": [],
   "source": [
    "import tensorflow as tf\n",
    "with tf.Session() as sess:\n",
    "    devices = sess.list_devices()"
   ]
  },
  {
   "cell_type": "code",
   "execution_count": 4,
   "metadata": {},
   "outputs": [],
   "source": [
    "import sys"
   ]
  },
  {
   "cell_type": "code",
   "execution_count": 5,
   "metadata": {},
   "outputs": [
    {
     "name": "stdout",
     "output_type": "stream",
     "text": [
      "/miniconda/bin/python: No module named list\r\n"
     ]
    }
   ],
   "source": [
    "!{sys.executable} -m list"
   ]
  },
  {
   "cell_type": "markdown",
   "metadata": {},
   "source": [
    "### Get postive samples"
   ]
  },
  {
   "cell_type": "code",
   "execution_count": 156,
   "metadata": {
    "scrolled": true
   },
   "outputs": [],
   "source": [
    "drugbank = pkl.load(open('data/drugbank_embds.pkl', 'rb'))"
   ]
  },
  {
   "cell_type": "code",
   "execution_count": 157,
   "metadata": {},
   "outputs": [
    {
     "data": {
      "text/html": [
       "<div>\n",
       "<style scoped>\n",
       "    .dataframe tbody tr th:only-of-type {\n",
       "        vertical-align: middle;\n",
       "    }\n",
       "\n",
       "    .dataframe tbody tr th {\n",
       "        vertical-align: top;\n",
       "    }\n",
       "\n",
       "    .dataframe thead th {\n",
       "        text-align: right;\n",
       "    }\n",
       "</style>\n",
       "<table border=\"1\" class=\"dataframe\">\n",
       "  <thead>\n",
       "    <tr style=\"text-align: right;\">\n",
       "      <th></th>\n",
       "      <th>drug_cas</th>\n",
       "      <th>drug_id</th>\n",
       "      <th>drug_name</th>\n",
       "      <th>target_actions</th>\n",
       "      <th>target_amino</th>\n",
       "      <th>target_gene</th>\n",
       "      <th>target_id</th>\n",
       "      <th>target_name</th>\n",
       "      <th>target_organism</th>\n",
       "      <th>pubchem_id</th>\n",
       "      <th>pubchem_name</th>\n",
       "      <th>target_gene_fingerprint</th>\n",
       "      <th>drug_fingerprint</th>\n",
       "    </tr>\n",
       "  </thead>\n",
       "  <tbody>\n",
       "    <tr>\n",
       "      <th>31</th>\n",
       "      <td>128270-60-0</td>\n",
       "      <td>DB00006</td>\n",
       "      <td>Bivalirudin</td>\n",
       "      <td>[inhibitor]</td>\n",
       "      <td>&gt;lcl|BSEQ0016004|Prothrombin\\nMAHVRGLQLPGCLALA...</td>\n",
       "      <td>&gt;lcl|BSEQ0016005|Prothrombin (F2)\\nATGGCGCACGT...</td>\n",
       "      <td>BE0000048</td>\n",
       "      <td>Prothrombin</td>\n",
       "      <td>Human</td>\n",
       "      <td>16129704</td>\n",
       "      <td>Bivalirudin</td>\n",
       "      <td>[1.2739266e-05 -2.7748918e-05 0.00095751503 0....</td>\n",
       "      <td>[0.10044218 0.18559723 -0.12865402 -0.0650997 ...</td>\n",
       "    </tr>\n",
       "    <tr>\n",
       "      <th>53</th>\n",
       "      <td>65807-02-5</td>\n",
       "      <td>DB00014</td>\n",
       "      <td>Goserelin</td>\n",
       "      <td>[agonist]</td>\n",
       "      <td>&gt;lcl|BSEQ0036957|Lutropin-choriogonadotropic h...</td>\n",
       "      <td>&gt;lcl|BSEQ0010174|Lutropin-choriogonadotropic h...</td>\n",
       "      <td>BE0000134</td>\n",
       "      <td>Lutropin-choriogonadotropic hormone receptor</td>\n",
       "      <td>Human</td>\n",
       "      <td>5311128</td>\n",
       "      <td>goserelin</td>\n",
       "      <td>[1.2739266e-05 -2.7748918e-05 0.00095751503 0....</td>\n",
       "      <td>[0.1331214 0.2391842 -0.14361311 -0.14107014 0...</td>\n",
       "    </tr>\n",
       "    <tr>\n",
       "      <th>54</th>\n",
       "      <td>65807-02-5</td>\n",
       "      <td>DB00014</td>\n",
       "      <td>Goserelin</td>\n",
       "      <td>[agonist]</td>\n",
       "      <td>&gt;lcl|BSEQ0000405|Gonadotropin-releasing hormon...</td>\n",
       "      <td>&gt;lcl|BSEQ0018926|Gonadotropin-releasing hormon...</td>\n",
       "      <td>BE0000203</td>\n",
       "      <td>Gonadotropin-releasing hormone receptor</td>\n",
       "      <td>Human</td>\n",
       "      <td>5311128</td>\n",
       "      <td>goserelin</td>\n",
       "      <td>[1.2739266e-05 -2.7748918e-05 0.00095751503 0....</td>\n",
       "      <td>[0.1331214 0.2391842 -0.14361311 -0.14107014 0...</td>\n",
       "    </tr>\n",
       "    <tr>\n",
       "      <th>131</th>\n",
       "      <td>16679-58-6</td>\n",
       "      <td>DB00035</td>\n",
       "      <td>Desmopressin</td>\n",
       "      <td>[agonist]</td>\n",
       "      <td>&gt;lcl|BSEQ0000583|Vasopressin V2 receptor\\nMLMA...</td>\n",
       "      <td>&gt;lcl|BSEQ0010065|Vasopressin V2 receptor (AVPR...</td>\n",
       "      <td>BE0000293</td>\n",
       "      <td>Vasopressin V2 receptor</td>\n",
       "      <td>Human</td>\n",
       "      <td>16051933</td>\n",
       "      <td>DESMOPRESSIN</td>\n",
       "      <td>[1.2739266e-05 -2.7748918e-05 0.00095751503 0....</td>\n",
       "      <td>[0.051722348 0.24374117 -0.16236018 -0.1723347...</td>\n",
       "    </tr>\n",
       "    <tr>\n",
       "      <th>132</th>\n",
       "      <td>16679-58-6</td>\n",
       "      <td>DB00035</td>\n",
       "      <td>Desmopressin</td>\n",
       "      <td>NaN</td>\n",
       "      <td>&gt;lcl|BSEQ0009979|Vasopressin V1a receptor\\nMRL...</td>\n",
       "      <td>&gt;lcl|BSEQ0009980|Vasopressin V1a receptor (AVP...</td>\n",
       "      <td>BE0000165</td>\n",
       "      <td>Vasopressin V1a receptor</td>\n",
       "      <td>Human</td>\n",
       "      <td>16051933</td>\n",
       "      <td>DESMOPRESSIN</td>\n",
       "      <td>[1.2739266e-05 -2.7748918e-05 0.00095751503 0....</td>\n",
       "      <td>[0.051722348 0.24374117 -0.16236018 -0.1723347...</td>\n",
       "    </tr>\n",
       "    <tr>\n",
       "      <th>...</th>\n",
       "      <td>...</td>\n",
       "      <td>...</td>\n",
       "      <td>...</td>\n",
       "      <td>...</td>\n",
       "      <td>...</td>\n",
       "      <td>...</td>\n",
       "      <td>...</td>\n",
       "      <td>...</td>\n",
       "      <td>...</td>\n",
       "      <td>...</td>\n",
       "      <td>...</td>\n",
       "      <td>...</td>\n",
       "      <td>...</td>\n",
       "    </tr>\n",
       "    <tr>\n",
       "      <th>431</th>\n",
       "      <td>197922-42-2</td>\n",
       "      <td>DB08900</td>\n",
       "      <td>Teduglutide</td>\n",
       "      <td>[agonist]</td>\n",
       "      <td>&gt;lcl|BSEQ0011545|Glucagon-like peptide 2 recep...</td>\n",
       "      <td>&gt;lcl|BSEQ0011546|Glucagon-like peptide 2 recep...</td>\n",
       "      <td>BE0002134</td>\n",
       "      <td>Glucagon-like peptide 2 receptor</td>\n",
       "      <td>Human</td>\n",
       "      <td>16139605</td>\n",
       "      <td>Teduglutide</td>\n",
       "      <td>[1.2739266e-05 -2.7748918e-05 0.00095751503 0....</td>\n",
       "      <td>[0.15734409 0.22184908 -0.10869281 -0.08885931...</td>\n",
       "    </tr>\n",
       "    <tr>\n",
       "      <th>440</th>\n",
       "      <td>782500-75-8</td>\n",
       "      <td>DB09043</td>\n",
       "      <td>Albiglutide</td>\n",
       "      <td>[agonist]</td>\n",
       "      <td>&gt;lcl|BSEQ0010605|Glucagon-like peptide 1 recep...</td>\n",
       "      <td>&gt;lcl|BSEQ0010606|Glucagon-like peptide 1 recep...</td>\n",
       "      <td>BE0000857</td>\n",
       "      <td>Glucagon-like peptide 1 receptor</td>\n",
       "      <td>Human</td>\n",
       "      <td>122173812</td>\n",
       "      <td>Albiglutide</td>\n",
       "      <td>[1.2739266e-05 -2.7748918e-05 0.00095751503 0....</td>\n",
       "      <td>[0.15686676 0.2130656 -0.10459428 -0.094190985...</td>\n",
       "    </tr>\n",
       "    <tr>\n",
       "      <th>457</th>\n",
       "      <td>8063-17-0</td>\n",
       "      <td>DB09363</td>\n",
       "      <td>Rauwolfia serpentina root</td>\n",
       "      <td>[inhibitor]</td>\n",
       "      <td>&gt;lcl|BSEQ0000236|Synaptic vesicular amine tran...</td>\n",
       "      <td>&gt;lcl|BSEQ0009946|Synaptic vesicular amine tran...</td>\n",
       "      <td>BE0000118</td>\n",
       "      <td>Synaptic vesicular amine transporter</td>\n",
       "      <td>Human</td>\n",
       "      <td>441975</td>\n",
       "      <td>Ajmalicine</td>\n",
       "      <td>[1.2739266e-05 -2.7748918e-05 0.00095751503 0....</td>\n",
       "      <td>[0.055649024 0.22807583 -0.18862249 -0.1470914...</td>\n",
       "    </tr>\n",
       "    <tr>\n",
       "      <th>460</th>\n",
       "      <td>844439-96-9</td>\n",
       "      <td>DB09564</td>\n",
       "      <td>Insulin Degludec</td>\n",
       "      <td>[ligand]</td>\n",
       "      <td>&gt;lcl|BSEQ0036940|Insulin receptor\\nMATGGRRGAAA...</td>\n",
       "      <td>&gt;lcl|BSEQ0020443|Insulin receptor (INSR)\\nATGG...</td>\n",
       "      <td>BE0000033</td>\n",
       "      <td>Insulin receptor</td>\n",
       "      <td>Human</td>\n",
       "      <td>118984462</td>\n",
       "      <td>Insulin degludec</td>\n",
       "      <td>[1.2739266e-05 -2.7748918e-05 0.00095751503 0....</td>\n",
       "      <td>[0.077604994 0.26912978 -0.12892634 -0.1319705...</td>\n",
       "    </tr>\n",
       "    <tr>\n",
       "      <th>487</th>\n",
       "      <td>915019-08-8</td>\n",
       "      <td>DB12747</td>\n",
       "      <td>Tertomotide</td>\n",
       "      <td>NaN</td>\n",
       "      <td>&gt;lcl|BSEQ0004809|Telomerase reverse transcript...</td>\n",
       "      <td>&gt;lcl|BSEQ0019287|Telomerase reverse transcript...</td>\n",
       "      <td>BE0002449</td>\n",
       "      <td>Telomerase reverse transcriptase</td>\n",
       "      <td>Human</td>\n",
       "      <td>56843375</td>\n",
       "      <td>UNII-55R7RG342O</td>\n",
       "      <td>[1.2739266e-05 -2.7748918e-05 0.00095751503 0....</td>\n",
       "      <td>[0.1460279 0.27236864 -0.07754911 -0.11320723 ...</td>\n",
       "    </tr>\n",
       "  </tbody>\n",
       "</table>\n",
       "<p>14081 rows × 13 columns</p>\n",
       "</div>"
      ],
      "text/plain": [
       "        drug_cas  drug_id                  drug_name target_actions  \\\n",
       "31   128270-60-0  DB00006                Bivalirudin    [inhibitor]   \n",
       "53    65807-02-5  DB00014                  Goserelin      [agonist]   \n",
       "54    65807-02-5  DB00014                  Goserelin      [agonist]   \n",
       "131   16679-58-6  DB00035               Desmopressin      [agonist]   \n",
       "132   16679-58-6  DB00035               Desmopressin            NaN   \n",
       "..           ...      ...                        ...            ...   \n",
       "431  197922-42-2  DB08900                Teduglutide      [agonist]   \n",
       "440  782500-75-8  DB09043                Albiglutide      [agonist]   \n",
       "457    8063-17-0  DB09363  Rauwolfia serpentina root    [inhibitor]   \n",
       "460  844439-96-9  DB09564           Insulin Degludec       [ligand]   \n",
       "487  915019-08-8  DB12747                Tertomotide            NaN   \n",
       "\n",
       "                                          target_amino  \\\n",
       "31   >lcl|BSEQ0016004|Prothrombin\\nMAHVRGLQLPGCLALA...   \n",
       "53   >lcl|BSEQ0036957|Lutropin-choriogonadotropic h...   \n",
       "54   >lcl|BSEQ0000405|Gonadotropin-releasing hormon...   \n",
       "131  >lcl|BSEQ0000583|Vasopressin V2 receptor\\nMLMA...   \n",
       "132  >lcl|BSEQ0009979|Vasopressin V1a receptor\\nMRL...   \n",
       "..                                                 ...   \n",
       "431  >lcl|BSEQ0011545|Glucagon-like peptide 2 recep...   \n",
       "440  >lcl|BSEQ0010605|Glucagon-like peptide 1 recep...   \n",
       "457  >lcl|BSEQ0000236|Synaptic vesicular amine tran...   \n",
       "460  >lcl|BSEQ0036940|Insulin receptor\\nMATGGRRGAAA...   \n",
       "487  >lcl|BSEQ0004809|Telomerase reverse transcript...   \n",
       "\n",
       "                                           target_gene  target_id  \\\n",
       "31   >lcl|BSEQ0016005|Prothrombin (F2)\\nATGGCGCACGT...  BE0000048   \n",
       "53   >lcl|BSEQ0010174|Lutropin-choriogonadotropic h...  BE0000134   \n",
       "54   >lcl|BSEQ0018926|Gonadotropin-releasing hormon...  BE0000203   \n",
       "131  >lcl|BSEQ0010065|Vasopressin V2 receptor (AVPR...  BE0000293   \n",
       "132  >lcl|BSEQ0009980|Vasopressin V1a receptor (AVP...  BE0000165   \n",
       "..                                                 ...        ...   \n",
       "431  >lcl|BSEQ0011546|Glucagon-like peptide 2 recep...  BE0002134   \n",
       "440  >lcl|BSEQ0010606|Glucagon-like peptide 1 recep...  BE0000857   \n",
       "457  >lcl|BSEQ0009946|Synaptic vesicular amine tran...  BE0000118   \n",
       "460  >lcl|BSEQ0020443|Insulin receptor (INSR)\\nATGG...  BE0000033   \n",
       "487  >lcl|BSEQ0019287|Telomerase reverse transcript...  BE0002449   \n",
       "\n",
       "                                      target_name target_organism  pubchem_id  \\\n",
       "31                                    Prothrombin           Human    16129704   \n",
       "53   Lutropin-choriogonadotropic hormone receptor           Human     5311128   \n",
       "54        Gonadotropin-releasing hormone receptor           Human     5311128   \n",
       "131                       Vasopressin V2 receptor           Human    16051933   \n",
       "132                      Vasopressin V1a receptor           Human    16051933   \n",
       "..                                            ...             ...         ...   \n",
       "431              Glucagon-like peptide 2 receptor           Human    16139605   \n",
       "440              Glucagon-like peptide 1 receptor           Human   122173812   \n",
       "457          Synaptic vesicular amine transporter           Human      441975   \n",
       "460                              Insulin receptor           Human   118984462   \n",
       "487              Telomerase reverse transcriptase           Human    56843375   \n",
       "\n",
       "         pubchem_name                            target_gene_fingerprint  \\\n",
       "31        Bivalirudin  [1.2739266e-05 -2.7748918e-05 0.00095751503 0....   \n",
       "53          goserelin  [1.2739266e-05 -2.7748918e-05 0.00095751503 0....   \n",
       "54          goserelin  [1.2739266e-05 -2.7748918e-05 0.00095751503 0....   \n",
       "131      DESMOPRESSIN  [1.2739266e-05 -2.7748918e-05 0.00095751503 0....   \n",
       "132      DESMOPRESSIN  [1.2739266e-05 -2.7748918e-05 0.00095751503 0....   \n",
       "..                ...                                                ...   \n",
       "431       Teduglutide  [1.2739266e-05 -2.7748918e-05 0.00095751503 0....   \n",
       "440       Albiglutide  [1.2739266e-05 -2.7748918e-05 0.00095751503 0....   \n",
       "457        Ajmalicine  [1.2739266e-05 -2.7748918e-05 0.00095751503 0....   \n",
       "460  Insulin degludec  [1.2739266e-05 -2.7748918e-05 0.00095751503 0....   \n",
       "487   UNII-55R7RG342O  [1.2739266e-05 -2.7748918e-05 0.00095751503 0....   \n",
       "\n",
       "                                      drug_fingerprint  \n",
       "31   [0.10044218 0.18559723 -0.12865402 -0.0650997 ...  \n",
       "53   [0.1331214 0.2391842 -0.14361311 -0.14107014 0...  \n",
       "54   [0.1331214 0.2391842 -0.14361311 -0.14107014 0...  \n",
       "131  [0.051722348 0.24374117 -0.16236018 -0.1723347...  \n",
       "132  [0.051722348 0.24374117 -0.16236018 -0.1723347...  \n",
       "..                                                 ...  \n",
       "431  [0.15734409 0.22184908 -0.10869281 -0.08885931...  \n",
       "440  [0.15686676 0.2130656 -0.10459428 -0.094190985...  \n",
       "457  [0.055649024 0.22807583 -0.18862249 -0.1470914...  \n",
       "460  [0.077604994 0.26912978 -0.12892634 -0.1319705...  \n",
       "487  [0.1460279 0.27236864 -0.07754911 -0.11320723 ...  \n",
       "\n",
       "[14081 rows x 13 columns]"
      ]
     },
     "execution_count": 157,
     "metadata": {},
     "output_type": "execute_result"
    }
   ],
   "source": [
    "drugbank"
   ]
  },
  {
   "cell_type": "code",
   "execution_count": 158,
   "metadata": {},
   "outputs": [],
   "source": [
    "drugbank['target_gene_code'] = drugbank['target_gene'].apply(lambda x: ''.join(list(x.split('\\n')[1:])))\n",
    "#drugbank['target_amino_code'] = drugbank['target_amino'].apply(lambda x: ''.join(list(x.split('\\n')[1:])))"
   ]
  },
  {
   "cell_type": "code",
   "execution_count": 159,
   "metadata": {},
   "outputs": [],
   "source": [
    "with open ('data/chem_cid_SMILE_fngr_vector_fngr.pickle', 'rb') as f:\n",
    "    smiles_df = pkl.load(f)\n",
    "    \n",
    "smiles_df['cid'] = smiles_df['cid'].astype(int)\n",
    "drugbank = pd.merge(smiles_df, drugbank, right_on = 'pubchem_id', left_on = 'cid', how = 'right')"
   ]
  },
  {
   "cell_type": "code",
   "execution_count": 160,
   "metadata": {
    "scrolled": true
   },
   "outputs": [],
   "source": [
    "drugbank = drugbank[['drug_id', 'target_id', 'fingerprint', 'target_gene_code']]\n",
    "drugbank = drugbank[~ drugbank['fingerprint'].isna()]\n",
    "drugbank = drugbank.rename(columns = {'fingerprint': 'drug_fingerprint_code', 'target_id': 'gene_id'})"
   ]
  },
  {
   "cell_type": "code",
   "execution_count": 161,
   "metadata": {},
   "outputs": [
    {
     "data": {
      "text/plain": [
       "<matplotlib.axes._subplots.AxesSubplot at 0x7f2e870087f0>"
      ]
     },
     "execution_count": 161,
     "metadata": {},
     "output_type": "execute_result"
    },
    {
     "data": {
      "image/png": "[encoded data removed]",
      "text/plain": [
       "<Figure size 432x288 with 1 Axes>"
      ]
     },
     "metadata": {
      "needs_background": "light"
     },
     "output_type": "display_data"
    }
   ],
   "source": [
    "drugbank['drug_id'].value_counts().plot()"
   ]
  },
  {
   "cell_type": "markdown",
   "metadata": {},
   "source": [
    "## NOTE: Why does NAD Bind to so many molecules?"
   ]
  },
  {
   "cell_type": "code",
   "execution_count": 162,
   "metadata": {},
   "outputs": [
    {
     "data": {
      "text/html": [
       "<div>\n",
       "<style scoped>\n",
       "    .dataframe tbody tr th:only-of-type {\n",
       "        vertical-align: middle;\n",
       "    }\n",
       "\n",
       "    .dataframe tbody tr th {\n",
       "        vertical-align: top;\n",
       "    }\n",
       "\n",
       "    .dataframe thead th {\n",
       "        text-align: right;\n",
       "    }\n",
       "</style>\n",
       "<table border=\"1\" class=\"dataframe\">\n",
       "  <thead>\n",
       "    <tr style=\"text-align: right;\">\n",
       "      <th></th>\n",
       "      <th>drug_id</th>\n",
       "      <th>gene_id</th>\n",
       "      <th>drug_fingerprint_code</th>\n",
       "      <th>target_gene_code</th>\n",
       "    </tr>\n",
       "  </thead>\n",
       "  <tbody>\n",
       "    <tr>\n",
       "      <th>7833</th>\n",
       "      <td>DB00157</td>\n",
       "      <td>BE0000645</td>\n",
       "      <td>2968968094 4140259565 3218693969 2070178920 32...</td>\n",
       "      <td>ATGTTTGAAATTAAGAAGATCTGTTGCATCGGTGCAGGCTATGTTG...</td>\n",
       "    </tr>\n",
       "    <tr>\n",
       "      <th>7834</th>\n",
       "      <td>DB00157</td>\n",
       "      <td>BE0000227</td>\n",
       "      <td>2968968094 4140259565 3218693969 2070178920 32...</td>\n",
       "      <td>ATGAGCACAGCAGGAAAAGTAATCAAATGCAAAGCAGCTGTGCTAT...</td>\n",
       "    </tr>\n",
       "    <tr>\n",
       "      <th>7835</th>\n",
       "      <td>DB00157</td>\n",
       "      <td>BE0000299</td>\n",
       "      <td>2968968094 4140259565 3218693969 2070178920 32...</td>\n",
       "      <td>ATGGCGGCGGCGGCCAAGCCCAACAACCTTTCCCTGGTGGTGCACG...</td>\n",
       "    </tr>\n",
       "    <tr>\n",
       "      <th>7836</th>\n",
       "      <td>DB00157</td>\n",
       "      <td>BE0000360</td>\n",
       "      <td>2968968094 4140259565 3218693969 2070178920 32...</td>\n",
       "      <td>ATGGGCACCAAGGGCAAAGTTATTAAATGCAAAGCAGCCATCGCCT...</td>\n",
       "    </tr>\n",
       "    <tr>\n",
       "      <th>7837</th>\n",
       "      <td>DB00157</td>\n",
       "      <td>BE0000465</td>\n",
       "      <td>2968968094 4140259565 3218693969 2070178920 32...</td>\n",
       "      <td>ATGAGCACAGCAGGAAAAGTAATCAAATGCAAAGCAGCTGTGCTAT...</td>\n",
       "    </tr>\n",
       "    <tr>\n",
       "      <th>...</th>\n",
       "      <td>...</td>\n",
       "      <td>...</td>\n",
       "      <td>...</td>\n",
       "      <td>...</td>\n",
       "    </tr>\n",
       "    <tr>\n",
       "      <th>7972</th>\n",
       "      <td>DB00157</td>\n",
       "      <td>BE0000096</td>\n",
       "      <td>2968968094 4140259565 3218693969 2070178920 32...</td>\n",
       "      <td>ATGCCAAGATGGTATTTTCTTTTGGCAAGATGCTTTGGTTGTGCAG...</td>\n",
       "    </tr>\n",
       "    <tr>\n",
       "      <th>7973</th>\n",
       "      <td>DB00157</td>\n",
       "      <td>BE0000735</td>\n",
       "      <td>2968968094 4140259565 3218693969 2070178920 32...</td>\n",
       "      <td>ATGGAGCGTCCGCAACCCGACAGCATGCCCCAGGATTTGTCAGAGG...</td>\n",
       "    </tr>\n",
       "    <tr>\n",
       "      <th>7974</th>\n",
       "      <td>DB00157</td>\n",
       "      <td>BE0000587</td>\n",
       "      <td>2968968094 4140259565 3218693969 2070178920 32...</td>\n",
       "      <td>ATGTCAGCGGAAGTGGAAACCTCAGAGGGGGTAGACGAGTCAGAAA...</td>\n",
       "    </tr>\n",
       "    <tr>\n",
       "      <th>7975</th>\n",
       "      <td>DB00157</td>\n",
       "      <td>BE0000344</td>\n",
       "      <td>2968968094 4140259565 3218693969 2070178920 32...</td>\n",
       "      <td>ATGTGGGAGCTCGTGGCTCTCTTGCTGCTTACCCTAGCTTATTTGT...</td>\n",
       "    </tr>\n",
       "    <tr>\n",
       "      <th>7976</th>\n",
       "      <td>DB00157</td>\n",
       "      <td>BE0000252</td>\n",
       "      <td>2968968094 4140259565 3218693969 2070178920 32...</td>\n",
       "      <td>ATGCTCCTGGCTGTTTTGTACTGCCTGCTGTGGAGTTTCCAGACCT...</td>\n",
       "    </tr>\n",
       "  </tbody>\n",
       "</table>\n",
       "<p>144 rows × 4 columns</p>\n",
       "</div>"
      ],
      "text/plain": [
       "      drug_id    gene_id                              drug_fingerprint_code  \\\n",
       "7833  DB00157  BE0000645  2968968094 4140259565 3218693969 2070178920 32...   \n",
       "7834  DB00157  BE0000227  2968968094 4140259565 3218693969 2070178920 32...   \n",
       "7835  DB00157  BE0000299  2968968094 4140259565 3218693969 2070178920 32...   \n",
       "7836  DB00157  BE0000360  2968968094 4140259565 3218693969 2070178920 32...   \n",
       "7837  DB00157  BE0000465  2968968094 4140259565 3218693969 2070178920 32...   \n",
       "...       ...        ...                                                ...   \n",
       "7972  DB00157  BE0000096  2968968094 4140259565 3218693969 2070178920 32...   \n",
       "7973  DB00157  BE0000735  2968968094 4140259565 3218693969 2070178920 32...   \n",
       "7974  DB00157  BE0000587  2968968094 4140259565 3218693969 2070178920 32...   \n",
       "7975  DB00157  BE0000344  2968968094 4140259565 3218693969 2070178920 32...   \n",
       "7976  DB00157  BE0000252  2968968094 4140259565 3218693969 2070178920 32...   \n",
       "\n",
       "                                       target_gene_code  \n",
       "7833  ATGTTTGAAATTAAGAAGATCTGTTGCATCGGTGCAGGCTATGTTG...  \n",
       "7834  ATGAGCACAGCAGGAAAAGTAATCAAATGCAAAGCAGCTGTGCTAT...  \n",
       "7835  ATGGCGGCGGCGGCCAAGCCCAACAACCTTTCCCTGGTGGTGCACG...  \n",
       "7836  ATGGGCACCAAGGGCAAAGTTATTAAATGCAAAGCAGCCATCGCCT...  \n",
       "7837  ATGAGCACAGCAGGAAAAGTAATCAAATGCAAAGCAGCTGTGCTAT...  \n",
       "...                                                 ...  \n",
       "7972  ATGCCAAGATGGTATTTTCTTTTGGCAAGATGCTTTGGTTGTGCAG...  \n",
       "7973  ATGGAGCGTCCGCAACCCGACAGCATGCCCCAGGATTTGTCAGAGG...  \n",
       "7974  ATGTCAGCGGAAGTGGAAACCTCAGAGGGGGTAGACGAGTCAGAAA...  \n",
       "7975  ATGTGGGAGCTCGTGGCTCTCTTGCTGCTTACCCTAGCTTATTTGT...  \n",
       "7976  ATGCTCCTGGCTGTTTTGTACTGCCTGCTGTGGAGTTTCCAGACCT...  \n",
       "\n",
       "[144 rows x 4 columns]"
      ]
     },
     "execution_count": 162,
     "metadata": {},
     "output_type": "execute_result"
    }
   ],
   "source": [
    "drugbank[drugbank['drug_id'] == 'DB00157']"
   ]
  },
  {
   "cell_type": "markdown",
   "metadata": {},
   "source": [
    "### Get DrugID -> Fingerprint mapping from positive samples"
   ]
  },
  {
   "cell_type": "code",
   "execution_count": 163,
   "metadata": {},
   "outputs": [],
   "source": [
    "drug_map = drugbank[['drug_id', 'drug_fingerprint_code']].drop_duplicates('drug_id').set_index('drug_id')\n",
    "target_map = drugbank[['gene_id', 'target_gene_code']].drop_duplicates('gene_id').set_index('gene_id')"
   ]
  },
  {
   "cell_type": "code",
   "execution_count": 164,
   "metadata": {},
   "outputs": [],
   "source": [
    "negative_df = pd.read_csv('data/negative_samples_thrsh_12')[['node_0','node_1','shortest_path']] \n",
    "negative_df = negative_df.rename(columns = {'node_0': 'drug_id', 'node_1': 'gene_id'})\n",
    "negative_df = negative_df[negative_df['drug_id'].str.contains('DB') & negative_df['gene_id'].str.contains('BE')]"
   ]
  },
  {
   "cell_type": "code",
   "execution_count": 165,
   "metadata": {},
   "outputs": [],
   "source": [
    "negative_df = pd.merge(negative_df, drug_map, left_on = 'drug_id', right_index = True, how = 'left')\n",
    "negative_df = pd.merge(negative_df, target_map, left_on = 'gene_id', right_index = True, how = 'left')"
   ]
  },
  {
   "cell_type": "code",
   "execution_count": 166,
   "metadata": {},
   "outputs": [
    {
     "data": {
      "text/html": [
       "<div>\n",
       "<style scoped>\n",
       "    .dataframe tbody tr th:only-of-type {\n",
       "        vertical-align: middle;\n",
       "    }\n",
       "\n",
       "    .dataframe tbody tr th {\n",
       "        vertical-align: top;\n",
       "    }\n",
       "\n",
       "    .dataframe thead th {\n",
       "        text-align: right;\n",
       "    }\n",
       "</style>\n",
       "<table border=\"1\" class=\"dataframe\">\n",
       "  <thead>\n",
       "    <tr style=\"text-align: right;\">\n",
       "      <th></th>\n",
       "      <th>drug_id</th>\n",
       "      <th>gene_id</th>\n",
       "      <th>shortest_path</th>\n",
       "      <th>drug_fingerprint_code</th>\n",
       "      <th>target_gene_code</th>\n",
       "    </tr>\n",
       "  </thead>\n",
       "  <tbody>\n",
       "    <tr>\n",
       "      <th>1</th>\n",
       "      <td>DB04481</td>\n",
       "      <td>BE0002266</td>\n",
       "      <td>12.0</td>\n",
       "      <td>2245384272 4022716898 2245273601 1735424888 22...</td>\n",
       "      <td>ATGGCGACCTCCACGGGTCGCTGGCTTCTCCTCCGGCTTGCACTAT...</td>\n",
       "    </tr>\n",
       "    <tr>\n",
       "      <th>3</th>\n",
       "      <td>DB04481</td>\n",
       "      <td>BE0000206</td>\n",
       "      <td>13.0</td>\n",
       "      <td>2245384272 4022716898 2245273601 1735424888 22...</td>\n",
       "      <td>ATGTTTGACTGTATGGATGTTCTGTCAGTGAGTCCTGGGCAAATCC...</td>\n",
       "    </tr>\n",
       "    <tr>\n",
       "      <th>4</th>\n",
       "      <td>DB04481</td>\n",
       "      <td>BE0002401</td>\n",
       "      <td>13.0</td>\n",
       "      <td>2245384272 4022716898 2245273601 1735424888 22...</td>\n",
       "      <td>ATGGCAGCAGACCTGGGCCCCTGGAATGACACCATCAATGGCACCT...</td>\n",
       "    </tr>\n",
       "    <tr>\n",
       "      <th>6</th>\n",
       "      <td>DB04481</td>\n",
       "      <td>BE0004180</td>\n",
       "      <td>13.0</td>\n",
       "      <td>2245384272 4022716898 2245273601 1735424888 22...</td>\n",
       "      <td>ATGACGGAAAACAAAGGATCTTCTCAGCCTAAGAAAAACGGTAATA...</td>\n",
       "    </tr>\n",
       "    <tr>\n",
       "      <th>10</th>\n",
       "      <td>DB04481</td>\n",
       "      <td>BE0002840</td>\n",
       "      <td>12.0</td>\n",
       "      <td>2245384272 4022716898 2245273601 1735424888 22...</td>\n",
       "      <td>ATGAAATTTCTTCTGGACATCCTCCTGCTTCTCCCGTTACTGATCG...</td>\n",
       "    </tr>\n",
       "    <tr>\n",
       "      <th>...</th>\n",
       "      <td>...</td>\n",
       "      <td>...</td>\n",
       "      <td>...</td>\n",
       "      <td>...</td>\n",
       "      <td>...</td>\n",
       "    </tr>\n",
       "    <tr>\n",
       "      <th>1745404</th>\n",
       "      <td>DB01260</td>\n",
       "      <td>BE0003634</td>\n",
       "      <td>12.0</td>\n",
       "      <td>2246728737 1861965050 2976816164 2446814304 31...</td>\n",
       "      <td>ATGTTGTTCTCCGCCCTCCTGCTGGAGGTGATTTGGATCCTGGCTG...</td>\n",
       "    </tr>\n",
       "    <tr>\n",
       "      <th>1745410</th>\n",
       "      <td>DB01134</td>\n",
       "      <td>BE0003634</td>\n",
       "      <td>14.0</td>\n",
       "      <td>2246728737 1861965050 2976816164 778974661 296...</td>\n",
       "      <td>ATGTTGTTCTCCGCCCTCCTGCTGGAGGTGATTTGGATCCTGGCTG...</td>\n",
       "    </tr>\n",
       "    <tr>\n",
       "      <th>1745423</th>\n",
       "      <td>DB08040</td>\n",
       "      <td>BE0002410</td>\n",
       "      <td>12.0</td>\n",
       "      <td>2246728737 3537119515 2245273601 2637439965 22...</td>\n",
       "      <td>ATGAAAGTTGGAGTGCTGTGGCTCATTTCTTTCTTCACCTTCACTG...</td>\n",
       "    </tr>\n",
       "    <tr>\n",
       "      <th>1745424</th>\n",
       "      <td>DB01105</td>\n",
       "      <td>BE0002410</td>\n",
       "      <td>13.0</td>\n",
       "      <td>2246728737 3537119515 2245273601 2423543607 22...</td>\n",
       "      <td>ATGAAAGTTGGAGTGCTGTGGCTCATTTCTTTCTTCACCTTCACTG...</td>\n",
       "    </tr>\n",
       "    <tr>\n",
       "      <th>1745425</th>\n",
       "      <td>DB01105</td>\n",
       "      <td>BE0004557</td>\n",
       "      <td>12.0</td>\n",
       "      <td>2246728737 3537119515 2245273601 2423543607 22...</td>\n",
       "      <td>ATGGCAACGATTACCGAGAAGGAGGTCCAGCAGTGGTACAAAGGCT...</td>\n",
       "    </tr>\n",
       "  </tbody>\n",
       "</table>\n",
       "<p>411845 rows × 5 columns</p>\n",
       "</div>"
      ],
      "text/plain": [
       "         drug_id    gene_id  shortest_path  \\\n",
       "1        DB04481  BE0002266           12.0   \n",
       "3        DB04481  BE0000206           13.0   \n",
       "4        DB04481  BE0002401           13.0   \n",
       "6        DB04481  BE0004180           13.0   \n",
       "10       DB04481  BE0002840           12.0   \n",
       "...          ...        ...            ...   \n",
       "1745404  DB01260  BE0003634           12.0   \n",
       "1745410  DB01134  BE0003634           14.0   \n",
       "1745423  DB08040  BE0002410           12.0   \n",
       "1745424  DB01105  BE0002410           13.0   \n",
       "1745425  DB01105  BE0004557           12.0   \n",
       "\n",
       "                                     drug_fingerprint_code  \\\n",
       "1        2245384272 4022716898 2245273601 1735424888 22...   \n",
       "3        2245384272 4022716898 2245273601 1735424888 22...   \n",
       "4        2245384272 4022716898 2245273601 1735424888 22...   \n",
       "6        2245384272 4022716898 2245273601 1735424888 22...   \n",
       "10       2245384272 4022716898 2245273601 1735424888 22...   \n",
       "...                                                    ...   \n",
       "1745404  2246728737 1861965050 2976816164 2446814304 31...   \n",
       "1745410  2246728737 1861965050 2976816164 778974661 296...   \n",
       "1745423  2246728737 3537119515 2245273601 2637439965 22...   \n",
       "1745424  2246728737 3537119515 2245273601 2423543607 22...   \n",
       "1745425  2246728737 3537119515 2245273601 2423543607 22...   \n",
       "\n",
       "                                          target_gene_code  \n",
       "1        ATGGCGACCTCCACGGGTCGCTGGCTTCTCCTCCGGCTTGCACTAT...  \n",
       "3        ATGTTTGACTGTATGGATGTTCTGTCAGTGAGTCCTGGGCAAATCC...  \n",
       "4        ATGGCAGCAGACCTGGGCCCCTGGAATGACACCATCAATGGCACCT...  \n",
       "6        ATGACGGAAAACAAAGGATCTTCTCAGCCTAAGAAAAACGGTAATA...  \n",
       "10       ATGAAATTTCTTCTGGACATCCTCCTGCTTCTCCCGTTACTGATCG...  \n",
       "...                                                    ...  \n",
       "1745404  ATGTTGTTCTCCGCCCTCCTGCTGGAGGTGATTTGGATCCTGGCTG...  \n",
       "1745410  ATGTTGTTCTCCGCCCTCCTGCTGGAGGTGATTTGGATCCTGGCTG...  \n",
       "1745423  ATGAAAGTTGGAGTGCTGTGGCTCATTTCTTTCTTCACCTTCACTG...  \n",
       "1745424  ATGAAAGTTGGAGTGCTGTGGCTCATTTCTTTCTTCACCTTCACTG...  \n",
       "1745425  ATGGCAACGATTACCGAGAAGGAGGTCCAGCAGTGGTACAAAGGCT...  \n",
       "\n",
       "[411845 rows x 5 columns]"
      ]
     },
     "execution_count": 166,
     "metadata": {},
     "output_type": "execute_result"
    }
   ],
   "source": [
    "negative_df"
   ]
  },
  {
   "cell_type": "markdown",
   "metadata": {},
   "source": [
    "#### Note: Around 13% of negative samples don't match a drug id. Since the number is small, we ignore it for now"
   ]
  },
  {
   "cell_type": "code",
   "execution_count": 167,
   "metadata": {},
   "outputs": [],
   "source": [
    "len(negative_df[(negative_df['target_gene_code'].isna()) |\n",
    "                (negative_df['drug_fingerprint_code'].isna())])/len(negative_df)\n",
    "\n",
    "negative_df = negative_df[(~ negative_df['target_gene_code'].isna()) &\n",
    "                (~ negative_df['drug_fingerprint_code'].isna())]"
   ]
  },
  {
   "cell_type": "code",
   "execution_count": 168,
   "metadata": {},
   "outputs": [
    {
     "name": "stderr",
     "output_type": "stream",
     "text": [
      "/miniconda/lib/python3.6/site-packages/ipykernel_launcher.py:1: SettingWithCopyWarning: \n",
      "A value is trying to be set on a copy of a slice from a DataFrame.\n",
      "Try using .loc[row_indexer,col_indexer] = value instead\n",
      "\n",
      "See the caveats in the documentation: https://pandas.pydata.org/pandas-docs/stable/user_guide/indexing.html#returning-a-view-versus-a-copy\n",
      "  \"\"\"Entry point for launching an IPython kernel.\n"
     ]
    }
   ],
   "source": [
    "negative_df['Y'] = 0\n",
    "drugbank['Y'] = 1\n",
    "drugbank = drugbank.append(negative_df.sample(int(len(drugbank)*1.5))) ## NUMBER OF NEGATIVE SAMPLES TO PICK\n",
    "drugbank = drugbank.drop('shortest_path', axis = 1)"
   ]
  },
  {
   "cell_type": "code",
   "execution_count": 169,
   "metadata": {},
   "outputs": [
    {
     "data": {
      "text/html": [
       "<div>\n",
       "<style scoped>\n",
       "    .dataframe tbody tr th:only-of-type {\n",
       "        vertical-align: middle;\n",
       "    }\n",
       "\n",
       "    .dataframe tbody tr th {\n",
       "        vertical-align: top;\n",
       "    }\n",
       "\n",
       "    .dataframe thead th {\n",
       "        text-align: right;\n",
       "    }\n",
       "</style>\n",
       "<table border=\"1\" class=\"dataframe\">\n",
       "  <thead>\n",
       "    <tr style=\"text-align: right;\">\n",
       "      <th></th>\n",
       "      <th>drug_id</th>\n",
       "      <th>gene_id</th>\n",
       "      <th>drug_fingerprint_code</th>\n",
       "      <th>target_gene_code</th>\n",
       "      <th>Y</th>\n",
       "    </tr>\n",
       "  </thead>\n",
       "  <tbody>\n",
       "  </tbody>\n",
       "</table>\n",
       "</div>"
      ],
      "text/plain": [
       "Empty DataFrame\n",
       "Columns: [drug_id, gene_id, drug_fingerprint_code, target_gene_code, Y]\n",
       "Index: []"
      ]
     },
     "execution_count": 169,
     "metadata": {},
     "output_type": "execute_result"
    }
   ],
   "source": [
    "drugbank[drugbank['target_gene_code'].str.contains('S').isna()]"
   ]
  },
  {
   "cell_type": "code",
   "execution_count": 170,
   "metadata": {},
   "outputs": [],
   "source": [
    "drugbank = drugbank[~ drugbank['drug_fingerprint_code'].str.contains('n')]"
   ]
  },
  {
   "cell_type": "markdown",
   "metadata": {},
   "source": [
    "#### The dataset is clean and balanced"
   ]
  },
  {
   "cell_type": "code",
   "execution_count": 171,
   "metadata": {},
   "outputs": [
    {
     "data": {
      "text/plain": [
       "0    0.599932\n",
       "1    0.400068\n",
       "Name: Y, dtype: float64"
      ]
     },
     "execution_count": 171,
     "metadata": {},
     "output_type": "execute_result"
    }
   ],
   "source": [
    "drugbank['Y'].value_counts()/len(drugbank)"
   ]
  },
  {
   "cell_type": "code",
   "execution_count": 172,
   "metadata": {},
   "outputs": [
    {
     "data": {
      "text/plain": [
       "<matplotlib.axes._subplots.AxesSubplot at 0x7f2e8655d2e8>"
      ]
     },
     "execution_count": 172,
     "metadata": {},
     "output_type": "execute_result"
    },
    {
     "data": {
      "image/png": "[encoded data removed]",
      "text/plain": [
       "<Figure size 432x288 with 1 Axes>"
      ]
     },
     "metadata": {
      "needs_background": "light"
     },
     "output_type": "display_data"
    }
   ],
   "source": [
    "drugbank['Y'].hist()"
   ]
  },
  {
   "cell_type": "markdown",
   "metadata": {},
   "source": [
    "#### Preprocessing fingerprints to feed to CNN"
   ]
  },
  {
   "cell_type": "code",
   "execution_count": 173,
   "metadata": {},
   "outputs": [
    {
     "data": {
      "application/vnd.jupyter.widget-view+json": {
       "model_id": "701b0cadcffb4900b2bab1c3e8bc3f99",
       "version_major": 2,
       "version_minor": 0
      },
      "text/plain": [
       "HBox(children=(FloatProgress(value=0.0, max=35179.0), HTML(value='')))"
      ]
     },
     "metadata": {},
     "output_type": "display_data"
    },
    {
     "data": {
      "application/vnd.jupyter.widget-view+json": {
       "model_id": "cec7e77559534839ac2db954775edf4c",
       "version_major": 2,
       "version_minor": 0
      },
      "text/plain": [
       "HBox(children=(FloatProgress(value=0.0, max=35179.0), HTML(value='')))"
      ]
     },
     "metadata": {},
     "output_type": "display_data"
    }
   ],
   "source": [
    "label_encoder = LabelEncoder()\n",
    "label_encoder.fit(list(drugbank['target_gene_code'].iloc[0]))\n",
    "\n",
    "with open('data/gene_encoder.pkl', 'wb') as f:\n",
    "    pkl.dump(label_encoder, f)\n",
    "    \n",
    "gene_chars = set(list(drugbank['target_gene_code'].iloc[0]))\n",
    "\n",
    "drugbank['target_gene_encoded'] = drugbank['target_gene_code'].progress_apply(\\\n",
    "                                   lambda x: label_encoder.transform([i for i in list(x) if i in gene_chars]))\n",
    "drugbank['drug_fingerprint_encoded'] = drugbank['drug_fingerprint_code'].progress_apply(lambda x: [int(i) for i in x.replace(' ', '')])"
   ]
  },
  {
   "cell_type": "code",
   "execution_count": 174,
   "metadata": {},
   "outputs": [
    {
     "data": {
      "text/html": [
       "<div>\n",
       "<style scoped>\n",
       "    .dataframe tbody tr th:only-of-type {\n",
       "        vertical-align: middle;\n",
       "    }\n",
       "\n",
       "    .dataframe tbody tr th {\n",
       "        vertical-align: top;\n",
       "    }\n",
       "\n",
       "    .dataframe thead th {\n",
       "        text-align: right;\n",
       "    }\n",
       "</style>\n",
       "<table border=\"1\" class=\"dataframe\">\n",
       "  <thead>\n",
       "    <tr style=\"text-align: right;\">\n",
       "      <th></th>\n",
       "      <th>drug_id</th>\n",
       "      <th>gene_id</th>\n",
       "      <th>drug_fingerprint_code</th>\n",
       "      <th>target_gene_code</th>\n",
       "      <th>Y</th>\n",
       "      <th>target_gene_encoded</th>\n",
       "      <th>drug_fingerprint_encoded</th>\n",
       "    </tr>\n",
       "  </thead>\n",
       "  <tbody>\n",
       "    <tr>\n",
       "      <th>0</th>\n",
       "      <td>DB03313</td>\n",
       "      <td>BE0001349</td>\n",
       "      <td>2246728737 3545365497 2246699815 2664995851 86...</td>\n",
       "      <td>ATGGTCTCAGGAACGGTGGGCAGAGGTACGGCGCTGGGCGCGGTGC...</td>\n",
       "      <td>1</td>\n",
       "      <td>[0, 3, 2, 2, 3, 1, 3, 1, 0, 2, 2, 0, 0, 1, 2, ...</td>\n",
       "      <td>[2, 2, 4, 6, 7, 2, 8, 7, 3, 7, 3, 5, 4, 5, 3, ...</td>\n",
       "    </tr>\n",
       "    <tr>\n",
       "      <th>1</th>\n",
       "      <td>DB03313</td>\n",
       "      <td>BE0004335</td>\n",
       "      <td>2246728737 3545365497 2246699815 2664995851 86...</td>\n",
       "      <td>ATGCAAAATCAATTAAATGAATTAAAACGAAAAATGCTGGAATTTT...</td>\n",
       "      <td>1</td>\n",
       "      <td>[0, 3, 2, 1, 0, 0, 0, 0, 3, 1, 0, 0, 3, 3, 0, ...</td>\n",
       "      <td>[2, 2, 4, 6, 7, 2, 8, 7, 3, 7, 3, 5, 4, 5, 3, ...</td>\n",
       "    </tr>\n",
       "    <tr>\n",
       "      <th>2</th>\n",
       "      <td>DB03313</td>\n",
       "      <td>BE0004290</td>\n",
       "      <td>2246728737 3545365497 2246699815 2664995851 86...</td>\n",
       "      <td>ATGAACAAACCAACGATTCTGCGCCTAATCAAGTATCTGAGCATTA...</td>\n",
       "      <td>1</td>\n",
       "      <td>[0, 3, 2, 0, 0, 1, 0, 0, 0, 1, 1, 0, 0, 1, 2, ...</td>\n",
       "      <td>[2, 2, 4, 6, 7, 2, 8, 7, 3, 7, 3, 5, 4, 5, 3, ...</td>\n",
       "    </tr>\n",
       "    <tr>\n",
       "      <th>3</th>\n",
       "      <td>DB03313</td>\n",
       "      <td>BE0003624</td>\n",
       "      <td>2246728737 3545365497 2246699815 2664995851 86...</td>\n",
       "      <td>ATGAGACTGATTTGTATGAGAAAATTTAACAGCCATTCGATTCCGA...</td>\n",
       "      <td>1</td>\n",
       "      <td>[0, 3, 2, 0, 2, 0, 1, 3, 2, 0, 3, 3, 3, 2, 3, ...</td>\n",
       "      <td>[2, 2, 4, 6, 7, 2, 8, 7, 3, 7, 3, 5, 4, 5, 3, ...</td>\n",
       "    </tr>\n",
       "    <tr>\n",
       "      <th>4</th>\n",
       "      <td>DB03313</td>\n",
       "      <td>BE0004644</td>\n",
       "      <td>2246728737 3545365497 2246699815 2664995851 86...</td>\n",
       "      <td>ATGAAATTAGATAAATTATTTGAGAAATTTCTTTCTCTTTTTAAAA...</td>\n",
       "      <td>1</td>\n",
       "      <td>[0, 3, 2, 0, 0, 0, 3, 3, 0, 2, 0, 3, 0, 0, 0, ...</td>\n",
       "      <td>[2, 2, 4, 6, 7, 2, 8, 7, 3, 7, 3, 5, 4, 5, 3, ...</td>\n",
       "    </tr>\n",
       "  </tbody>\n",
       "</table>\n",
       "</div>"
      ],
      "text/plain": [
       "   drug_id    gene_id                              drug_fingerprint_code  \\\n",
       "0  DB03313  BE0001349  2246728737 3545365497 2246699815 2664995851 86...   \n",
       "1  DB03313  BE0004335  2246728737 3545365497 2246699815 2664995851 86...   \n",
       "2  DB03313  BE0004290  2246728737 3545365497 2246699815 2664995851 86...   \n",
       "3  DB03313  BE0003624  2246728737 3545365497 2246699815 2664995851 86...   \n",
       "4  DB03313  BE0004644  2246728737 3545365497 2246699815 2664995851 86...   \n",
       "\n",
       "                                    target_gene_code  Y  \\\n",
       "0  ATGGTCTCAGGAACGGTGGGCAGAGGTACGGCGCTGGGCGCGGTGC...  1   \n",
       "1  ATGCAAAATCAATTAAATGAATTAAAACGAAAAATGCTGGAATTTT...  1   \n",
       "2  ATGAACAAACCAACGATTCTGCGCCTAATCAAGTATCTGAGCATTA...  1   \n",
       "3  ATGAGACTGATTTGTATGAGAAAATTTAACAGCCATTCGATTCCGA...  1   \n",
       "4  ATGAAATTAGATAAATTATTTGAGAAATTTCTTTCTCTTTTTAAAA...  1   \n",
       "\n",
       "                                 target_gene_encoded  \\\n",
       "0  [0, 3, 2, 2, 3, 1, 3, 1, 0, 2, 2, 0, 0, 1, 2, ...   \n",
       "1  [0, 3, 2, 1, 0, 0, 0, 0, 3, 1, 0, 0, 3, 3, 0, ...   \n",
       "2  [0, 3, 2, 0, 0, 1, 0, 0, 0, 1, 1, 0, 0, 1, 2, ...   \n",
       "3  [0, 3, 2, 0, 2, 0, 1, 3, 2, 0, 3, 3, 3, 2, 3, ...   \n",
       "4  [0, 3, 2, 0, 0, 0, 3, 3, 0, 2, 0, 3, 0, 0, 0, ...   \n",
       "\n",
       "                            drug_fingerprint_encoded  \n",
       "0  [2, 2, 4, 6, 7, 2, 8, 7, 3, 7, 3, 5, 4, 5, 3, ...  \n",
       "1  [2, 2, 4, 6, 7, 2, 8, 7, 3, 7, 3, 5, 4, 5, 3, ...  \n",
       "2  [2, 2, 4, 6, 7, 2, 8, 7, 3, 7, 3, 5, 4, 5, 3, ...  \n",
       "3  [2, 2, 4, 6, 7, 2, 8, 7, 3, 7, 3, 5, 4, 5, 3, ...  \n",
       "4  [2, 2, 4, 6, 7, 2, 8, 7, 3, 7, 3, 5, 4, 5, 3, ...  "
      ]
     },
     "execution_count": 174,
     "metadata": {},
     "output_type": "execute_result"
    }
   ],
   "source": [
    "drugbank.head()"
   ]
  },
  {
   "cell_type": "markdown",
   "metadata": {},
   "source": [
    "#### Calculate length mismatches and pad"
   ]
  },
  {
   "cell_type": "code",
   "execution_count": 175,
   "metadata": {},
   "outputs": [],
   "source": [
    "drugbank['target_gene_encoded_len'] = drugbank['target_gene_encoded']\\\n",
    "                                    .apply(lambda x: len(x))\n",
    "drugbank['drug_fingerprint_encoded_len'] = drugbank['drug_fingerprint_encoded']\\\n",
    "                                    .apply(lambda x: len(x))"
   ]
  },
  {
   "cell_type": "code",
   "execution_count": 176,
   "metadata": {},
   "outputs": [],
   "source": [
    "drugbank['mismatch'] = drugbank[['target_gene_encoded', 'drug_fingerprint_encoded']]\\\n",
    "                        .apply(lambda x: len(x['target_gene_encoded']) - len(x['drug_fingerprint_encoded']), axis = 1)"
   ]
  },
  {
   "cell_type": "markdown",
   "metadata": {},
   "source": [
    "## Most Genes are longer than fingerprints"
   ]
  },
  {
   "cell_type": "code",
   "execution_count": 177,
   "metadata": {},
   "outputs": [
    {
     "data": {
      "text/plain": [
       "<matplotlib.axes._subplots.AxesSubplot at 0x7f2e90ab59b0>"
      ]
     },
     "execution_count": 177,
     "metadata": {},
     "output_type": "execute_result"
    },
    {
     "data": {
      "image/png": "[encoded data removed]",
      "text/plain": [
       "<Figure size 720x360 with 1 Axes>"
      ]
     },
     "metadata": {
      "needs_background": "light"
     },
     "output_type": "display_data"
    }
   ],
   "source": [
    "drugbank['mismatch'].hist(bins = 100, figsize = (10, 5))"
   ]
  },
  {
   "cell_type": "code",
   "execution_count": 178,
   "metadata": {},
   "outputs": [
    {
     "name": "stdout",
     "output_type": "stream",
     "text": [
      "95 percent of the mismatches are of the range 28.632101 to 43.367899\n"
     ]
    }
   ],
   "source": [
    "print('95 percent of the mismatches are of the range %f to %f' % (max(drugbank['mismatch'].value_counts()) - np.std(drugbank['mismatch'].value_counts()),\n",
    "                                                           max(drugbank['mismatch'].value_counts()) + np.std(drugbank['mismatch'].value_counts())))"
   ]
  },
  {
   "cell_type": "code",
   "execution_count": 179,
   "metadata": {},
   "outputs": [],
   "source": [
    "max_target_gene_encoded_len = max(drugbank['target_gene_encoded_len'])\n",
    "max_drug_fingerprint_encoded_len = max(drugbank['drug_fingerprint_encoded_len'])"
   ]
  },
  {
   "cell_type": "code",
   "execution_count": 180,
   "metadata": {},
   "outputs": [],
   "source": [
    "drugbank['target_gene_encoded_mismatch'] = max_target_gene_encoded_len - drugbank['target_gene_encoded_len']"
   ]
  },
  {
   "cell_type": "code",
   "execution_count": 181,
   "metadata": {},
   "outputs": [],
   "source": [
    "drugbank['drug_fingerprint_encoded_mismatch'] = max_drug_fingerprint_encoded_len - drugbank['drug_fingerprint_encoded_len'] "
   ]
  },
  {
   "cell_type": "code",
   "execution_count": 182,
   "metadata": {},
   "outputs": [
    {
     "data": {
      "text/plain": [
       "<matplotlib.axes._subplots.AxesSubplot at 0x7f2e8595f470>"
      ]
     },
     "execution_count": 182,
     "metadata": {},
     "output_type": "execute_result"
    },
    {
     "data": {
      "image/png": "[encoded data removed]",
      "text/plain": [
       "<Figure size 720x360 with 1 Axes>"
      ]
     },
     "metadata": {
      "needs_background": "light"
     },
     "output_type": "display_data"
    }
   ],
   "source": [
    "drugbank['drug_fingerprint_encoded_mismatch'].hist(bins = 100, figsize = (10, 5), log = True)"
   ]
  },
  {
   "cell_type": "code",
   "execution_count": 183,
   "metadata": {},
   "outputs": [
    {
     "data": {
      "text/plain": [
       "<matplotlib.axes._subplots.AxesSubplot at 0x7f2e85d80198>"
      ]
     },
     "execution_count": 183,
     "metadata": {},
     "output_type": "execute_result"
    },
    {
     "data": {
      "image/png": "[encoded data removed]",
      "text/plain": [
       "<Figure size 720x360 with 1 Axes>"
      ]
     },
     "metadata": {
      "needs_background": "light"
     },
     "output_type": "display_data"
    }
   ],
   "source": [
    "drugbank['target_gene_encoded_mismatch'].hist(bins = 100, figsize = (10, 5), log = True)"
   ]
  },
  {
   "cell_type": "markdown",
   "metadata": {},
   "source": [
    "#### There appears to be quite large intracolumn mismatches in length. Unsure how to deal with it now. Current strategy is to pad the inputs and model it"
   ]
  },
  {
   "cell_type": "code",
   "execution_count": 184,
   "metadata": {},
   "outputs": [
    {
     "data": {
      "application/vnd.jupyter.widget-view+json": {
       "model_id": "7d8c1c63838647d6a09fe63918576227",
       "version_major": 2,
       "version_minor": 0
      },
      "text/plain": [
       "HBox(children=(FloatProgress(value=0.0, max=35179.0), HTML(value='')))"
      ]
     },
     "metadata": {},
     "output_type": "display_data"
    }
   ],
   "source": [
    "drugbank['target_gene_encoded_padded'] = drugbank[['target_gene_encoded','target_gene_encoded_mismatch']]\\\n",
    "                                         .progress_apply(lambda x: ['-1' for i in range(int(x['target_gene_encoded_mismatch']/2))] +   \n",
    "                                                        list(x['target_gene_encoded']) +\n",
    "                                                        ['-1' for i in range (int(x['target_gene_encoded_mismatch']/2))]\n",
    "                                                        , axis = 1)\n",
    "drugbank['target_gene_encoded_padded'] = drugbank['target_gene_encoded_padded'].apply(lambda x: x + ['-1'] if len(x) < max_target_gene_encoded_len else x)"
   ]
  },
  {
   "cell_type": "code",
   "execution_count": 185,
   "metadata": {},
   "outputs": [
    {
     "data": {
      "application/vnd.jupyter.widget-view+json": {
       "model_id": "285e4fbeffb0489385bf551eba9914b5",
       "version_major": 2,
       "version_minor": 0
      },
      "text/plain": [
       "HBox(children=(FloatProgress(value=0.0, max=35179.0), HTML(value='')))"
      ]
     },
     "metadata": {},
     "output_type": "display_data"
    }
   ],
   "source": [
    "drugbank['drug_fingerprint_encoded_padded'] = drugbank[['drug_fingerprint_encoded','drug_fingerprint_encoded_mismatch']]\\\n",
    "                                         .progress_apply(lambda x: ['-1' for i in range(int(x['drug_fingerprint_encoded_mismatch']/2))] +   \n",
    "                                                        list(x['drug_fingerprint_encoded']) +\n",
    "                                                        ['-1' for i in range (int(x['drug_fingerprint_encoded_mismatch']/2))]\n",
    "                                                        , axis = 1)\n",
    "\n",
    "drugbank['drug_fingerprint_encoded_padded'] = drugbank['drug_fingerprint_encoded_padded'].apply(lambda x: x + ['-1'] if len(x) < max_drug_fingerprint_encoded_len else x)"
   ]
  },
  {
   "cell_type": "code",
   "execution_count": 154,
   "metadata": {},
   "outputs": [
    {
     "data": {
      "text/html": [
       "<div>\n",
       "<style scoped>\n",
       "    .dataframe tbody tr th:only-of-type {\n",
       "        vertical-align: middle;\n",
       "    }\n",
       "\n",
       "    .dataframe tbody tr th {\n",
       "        vertical-align: top;\n",
       "    }\n",
       "\n",
       "    .dataframe thead th {\n",
       "        text-align: right;\n",
       "    }\n",
       "</style>\n",
       "<table border=\"1\" class=\"dataframe\">\n",
       "  <thead>\n",
       "    <tr style=\"text-align: right;\">\n",
       "      <th></th>\n",
       "      <th>drug_id</th>\n",
       "      <th>gene_id</th>\n",
       "      <th>drug_fingerprint_code</th>\n",
       "      <th>target_gene_code</th>\n",
       "      <th>Y</th>\n",
       "      <th>target_gene_encoded</th>\n",
       "      <th>drug_fingerprint_encoded</th>\n",
       "      <th>target_gene_encoded_len</th>\n",
       "      <th>drug_fingerprint_encoded_len</th>\n",
       "      <th>mismatch</th>\n",
       "      <th>target_gene_encoded_mismatch</th>\n",
       "      <th>drug_fingerprint_encoded_mismatch</th>\n",
       "      <th>target_gene_encoded_padded</th>\n",
       "      <th>drug_fingerprint_encoded_padded</th>\n",
       "    </tr>\n",
       "  </thead>\n",
       "  <tbody>\n",
       "    <tr>\n",
       "      <th>1000</th>\n",
       "      <td>DB01956</td>\n",
       "      <td>BE0001392</td>\n",
       "      <td>2245384272 787341104 2245384272 1789200865 999...</td>\n",
       "      <td>ATGTGTACAGGATTAGCCTTAGAAACAAAAGATGGATTACATTTGT...</td>\n",
       "      <td>1</td>\n",
       "      <td>[0 3 2 3 2 3 0 1 0 2 2 0 3 3 0 2 1 1 3 3 0 2 0...</td>\n",
       "      <td>[2, 2, 4, 5, 3, 8, 4, 2, 7, 2, 7, 8, 7, 3, 4, ...</td>\n",
       "      <td>990</td>\n",
       "      <td>134</td>\n",
       "      <td>856</td>\n",
       "      <td>20232</td>\n",
       "      <td>9367</td>\n",
       "      <td>[-1, -1, -1, -1, -1, -1, -1, -1, -1, -1, -1, -...</td>\n",
       "      <td>[-1, -1, -1, -1, -1, -1, -1, -1, -1, -1, -1, -...</td>\n",
       "    </tr>\n",
       "    <tr>\n",
       "      <th>1001</th>\n",
       "      <td>DB00152</td>\n",
       "      <td>BE0000157</td>\n",
       "      <td>2246728737 422715066 3217380708 3274018096 321...</td>\n",
       "      <td>ATGGAGCATGCCTTTACCCCGTTGGAGCCCCTGCTTTCCACTGGGA...</td>\n",
       "      <td>1</td>\n",
       "      <td>[0 3 2 2 0 2 1 0 3 2 1 1 3 3 3 0 1 1 1 1 2 3 3...</td>\n",
       "      <td>[2, 2, 4, 6, 7, 2, 8, 7, 3, 7, 4, 2, 2, 7, 1, ...</td>\n",
       "      <td>585</td>\n",
       "      <td>351</td>\n",
       "      <td>234</td>\n",
       "      <td>20637</td>\n",
       "      <td>9150</td>\n",
       "      <td>[-1, -1, -1, -1, -1, -1, -1, -1, -1, -1, -1, -...</td>\n",
       "      <td>[-1, -1, -1, -1, -1, -1, -1, -1, -1, -1, -1, -...</td>\n",
       "    </tr>\n",
       "    <tr>\n",
       "      <th>1002</th>\n",
       "      <td>DB00152</td>\n",
       "      <td>BE0003530</td>\n",
       "      <td>2246728737 422715066 3217380708 3274018096 321...</td>\n",
       "      <td>ATGGATGTGCCCGGCCCGGTGTCTCGGCGGGCGGCGGCGGCGGCGG...</td>\n",
       "      <td>1</td>\n",
       "      <td>[0 3 2 ... 3 0 0]</td>\n",
       "      <td>[2, 2, 4, 6, 7, 2, 8, 7, 3, 7, 4, 2, 2, 7, 1, ...</td>\n",
       "      <td>1494</td>\n",
       "      <td>351</td>\n",
       "      <td>1143</td>\n",
       "      <td>19728</td>\n",
       "      <td>9150</td>\n",
       "      <td>[-1, -1, -1, -1, -1, -1, -1, -1, -1, -1, -1, -...</td>\n",
       "      <td>[-1, -1, -1, -1, -1, -1, -1, -1, -1, -1, -1, -...</td>\n",
       "    </tr>\n",
       "    <tr>\n",
       "      <th>1003</th>\n",
       "      <td>DB04090</td>\n",
       "      <td>BE0001184</td>\n",
       "      <td>2246728737 422715066 3217380708 3120667717 321...</td>\n",
       "      <td>ATGGTCGGCAGAAGAGCACTGATCGTACTGGCTCACTCAGAGAGGA...</td>\n",
       "      <td>1</td>\n",
       "      <td>[0 3 2 2 3 1 2 2 1 0 2 0 0 2 0 2 1 0 1 3 2 0 3...</td>\n",
       "      <td>[2, 2, 4, 6, 7, 2, 8, 7, 3, 7, 4, 2, 2, 7, 1, ...</td>\n",
       "      <td>825</td>\n",
       "      <td>330</td>\n",
       "      <td>495</td>\n",
       "      <td>20397</td>\n",
       "      <td>9171</td>\n",
       "      <td>[-1, -1, -1, -1, -1, -1, -1, -1, -1, -1, -1, -...</td>\n",
       "      <td>[-1, -1, -1, -1, -1, -1, -1, -1, -1, -1, -1, -...</td>\n",
       "    </tr>\n",
       "    <tr>\n",
       "      <th>1004</th>\n",
       "      <td>DB07594</td>\n",
       "      <td>BE0001898</td>\n",
       "      <td>2246728737 3542456614 2245384272 618671879 321...</td>\n",
       "      <td>ATGCCTGAGGAAGTGCACCATGGAGAGGAGGAGGTGGAGACTTTTG...</td>\n",
       "      <td>1</td>\n",
       "      <td>[0 3 2 ... 3 0 2]</td>\n",
       "      <td>[2, 2, 4, 6, 7, 2, 8, 7, 3, 7, 3, 5, 4, 2, 4, ...</td>\n",
       "      <td>2175</td>\n",
       "      <td>501</td>\n",
       "      <td>1674</td>\n",
       "      <td>19047</td>\n",
       "      <td>9000</td>\n",
       "      <td>[-1, -1, -1, -1, -1, -1, -1, -1, -1, -1, -1, -...</td>\n",
       "      <td>[-1, -1, -1, -1, -1, -1, -1, -1, -1, -1, -1, -...</td>\n",
       "    </tr>\n",
       "    <tr>\n",
       "      <th>...</th>\n",
       "      <td>...</td>\n",
       "      <td>...</td>\n",
       "      <td>...</td>\n",
       "      <td>...</td>\n",
       "      <td>...</td>\n",
       "      <td>...</td>\n",
       "      <td>...</td>\n",
       "      <td>...</td>\n",
       "      <td>...</td>\n",
       "      <td>...</td>\n",
       "      <td>...</td>\n",
       "      <td>...</td>\n",
       "      <td>...</td>\n",
       "      <td>...</td>\n",
       "    </tr>\n",
       "    <tr>\n",
       "      <th>1495</th>\n",
       "      <td>DB06832</td>\n",
       "      <td>BE0003728</td>\n",
       "      <td>2246997334 3696402029 2246703798 977565923 321...</td>\n",
       "      <td>ATGAGTGGCCTCGGGGACAGTTCATCCGACCCTGCTAACCCAGACT...</td>\n",
       "      <td>1</td>\n",
       "      <td>[0 3 2 ... 3 0 0]</td>\n",
       "      <td>[2, 2, 4, 6, 9, 9, 7, 3, 3, 4, 3, 6, 9, 6, 4, ...</td>\n",
       "      <td>4326</td>\n",
       "      <td>384</td>\n",
       "      <td>3942</td>\n",
       "      <td>16896</td>\n",
       "      <td>9117</td>\n",
       "      <td>[-1, -1, -1, -1, -1, -1, -1, -1, -1, -1, -1, -...</td>\n",
       "      <td>[-1, -1, -1, -1, -1, -1, -1, -1, -1, -1, -1, -...</td>\n",
       "    </tr>\n",
       "    <tr>\n",
       "      <th>1496</th>\n",
       "      <td>DB09074</td>\n",
       "      <td>BE0001717</td>\n",
       "      <td>2968968094 2117068077 2968968094 2117068077 29...</td>\n",
       "      <td>ATGGCGGAGTCTTCGGATAAGCTCTATCGAGTCGAGTACGCCAAGA...</td>\n",
       "      <td>1</td>\n",
       "      <td>[0 3 2 ... 3 0 0]</td>\n",
       "      <td>[2, 9, 6, 8, 9, 6, 8, 0, 9, 4, 2, 1, 1, 7, 0, ...</td>\n",
       "      <td>3045</td>\n",
       "      <td>618</td>\n",
       "      <td>2427</td>\n",
       "      <td>18177</td>\n",
       "      <td>8883</td>\n",
       "      <td>[-1, -1, -1, -1, -1, -1, -1, -1, -1, -1, -1, -...</td>\n",
       "      <td>[-1, -1, -1, -1, -1, -1, -1, -1, -1, -1, -1, -...</td>\n",
       "    </tr>\n",
       "    <tr>\n",
       "      <th>1497</th>\n",
       "      <td>DB09074</td>\n",
       "      <td>BE0003798</td>\n",
       "      <td>2968968094 2117068077 2968968094 2117068077 29...</td>\n",
       "      <td>ATGGCGGCGCGGCGGCGACGGAGCACCGGCGGCGGCAGGGCGAGAG...</td>\n",
       "      <td>1</td>\n",
       "      <td>[0 3 2 ... 3 2 0]</td>\n",
       "      <td>[2, 9, 6, 8, 9, 6, 8, 0, 9, 4, 2, 1, 1, 7, 0, ...</td>\n",
       "      <td>1713</td>\n",
       "      <td>618</td>\n",
       "      <td>1095</td>\n",
       "      <td>19509</td>\n",
       "      <td>8883</td>\n",
       "      <td>[-1, -1, -1, -1, -1, -1, -1, -1, -1, -1, -1, -...</td>\n",
       "      <td>[-1, -1, -1, -1, -1, -1, -1, -1, -1, -1, -1, -...</td>\n",
       "    </tr>\n",
       "    <tr>\n",
       "      <th>1498</th>\n",
       "      <td>DB09074</td>\n",
       "      <td>BE0004049</td>\n",
       "      <td>2968968094 2117068077 2968968094 2117068077 29...</td>\n",
       "      <td>ATGTCCCTGCTTTTCTTGGCCATGGCTCCAAAGCCGAAGCCCTGGG...</td>\n",
       "      <td>1</td>\n",
       "      <td>[0 3 2 ... 3 2 0]</td>\n",
       "      <td>[2, 9, 6, 8, 9, 6, 8, 0, 9, 4, 2, 1, 1, 7, 0, ...</td>\n",
       "      <td>1623</td>\n",
       "      <td>618</td>\n",
       "      <td>1005</td>\n",
       "      <td>19599</td>\n",
       "      <td>8883</td>\n",
       "      <td>[-1, -1, -1, -1, -1, -1, -1, -1, -1, -1, -1, -...</td>\n",
       "      <td>[-1, -1, -1, -1, -1, -1, -1, -1, -1, -1, -1, -...</td>\n",
       "    </tr>\n",
       "    <tr>\n",
       "      <th>1499</th>\n",
       "      <td>DB03264</td>\n",
       "      <td>BE0003045</td>\n",
       "      <td>2246728737 3542456614 2245384272 1173125914 22...</td>\n",
       "      <td>TTGAAGCAAAAACGGCCAAAGTATATGCAGATTATTGATGCAGCAG...</td>\n",
       "      <td>1</td>\n",
       "      <td>[3 3 2 0 0 2 1 0 0 0 0 0 1 2 2 1 1 0 0 0 2 3 0...</td>\n",
       "      <td>[2, 2, 4, 6, 7, 2, 8, 7, 3, 7, 3, 5, 4, 2, 4, ...</td>\n",
       "      <td>585</td>\n",
       "      <td>1184</td>\n",
       "      <td>-599</td>\n",
       "      <td>20637</td>\n",
       "      <td>8317</td>\n",
       "      <td>[-1, -1, -1, -1, -1, -1, -1, -1, -1, -1, -1, -...</td>\n",
       "      <td>[-1, -1, -1, -1, -1, -1, -1, -1, -1, -1, -1, -...</td>\n",
       "    </tr>\n",
       "  </tbody>\n",
       "</table>\n",
       "<p>500 rows × 14 columns</p>\n",
       "</div>"
      ],
      "text/plain": [
       "      drug_id    gene_id                              drug_fingerprint_code  \\\n",
       "1000  DB01956  BE0001392  2245384272 787341104 2245384272 1789200865 999...   \n",
       "1001  DB00152  BE0000157  2246728737 422715066 3217380708 3274018096 321...   \n",
       "1002  DB00152  BE0003530  2246728737 422715066 3217380708 3274018096 321...   \n",
       "1003  DB04090  BE0001184  2246728737 422715066 3217380708 3120667717 321...   \n",
       "1004  DB07594  BE0001898  2246728737 3542456614 2245384272 618671879 321...   \n",
       "...       ...        ...                                                ...   \n",
       "1495  DB06832  BE0003728  2246997334 3696402029 2246703798 977565923 321...   \n",
       "1496  DB09074  BE0001717  2968968094 2117068077 2968968094 2117068077 29...   \n",
       "1497  DB09074  BE0003798  2968968094 2117068077 2968968094 2117068077 29...   \n",
       "1498  DB09074  BE0004049  2968968094 2117068077 2968968094 2117068077 29...   \n",
       "1499  DB03264  BE0003045  2246728737 3542456614 2245384272 1173125914 22...   \n",
       "\n",
       "                                       target_gene_code  Y  \\\n",
       "1000  ATGTGTACAGGATTAGCCTTAGAAACAAAAGATGGATTACATTTGT...  1   \n",
       "1001  ATGGAGCATGCCTTTACCCCGTTGGAGCCCCTGCTTTCCACTGGGA...  1   \n",
       "1002  ATGGATGTGCCCGGCCCGGTGTCTCGGCGGGCGGCGGCGGCGGCGG...  1   \n",
       "1003  ATGGTCGGCAGAAGAGCACTGATCGTACTGGCTCACTCAGAGAGGA...  1   \n",
       "1004  ATGCCTGAGGAAGTGCACCATGGAGAGGAGGAGGTGGAGACTTTTG...  1   \n",
       "...                                                 ... ..   \n",
       "1495  ATGAGTGGCCTCGGGGACAGTTCATCCGACCCTGCTAACCCAGACT...  1   \n",
       "1496  ATGGCGGAGTCTTCGGATAAGCTCTATCGAGTCGAGTACGCCAAGA...  1   \n",
       "1497  ATGGCGGCGCGGCGGCGACGGAGCACCGGCGGCGGCAGGGCGAGAG...  1   \n",
       "1498  ATGTCCCTGCTTTTCTTGGCCATGGCTCCAAAGCCGAAGCCCTGGG...  1   \n",
       "1499  TTGAAGCAAAAACGGCCAAAGTATATGCAGATTATTGATGCAGCAG...  1   \n",
       "\n",
       "                                    target_gene_encoded  \\\n",
       "1000  [0 3 2 3 2 3 0 1 0 2 2 0 3 3 0 2 1 1 3 3 0 2 0...   \n",
       "1001  [0 3 2 2 0 2 1 0 3 2 1 1 3 3 3 0 1 1 1 1 2 3 3...   \n",
       "1002                                  [0 3 2 ... 3 0 0]   \n",
       "1003  [0 3 2 2 3 1 2 2 1 0 2 0 0 2 0 2 1 0 1 3 2 0 3...   \n",
       "1004                                  [0 3 2 ... 3 0 2]   \n",
       "...                                                 ...   \n",
       "1495                                  [0 3 2 ... 3 0 0]   \n",
       "1496                                  [0 3 2 ... 3 0 0]   \n",
       "1497                                  [0 3 2 ... 3 2 0]   \n",
       "1498                                  [0 3 2 ... 3 2 0]   \n",
       "1499  [3 3 2 0 0 2 1 0 0 0 0 0 1 2 2 1 1 0 0 0 2 3 0...   \n",
       "\n",
       "                               drug_fingerprint_encoded  \\\n",
       "1000  [2, 2, 4, 5, 3, 8, 4, 2, 7, 2, 7, 8, 7, 3, 4, ...   \n",
       "1001  [2, 2, 4, 6, 7, 2, 8, 7, 3, 7, 4, 2, 2, 7, 1, ...   \n",
       "1002  [2, 2, 4, 6, 7, 2, 8, 7, 3, 7, 4, 2, 2, 7, 1, ...   \n",
       "1003  [2, 2, 4, 6, 7, 2, 8, 7, 3, 7, 4, 2, 2, 7, 1, ...   \n",
       "1004  [2, 2, 4, 6, 7, 2, 8, 7, 3, 7, 3, 5, 4, 2, 4, ...   \n",
       "...                                                 ...   \n",
       "1495  [2, 2, 4, 6, 9, 9, 7, 3, 3, 4, 3, 6, 9, 6, 4, ...   \n",
       "1496  [2, 9, 6, 8, 9, 6, 8, 0, 9, 4, 2, 1, 1, 7, 0, ...   \n",
       "1497  [2, 9, 6, 8, 9, 6, 8, 0, 9, 4, 2, 1, 1, 7, 0, ...   \n",
       "1498  [2, 9, 6, 8, 9, 6, 8, 0, 9, 4, 2, 1, 1, 7, 0, ...   \n",
       "1499  [2, 2, 4, 6, 7, 2, 8, 7, 3, 7, 3, 5, 4, 2, 4, ...   \n",
       "\n",
       "      target_gene_encoded_len  drug_fingerprint_encoded_len  mismatch  \\\n",
       "1000                      990                           134       856   \n",
       "1001                      585                           351       234   \n",
       "1002                     1494                           351      1143   \n",
       "1003                      825                           330       495   \n",
       "1004                     2175                           501      1674   \n",
       "...                       ...                           ...       ...   \n",
       "1495                     4326                           384      3942   \n",
       "1496                     3045                           618      2427   \n",
       "1497                     1713                           618      1095   \n",
       "1498                     1623                           618      1005   \n",
       "1499                      585                          1184      -599   \n",
       "\n",
       "      target_gene_encoded_mismatch  drug_fingerprint_encoded_mismatch  \\\n",
       "1000                         20232                               9367   \n",
       "1001                         20637                               9150   \n",
       "1002                         19728                               9150   \n",
       "1003                         20397                               9171   \n",
       "1004                         19047                               9000   \n",
       "...                            ...                                ...   \n",
       "1495                         16896                               9117   \n",
       "1496                         18177                               8883   \n",
       "1497                         19509                               8883   \n",
       "1498                         19599                               8883   \n",
       "1499                         20637                               8317   \n",
       "\n",
       "                             target_gene_encoded_padded  \\\n",
       "1000  [-1, -1, -1, -1, -1, -1, -1, -1, -1, -1, -1, -...   \n",
       "1001  [-1, -1, -1, -1, -1, -1, -1, -1, -1, -1, -1, -...   \n",
       "1002  [-1, -1, -1, -1, -1, -1, -1, -1, -1, -1, -1, -...   \n",
       "1003  [-1, -1, -1, -1, -1, -1, -1, -1, -1, -1, -1, -...   \n",
       "1004  [-1, -1, -1, -1, -1, -1, -1, -1, -1, -1, -1, -...   \n",
       "...                                                 ...   \n",
       "1495  [-1, -1, -1, -1, -1, -1, -1, -1, -1, -1, -1, -...   \n",
       "1496  [-1, -1, -1, -1, -1, -1, -1, -1, -1, -1, -1, -...   \n",
       "1497  [-1, -1, -1, -1, -1, -1, -1, -1, -1, -1, -1, -...   \n",
       "1498  [-1, -1, -1, -1, -1, -1, -1, -1, -1, -1, -1, -...   \n",
       "1499  [-1, -1, -1, -1, -1, -1, -1, -1, -1, -1, -1, -...   \n",
       "\n",
       "                        drug_fingerprint_encoded_padded  \n",
       "1000  [-1, -1, -1, -1, -1, -1, -1, -1, -1, -1, -1, -...  \n",
       "1001  [-1, -1, -1, -1, -1, -1, -1, -1, -1, -1, -1, -...  \n",
       "1002  [-1, -1, -1, -1, -1, -1, -1, -1, -1, -1, -1, -...  \n",
       "1003  [-1, -1, -1, -1, -1, -1, -1, -1, -1, -1, -1, -...  \n",
       "1004  [-1, -1, -1, -1, -1, -1, -1, -1, -1, -1, -1, -...  \n",
       "...                                                 ...  \n",
       "1495  [-1, -1, -1, -1, -1, -1, -1, -1, -1, -1, -1, -...  \n",
       "1496  [-1, -1, -1, -1, -1, -1, -1, -1, -1, -1, -1, -...  \n",
       "1497  [-1, -1, -1, -1, -1, -1, -1, -1, -1, -1, -1, -...  \n",
       "1498  [-1, -1, -1, -1, -1, -1, -1, -1, -1, -1, -1, -...  \n",
       "1499  [-1, -1, -1, -1, -1, -1, -1, -1, -1, -1, -1, -...  \n",
       "\n",
       "[500 rows x 14 columns]"
      ]
     },
     "execution_count": 154,
     "metadata": {},
     "output_type": "execute_result"
    }
   ],
   "source": [
    "drugbank"
   ]
  },
  {
   "cell_type": "code",
   "execution_count": 186,
   "metadata": {},
   "outputs": [],
   "source": [
    "drugbank.sample(frac=1).reset_index(drop=True).to_csv('data/intermediate/interactions_preprocessed.csv', index = False)"
   ]
  },
  {
   "cell_type": "code",
   "execution_count": 99,
   "metadata": {},
   "outputs": [],
   "source": [
    "del smiles_df, negative_df"
   ]
  },
  {
   "cell_type": "code",
   "execution_count": 100,
   "metadata": {},
   "outputs": [],
   "source": [
    "del drugbank"
   ]
  },
  {
   "cell_type": "markdown",
   "metadata": {},
   "source": [
    "## Building a CNN"
   ]
  },
  {
   "cell_type": "code",
   "execution_count": 6,
   "metadata": {},
   "outputs": [],
   "source": [
    "drugbank = pd.read_csv('data/intermediate/interactions_preprocessed.csv', chunksize = 7500, iterator = True, converters={\"target_gene_encoded_padded\": \\\n",
    "                                                                                     lambda x: np.array(x.strip(\"[]\").replace(\"'\",\"\").split(\", \")),\n",
    "                                                                                    \"drug_fingerprint_encoded_padded\": \\\n",
    "                                                                                    lambda x: np.array(x.strip(\"[]\").replace(\"'\",\"\").split(\", \"))})\n",
    "\n",
    "#drugbank = drugbank.sample(7500)"
   ]
  },
  {
   "cell_type": "code",
   "execution_count": 34,
   "metadata": {},
   "outputs": [],
   "source": [
    "drugbank = drugbank_reader.__next__().drop('Unnamed: 0', axis = 1)\n",
    "drugbank_test = drugbank_reader.__next__().drop('Unnamed: 0', axis = 1)"
   ]
  },
  {
   "cell_type": "markdown",
   "metadata": {},
   "source": [
    "# Start from here - train only on gene sequence"
   ]
  },
  {
   "cell_type": "code",
   "execution_count": 20,
   "metadata": {},
   "outputs": [],
   "source": [
    "drugbank = pd.read_csv('data/intermediate/interactions_preprocessed.csv', converters={\"target_gene_encoded_padded\": \\\n",
    "                                                                                     lambda x: np.array(x.strip(\"[]\").replace(\"'\",\"\").split(\", \")),\n",
    "                                                                                    \"drug_fingerprint_encoded_padded\": \\\n",
    "                                                                                    lambda x: np.array(x.strip(\"[]\").replace(\"'\",\"\").split(\", \"))})"
   ]
  },
  {
   "cell_type": "code",
   "execution_count": 21,
   "metadata": {},
   "outputs": [
    {
     "data": {
      "text/html": [
       "<div>\n",
       "<style scoped>\n",
       "    .dataframe tbody tr th:only-of-type {\n",
       "        vertical-align: middle;\n",
       "    }\n",
       "\n",
       "    .dataframe tbody tr th {\n",
       "        vertical-align: top;\n",
       "    }\n",
       "\n",
       "    .dataframe thead th {\n",
       "        text-align: right;\n",
       "    }\n",
       "</style>\n",
       "<table border=\"1\" class=\"dataframe\">\n",
       "  <thead>\n",
       "    <tr style=\"text-align: right;\">\n",
       "      <th></th>\n",
       "      <th>drug_id</th>\n",
       "      <th>gene_id</th>\n",
       "      <th>drug_fingerprint_code</th>\n",
       "      <th>target_gene_code</th>\n",
       "      <th>Y</th>\n",
       "      <th>target_gene_encoded</th>\n",
       "      <th>drug_fingerprint_encoded</th>\n",
       "      <th>target_gene_encoded_len</th>\n",
       "      <th>drug_fingerprint_encoded_len</th>\n",
       "      <th>mismatch</th>\n",
       "      <th>target_gene_encoded_mismatch</th>\n",
       "      <th>drug_fingerprint_encoded_mismatch</th>\n",
       "      <th>target_gene_encoded_padded</th>\n",
       "      <th>drug_fingerprint_encoded_padded</th>\n",
       "    </tr>\n",
       "  </thead>\n",
       "  <tbody>\n",
       "    <tr>\n",
       "      <th>0</th>\n",
       "      <td>DB06410</td>\n",
       "      <td>BE0001660</td>\n",
       "      <td>2246728737 3537119515 2245273601 3004333805 22...</td>\n",
       "      <td>ATGCTGATTCCGTCAAAACTAAGTCGTCCGGTTCGACTCGACCATA...</td>\n",
       "      <td>0</td>\n",
       "      <td>[0 3 2 ... 3 0 0]</td>\n",
       "      <td>[2, 2, 4, 6, 7, 2, 8, 7, 3, 7, 3, 5, 3, 7, 1, ...</td>\n",
       "      <td>2706</td>\n",
       "      <td>589</td>\n",
       "      <td>2117</td>\n",
       "      <td>18516</td>\n",
       "      <td>8912</td>\n",
       "      <td>[-1, -1, -1, -1, -1, -1, -1, -1, -1, -1, -1, -...</td>\n",
       "      <td>[-1, -1, -1, -1, -1, -1, -1, -1, -1, -1, -1, -...</td>\n",
       "    </tr>\n",
       "    <tr>\n",
       "      <th>1</th>\n",
       "      <td>DB04740</td>\n",
       "      <td>BE0004578</td>\n",
       "      <td>2246728737 3975275337 864674487 2810318309 224...</td>\n",
       "      <td>ATGGCGGAGGTGGTGAGTCCGGTGCCCGGGGCGGGGCGGAGGGAGC...</td>\n",
       "      <td>0</td>\n",
       "      <td>[0 3 2 ... 3 2 0]</td>\n",
       "      <td>[2, 2, 4, 6, 7, 2, 8, 7, 3, 7, 3, 9, 7, 5, 2, ...</td>\n",
       "      <td>1485</td>\n",
       "      <td>581</td>\n",
       "      <td>904</td>\n",
       "      <td>19737</td>\n",
       "      <td>8920</td>\n",
       "      <td>[-1, -1, -1, -1, -1, -1, -1, -1, -1, -1, -1, -...</td>\n",
       "      <td>[-1, -1, -1, -1, -1, -1, -1, -1, -1, -1, -1, -...</td>\n",
       "    </tr>\n",
       "    <tr>\n",
       "      <th>2</th>\n",
       "      <td>DB00609</td>\n",
       "      <td>BE0001791</td>\n",
       "      <td>2246728737 3542456614 2245384272 618671879 321...</td>\n",
       "      <td>ATGGAGTTGATCACAAATGAACTTTTATACAAAACATACAAACAAA...</td>\n",
       "      <td>0</td>\n",
       "      <td>[0 3 2 ... 3 2 0]</td>\n",
       "      <td>[2, 2, 4, 6, 7, 2, 8, 7, 3, 7, 3, 5, 4, 2, 4, ...</td>\n",
       "      <td>11967</td>\n",
       "      <td>214</td>\n",
       "      <td>11753</td>\n",
       "      <td>9255</td>\n",
       "      <td>9287</td>\n",
       "      <td>[-1, -1, -1, -1, -1, -1, -1, -1, -1, -1, -1, -...</td>\n",
       "      <td>[-1, -1, -1, -1, -1, -1, -1, -1, -1, -1, -1, -...</td>\n",
       "    </tr>\n",
       "    <tr>\n",
       "      <th>3</th>\n",
       "      <td>DB09076</td>\n",
       "      <td>BE0000247</td>\n",
       "      <td>2968968094 2119439498 2968968094 1653789098 21...</td>\n",
       "      <td>ATGGAAGGGGATTCTTACCACAATGCAACCACCGTCAATGGCACCC...</td>\n",
       "      <td>1</td>\n",
       "      <td>[0 3 2 ... 3 2 0]</td>\n",
       "      <td>[2, 9, 6, 8, 9, 6, 8, 0, 9, 4, 2, 1, 1, 9, 4, ...</td>\n",
       "      <td>1599</td>\n",
       "      <td>612</td>\n",
       "      <td>987</td>\n",
       "      <td>19623</td>\n",
       "      <td>8889</td>\n",
       "      <td>[-1, -1, -1, -1, -1, -1, -1, -1, -1, -1, -1, -...</td>\n",
       "      <td>[-1, -1, -1, -1, -1, -1, -1, -1, -1, -1, -1, -...</td>\n",
       "    </tr>\n",
       "    <tr>\n",
       "      <th>4</th>\n",
       "      <td>DB06884</td>\n",
       "      <td>BE0003742</td>\n",
       "      <td>2246728737 3537119515 2245273601 548743766 224...</td>\n",
       "      <td>ATGACTCATGGAGAAGAGCTTGGCTCTGATGTGCACCAGGATTCTA...</td>\n",
       "      <td>1</td>\n",
       "      <td>[0 3 2 ... 3 0 0]</td>\n",
       "      <td>[2, 2, 4, 6, 7, 2, 8, 7, 3, 7, 3, 5, 3, 7, 1, ...</td>\n",
       "      <td>3477</td>\n",
       "      <td>405</td>\n",
       "      <td>3072</td>\n",
       "      <td>17745</td>\n",
       "      <td>9096</td>\n",
       "      <td>[-1, -1, -1, -1, -1, -1, -1, -1, -1, -1, -1, -...</td>\n",
       "      <td>[-1, -1, -1, -1, -1, -1, -1, -1, -1, -1, -1, -...</td>\n",
       "    </tr>\n",
       "    <tr>\n",
       "      <th>...</th>\n",
       "      <td>...</td>\n",
       "      <td>...</td>\n",
       "      <td>...</td>\n",
       "      <td>...</td>\n",
       "      <td>...</td>\n",
       "      <td>...</td>\n",
       "      <td>...</td>\n",
       "      <td>...</td>\n",
       "      <td>...</td>\n",
       "      <td>...</td>\n",
       "      <td>...</td>\n",
       "      <td>...</td>\n",
       "      <td>...</td>\n",
       "      <td>...</td>\n",
       "    </tr>\n",
       "    <tr>\n",
       "      <th>35175</th>\n",
       "      <td>DB01472</td>\n",
       "      <td>BE0000647</td>\n",
       "      <td>2246728737 3537119515 2245273601 4274827831 22...</td>\n",
       "      <td>ATGAGTAAGAGCAAATGCTCCGTGGGACTCATGTCTTCCGTGGTGG...</td>\n",
       "      <td>1</td>\n",
       "      <td>[0 3 2 ... 3 0 2]</td>\n",
       "      <td>[2, 2, 4, 6, 7, 2, 8, 7, 3, 7, 3, 5, 3, 7, 1, ...</td>\n",
       "      <td>1863</td>\n",
       "      <td>232</td>\n",
       "      <td>1631</td>\n",
       "      <td>19359</td>\n",
       "      <td>9269</td>\n",
       "      <td>[-1, -1, -1, -1, -1, -1, -1, -1, -1, -1, -1, -...</td>\n",
       "      <td>[-1, -1, -1, -1, -1, -1, -1, -1, -1, -1, -1, -...</td>\n",
       "    </tr>\n",
       "    <tr>\n",
       "      <th>35176</th>\n",
       "      <td>DB01384</td>\n",
       "      <td>BE0002216</td>\n",
       "      <td>2246728737 1858577693 2976033787 1236795370 29...</td>\n",
       "      <td>ATGGCTACCTCTCGATATGAGCCAGTGGCTGAAATTGGTGTCGGTG...</td>\n",
       "      <td>0</td>\n",
       "      <td>[0 3 2 2 1 3 0 1 1 3 1 3 1 2 0 3 0 3 2 0 2 1 1...</td>\n",
       "      <td>[2, 2, 4, 6, 7, 2, 8, 7, 3, 7, 1, 8, 5, 8, 5, ...</td>\n",
       "      <td>912</td>\n",
       "      <td>543</td>\n",
       "      <td>369</td>\n",
       "      <td>20310</td>\n",
       "      <td>8958</td>\n",
       "      <td>[-1, -1, -1, -1, -1, -1, -1, -1, -1, -1, -1, -...</td>\n",
       "      <td>[-1, -1, -1, -1, -1, -1, -1, -1, -1, -1, -1, -...</td>\n",
       "    </tr>\n",
       "    <tr>\n",
       "      <th>35177</th>\n",
       "      <td>DB03132</td>\n",
       "      <td>BE0003844</td>\n",
       "      <td>3218693969 98513984 3218693969 98513984 321869...</td>\n",
       "      <td>ATGGCGCCCTCCAGGAAGTTCTTCGTTGGGGGAAACTGGAAGATGA...</td>\n",
       "      <td>1</td>\n",
       "      <td>[0 3 2 2 1 2 1 1 1 3 1 1 0 2 2 0 0 2 3 3 1 3 3...</td>\n",
       "      <td>[3, 2, 1, 8, 6, 9, 3, 9, 6, 9, 9, 8, 5, 1, 3, ...</td>\n",
       "      <td>750</td>\n",
       "      <td>330</td>\n",
       "      <td>420</td>\n",
       "      <td>20472</td>\n",
       "      <td>9171</td>\n",
       "      <td>[-1, -1, -1, -1, -1, -1, -1, -1, -1, -1, -1, -...</td>\n",
       "      <td>[-1, -1, -1, -1, -1, -1, -1, -1, -1, -1, -1, -...</td>\n",
       "    </tr>\n",
       "    <tr>\n",
       "      <th>35178</th>\n",
       "      <td>DB01558</td>\n",
       "      <td>BE0002216</td>\n",
       "      <td>2968968094 3625967751 3217380708 3234104871 86...</td>\n",
       "      <td>ATGGCTACCTCTCGATATGAGCCAGTGGCTGAAATTGGTGTCGGTG...</td>\n",
       "      <td>0</td>\n",
       "      <td>[0 3 2 2 1 3 0 1 1 3 1 3 1 2 0 3 0 3 2 0 2 1 1...</td>\n",
       "      <td>[2, 9, 6, 8, 9, 6, 8, 0, 9, 4, 3, 6, 2, 5, 9, ...</td>\n",
       "      <td>912</td>\n",
       "      <td>364</td>\n",
       "      <td>548</td>\n",
       "      <td>20310</td>\n",
       "      <td>9137</td>\n",
       "      <td>[-1, -1, -1, -1, -1, -1, -1, -1, -1, -1, -1, -...</td>\n",
       "      <td>[-1, -1, -1, -1, -1, -1, -1, -1, -1, -1, -1, -...</td>\n",
       "    </tr>\n",
       "    <tr>\n",
       "      <th>35179</th>\n",
       "      <td>DB07062</td>\n",
       "      <td>BE0000272</td>\n",
       "      <td>2246728737 3537119515 2245273601 2423543607 22...</td>\n",
       "      <td>ATGCCCCTCATTTACATAAATATTATACTAGCATTTACCATCTCAC...</td>\n",
       "      <td>0</td>\n",
       "      <td>[0 3 2 1 1 1 1 3 1 0 3 3 3 0 1 0 3 0 0 0 3 0 3...</td>\n",
       "      <td>[2, 2, 4, 6, 7, 2, 8, 7, 3, 7, 3, 5, 3, 7, 1, ...</td>\n",
       "      <td>297</td>\n",
       "      <td>639</td>\n",
       "      <td>-342</td>\n",
       "      <td>20925</td>\n",
       "      <td>8862</td>\n",
       "      <td>[-1, -1, -1, -1, -1, -1, -1, -1, -1, -1, -1, -...</td>\n",
       "      <td>[-1, -1, -1, -1, -1, -1, -1, -1, -1, -1, -1, -...</td>\n",
       "    </tr>\n",
       "  </tbody>\n",
       "</table>\n",
       "<p>35180 rows × 14 columns</p>\n",
       "</div>"
      ],
      "text/plain": [
       "       drug_id    gene_id                              drug_fingerprint_code  \\\n",
       "0      DB06410  BE0001660  2246728737 3537119515 2245273601 3004333805 22...   \n",
       "1      DB04740  BE0004578  2246728737 3975275337 864674487 2810318309 224...   \n",
       "2      DB00609  BE0001791  2246728737 3542456614 2245384272 618671879 321...   \n",
       "3      DB09076  BE0000247  2968968094 2119439498 2968968094 1653789098 21...   \n",
       "4      DB06884  BE0003742  2246728737 3537119515 2245273601 548743766 224...   \n",
       "...        ...        ...                                                ...   \n",
       "35175  DB01472  BE0000647  2246728737 3537119515 2245273601 4274827831 22...   \n",
       "35176  DB01384  BE0002216  2246728737 1858577693 2976033787 1236795370 29...   \n",
       "35177  DB03132  BE0003844  3218693969 98513984 3218693969 98513984 321869...   \n",
       "35178  DB01558  BE0002216  2968968094 3625967751 3217380708 3234104871 86...   \n",
       "35179  DB07062  BE0000272  2246728737 3537119515 2245273601 2423543607 22...   \n",
       "\n",
       "                                        target_gene_code  Y  \\\n",
       "0      ATGCTGATTCCGTCAAAACTAAGTCGTCCGGTTCGACTCGACCATA...  0   \n",
       "1      ATGGCGGAGGTGGTGAGTCCGGTGCCCGGGGCGGGGCGGAGGGAGC...  0   \n",
       "2      ATGGAGTTGATCACAAATGAACTTTTATACAAAACATACAAACAAA...  0   \n",
       "3      ATGGAAGGGGATTCTTACCACAATGCAACCACCGTCAATGGCACCC...  1   \n",
       "4      ATGACTCATGGAGAAGAGCTTGGCTCTGATGTGCACCAGGATTCTA...  1   \n",
       "...                                                  ... ..   \n",
       "35175  ATGAGTAAGAGCAAATGCTCCGTGGGACTCATGTCTTCCGTGGTGG...  1   \n",
       "35176  ATGGCTACCTCTCGATATGAGCCAGTGGCTGAAATTGGTGTCGGTG...  0   \n",
       "35177  ATGGCGCCCTCCAGGAAGTTCTTCGTTGGGGGAAACTGGAAGATGA...  1   \n",
       "35178  ATGGCTACCTCTCGATATGAGCCAGTGGCTGAAATTGGTGTCGGTG...  0   \n",
       "35179  ATGCCCCTCATTTACATAAATATTATACTAGCATTTACCATCTCAC...  0   \n",
       "\n",
       "                                     target_gene_encoded  \\\n",
       "0                                      [0 3 2 ... 3 0 0]   \n",
       "1                                      [0 3 2 ... 3 2 0]   \n",
       "2                                      [0 3 2 ... 3 2 0]   \n",
       "3                                      [0 3 2 ... 3 2 0]   \n",
       "4                                      [0 3 2 ... 3 0 0]   \n",
       "...                                                  ...   \n",
       "35175                                  [0 3 2 ... 3 0 2]   \n",
       "35176  [0 3 2 2 1 3 0 1 1 3 1 3 1 2 0 3 0 3 2 0 2 1 1...   \n",
       "35177  [0 3 2 2 1 2 1 1 1 3 1 1 0 2 2 0 0 2 3 3 1 3 3...   \n",
       "35178  [0 3 2 2 1 3 0 1 1 3 1 3 1 2 0 3 0 3 2 0 2 1 1...   \n",
       "35179  [0 3 2 1 1 1 1 3 1 0 3 3 3 0 1 0 3 0 0 0 3 0 3...   \n",
       "\n",
       "                                drug_fingerprint_encoded  \\\n",
       "0      [2, 2, 4, 6, 7, 2, 8, 7, 3, 7, 3, 5, 3, 7, 1, ...   \n",
       "1      [2, 2, 4, 6, 7, 2, 8, 7, 3, 7, 3, 9, 7, 5, 2, ...   \n",
       "2      [2, 2, 4, 6, 7, 2, 8, 7, 3, 7, 3, 5, 4, 2, 4, ...   \n",
       "3      [2, 9, 6, 8, 9, 6, 8, 0, 9, 4, 2, 1, 1, 9, 4, ...   \n",
       "4      [2, 2, 4, 6, 7, 2, 8, 7, 3, 7, 3, 5, 3, 7, 1, ...   \n",
       "...                                                  ...   \n",
       "35175  [2, 2, 4, 6, 7, 2, 8, 7, 3, 7, 3, 5, 3, 7, 1, ...   \n",
       "35176  [2, 2, 4, 6, 7, 2, 8, 7, 3, 7, 1, 8, 5, 8, 5, ...   \n",
       "35177  [3, 2, 1, 8, 6, 9, 3, 9, 6, 9, 9, 8, 5, 1, 3, ...   \n",
       "35178  [2, 9, 6, 8, 9, 6, 8, 0, 9, 4, 3, 6, 2, 5, 9, ...   \n",
       "35179  [2, 2, 4, 6, 7, 2, 8, 7, 3, 7, 3, 5, 3, 7, 1, ...   \n",
       "\n",
       "       target_gene_encoded_len  drug_fingerprint_encoded_len  mismatch  \\\n",
       "0                         2706                           589      2117   \n",
       "1                         1485                           581       904   \n",
       "2                        11967                           214     11753   \n",
       "3                         1599                           612       987   \n",
       "4                         3477                           405      3072   \n",
       "...                        ...                           ...       ...   \n",
       "35175                     1863                           232      1631   \n",
       "35176                      912                           543       369   \n",
       "35177                      750                           330       420   \n",
       "35178                      912                           364       548   \n",
       "35179                      297                           639      -342   \n",
       "\n",
       "       target_gene_encoded_mismatch  drug_fingerprint_encoded_mismatch  \\\n",
       "0                             18516                               8912   \n",
       "1                             19737                               8920   \n",
       "2                              9255                               9287   \n",
       "3                             19623                               8889   \n",
       "4                             17745                               9096   \n",
       "...                             ...                                ...   \n",
       "35175                         19359                               9269   \n",
       "35176                         20310                               8958   \n",
       "35177                         20472                               9171   \n",
       "35178                         20310                               9137   \n",
       "35179                         20925                               8862   \n",
       "\n",
       "                              target_gene_encoded_padded  \\\n",
       "0      [-1, -1, -1, -1, -1, -1, -1, -1, -1, -1, -1, -...   \n",
       "1      [-1, -1, -1, -1, -1, -1, -1, -1, -1, -1, -1, -...   \n",
       "2      [-1, -1, -1, -1, -1, -1, -1, -1, -1, -1, -1, -...   \n",
       "3      [-1, -1, -1, -1, -1, -1, -1, -1, -1, -1, -1, -...   \n",
       "4      [-1, -1, -1, -1, -1, -1, -1, -1, -1, -1, -1, -...   \n",
       "...                                                  ...   \n",
       "35175  [-1, -1, -1, -1, -1, -1, -1, -1, -1, -1, -1, -...   \n",
       "35176  [-1, -1, -1, -1, -1, -1, -1, -1, -1, -1, -1, -...   \n",
       "35177  [-1, -1, -1, -1, -1, -1, -1, -1, -1, -1, -1, -...   \n",
       "35178  [-1, -1, -1, -1, -1, -1, -1, -1, -1, -1, -1, -...   \n",
       "35179  [-1, -1, -1, -1, -1, -1, -1, -1, -1, -1, -1, -...   \n",
       "\n",
       "                         drug_fingerprint_encoded_padded  \n",
       "0      [-1, -1, -1, -1, -1, -1, -1, -1, -1, -1, -1, -...  \n",
       "1      [-1, -1, -1, -1, -1, -1, -1, -1, -1, -1, -1, -...  \n",
       "2      [-1, -1, -1, -1, -1, -1, -1, -1, -1, -1, -1, -...  \n",
       "3      [-1, -1, -1, -1, -1, -1, -1, -1, -1, -1, -1, -...  \n",
       "4      [-1, -1, -1, -1, -1, -1, -1, -1, -1, -1, -1, -...  \n",
       "...                                                  ...  \n",
       "35175  [-1, -1, -1, -1, -1, -1, -1, -1, -1, -1, -1, -...  \n",
       "35176  [-1, -1, -1, -1, -1, -1, -1, -1, -1, -1, -1, -...  \n",
       "35177  [-1, -1, -1, -1, -1, -1, -1, -1, -1, -1, -1, -...  \n",
       "35178  [-1, -1, -1, -1, -1, -1, -1, -1, -1, -1, -1, -...  \n",
       "35179  [-1, -1, -1, -1, -1, -1, -1, -1, -1, -1, -1, -...  \n",
       "\n",
       "[35180 rows x 14 columns]"
      ]
     },
     "execution_count": 21,
     "metadata": {},
     "output_type": "execute_result"
    }
   ],
   "source": [
    "drugbank"
   ]
  },
  {
   "cell_type": "code",
   "execution_count": null,
   "metadata": {
    "scrolled": true
   },
   "outputs": [],
   "source": [
    "len(drugbank_reader)"
   ]
  },
  {
   "cell_type": "code",
   "execution_count": 49,
   "metadata": {},
   "outputs": [],
   "source": [
    "drugbank = drugbank_reader.sample(7500, replace = False)\n",
    "drugbank_test = drugbank_reader.sample(7500, replace = False)"
   ]
  },
  {
   "cell_type": "code",
   "execution_count": 22,
   "metadata": {},
   "outputs": [],
   "source": [
    "train_df, test_df = train_test_split(drugbank)"
   ]
  },
  {
   "cell_type": "code",
   "execution_count": 23,
   "metadata": {
    "scrolled": true
   },
   "outputs": [
    {
     "data": {
      "text/html": [
       "<div>\n",
       "<style scoped>\n",
       "    .dataframe tbody tr th:only-of-type {\n",
       "        vertical-align: middle;\n",
       "    }\n",
       "\n",
       "    .dataframe tbody tr th {\n",
       "        vertical-align: top;\n",
       "    }\n",
       "\n",
       "    .dataframe thead th {\n",
       "        text-align: right;\n",
       "    }\n",
       "</style>\n",
       "<table border=\"1\" class=\"dataframe\">\n",
       "  <thead>\n",
       "    <tr style=\"text-align: right;\">\n",
       "      <th></th>\n",
       "      <th>drug_id</th>\n",
       "      <th>gene_id</th>\n",
       "      <th>drug_fingerprint_code</th>\n",
       "      <th>target_gene_code</th>\n",
       "      <th>Y</th>\n",
       "      <th>target_gene_encoded</th>\n",
       "      <th>drug_fingerprint_encoded</th>\n",
       "      <th>target_gene_encoded_len</th>\n",
       "      <th>drug_fingerprint_encoded_len</th>\n",
       "      <th>mismatch</th>\n",
       "      <th>target_gene_encoded_mismatch</th>\n",
       "      <th>drug_fingerprint_encoded_mismatch</th>\n",
       "      <th>target_gene_encoded_padded</th>\n",
       "      <th>drug_fingerprint_encoded_padded</th>\n",
       "    </tr>\n",
       "  </thead>\n",
       "  <tbody>\n",
       "    <tr>\n",
       "      <th>30927</th>\n",
       "      <td>DB00334</td>\n",
       "      <td>BE0004872</td>\n",
       "      <td>2246728737 422715066 3217380708 2803419857 321...</td>\n",
       "      <td>ATGGGCGCGGGGGTGCTCGTCCTGGGCGCCTCCGAGCCCGGTAACC...</td>\n",
       "      <td>1</td>\n",
       "      <td>[0 3 2 ... 3 0 2]</td>\n",
       "      <td>[2, 2, 4, 6, 7, 2, 8, 7, 3, 7, 4, 2, 2, 7, 1, ...</td>\n",
       "      <td>1434</td>\n",
       "      <td>430</td>\n",
       "      <td>1004</td>\n",
       "      <td>19788</td>\n",
       "      <td>9071</td>\n",
       "      <td>[-1, -1, -1, -1, -1, -1, -1, -1, -1, -1, -1, -...</td>\n",
       "      <td>[-1, -1, -1, -1, -1, -1, -1, -1, -1, -1, -1, -...</td>\n",
       "    </tr>\n",
       "    <tr>\n",
       "      <th>27278</th>\n",
       "      <td>DB05713</td>\n",
       "      <td>BE0004310</td>\n",
       "      <td>2246728737 3657471097 2092489639 2021812431 29...</td>\n",
       "      <td>TTGGAAGGAGTAACAGCTACAGATAAGGAAGACGGTAATCTGACAG...</td>\n",
       "      <td>0</td>\n",
       "      <td>[3 3 2 2 0 0 2 2 0 2 3 0 0 1 0 2 1 3 0 1 0 2 0...</td>\n",
       "      <td>[2, 2, 4, 6, 7, 2, 8, 7, 3, 7, 3, 6, 5, 7, 4, ...</td>\n",
       "      <td>363</td>\n",
       "      <td>663</td>\n",
       "      <td>-300</td>\n",
       "      <td>20859</td>\n",
       "      <td>8838</td>\n",
       "      <td>[-1, -1, -1, -1, -1, -1, -1, -1, -1, -1, -1, -...</td>\n",
       "      <td>[-1, -1, -1, -1, -1, -1, -1, -1, -1, -1, -1, -...</td>\n",
       "    </tr>\n",
       "    <tr>\n",
       "      <th>29823</th>\n",
       "      <td>DB01559</td>\n",
       "      <td>BE0003592</td>\n",
       "      <td>2246728737 3542456614 2245384272 618671879 321...</td>\n",
       "      <td>ATGAGTTCGCCAAATATATGGAGCACAGGAAGCTCAGTCTACTCGA...</td>\n",
       "      <td>1</td>\n",
       "      <td>[0 3 2 ... 3 2 0]</td>\n",
       "      <td>[2, 2, 4, 6, 7, 2, 8, 7, 3, 7, 3, 5, 4, 2, 4, ...</td>\n",
       "      <td>1404</td>\n",
       "      <td>406</td>\n",
       "      <td>998</td>\n",
       "      <td>19818</td>\n",
       "      <td>9095</td>\n",
       "      <td>[-1, -1, -1, -1, -1, -1, -1, -1, -1, -1, -1, -...</td>\n",
       "      <td>[-1, -1, -1, -1, -1, -1, -1, -1, -1, -1, -1, -...</td>\n",
       "    </tr>\n",
       "    <tr>\n",
       "      <th>33885</th>\n",
       "      <td>DB04723</td>\n",
       "      <td>BE0001927</td>\n",
       "      <td>3218693969 98513984 3218693969 951226070 32173...</td>\n",
       "      <td>ATGGAAACCTATGCTGTTTTTGGTAATCCGATAGCCCACAGCAAAT...</td>\n",
       "      <td>0</td>\n",
       "      <td>[0 3 2 2 0 0 0 1 1 3 0 3 2 1 3 2 3 3 3 3 3 2 2...</td>\n",
       "      <td>[3, 2, 1, 8, 6, 9, 3, 9, 6, 9, 9, 8, 5, 1, 3, ...</td>\n",
       "      <td>819</td>\n",
       "      <td>307</td>\n",
       "      <td>512</td>\n",
       "      <td>20403</td>\n",
       "      <td>9194</td>\n",
       "      <td>[-1, -1, -1, -1, -1, -1, -1, -1, -1, -1, -1, -...</td>\n",
       "      <td>[-1, -1, -1, -1, -1, -1, -1, -1, -1, -1, -1, -...</td>\n",
       "    </tr>\n",
       "    <tr>\n",
       "      <th>33368</th>\n",
       "      <td>DB02479</td>\n",
       "      <td>BE0003242</td>\n",
       "      <td>2246728737 3537119515 2245273601 3103812183 22...</td>\n",
       "      <td>ATGAATAAGAAGGTACTGACCCTTTCTGCCGTGATGGCAAGTCTGT...</td>\n",
       "      <td>0</td>\n",
       "      <td>[0 3 2 0 0 3 0 0 2 0 0 2 2 3 0 1 3 2 0 1 1 1 3...</td>\n",
       "      <td>[2, 2, 4, 6, 7, 2, 8, 7, 3, 7, 3, 5, 3, 7, 1, ...</td>\n",
       "      <td>999</td>\n",
       "      <td>500</td>\n",
       "      <td>499</td>\n",
       "      <td>20223</td>\n",
       "      <td>9001</td>\n",
       "      <td>[-1, -1, -1, -1, -1, -1, -1, -1, -1, -1, -1, -...</td>\n",
       "      <td>[-1, -1, -1, -1, -1, -1, -1, -1, -1, -1, -1, -...</td>\n",
       "    </tr>\n",
       "    <tr>\n",
       "      <th>...</th>\n",
       "      <td>...</td>\n",
       "      <td>...</td>\n",
       "      <td>...</td>\n",
       "      <td>...</td>\n",
       "      <td>...</td>\n",
       "      <td>...</td>\n",
       "      <td>...</td>\n",
       "      <td>...</td>\n",
       "      <td>...</td>\n",
       "      <td>...</td>\n",
       "      <td>...</td>\n",
       "      <td>...</td>\n",
       "      <td>...</td>\n",
       "      <td>...</td>\n",
       "    </tr>\n",
       "    <tr>\n",
       "      <th>19684</th>\n",
       "      <td>DB04448</td>\n",
       "      <td>BE0001252</td>\n",
       "      <td>3218693969 951226070 3218693969 951226070 3217...</td>\n",
       "      <td>ATGGATAAATTTCGTGTTCAGGGGCCAACGAAGCTCCAGGGCGAAG...</td>\n",
       "      <td>0</td>\n",
       "      <td>[0 3 2 ... 3 0 0]</td>\n",
       "      <td>[3, 2, 1, 8, 6, 9, 3, 9, 6, 9, 9, 5, 1, 2, 2, ...</td>\n",
       "      <td>1260</td>\n",
       "      <td>194</td>\n",
       "      <td>1066</td>\n",
       "      <td>19962</td>\n",
       "      <td>9307</td>\n",
       "      <td>[-1, -1, -1, -1, -1, -1, -1, -1, -1, -1, -1, -...</td>\n",
       "      <td>[-1, -1, -1, -1, -1, -1, -1, -1, -1, -1, -1, -...</td>\n",
       "    </tr>\n",
       "    <tr>\n",
       "      <th>9837</th>\n",
       "      <td>DB01056</td>\n",
       "      <td>BE0000197</td>\n",
       "      <td>2246728737 422715066 3217380708 3124581743 321...</td>\n",
       "      <td>ATGGCAAACTTCCTATTACCTCGGGGCACCAGCAGCTTCCGCAGGT...</td>\n",
       "      <td>1</td>\n",
       "      <td>[0 3 2 ... 3 2 0]</td>\n",
       "      <td>[2, 2, 4, 6, 7, 2, 8, 7, 3, 7, 4, 2, 2, 7, 1, ...</td>\n",
       "      <td>6048</td>\n",
       "      <td>271</td>\n",
       "      <td>5777</td>\n",
       "      <td>15174</td>\n",
       "      <td>9230</td>\n",
       "      <td>[-1, -1, -1, -1, -1, -1, -1, -1, -1, -1, -1, -...</td>\n",
       "      <td>[-1, -1, -1, -1, -1, -1, -1, -1, -1, -1, -1, -...</td>\n",
       "    </tr>\n",
       "    <tr>\n",
       "      <th>2688</th>\n",
       "      <td>DB04090</td>\n",
       "      <td>BE0001184</td>\n",
       "      <td>2246728737 422715066 3217380708 3120667717 321...</td>\n",
       "      <td>ATGGTCGGCAGAAGAGCACTGATCGTACTGGCTCACTCAGAGAGGA...</td>\n",
       "      <td>1</td>\n",
       "      <td>[0 3 2 2 3 1 2 2 1 0 2 0 0 2 0 2 1 0 1 3 2 0 3...</td>\n",
       "      <td>[2, 2, 4, 6, 7, 2, 8, 7, 3, 7, 4, 2, 2, 7, 1, ...</td>\n",
       "      <td>825</td>\n",
       "      <td>330</td>\n",
       "      <td>495</td>\n",
       "      <td>20397</td>\n",
       "      <td>9171</td>\n",
       "      <td>[-1, -1, -1, -1, -1, -1, -1, -1, -1, -1, -1, -...</td>\n",
       "      <td>[-1, -1, -1, -1, -1, -1, -1, -1, -1, -1, -1, -...</td>\n",
       "    </tr>\n",
       "    <tr>\n",
       "      <th>27196</th>\n",
       "      <td>DB02999</td>\n",
       "      <td>BE0000829</td>\n",
       "      <td>2245384272 2258843522 2245273601 4274980665 22...</td>\n",
       "      <td>ATGCAAAAGATTATGCATATTTCTGTCCTCCTTTCTCCTGTTTTAT...</td>\n",
       "      <td>1</td>\n",
       "      <td>[0 3 2 ... 3 0 2]</td>\n",
       "      <td>[2, 2, 4, 5, 3, 8, 4, 2, 7, 2, 2, 2, 5, 8, 8, ...</td>\n",
       "      <td>2652</td>\n",
       "      <td>249</td>\n",
       "      <td>2403</td>\n",
       "      <td>18570</td>\n",
       "      <td>9252</td>\n",
       "      <td>[-1, -1, -1, -1, -1, -1, -1, -1, -1, -1, -1, -...</td>\n",
       "      <td>[-1, -1, -1, -1, -1, -1, -1, -1, -1, -1, -1, -...</td>\n",
       "    </tr>\n",
       "    <tr>\n",
       "      <th>12727</th>\n",
       "      <td>DB00543</td>\n",
       "      <td>BE0000389</td>\n",
       "      <td>2968968094 416356657 2968968094 2803848648 209...</td>\n",
       "      <td>ATGGGGAACCGCAGCACCGCGGACGCGGACGGGCTGCTGGCTGGGC...</td>\n",
       "      <td>1</td>\n",
       "      <td>[0 3 2 ... 3 2 0]</td>\n",
       "      <td>[2, 9, 6, 8, 9, 6, 8, 0, 9, 4, 4, 1, 6, 3, 5, ...</td>\n",
       "      <td>1260</td>\n",
       "      <td>425</td>\n",
       "      <td>835</td>\n",
       "      <td>19962</td>\n",
       "      <td>9076</td>\n",
       "      <td>[-1, -1, -1, -1, -1, -1, -1, -1, -1, -1, -1, -...</td>\n",
       "      <td>[-1, -1, -1, -1, -1, -1, -1, -1, -1, -1, -1, -...</td>\n",
       "    </tr>\n",
       "  </tbody>\n",
       "</table>\n",
       "<p>26385 rows × 14 columns</p>\n",
       "</div>"
      ],
      "text/plain": [
       "       drug_id    gene_id                              drug_fingerprint_code  \\\n",
       "30927  DB00334  BE0004872  2246728737 422715066 3217380708 2803419857 321...   \n",
       "27278  DB05713  BE0004310  2246728737 3657471097 2092489639 2021812431 29...   \n",
       "29823  DB01559  BE0003592  2246728737 3542456614 2245384272 618671879 321...   \n",
       "33885  DB04723  BE0001927  3218693969 98513984 3218693969 951226070 32173...   \n",
       "33368  DB02479  BE0003242  2246728737 3537119515 2245273601 3103812183 22...   \n",
       "...        ...        ...                                                ...   \n",
       "19684  DB04448  BE0001252  3218693969 951226070 3218693969 951226070 3217...   \n",
       "9837   DB01056  BE0000197  2246728737 422715066 3217380708 3124581743 321...   \n",
       "2688   DB04090  BE0001184  2246728737 422715066 3217380708 3120667717 321...   \n",
       "27196  DB02999  BE0000829  2245384272 2258843522 2245273601 4274980665 22...   \n",
       "12727  DB00543  BE0000389  2968968094 416356657 2968968094 2803848648 209...   \n",
       "\n",
       "                                        target_gene_code  Y  \\\n",
       "30927  ATGGGCGCGGGGGTGCTCGTCCTGGGCGCCTCCGAGCCCGGTAACC...  1   \n",
       "27278  TTGGAAGGAGTAACAGCTACAGATAAGGAAGACGGTAATCTGACAG...  0   \n",
       "29823  ATGAGTTCGCCAAATATATGGAGCACAGGAAGCTCAGTCTACTCGA...  1   \n",
       "33885  ATGGAAACCTATGCTGTTTTTGGTAATCCGATAGCCCACAGCAAAT...  0   \n",
       "33368  ATGAATAAGAAGGTACTGACCCTTTCTGCCGTGATGGCAAGTCTGT...  0   \n",
       "...                                                  ... ..   \n",
       "19684  ATGGATAAATTTCGTGTTCAGGGGCCAACGAAGCTCCAGGGCGAAG...  0   \n",
       "9837   ATGGCAAACTTCCTATTACCTCGGGGCACCAGCAGCTTCCGCAGGT...  1   \n",
       "2688   ATGGTCGGCAGAAGAGCACTGATCGTACTGGCTCACTCAGAGAGGA...  1   \n",
       "27196  ATGCAAAAGATTATGCATATTTCTGTCCTCCTTTCTCCTGTTTTAT...  1   \n",
       "12727  ATGGGGAACCGCAGCACCGCGGACGCGGACGGGCTGCTGGCTGGGC...  1   \n",
       "\n",
       "                                     target_gene_encoded  \\\n",
       "30927                                  [0 3 2 ... 3 0 2]   \n",
       "27278  [3 3 2 2 0 0 2 2 0 2 3 0 0 1 0 2 1 3 0 1 0 2 0...   \n",
       "29823                                  [0 3 2 ... 3 2 0]   \n",
       "33885  [0 3 2 2 0 0 0 1 1 3 0 3 2 1 3 2 3 3 3 3 3 2 2...   \n",
       "33368  [0 3 2 0 0 3 0 0 2 0 0 2 2 3 0 1 3 2 0 1 1 1 3...   \n",
       "...                                                  ...   \n",
       "19684                                  [0 3 2 ... 3 0 0]   \n",
       "9837                                   [0 3 2 ... 3 2 0]   \n",
       "2688   [0 3 2 2 3 1 2 2 1 0 2 0 0 2 0 2 1 0 1 3 2 0 3...   \n",
       "27196                                  [0 3 2 ... 3 0 2]   \n",
       "12727                                  [0 3 2 ... 3 2 0]   \n",
       "\n",
       "                                drug_fingerprint_encoded  \\\n",
       "30927  [2, 2, 4, 6, 7, 2, 8, 7, 3, 7, 4, 2, 2, 7, 1, ...   \n",
       "27278  [2, 2, 4, 6, 7, 2, 8, 7, 3, 7, 3, 6, 5, 7, 4, ...   \n",
       "29823  [2, 2, 4, 6, 7, 2, 8, 7, 3, 7, 3, 5, 4, 2, 4, ...   \n",
       "33885  [3, 2, 1, 8, 6, 9, 3, 9, 6, 9, 9, 8, 5, 1, 3, ...   \n",
       "33368  [2, 2, 4, 6, 7, 2, 8, 7, 3, 7, 3, 5, 3, 7, 1, ...   \n",
       "...                                                  ...   \n",
       "19684  [3, 2, 1, 8, 6, 9, 3, 9, 6, 9, 9, 5, 1, 2, 2, ...   \n",
       "9837   [2, 2, 4, 6, 7, 2, 8, 7, 3, 7, 4, 2, 2, 7, 1, ...   \n",
       "2688   [2, 2, 4, 6, 7, 2, 8, 7, 3, 7, 4, 2, 2, 7, 1, ...   \n",
       "27196  [2, 2, 4, 5, 3, 8, 4, 2, 7, 2, 2, 2, 5, 8, 8, ...   \n",
       "12727  [2, 9, 6, 8, 9, 6, 8, 0, 9, 4, 4, 1, 6, 3, 5, ...   \n",
       "\n",
       "       target_gene_encoded_len  drug_fingerprint_encoded_len  mismatch  \\\n",
       "30927                     1434                           430      1004   \n",
       "27278                      363                           663      -300   \n",
       "29823                     1404                           406       998   \n",
       "33885                      819                           307       512   \n",
       "33368                      999                           500       499   \n",
       "...                        ...                           ...       ...   \n",
       "19684                     1260                           194      1066   \n",
       "9837                      6048                           271      5777   \n",
       "2688                       825                           330       495   \n",
       "27196                     2652                           249      2403   \n",
       "12727                     1260                           425       835   \n",
       "\n",
       "       target_gene_encoded_mismatch  drug_fingerprint_encoded_mismatch  \\\n",
       "30927                         19788                               9071   \n",
       "27278                         20859                               8838   \n",
       "29823                         19818                               9095   \n",
       "33885                         20403                               9194   \n",
       "33368                         20223                               9001   \n",
       "...                             ...                                ...   \n",
       "19684                         19962                               9307   \n",
       "9837                          15174                               9230   \n",
       "2688                          20397                               9171   \n",
       "27196                         18570                               9252   \n",
       "12727                         19962                               9076   \n",
       "\n",
       "                              target_gene_encoded_padded  \\\n",
       "30927  [-1, -1, -1, -1, -1, -1, -1, -1, -1, -1, -1, -...   \n",
       "27278  [-1, -1, -1, -1, -1, -1, -1, -1, -1, -1, -1, -...   \n",
       "29823  [-1, -1, -1, -1, -1, -1, -1, -1, -1, -1, -1, -...   \n",
       "33885  [-1, -1, -1, -1, -1, -1, -1, -1, -1, -1, -1, -...   \n",
       "33368  [-1, -1, -1, -1, -1, -1, -1, -1, -1, -1, -1, -...   \n",
       "...                                                  ...   \n",
       "19684  [-1, -1, -1, -1, -1, -1, -1, -1, -1, -1, -1, -...   \n",
       "9837   [-1, -1, -1, -1, -1, -1, -1, -1, -1, -1, -1, -...   \n",
       "2688   [-1, -1, -1, -1, -1, -1, -1, -1, -1, -1, -1, -...   \n",
       "27196  [-1, -1, -1, -1, -1, -1, -1, -1, -1, -1, -1, -...   \n",
       "12727  [-1, -1, -1, -1, -1, -1, -1, -1, -1, -1, -1, -...   \n",
       "\n",
       "                         drug_fingerprint_encoded_padded  \n",
       "30927  [-1, -1, -1, -1, -1, -1, -1, -1, -1, -1, -1, -...  \n",
       "27278  [-1, -1, -1, -1, -1, -1, -1, -1, -1, -1, -1, -...  \n",
       "29823  [-1, -1, -1, -1, -1, -1, -1, -1, -1, -1, -1, -...  \n",
       "33885  [-1, -1, -1, -1, -1, -1, -1, -1, -1, -1, -1, -...  \n",
       "33368  [-1, -1, -1, -1, -1, -1, -1, -1, -1, -1, -1, -...  \n",
       "...                                                  ...  \n",
       "19684  [-1, -1, -1, -1, -1, -1, -1, -1, -1, -1, -1, -...  \n",
       "9837   [-1, -1, -1, -1, -1, -1, -1, -1, -1, -1, -1, -...  \n",
       "2688   [-1, -1, -1, -1, -1, -1, -1, -1, -1, -1, -1, -...  \n",
       "27196  [-1, -1, -1, -1, -1, -1, -1, -1, -1, -1, -1, -...  \n",
       "12727  [-1, -1, -1, -1, -1, -1, -1, -1, -1, -1, -1, -...  \n",
       "\n",
       "[26385 rows x 14 columns]"
      ]
     },
     "execution_count": 23,
     "metadata": {},
     "output_type": "execute_result"
    }
   ],
   "source": [
    "train_df"
   ]
  },
  {
   "cell_type": "code",
   "execution_count": 24,
   "metadata": {},
   "outputs": [
    {
     "data": {
      "text/plain": [
       "<matplotlib.axes._subplots.AxesSubplot at 0x7f70cc26dac8>"
      ]
     },
     "execution_count": 24,
     "metadata": {},
     "output_type": "execute_result"
    },
    {
     "data": {
      "image/png": "[encoded data removed]",
      "text/plain": [
       "<Figure size 432x288 with 1 Axes>"
      ]
     },
     "metadata": {
      "needs_background": "light"
     },
     "output_type": "display_data"
    }
   ],
   "source": [
    "train_df['Y'].hist()"
   ]
  },
  {
   "cell_type": "code",
   "execution_count": null,
   "metadata": {},
   "outputs": [],
   "source": []
  },
  {
   "cell_type": "code",
   "execution_count": 25,
   "metadata": {
    "scrolled": true
   },
   "outputs": [
    {
     "data": {
      "text/html": [
       "<div>\n",
       "<style scoped>\n",
       "    .dataframe tbody tr th:only-of-type {\n",
       "        vertical-align: middle;\n",
       "    }\n",
       "\n",
       "    .dataframe tbody tr th {\n",
       "        vertical-align: top;\n",
       "    }\n",
       "\n",
       "    .dataframe thead th {\n",
       "        text-align: right;\n",
       "    }\n",
       "</style>\n",
       "<table border=\"1\" class=\"dataframe\">\n",
       "  <thead>\n",
       "    <tr style=\"text-align: right;\">\n",
       "      <th></th>\n",
       "      <th>drug_id</th>\n",
       "      <th>gene_id</th>\n",
       "      <th>drug_fingerprint_code</th>\n",
       "      <th>target_gene_code</th>\n",
       "      <th>Y</th>\n",
       "      <th>target_gene_encoded</th>\n",
       "      <th>drug_fingerprint_encoded</th>\n",
       "      <th>target_gene_encoded_len</th>\n",
       "      <th>drug_fingerprint_encoded_len</th>\n",
       "      <th>mismatch</th>\n",
       "      <th>target_gene_encoded_mismatch</th>\n",
       "      <th>drug_fingerprint_encoded_mismatch</th>\n",
       "      <th>target_gene_encoded_padded</th>\n",
       "      <th>drug_fingerprint_encoded_padded</th>\n",
       "    </tr>\n",
       "  </thead>\n",
       "  <tbody>\n",
       "    <tr>\n",
       "      <th>14956</th>\n",
       "      <td>DB00589</td>\n",
       "      <td>BE0004372</td>\n",
       "      <td>2246728737 3542456614 2245384272 592593828 848...</td>\n",
       "      <td>ATGCTCTCCACACTCCGCCGCACTCTATTTGCGCTGCTGGCTTGTG...</td>\n",
       "      <td>0</td>\n",
       "      <td>[0 3 2 ... 3 0 0]</td>\n",
       "      <td>[2, 2, 4, 6, 7, 2, 8, 7, 3, 7, 3, 5, 4, 2, 4, ...</td>\n",
       "      <td>1575</td>\n",
       "      <td>490</td>\n",
       "      <td>1085</td>\n",
       "      <td>19647</td>\n",
       "      <td>9011</td>\n",
       "      <td>[-1, -1, -1, -1, -1, -1, -1, -1, -1, -1, -1, -...</td>\n",
       "      <td>[-1, -1, -1, -1, -1, -1, -1, -1, -1, -1, -1, -...</td>\n",
       "    </tr>\n",
       "    <tr>\n",
       "      <th>20214</th>\n",
       "      <td>DB03777</td>\n",
       "      <td>BE0001284</td>\n",
       "      <td>2246728737 3818546315 848128881 3121777292 224...</td>\n",
       "      <td>ATGGCCGCAGTGATTCTGGAGAGCATCTTTCTGAAGCGATCCCAAC...</td>\n",
       "      <td>0</td>\n",
       "      <td>[0 3 2 ... 3 2 0]</td>\n",
       "      <td>[2, 2, 4, 6, 7, 2, 8, 7, 3, 7, 3, 8, 1, 8, 5, ...</td>\n",
       "      <td>1980</td>\n",
       "      <td>597</td>\n",
       "      <td>1383</td>\n",
       "      <td>19242</td>\n",
       "      <td>8904</td>\n",
       "      <td>[-1, -1, -1, -1, -1, -1, -1, -1, -1, -1, -1, -...</td>\n",
       "      <td>[-1, -1, -1, -1, -1, -1, -1, -1, -1, -1, -1, -...</td>\n",
       "    </tr>\n",
       "    <tr>\n",
       "      <th>27671</th>\n",
       "      <td>DB06838</td>\n",
       "      <td>BE0000048</td>\n",
       "      <td>2246728737 3975275337 864674487 2154935424 224...</td>\n",
       "      <td>ATGGCGCACGTCCGAGGCTTGCAGCTGCCTGGCTGCCTGGCCCTGG...</td>\n",
       "      <td>1</td>\n",
       "      <td>[0 3 2 ... 3 0 2]</td>\n",
       "      <td>[2, 2, 4, 6, 7, 2, 8, 7, 3, 7, 3, 9, 7, 5, 2, ...</td>\n",
       "      <td>1869</td>\n",
       "      <td>247</td>\n",
       "      <td>1622</td>\n",
       "      <td>19353</td>\n",
       "      <td>9254</td>\n",
       "      <td>[-1, -1, -1, -1, -1, -1, -1, -1, -1, -1, -1, -...</td>\n",
       "      <td>[-1, -1, -1, -1, -1, -1, -1, -1, -1, -1, -1, -...</td>\n",
       "    </tr>\n",
       "    <tr>\n",
       "      <th>14024</th>\n",
       "      <td>DB02865</td>\n",
       "      <td>BE0001326</td>\n",
       "      <td>2245384272 3153477100 2976033787 1916236386 29...</td>\n",
       "      <td>ATGGCGCGTTCCAAAACTGCTCAGCCAAAACACTCACTGCGTAAAA...</td>\n",
       "      <td>1</td>\n",
       "      <td>[0 3 2 ... 3 0 0]</td>\n",
       "      <td>[2, 2, 4, 5, 3, 8, 4, 2, 7, 2, 3, 1, 5, 3, 4, ...</td>\n",
       "      <td>2244</td>\n",
       "      <td>307</td>\n",
       "      <td>1937</td>\n",
       "      <td>18978</td>\n",
       "      <td>9194</td>\n",
       "      <td>[-1, -1, -1, -1, -1, -1, -1, -1, -1, -1, -1, -...</td>\n",
       "      <td>[-1, -1, -1, -1, -1, -1, -1, -1, -1, -1, -1, -...</td>\n",
       "    </tr>\n",
       "    <tr>\n",
       "      <th>23344</th>\n",
       "      <td>DB00630</td>\n",
       "      <td>BE0000980</td>\n",
       "      <td>2245384272 1510461303 2245384272 1583009052 22...</td>\n",
       "      <td>ATGACCTCACGTTTCCGATTGCCTGCTGGCAGAACCTACAATGTAC...</td>\n",
       "      <td>1</td>\n",
       "      <td>[0 3 2 ... 3 0 0]</td>\n",
       "      <td>[2, 2, 4, 5, 3, 8, 4, 2, 7, 2, 1, 5, 1, 0, 4, ...</td>\n",
       "      <td>2781</td>\n",
       "      <td>267</td>\n",
       "      <td>2514</td>\n",
       "      <td>18441</td>\n",
       "      <td>9234</td>\n",
       "      <td>[-1, -1, -1, -1, -1, -1, -1, -1, -1, -1, -1, -...</td>\n",
       "      <td>[-1, -1, -1, -1, -1, -1, -1, -1, -1, -1, -1, -...</td>\n",
       "    </tr>\n",
       "    <tr>\n",
       "      <th>...</th>\n",
       "      <td>...</td>\n",
       "      <td>...</td>\n",
       "      <td>...</td>\n",
       "      <td>...</td>\n",
       "      <td>...</td>\n",
       "      <td>...</td>\n",
       "      <td>...</td>\n",
       "      <td>...</td>\n",
       "      <td>...</td>\n",
       "      <td>...</td>\n",
       "      <td>...</td>\n",
       "      <td>...</td>\n",
       "      <td>...</td>\n",
       "      <td>...</td>\n",
       "    </tr>\n",
       "    <tr>\n",
       "      <th>18146</th>\n",
       "      <td>DB00408</td>\n",
       "      <td>BE0000145</td>\n",
       "      <td>2246728737 3657471097 2092489639 2021812431 29...</td>\n",
       "      <td>ATGCTGCCGCCAGGCAGCAACGGCACCGCGTACCCGGGGCAGTTCG...</td>\n",
       "      <td>1</td>\n",
       "      <td>[0 3 2 ... 3 0 0]</td>\n",
       "      <td>[2, 2, 4, 6, 7, 2, 8, 7, 3, 7, 3, 6, 5, 7, 4, ...</td>\n",
       "      <td>1434</td>\n",
       "      <td>447</td>\n",
       "      <td>987</td>\n",
       "      <td>19788</td>\n",
       "      <td>9054</td>\n",
       "      <td>[-1, -1, -1, -1, -1, -1, -1, -1, -1, -1, -1, -...</td>\n",
       "      <td>[-1, -1, -1, -1, -1, -1, -1, -1, -1, -1, -1, -...</td>\n",
       "    </tr>\n",
       "    <tr>\n",
       "      <th>28006</th>\n",
       "      <td>DB06902</td>\n",
       "      <td>BE0002088</td>\n",
       "      <td>2246728737 3537123720 2245277810 1459140616 22...</td>\n",
       "      <td>ATGTCAAACAAAGATCGACACATTGATTCCAGCTGTTCGTCCTTCA...</td>\n",
       "      <td>1</td>\n",
       "      <td>[0 3 2 ... 3 2 0]</td>\n",
       "      <td>[2, 2, 4, 6, 7, 2, 8, 7, 3, 7, 3, 5, 3, 7, 1, ...</td>\n",
       "      <td>1308</td>\n",
       "      <td>305</td>\n",
       "      <td>1003</td>\n",
       "      <td>19914</td>\n",
       "      <td>9196</td>\n",
       "      <td>[-1, -1, -1, -1, -1, -1, -1, -1, -1, -1, -1, -...</td>\n",
       "      <td>[-1, -1, -1, -1, -1, -1, -1, -1, -1, -1, -1, -...</td>\n",
       "    </tr>\n",
       "    <tr>\n",
       "      <th>8738</th>\n",
       "      <td>DB04043</td>\n",
       "      <td>BE0001084</td>\n",
       "      <td>2968968094 2142032900 2968968094 2142032900 29...</td>\n",
       "      <td>ATGCCCCTAGGTCTCCTGTGGCTGGGCCTAGCCCTGTTGGGGGCTC...</td>\n",
       "      <td>1</td>\n",
       "      <td>[0 3 2 1 1 1 1 3 0 2 2 3 1 3 1 1 3 2 3 2 2 1 3...</td>\n",
       "      <td>[2, 9, 6, 8, 9, 6, 8, 0, 9, 4, 2, 1, 4, 2, 0, ...</td>\n",
       "      <td>597</td>\n",
       "      <td>1022</td>\n",
       "      <td>-425</td>\n",
       "      <td>20625</td>\n",
       "      <td>8479</td>\n",
       "      <td>[-1, -1, -1, -1, -1, -1, -1, -1, -1, -1, -1, -...</td>\n",
       "      <td>[-1, -1, -1, -1, -1, -1, -1, -1, -1, -1, -1, -...</td>\n",
       "    </tr>\n",
       "    <tr>\n",
       "      <th>17230</th>\n",
       "      <td>DB01604</td>\n",
       "      <td>BE0004084</td>\n",
       "      <td>2246728737 1861965050 2976816164 3871159421 29...</td>\n",
       "      <td>ATGAAAAAGTACGTATGCACCGTCTGCGGTTACGAATACGACCCTG...</td>\n",
       "      <td>0</td>\n",
       "      <td>[0 3 2 0 0 0 0 0 2 3 0 1 2 3 0 3 2 1 0 1 1 2 3...</td>\n",
       "      <td>[2, 2, 4, 6, 7, 2, 8, 7, 3, 7, 1, 8, 6, 1, 9, ...</td>\n",
       "      <td>159</td>\n",
       "      <td>621</td>\n",
       "      <td>-462</td>\n",
       "      <td>21063</td>\n",
       "      <td>8880</td>\n",
       "      <td>[-1, -1, -1, -1, -1, -1, -1, -1, -1, -1, -1, -...</td>\n",
       "      <td>[-1, -1, -1, -1, -1, -1, -1, -1, -1, -1, -1, -...</td>\n",
       "    </tr>\n",
       "    <tr>\n",
       "      <th>19873</th>\n",
       "      <td>DB05505</td>\n",
       "      <td>BE0000494</td>\n",
       "      <td>3218693969 98513984 3218693969 951226070 32173...</td>\n",
       "      <td>ATGGTAGGCCATCAGGAGTGCATCATGGAAGAGGACAATCGCGCTC...</td>\n",
       "      <td>0</td>\n",
       "      <td>[0 3 2 ... 3 0 2]</td>\n",
       "      <td>[3, 2, 1, 8, 6, 9, 3, 9, 6, 9, 9, 8, 5, 1, 3, ...</td>\n",
       "      <td>1056</td>\n",
       "      <td>532</td>\n",
       "      <td>524</td>\n",
       "      <td>20166</td>\n",
       "      <td>8969</td>\n",
       "      <td>[-1, -1, -1, -1, -1, -1, -1, -1, -1, -1, -1, -...</td>\n",
       "      <td>[-1, -1, -1, -1, -1, -1, -1, -1, -1, -1, -1, -...</td>\n",
       "    </tr>\n",
       "  </tbody>\n",
       "</table>\n",
       "<p>8795 rows × 14 columns</p>\n",
       "</div>"
      ],
      "text/plain": [
       "       drug_id    gene_id                              drug_fingerprint_code  \\\n",
       "14956  DB00589  BE0004372  2246728737 3542456614 2245384272 592593828 848...   \n",
       "20214  DB03777  BE0001284  2246728737 3818546315 848128881 3121777292 224...   \n",
       "27671  DB06838  BE0000048  2246728737 3975275337 864674487 2154935424 224...   \n",
       "14024  DB02865  BE0001326  2245384272 3153477100 2976033787 1916236386 29...   \n",
       "23344  DB00630  BE0000980  2245384272 1510461303 2245384272 1583009052 22...   \n",
       "...        ...        ...                                                ...   \n",
       "18146  DB00408  BE0000145  2246728737 3657471097 2092489639 2021812431 29...   \n",
       "28006  DB06902  BE0002088  2246728737 3537123720 2245277810 1459140616 22...   \n",
       "8738   DB04043  BE0001084  2968968094 2142032900 2968968094 2142032900 29...   \n",
       "17230  DB01604  BE0004084  2246728737 1861965050 2976816164 3871159421 29...   \n",
       "19873  DB05505  BE0000494  3218693969 98513984 3218693969 951226070 32173...   \n",
       "\n",
       "                                        target_gene_code  Y  \\\n",
       "14956  ATGCTCTCCACACTCCGCCGCACTCTATTTGCGCTGCTGGCTTGTG...  0   \n",
       "20214  ATGGCCGCAGTGATTCTGGAGAGCATCTTTCTGAAGCGATCCCAAC...  0   \n",
       "27671  ATGGCGCACGTCCGAGGCTTGCAGCTGCCTGGCTGCCTGGCCCTGG...  1   \n",
       "14024  ATGGCGCGTTCCAAAACTGCTCAGCCAAAACACTCACTGCGTAAAA...  1   \n",
       "23344  ATGACCTCACGTTTCCGATTGCCTGCTGGCAGAACCTACAATGTAC...  1   \n",
       "...                                                  ... ..   \n",
       "18146  ATGCTGCCGCCAGGCAGCAACGGCACCGCGTACCCGGGGCAGTTCG...  1   \n",
       "28006  ATGTCAAACAAAGATCGACACATTGATTCCAGCTGTTCGTCCTTCA...  1   \n",
       "8738   ATGCCCCTAGGTCTCCTGTGGCTGGGCCTAGCCCTGTTGGGGGCTC...  1   \n",
       "17230  ATGAAAAAGTACGTATGCACCGTCTGCGGTTACGAATACGACCCTG...  0   \n",
       "19873  ATGGTAGGCCATCAGGAGTGCATCATGGAAGAGGACAATCGCGCTC...  0   \n",
       "\n",
       "                                     target_gene_encoded  \\\n",
       "14956                                  [0 3 2 ... 3 0 0]   \n",
       "20214                                  [0 3 2 ... 3 2 0]   \n",
       "27671                                  [0 3 2 ... 3 0 2]   \n",
       "14024                                  [0 3 2 ... 3 0 0]   \n",
       "23344                                  [0 3 2 ... 3 0 0]   \n",
       "...                                                  ...   \n",
       "18146                                  [0 3 2 ... 3 0 0]   \n",
       "28006                                  [0 3 2 ... 3 2 0]   \n",
       "8738   [0 3 2 1 1 1 1 3 0 2 2 3 1 3 1 1 3 2 3 2 2 1 3...   \n",
       "17230  [0 3 2 0 0 0 0 0 2 3 0 1 2 3 0 3 2 1 0 1 1 2 3...   \n",
       "19873                                  [0 3 2 ... 3 0 2]   \n",
       "\n",
       "                                drug_fingerprint_encoded  \\\n",
       "14956  [2, 2, 4, 6, 7, 2, 8, 7, 3, 7, 3, 5, 4, 2, 4, ...   \n",
       "20214  [2, 2, 4, 6, 7, 2, 8, 7, 3, 7, 3, 8, 1, 8, 5, ...   \n",
       "27671  [2, 2, 4, 6, 7, 2, 8, 7, 3, 7, 3, 9, 7, 5, 2, ...   \n",
       "14024  [2, 2, 4, 5, 3, 8, 4, 2, 7, 2, 3, 1, 5, 3, 4, ...   \n",
       "23344  [2, 2, 4, 5, 3, 8, 4, 2, 7, 2, 1, 5, 1, 0, 4, ...   \n",
       "...                                                  ...   \n",
       "18146  [2, 2, 4, 6, 7, 2, 8, 7, 3, 7, 3, 6, 5, 7, 4, ...   \n",
       "28006  [2, 2, 4, 6, 7, 2, 8, 7, 3, 7, 3, 5, 3, 7, 1, ...   \n",
       "8738   [2, 9, 6, 8, 9, 6, 8, 0, 9, 4, 2, 1, 4, 2, 0, ...   \n",
       "17230  [2, 2, 4, 6, 7, 2, 8, 7, 3, 7, 1, 8, 6, 1, 9, ...   \n",
       "19873  [3, 2, 1, 8, 6, 9, 3, 9, 6, 9, 9, 8, 5, 1, 3, ...   \n",
       "\n",
       "       target_gene_encoded_len  drug_fingerprint_encoded_len  mismatch  \\\n",
       "14956                     1575                           490      1085   \n",
       "20214                     1980                           597      1383   \n",
       "27671                     1869                           247      1622   \n",
       "14024                     2244                           307      1937   \n",
       "23344                     2781                           267      2514   \n",
       "...                        ...                           ...       ...   \n",
       "18146                     1434                           447       987   \n",
       "28006                     1308                           305      1003   \n",
       "8738                       597                          1022      -425   \n",
       "17230                      159                           621      -462   \n",
       "19873                     1056                           532       524   \n",
       "\n",
       "       target_gene_encoded_mismatch  drug_fingerprint_encoded_mismatch  \\\n",
       "14956                         19647                               9011   \n",
       "20214                         19242                               8904   \n",
       "27671                         19353                               9254   \n",
       "14024                         18978                               9194   \n",
       "23344                         18441                               9234   \n",
       "...                             ...                                ...   \n",
       "18146                         19788                               9054   \n",
       "28006                         19914                               9196   \n",
       "8738                          20625                               8479   \n",
       "17230                         21063                               8880   \n",
       "19873                         20166                               8969   \n",
       "\n",
       "                              target_gene_encoded_padded  \\\n",
       "14956  [-1, -1, -1, -1, -1, -1, -1, -1, -1, -1, -1, -...   \n",
       "20214  [-1, -1, -1, -1, -1, -1, -1, -1, -1, -1, -1, -...   \n",
       "27671  [-1, -1, -1, -1, -1, -1, -1, -1, -1, -1, -1, -...   \n",
       "14024  [-1, -1, -1, -1, -1, -1, -1, -1, -1, -1, -1, -...   \n",
       "23344  [-1, -1, -1, -1, -1, -1, -1, -1, -1, -1, -1, -...   \n",
       "...                                                  ...   \n",
       "18146  [-1, -1, -1, -1, -1, -1, -1, -1, -1, -1, -1, -...   \n",
       "28006  [-1, -1, -1, -1, -1, -1, -1, -1, -1, -1, -1, -...   \n",
       "8738   [-1, -1, -1, -1, -1, -1, -1, -1, -1, -1, -1, -...   \n",
       "17230  [-1, -1, -1, -1, -1, -1, -1, -1, -1, -1, -1, -...   \n",
       "19873  [-1, -1, -1, -1, -1, -1, -1, -1, -1, -1, -1, -...   \n",
       "\n",
       "                         drug_fingerprint_encoded_padded  \n",
       "14956  [-1, -1, -1, -1, -1, -1, -1, -1, -1, -1, -1, -...  \n",
       "20214  [-1, -1, -1, -1, -1, -1, -1, -1, -1, -1, -1, -...  \n",
       "27671  [-1, -1, -1, -1, -1, -1, -1, -1, -1, -1, -1, -...  \n",
       "14024  [-1, -1, -1, -1, -1, -1, -1, -1, -1, -1, -1, -...  \n",
       "23344  [-1, -1, -1, -1, -1, -1, -1, -1, -1, -1, -1, -...  \n",
       "...                                                  ...  \n",
       "18146  [-1, -1, -1, -1, -1, -1, -1, -1, -1, -1, -1, -...  \n",
       "28006  [-1, -1, -1, -1, -1, -1, -1, -1, -1, -1, -1, -...  \n",
       "8738   [-1, -1, -1, -1, -1, -1, -1, -1, -1, -1, -1, -...  \n",
       "17230  [-1, -1, -1, -1, -1, -1, -1, -1, -1, -1, -1, -...  \n",
       "19873  [-1, -1, -1, -1, -1, -1, -1, -1, -1, -1, -1, -...  \n",
       "\n",
       "[8795 rows x 14 columns]"
      ]
     },
     "execution_count": 25,
     "metadata": {},
     "output_type": "execute_result"
    }
   ],
   "source": [
    "test_df"
   ]
  },
  {
   "cell_type": "code",
   "execution_count": 26,
   "metadata": {},
   "outputs": [
    {
     "data": {
      "text/plain": [
       "<matplotlib.axes._subplots.AxesSubplot at 0x7f70f0554518>"
      ]
     },
     "execution_count": 26,
     "metadata": {},
     "output_type": "execute_result"
    },
    {
     "data": {
      "image/png": "[encoded data removed]",
      "text/plain": [
       "<Figure size 432x288 with 1 Axes>"
      ]
     },
     "metadata": {
      "needs_background": "light"
     },
     "output_type": "display_data"
    }
   ],
   "source": [
    "test_df['Y'].hist()"
   ]
  },
  {
   "cell_type": "code",
   "execution_count": 27,
   "metadata": {},
   "outputs": [
    {
     "name": "stdout",
     "output_type": "stream",
     "text": [
      "CPU times: user 9min 25s, sys: 0 ns, total: 9min 25s\n",
      "Wall time: 9min 21s\n"
     ]
    }
   ],
   "source": [
    "%%time\n",
    "X_0 = np.array(list(train_df['target_gene_encoded_padded'])).astype(int) + 1\n",
    "X_1 = np.array(list(train_df['drug_fingerprint_encoded_padded'])).astype(int) + 1\n",
    "Y   = np.array(list(train_df['Y'])).astype(int)"
   ]
  },
  {
   "cell_type": "code",
   "execution_count": 28,
   "metadata": {},
   "outputs": [
    {
     "name": "stdout",
     "output_type": "stream",
     "text": [
      "CPU times: user 3min 20s, sys: 0 ns, total: 3min 20s\n",
      "Wall time: 3min 19s\n"
     ]
    }
   ],
   "source": [
    "%%time\n",
    "X_0_test = np.array(list(test_df['target_gene_encoded_padded'])).astype(int) + 1\n",
    "X_1_test = np.array(list(test_df['drug_fingerprint_encoded_padded'])).astype(int) + 1\n",
    "Y_test   = np.array(list(test_df['Y'])).astype(int)"
   ]
  },
  {
   "cell_type": "code",
   "execution_count": 29,
   "metadata": {},
   "outputs": [
    {
     "data": {
      "text/plain": [
       "(26385, 21222)"
      ]
     },
     "execution_count": 29,
     "metadata": {},
     "output_type": "execute_result"
    }
   ],
   "source": [
    "X_0.shape"
   ]
  },
  {
   "cell_type": "code",
   "execution_count": 30,
   "metadata": {},
   "outputs": [
    {
     "data": {
      "text/plain": [
       "(array([2.2564e+04, 3.1840e+03, 3.4300e+02, 1.5200e+02, 9.6000e+01,\n",
       "        1.5000e+01, 2.8000e+01, 0.0000e+00, 0.0000e+00, 3.0000e+00]),\n",
       " array([  170. ,  5553.7, 10937.4, 16321.1, 21704.8, 27088.5, 32472.2,\n",
       "        37855.9, 43239.6, 48623.3, 54007. ]),\n",
       " <a list of 10 Patch objects>)"
      ]
     },
     "execution_count": 30,
     "metadata": {},
     "output_type": "execute_result"
    },
    {
     "data": {
      "image/png": "[encoded data removed]",
      "text/plain": [
       "<Figure size 432x288 with 1 Axes>"
      ]
     },
     "metadata": {
      "needs_background": "light"
     },
     "output_type": "display_data"
    }
   ],
   "source": [
    "plt.hist(np.sum(X_0, axis =1))"
   ]
  },
  {
   "cell_type": "code",
   "execution_count": 43,
   "metadata": {},
   "outputs": [
    {
     "data": {
      "text/plain": [
       "[0.0]"
      ]
     },
     "execution_count": 43,
     "metadata": {},
     "output_type": "execute_result"
    }
   ],
   "source": [
    "padding_fractions"
   ]
  },
  {
   "cell_type": "markdown",
   "metadata": {},
   "source": [
    "#### Trimming the feature martrix to minimize padding. This trimming may result in loss of data from the largest SMILE and fingerprints, but are neccesary to reduce the amount of padding"
   ]
  },
  {
   "cell_type": "code",
   "execution_count": 44,
   "metadata": {},
   "outputs": [
    {
     "name": "stdout",
     "output_type": "stream",
     "text": [
      "0.9\n",
      "CPU times: user 1.31 s, sys: 0 ns, total: 1.31 s\n",
      "Wall time: 1.3 s\n"
     ]
    }
   ],
   "source": [
    "%%time\n",
    "## Trim the X of -1's. Might loose actual sequences\n",
    "padding_fractions = []\n",
    "padding_fraction = 0.9\n",
    "\n",
    "while padding_fraction > 0.50:\n",
    "    print(padding_fraction)\n",
    "    \n",
    "    padding_fraction = len(X_0[np.where(X_0 == -1)]) / (X_0.shape[0] * X_0.shape[1])\n",
    "    padding_fractions.append(padding_fraction)\n",
    "    trimming_factor = 0.1\n",
    "\n",
    "    X_0 = X_0[:,int(X_0.shape[1]*trimming_factor) : X_0.shape[1] - int(X_0.shape[1]*trimming_factor)]\n",
    "    X_1 = X_1[:,int(X_1.shape[1]*trimming_factor) : X_1.shape[1] - int(X_1.shape[1]*trimming_factor)]\n",
    "\n",
    "    X_0_test = X_0_test[:,int(X_0_test.shape[1]*trimming_factor) : X_0_test.shape[1] - int(X_0_test.shape[1]*trimming_factor)]\n",
    "    X_1_test = X_1_test[:,int(X_1_test.shape[1]*trimming_factor) : X_1_test.shape[1] - int(X_1_test.shape[1]*trimming_factor)]\n"
   ]
  },
  {
   "cell_type": "code",
   "execution_count": 42,
   "metadata": {},
   "outputs": [
    {
     "data": {
      "text/plain": [
       "[<matplotlib.lines.Line2D at 0x7f70c55f75f8>]"
      ]
     },
     "execution_count": 42,
     "metadata": {},
     "output_type": "execute_result"
    },
    {
     "data": {
      "image/png": "[encoded data removed]",
      "text/plain": [
       "<Figure size 432x288 with 1 Axes>"
      ]
     },
     "metadata": {
      "needs_background": "light"
     },
     "output_type": "display_data"
    }
   ],
   "source": [
    "plt.plot(padding_fractions)"
   ]
  },
  {
   "cell_type": "code",
   "execution_count": 40,
   "metadata": {},
   "outputs": [
    {
     "data": {
      "text/plain": [
       "(26385, 13584)"
      ]
     },
     "execution_count": 40,
     "metadata": {},
     "output_type": "execute_result"
    }
   ],
   "source": [
    "X_0.shape"
   ]
  },
  {
   "cell_type": "code",
   "execution_count": 88,
   "metadata": {},
   "outputs": [
    {
     "data": {
      "text/plain": [
       "(8796, 3470)"
      ]
     },
     "execution_count": 88,
     "metadata": {},
     "output_type": "execute_result"
    }
   ],
   "source": [
    "X_0_test.shape"
   ]
  },
  {
   "cell_type": "code",
   "execution_count": 82,
   "metadata": {},
   "outputs": [],
   "source": [
    "X_0 = np.hstack((X_0, X_1))\n",
    "X_0_test = np.hstack((X_0_test, X_1_test))"
   ]
  },
  {
   "cell_type": "code",
   "execution_count": 53,
   "metadata": {},
   "outputs": [
    {
     "data": {
      "text/plain": [
       "(26386, 2649)"
      ]
     },
     "execution_count": 53,
     "metadata": {},
     "output_type": "execute_result"
    }
   ],
   "source": [
    "X_0.shape"
   ]
  },
  {
   "cell_type": "code",
   "execution_count": 54,
   "metadata": {},
   "outputs": [
    {
     "data": {
      "text/plain": [
       "(8796, 2649)"
      ]
     },
     "execution_count": 54,
     "metadata": {},
     "output_type": "execute_result"
    }
   ],
   "source": [
    "X_0_test.shape"
   ]
  },
  {
   "cell_type": "code",
   "execution_count": 55,
   "metadata": {},
   "outputs": [],
   "source": [
    "del drugbank, drugbank_test, drugbank_reader"
   ]
  },
  {
   "cell_type": "code",
   "execution_count": 25,
   "metadata": {},
   "outputs": [
    {
     "data": {
      "text/plain": [
       "(26390, 21222)"
      ]
     },
     "execution_count": 25,
     "metadata": {},
     "output_type": "execute_result"
    }
   ],
   "source": [
    "X_0.shape"
   ]
  },
  {
   "cell_type": "code",
   "execution_count": 58,
   "metadata": {},
   "outputs": [],
   "source": [
    "model.save('data/models/pure_cnn_gene_only_TF1p6.model')"
   ]
  },
  {
   "cell_type": "code",
   "execution_count": 61,
   "metadata": {},
   "outputs": [],
   "source": [
    "Y_pred = model.predict(X_0_test[..., np.newaxis])"
   ]
  },
  {
   "cell_type": "code",
   "execution_count": 63,
   "metadata": {},
   "outputs": [],
   "source": [
    "Y_pred = [1 if i > 0.5 else 0 for i in Y_pred]"
   ]
  },
  {
   "cell_type": "code",
   "execution_count": 64,
   "metadata": {},
   "outputs": [],
   "source": [
    "tn, fp, fn, tp = confusion_matrix(Y_test, Y_pred).ravel()\n",
    "cm = confusion_matrix(Y_test, Y_pred)"
   ]
  },
  {
   "cell_type": "code",
   "execution_count": 65,
   "metadata": {},
   "outputs": [],
   "source": [
    "def plot_confusion_matrix(y_true, y_pred, classes,\n",
    "                          normalize=False,\n",
    "                          title=None,\n",
    "                          cmap=plt.cm.Blues):\n",
    "    \"\"\"\n",
    "    This function prints and plots the confusion matrix.\n",
    "    Normalization can be applied by setting `normalize=True`.\n",
    "    \n",
    "    NOTE: Taken from sklearn example\n",
    "    \"\"\"\n",
    "    if not title:\n",
    "        if normalize:\n",
    "            title = 'Normalized confusion matrix'\n",
    "        else:\n",
    "            title = 'Confusion matrix, without normalization'\n",
    "\n",
    "    # Compute confusion matrix\n",
    "    cm = confusion_matrix(y_true, y_pred)\n",
    "    # Only use the labels that appear in the data\n",
    "    classes = [0,1]\n",
    "    if normalize:\n",
    "        cm = cm.astype('float') / cm.sum(axis=1)[:, np.newaxis]\n",
    "        print(\"Normalized confusion matrix\")\n",
    "    else:\n",
    "        print('Confusion matrix, without normalization')\n",
    "\n",
    "    print(cm)\n",
    "\n",
    "    fig, ax = plt.subplots()\n",
    "    im = ax.imshow(cm, interpolation='nearest', cmap=cmap)\n",
    "    ax.figure.colorbar(im, ax=ax)\n",
    "    # We want to show all ticks...\n",
    "    ax.set(xticks=np.arange(cm.shape[1]),\n",
    "           yticks=np.arange(cm.shape[0]),\n",
    "           # ... and label them with the respective list entries\n",
    "           xticklabels=classes, yticklabels=classes,\n",
    "           title=title,\n",
    "           ylabel='True label',\n",
    "           xlabel='Predicted label')\n",
    "\n",
    "    # Rotate the tick labels and set their alignment.\n",
    "    plt.setp(ax.get_xticklabels(), rotation=45, ha=\"right\",\n",
    "             rotation_mode=\"anchor\")\n",
    "\n",
    "    # Loop over data dimensions and create text annotations.\n",
    "    fmt = '.2f' if normalize else 'd'\n",
    "    thresh = cm.max() / 2.\n",
    "    for i in range(cm.shape[0]):\n",
    "        for j in range(cm.shape[1]):\n",
    "            ax.text(j, i, format(cm[i, j], fmt),\n",
    "                    ha=\"center\", va=\"center\",\n",
    "                    color=\"white\" if cm[i, j] > thresh else \"black\")\n",
    "    fig.tight_layout()\n",
    "    return ax"
   ]
  },
  {
   "cell_type": "code",
   "execution_count": 66,
   "metadata": {},
   "outputs": [
    {
     "name": "stdout",
     "output_type": "stream",
     "text": [
      "Confusion matrix, without normalization\n",
      "[[3482  188]\n",
      " [ 803 3027]]\n",
      "Normalized confusion matrix\n",
      "[[0.94877384 0.05122616]\n",
      " [0.20966057 0.79033943]]\n"
     ]
    },
    {
     "data": {
      "image/png": "[encoded data removed]",
      "text/plain": [
       "<Figure size 432x288 with 2 Axes>"
      ]
     },
     "metadata": {},
     "output_type": "display_data"
    },
    {
     "data": {
      "image/png": "[encoded data removed]",
      "text/plain": [
       "<Figure size 432x288 with 2 Axes>"
      ]
     },
     "metadata": {},
     "output_type": "display_data"
    }
   ],
   "source": [
    "# Plot non-normalized confusion matrix\n",
    "plot_confusion_matrix(Y_test, Y_pred, classes=[0, 1],\n",
    "                      title='Confusion matrix, without normalization')\n",
    "\n",
    "# Plot normalized confusion matrix\n",
    "plot_confusion_matrix(Y_test, Y_pred, classes=[0, 1], normalize=True,\n",
    "                      title='Normalized confusion matrix')\n",
    "\n",
    "plt.show()"
   ]
  },
  {
   "cell_type": "code",
   "execution_count": 67,
   "metadata": {},
   "outputs": [
    {
     "data": {
      "text/plain": [
       "0.8593328601845281"
      ]
     },
     "execution_count": 67,
     "metadata": {},
     "output_type": "execute_result"
    }
   ],
   "source": [
    "f1_score(Y_test, Y_pred)"
   ]
  },
  {
   "cell_type": "markdown",
   "metadata": {},
   "source": [
    "## CNN in Chunks"
   ]
  },
  {
   "cell_type": "code",
   "execution_count": 9,
   "metadata": {},
   "outputs": [],
   "source": [
    "from IPython.display import clear_output\n",
    "class PlotLosses(tensorflow.keras.callbacks.Callback):\n",
    "    def on_train_begin(self, logs={}):\n",
    "        self.i = 0\n",
    "        self.x = []\n",
    "        self.losses = []\n",
    "        self.val_losses = []\n",
    "        \n",
    "        self.fig = plt.figure()\n",
    "        \n",
    "        self.logs = []\n",
    "\n",
    "    def on_epoch_end(self, epoch, logs={}):\n",
    "        \n",
    "        self.logs.append(logs)\n",
    "        self.x.append(self.i)\n",
    "        self.losses.append(logs.get('loss'))\n",
    "        self.val_losses.append(logs.get('val_loss'))\n",
    "        self.i += 1\n",
    "        \n",
    "        clear_output(wait=True)\n",
    "        plt.plot(self.x, self.losses, label=\"loss\")\n",
    "        plt.plot(self.x, self.val_losses, label=\"val_loss\")\n",
    "        plt.legend()\n",
    "        plt.show()\n",
    "        \n",
    "        plt.plot(range(len(global_history)), global_history, label = 'Accuracy - Global')\n",
    "        plt.show()\n",
    "        \n",
    "plot_losses = PlotLosses()"
   ]
  },
  {
   "cell_type": "code",
   "execution_count": 6,
   "metadata": {},
   "outputs": [],
   "source": [
    "drugbank_reader = pd.read_csv('data/intermediate/interactions_preprocessed.csv', chunksize = 500, iterator = True, converters={\"target_gene_encoded_padded\": \\\n",
    "                                                                                     lambda x: np.array(x.strip(\"[]\").replace(\"'\",\"\").split(\", \")),\n",
    "                                                                                    \"drug_fingerprint_encoded_padded\": \\\n",
    "                                                                                    lambda x: np.array(x.strip(\"[]\").replace(\"'\",\"\").split(\", \"))})\n",
    "\n",
    "drugbank = drugbank_reader.__next__()\n"
   ]
  },
  {
   "cell_type": "code",
   "execution_count": 5,
   "metadata": {},
   "outputs": [
    {
     "data": {
      "text/html": [
       "<div>\n",
       "<style scoped>\n",
       "    .dataframe tbody tr th:only-of-type {\n",
       "        vertical-align: middle;\n",
       "    }\n",
       "\n",
       "    .dataframe tbody tr th {\n",
       "        vertical-align: top;\n",
       "    }\n",
       "\n",
       "    .dataframe thead th {\n",
       "        text-align: right;\n",
       "    }\n",
       "</style>\n",
       "<table border=\"1\" class=\"dataframe\">\n",
       "  <thead>\n",
       "    <tr style=\"text-align: right;\">\n",
       "      <th></th>\n",
       "      <th>drug_id</th>\n",
       "      <th>gene_id</th>\n",
       "      <th>drug_fingerprint_code</th>\n",
       "      <th>target_gene_code</th>\n",
       "      <th>Y</th>\n",
       "      <th>target_gene_encoded</th>\n",
       "      <th>drug_fingerprint_encoded</th>\n",
       "      <th>target_gene_encoded_len</th>\n",
       "      <th>drug_fingerprint_encoded_len</th>\n",
       "      <th>mismatch</th>\n",
       "      <th>target_gene_encoded_mismatch</th>\n",
       "      <th>drug_fingerprint_encoded_mismatch</th>\n",
       "      <th>target_gene_encoded_padded</th>\n",
       "      <th>drug_fingerprint_encoded_padded</th>\n",
       "    </tr>\n",
       "  </thead>\n",
       "  <tbody>\n",
       "    <tr>\n",
       "      <th>0</th>\n",
       "      <td>DB01045</td>\n",
       "      <td>BE0003971</td>\n",
       "      <td>2246728737 1858577693 2976033787 2673417767 32...</td>\n",
       "      <td>ATGAAAAAGTTAACAGTGGCGGCTTTGGCAGTAACAACTCTTCTCT...</td>\n",
       "      <td>0</td>\n",
       "      <td>[0 3 2 0 0 0 0 0 2 3 3 0 0 1 0 2 3 2 2 1 2 2 1...</td>\n",
       "      <td>[2, 2, 4, 6, 7, 2, 8, 7, 3, 7, 1, 8, 5, 8, 5, ...</td>\n",
       "      <td>639</td>\n",
       "      <td>1144</td>\n",
       "      <td>-505</td>\n",
       "      <td>20583</td>\n",
       "      <td>8357</td>\n",
       "      <td>[-1, -1, -1, -1, -1, -1, -1, -1, -1, -1, -1, -...</td>\n",
       "      <td>[-1, -1, -1, -1, -1, -1, -1, -1, -1, -1, -1, -...</td>\n",
       "    </tr>\n",
       "    <tr>\n",
       "      <th>1</th>\n",
       "      <td>DB00155</td>\n",
       "      <td>BE0001092</td>\n",
       "      <td>2245384272 1510461303 2245384272 1583799011 22...</td>\n",
       "      <td>ATGGCCCAGGGGACATTGATCCGTGTGACCCCAGAGCAGCCCACCC...</td>\n",
       "      <td>1</td>\n",
       "      <td>[0 3 2 ... 3 2 0]</td>\n",
       "      <td>[2, 2, 4, 5, 3, 8, 4, 2, 7, 2, 1, 5, 1, 0, 4, ...</td>\n",
       "      <td>1992</td>\n",
       "      <td>232</td>\n",
       "      <td>1760</td>\n",
       "      <td>19230</td>\n",
       "      <td>9269</td>\n",
       "      <td>[-1, -1, -1, -1, -1, -1, -1, -1, -1, -1, -1, -...</td>\n",
       "      <td>[-1, -1, -1, -1, -1, -1, -1, -1, -1, -1, -1, -...</td>\n",
       "    </tr>\n",
       "    <tr>\n",
       "      <th>2</th>\n",
       "      <td>DB11731</td>\n",
       "      <td>BE0002161</td>\n",
       "      <td>2246728737 3542456614 2245384272 1506563592 22...</td>\n",
       "      <td>ATGGACGCGTCCCTGGAGAAGATAGCAGACCCCACGTTAGCTGAAA...</td>\n",
       "      <td>0</td>\n",
       "      <td>[0 3 2 ... 3 2 0]</td>\n",
       "      <td>[2, 2, 4, 6, 7, 2, 8, 7, 3, 7, 3, 5, 4, 2, 4, ...</td>\n",
       "      <td>2286</td>\n",
       "      <td>1282</td>\n",
       "      <td>1004</td>\n",
       "      <td>18936</td>\n",
       "      <td>8219</td>\n",
       "      <td>[-1, -1, -1, -1, -1, -1, -1, -1, -1, -1, -1, -...</td>\n",
       "      <td>[-1, -1, -1, -1, -1, -1, -1, -1, -1, -1, -1, -...</td>\n",
       "    </tr>\n",
       "    <tr>\n",
       "      <th>3</th>\n",
       "      <td>DB02095</td>\n",
       "      <td>BE0000009</td>\n",
       "      <td>3218693969 98513984 3218693969 98513984 321869...</td>\n",
       "      <td>ATGGCGAACGAGGTTATCAAGTGCAAGGCTGCAGTTGCTTGGGAGG...</td>\n",
       "      <td>0</td>\n",
       "      <td>[0 3 2 ... 3 0 0]</td>\n",
       "      <td>[3, 2, 1, 8, 6, 9, 3, 9, 6, 9, 9, 8, 5, 1, 3, ...</td>\n",
       "      <td>1125</td>\n",
       "      <td>207</td>\n",
       "      <td>918</td>\n",
       "      <td>20097</td>\n",
       "      <td>9294</td>\n",
       "      <td>[-1, -1, -1, -1, -1, -1, -1, -1, -1, -1, -1, -...</td>\n",
       "      <td>[-1, -1, -1, -1, -1, -1, -1, -1, -1, -1, -1, -...</td>\n",
       "    </tr>\n",
       "    <tr>\n",
       "      <th>4</th>\n",
       "      <td>DB01094</td>\n",
       "      <td>BE0000105</td>\n",
       "      <td>2246728737 3975275337 864674487 2076190208 321...</td>\n",
       "      <td>ATGGAATTGAAGCCATTTTTTATGAAGGAAGTTGGCAGTCACTTTG...</td>\n",
       "      <td>1</td>\n",
       "      <td>[0 3 2 ... 3 0 2]</td>\n",
       "      <td>[2, 2, 4, 6, 7, 2, 8, 7, 3, 7, 3, 9, 7, 5, 2, ...</td>\n",
       "      <td>1479</td>\n",
       "      <td>420</td>\n",
       "      <td>1059</td>\n",
       "      <td>19743</td>\n",
       "      <td>9081</td>\n",
       "      <td>[-1, -1, -1, -1, -1, -1, -1, -1, -1, -1, -1, -...</td>\n",
       "      <td>[-1, -1, -1, -1, -1, -1, -1, -1, -1, -1, -1, -...</td>\n",
       "    </tr>\n",
       "    <tr>\n",
       "      <th>...</th>\n",
       "      <td>...</td>\n",
       "      <td>...</td>\n",
       "      <td>...</td>\n",
       "      <td>...</td>\n",
       "      <td>...</td>\n",
       "      <td>...</td>\n",
       "      <td>...</td>\n",
       "      <td>...</td>\n",
       "      <td>...</td>\n",
       "      <td>...</td>\n",
       "      <td>...</td>\n",
       "      <td>...</td>\n",
       "      <td>...</td>\n",
       "      <td>...</td>\n",
       "    </tr>\n",
       "    <tr>\n",
       "      <th>495</th>\n",
       "      <td>DB04185</td>\n",
       "      <td>BE0003634</td>\n",
       "      <td>2246728737 3542456614 2245384272 1173125914 22...</td>\n",
       "      <td>ATGTTGTTCTCCGCCCTCCTGCTGGAGGTGATTTGGATCCTGGCTG...</td>\n",
       "      <td>0</td>\n",
       "      <td>[0 3 2 ... 3 0 0]</td>\n",
       "      <td>[2, 2, 4, 6, 7, 2, 8, 7, 3, 7, 3, 5, 4, 2, 4, ...</td>\n",
       "      <td>1014</td>\n",
       "      <td>157</td>\n",
       "      <td>857</td>\n",
       "      <td>20208</td>\n",
       "      <td>9344</td>\n",
       "      <td>[-1, -1, -1, -1, -1, -1, -1, -1, -1, -1, -1, -...</td>\n",
       "      <td>[-1, -1, -1, -1, -1, -1, -1, -1, -1, -1, -1, -...</td>\n",
       "    </tr>\n",
       "    <tr>\n",
       "      <th>496</th>\n",
       "      <td>DB02685</td>\n",
       "      <td>BE0000939</td>\n",
       "      <td>2246728737 422715066 3217380708 3207567135 321...</td>\n",
       "      <td>ATGTGGCAGCTCTGGGCCTCCCTCTGCTGCCTGCTGGTGTTGGCCA...</td>\n",
       "      <td>1</td>\n",
       "      <td>[0 3 2 ... 3 0 0]</td>\n",
       "      <td>[2, 2, 4, 6, 7, 2, 8, 7, 3, 7, 4, 2, 2, 7, 1, ...</td>\n",
       "      <td>1020</td>\n",
       "      <td>249</td>\n",
       "      <td>771</td>\n",
       "      <td>20202</td>\n",
       "      <td>9252</td>\n",
       "      <td>[-1, -1, -1, -1, -1, -1, -1, -1, -1, -1, -1, -...</td>\n",
       "      <td>[-1, -1, -1, -1, -1, -1, -1, -1, -1, -1, -1, -...</td>\n",
       "    </tr>\n",
       "    <tr>\n",
       "      <th>497</th>\n",
       "      <td>DB02671</td>\n",
       "      <td>BE0004177</td>\n",
       "      <td>2246728737 3657558689 2092554703 3892830899 32...</td>\n",
       "      <td>ATGGCACTGCTCAGCTTCGAGCGAAAATATCGCGTGCCGGGGGGCA...</td>\n",
       "      <td>0</td>\n",
       "      <td>[0 3 2 2 1 0 1 3 2 1 3 1 0 2 1 3 3 1 2 0 2 1 2...</td>\n",
       "      <td>[2, 2, 4, 6, 7, 2, 8, 7, 3, 7, 3, 6, 5, 7, 5, ...</td>\n",
       "      <td>849</td>\n",
       "      <td>119</td>\n",
       "      <td>730</td>\n",
       "      <td>20373</td>\n",
       "      <td>9382</td>\n",
       "      <td>[-1, -1, -1, -1, -1, -1, -1, -1, -1, -1, -1, -...</td>\n",
       "      <td>[-1, -1, -1, -1, -1, -1, -1, -1, -1, -1, -1, -...</td>\n",
       "    </tr>\n",
       "    <tr>\n",
       "      <th>498</th>\n",
       "      <td>DB06616</td>\n",
       "      <td>BE0004744</td>\n",
       "      <td>2246728737 3657471097 2092489639 2021812431 29...</td>\n",
       "      <td>ATGCTGGCCCGGAGGAAGCCGGTGCTGCCGGCGCTCACCATCAACC...</td>\n",
       "      <td>1</td>\n",
       "      <td>[0 3 2 ... 3 2 0]</td>\n",
       "      <td>[2, 2, 4, 6, 7, 2, 8, 7, 3, 7, 3, 6, 5, 7, 4, ...</td>\n",
       "      <td>1203</td>\n",
       "      <td>709</td>\n",
       "      <td>494</td>\n",
       "      <td>20019</td>\n",
       "      <td>8792</td>\n",
       "      <td>[-1, -1, -1, -1, -1, -1, -1, -1, -1, -1, -1, -...</td>\n",
       "      <td>[-1, -1, -1, -1, -1, -1, -1, -1, -1, -1, -1, -...</td>\n",
       "    </tr>\n",
       "    <tr>\n",
       "      <th>499</th>\n",
       "      <td>DB02674</td>\n",
       "      <td>BE0002223</td>\n",
       "      <td>2968968094 1689898788 2976033787 3987247535 29...</td>\n",
       "      <td>ATGGCGGCAGCGGCGGTGACAGGCCAGCGGCCTGAGACCGCGGCGG...</td>\n",
       "      <td>0</td>\n",
       "      <td>[0 3 2 ... 3 2 0]</td>\n",
       "      <td>[2, 9, 6, 8, 9, 6, 8, 0, 9, 4, 1, 6, 8, 9, 8, ...</td>\n",
       "      <td>1692</td>\n",
       "      <td>294</td>\n",
       "      <td>1398</td>\n",
       "      <td>19530</td>\n",
       "      <td>9207</td>\n",
       "      <td>[-1, -1, -1, -1, -1, -1, -1, -1, -1, -1, -1, -...</td>\n",
       "      <td>[-1, -1, -1, -1, -1, -1, -1, -1, -1, -1, -1, -...</td>\n",
       "    </tr>\n",
       "  </tbody>\n",
       "</table>\n",
       "<p>500 rows × 14 columns</p>\n",
       "</div>"
      ],
      "text/plain": [
       "     drug_id    gene_id                              drug_fingerprint_code  \\\n",
       "0    DB01045  BE0003971  2246728737 1858577693 2976033787 2673417767 32...   \n",
       "1    DB00155  BE0001092  2245384272 1510461303 2245384272 1583799011 22...   \n",
       "2    DB11731  BE0002161  2246728737 3542456614 2245384272 1506563592 22...   \n",
       "3    DB02095  BE0000009  3218693969 98513984 3218693969 98513984 321869...   \n",
       "4    DB01094  BE0000105  2246728737 3975275337 864674487 2076190208 321...   \n",
       "..       ...        ...                                                ...   \n",
       "495  DB04185  BE0003634  2246728737 3542456614 2245384272 1173125914 22...   \n",
       "496  DB02685  BE0000939  2246728737 422715066 3217380708 3207567135 321...   \n",
       "497  DB02671  BE0004177  2246728737 3657558689 2092554703 3892830899 32...   \n",
       "498  DB06616  BE0004744  2246728737 3657471097 2092489639 2021812431 29...   \n",
       "499  DB02674  BE0002223  2968968094 1689898788 2976033787 3987247535 29...   \n",
       "\n",
       "                                      target_gene_code  Y  \\\n",
       "0    ATGAAAAAGTTAACAGTGGCGGCTTTGGCAGTAACAACTCTTCTCT...  0   \n",
       "1    ATGGCCCAGGGGACATTGATCCGTGTGACCCCAGAGCAGCCCACCC...  1   \n",
       "2    ATGGACGCGTCCCTGGAGAAGATAGCAGACCCCACGTTAGCTGAAA...  0   \n",
       "3    ATGGCGAACGAGGTTATCAAGTGCAAGGCTGCAGTTGCTTGGGAGG...  0   \n",
       "4    ATGGAATTGAAGCCATTTTTTATGAAGGAAGTTGGCAGTCACTTTG...  1   \n",
       "..                                                 ... ..   \n",
       "495  ATGTTGTTCTCCGCCCTCCTGCTGGAGGTGATTTGGATCCTGGCTG...  0   \n",
       "496  ATGTGGCAGCTCTGGGCCTCCCTCTGCTGCCTGCTGGTGTTGGCCA...  1   \n",
       "497  ATGGCACTGCTCAGCTTCGAGCGAAAATATCGCGTGCCGGGGGGCA...  0   \n",
       "498  ATGCTGGCCCGGAGGAAGCCGGTGCTGCCGGCGCTCACCATCAACC...  1   \n",
       "499  ATGGCGGCAGCGGCGGTGACAGGCCAGCGGCCTGAGACCGCGGCGG...  0   \n",
       "\n",
       "                                   target_gene_encoded  \\\n",
       "0    [0 3 2 0 0 0 0 0 2 3 3 0 0 1 0 2 3 2 2 1 2 2 1...   \n",
       "1                                    [0 3 2 ... 3 2 0]   \n",
       "2                                    [0 3 2 ... 3 2 0]   \n",
       "3                                    [0 3 2 ... 3 0 0]   \n",
       "4                                    [0 3 2 ... 3 0 2]   \n",
       "..                                                 ...   \n",
       "495                                  [0 3 2 ... 3 0 0]   \n",
       "496                                  [0 3 2 ... 3 0 0]   \n",
       "497  [0 3 2 2 1 0 1 3 2 1 3 1 0 2 1 3 3 1 2 0 2 1 2...   \n",
       "498                                  [0 3 2 ... 3 2 0]   \n",
       "499                                  [0 3 2 ... 3 2 0]   \n",
       "\n",
       "                              drug_fingerprint_encoded  \\\n",
       "0    [2, 2, 4, 6, 7, 2, 8, 7, 3, 7, 1, 8, 5, 8, 5, ...   \n",
       "1    [2, 2, 4, 5, 3, 8, 4, 2, 7, 2, 1, 5, 1, 0, 4, ...   \n",
       "2    [2, 2, 4, 6, 7, 2, 8, 7, 3, 7, 3, 5, 4, 2, 4, ...   \n",
       "3    [3, 2, 1, 8, 6, 9, 3, 9, 6, 9, 9, 8, 5, 1, 3, ...   \n",
       "4    [2, 2, 4, 6, 7, 2, 8, 7, 3, 7, 3, 9, 7, 5, 2, ...   \n",
       "..                                                 ...   \n",
       "495  [2, 2, 4, 6, 7, 2, 8, 7, 3, 7, 3, 5, 4, 2, 4, ...   \n",
       "496  [2, 2, 4, 6, 7, 2, 8, 7, 3, 7, 4, 2, 2, 7, 1, ...   \n",
       "497  [2, 2, 4, 6, 7, 2, 8, 7, 3, 7, 3, 6, 5, 7, 5, ...   \n",
       "498  [2, 2, 4, 6, 7, 2, 8, 7, 3, 7, 3, 6, 5, 7, 4, ...   \n",
       "499  [2, 9, 6, 8, 9, 6, 8, 0, 9, 4, 1, 6, 8, 9, 8, ...   \n",
       "\n",
       "     target_gene_encoded_len  drug_fingerprint_encoded_len  mismatch  \\\n",
       "0                        639                          1144      -505   \n",
       "1                       1992                           232      1760   \n",
       "2                       2286                          1282      1004   \n",
       "3                       1125                           207       918   \n",
       "4                       1479                           420      1059   \n",
       "..                       ...                           ...       ...   \n",
       "495                     1014                           157       857   \n",
       "496                     1020                           249       771   \n",
       "497                      849                           119       730   \n",
       "498                     1203                           709       494   \n",
       "499                     1692                           294      1398   \n",
       "\n",
       "     target_gene_encoded_mismatch  drug_fingerprint_encoded_mismatch  \\\n",
       "0                           20583                               8357   \n",
       "1                           19230                               9269   \n",
       "2                           18936                               8219   \n",
       "3                           20097                               9294   \n",
       "4                           19743                               9081   \n",
       "..                            ...                                ...   \n",
       "495                         20208                               9344   \n",
       "496                         20202                               9252   \n",
       "497                         20373                               9382   \n",
       "498                         20019                               8792   \n",
       "499                         19530                               9207   \n",
       "\n",
       "                            target_gene_encoded_padded  \\\n",
       "0    [-1, -1, -1, -1, -1, -1, -1, -1, -1, -1, -1, -...   \n",
       "1    [-1, -1, -1, -1, -1, -1, -1, -1, -1, -1, -1, -...   \n",
       "2    [-1, -1, -1, -1, -1, -1, -1, -1, -1, -1, -1, -...   \n",
       "3    [-1, -1, -1, -1, -1, -1, -1, -1, -1, -1, -1, -...   \n",
       "4    [-1, -1, -1, -1, -1, -1, -1, -1, -1, -1, -1, -...   \n",
       "..                                                 ...   \n",
       "495  [-1, -1, -1, -1, -1, -1, -1, -1, -1, -1, -1, -...   \n",
       "496  [-1, -1, -1, -1, -1, -1, -1, -1, -1, -1, -1, -...   \n",
       "497  [-1, -1, -1, -1, -1, -1, -1, -1, -1, -1, -1, -...   \n",
       "498  [-1, -1, -1, -1, -1, -1, -1, -1, -1, -1, -1, -...   \n",
       "499  [-1, -1, -1, -1, -1, -1, -1, -1, -1, -1, -1, -...   \n",
       "\n",
       "                       drug_fingerprint_encoded_padded  \n",
       "0    [-1, -1, -1, -1, -1, -1, -1, -1, -1, -1, -1, -...  \n",
       "1    [-1, -1, -1, -1, -1, -1, -1, -1, -1, -1, -1, -...  \n",
       "2    [-1, -1, -1, -1, -1, -1, -1, -1, -1, -1, -1, -...  \n",
       "3    [-1, -1, -1, -1, -1, -1, -1, -1, -1, -1, -1, -...  \n",
       "4    [-1, -1, -1, -1, -1, -1, -1, -1, -1, -1, -1, -...  \n",
       "..                                                 ...  \n",
       "495  [-1, -1, -1, -1, -1, -1, -1, -1, -1, -1, -1, -...  \n",
       "496  [-1, -1, -1, -1, -1, -1, -1, -1, -1, -1, -1, -...  \n",
       "497  [-1, -1, -1, -1, -1, -1, -1, -1, -1, -1, -1, -...  \n",
       "498  [-1, -1, -1, -1, -1, -1, -1, -1, -1, -1, -1, -...  \n",
       "499  [-1, -1, -1, -1, -1, -1, -1, -1, -1, -1, -1, -...  \n",
       "\n",
       "[500 rows x 14 columns]"
      ]
     },
     "execution_count": 5,
     "metadata": {},
     "output_type": "execute_result"
    }
   ],
   "source": [
    "drugbank"
   ]
  },
  {
   "cell_type": "raw",
   "metadata": {},
   "source": [
    "label_encoder = LabelEncoder()\n",
    "label_encoder.fit(list(drugbank['target_gene_code'].iloc[0]))\n",
    "\n",
    "with open('data/gene_encoder.pkl', 'wb') as f:\n",
    "    pkl.dump(label_encoder, f)\n",
    "    \n",
    "gene_chars = set(list(drugbank['target_gene_code'].iloc[0]))\n"
   ]
  },
  {
   "cell_type": "code",
   "execution_count": 11,
   "metadata": {},
   "outputs": [],
   "source": [
    "hidden_dims = 512\n",
    "hidden_dims_2 = 128\n",
    "hidden_dims_3 = 32\n",
    "batch_size = 25\n",
    "epochs = 5\n",
    "#model_optimizer = tensorflow.keras.optimizers.Nadam(lr=0.1, beta_1=0.8, beta_2=0.999)\n",
    "model_optimizer = tensorflow.keras.optimizers.Adam(lr=0.005, beta_1=0.9, beta_2=0.999, amsgrad=False)\n",
    "model = Sequential()\n",
    "\n",
    "#model.add(Dropout(0.2))\n",
    "model.add(Conv1D(800,\n",
    "                 100,\n",
    "                 strides=4,\n",
    "                 activation='relu'))\n",
    "\n",
    "\n",
    "model.add(Conv1D(200,\n",
    "                 100,\n",
    "                 strides=2,\n",
    "                 activation='relu'))\n",
    "\n",
    "\n",
    "model.add(Conv1D(100,\n",
    "                 20,\n",
    "                 strides=1,\n",
    "                 activation='relu'))\n",
    "\n",
    "model.add(GlobalAveragePooling1D())\n",
    "\n",
    "model.add(Dense(hidden_dims))\n",
    "model.add(Dropout(0.0))\n",
    "model.add(Activation('relu'))\n",
    "\n",
    "model.add(Dense(hidden_dims_2))\n",
    "model.add(Dropout(0.0))\n",
    "model.add(Activation('relu'))\n",
    "\n",
    "model.add(Dense(hidden_dims_3))\n",
    "model.add(Dropout(0.1))\n",
    "model.add(Activation('relu'))\n",
    "\n",
    "model.add(Dense(hidden_dims_2))\n",
    "model.add(Dropout(0.0))\n",
    "model.add(Activation('relu'))\n",
    "\n",
    "model.add(Dense(1))\n",
    "model.add(Activation('sigmoid'))\n",
    "\n",
    "model.compile(loss='binary_crossentropy',\n",
    "              optimizer=model_optimizer,\n",
    "              metrics=['binary_accuracy'])\n",
    "\n",
    "trim_width = 0\n",
    "#train_df_all, test_df_all = train_test_split(drugbank)"
   ]
  },
  {
   "cell_type": "code",
   "execution_count": 12,
   "metadata": {
    "scrolled": false
   },
   "outputs": [
    {
     "data": {
      "image/png": "[encoded data removed]",
      "text/plain": [
       "<Figure size 432x288 with 1 Axes>"
      ]
     },
     "metadata": {
      "needs_background": "light"
     },
     "output_type": "display_data"
    },
    {
     "data": {
      "image/png": "[encoded data removed]",
      "text/plain": [
       "<Figure size 432x288 with 1 Axes>"
      ]
     },
     "metadata": {
      "needs_background": "light"
     },
     "output_type": "display_data"
    },
    {
     "name": "stdout",
     "output_type": "stream",
     "text": [
      "375/375 [==============================] - 100s 266ms/step - loss: 0.6488 - binary_accuracy: 0.6480 - val_loss: 0.7068 - val_binary_accuracy: 0.5520\n",
      "Reading chunk from file..\n",
      "Sampling..\n",
      "Padding..\n",
      "(375, 21222)\n",
      "(375, 9501)\n",
      "(125, 21222)\n",
      "(125, 9501)\n",
      "Trimming..\n",
      "(375, 21222)\n",
      "(375, 9501)\n",
      "(125, 21222)\n",
      "(125, 9501)\n",
      "Modelling..\n",
      "(375, 30723)\n",
      "(375, 9501)\n",
      "(125, 30723)\n",
      "(125, 9501)\n",
      "Train on 375 samples, validate on 125 samples\n",
      "Epoch 1/5\n",
      " 75/375 [=====>........................] - ETA: 1:11 - loss: 0.7095 - binary_accuracy: 0.5467"
     ]
    },
    {
     "ename": "KeyboardInterrupt",
     "evalue": "",
     "output_type": "error",
     "traceback": [
      "\u001b[0;31m---------------------------------------------------------------------------\u001b[0m",
      "\u001b[0;31mKeyboardInterrupt\u001b[0m                         Traceback (most recent call last)",
      "\u001b[0;32m<ipython-input-12-d9dd21c9f438>\u001b[0m in \u001b[0;36m<module>\u001b[0;34m\u001b[0m\n\u001b[1;32m     73\u001b[0m                           \u001b[0mepochs\u001b[0m\u001b[0;34m=\u001b[0m\u001b[0mepochs\u001b[0m\u001b[0;34m,\u001b[0m\u001b[0;34m\u001b[0m\u001b[0m\n\u001b[1;32m     74\u001b[0m                           \u001b[0mcallbacks\u001b[0m\u001b[0;34m=\u001b[0m\u001b[0;34m[\u001b[0m\u001b[0mplot_losses\u001b[0m\u001b[0;34m]\u001b[0m\u001b[0;34m,\u001b[0m\u001b[0;34m\u001b[0m\u001b[0m\n\u001b[0;32m---> 75\u001b[0;31m                           validation_data=(X_0_test[..., np.newaxis], Y_test))\n\u001b[0m\u001b[1;32m     76\u001b[0m \u001b[0;34m\u001b[0m\u001b[0m\n\u001b[1;32m     77\u001b[0m \u001b[0;34m\u001b[0m\u001b[0m\n",
      "\u001b[0;32m/miniconda/lib/python3.6/site-packages/tensorflow/python/keras/engine/training.py\u001b[0m in \u001b[0;36mfit\u001b[0;34m(self, x, y, batch_size, epochs, verbose, callbacks, validation_split, validation_data, shuffle, class_weight, sample_weight, initial_epoch, steps_per_epoch, validation_steps, max_queue_size, workers, use_multiprocessing, **kwargs)\u001b[0m\n\u001b[1;32m   1637\u001b[0m           \u001b[0minitial_epoch\u001b[0m\u001b[0;34m=\u001b[0m\u001b[0minitial_epoch\u001b[0m\u001b[0;34m,\u001b[0m\u001b[0;34m\u001b[0m\u001b[0m\n\u001b[1;32m   1638\u001b[0m           \u001b[0msteps_per_epoch\u001b[0m\u001b[0;34m=\u001b[0m\u001b[0msteps_per_epoch\u001b[0m\u001b[0;34m,\u001b[0m\u001b[0;34m\u001b[0m\u001b[0m\n\u001b[0;32m-> 1639\u001b[0;31m           validation_steps=validation_steps)\n\u001b[0m\u001b[1;32m   1640\u001b[0m \u001b[0;34m\u001b[0m\u001b[0m\n\u001b[1;32m   1641\u001b[0m   def evaluate(self,\n",
      "\u001b[0;32m/miniconda/lib/python3.6/site-packages/tensorflow/python/keras/engine/training_arrays.py\u001b[0m in \u001b[0;36mfit_loop\u001b[0;34m(model, inputs, targets, sample_weights, batch_size, epochs, verbose, callbacks, val_inputs, val_targets, val_sample_weights, shuffle, initial_epoch, steps_per_epoch, validation_steps)\u001b[0m\n\u001b[1;32m    213\u001b[0m           \u001b[0mins_batch\u001b[0m\u001b[0;34m[\u001b[0m\u001b[0mi\u001b[0m\u001b[0;34m]\u001b[0m \u001b[0;34m=\u001b[0m \u001b[0mins_batch\u001b[0m\u001b[0;34m[\u001b[0m\u001b[0mi\u001b[0m\u001b[0;34m]\u001b[0m\u001b[0;34m.\u001b[0m\u001b[0mtoarray\u001b[0m\u001b[0;34m(\u001b[0m\u001b[0;34m)\u001b[0m\u001b[0;34m\u001b[0m\u001b[0m\n\u001b[1;32m    214\u001b[0m \u001b[0;34m\u001b[0m\u001b[0m\n\u001b[0;32m--> 215\u001b[0;31m         \u001b[0mouts\u001b[0m \u001b[0;34m=\u001b[0m \u001b[0mf\u001b[0m\u001b[0;34m(\u001b[0m\u001b[0mins_batch\u001b[0m\u001b[0;34m)\u001b[0m\u001b[0;34m\u001b[0m\u001b[0m\n\u001b[0m\u001b[1;32m    216\u001b[0m         \u001b[0;32mif\u001b[0m \u001b[0;32mnot\u001b[0m \u001b[0misinstance\u001b[0m\u001b[0;34m(\u001b[0m\u001b[0mouts\u001b[0m\u001b[0;34m,\u001b[0m \u001b[0mlist\u001b[0m\u001b[0;34m)\u001b[0m\u001b[0;34m:\u001b[0m\u001b[0;34m\u001b[0m\u001b[0m\n\u001b[1;32m    217\u001b[0m           \u001b[0mouts\u001b[0m \u001b[0;34m=\u001b[0m \u001b[0;34m[\u001b[0m\u001b[0mouts\u001b[0m\u001b[0;34m]\u001b[0m\u001b[0;34m\u001b[0m\u001b[0m\n",
      "\u001b[0;32m/miniconda/lib/python3.6/site-packages/tensorflow/python/keras/backend.py\u001b[0m in \u001b[0;36m__call__\u001b[0;34m(self, inputs)\u001b[0m\n\u001b[1;32m   2984\u001b[0m \u001b[0;34m\u001b[0m\u001b[0m\n\u001b[1;32m   2985\u001b[0m     fetched = self._callable_fn(*array_vals,\n\u001b[0;32m-> 2986\u001b[0;31m                                 run_metadata=self.run_metadata)\n\u001b[0m\u001b[1;32m   2987\u001b[0m     \u001b[0mself\u001b[0m\u001b[0;34m.\u001b[0m\u001b[0m_call_fetch_callbacks\u001b[0m\u001b[0;34m(\u001b[0m\u001b[0mfetched\u001b[0m\u001b[0;34m[\u001b[0m\u001b[0;34m-\u001b[0m\u001b[0mlen\u001b[0m\u001b[0;34m(\u001b[0m\u001b[0mself\u001b[0m\u001b[0;34m.\u001b[0m\u001b[0m_fetches\u001b[0m\u001b[0;34m)\u001b[0m\u001b[0;34m:\u001b[0m\u001b[0;34m]\u001b[0m\u001b[0;34m)\u001b[0m\u001b[0;34m\u001b[0m\u001b[0m\n\u001b[1;32m   2988\u001b[0m     \u001b[0;32mreturn\u001b[0m \u001b[0mfetched\u001b[0m\u001b[0;34m[\u001b[0m\u001b[0;34m:\u001b[0m\u001b[0mlen\u001b[0m\u001b[0;34m(\u001b[0m\u001b[0mself\u001b[0m\u001b[0;34m.\u001b[0m\u001b[0moutputs\u001b[0m\u001b[0;34m)\u001b[0m\u001b[0;34m]\u001b[0m\u001b[0;34m\u001b[0m\u001b[0m\n",
      "\u001b[0;32m/miniconda/lib/python3.6/site-packages/tensorflow/python/client/session.py\u001b[0m in \u001b[0;36m__call__\u001b[0;34m(self, *args, **kwargs)\u001b[0m\n\u001b[1;32m   1437\u001b[0m           ret = tf_session.TF_SessionRunCallable(\n\u001b[1;32m   1438\u001b[0m               \u001b[0mself\u001b[0m\u001b[0;34m.\u001b[0m\u001b[0m_session\u001b[0m\u001b[0;34m.\u001b[0m\u001b[0m_session\u001b[0m\u001b[0;34m,\u001b[0m \u001b[0mself\u001b[0m\u001b[0;34m.\u001b[0m\u001b[0m_handle\u001b[0m\u001b[0;34m,\u001b[0m \u001b[0margs\u001b[0m\u001b[0;34m,\u001b[0m \u001b[0mstatus\u001b[0m\u001b[0;34m,\u001b[0m\u001b[0;34m\u001b[0m\u001b[0m\n\u001b[0;32m-> 1439\u001b[0;31m               run_metadata_ptr)\n\u001b[0m\u001b[1;32m   1440\u001b[0m         \u001b[0;32mif\u001b[0m \u001b[0mrun_metadata\u001b[0m\u001b[0;34m:\u001b[0m\u001b[0;34m\u001b[0m\u001b[0m\n\u001b[1;32m   1441\u001b[0m           \u001b[0mproto_data\u001b[0m \u001b[0;34m=\u001b[0m \u001b[0mtf_session\u001b[0m\u001b[0;34m.\u001b[0m\u001b[0mTF_GetBuffer\u001b[0m\u001b[0;34m(\u001b[0m\u001b[0mrun_metadata_ptr\u001b[0m\u001b[0;34m)\u001b[0m\u001b[0;34m\u001b[0m\u001b[0m\n",
      "\u001b[0;31mKeyboardInterrupt\u001b[0m: "
     ]
    },
    {
     "data": {
      "text/plain": [
       "<Figure size 432x288 with 0 Axes>"
      ]
     },
     "metadata": {},
     "output_type": "display_data"
    }
   ],
   "source": [
    "global_history = []\n",
    "\n",
    "with open('data/gene_encoder.pkl', 'rb') as f:\n",
    "    label_encoder = pkl.load(f)\n",
    "\n",
    "for drugbank in tqdm(drugbank_reader):\n",
    "    \n",
    "    \n",
    "    print('Reading chunk from file..')\n",
    "    #drugbank = drugbank_reader.__next__()\n",
    "    \n",
    "    #drugbank['target_gene_encoded'] = drugbank['target_gene_code'].progress_apply(\\\n",
    "    #                                   lambda x: label_encoder.transform([i for i in list(x) if i in gene_chars]))\n",
    "    #drugbank['drug_fingerprint_encoded'] = drugbank['drug_fingerprint_code'].progress_apply(lambda x: [int(i) for i in x.replace(' ', '')])\n",
    "\n",
    "    \n",
    "    print('Sampling..')\n",
    "    train_df, test_df = train_test_split(drugbank)\n",
    "    \n",
    "    print('Padding..') \n",
    "    X_0 = np.array(list(train_df['target_gene_encoded_padded']))\n",
    "    X_1 = np.array(list(train_df['drug_fingerprint_encoded_padded']))\n",
    "    Y   = np.array(list(train_df['Y']))\n",
    "    \n",
    "\n",
    "    X_0_test = np.array(list(test_df['target_gene_encoded_padded']))\n",
    "    X_1_test = np.array(list(test_df['drug_fingerprint_encoded_padded']))\n",
    "        \n",
    "    Y_test   = np.array(list(test_df['Y']))\n",
    "    \n",
    "    print(X_0.shape)\n",
    "    print(X_1.shape)\n",
    "    \n",
    "    print(X_0_test.shape)\n",
    "    print(X_1_test.shape)\n",
    "\n",
    "    print('Trimming..')\n",
    "    X_0 = X_0[:, int(trim_width/2) : X_0.shape[1] - int(trim_width/2)]\n",
    "    X_1 = X_1[:, int(trim_width/2) : X_1.shape[1] - int(trim_width/2)]\n",
    "    \n",
    "    X_0_test = X_0_test[:, int(trim_width/2) : X_0_test.shape[1] - int(trim_width/2)]\n",
    "    X_1_test = X_1_test[:, int(trim_width/2) : X_1_test.shape[1] - int(trim_width/2)]\n",
    "    \n",
    "\n",
    "    X_0 = X_0.astype(int) + 1\n",
    "    X_1 = X_1.astype(int) + 1\n",
    "    Y   = Y.astype(int)\n",
    "\n",
    "    X_0_test = X_0_test.astype(int) + 1\n",
    "    X_1_test = X_1_test.astype(int) + 1\n",
    "    Y_test   = Y_test.astype(int)\n",
    "    \n",
    "    print(X_0.shape)\n",
    "    print(X_1.shape)\n",
    "    \n",
    "    print(X_0_test.shape)\n",
    "    print(X_1_test.shape)\n",
    "\n",
    "\n",
    "    X_0 = np.hstack((X_0, X_1))\n",
    "    X_0_test = np.hstack((X_0_test, X_1_test))\n",
    "\n",
    "    print('Modelling..')\n",
    "    \n",
    "    print(X_0.shape)\n",
    "    print(X_1.shape)\n",
    "    \n",
    "    print(X_0_test.shape)\n",
    "    print(X_1_test.shape)\n",
    "    \n",
    "    history = model.fit(X_0[..., np.newaxis], Y,\n",
    "                          batch_size=batch_size,\n",
    "                          epochs=epochs,\n",
    "                          callbacks=[plot_losses],\n",
    "                          validation_data=(X_0_test[..., np.newaxis], Y_test))\n",
    "\n",
    "\n",
    "    global_history.extend(history.history['binary_accuracy'])"
   ]
  },
  {
   "cell_type": "code",
   "execution_count": 40,
   "metadata": {},
   "outputs": [
    {
     "data": {
      "text/plain": [
       "(array([230.,   0.,   0.,   0.,   0.,   0.,   0.,   0.,   0., 145.]),\n",
       " array([0. , 0.1, 0.2, 0.3, 0.4, 0.5, 0.6, 0.7, 0.8, 0.9, 1. ]),\n",
       " <a list of 10 Patch objects>)"
      ]
     },
     "execution_count": 40,
     "metadata": {},
     "output_type": "execute_result"
    },
    {
     "data": {
      "image/png": "[encoded data removed]",
      "text/plain": [
       "<Figure size 432x288 with 1 Axes>"
      ]
     },
     "metadata": {
      "needs_background": "light"
     },
     "output_type": "display_data"
    }
   ],
   "source": [
    "plt.hist(Y)"
   ]
  },
  {
   "cell_type": "code",
   "execution_count": 63,
   "metadata": {},
   "outputs": [
    {
     "name": "stdout",
     "output_type": "stream",
     "text": [
      "WARNING:tensorflow:This model was compiled with a Keras optimizer (<tensorflow.python.keras.optimizers.Adam object at 0x7f2e9467b710>) but is being saved in TensorFlow format with `save_weights`. The model's weights will be saved, but unlike with TensorFlow optimizers in the TensorFlow format the optimizer's state will not be saved.\n",
      "\n",
      "Consider using a TensorFlow optimizer from `tf.train`.\n"
     ]
    }
   ],
   "source": [
    "model.save_weights('models/CNN_GPU_60p.model')"
   ]
  },
  {
   "cell_type": "code",
   "execution_count": 45,
   "metadata": {},
   "outputs": [
    {
     "data": {
      "text/plain": [
       "'1.12.0'"
      ]
     },
     "execution_count": 45,
     "metadata": {},
     "output_type": "execute_result"
    }
   ],
   "source": [
    "tf.__version__"
   ]
  },
  {
   "cell_type": "code",
   "execution_count": null,
   "metadata": {},
   "outputs": [],
   "source": []
  }
 ],
 "metadata": {
  "kernelspec": {
   "display_name": "Python 3",
   "language": "python",
   "name": "python3"
  },
  "language_info": {
   "codemirror_mode": {
    "name": "ipython",
    "version": 3
   },
   "file_extension": ".py",
   "mimetype": "text/x-python",
   "name": "python",
   "nbconvert_exporter": "python",
   "pygments_lexer": "ipython3",
   "version": "3.6.6"
  }
 },
 "nbformat": 4,
 "nbformat_minor": 2
}
